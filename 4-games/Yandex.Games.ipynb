{
 "cells": [
  {
   "cell_type": "markdown",
   "metadata": {
    "id": "clqDGmD6aVXl"
   },
   "source": [
    "# Исследование рынка игр\n",
    "\n",
    "Данное ставит перед собой цели:\n",
    "\n",
    "* Исследовать закономерности среди наиболее успешных игр\n",
    "\n",
    "\n",
    "* Сравнить продажи среди разных платформ и жанров\n",
    "\n",
    "\n",
    "* Определить наиболее сильные признаки успешных видеоигр\n",
    "\n",
    "Это поможет сделать ставку на потенциально популярных играх и спланировать рекламные компании. \n",
    "\n",
    "Исследование базируется на исторических данных из открытых источников.\n",
    "\n",
    "\n",
    "**Структура данных:**\n",
    "\n",
    "\n",
    "Информация о продажах видеоигр хранится в файле `games_data.csv`:\n",
    "\n",
    "\n",
    "* `Name` — название видеоигры\n",
    "\n",
    "\n",
    "* `Platform` — платформа\n",
    "\n",
    "\n",
    "* `Year_of_Release` — год выпуска\n",
    "\n",
    "\n",
    "* `Genre` — жанр\n",
    "\n",
    "\n",
    "* `NA_sales` — продажи в Северной Америке (миллионы проданных копий)\n",
    "\n",
    "\n",
    "* `EU_sales` — продажи в Европе (миллионы проданных копий)\n",
    "\n",
    "\n",
    "* `JP_sales` — продажи в Японии (миллионы проданных копий)\n",
    "\n",
    "\n",
    "* `Other_sales` — продажи в других странах (миллионы проданных копий)\n",
    "\n",
    "\n",
    "* `Critic_Score` — оценка критиков (максимум 100)\n",
    "\n",
    "\n",
    "* `User_Score` — оценка пользователей (максимум 10)\n",
    "\n",
    "\n",
    "* `Rating` — возрастной рейтинг от организации ESRB \n",
    "\n",
    "**План:**\n",
    "\n",
    "<div class=\"toc\">\n",
    "   <ul class=\"toc-item\">\n",
    "      <li><span><a href=\"#Setup\" data-toc-modified-id=\"Setup-2\">Setup</a></span></li>\n",
    "      <li><span><a href=\"#Предобработка-данных\" data-toc-modified-id=\"Предобработка-данных-3\">Предобработка данных</a></span></li>\n",
    "      <li><span><a href=\"#Исследовательский-анализ-данных\" data-toc-modified-id=\"Исследовательский-анализ-данных-4\">Исследовательский анализ данных</a></span></li>\n",
    "      <li>\n",
    "         <span><a href=\"#Тестирование-гипотез\" data-toc-modified-id=\"Тестирование-гипотез-5\">Тестирование гипотез</a></span>\n",
    "         <ul class=\"toc-item\">\n",
    "            <li><span><a href=\"#Средние-пользовательские-рейтинги-платформ-Xbox-One-и-PC-одинаковые\" data-toc-modified-id=\"Средние-пользовательские-рейтинги-платформ-Xbox-One-и-PC-одинаковые-5.1\">Средние пользовательские рейтинги платформ Xbox One и PC одинаковые</a></span></li>\n",
    "            <li><span><a href=\"#Средние-пользовательские-рейтинги-жанров-Action-и-Sports-разные.\" data-toc-modified-id=\"Средние-пользовательские-рейтинги-жанров-Action-и-Sports-разные.-5.2\">Средние пользовательские рейтинги жанров Action и Sports разные.</a></span></li>\n",
    "         </ul>\n",
    "      </li>\n",
    "      <li><span><a href=\"#Важность-признаков\" data-toc-modified-id=\"Важность-признаков-6\">Важность признаков</a></span></li>\n",
    "      <li><span><a href=\"#Итог\" data-toc-modified-id=\"Итог-7\">Итог</a></span></li>\n",
    "   </ul>\n",
    "</div>"
   ]
  },
  {
   "cell_type": "markdown",
   "metadata": {
    "id": "S00SefqwaSjX"
   },
   "source": [
    "# Setup"
   ]
  },
  {
   "cell_type": "code",
   "execution_count": null,
   "metadata": {
    "ExecuteTime": {
     "end_time": "2022-10-18T10:30:36.280544Z",
     "start_time": "2022-10-18T10:30:34.203609Z"
    },
    "id": "8D4-fXuPYxt9"
   },
   "outputs": [],
   "source": [
    "import warnings\n",
    "\n",
    "import ipywidgets as widgets\n",
    "from ipywidgets import interact, interact_manual\n",
    "\n",
    "import numpy as np\n",
    "import pandas as pd\n",
    "\n",
    "from matplotlib_inline.backend_inline import set_matplotlib_formats\n",
    "\n",
    "import plotly.express as px\n",
    "import plotly.figure_factory as ff\n",
    "import plotly.io as pio\n",
    "from plotly.subplots import make_subplots\n",
    "\n",
    "import shap\n",
    "\n",
    "from catboost import CatBoostRegressor, Pool, cv\n",
    "\n",
    "from scipy import stats\n",
    "from scipy.optimize import curve_fit\n",
    "\n",
    "from sklearn.inspection import permutation_importance\n",
    "from sklearn.metrics import mean_absolute_error, r2_score\n",
    "from sklearn.model_selection import ShuffleSplit, train_test_split"
   ]
  },
  {
   "cell_type": "code",
   "execution_count": null,
   "metadata": {
    "ExecuteTime": {
     "end_time": "2022-10-18T10:30:36.567304Z",
     "start_time": "2022-10-18T10:30:36.282321Z"
    },
    "id": "2xLCEAIDZse6"
   },
   "outputs": [],
   "source": [
    "warnings.simplefilter(\"ignore\", FutureWarning)\n",
    "np.random.seed(42)\n",
    "pd.set_option(\"display.float_format\", \"{:.2f}\".format)\n",
    "set_matplotlib_formats(\"svg\")\n",
    "pio.templates.default = \"plotly_white\"\n",
    "pio.templates[\"plotly_white\"][\"layout\"][\"font\"] = {\"color\": \"#2a3f5f\", \"size\": 14}\n",
    "shap.initjs()"
   ]
  },
  {
   "cell_type": "markdown",
   "metadata": {
    "id": "yvSB0MoxaaQS"
   },
   "source": [
    "# Предобработка данных"
   ]
  },
  {
   "cell_type": "code",
   "execution_count": null,
   "metadata": {
    "ExecuteTime": {
     "end_time": "2022-10-18T10:30:36.598278Z",
     "start_time": "2022-10-18T10:30:36.568671Z"
    },
    "colab": {
     "base_uri": "https://localhost:8080/",
     "height": 419
    },
    "id": "LQ2DTzeWZdaR",
    "outputId": "a14c3cca-f257-4a10-e76a-527b83b8f3e5"
   },
   "outputs": [],
   "source": [
    "data = pd.read_csv(\"games_data.csv\")\n",
    "data"
   ]
  },
  {
   "cell_type": "markdown",
   "metadata": {},
   "source": [
    "В столбце `User_Score` встречается аббревиатура tbd - to be determined, будем считать ее как пропущенное значение."
   ]
  },
  {
   "cell_type": "code",
   "execution_count": null,
   "metadata": {
    "ExecuteTime": {
     "end_time": "2022-10-18T10:30:36.619154Z",
     "start_time": "2022-10-18T10:30:36.600355Z"
    },
    "id": "PJPW_oN6el7m"
   },
   "outputs": [],
   "source": [
    "data.columns = data.columns.str.lower()\n",
    "data = data.replace(\"tbd\", np.nan).apply(pd.to_numeric, downcast=\"float\", errors=\"ignore\")\n",
    "data[\"decade_of_release\"] = pd.cut(data[\"year_of_release\"], range(1979, 2029, 10), labels=[\"1980s\", \"1990s\", \"2000s\", \"2010s\"])\n",
    "data[\"total_sales\"] = data[\"na_sales\"] + data[\"eu_sales\"] + data[\"jp_sales\"] + data[\"other_sales\"]"
   ]
  },
  {
   "cell_type": "code",
   "execution_count": null,
   "metadata": {
    "ExecuteTime": {
     "end_time": "2022-10-18T10:30:36.643665Z",
     "start_time": "2022-10-18T10:30:36.620358Z"
    },
    "colab": {
     "base_uri": "https://localhost:8080/"
    },
    "id": "J9IjckESesH2",
    "outputId": "8f75e1a5-d8fc-4584-cba9-97a24d7e4e6c"
   },
   "outputs": [],
   "source": [
    "data.info(memory_usage=\"deep\")"
   ]
  },
  {
   "cell_type": "code",
   "execution_count": null,
   "metadata": {
    "ExecuteTime": {
     "end_time": "2022-10-18T10:30:36.666537Z",
     "start_time": "2022-10-18T10:30:36.645040Z"
    },
    "colab": {
     "base_uri": "https://localhost:8080/",
     "height": 452
    },
    "id": "8vB2aCH4e-Tg",
    "outputId": "aebbe06c-b312-4589-9485-081a142d5473"
   },
   "outputs": [],
   "source": [
    "data.isna().agg([\"sum\", \"mean\"]).T.rename_axis(\"missing values\", axis=1)"
   ]
  },
  {
   "cell_type": "markdown",
   "metadata": {},
   "source": [
    "Посмотрим, откуда берутся пропуски в оценках критиков и игроков. Возможно, на раннем этапе развития видеоигр мало кто оставлял отзывы и оценки."
   ]
  },
  {
   "cell_type": "code",
   "execution_count": null,
   "metadata": {
    "ExecuteTime": {
     "end_time": "2022-10-18T10:30:36.687645Z",
     "start_time": "2022-10-18T10:30:36.667915Z"
    }
   },
   "outputs": [],
   "source": [
    "nan_mean = lambda x: x.isna().mean()\n",
    "\n",
    "nan_by_decade = (data\n",
    "                 .pivot_table(index=\"decade_of_release\", values=[\"user_score\", \"critic_score\", \"rating\"], aggfunc=[nan_mean])\n",
    "                 .rename({\"<lambda>\": \"mean_nan\"}, axis=1, level=0))\n",
    "\n",
    "nan_by_decade[\"total_games\"] = data[\"decade_of_release\"].value_counts()\n",
    "nan_by_decade"
   ]
  },
  {
   "cell_type": "markdown",
   "metadata": {},
   "source": [
    "Видим, что в самом начале эры видеоигр почти не было оценок критиков и игроков, но и игр тогда было мало. Большая часть пропусков идет с последних двух десятилетий - доля игр без критики уменьшилась, но выросло общее количество игр. Не будем заполнять пропуски, так как их слишком много."
   ]
  },
  {
   "cell_type": "markdown",
   "metadata": {},
   "source": [
    "Посмотрим на наличие дубликатов."
   ]
  },
  {
   "cell_type": "code",
   "execution_count": null,
   "metadata": {
    "ExecuteTime": {
     "end_time": "2022-10-18T10:30:36.705926Z",
     "start_time": "2022-10-18T10:30:36.689110Z"
    }
   },
   "outputs": [],
   "source": [
    "data.duplicated().sum()"
   ]
  },
  {
   "cell_type": "markdown",
   "metadata": {
    "ExecuteTime": {
     "end_time": "2022-05-24T23:00:36.942472Z",
     "start_time": "2022-05-24T23:00:36.934710Z"
    }
   },
   "source": [
    "Проверим, есть ли неявные дубликаты в именах."
   ]
  },
  {
   "cell_type": "code",
   "execution_count": null,
   "metadata": {
    "ExecuteTime": {
     "end_time": "2022-10-18T10:30:36.731709Z",
     "start_time": "2022-10-18T10:30:36.707443Z"
    }
   },
   "outputs": [],
   "source": [
    "assert data[\"platform\"].str.lower().nunique() == data[\"platform\"].nunique()\n",
    "assert data[\"name\"].str.lower().nunique() == data[\"name\"].nunique()\n",
    "assert data[\"genre\"].str.lower().nunique() == data[\"genre\"].nunique()\n",
    "assert data[\"rating\"].str.lower().nunique() == data[\"rating\"].nunique()\n",
    "print(\"No implicit duplicates\")"
   ]
  },
  {
   "cell_type": "markdown",
   "metadata": {},
   "source": [
    "Или неявные дубликаты по имени и платформе."
   ]
  },
  {
   "cell_type": "code",
   "execution_count": null,
   "metadata": {
    "ExecuteTime": {
     "end_time": "2022-10-18T10:30:36.743427Z",
     "start_time": "2022-10-18T10:30:36.735436Z"
    }
   },
   "outputs": [],
   "source": [
    "data.duplicated(subset=[\"name\", \"platform\"]).sum()"
   ]
  },
  {
   "cell_type": "markdown",
   "metadata": {},
   "source": [
    "Действительно что-то есть."
   ]
  },
  {
   "cell_type": "code",
   "execution_count": null,
   "metadata": {
    "ExecuteTime": {
     "end_time": "2022-10-18T10:30:36.757354Z",
     "start_time": "2022-10-18T10:30:36.744523Z"
    }
   },
   "outputs": [],
   "source": [
    "data[data.duplicated(subset=[\"name\", \"platform\"])]"
   ]
  },
  {
   "cell_type": "markdown",
   "metadata": {},
   "source": [
    "Вероятнее всего, это какие-нибудь ремейки."
   ]
  },
  {
   "cell_type": "code",
   "execution_count": null,
   "metadata": {
    "ExecuteTime": {
     "end_time": "2022-10-18T10:30:36.770375Z",
     "start_time": "2022-10-18T10:30:36.758760Z"
    }
   },
   "outputs": [],
   "source": [
    "data.query(\"name == 'Need for Speed: Most Wanted' and platform in ['X360', 'PC']\")"
   ]
  },
  {
   "cell_type": "markdown",
   "metadata": {},
   "source": [
    "Вероятнее всего, так и есть, это ремейк 2012 года. Я удалю ремейки, так как они не являются новыми играми и их успешность смещена."
   ]
  },
  {
   "cell_type": "code",
   "execution_count": null,
   "metadata": {
    "ExecuteTime": {
     "end_time": "2022-10-18T10:30:36.776336Z",
     "start_time": "2022-10-18T10:30:36.771831Z"
    }
   },
   "outputs": [],
   "source": [
    "data.drop([1190, 11715], inplace=True)"
   ]
  },
  {
   "cell_type": "code",
   "execution_count": null,
   "metadata": {
    "ExecuteTime": {
     "end_time": "2022-10-18T10:30:36.789192Z",
     "start_time": "2022-10-18T10:30:36.777561Z"
    }
   },
   "outputs": [],
   "source": [
    "data.query(\"name == 'Madden NFL 13' and platform == 'PS3'\")"
   ]
  },
  {
   "cell_type": "code",
   "execution_count": null,
   "metadata": {
    "ExecuteTime": {
     "end_time": "2022-10-18T10:30:36.801924Z",
     "start_time": "2022-10-18T10:30:36.790871Z"
    }
   },
   "outputs": [],
   "source": [
    "data.query(\"name == 'Sonic the Hedgehog' and platform == 'PS3'\")"
   ]
  },
  {
   "cell_type": "code",
   "execution_count": null,
   "metadata": {
    "ExecuteTime": {
     "end_time": "2022-10-18T10:30:36.813515Z",
     "start_time": "2022-10-18T10:30:36.803879Z"
    }
   },
   "outputs": [],
   "source": [
    "data[data[\"name\"].isna()]"
   ]
  },
  {
   "cell_type": "markdown",
   "metadata": {},
   "source": [
    "Однако с Madden NFL 13, Sonic the Hedgehog и с одной безымянной игрой дело обстоит иначе. Скорее всего, это записи одной и той же игры. Объединим строки с первыми двумя играми, а безымянную игру удалим."
   ]
  },
  {
   "cell_type": "code",
   "execution_count": null,
   "metadata": {
    "ExecuteTime": {
     "end_time": "2022-10-18T10:30:36.821134Z",
     "start_time": "2022-10-18T10:30:36.815365Z"
    }
   },
   "outputs": [],
   "source": [
    "data.loc[604, \"eu_sales\"] += data.loc[16230, \"eu_sales\"]\n",
    "data.loc[1745, \"eu_sales\"] += data.loc[4127, \"eu_sales\"]\n",
    "data.drop([4127, 16230, 659, 14244], inplace=True)"
   ]
  },
  {
   "cell_type": "code",
   "execution_count": null,
   "metadata": {
    "ExecuteTime": {
     "end_time": "2022-10-18T10:30:36.843567Z",
     "start_time": "2022-10-18T10:30:36.822576Z"
    },
    "colab": {
     "base_uri": "https://localhost:8080/",
     "height": 593,
     "referenced_widgets": [
      "72ab007e035247b496e72b045546bcea",
      "ec16dc3622fc4672931abe4bfb93104c",
      "169f66b537e74a0090fe600f051ce8b2",
      "015051a9d0764b00b6bbfe4f7aad0c18",
      "7e8983c760b94b50ae9db7a432a3b73b",
      "2c7e17c5846346d1b622c1833586795f",
      "1236856849ca4ac098199e7f48e27bb0"
     ]
    },
    "id": "mcW66309juEz",
    "outputId": "278ec6b4-3d15-475b-d46f-61d05ebf7cd7"
   },
   "outputs": [],
   "source": [
    "print(\"Value counts by column\")\n",
    "interact(\n",
    "    lambda column: data[column].value_counts(normalize=True, dropna=False),\n",
    "    column=[\"platform\", \"genre\", \"rating\", \"decade_of_release\"],\n",
    ");"
   ]
  },
  {
   "cell_type": "code",
   "execution_count": null,
   "metadata": {
    "ExecuteTime": {
     "end_time": "2022-10-18T10:30:36.855865Z",
     "start_time": "2022-10-18T10:30:36.845120Z"
    }
   },
   "outputs": [],
   "source": [
    "print(\"Unique games:\", data[\"name\"].nunique())\n",
    "data[\"name\"].value_counts()[:20]"
   ]
  },
  {
   "cell_type": "markdown",
   "metadata": {},
   "source": [
    "Абсолютным рекордсменом по количеству поддерживаемых платформ является Need for Speed: Most Wanted. Особой популярностью отделяются игры серии LEGO. Добавим столбец с количеством платформ у каждой игры. Однако не факт, что этот параметр будет доступен в момент прогнозирования продаж новых видеоигр."
   ]
  },
  {
   "cell_type": "code",
   "execution_count": null,
   "metadata": {
    "ExecuteTime": {
     "end_time": "2022-10-18T10:30:36.866793Z",
     "start_time": "2022-10-18T10:30:36.857515Z"
    }
   },
   "outputs": [],
   "source": [
    "game_counts = data[\"name\"].value_counts(dropna=False)\n",
    "data[\"n_platforms\"] = game_counts[data[\"name\"]].values"
   ]
  },
  {
   "cell_type": "code",
   "execution_count": null,
   "metadata": {
    "ExecuteTime": {
     "end_time": "2022-10-18T10:30:36.871404Z",
     "start_time": "2022-10-18T10:30:36.867903Z"
    }
   },
   "outputs": [],
   "source": [
    "data[\"rating\"].fillna(\"No rating\", inplace=True)"
   ]
  },
  {
   "cell_type": "markdown",
   "metadata": {},
   "source": [
    "# Исследовательский анализ данных"
   ]
  },
  {
   "cell_type": "markdown",
   "metadata": {},
   "source": [
    "В датасете отсутствует информация о цене игры, хотя я думаю, она немало влияет на продажи игры. Несмотря на то, что для прогнозирования продаж на следующие года не все информация будет актуальной, некоторые зависимости вполне могут не зависеть от времени и наблюдаться всегда."
   ]
  },
  {
   "cell_type": "code",
   "execution_count": null,
   "metadata": {
    "ExecuteTime": {
     "end_time": "2022-10-18T10:30:36.897170Z",
     "start_time": "2022-10-18T10:30:36.872593Z"
    },
    "colab": {
     "base_uri": "https://localhost:8080/",
     "height": 297
    },
    "id": "jkSkkNieUvee",
    "outputId": "720c42e8-515a-432b-f027-ff82d0190a27"
   },
   "outputs": [],
   "source": [
    "data.describe(datetime_is_numeric=True)"
   ]
  },
  {
   "cell_type": "markdown",
   "metadata": {},
   "source": [
    "Удалим выбивающиеся значения и переведем продажи из миллионов в тысячи."
   ]
  },
  {
   "cell_type": "code",
   "execution_count": null,
   "metadata": {
    "ExecuteTime": {
     "end_time": "2022-10-18T10:30:36.908777Z",
     "start_time": "2022-10-18T10:30:36.898562Z"
    },
    "colab": {
     "base_uri": "https://localhost:8080/"
    },
    "id": "2_FBgY34G9G3",
    "outputId": "081a156e-4f4d-4980-bc5e-e0668d3d2c9d"
   },
   "outputs": [],
   "source": [
    "outliers_idxs = data.query(\"na_sales > 2 or eu_sales > 1 or jp_sales > 1 or other_sales > 1\").index\n",
    "print(f\"Data deleted: < {100*len(outliers_idxs)/len(data):.2f}% ({len(outliers_idxs)}/{len(data)})\")\n",
    "data.drop(outliers_idxs, inplace=True)\n",
    "data[[\"na_sales\", \"eu_sales\", \"jp_sales\", \"other_sales\", \"total_sales\"]] *= 1000"
   ]
  },
  {
   "cell_type": "code",
   "execution_count": null,
   "metadata": {
    "ExecuteTime": {
     "end_time": "2022-10-18T10:30:36.915233Z",
     "start_time": "2022-10-18T10:30:36.910203Z"
    },
    "colab": {
     "base_uri": "https://localhost:8080/",
     "height": 542
    },
    "id": "5g0AS7h79X83",
    "outputId": "6df9c1db-22d3-4b41-a4a0-7b2d70826139"
   },
   "outputs": [],
   "source": [
    "def cat_feature_histograms(data, years, platforms):\n",
    "\n",
    "    data = data.query(\"@years[1] >= year_of_release >= @years[0]\")\n",
    "\n",
    "    top_platforms = data.pivot_table(index=\"platform\", values=\"total_sales\", aggfunc=\"sum\")\n",
    "    top_platforms = top_platforms.sort_values(by=\"total_sales\", ascending=False)[:platforms].index\n",
    "    top_platforms_data = data.query(\"platform in @top_platforms\")\n",
    "\n",
    "    fig = px.histogram(top_platforms_data, y=\"platform\")\n",
    "\n",
    "    buttons = []\n",
    "    for column in [\"platform\", \"genre\", \"rating\", \"decade_of_release\"]:\n",
    "        button = dict(\n",
    "            args=[\n",
    "                {\"y\": [top_platforms_data[column] if column == \"platform\" else data[column]]},\n",
    "                {\"yaxis\": {\"categoryorder\": \"total ascending\", \"title\": column}},\n",
    "            ],\n",
    "            label=column,\n",
    "            method=\"update\",\n",
    "        )\n",
    "        buttons.append(button)\n",
    "\n",
    "    menu = dict(\n",
    "        buttons=buttons,\n",
    "        direction=\"down\",\n",
    "        x=-0.13,\n",
    "    )\n",
    "\n",
    "    fig.update_layout(\n",
    "        updatemenus=[menu],\n",
    "        yaxis_categoryorder=\"total ascending\",\n",
    "        title=\"Feature histograms\",\n",
    "    )\n",
    "\n",
    "    return fig"
   ]
  },
  {
   "cell_type": "code",
   "execution_count": null,
   "metadata": {
    "ExecuteTime": {
     "end_time": "2022-10-18T10:30:37.591114Z",
     "start_time": "2022-10-18T10:30:36.916777Z"
    }
   },
   "outputs": [],
   "source": [
    "# platforms slider is only for \"platform\" option\n",
    "years_slider = widgets.IntRangeSlider(value=[2013, 2016], min=1980, max=2016, continuous_update=False)\n",
    "platforms_slider = widgets.IntSlider(value=10, min=1, max=31, continuous_update=False)\n",
    "interact(cat_feature_histograms, data=widgets.fixed(data), years=years_slider, platforms=platforms_slider);"
   ]
  },
  {
   "cell_type": "markdown",
   "metadata": {},
   "source": [
    "Самыми популярными платформами за все время являются DS, PS2 и Wii. В последние 3 года лидируют платформы серии PlayStation, 3DS и XOne. \n",
    "\n",
    "Общие пропорции жанров со временем поменялась не сильно. Больше всего игр экшн, спортивных и ролевых игр, шутеров и приключений. \n",
    "\n",
    "Больше всего игр без рейтинга. Потом по количеству за все время идут рейтинги E и T. В последние 3 года их обходит рейтинг M.\n",
    "\n",
    "Игр с рейтингами AO, RP, K-A и EC - единицы. Не будем их учитывать. Также есть очень редкие платформы, мы уберем платформы с количеством игр меньше 100. Однако платформы с малым количеством игр могут быть просто новыми, и на них еще не успели выпустить игры. То же самое может быть с рейтингами. Проверим это."
   ]
  },
  {
   "cell_type": "code",
   "execution_count": null,
   "metadata": {
    "ExecuteTime": {
     "end_time": "2022-10-18T10:30:37.600844Z",
     "start_time": "2022-10-18T10:30:37.592523Z"
    }
   },
   "outputs": [],
   "source": [
    "ratings_to_drop = [\"EC\", \"K-A\", \"RP\", \"AO\"]\n",
    "platforms_to_drop = data[\"platform\"].value_counts()[data[\"platform\"].value_counts() < 100].index\n",
    "idxs_to_drop = data.query(\"rating in @ratings_to_drop or platform in @platforms_to_drop\").index"
   ]
  },
  {
   "cell_type": "code",
   "execution_count": null,
   "metadata": {
    "ExecuteTime": {
     "end_time": "2022-10-18T10:30:37.611840Z",
     "start_time": "2022-10-18T10:30:37.602155Z"
    }
   },
   "outputs": [],
   "source": [
    "data.query(\"platform in @platforms_to_drop\").pivot_table(\n",
    "    index=\"platform\", values=\"year_of_release\", aggfunc=\"max\"\n",
    ").rename(lambda x: \"max_\" + x, axis=1)"
   ]
  },
  {
   "cell_type": "code",
   "execution_count": null,
   "metadata": {
    "ExecuteTime": {
     "end_time": "2022-10-18T10:30:37.626774Z",
     "start_time": "2022-10-18T10:30:37.618063Z"
    }
   },
   "outputs": [],
   "source": [
    "data.query(\"rating in @ratings_to_drop\").pivot_table(\n",
    "    index=\"rating\", values=\"year_of_release\", aggfunc=\"max\"\n",
    ").rename(lambda x: \"max_\" + x, axis=1)"
   ]
  },
  {
   "cell_type": "markdown",
   "metadata": {},
   "source": [
    "Как видим, последняя такая игра вышла в 2011 году, так что можно их удалять."
   ]
  },
  {
   "cell_type": "code",
   "execution_count": null,
   "metadata": {
    "ExecuteTime": {
     "end_time": "2022-10-18T10:30:37.633551Z",
     "start_time": "2022-10-18T10:30:37.628522Z"
    }
   },
   "outputs": [],
   "source": [
    "print(f\"Data deleted: < {100*len(idxs_to_drop)/len(data):.2f}% ({len(idxs_to_drop)}/{len(data)})\")\n",
    "data = data.drop(idxs_to_drop).reset_index(drop=True)"
   ]
  },
  {
   "cell_type": "code",
   "execution_count": null,
   "metadata": {
    "ExecuteTime": {
     "end_time": "2022-10-18T10:30:37.640377Z",
     "start_time": "2022-10-18T10:30:37.635166Z"
    },
    "colab": {
     "base_uri": "https://localhost:8080/",
     "height": 542
    },
    "id": "QciO9TNNXqDG",
    "outputId": "ebccf100-dec6-4552-8ac8-c307d55b8f86"
   },
   "outputs": [],
   "source": [
    "def num_feature_histograms(data, years):\n",
    "\n",
    "    data = data.query(\"@years[1] >= year_of_release >= @years[0]\")\n",
    "\n",
    "    fig = px.histogram(data, x=\"total_sales\", marginal=\"box\")\n",
    "\n",
    "    columns_to_show = [\n",
    "        \"total_sales\",\n",
    "        \"na_sales\",\n",
    "        \"eu_sales\",\n",
    "        \"jp_sales\",\n",
    "        \"other_sales\",\n",
    "        \"critic_score\",\n",
    "        \"user_score\",\n",
    "        \"year_of_release\",\n",
    "        \"n_platforms\",\n",
    "    ]\n",
    "\n",
    "    buttons = []\n",
    "    for column in columns_to_show:\n",
    "        button = dict(\n",
    "            args=[{\"x\": [data[column]]}, {\"xaxis\": {\"rangeslider\": {\"visible\": True}, \"title\": column}}],\n",
    "            label=column,\n",
    "            method=\"update\",\n",
    "        )\n",
    "        buttons.append(button)\n",
    "\n",
    "    menu = dict(\n",
    "        buttons=buttons,\n",
    "        direction=\"down\",\n",
    "    )\n",
    "\n",
    "    fig.update_layout(\n",
    "        updatemenus=[menu],\n",
    "        xaxis_rangeslider_visible=True,\n",
    "        title=\"Feature histograms\",\n",
    "    )\n",
    "\n",
    "    return fig"
   ]
  },
  {
   "cell_type": "code",
   "execution_count": null,
   "metadata": {
    "ExecuteTime": {
     "end_time": "2022-10-18T10:30:37.798309Z",
     "start_time": "2022-10-18T10:30:37.642445Z"
    }
   },
   "outputs": [],
   "source": [
    "years_slider = widgets.IntRangeSlider(value=[2013, 2016], min=1980, max=2016, continuous_update=False)\n",
    "interact(num_feature_histograms, data=widgets.fixed(data), years=years_slider);"
   ]
  },
  {
   "cell_type": "markdown",
   "metadata": {},
   "source": [
    "Больше всего игр вышло в 2008 и 2009 года, а потом произошел резкий спад. В 2015 вышло почти в 2.5 раза меньше игр, чем в 2008. Продажи имеют примерно экспоненциальные распределения. Распределения оценок критиков и игроков похожи на нормальные, но имеют отрицательную асимметрию."
   ]
  },
  {
   "cell_type": "code",
   "execution_count": null,
   "metadata": {
    "ExecuteTime": {
     "end_time": "2022-10-18T10:30:37.801990Z",
     "start_time": "2022-10-18T10:30:37.799676Z"
    },
    "colab": {
     "base_uri": "https://localhost:8080/",
     "height": 542
    },
    "id": "Na_7wqhysTud",
    "outputId": "a37b56ce-ba6c-4cd0-84f9-1ecb7f063735"
   },
   "outputs": [],
   "source": [
    "def corr(data, years):\n",
    "    data = data.query(\"@years[1] >= year_of_release >= @years[0]\")\n",
    "    return px.imshow(data.corr(numeric_only=True), text_auto=\".2f\", title=\"Correlation matrix\")"
   ]
  },
  {
   "cell_type": "code",
   "execution_count": null,
   "metadata": {
    "ExecuteTime": {
     "end_time": "2022-10-18T10:30:37.907158Z",
     "start_time": "2022-10-18T10:30:37.803100Z"
    }
   },
   "outputs": [],
   "source": [
    "years_slider = widgets.IntRangeSlider(value=[2013, 2016], min=1980, max=2016, continuous_update=False)\n",
    "interact(corr, data=widgets.fixed(data), years=years_slider);"
   ]
  },
  {
   "cell_type": "markdown",
   "metadata": {},
   "source": [
    "Продажи относительно сильно скоррелированы между собой, за исключением продаж в Японии. Возможно, у пользователей в Японии предпочтения сильно отличаются от всего мира. Больше всего общие продажи скоррелированы с продажами в Северной Америке, вероятно, там наибольший рынок сбыта. С остальными признаками однако продажи коррелируют не сильно. Больше всего они коррелируют с оценкой критиков. Оценки критиков и пользователей тоже достаточно сильно скоррелированы. Последние 10 лет наблюдается повышенная корреляция продаж с количеством поддерживаемых платформ."
   ]
  },
  {
   "cell_type": "code",
   "execution_count": null,
   "metadata": {
    "ExecuteTime": {
     "end_time": "2022-10-18T10:30:37.912568Z",
     "start_time": "2022-10-18T10:30:37.908863Z"
    }
   },
   "outputs": [],
   "source": [
    "def sales_by_region(data, years):\n",
    "    region_sales = (\n",
    "        data.query(\"@years[0] <= year_of_release <= @years[1]\")\n",
    "        .melt(\n",
    "            value_vars=[\"na_sales\", \"eu_sales\", \"jp_sales\", \"other_sales\"],\n",
    "            var_name=\"region\",\n",
    "            value_name=\"sales\",\n",
    "        )\n",
    "        .replace(\n",
    "            {\n",
    "                \"na_sales\": \"North America\",\n",
    "                \"eu_sales\": \"European Union\",\n",
    "                \"jp_sales\": \"Japan\",\n",
    "                \"other_sales\": \"Others\",\n",
    "            }\n",
    "        )\n",
    "    )\n",
    "    fig = px.pie(region_sales, names=\"region\", values=\"sales\")\n",
    "    fig.update_traces(textposition=\"inside\", textinfo=\"label+percent\")\n",
    "    fig.update_layout(title=\"Total sales by region\", showlegend=False)\n",
    "\n",
    "    return fig"
   ]
  },
  {
   "cell_type": "code",
   "execution_count": null,
   "metadata": {
    "ExecuteTime": {
     "end_time": "2022-10-18T10:30:38.048983Z",
     "start_time": "2022-10-18T10:30:37.913893Z"
    }
   },
   "outputs": [],
   "source": [
    "years_slider = widgets.IntRangeSlider(value=[2013, 2016], min=1980, max=2016, continuous_update=False)\n",
    "interact(sales_by_region, data=widgets.fixed(data), years=years_slider);"
   ]
  },
  {
   "cell_type": "markdown",
   "metadata": {},
   "source": [
    "Действительно, в Северной Америке самые большие продажи."
   ]
  },
  {
   "cell_type": "code",
   "execution_count": null,
   "metadata": {
    "ExecuteTime": {
     "end_time": "2022-10-18T10:30:38.059686Z",
     "start_time": "2022-10-18T10:30:38.050526Z"
    }
   },
   "outputs": [],
   "source": [
    "top_platforms = data.pivot_table(index=\"platform\", values=\"total_sales\", aggfunc=\"sum\")\n",
    "top_platforms = list(top_platforms.sort_values(by=\"total_sales\", ascending=False).index)"
   ]
  },
  {
   "cell_type": "code",
   "execution_count": null,
   "metadata": {
    "ExecuteTime": {
     "end_time": "2022-10-18T10:30:38.067992Z",
     "start_time": "2022-10-18T10:30:38.061177Z"
    },
    "colab": {
     "base_uri": "https://localhost:8080/",
     "height": 542
    },
    "id": "FXzJBULnxn_X",
    "outputId": "18cbcb52-7806-4b0b-c40f-c784af5b3fee",
    "scrolled": false
   },
   "outputs": [],
   "source": [
    "def feature_scatterplots(data, years, platform=None):\n",
    "\n",
    "    data = data.query(\"@years[1] >= year_of_release >= @years[0]\")\n",
    "\n",
    "    if platform:\n",
    "        data = data.query(\"platform == @platform\")\n",
    "\n",
    "    fig = px.scatter(data, x=\"user_score\", y=\"total_sales\")\n",
    "\n",
    "    x_columns = [\n",
    "        \"user_score\",\n",
    "        \"critic_score\",\n",
    "        \"year_of_release\",\n",
    "        \"n_platforms\",\n",
    "        \"total_sales\",\n",
    "        \"na_sales\",\n",
    "        \"eu_sales\",\n",
    "        \"jp_sales\",\n",
    "        \"other_sales\",\n",
    "    ]\n",
    "\n",
    "    y_columns = [\n",
    "        \"total_sales\",\n",
    "        \"na_sales\",\n",
    "        \"eu_sales\",\n",
    "        \"jp_sales\",\n",
    "        \"other_sales\",\n",
    "        \"critic_score\",\n",
    "        \"user_score\",\n",
    "        \"year_of_release\",\n",
    "        \"n_platforms\",\n",
    "    ]\n",
    "\n",
    "    menus = []\n",
    "    for axis, y_pos, columns_to_show in zip([\"x\", \"y\"], [0.95, 0.8], [x_columns, y_columns]):\n",
    "        buttons = []\n",
    "        for column in columns_to_show:\n",
    "            button = dict(\n",
    "                args=[{axis: [data[column]]}, {f\"{axis}axis\": {\"title\": column}}],\n",
    "                label=column,\n",
    "                method=\"update\",\n",
    "            )\n",
    "            buttons.append(button)\n",
    "\n",
    "        menu = dict(\n",
    "            buttons=buttons,\n",
    "            direction=\"down\",\n",
    "            x=-0.14,\n",
    "            y=y_pos,\n",
    "        )\n",
    "        menus.append(menu)\n",
    "\n",
    "    fig.update_layout(\n",
    "        updatemenus=menus,\n",
    "        title=\"Feature scatterplots\",\n",
    "        annotations=[\n",
    "            dict(text=\"x axis:\", x=-0.3, y=1.02, xref=\"paper\", yref=\"paper\", showarrow=False),\n",
    "            dict(text=\"y axis:\", x=-0.3, y=0.86, xref=\"paper\", yref=\"paper\", showarrow=False),\n",
    "        ],\n",
    "    )\n",
    "\n",
    "    return fig"
   ]
  },
  {
   "cell_type": "code",
   "execution_count": null,
   "metadata": {
    "ExecuteTime": {
     "end_time": "2022-10-18T10:30:38.203661Z",
     "start_time": "2022-10-18T10:30:38.069392Z"
    }
   },
   "outputs": [],
   "source": [
    "years_slider = widgets.IntRangeSlider(value=[2013, 2016], min=1980, max=2016, continuous_update=False)\n",
    "interact(feature_scatterplots, data=widgets.fixed(data), years=years_slider, platform=[None] + top_platforms);"
   ]
  },
  {
   "cell_type": "code",
   "execution_count": null,
   "metadata": {
    "ExecuteTime": {
     "end_time": "2022-10-18T10:30:38.208622Z",
     "start_time": "2022-10-18T10:30:38.204901Z"
    }
   },
   "outputs": [],
   "source": [
    "def sales_by_scores(data, years, sales):\n",
    "\n",
    "    data = data.query(\"@years[0] <= year_of_release <= @years[1]\")\n",
    "\n",
    "    fig = make_subplots(1, 2, y_title=sales)\n",
    "    fig.add_traces(px.scatter(data, x=\"user_score\", y=sales).data, 1, 1)\n",
    "    fig.add_traces(px.scatter(data, x=\"critic_score\", y=sales).data, 1, 2)\n",
    "\n",
    "    fig.update_layout(title_text=\"Sales by scores\", title_x=0.5)\n",
    "    fig.update_xaxes(title=\"User Score\", row=1, col=1)\n",
    "    fig.update_xaxes(title=\"Critics Score\", row=1, col=2)\n",
    "\n",
    "    return fig"
   ]
  },
  {
   "cell_type": "code",
   "execution_count": null,
   "metadata": {
    "ExecuteTime": {
     "end_time": "2022-10-18T10:30:38.392806Z",
     "start_time": "2022-10-18T10:30:38.209749Z"
    }
   },
   "outputs": [],
   "source": [
    "years_slider = widgets.IntRangeSlider(value=[2013, 2016], min=1980, max=2016, continuous_update=False)\n",
    "sales = [\"total_sales\", \"na_sales\", \"eu_sales\", \"jp_sales\", \"other_sales\"]\n",
    "interact(sales_by_scores, data=widgets.fixed(data), years=years_slider, sales=sales);"
   ]
  },
  {
   "cell_type": "markdown",
   "metadata": {},
   "source": [
    "Видим, как похожи графики зависимости продаж от оценки критиков и пользователей."
   ]
  },
  {
   "cell_type": "markdown",
   "metadata": {},
   "source": [
    "Диаграмма рассеяния - хороший график, однако он не всегда хорошо отображает структуру данных. Например, график year_of_release - jp_sales не дает понять, какая между признаками зависимость. Более мощным инструментом является диаграмма рассеяния по корзинам. Чем меньше корзин, тем меньше вариативность (bias-variance tradeoff) и больше ошибка (условно MSE). 1 корзина - просто среднее по всем наблюдениям. Количество корзин = количество наблюдений - обычная диаграмма рассеяния."
   ]
  },
  {
   "cell_type": "code",
   "execution_count": null,
   "metadata": {
    "ExecuteTime": {
     "end_time": "2022-10-18T10:30:38.400894Z",
     "start_time": "2022-10-18T10:30:38.395070Z"
    }
   },
   "outputs": [],
   "source": [
    "def binned_scatterplot(data, years, x, y, platform, statistic, bins=10, trendline=\"lowess\"):\n",
    "\n",
    "    data = data.query(\"@years[1] >= year_of_release >= @years[0]\")\n",
    "\n",
    "    if platform:\n",
    "        data = data.query(\"platform == @platform\")\n",
    "\n",
    "    data = data.dropna(subset=[x, y])\n",
    "    x_vals = data[x]\n",
    "    y_vals = data[y]\n",
    "\n",
    "    mean_y, bin_edges, bin_numbers = stats.binned_statistic(x_vals, y_vals, statistic, bins=bins)\n",
    "    std_y, bin_edges, bin_numbers = stats.binned_statistic(x_vals, y_vals, \"std\", bins=bins)\n",
    "\n",
    "    fig = px.scatter(x=(bin_edges[:-1] + bin_edges[1:]) / 2, y=mean_y, error_y=std_y, trendline=trendline)\n",
    "    fig.update_layout(xaxis_title=x, yaxis_title=y, title=\"Feature binned scatterplots\")\n",
    "\n",
    "    if trendline:\n",
    "        fig.data[1].update(line_color=\"red\")\n",
    "\n",
    "    return fig"
   ]
  },
  {
   "cell_type": "code",
   "execution_count": null,
   "metadata": {
    "ExecuteTime": {
     "end_time": "2022-10-18T10:30:38.941364Z",
     "start_time": "2022-10-18T10:30:38.402624Z"
    },
    "scrolled": false
   },
   "outputs": [],
   "source": [
    "x_columns = [\n",
    "    \"user_score\",\n",
    "    \"critic_score\",\n",
    "    \"year_of_release\",\n",
    "    \"n_platforms\",\n",
    "    \"total_sales\",\n",
    "    \"na_sales\",\n",
    "    \"eu_sales\",\n",
    "    \"jp_sales\",\n",
    "    \"other_sales\",\n",
    "]\n",
    "y_columns = [\n",
    "    \"total_sales\",\n",
    "    \"na_sales\",\n",
    "    \"eu_sales\",\n",
    "    \"jp_sales\",\n",
    "    \"other_sales\",\n",
    "    \"critic_score\",\n",
    "    \"user_score\",\n",
    "    \"year_of_release\",\n",
    "    \"n_platforms\",\n",
    "]\n",
    "years_slider = widgets.IntRangeSlider(value=[2013, 2016], min=1980, max=2016, continuous_update=False)\n",
    "interact(\n",
    "    binned_scatterplot,\n",
    "    data=widgets.fixed(data),\n",
    "    x=x_columns,\n",
    "    y=y_columns,\n",
    "    years=years_slider,\n",
    "    platform=[None] + top_platforms,\n",
    "    statistic=[\"mean\", \"sum\", \"median\"],\n",
    "    bins=(1, 20),\n",
    "    trendline=[\"lowess\", \"ols\", None],\n",
    ");"
   ]
  },
  {
   "cell_type": "markdown",
   "metadata": {},
   "source": [
    "Видим, что со временем продажи в Северной Америке и Японии снизились, тем самым снизились и общие продажи. Однако немного выросли другие продажи. Последние 10 лет общие продажи примерно одинаковы.\n",
    "\n",
    "Также наблюдаем снижение оценки видеоигр самими пользователями с 2000 года. Оценка критиков же, наоборот, растет с 2007. Обе оценки положительно влияют на средние общие продажи. Только оценка критика начинает влиять на продажи только когда становится выше ~50. Последние 3 года оценка пользователей выше 4 не сильно влияет на продажи.\n",
    "\n",
    "Видим, что мультиплатформенные игры начали выпускаться начиная примерно с 2000, а большинство из них 2008-2010 года. Это говорит о том, что мультиплатформенность появилась относительно недавно. Удивительно, что чем больше поддерживаемых платформ, тем меньше оценка пользователей, но тем больше средние продажи. Посмотрим на продажи по платформам."
   ]
  },
  {
   "cell_type": "markdown",
   "metadata": {},
   "source": [
    "Распределения продаж похожи на нормальные, так что я сглажу точки нормальными распределениями."
   ]
  },
  {
   "cell_type": "code",
   "execution_count": null,
   "metadata": {
    "ExecuteTime": {
     "end_time": "2022-10-18T10:30:38.946404Z",
     "start_time": "2022-10-18T10:30:38.942670Z"
    }
   },
   "outputs": [],
   "source": [
    "norm_pdf = lambda x, scale, mu, si: scale * stats.norm.pdf(x, mu, si)\n",
    "\n",
    "\n",
    "def normal_smoothing(y, return_distr=False):\n",
    "    min_year = y.index.min()\n",
    "    y = y.dropna()\n",
    "    x = y.index\n",
    "\n",
    "    params = curve_fit(norm_pdf, x, y, [5e5, 2003, 1.5])[0]\n",
    "    y_hat = norm_pdf(np.arange(min_year, 2017, 0.25), *params)\n",
    "\n",
    "    if return_distr:\n",
    "        return pd.Series(y_hat, index=np.arange(min_year, 2017, 0.25)), params[1:]\n",
    "    return pd.Series(y_hat, index=np.arange(min_year, 2017, 0.25))"
   ]
  },
  {
   "cell_type": "code",
   "execution_count": null,
   "metadata": {
    "ExecuteTime": {
     "end_time": "2022-10-18T10:30:38.954005Z",
     "start_time": "2022-10-18T10:30:38.947789Z"
    }
   },
   "outputs": [],
   "source": [
    "def sales_by_year(data, years, platforms, smooth=True):\n",
    "\n",
    "    data = data.query(\"@years[0] <= year_of_release <= @years[1]\")\n",
    "\n",
    "    top_platforms = data.pivot_table(index=\"platform\", values=\"total_sales\", aggfunc=\"sum\")\n",
    "    top_platforms = top_platforms.sort_values(by=\"total_sales\", ascending=False)[:platforms].index\n",
    "    top_platforms_data = data.query(\"platform in @top_platforms\")\n",
    "\n",
    "    top_platforms_sales = top_platforms_data.pivot_table(\n",
    "        index=\"year_of_release\", columns=\"platform\", values=\"total_sales\", aggfunc=\"sum\"\n",
    "    ).reindex(np.arange(years[0], 2018))\n",
    "\n",
    "    if smooth:\n",
    "        try:\n",
    "            scatterplot = px.scatter(\n",
    "                top_platforms_sales.melt(ignore_index=False).reset_index(),\n",
    "                x=\"year_of_release\",\n",
    "                y=\"value\",\n",
    "                color=\"platform\",\n",
    "            )\n",
    "            sales_smoothed = top_platforms_sales.reindex(np.arange(years[0] - 3, 2017, 0.25)).apply(\n",
    "                normal_smoothing\n",
    "            )\n",
    "            sales_smoothed[sales_smoothed < 1] = np.nan\n",
    "            lineplot = px.line(\n",
    "                sales_smoothed.melt(ignore_index=False).reset_index(),\n",
    "                x=\"index\",\n",
    "                y=\"value\",\n",
    "                color=\"platform\",\n",
    "                render_mode=\"webg1\",\n",
    "            )  # to avoid problems with rangeslider\n",
    "            lineplot.add_traces(scatterplot.data)\n",
    "        except Exception:\n",
    "            print(\"\\n   Could not smooth the lines\")\n",
    "            lineplot = px.line(\n",
    "                top_platforms_sales.melt(ignore_index=False).reset_index(),\n",
    "                x=\"year_of_release\",\n",
    "                y=\"value\",\n",
    "                color=\"platform\",\n",
    "            )\n",
    "    else:\n",
    "        lineplot = px.line(\n",
    "            top_platforms_sales.melt(ignore_index=False).reset_index(),\n",
    "            x=\"year_of_release\",\n",
    "            y=\"value\",\n",
    "            color=\"platform\",\n",
    "        )\n",
    "\n",
    "    lineplot.update_layout(\n",
    "        xaxis_title=\"Year\", yaxis_title=\"Total sales\", xaxis_rangeslider_visible=True, title=\"Platforms sales\"\n",
    "    )\n",
    "\n",
    "    return lineplot"
   ]
  },
  {
   "cell_type": "code",
   "execution_count": null,
   "metadata": {
    "ExecuteTime": {
     "end_time": "2022-10-18T10:30:39.197255Z",
     "start_time": "2022-10-18T10:30:38.955346Z"
    }
   },
   "outputs": [],
   "source": [
    "years_slider = widgets.IntRangeSlider(value=[1995, 2016], min=1980, max=2016, continuous_update=False)\n",
    "interact(sales_by_year, data=widgets.fixed(data), years=years_slider, platforms=(1, 10), smooth=[True, False]);"
   ]
  },
  {
   "cell_type": "code",
   "execution_count": null,
   "metadata": {
    "ExecuteTime": {
     "end_time": "2022-10-18T10:30:39.202765Z",
     "start_time": "2022-10-18T10:30:39.198625Z"
    }
   },
   "outputs": [],
   "source": [
    "# to create variables locally\n",
    "def get_platforms_sales_from_2010(data):\n",
    "\n",
    "    top_platforms = (\n",
    "        data.query(\"year_of_release > 2010\")\n",
    "        .pivot_table(index=\"platform\", values=\"total_sales\", aggfunc=\"sum\")\n",
    "        .sort_values(by=\"total_sales\", ascending=False)[:5]\n",
    "        .index\n",
    "    )\n",
    "\n",
    "    top_platforms_sales = (\n",
    "        data.query(\"platform in @top_platforms\")\n",
    "        .pivot_table(index=\"year_of_release\", columns=\"platform\", values=\"total_sales\", aggfunc=\"sum\")\n",
    "        .reindex(np.arange(2010, 2018))\n",
    "        .melt(ignore_index=False)\n",
    "        .reset_index()\n",
    "    )\n",
    "\n",
    "    fig = px.line(top_platforms_sales, x=\"year_of_release\", y=\"value\", color=\"platform\")\n",
    "    fig.update_layout(xaxis_title=\"Year\", yaxis_title=\"Total sales\", title=\"Platforms sales from 2010s\")\n",
    "\n",
    "    return fig"
   ]
  },
  {
   "cell_type": "code",
   "execution_count": null,
   "metadata": {
    "ExecuteTime": {
     "end_time": "2022-10-18T10:30:39.255447Z",
     "start_time": "2022-10-18T10:30:39.203985Z"
    }
   },
   "outputs": [],
   "source": [
    "get_platforms_sales_from_2010(data)"
   ]
  },
  {
   "cell_type": "code",
   "execution_count": null,
   "metadata": {
    "ExecuteTime": {
     "end_time": "2022-10-18T10:30:39.262549Z",
     "start_time": "2022-10-18T10:30:39.256894Z"
    }
   },
   "outputs": [],
   "source": [
    "def sales_by_platform(data, platform, smooth=True):\n",
    "\n",
    "    data = data.query(\"platform == @platform\")\n",
    "    sales = data.groupby(\"year_of_release\")[\"total_sales\"].sum()\n",
    "    min_year = int(sales.index.min())\n",
    "    sales = sales.reindex(range(min_year - 3, 2017))\n",
    "\n",
    "    if smooth:\n",
    "        try:\n",
    "            scatterplot = px.scatter(x=sales.index, y=sales)\n",
    "            sales_smoothed, (mu, std) = normal_smoothing(\n",
    "                sales.reindex(np.arange(min_year - 3, 2017, 0.5)), return_distr=True\n",
    "            )\n",
    "            lineplot = px.line(x=sales_smoothed.index, y=sales_smoothed)\n",
    "            lineplot.add_traces(scatterplot.data)\n",
    "            print(\"\\n   95% interval:\", round(mu, 2), \"+-\", round(2 * std, 2))\n",
    "        except Exception as err:\n",
    "            print(\"\\n   Could not smooth the line\")\n",
    "            lineplot = px.line(x=sales.index, y=sales)\n",
    "    else:\n",
    "        lineplot = px.line(x=sales.index, y=sales.values)\n",
    "\n",
    "    lineplot.update_layout(\n",
    "        xaxis_title=\"year\", yaxis_title=\"sales\", xaxis_rangeslider_visible=True, title=platform + \" sales\"\n",
    "    )\n",
    "\n",
    "    return lineplot"
   ]
  },
  {
   "cell_type": "code",
   "execution_count": null,
   "metadata": {
    "ExecuteTime": {
     "end_time": "2022-10-18T10:30:39.362718Z",
     "start_time": "2022-10-18T10:30:39.264236Z"
    }
   },
   "outputs": [],
   "source": [
    "interact(sales_by_platform, data=widgets.fixed(data), platform=top_platforms, smooth=[True, False]);"
   ]
  },
  {
   "cell_type": "markdown",
   "metadata": {},
   "source": [
    "Как видим, продажи по годам достаточно хорошо описываются нормальными распределениями. Сами платформы в среднем живут от 6 до 10 лет, а пик продаваемости приходится на 3-5 год. Также из графиков видно, что большинство платформ уже отжили свое, а из новых только PS4 и XOne. Также у платформы DS наблюдается странный выброс - игра 1985 года, хотя игры на DS выходили преимущественно уже после 2000-х."
   ]
  },
  {
   "cell_type": "code",
   "execution_count": null,
   "metadata": {
    "ExecuteTime": {
     "end_time": "2022-10-18T10:30:39.374921Z",
     "start_time": "2022-10-18T10:30:39.364290Z"
    }
   },
   "outputs": [],
   "source": [
    "data.query(\"platform == 'DS' and year_of_release == 1985\")"
   ]
  },
  {
   "cell_type": "markdown",
   "metadata": {
    "ExecuteTime": {
     "end_time": "2022-05-30T10:06:37.884715Z",
     "start_time": "2022-05-30T10:06:37.879075Z"
    }
   },
   "source": [
    "Удалим его."
   ]
  },
  {
   "cell_type": "code",
   "execution_count": null,
   "metadata": {
    "ExecuteTime": {
     "end_time": "2022-10-18T10:30:39.381581Z",
     "start_time": "2022-10-18T10:30:39.376337Z"
    }
   },
   "outputs": [],
   "source": [
    "data = data.drop(15229).reset_index(drop=True)"
   ]
  },
  {
   "cell_type": "code",
   "execution_count": null,
   "metadata": {
    "ExecuteTime": {
     "end_time": "2022-10-18T10:30:39.393542Z",
     "start_time": "2022-10-18T10:30:39.382856Z"
    },
    "colab": {
     "base_uri": "https://localhost:8080/",
     "height": 542
    },
    "id": "KSmisqB_vO43",
    "outputId": "3312d6ea-ffbc-4482-b7d1-4910fd3f5850",
    "scrolled": false
   },
   "outputs": [],
   "source": [
    "def feature_boxplots(data, years, platforms):\n",
    "\n",
    "    data = data.query(\"@years[1] >= year_of_release >= @years[0]\")\n",
    "\n",
    "    top_platforms = data.pivot_table(index=\"platform\", values=\"total_sales\", aggfunc=\"sum\")\n",
    "    top_platforms = top_platforms.sort_values(by=\"total_sales\", ascending=False)[:platforms].index\n",
    "    top_platforms_data = data.query(\"platform in @top_platforms\")\n",
    "\n",
    "    fig = px.box(\n",
    "        top_platforms_data, x=\"platform\", y=\"total_sales\", category_orders={\"platform\": top_platforms}\n",
    "    )\n",
    "    category_orders = {\n",
    "        \"platform\": top_platforms,\n",
    "        \"genre\": data[\"genre\"].value_counts().index,\n",
    "        \"decade_of_release\": [\"1980s\", \"1990s\", \"2000s\", \"2010s\"],\n",
    "        \"n_platforms\": list(range(12)),\n",
    "        \"rating\": data[\"rating\"].value_counts().index,\n",
    "    }\n",
    "\n",
    "    menus = []\n",
    "\n",
    "    buttons = []\n",
    "    for column in [\"platform\", \"genre\", \"decade_of_release\", \"n_platforms\", \"rating\"]:\n",
    "        button = dict(\n",
    "            args=[\n",
    "                {\"x\": [top_platforms_data[column] if column == \"platform\" else data[column]]},\n",
    "                {\"xaxis\": {\"title\": column, \"categoryarray\": category_orders[column]}},\n",
    "            ],\n",
    "            label=column,\n",
    "            method=\"update\",\n",
    "        )\n",
    "        buttons.append(button)\n",
    "\n",
    "    menu = dict(\n",
    "        buttons=buttons,\n",
    "        direction=\"down\",\n",
    "        x=-0.14,\n",
    "        y=0.95,\n",
    "    )\n",
    "    menus.append(menu)\n",
    "\n",
    "    columns_to_show = [\n",
    "        \"total_sales\",\n",
    "        \"na_sales\",\n",
    "        \"eu_sales\",\n",
    "        \"jp_sales\",\n",
    "        \"other_sales\",\n",
    "        \"critic_score\",\n",
    "        \"user_score\",\n",
    "        \"year_of_release\",\n",
    "        \"n_platforms\",\n",
    "    ]\n",
    "\n",
    "    buttons = []\n",
    "    for column in columns_to_show:\n",
    "        button = dict(\n",
    "            args=[\n",
    "                {\n",
    "                    \"y\": [\n",
    "                        top_platforms_data[column]\n",
    "                        if fig.layout.xaxis.title.text == \"platform\"\n",
    "                        else data[column]\n",
    "                    ]\n",
    "                },\n",
    "                {\"yaxis\": {\"title\": column}},\n",
    "            ],\n",
    "            label=column,\n",
    "            method=\"update\",\n",
    "        )\n",
    "        buttons.append(button)\n",
    "\n",
    "    menu = dict(\n",
    "        buttons=buttons,\n",
    "        direction=\"down\",\n",
    "        x=-0.155,\n",
    "        y=0.8,\n",
    "    )\n",
    "    menus.append(menu)\n",
    "\n",
    "    fig.update_layout(\n",
    "        updatemenus=menus,\n",
    "        title=f\"Feature boxplots\",\n",
    "        annotations=[\n",
    "            dict(text=\"x axis:\", x=-0.32, y=1.02, xref=\"paper\", yref=\"paper\", showarrow=False),\n",
    "            dict(text=\"y axis:\", x=-0.32, y=0.86, xref=\"paper\", yref=\"paper\", showarrow=False),\n",
    "        ],\n",
    "    )\n",
    "\n",
    "    return fig"
   ]
  },
  {
   "cell_type": "code",
   "execution_count": null,
   "metadata": {
    "ExecuteTime": {
     "end_time": "2022-10-18T10:30:39.551161Z",
     "start_time": "2022-10-18T10:30:39.394949Z"
    },
    "scrolled": false
   },
   "outputs": [],
   "source": [
    "# platforms slider is only for \"platform\" as x-axis\n",
    "platforms_slider = widgets.IntSlider(value=10, min=1, max=20, continuous_update=False)\n",
    "years_slider = widgets.IntRangeSlider(value=[2013, 2016], min=1980, max=2016, continuous_update=False)\n",
    "interact(feature_boxplots, data=widgets.fixed(data), years=years_slider, platforms=platforms_slider);"
   ]
  },
  {
   "cell_type": "markdown",
   "metadata": {},
   "source": [
    "Среди самых продаваемых платформ за все время (platforms = 10) у PS3 и X360 общие продажи имеют большее среднее, чем у остальных платформ. Потом идут PS, PS2 и Wii. В последние 3 года высокие продажи имеют также PS4 и XOne. Самые высокую медиану по продажам имеют платформы 2600, SNES и N64, однако у них не так много игр (меньше общие продажи). Хуже всего продаются игры на PC. Однако, как ни странно, там самая высокая средняя оценка критиков. Возможно, это связано с тем, что у большинства людей игровые консоли, а не ПК. Высоко критиками также оценены Wii и XOne. Пользователи в последние 3 года же выше оценивают PSV, DS, 3DS, PS4 и PS3.\n",
    "\n",
    "Среди жанров по продажам лидируют шутеры, за ними платформеры и спортивные игры. Хуже всего продаются приключения, стратегии и пазлы. Но там, как ни странно, самая высокая оценка пользователей, а у шутеров и спортивных игр низкая. Можно сделать вывод, что люди не очень любят думать и больше любят то, что в реальной жизни они никогда не сделают. \n",
    "\n",
    "Чем выше количество платформ, тем выше средние продажи. \n",
    "\n",
    "У игр с рейтингом M и E10+ чуть выше продажи.\n",
    "\n",
    "Разберем подробнее каждый регион."
   ]
  },
  {
   "cell_type": "code",
   "execution_count": null,
   "metadata": {
    "ExecuteTime": {
     "end_time": "2022-10-18T10:30:39.556489Z",
     "start_time": "2022-10-18T10:30:39.552623Z"
    }
   },
   "outputs": [],
   "source": [
    "def feature_pie_chart(data, years, by, values, statistic=\"mean\"):\n",
    "\n",
    "    data = data.query(\"@years[0] <= year_of_release <= @years[1]\")\n",
    "\n",
    "    pie_data = (\n",
    "        data.pivot_table(index=by, values=values, aggfunc=statistic)\n",
    "        .sort_values(by=values, ascending=False)\n",
    "        .reset_index()\n",
    "    )\n",
    "\n",
    "    fig = px.pie(pie_data, values=values, names=by, title=\"Feature pie chart\")\n",
    "    fig.update_traces(textposition=\"inside\", textinfo=\"label+percent\")\n",
    "    fig.update_layout(showlegend=False)\n",
    "\n",
    "    return fig"
   ]
  },
  {
   "cell_type": "code",
   "execution_count": null,
   "metadata": {
    "ExecuteTime": {
     "end_time": "2022-10-18T10:30:39.676958Z",
     "start_time": "2022-10-18T10:30:39.557784Z"
    }
   },
   "outputs": [],
   "source": [
    "cat_columns = [\"platform\", \"genre\", \"decade_of_release\", \"n_platforms\", \"rating\"]\n",
    "num_columns = [\"na_sales\", \"eu_sales\", \"jp_sales\", \"other_sales\", \"critic_score\", \"user_score\", \"total_sales\"]\n",
    "years_slider = widgets.IntRangeSlider(value=[2013, 2016], min=1980, max=2016, continuous_update=False)\n",
    "interact(\n",
    "    feature_pie_chart,\n",
    "    data=widgets.fixed(data),\n",
    "    by=cat_columns,\n",
    "    values=num_columns,\n",
    "    years=years_slider,\n",
    "    statistic=[\"mean\", \"sum\", \"median\"],\n",
    ");"
   ]
  },
  {
   "cell_type": "code",
   "execution_count": null,
   "metadata": {
    "ExecuteTime": {
     "end_time": "2022-10-18T10:30:39.683080Z",
     "start_time": "2022-10-18T10:30:39.678456Z"
    }
   },
   "outputs": [],
   "source": [
    "def region_sales(data, years, by, statistic=\"mean\"):\n",
    "\n",
    "    fig = make_subplots(\n",
    "        1, 3, subplot_titles=[\"North America\", \"European Union\", \"Japan\"], specs=[[{\"type\": \"domain\"}] * 3]\n",
    "    )\n",
    "\n",
    "    for i, region in enumerate([\"na\", \"eu\", \"jp\"]):\n",
    "        region_data = (\n",
    "            data.query(\"@years[0] <= year_of_release <= @years[1]\")\n",
    "            .pivot_table(index=by, values=f\"{region}_sales\", aggfunc=statistic)\n",
    "            .sort_values(by=f\"{region}_sales\", ascending=False)[:5]\n",
    "            .reset_index()\n",
    "        )\n",
    "\n",
    "        region_fig = px.pie(region_data, names=by, values=f\"{region}_sales\")\n",
    "        region_fig.update_traces(textposition=\"inside\", textinfo=\"label+percent\")\n",
    "\n",
    "        fig.add_traces(region_fig.data, 1, i + 1)\n",
    "\n",
    "    fig.update_layout(title=f\"Sales by {by}\", showlegend=False, height=430)\n",
    "\n",
    "    return fig"
   ]
  },
  {
   "cell_type": "code",
   "execution_count": null,
   "metadata": {
    "ExecuteTime": {
     "end_time": "2022-10-18T10:30:39.954203Z",
     "start_time": "2022-10-18T10:30:39.684475Z"
    }
   },
   "outputs": [],
   "source": [
    "years_slider = widgets.IntRangeSlider(value=[2013, 2016], min=1980, max=2016, continuous_update=False)\n",
    "interact(\n",
    "    region_sales,\n",
    "    data=widgets.fixed(data),\n",
    "    years=years_slider,\n",
    "    by=[\"platform\", \"genre\", \"rating\"],\n",
    "    statistic=[\"mean\", \"sum\", \"median\"],\n",
    ");"
   ]
  },
  {
   "cell_type": "code",
   "execution_count": null,
   "metadata": {
    "ExecuteTime": {
     "end_time": "2022-10-18T10:30:39.960737Z",
     "start_time": "2022-10-18T10:30:39.955791Z"
    }
   },
   "outputs": [],
   "source": [
    "def region_preferences(data, years, region, statistic=\"mean\"):\n",
    "\n",
    "    region_sales_dict = {\"North America\": \"na_sales\", \"European Union\": \"eu_sales\", \"Japan\": \"jp_sales\"}\n",
    "\n",
    "    fig = make_subplots(\n",
    "        1, 3, subplot_titles=[\"Platform\", \"Genre\", \"Rating\"], specs=[[{\"type\": \"domain\"}] * 3]\n",
    "    )\n",
    "\n",
    "    for i, index in enumerate([\"platform\", \"genre\", \"rating\"]):\n",
    "        region_stats = (\n",
    "            data.query(\"@years[0] <= year_of_release <= @years[1]\")\n",
    "            .pivot_table(index=index, values=region_sales_dict[region], aggfunc=statistic)\n",
    "            .sort_values(by=region_sales_dict[region], ascending=False)[:5]\n",
    "            .reset_index()\n",
    "        )\n",
    "\n",
    "        region_fig = px.pie(region_stats, names=index, values=region_sales_dict[region])\n",
    "        region_fig.update_traces(textposition=\"inside\", textinfo=\"label+percent\")\n",
    "\n",
    "        fig.add_traces(region_fig.data, 1, i + 1)\n",
    "\n",
    "    fig.update_layout(title=region + \" sales by\", showlegend=False, height=430)\n",
    "\n",
    "    return fig"
   ]
  },
  {
   "cell_type": "code",
   "execution_count": null,
   "metadata": {
    "ExecuteTime": {
     "end_time": "2022-10-18T10:30:40.197180Z",
     "start_time": "2022-10-18T10:30:39.962130Z"
    }
   },
   "outputs": [],
   "source": [
    "years_slider = widgets.IntRangeSlider(value=[2013, 2016], min=1980, max=2016, continuous_update=False)\n",
    "regions = [\"North America\", \"European Union\", \"Japan\"]\n",
    "interact(\n",
    "    region_preferences,\n",
    "    data=widgets.fixed(data),\n",
    "    years=years_slider,\n",
    "    region=regions,\n",
    "    statistic=[\"mean\", \"sum\", \"median\"],\n",
    ");"
   ]
  },
  {
   "cell_type": "markdown",
   "metadata": {},
   "source": [
    "**North America:**\n",
    "\n",
    "* В последние 3-5 лет в основном популярны XOne, X360, Wii и PS4. У X360 большие медианные продажи, но относительно невысокие совокупные. Это значит, что игры на X360 еще хорошо продаются (не многие, возможно, успели перейти на более новые консоли), но игр стали производить меньше на эту платформу. \n",
    "\n",
    "* Предпочтения жанров такие же, как и общие. Популярны шутеры, платформеры, спортивные игры, файтеры и гонки. Cтратегии, пазлы, приключения и ролевые игры практически не пользуются спросом.  Опять же самая высокая медиана у жанра шутер, но там не самые высокие совокупные продажи. Просто игр этого жанра делают меньше.\n",
    "\n",
    "* Последние 3 года у рейтингов М и E10+ выше медианные продажи, а у Т и E меньше. Однако за весь период у них примерно одинаковые продажи. У игр без рейтинга невысокие продажи.\n",
    "\n",
    "**European Union:**\n",
    "\n",
    "* Медианные продажи выше у Wii, DS, X360 и XOne. Потом с небольшим отрывом идут PS3 и PS4. В принципе, это ожидаемо, так как выше мы видели, что среди платформ почти все платформы уже канули в небытие, продажи растут только у PS4 и XOne. \n",
    "\n",
    "* Жанровые предпочтения в Европе такие же как в Северной Америке.\n",
    "\n",
    "* Так же высоко оцениваются игры с рейтингом М. Игры с рейтингом E10+ тоже имеют медианные продажи выше, чем у рейтингов Т и Е. Такая тенденция прослеживается всегда.\n",
    "\n",
    "**Japan:**\n",
    "\n",
    "* Вот у японцев что-то интересное. Несмотря на падение общих продаж, в Японии последние 10 лет все равно лидируют игры на PSV, 3DS, PSP и PS3. В Xbox они вообще не играют. \n",
    "\n",
    "* Японцы предпочитают ролевые игры, файтинг, пазлы и стратегии. Они почти не играют в шутеры и гонки.\n",
    "\n",
    "* Высокие средние и общие продажи у игр без рейтинга. Игры с рейтингом Т имеют тоже продажи выше, чем игры с рейтингом M. Игры с рейтингом Е10+ менее популярны в Японии.\n",
    "\n",
    "В целом европейцы и жители Северной Америки схожи в предпочтениях. Они играют на современных настольных консолях в шутеры, гонки и платформеры. Предпочитают игры с рейтингом M или E10+. Японцы же играют в портативные консоли (PSP, PSV, 3DS), и играют в основном в ролевые игры, файтинг и стратегии. Для них предпочтительнее игры без рейтинга и рейтинг T."
   ]
  },
  {
   "cell_type": "markdown",
   "metadata": {},
   "source": [
    "# Тестирование гипотез"
   ]
  },
  {
   "cell_type": "markdown",
   "metadata": {},
   "source": [
    "## Средние пользовательские рейтинги платформ Xbox One и PC одинаковые"
   ]
  },
  {
   "cell_type": "markdown",
   "metadata": {},
   "source": [
    "**Нулевая гипотеза:** Средние рейтинги платформ XOne и PC одинаковые.\n",
    "\n",
    "**Альтернативная гипотеза:** Средние рейтинги отличаются."
   ]
  },
  {
   "cell_type": "code",
   "execution_count": null,
   "metadata": {
    "ExecuteTime": {
     "end_time": "2022-10-18T10:30:40.203552Z",
     "start_time": "2022-10-18T10:30:40.198525Z"
    }
   },
   "outputs": [],
   "source": [
    "def platform_ttest(data, years):\n",
    "    xone_score = data.query(\"@years[1] >= year_of_release >= @years[0] and platform == 'XOne'\")[\n",
    "        \"user_score\"\n",
    "    ].dropna()\n",
    "    pc_score = data.query(\"@years[1] >= year_of_release >= @years[0] and platform == 'PC'\")[\n",
    "        \"user_score\"\n",
    "    ].dropna()\n",
    "\n",
    "    fig = ff.create_distplot(\n",
    "        [xone_score, pc_score], [\"XOne\", \"PC\"], show_hist=False, show_rug=False, colors=[\"red\", \"blue\"]\n",
    "    )\n",
    "\n",
    "    fig.update_layout(\n",
    "        xaxis_title=\"User score\", yaxis_title=\"Probability density\", title=\"User scores for PC and XOne\"\n",
    "    )\n",
    "\n",
    "    # means\n",
    "    fig.add_traces(\n",
    "        px.line(\n",
    "            x=[pc_score.mean()] * 2,\n",
    "            y=[0, stats.gaussian_kde(pc_score)(pc_score.mean()).item()],\n",
    "            color_discrete_sequence=[\"purple\"],\n",
    "        ).data\n",
    "    )\n",
    "    fig.add_traces(\n",
    "        px.line(\n",
    "            x=[xone_score.mean()] * 2,\n",
    "            y=[0, stats.gaussian_kde(xone_score)(xone_score.mean()).item()],\n",
    "            color_discrete_sequence=[\"purple\"],\n",
    "        ).data\n",
    "    )\n",
    "\n",
    "    fig.show()\n",
    "\n",
    "    print(\"P-value:\", round(stats.ttest_ind(xone_score, pc_score, equal_var=False).pvalue, 4))"
   ]
  },
  {
   "cell_type": "code",
   "execution_count": null,
   "metadata": {
    "ExecuteTime": {
     "end_time": "2022-10-18T10:30:40.388612Z",
     "start_time": "2022-10-18T10:30:40.204925Z"
    }
   },
   "outputs": [],
   "source": [
    "years_slider = widgets.IntRangeSlider(value=[2013, 2016], min=1980, max=2016, continuous_update=False)\n",
    "interact(platform_ttest, data=widgets.fixed(data), years=years_slider);"
   ]
  },
  {
   "cell_type": "markdown",
   "metadata": {},
   "source": [
    "P-значение недостаточно мало, чтобы сказать, что разность в средних статистически значима и отвергнуть нулевую гипотезу. Я хочу посчитать p-значение вручную."
   ]
  },
  {
   "cell_type": "code",
   "execution_count": null,
   "metadata": {
    "ExecuteTime": {
     "end_time": "2022-10-18T10:30:40.402105Z",
     "start_time": "2022-10-18T10:30:40.389965Z"
    }
   },
   "outputs": [],
   "source": [
    "xone_score = data.query(\"2016 >= year_of_release >= 2013 and platform == 'XOne'\")[\"user_score\"].dropna()\n",
    "pc_score = data.query(\"2016 >= year_of_release >= 2013 and platform == 'PC'\")[\"user_score\"].dropna()\n",
    "\n",
    "sem = np.sqrt(xone_score.sem() ** 2 + pc_score.sem() ** 2)\n",
    "x = abs(xone_score.mean() - pc_score.mean()) / sem\n",
    "2 * (1 - stats.t.cdf(x, len(xone_score) + len(pc_score) - 2))"
   ]
  },
  {
   "cell_type": "markdown",
   "metadata": {},
   "source": [
    "Не знаю, откуда эта неточность."
   ]
  },
  {
   "cell_type": "markdown",
   "metadata": {},
   "source": [
    "## Средние пользовательские рейтинги жанров Action и Sports разные."
   ]
  },
  {
   "cell_type": "markdown",
   "metadata": {},
   "source": [
    "**Нулевая гипотеза:** Средние рейтинги жанров Action и Sports одинаковые.\n",
    "\n",
    "**Альтернативная гипотеза:** Средние рейтинги отличаются."
   ]
  },
  {
   "cell_type": "code",
   "execution_count": null,
   "metadata": {
    "ExecuteTime": {
     "end_time": "2022-10-18T10:30:40.408564Z",
     "start_time": "2022-10-18T10:30:40.403506Z"
    }
   },
   "outputs": [],
   "source": [
    "def genre_ttest(data, years):\n",
    "    action_score = data.query(\"@years[1] >= year_of_release >= @years[0] and genre == 'Action'\")[\n",
    "        \"user_score\"\n",
    "    ].dropna()\n",
    "    sports_score = data.query(\"@years[1] >= year_of_release >= @years[0] and genre == 'Sports'\")[\n",
    "        \"user_score\"\n",
    "    ].dropna()\n",
    "\n",
    "    fig = ff.create_distplot(\n",
    "        [action_score, sports_score],\n",
    "        [\"Action\", \"Sports\"],\n",
    "        show_hist=False,\n",
    "        show_rug=False,\n",
    "        colors=[\"red\", \"blue\"],\n",
    "    )\n",
    "\n",
    "    fig.update_layout(\n",
    "        xaxis_title=\"User score\",\n",
    "        yaxis_title=\"Probability density\",\n",
    "        title=\"User scores for Action and Sports genres\",\n",
    "    )\n",
    "\n",
    "    # means\n",
    "    fig.add_traces(\n",
    "        px.line(\n",
    "            x=[action_score.mean()] * 2,\n",
    "            y=[0, stats.gaussian_kde(action_score)(action_score.mean()).item()],\n",
    "            color_discrete_sequence=[\"purple\"],\n",
    "        ).data\n",
    "    )\n",
    "    fig.add_traces(\n",
    "        px.line(\n",
    "            x=[sports_score.mean()] * 2,\n",
    "            y=[0, stats.gaussian_kde(sports_score)(sports_score.mean()).item()],\n",
    "            color_discrete_sequence=[\"purple\"],\n",
    "        ).data\n",
    "    )\n",
    "\n",
    "    fig.show()\n",
    "\n",
    "    print(\"P-value:\", round(stats.ttest_ind(action_score, sports_score, equal_var=False).pvalue, 4))"
   ]
  },
  {
   "cell_type": "code",
   "execution_count": null,
   "metadata": {
    "ExecuteTime": {
     "end_time": "2022-10-18T10:30:40.576364Z",
     "start_time": "2022-10-18T10:30:40.410064Z"
    }
   },
   "outputs": [],
   "source": [
    "years_slider = widgets.IntRangeSlider(value=[2013, 2016], min=1980, max=2016, continuous_update=False)\n",
    "interact(genre_ttest, data=widgets.fixed(data), years=years_slider);"
   ]
  },
  {
   "cell_type": "markdown",
   "metadata": {
    "ExecuteTime": {
     "end_time": "2022-05-31T10:24:59.708952Z",
     "start_time": "2022-05-31T10:24:59.696096Z"
    }
   },
   "source": [
    "P-значение очень мало, так что можно отвергнуть нулевую гипотезу и принять альтернативную. Значит, разность между средними рейтингами игр жанра action и sport статистически значима."
   ]
  },
  {
   "cell_type": "code",
   "execution_count": null,
   "metadata": {
    "ExecuteTime": {
     "end_time": "2022-10-18T10:30:40.592038Z",
     "start_time": "2022-10-18T10:30:40.578030Z"
    }
   },
   "outputs": [],
   "source": [
    "action_score = data.query(\"2016 >= year_of_release >= 2013 and genre == 'Action'\")[\"user_score\"].dropna()\n",
    "sports_score = data.query(\"2016 >= year_of_release >= 2013 and genre == 'Sports'\")[\"user_score\"].dropna()\n",
    "\n",
    "\n",
    "sem = pd.concat((action_score, sports_score)).std() * np.sqrt(1 / len(action_score) + 1 / len(sports_score))\n",
    "x = abs(action_score.mean() - sports_score.mean()) / sem\n",
    "2 * (1 - stats.t.cdf(x, len(action_score) + len(sports_score) - 2))"
   ]
  },
  {
   "cell_type": "markdown",
   "metadata": {},
   "source": [
    "# Важность признаков"
   ]
  },
  {
   "cell_type": "markdown",
   "metadata": {},
   "source": [
    "Проблема проведенного выше анализа в том, что он не дает понять, какой признак является наиболее сильным. И оценки критиков и игроков, и платформа, и жанр, и рейтинг влияют на количество проданных копий. Но что влияет больше? Для того чтобы измерить важность признаков, мы обучим какую-нибудь модель, а потом посмотрим, какие признаки больше всего помогли ей в предсказании продаж. Для этого я использовал библиотеку градиентного бустинга от Яндекса - Catboost. Сначала рассмотрим весь промежуток времени."
   ]
  },
  {
   "cell_type": "code",
   "execution_count": null,
   "metadata": {
    "ExecuteTime": {
     "end_time": "2022-10-18T10:30:40.599012Z",
     "start_time": "2022-10-18T10:30:40.593484Z"
    }
   },
   "outputs": [],
   "source": [
    "X = data.drop(\n",
    "    columns=[\"name\", \"decade_of_release\", \"na_sales\", \"eu_sales\", \"jp_sales\", \"other_sales\", \"total_sales\"]\n",
    ")\n",
    "y = data[[\"na_sales\", \"eu_sales\", \"jp_sales\", \"other_sales\", \"total_sales\"]]\n",
    "cat_features = X.select_dtypes(exclude=\"number\").columns.values"
   ]
  },
  {
   "cell_type": "code",
   "execution_count": null,
   "metadata": {
    "ExecuteTime": {
     "end_time": "2022-10-18T10:30:40.636416Z",
     "start_time": "2022-10-18T10:30:40.600474Z"
    }
   },
   "outputs": [],
   "source": [
    "X[\"rating\"].fillna(\"nan\", inplace=True)\n",
    "X_train, X_test, y_train, y_test = train_test_split(X, y, test_size=0.2)\n",
    "\n",
    "pool = Pool(X, y, cat_features)\n",
    "train_pool = Pool(X_train, y_train, cat_features)\n",
    "test_pool = Pool(X_test, y_test, cat_features)"
   ]
  },
  {
   "cell_type": "markdown",
   "metadata": {},
   "source": [
    "Чем лучше модель предсказывает продажи, тем более надежны выданные ею важности признаков. Чтобы посмотреть на среднее качество модели, я проведу кросс-валидацию. То есть разобью генеральную совокупность на выборки, и на этих выборках обучу и оценю качество модели. Потом уже обучу финальную модель."
   ]
  },
  {
   "cell_type": "code",
   "execution_count": null,
   "metadata": {
    "ExecuteTime": {
     "end_time": "2022-10-18T10:30:40.640832Z",
     "start_time": "2022-10-18T10:30:40.637738Z"
    }
   },
   "outputs": [],
   "source": [
    "cv_params = dict(\n",
    "    objective=\"MultiRMSE\",\n",
    "    iterations=5000,\n",
    "    early_stopping_rounds=500,\n",
    "    one_hot_max_size=100,\n",
    ")\n",
    "\n",
    "folds = ShuffleSplit(test_size=0.2)"
   ]
  },
  {
   "cell_type": "code",
   "execution_count": null,
   "metadata": {
    "ExecuteTime": {
     "end_time": "2022-10-18T10:34:39.791346Z",
     "start_time": "2022-10-18T10:30:40.642211Z"
    }
   },
   "outputs": [],
   "source": [
    "cv(\n",
    "    pool,\n",
    "    cv_params,\n",
    "    folds=folds,\n",
    "    logging_level=\"Silent\",\n",
    "    plot=True,\n",
    ");"
   ]
  },
  {
   "cell_type": "markdown",
   "metadata": {},
   "source": [
    "График выше показывает среднюю квадратичную ошибку в зависимости от количества решающих деревьев в модели для 3 моделей, обученных на разных выборках. Чем ниже ошибка, тем лучше. Как видим, качество модели немало зависит от разделения на обучающую и тестовую выборку."
   ]
  },
  {
   "cell_type": "code",
   "execution_count": null,
   "metadata": {
    "ExecuteTime": {
     "end_time": "2022-10-18T10:34:47.167297Z",
     "start_time": "2022-10-18T10:34:39.793050Z"
    }
   },
   "outputs": [],
   "source": [
    "model = CatBoostRegressor(**cv_params)\n",
    "\n",
    "model.fit(\n",
    "    train_pool,\n",
    "    eval_set=test_pool,\n",
    "    silent=True,\n",
    "    plot=True,\n",
    ");"
   ]
  },
  {
   "cell_type": "code",
   "execution_count": null,
   "metadata": {
    "ExecuteTime": {
     "end_time": "2022-10-18T10:34:47.184780Z",
     "start_time": "2022-10-18T10:34:47.168552Z"
    }
   },
   "outputs": [],
   "source": [
    "y_hat = pd.DataFrame(model.predict(test_pool), columns=y.columns)\n",
    "y_hat[\"total_sales_separate\"] = y_hat.sum(axis=1) - y_hat[\"total_sales\"]\n",
    "y_hat[y_hat < 0] = 0\n",
    "y_hat.head()"
   ]
  },
  {
   "cell_type": "code",
   "execution_count": null,
   "metadata": {
    "ExecuteTime": {
     "end_time": "2022-10-18T10:34:47.195117Z",
     "start_time": "2022-10-18T10:34:47.186227Z"
    }
   },
   "outputs": [],
   "source": [
    "y_test[\"total_sales_separate\"] = y_test[\"total_sales\"]\n",
    "\n",
    "metrics = {\n",
    "    \"R2\": r2_score(y_test, y_hat, multioutput=\"raw_values\"),\n",
    "    \"MAE\": mean_absolute_error(y_test, y_hat, multioutput=\"raw_values\"),\n",
    "    \"MAE_scaled\": mean_absolute_error(y_test, y_hat, multioutput=\"raw_values\") / y_test.std(),\n",
    "}\n",
    "\n",
    "metrics = pd.DataFrame(metrics, index=y_test.columns)"
   ]
  },
  {
   "cell_type": "code",
   "execution_count": null,
   "metadata": {
    "ExecuteTime": {
     "end_time": "2022-10-18T10:34:47.201122Z",
     "start_time": "2022-10-18T10:34:47.196432Z"
    }
   },
   "outputs": [],
   "source": [
    "with pd.option_context(\"display.float_format\", \"{:,.4f}\".format):\n",
    "    display(metrics)"
   ]
  },
  {
   "cell_type": "markdown",
   "metadata": {},
   "source": [
    "Модель на примерно на 30% лучше простого среднего, а ее предсказания в среднем ошибаются на половину стандартного отклонения. По качеству предсказаний нет разницы предсказывать total_sales сразу или сначала na_sales, ..., other_sales, а потом их суммировать."
   ]
  },
  {
   "cell_type": "code",
   "execution_count": null,
   "metadata": {
    "ExecuteTime": {
     "end_time": "2022-10-18T10:34:47.246954Z",
     "start_time": "2022-10-18T10:34:47.202508Z"
    },
    "id": "jLZPYPl0C_KP"
   },
   "outputs": [],
   "source": [
    "model.get_feature_importance(test_pool, prettified=True)"
   ]
  },
  {
   "cell_type": "markdown",
   "metadata": {
    "ExecuteTime": {
     "end_time": "2022-05-27T20:14:52.340054Z",
     "start_time": "2022-05-27T20:14:52.330256Z"
    }
   },
   "source": [
    "Данные значения важности показывают, как сильно изменятся предсказания, если изменится признак. Catboost использует свой алгоритм подсчета важностей признаков, который достаточно плохо интерпретируется. Поэтому я посмотрю еще на важности признаков при простом перемешивании значений признака."
   ]
  },
  {
   "cell_type": "code",
   "execution_count": null,
   "metadata": {
    "ExecuteTime": {
     "end_time": "2022-10-18T10:34:50.583825Z",
     "start_time": "2022-10-18T10:34:47.248206Z"
    }
   },
   "outputs": [],
   "source": [
    "perm_results = permutation_importance(model, X_test, y_test.drop(\"total_sales_separate\", axis=1), n_jobs=-1)\n",
    "perm_results.pop(\"importances\")\n",
    "pd.DataFrame(perm_results, index=X.columns).sort_values(by=\"importances_mean\", ascending=False)"
   ]
  },
  {
   "cell_type": "markdown",
   "metadata": {},
   "source": [
    "Оба метода показывают, что самыми важными признаками являются оценка критиков и платформа игры. Меньше всего важны рейтинг и оценка пользователей (как ни странно). Возможно, оценка пользователей коррелирует с оценкой критиков (0.59), и поэтому мало важна для модели. Посмотрим на shap-значения. Грубо говоря, shap-значения показывают, какой признак сколько внес в итоговое предсказание, так что чем больше абсолютное shap-значение, тем лучше."
   ]
  },
  {
   "cell_type": "code",
   "execution_count": null,
   "metadata": {
    "ExecuteTime": {
     "end_time": "2022-10-18T10:34:54.733692Z",
     "start_time": "2022-10-18T10:34:50.588692Z"
    },
    "id": "zAwY_WWE9Tzx"
   },
   "outputs": [],
   "source": [
    "shap_values = model.get_feature_importance(test_pool, type=\"ShapValues\", shap_calc_type=\"Exact\")\n",
    "\n",
    "expected_values = shap_values[0, :, -1]\n",
    "shap_values = shap_values[:, :, :-1]"
   ]
  },
  {
   "cell_type": "code",
   "execution_count": null,
   "metadata": {
    "ExecuteTime": {
     "end_time": "2022-10-18T10:34:54.738176Z",
     "start_time": "2022-10-18T10:34:54.735346Z"
    }
   },
   "outputs": [],
   "source": [
    "sales = {column: i for i, column in enumerate(y.columns)}\n",
    "summary_plot = lambda shap_values, X, y: shap.summary_plot(shap_values[:, sales[y]], X)"
   ]
  },
  {
   "cell_type": "code",
   "execution_count": null,
   "metadata": {
    "ExecuteTime": {
     "end_time": "2022-10-18T10:34:55.192566Z",
     "start_time": "2022-10-18T10:34:54.739440Z"
    }
   },
   "outputs": [],
   "source": [
    "interact(summary_plot, shap_values=widgets.fixed(shap_values), X=widgets.fixed(X_test), y=y.columns);"
   ]
  },
  {
   "cell_type": "markdown",
   "metadata": {},
   "source": [
    "CatBoost переводит категориальные признаки в хеши, и их числовые значения не имеют значения, поэтому категориальные признаки на графике окрашены в серый. Видим, что чем больше оценка критиков, тем выше shap-значения. Чем меньше количество поддерживаемых платформ, тем меньше shap-значения."
   ]
  },
  {
   "cell_type": "code",
   "execution_count": null,
   "metadata": {
    "ExecuteTime": {
     "end_time": "2022-10-18T10:34:55.467990Z",
     "start_time": "2022-10-18T10:34:55.194293Z"
    }
   },
   "outputs": [],
   "source": [
    "dependence_plot = lambda shap_values, X, y, column: shap.dependence_plot(column, shap_values[:, sales[y]], X)\n",
    "interact(\n",
    "    dependence_plot,\n",
    "    shap_values=widgets.fixed(shap_values),\n",
    "    X=widgets.fixed(X_test),\n",
    "    y=y.columns,\n",
    "    column=X.columns,\n",
    ");"
   ]
  },
  {
   "cell_type": "markdown",
   "metadata": {},
   "source": [
    "Из графиков мы видим примерно то же самое, что видели из диаграмм рассеяния и диаграмм размаха. Видно, что PC преимущественно влияет негативно на продажи, а платформы PS2/3/4, Wii и X360/XOne - положительно. Шутеры, платформеры и файтинги увеличивают shap-значения, приключения, стратегии и пазлы уменьшают. Также shap-значения повышают симуляторы. Рейтинги E10+ и T понижают продажи, а M и Е повышают. Так же как было видно на диаграмме рассеяния, оценка критиков начинает влиять только после ~60. Однако, это показатели за все время. Наша задача предсказать продажи в следующих годах. Какой промежуток времени для анализа выбрать? Из графиков наверху (повторил внизу) мы видели, что платформы живут ~10 лет, а на текущий момент почти все крупные платформы уходят с рынка, потому что появились новые платформы PS4 и XOne. То есть сейчас идет начало цикла. Для того чтобы предсказать, что будет в середине цикла, надо взять уже прошедший цикл и посмотреть на нем важность признаков. Я выберу цикл с 2005 года, когда появились X360, DS, Wii, PS3, PSP, по текущий момент, когда все эти платформы уже изжили себя."
   ]
  },
  {
   "cell_type": "code",
   "execution_count": null,
   "metadata": {
    "ExecuteTime": {
     "end_time": "2022-10-18T10:34:55.818465Z",
     "start_time": "2022-10-18T10:34:55.470271Z"
    }
   },
   "outputs": [],
   "source": [
    "years_slider = widgets.IntRangeSlider(value=[2000, 2016], min=1980, max=2016, continuous_update=False)\n",
    "interact(sales_by_year, data=widgets.fixed(data), years=years_slider, platforms=(1, 10), smooth=[True, False]);"
   ]
  },
  {
   "cell_type": "code",
   "execution_count": null,
   "metadata": {
    "ExecuteTime": {
     "end_time": "2022-10-18T10:34:55.829127Z",
     "start_time": "2022-10-18T10:34:55.819811Z"
    }
   },
   "outputs": [],
   "source": [
    "def get_feature_importance(data, years, with_shap=False):\n",
    "\n",
    "    data = data.query(\"@years[0] <= year_of_release <= @years[1]\")\n",
    "\n",
    "    X = data.drop(\n",
    "        columns=[\n",
    "            \"name\",\n",
    "            \"decade_of_release\",\n",
    "            \"na_sales\",\n",
    "            \"eu_sales\",\n",
    "            \"jp_sales\",\n",
    "            \"other_sales\",\n",
    "            \"total_sales\",\n",
    "        ]\n",
    "    )\n",
    "    y = data[[\"na_sales\", \"eu_sales\", \"jp_sales\", \"other_sales\", \"total_sales\"]]\n",
    "\n",
    "    X[\"rating\"].fillna(\"nan\", inplace=True)\n",
    "    X_train, X_test, y_train, y_test = train_test_split(X, y, test_size=0.2)\n",
    "\n",
    "    pool = Pool(X, y, cat_features)\n",
    "    train_pool = Pool(X_train, y_train, cat_features)\n",
    "    test_pool = Pool(X_test, y_test, cat_features)\n",
    "\n",
    "    model = CatBoostRegressor(**cv_params)\n",
    "\n",
    "    model.fit(\n",
    "        train_pool,\n",
    "        eval_set=test_pool,\n",
    "        silent=True,\n",
    "        plot=True,\n",
    "    )\n",
    "\n",
    "    y_hat = pd.DataFrame(model.predict(test_pool), columns=y.columns)\n",
    "    y_hat[y_hat < 0] = 0\n",
    "\n",
    "    metrics = {\n",
    "        \"R2\": r2_score(y_test, y_hat, multioutput=\"raw_values\"),\n",
    "        \"MAE\": mean_absolute_error(y_test, y_hat, multioutput=\"raw_values\"),\n",
    "        \"MAE_scaled\": mean_absolute_error(y_test, y_hat, multioutput=\"raw_values\") / y_test.std(),\n",
    "    }\n",
    "    metrics = pd.DataFrame(metrics, index=y_test.columns)\n",
    "\n",
    "    perm_results = permutation_importance(model, X_test, y_test, n_jobs=-1)\n",
    "    perm_results.pop(\"importances\")\n",
    "    perm_results = pd.DataFrame(perm_results, index=X.columns).sort_values(\n",
    "        by=\"importances_mean\", ascending=False\n",
    "    )\n",
    "\n",
    "    with pd.option_context(\"display.float_format\", \"{:,.4f}\".format):\n",
    "        print(\"METRICS\")\n",
    "        display(metrics)\n",
    "        print(\"MODEL FEATURE IMPORTANCES\")\n",
    "        display(model.get_feature_importance(test_pool, prettified=True))\n",
    "        print(\"PERMUTATION IMPORTANCE\")\n",
    "        display(perm_results)\n",
    "\n",
    "    if with_shap:\n",
    "\n",
    "        shap_values = model.get_feature_importance(test_pool, type=\"ShapValues\")\n",
    "        expected_values = shap_values[0, :, -1]\n",
    "        shap_values = shap_values[:, :, :-1]\n",
    "\n",
    "        interact(summary_plot, shap_values=widgets.fixed(shap_values), X=widgets.fixed(X_test), y=y.columns)\n",
    "        interact(\n",
    "            dependence_plot,\n",
    "            shap_values=widgets.fixed(shap_values),\n",
    "            X=widgets.fixed(X_test),\n",
    "            y=y.columns,\n",
    "            column=X.columns,\n",
    "        )"
   ]
  },
  {
   "cell_type": "code",
   "execution_count": null,
   "metadata": {
    "ExecuteTime": {
     "end_time": "2022-10-18T10:34:55.884600Z",
     "start_time": "2022-10-18T10:34:55.854216Z"
    },
    "scrolled": false
   },
   "outputs": [],
   "source": [
    "years_slider = widgets.IntRangeSlider(value=[2005, 2016], min=1980, max=2016, continuous_update=False)\n",
    "interact_manual(get_feature_importance, data=widgets.fixed(data), years=years_slider, with_shap=[False, True]);"
   ]
  },
  {
   "cell_type": "markdown",
   "metadata": {},
   "source": [
    "Для последних 15 лет результаты предсказания немного лучше для Северной Америки и Европы, но хуже для Японии. Важными признаками остались оценка критиков и платформа. Важным стал жанр игры. Также количество поддерживаемых платформ стало больше значить. Рейтинг и оценка пользователей остались маловажными признаками, и перестал быть важным год выпуска (что вполне логично для периода в 15 лет)."
   ]
  },
  {
   "cell_type": "markdown",
   "metadata": {},
   "source": [
    "Если обучить модель на данных последних 3 лет, то получим примерно такие же результаты, что значит, что важность оценок критиков и платформы мало зависят от времени и почти всегда являются одними из главных признаков."
   ]
  },
  {
   "cell_type": "markdown",
   "metadata": {},
   "source": [
    "# Итог"
   ]
  },
  {
   "cell_type": "markdown",
   "metadata": {},
   "source": [
    "Наиболее сильными признаками являются оценка критиков и платформа игры. За ними идут количество поддерживаемых платформ и жанр. Год выпуска, рейтинг и оценка пользователей мало влияют на продажи (продажи зависят от оценки пользователей, но оценка критиков лучше моделирует продажи, а оценка пользователей практически не привносит никакой новой информации).\n",
    "\n",
    "\n",
    "**За все время:**\n",
    "\n",
    "\n",
    "* Оценка критиков начинает сильно положительно влиять на продажи только когда выше ~60.\n",
    "\n",
    "\n",
    "* Самыми продаваемыми платформами являются PS2/3/4, X360/XOne и Wii. Хуже всего продаются компьютерные игры. Платформы в среднем живут 6-10 лет и пик продаж наступает на 3-5 год.\n",
    "\n",
    "\n",
    "* Общие продажи снизились с 1980 года и последние 10 лет примерно одинаковы (относительно всего периода).\n",
    "\n",
    "\n",
    "* Чем выше количество поддерживаемых платформ, тем больше продажи.\n",
    "\n",
    "\n",
    "* Лучше всего продаются шутеры, платформеры и гонки, хуже всего - приключения, стратегии и пазлы.\n",
    "\n",
    "\n",
    "* Чем выше оценка пользователей, тем выше продажи.\n",
    "\n",
    "\n",
    "* Игры с рейтингом M продаются чуть лучше.\n",
    "\n",
    "\n",
    "**За последние 5 лет:**\n",
    "\n",
    "\n",
    "* За последние 5 лет виден спад в продажах видеоигр.\n",
    "\n",
    "\n",
    "* Почти все крупные платформы уже отжили свое, продажи растут только у новых консолей PS4 и XOne.\n",
    "\n",
    "\n",
    "* Платформеры и гонки стали чуть хуже продаваться.\n",
    "\n",
    "\n",
    "**По регионам:**\n",
    "\n",
    "\n",
    "Население Европы и Северной Америки имеют схожие вкусы. Они играют на современных настольных консолях в шутеры, гонки и платформеры. Предпочитают игры с рейтингом M или E10+. Японцы же играют в портативные консоли (PSP, PSV, 3DS), и играют в основном в ролевые игры, файтинг и стратегии. Для них предпочтительнее игры без рейтинга и игры с рейтингом T.\n",
    "\n",
    "\n",
    "**Гипотезы:**\n",
    "\n",
    "\n",
    "* Не смогли отвергнуть нулевую гипотезу о том, что средние рейтинги платформ XOne и PC одинаковые.\n",
    "\n",
    "\n",
    "* Показали, что вероятность, что средние пользовательские рейтинги жанров Action и Sports одинаковые - крайне мала. Мы принимаем альтернативную гипотезу о том, что средние рейтинги отличаются.\n"
   ]
  }
 ],
 "metadata": {
  "ExecuteTimeLog": [
   {
    "duration": 1856,
    "start_time": "2022-05-28T15:46:20.265Z"
   },
   {
    "duration": 8178,
    "start_time": "2022-05-28T15:46:39.298Z"
   },
   {
    "duration": 2224,
    "start_time": "2022-05-28T15:47:54.707Z"
   },
   {
    "duration": 66,
    "start_time": "2022-05-28T15:48:17.604Z"
   },
   {
    "duration": 216,
    "start_time": "2022-05-28T15:48:20.522Z"
   },
   {
    "duration": 212,
    "start_time": "2022-05-28T15:48:34.275Z"
   },
   {
    "duration": 29,
    "start_time": "2022-05-28T15:48:37.098Z"
   },
   {
    "duration": 27,
    "start_time": "2022-05-28T15:48:38.363Z"
   },
   {
    "duration": 27,
    "start_time": "2022-05-28T15:48:38.958Z"
   },
   {
    "duration": 43,
    "start_time": "2022-05-28T15:48:40.519Z"
   },
   {
    "duration": 22,
    "start_time": "2022-05-28T15:48:42.457Z"
   },
   {
    "duration": 40,
    "start_time": "2022-05-28T15:48:43.551Z"
   },
   {
    "duration": 11,
    "start_time": "2022-05-28T15:48:44.957Z"
   },
   {
    "duration": 24,
    "start_time": "2022-05-28T15:49:18.206Z"
   },
   {
    "duration": 20,
    "start_time": "2022-05-28T15:49:20.852Z"
   },
   {
    "duration": 5,
    "start_time": "2022-05-28T15:49:22.136Z"
   },
   {
    "duration": 19,
    "start_time": "2022-05-28T15:49:22.499Z"
   },
   {
    "duration": 27,
    "start_time": "2022-05-28T15:49:22.872Z"
   },
   {
    "duration": 18,
    "start_time": "2022-05-28T15:49:23.378Z"
   },
   {
    "duration": 8,
    "start_time": "2022-05-28T15:49:24.662Z"
   },
   {
    "duration": 42,
    "start_time": "2022-05-28T15:49:25.087Z"
   },
   {
    "duration": 29,
    "start_time": "2022-05-28T15:49:26.367Z"
   },
   {
    "duration": 15,
    "start_time": "2022-05-28T15:49:28.009Z"
   },
   {
    "duration": 47,
    "start_time": "2022-05-28T15:49:31.501Z"
   },
   {
    "duration": 16,
    "start_time": "2022-05-28T15:49:52.201Z"
   },
   {
    "duration": 5,
    "start_time": "2022-05-28T15:49:53.263Z"
   },
   {
    "duration": 1131,
    "start_time": "2022-05-28T15:49:54.454Z"
   },
   {
    "duration": 4,
    "start_time": "2022-05-28T15:50:39.219Z"
   },
   {
    "duration": 815,
    "start_time": "2022-05-28T15:50:39.557Z"
   },
   {
    "duration": 7,
    "start_time": "2022-05-28T15:51:01.883Z"
   },
   {
    "duration": 87,
    "start_time": "2022-05-28T15:51:05.100Z"
   },
   {
    "duration": 16693,
    "start_time": "2022-05-28T15:51:36.314Z"
   },
   {
    "duration": 14816,
    "start_time": "2022-05-28T15:52:00.329Z"
   },
   {
    "duration": 1904,
    "start_time": "2022-05-28T15:52:24.210Z"
   },
   {
    "duration": 40,
    "start_time": "2022-05-28T15:52:26.117Z"
   },
   {
    "duration": 117,
    "start_time": "2022-05-28T15:52:26.160Z"
   },
   {
    "duration": 39,
    "start_time": "2022-05-28T15:52:26.280Z"
   },
   {
    "duration": 33,
    "start_time": "2022-05-28T15:52:26.394Z"
   },
   {
    "duration": 32,
    "start_time": "2022-05-28T15:52:26.790Z"
   },
   {
    "duration": 49,
    "start_time": "2022-05-28T15:52:27.697Z"
   },
   {
    "duration": 17,
    "start_time": "2022-05-28T15:52:28.732Z"
   },
   {
    "duration": 37,
    "start_time": "2022-05-28T15:52:29.497Z"
   },
   {
    "duration": 13,
    "start_time": "2022-05-28T15:52:30.170Z"
   },
   {
    "duration": 28,
    "start_time": "2022-05-28T15:52:30.898Z"
   },
   {
    "duration": 45,
    "start_time": "2022-05-28T15:52:31.562Z"
   },
   {
    "duration": 7,
    "start_time": "2022-05-28T15:52:32.258Z"
   },
   {
    "duration": 21,
    "start_time": "2022-05-28T15:52:32.670Z"
   },
   {
    "duration": 22,
    "start_time": "2022-05-28T15:52:32.990Z"
   },
   {
    "duration": 19,
    "start_time": "2022-05-28T15:52:33.374Z"
   },
   {
    "duration": 12,
    "start_time": "2022-05-28T15:52:34.100Z"
   },
   {
    "duration": 38,
    "start_time": "2022-05-28T15:52:34.470Z"
   },
   {
    "duration": 13,
    "start_time": "2022-05-28T15:52:34.858Z"
   },
   {
    "duration": 27,
    "start_time": "2022-05-28T15:52:35.670Z"
   },
   {
    "duration": 44,
    "start_time": "2022-05-28T15:52:36.798Z"
   },
   {
    "duration": 18,
    "start_time": "2022-05-28T15:52:37.497Z"
   },
   {
    "duration": 10,
    "start_time": "2022-05-28T15:52:37.872Z"
   },
   {
    "duration": 1214,
    "start_time": "2022-05-28T15:52:38.284Z"
   },
   {
    "duration": 16,
    "start_time": "2022-05-28T15:52:41.309Z"
   },
   {
    "duration": 1167,
    "start_time": "2022-05-28T15:52:42.153Z"
   },
   {
    "duration": 5,
    "start_time": "2022-05-28T15:52:43.323Z"
   },
   {
    "duration": 403,
    "start_time": "2022-05-28T15:52:43.331Z"
   },
   {
    "duration": 8,
    "start_time": "2022-05-28T15:52:51.302Z"
   },
   {
    "duration": 1202,
    "start_time": "2022-05-28T15:52:53.908Z"
   },
   {
    "duration": 8,
    "start_time": "2022-05-28T15:52:55.870Z"
   },
   {
    "duration": 291,
    "start_time": "2022-05-28T15:52:57.039Z"
   },
   {
    "duration": 13,
    "start_time": "2022-05-28T15:53:12.814Z"
   },
   {
    "duration": 714,
    "start_time": "2022-05-28T15:53:13.213Z"
   },
   {
    "duration": 9,
    "start_time": "2022-05-28T15:55:54.195Z"
   },
   {
    "duration": 30,
    "start_time": "2022-05-28T15:55:55.135Z"
   },
   {
    "duration": 4,
    "start_time": "2022-05-28T15:55:56.380Z"
   },
   {
    "duration": 83201,
    "start_time": "2022-05-28T15:56:00.792Z"
   },
   {
    "duration": 3,
    "start_time": "2022-05-28T15:57:29.616Z"
   },
   {
    "duration": 102019,
    "start_time": "2022-05-28T15:57:30.421Z"
   },
   {
    "duration": 41101,
    "start_time": "2022-05-28T16:00:00.419Z"
   },
   {
    "duration": 88,
    "start_time": "2022-05-28T16:01:10.168Z"
   },
   {
    "duration": 16,
    "start_time": "2022-05-28T16:01:11.151Z"
   },
   {
    "duration": 8,
    "start_time": "2022-05-28T16:01:12.665Z"
   },
   {
    "duration": 55,
    "start_time": "2022-05-28T16:01:15.218Z"
   },
   {
    "duration": 1713,
    "start_time": "2022-05-28T16:01:17.099Z"
   },
   {
    "duration": 9120,
    "start_time": "2022-05-28T16:02:21.760Z"
   },
   {
    "duration": 3,
    "start_time": "2022-05-28T16:02:32.367Z"
   },
   {
    "duration": 933,
    "start_time": "2022-05-28T16:02:33.220Z"
   },
   {
    "duration": 549,
    "start_time": "2022-05-28T16:02:36.867Z"
   },
   {
    "duration": 9,
    "start_time": "2022-05-28T16:02:44.926Z"
   },
   {
    "duration": 36,
    "start_time": "2022-05-28T16:02:46.258Z"
   },
   {
    "duration": 28,
    "start_time": "2022-05-28T16:03:01.594Z"
   },
   {
    "duration": 37,
    "start_time": "2022-05-28T16:03:11.808Z"
   },
   {
    "duration": 13,
    "start_time": "2022-05-28T16:08:37.718Z"
   },
   {
    "duration": 27,
    "start_time": "2022-05-28T16:09:01.861Z"
   },
   {
    "duration": 15,
    "start_time": "2022-05-28T16:10:04.124Z"
   },
   {
    "duration": 22,
    "start_time": "2022-05-28T16:10:41.606Z"
   },
   {
    "duration": 1816,
    "start_time": "2022-05-28T16:13:58.831Z"
   },
   {
    "duration": 58,
    "start_time": "2022-05-28T16:14:00.649Z"
   },
   {
    "duration": 85,
    "start_time": "2022-05-28T16:14:00.710Z"
   },
   {
    "duration": 21,
    "start_time": "2022-05-28T16:14:00.849Z"
   },
   {
    "duration": 19,
    "start_time": "2022-05-28T16:14:01.314Z"
   },
   {
    "duration": 33,
    "start_time": "2022-05-28T16:14:01.897Z"
   },
   {
    "duration": 42,
    "start_time": "2022-05-28T16:14:02.458Z"
   },
   {
    "duration": 19,
    "start_time": "2022-05-28T16:14:03.402Z"
   },
   {
    "duration": 43,
    "start_time": "2022-05-28T16:14:04.006Z"
   },
   {
    "duration": 14,
    "start_time": "2022-05-28T16:14:04.610Z"
   },
   {
    "duration": 18,
    "start_time": "2022-05-28T16:14:05.408Z"
   },
   {
    "duration": 16,
    "start_time": "2022-05-28T16:14:06.152Z"
   },
   {
    "duration": 5,
    "start_time": "2022-05-28T16:14:06.919Z"
   },
   {
    "duration": 22,
    "start_time": "2022-05-28T16:14:07.299Z"
   },
   {
    "duration": 15,
    "start_time": "2022-05-28T16:14:08.157Z"
   },
   {
    "duration": 15,
    "start_time": "2022-05-28T16:14:08.757Z"
   },
   {
    "duration": 17919,
    "start_time": "2022-05-28T19:13:30.434Z"
   },
   {
    "duration": 2585,
    "start_time": "2022-05-28T19:14:59.246Z"
   },
   {
    "duration": 18,
    "start_time": "2022-05-28T19:15:06.394Z"
   },
   {
    "duration": 232,
    "start_time": "2022-05-28T19:15:20.548Z"
   },
   {
    "duration": 32,
    "start_time": "2022-05-28T19:15:21.934Z"
   },
   {
    "duration": 33,
    "start_time": "2022-05-28T19:15:22.775Z"
   },
   {
    "duration": 24,
    "start_time": "2022-05-28T19:15:23.280Z"
   },
   {
    "duration": 36,
    "start_time": "2022-05-28T19:15:27.875Z"
   },
   {
    "duration": 25,
    "start_time": "2022-05-28T19:15:29.283Z"
   },
   {
    "duration": 56,
    "start_time": "2022-05-28T19:15:30.479Z"
   },
   {
    "duration": 18,
    "start_time": "2022-05-28T19:15:31.253Z"
   },
   {
    "duration": 28,
    "start_time": "2022-05-28T19:15:32.038Z"
   },
   {
    "duration": 17,
    "start_time": "2022-05-28T19:15:32.679Z"
   },
   {
    "duration": 7,
    "start_time": "2022-05-28T19:15:33.376Z"
   },
   {
    "duration": 21,
    "start_time": "2022-05-28T19:15:33.734Z"
   },
   {
    "duration": 15,
    "start_time": "2022-05-28T19:15:34.121Z"
   },
   {
    "duration": 15,
    "start_time": "2022-05-28T19:15:34.433Z"
   },
   {
    "duration": 7,
    "start_time": "2022-05-28T19:15:35.080Z"
   },
   {
    "duration": 44,
    "start_time": "2022-05-28T19:15:35.437Z"
   },
   {
    "duration": 14,
    "start_time": "2022-05-28T19:15:35.803Z"
   },
   {
    "duration": 20,
    "start_time": "2022-05-28T19:15:36.533Z"
   },
   {
    "duration": 42,
    "start_time": "2022-05-28T19:15:37.739Z"
   },
   {
    "duration": 15,
    "start_time": "2022-05-28T19:15:38.586Z"
   },
   {
    "duration": 5,
    "start_time": "2022-05-28T19:15:39.114Z"
   },
   {
    "duration": 1033,
    "start_time": "2022-05-28T19:15:41.152Z"
   },
   {
    "duration": 6,
    "start_time": "2022-05-28T19:15:51.343Z"
   },
   {
    "duration": 325,
    "start_time": "2022-05-28T19:15:53.645Z"
   },
   {
    "duration": 7,
    "start_time": "2022-05-28T19:16:29.361Z"
   },
   {
    "duration": 324,
    "start_time": "2022-05-28T19:16:31.000Z"
   },
   {
    "duration": 5,
    "start_time": "2022-05-28T19:16:47.668Z"
   },
   {
    "duration": 852,
    "start_time": "2022-05-28T19:16:49.538Z"
   },
   {
    "duration": 3,
    "start_time": "2022-05-28T19:16:53.484Z"
   },
   {
    "duration": 148,
    "start_time": "2022-05-28T19:16:53.827Z"
   },
   {
    "duration": 6,
    "start_time": "2022-05-28T19:16:57.608Z"
   },
   {
    "duration": 1050,
    "start_time": "2022-05-28T19:16:57.933Z"
   },
   {
    "duration": 15,
    "start_time": "2022-05-28T19:16:58.987Z"
   },
   {
    "duration": 6,
    "start_time": "2022-05-28T19:16:59.526Z"
   },
   {
    "duration": 228,
    "start_time": "2022-05-28T19:17:10.725Z"
   },
   {
    "duration": 7,
    "start_time": "2022-05-28T19:17:50.893Z"
   },
   {
    "duration": 1008,
    "start_time": "2022-05-28T19:17:51.072Z"
   },
   {
    "duration": 55,
    "start_time": "2022-05-28T19:43:37.156Z"
   },
   {
    "duration": 34,
    "start_time": "2022-05-28T19:46:56.787Z"
   },
   {
    "duration": 45,
    "start_time": "2022-05-28T19:47:10.866Z"
   },
   {
    "duration": 41,
    "start_time": "2022-05-28T19:47:42.264Z"
   },
   {
    "duration": 47,
    "start_time": "2022-05-28T19:47:59.358Z"
   },
   {
    "duration": 74,
    "start_time": "2022-05-28T19:48:13.123Z"
   },
   {
    "duration": 16915,
    "start_time": "2022-05-28T21:35:18.988Z"
   },
   {
    "duration": 1721,
    "start_time": "2022-05-28T21:35:38.207Z"
   },
   {
    "duration": 2871,
    "start_time": "2022-05-28T21:35:49.035Z"
   },
   {
    "duration": 15,
    "start_time": "2022-05-28T21:35:56.066Z"
   },
   {
    "duration": 124,
    "start_time": "2022-05-28T21:35:59.659Z"
   },
   {
    "duration": 21,
    "start_time": "2022-05-28T21:36:00.912Z"
   },
   {
    "duration": 17,
    "start_time": "2022-05-28T21:36:01.259Z"
   },
   {
    "duration": 24,
    "start_time": "2022-05-28T21:36:01.586Z"
   },
   {
    "duration": 32,
    "start_time": "2022-05-28T21:36:02.415Z"
   },
   {
    "duration": 16,
    "start_time": "2022-05-28T21:36:03.252Z"
   },
   {
    "duration": 317,
    "start_time": "2022-05-28T21:36:03.991Z"
   },
   {
    "duration": 378,
    "start_time": "2022-05-28T21:36:04.687Z"
   },
   {
    "duration": 17,
    "start_time": "2022-05-28T21:36:05.574Z"
   },
   {
    "duration": 15,
    "start_time": "2022-05-28T21:36:06.375Z"
   },
   {
    "duration": 5,
    "start_time": "2022-05-28T21:36:07.315Z"
   },
   {
    "duration": 21,
    "start_time": "2022-05-28T21:36:07.715Z"
   },
   {
    "duration": 14,
    "start_time": "2022-05-28T21:36:08.067Z"
   },
   {
    "duration": 12,
    "start_time": "2022-05-28T21:36:08.558Z"
   },
   {
    "duration": 9,
    "start_time": "2022-05-28T21:36:09.556Z"
   },
   {
    "duration": 33,
    "start_time": "2022-05-28T21:36:10.112Z"
   },
   {
    "duration": 13,
    "start_time": "2022-05-28T21:36:11.134Z"
   },
   {
    "duration": 13,
    "start_time": "2022-05-28T21:36:12.389Z"
   },
   {
    "duration": 35,
    "start_time": "2022-05-28T21:36:13.975Z"
   },
   {
    "duration": 13,
    "start_time": "2022-05-28T21:36:16.320Z"
   },
   {
    "duration": 5,
    "start_time": "2022-05-28T21:36:16.956Z"
   },
   {
    "duration": 1635,
    "start_time": "2022-05-28T21:37:21.126Z"
   },
   {
    "duration": 47,
    "start_time": "2022-05-28T21:37:23.954Z"
   },
   {
    "duration": 65,
    "start_time": "2022-05-28T21:37:24.486Z"
   },
   {
    "duration": 20,
    "start_time": "2022-05-28T21:37:24.874Z"
   },
   {
    "duration": 17,
    "start_time": "2022-05-28T21:37:25.067Z"
   },
   {
    "duration": 19,
    "start_time": "2022-05-28T21:37:25.371Z"
   },
   {
    "duration": 35,
    "start_time": "2022-05-28T21:37:25.836Z"
   },
   {
    "duration": 16,
    "start_time": "2022-05-28T21:37:26.427Z"
   },
   {
    "duration": 27,
    "start_time": "2022-05-28T21:37:26.826Z"
   },
   {
    "duration": 10,
    "start_time": "2022-05-28T21:37:27.255Z"
   },
   {
    "duration": 16,
    "start_time": "2022-05-28T21:37:27.655Z"
   },
   {
    "duration": 16,
    "start_time": "2022-05-28T21:37:28.057Z"
   },
   {
    "duration": 5,
    "start_time": "2022-05-28T21:37:28.634Z"
   },
   {
    "duration": 15,
    "start_time": "2022-05-28T21:37:28.826Z"
   },
   {
    "duration": 13,
    "start_time": "2022-05-28T21:37:29.035Z"
   },
   {
    "duration": 13,
    "start_time": "2022-05-28T21:37:29.246Z"
   },
   {
    "duration": 6,
    "start_time": "2022-05-28T21:37:29.647Z"
   },
   {
    "duration": 30,
    "start_time": "2022-05-28T21:37:29.834Z"
   },
   {
    "duration": 16,
    "start_time": "2022-05-28T21:37:30.039Z"
   },
   {
    "duration": 18,
    "start_time": "2022-05-28T21:37:30.414Z"
   },
   {
    "duration": 33,
    "start_time": "2022-05-28T21:37:31.034Z"
   },
   {
    "duration": 17,
    "start_time": "2022-05-28T21:37:31.515Z"
   },
   {
    "duration": 7,
    "start_time": "2022-05-28T21:37:32.119Z"
   },
   {
    "duration": 16,
    "start_time": "2022-05-28T21:38:22.943Z"
   },
   {
    "duration": 28,
    "start_time": "2022-05-28T21:38:23.514Z"
   },
   {
    "duration": 8,
    "start_time": "2022-05-28T21:38:24.035Z"
   },
   {
    "duration": 12,
    "start_time": "2022-05-28T21:38:24.484Z"
   },
   {
    "duration": 1615,
    "start_time": "2022-05-28T21:38:33.493Z"
   },
   {
    "duration": 39,
    "start_time": "2022-05-28T21:38:35.110Z"
   },
   {
    "duration": 64,
    "start_time": "2022-05-28T21:39:03.045Z"
   },
   {
    "duration": 21,
    "start_time": "2022-05-28T21:39:05.265Z"
   },
   {
    "duration": 17,
    "start_time": "2022-05-28T21:39:05.593Z"
   },
   {
    "duration": 19,
    "start_time": "2022-05-28T21:39:06.065Z"
   },
   {
    "duration": 32,
    "start_time": "2022-05-28T21:39:06.685Z"
   },
   {
    "duration": 16,
    "start_time": "2022-05-28T21:39:07.805Z"
   },
   {
    "duration": 27,
    "start_time": "2022-05-28T21:39:08.566Z"
   },
   {
    "duration": 9,
    "start_time": "2022-05-28T21:39:09.245Z"
   },
   {
    "duration": 16,
    "start_time": "2022-05-28T21:39:10.044Z"
   },
   {
    "duration": 14,
    "start_time": "2022-05-28T21:39:10.793Z"
   },
   {
    "duration": 5,
    "start_time": "2022-05-28T21:39:11.559Z"
   },
   {
    "duration": 15,
    "start_time": "2022-05-28T21:39:11.879Z"
   },
   {
    "duration": 14,
    "start_time": "2022-05-28T21:39:12.172Z"
   },
   {
    "duration": 12,
    "start_time": "2022-05-28T21:39:12.553Z"
   },
   {
    "duration": 6,
    "start_time": "2022-05-28T21:39:13.334Z"
   },
   {
    "duration": 23,
    "start_time": "2022-05-28T21:39:13.693Z"
   },
   {
    "duration": 14,
    "start_time": "2022-05-28T21:39:14.025Z"
   },
   {
    "duration": 13,
    "start_time": "2022-05-28T21:39:15.333Z"
   },
   {
    "duration": 33,
    "start_time": "2022-05-28T21:39:16.525Z"
   },
   {
    "duration": 12,
    "start_time": "2022-05-28T21:39:17.274Z"
   },
   {
    "duration": 4,
    "start_time": "2022-05-28T21:39:17.754Z"
   },
   {
    "duration": 18158,
    "start_time": "2022-05-31T13:09:37.945Z"
   },
   {
    "duration": 2431,
    "start_time": "2022-05-31T13:10:09.338Z"
   },
   {
    "duration": 4715,
    "start_time": "2022-05-31T13:10:20.609Z"
   },
   {
    "duration": 3804,
    "start_time": "2022-05-31T13:10:29.449Z"
   },
   {
    "duration": 16,
    "start_time": "2022-05-31T13:10:35.828Z"
   },
   {
    "duration": 145,
    "start_time": "2022-05-31T13:10:36.985Z"
   },
   {
    "duration": 111,
    "start_time": "2022-05-31T13:10:44.838Z"
   },
   {
    "duration": 17,
    "start_time": "2022-05-31T13:10:47.113Z"
   },
   {
    "duration": 62,
    "start_time": "2022-05-31T13:10:51.279Z"
   },
   {
    "duration": 5115,
    "start_time": "2022-05-31T13:10:59.913Z"
   },
   {
    "duration": 2011,
    "start_time": "2022-05-31T13:11:05.031Z"
   },
   {
    "duration": 15,
    "start_time": "2022-05-31T13:11:07.044Z"
   },
   {
    "duration": 71,
    "start_time": "2022-05-31T13:11:12.235Z"
   },
   {
    "duration": 21,
    "start_time": "2022-05-31T13:11:13.012Z"
   },
   {
    "duration": 19,
    "start_time": "2022-05-31T13:11:13.289Z"
   },
   {
    "duration": 20,
    "start_time": "2022-05-31T13:11:13.538Z"
   },
   {
    "duration": 36,
    "start_time": "2022-05-31T13:11:13.986Z"
   },
   {
    "duration": 16,
    "start_time": "2022-05-31T13:11:14.525Z"
   },
   {
    "duration": 34,
    "start_time": "2022-05-31T13:11:15.241Z"
   },
   {
    "duration": 8,
    "start_time": "2022-05-31T13:11:15.611Z"
   },
   {
    "duration": 16,
    "start_time": "2022-05-31T13:11:15.967Z"
   },
   {
    "duration": 15,
    "start_time": "2022-05-31T13:11:16.331Z"
   },
   {
    "duration": 4,
    "start_time": "2022-05-31T13:11:16.695Z"
   },
   {
    "duration": 16,
    "start_time": "2022-05-31T13:11:16.861Z"
   },
   {
    "duration": 16,
    "start_time": "2022-05-31T13:11:17.071Z"
   },
   {
    "duration": 12,
    "start_time": "2022-05-31T13:11:17.286Z"
   },
   {
    "duration": 7,
    "start_time": "2022-05-31T13:11:17.641Z"
   },
   {
    "duration": 29,
    "start_time": "2022-05-31T13:11:17.834Z"
   },
   {
    "duration": 14,
    "start_time": "2022-05-31T13:11:18.032Z"
   },
   {
    "duration": 14,
    "start_time": "2022-05-31T13:11:18.411Z"
   },
   {
    "duration": 34,
    "start_time": "2022-05-31T13:11:18.991Z"
   },
   {
    "duration": 13,
    "start_time": "2022-05-31T13:11:19.383Z"
   },
   {
    "duration": 6,
    "start_time": "2022-05-31T13:11:19.580Z"
   },
   {
    "duration": 810,
    "start_time": "2022-05-31T13:11:19.760Z"
   },
   {
    "duration": 15,
    "start_time": "2022-05-31T13:11:20.626Z"
   },
   {
    "duration": 28,
    "start_time": "2022-05-31T13:11:20.643Z"
   },
   {
    "duration": 18,
    "start_time": "2022-05-31T13:11:20.739Z"
   },
   {
    "duration": 6,
    "start_time": "2022-05-31T13:11:21.127Z"
   },
   {
    "duration": 5,
    "start_time": "2022-05-31T13:11:21.290Z"
   },
   {
    "duration": 777,
    "start_time": "2022-05-31T13:11:21.894Z"
   },
   {
    "duration": 3,
    "start_time": "2022-05-31T13:11:22.673Z"
   },
   {
    "duration": 288,
    "start_time": "2022-05-31T13:11:22.678Z"
   },
   {
    "duration": 10,
    "start_time": "2022-05-31T13:11:23.352Z"
   },
   {
    "duration": 6,
    "start_time": "2022-05-31T13:11:23.527Z"
   },
   {
    "duration": 984,
    "start_time": "2022-05-31T13:11:23.539Z"
   },
   {
    "duration": 4,
    "start_time": "2022-05-31T13:11:24.550Z"
   },
   {
    "duration": 372,
    "start_time": "2022-05-31T13:11:24.556Z"
   },
   {
    "duration": 5,
    "start_time": "2022-05-31T13:11:25.044Z"
   },
   {
    "duration": 7,
    "start_time": "2022-05-31T13:11:25.081Z"
   },
   {
    "duration": 436,
    "start_time": "2022-05-31T13:11:25.709Z"
   },
   {
    "duration": 6,
    "start_time": "2022-05-31T13:11:26.150Z"
   },
   {
    "duration": 162,
    "start_time": "2022-05-31T13:11:26.266Z"
   },
   {
    "duration": 16,
    "start_time": "2022-05-31T13:11:27.279Z"
   },
   {
    "duration": 5,
    "start_time": "2022-05-31T13:11:27.431Z"
   },
   {
    "duration": 9,
    "start_time": "2022-05-31T13:11:28.435Z"
   },
   {
    "duration": 610,
    "start_time": "2022-05-31T13:11:35.424Z"
   },
   {
    "duration": 3,
    "start_time": "2022-05-31T13:11:40.735Z"
   },
   {
    "duration": 123,
    "start_time": "2022-05-31T13:11:41.067Z"
   },
   {
    "duration": 8,
    "start_time": "2022-05-31T13:11:43.305Z"
   },
   {
    "duration": 96,
    "start_time": "2022-05-31T13:11:43.548Z"
   },
   {
    "duration": 5,
    "start_time": "2022-05-31T13:11:44.080Z"
   },
   {
    "duration": 8,
    "start_time": "2022-05-31T13:11:44.397Z"
   },
   {
    "duration": 9,
    "start_time": "2022-05-31T13:11:46.118Z"
   },
   {
    "duration": 106,
    "start_time": "2022-05-31T13:11:46.763Z"
   },
   {
    "duration": 5,
    "start_time": "2022-05-31T13:11:47.381Z"
   },
   {
    "duration": 7,
    "start_time": "2022-05-31T13:11:48.618Z"
   },
   {
    "duration": 8,
    "start_time": "2022-05-31T13:11:50.302Z"
   },
   {
    "duration": 29,
    "start_time": "2022-05-31T13:11:50.765Z"
   },
   {
    "duration": 4,
    "start_time": "2022-05-31T13:11:51.545Z"
   },
   {
    "duration": 3,
    "start_time": "2022-05-31T13:12:01.301Z"
   },
   {
    "duration": 57635,
    "start_time": "2022-05-31T13:12:03.502Z"
   },
   {
    "duration": 14937,
    "start_time": "2022-05-31T13:13:08.909Z"
   },
   {
    "duration": 38,
    "start_time": "2022-05-31T13:13:28.436Z"
   },
   {
    "duration": 15,
    "start_time": "2022-05-31T13:13:28.881Z"
   },
   {
    "duration": 8,
    "start_time": "2022-05-31T13:13:29.348Z"
   },
   {
    "duration": 40,
    "start_time": "2022-05-31T13:13:30.270Z"
   },
   {
    "duration": 1074,
    "start_time": "2022-05-31T13:13:31.162Z"
   },
   {
    "duration": 5606,
    "start_time": "2022-05-31T13:13:32.238Z"
   },
   {
    "duration": 3,
    "start_time": "2022-05-31T13:13:37.846Z"
   },
   {
    "duration": 735,
    "start_time": "2022-05-31T13:13:37.850Z"
   },
   {
    "duration": 487,
    "start_time": "2022-05-31T13:13:38.588Z"
   },
   {
    "duration": 480,
    "start_time": "2022-05-31T13:13:39.077Z"
   },
   {
    "duration": 11,
    "start_time": "2022-05-31T13:13:39.559Z"
   },
   {
    "duration": 58,
    "start_time": "2022-05-31T13:13:39.572Z"
   },
   {
    "duration": 4425,
    "start_time": "2022-05-31T13:14:04.778Z"
   },
   {
    "duration": 1818,
    "start_time": "2022-05-31T13:14:09.205Z"
   },
   {
    "duration": 17,
    "start_time": "2022-05-31T13:14:11.025Z"
   },
   {
    "duration": 75,
    "start_time": "2022-05-31T13:14:11.044Z"
   },
   {
    "duration": 23,
    "start_time": "2022-05-31T13:14:11.122Z"
   },
   {
    "duration": 17,
    "start_time": "2022-05-31T13:14:11.146Z"
   },
   {
    "duration": 19,
    "start_time": "2022-05-31T13:14:11.164Z"
   },
   {
    "duration": 63,
    "start_time": "2022-05-31T13:14:11.184Z"
   },
   {
    "duration": 15,
    "start_time": "2022-05-31T13:14:11.249Z"
   },
   {
    "duration": 34,
    "start_time": "2022-05-31T13:14:11.266Z"
   },
   {
    "duration": 7,
    "start_time": "2022-05-31T13:14:11.327Z"
   },
   {
    "duration": 19,
    "start_time": "2022-05-31T13:14:11.336Z"
   },
   {
    "duration": 17,
    "start_time": "2022-05-31T13:14:11.357Z"
   },
   {
    "duration": 14,
    "start_time": "2022-05-31T13:14:11.377Z"
   },
   {
    "duration": 39,
    "start_time": "2022-05-31T13:14:11.392Z"
   },
   {
    "duration": 15,
    "start_time": "2022-05-31T13:14:11.433Z"
   },
   {
    "duration": 12,
    "start_time": "2022-05-31T13:14:11.450Z"
   },
   {
    "duration": 15,
    "start_time": "2022-05-31T13:14:11.464Z"
   },
   {
    "duration": 65,
    "start_time": "2022-05-31T13:14:11.484Z"
   },
   {
    "duration": 17,
    "start_time": "2022-05-31T13:14:11.551Z"
   },
   {
    "duration": 65,
    "start_time": "2022-05-31T13:14:11.570Z"
   },
   {
    "duration": 45,
    "start_time": "2022-05-31T13:14:11.637Z"
   },
   {
    "duration": 41,
    "start_time": "2022-05-31T13:14:11.685Z"
   },
   {
    "duration": 15,
    "start_time": "2022-05-31T13:14:11.729Z"
   },
   {
    "duration": 801,
    "start_time": "2022-05-31T13:14:11.746Z"
   },
   {
    "duration": 11,
    "start_time": "2022-05-31T13:14:12.549Z"
   },
   {
    "duration": 67,
    "start_time": "2022-05-31T13:14:12.562Z"
   },
   {
    "duration": 16,
    "start_time": "2022-05-31T13:14:12.630Z"
   },
   {
    "duration": 23,
    "start_time": "2022-05-31T13:14:12.647Z"
   },
   {
    "duration": 5,
    "start_time": "2022-05-31T13:14:12.672Z"
   },
   {
    "duration": 800,
    "start_time": "2022-05-31T13:14:12.726Z"
   },
   {
    "duration": 3,
    "start_time": "2022-05-31T13:14:13.529Z"
   },
   {
    "duration": 210,
    "start_time": "2022-05-31T13:14:13.533Z"
   },
   {
    "duration": 10,
    "start_time": "2022-05-31T13:14:13.744Z"
   },
   {
    "duration": 222,
    "start_time": "2022-05-31T13:14:13.756Z"
   },
   {
    "duration": 1030,
    "start_time": "2022-05-31T13:14:13.980Z"
   },
   {
    "duration": 7,
    "start_time": "2022-05-31T13:14:15.026Z"
   },
   {
    "duration": 315,
    "start_time": "2022-05-31T13:14:15.034Z"
   },
   {
    "duration": 4,
    "start_time": "2022-05-31T13:14:15.351Z"
   },
   {
    "duration": 10,
    "start_time": "2022-05-31T13:14:15.357Z"
   },
   {
    "duration": 573,
    "start_time": "2022-05-31T13:14:15.372Z"
   },
   {
    "duration": 5,
    "start_time": "2022-05-31T13:14:15.948Z"
   },
   {
    "duration": 274,
    "start_time": "2022-05-31T13:14:16.058Z"
   },
   {
    "duration": 16,
    "start_time": "2022-05-31T13:14:16.778Z"
   },
   {
    "duration": 26,
    "start_time": "2022-05-31T13:14:16.800Z"
   },
   {
    "duration": 8,
    "start_time": "2022-05-31T13:14:16.828Z"
   },
   {
    "duration": 635,
    "start_time": "2022-05-31T13:14:16.838Z"
   },
   {
    "duration": 4,
    "start_time": "2022-05-31T13:14:17.475Z"
   },
   {
    "duration": 277,
    "start_time": "2022-05-31T13:14:17.481Z"
   },
   {
    "duration": 9,
    "start_time": "2022-05-31T13:14:17.760Z"
   },
   {
    "duration": 153,
    "start_time": "2022-05-31T13:14:17.827Z"
   },
   {
    "duration": 5,
    "start_time": "2022-05-31T13:14:18.027Z"
   },
   {
    "duration": 14,
    "start_time": "2022-05-31T13:14:18.033Z"
   },
   {
    "duration": 14,
    "start_time": "2022-05-31T13:14:18.049Z"
   },
   {
    "duration": 207,
    "start_time": "2022-05-31T13:14:18.064Z"
   },
   {
    "duration": 6,
    "start_time": "2022-05-31T13:14:18.273Z"
   },
   {
    "duration": 16,
    "start_time": "2022-05-31T13:14:18.281Z"
   },
   {
    "duration": 8,
    "start_time": "2022-05-31T13:14:18.326Z"
   },
   {
    "duration": 34,
    "start_time": "2022-05-31T13:14:18.336Z"
   },
   {
    "duration": 3,
    "start_time": "2022-05-31T13:14:18.371Z"
   },
   {
    "duration": 56759,
    "start_time": "2022-05-31T13:14:18.376Z"
   },
   {
    "duration": 15658,
    "start_time": "2022-05-31T13:15:15.137Z"
   },
   {
    "duration": 58,
    "start_time": "2022-05-31T13:15:30.797Z"
   },
   {
    "duration": 15,
    "start_time": "2022-05-31T13:15:30.857Z"
   },
   {
    "duration": 14,
    "start_time": "2022-05-31T13:15:30.874Z"
   },
   {
    "duration": 75,
    "start_time": "2022-05-31T13:15:30.890Z"
   },
   {
    "duration": 1126,
    "start_time": "2022-05-31T13:15:30.967Z"
   },
   {
    "duration": 5616,
    "start_time": "2022-05-31T13:15:32.095Z"
   },
   {
    "duration": 3,
    "start_time": "2022-05-31T13:15:37.714Z"
   },
   {
    "duration": 720,
    "start_time": "2022-05-31T13:15:37.726Z"
   },
   {
    "duration": 468,
    "start_time": "2022-05-31T13:15:38.448Z"
   },
   {
    "duration": 343,
    "start_time": "2022-05-31T13:15:38.917Z"
   },
   {
    "duration": 9,
    "start_time": "2022-05-31T13:15:39.261Z"
   },
   {
    "duration": 71,
    "start_time": "2022-05-31T13:15:39.272Z"
   },
   {
    "duration": 18826,
    "start_time": "2022-05-31T14:00:53.917Z"
   },
   {
    "duration": 3525,
    "start_time": "2022-05-31T14:01:12.746Z"
   },
   {
    "duration": 0,
    "start_time": "2022-05-31T14:01:16.277Z"
   },
   {
    "duration": 0,
    "start_time": "2022-05-31T14:01:16.278Z"
   },
   {
    "duration": 0,
    "start_time": "2022-05-31T14:01:16.279Z"
   },
   {
    "duration": 0,
    "start_time": "2022-05-31T14:01:16.281Z"
   },
   {
    "duration": 0,
    "start_time": "2022-05-31T14:01:16.282Z"
   },
   {
    "duration": 0,
    "start_time": "2022-05-31T14:01:16.284Z"
   },
   {
    "duration": 0,
    "start_time": "2022-05-31T14:01:16.288Z"
   },
   {
    "duration": 0,
    "start_time": "2022-05-31T14:01:16.289Z"
   },
   {
    "duration": 0,
    "start_time": "2022-05-31T14:01:16.291Z"
   },
   {
    "duration": 0,
    "start_time": "2022-05-31T14:01:16.292Z"
   },
   {
    "duration": 0,
    "start_time": "2022-05-31T14:01:16.293Z"
   },
   {
    "duration": 0,
    "start_time": "2022-05-31T14:01:16.295Z"
   },
   {
    "duration": 0,
    "start_time": "2022-05-31T14:01:16.295Z"
   },
   {
    "duration": 0,
    "start_time": "2022-05-31T14:01:16.296Z"
   },
   {
    "duration": 0,
    "start_time": "2022-05-31T14:01:16.297Z"
   },
   {
    "duration": 0,
    "start_time": "2022-05-31T14:01:16.299Z"
   },
   {
    "duration": 0,
    "start_time": "2022-05-31T14:01:16.326Z"
   },
   {
    "duration": 0,
    "start_time": "2022-05-31T14:01:16.328Z"
   },
   {
    "duration": 0,
    "start_time": "2022-05-31T14:01:16.330Z"
   },
   {
    "duration": 0,
    "start_time": "2022-05-31T14:01:16.332Z"
   },
   {
    "duration": 0,
    "start_time": "2022-05-31T14:01:16.334Z"
   },
   {
    "duration": 0,
    "start_time": "2022-05-31T14:01:16.335Z"
   },
   {
    "duration": 0,
    "start_time": "2022-05-31T14:01:16.336Z"
   },
   {
    "duration": 0,
    "start_time": "2022-05-31T14:01:16.338Z"
   },
   {
    "duration": 0,
    "start_time": "2022-05-31T14:01:16.339Z"
   },
   {
    "duration": 0,
    "start_time": "2022-05-31T14:01:16.341Z"
   },
   {
    "duration": 0,
    "start_time": "2022-05-31T14:01:16.342Z"
   },
   {
    "duration": 0,
    "start_time": "2022-05-31T14:01:16.343Z"
   },
   {
    "duration": 0,
    "start_time": "2022-05-31T14:01:16.345Z"
   },
   {
    "duration": 0,
    "start_time": "2022-05-31T14:01:16.346Z"
   },
   {
    "duration": 0,
    "start_time": "2022-05-31T14:01:16.347Z"
   },
   {
    "duration": 0,
    "start_time": "2022-05-31T14:01:16.349Z"
   },
   {
    "duration": 0,
    "start_time": "2022-05-31T14:01:16.350Z"
   },
   {
    "duration": 0,
    "start_time": "2022-05-31T14:01:16.352Z"
   },
   {
    "duration": 0,
    "start_time": "2022-05-31T14:01:16.353Z"
   },
   {
    "duration": 0,
    "start_time": "2022-05-31T14:01:16.354Z"
   },
   {
    "duration": 0,
    "start_time": "2022-05-31T14:01:16.356Z"
   },
   {
    "duration": 0,
    "start_time": "2022-05-31T14:01:16.358Z"
   },
   {
    "duration": 0,
    "start_time": "2022-05-31T14:01:16.359Z"
   },
   {
    "duration": 0,
    "start_time": "2022-05-31T14:01:16.360Z"
   },
   {
    "duration": 0,
    "start_time": "2022-05-31T14:01:16.362Z"
   },
   {
    "duration": 0,
    "start_time": "2022-05-31T14:01:16.363Z"
   },
   {
    "duration": 0,
    "start_time": "2022-05-31T14:01:16.426Z"
   },
   {
    "duration": 0,
    "start_time": "2022-05-31T14:01:16.428Z"
   },
   {
    "duration": 0,
    "start_time": "2022-05-31T14:01:16.429Z"
   },
   {
    "duration": 0,
    "start_time": "2022-05-31T14:01:16.430Z"
   },
   {
    "duration": 0,
    "start_time": "2022-05-31T14:01:16.431Z"
   },
   {
    "duration": 0,
    "start_time": "2022-05-31T14:01:16.432Z"
   },
   {
    "duration": 0,
    "start_time": "2022-05-31T14:01:16.434Z"
   },
   {
    "duration": 0,
    "start_time": "2022-05-31T14:01:16.435Z"
   },
   {
    "duration": 0,
    "start_time": "2022-05-31T14:01:16.436Z"
   },
   {
    "duration": 0,
    "start_time": "2022-05-31T14:01:16.437Z"
   },
   {
    "duration": 0,
    "start_time": "2022-05-31T14:01:16.438Z"
   },
   {
    "duration": 0,
    "start_time": "2022-05-31T14:01:16.439Z"
   },
   {
    "duration": 0,
    "start_time": "2022-05-31T14:01:16.441Z"
   },
   {
    "duration": 0,
    "start_time": "2022-05-31T14:01:16.442Z"
   },
   {
    "duration": 0,
    "start_time": "2022-05-31T14:01:16.443Z"
   },
   {
    "duration": 0,
    "start_time": "2022-05-31T14:01:16.444Z"
   },
   {
    "duration": 0,
    "start_time": "2022-05-31T14:01:16.445Z"
   },
   {
    "duration": 0,
    "start_time": "2022-05-31T14:01:16.447Z"
   },
   {
    "duration": 0,
    "start_time": "2022-05-31T14:01:16.448Z"
   },
   {
    "duration": 0,
    "start_time": "2022-05-31T14:01:16.449Z"
   },
   {
    "duration": 0,
    "start_time": "2022-05-31T14:01:16.451Z"
   },
   {
    "duration": 0,
    "start_time": "2022-05-31T14:01:16.452Z"
   },
   {
    "duration": 0,
    "start_time": "2022-05-31T14:01:16.453Z"
   },
   {
    "duration": 0,
    "start_time": "2022-05-31T14:01:16.454Z"
   },
   {
    "duration": 0,
    "start_time": "2022-05-31T14:01:16.455Z"
   },
   {
    "duration": 0,
    "start_time": "2022-05-31T14:01:16.456Z"
   },
   {
    "duration": 0,
    "start_time": "2022-05-31T14:01:16.457Z"
   },
   {
    "duration": 0,
    "start_time": "2022-05-31T14:01:16.458Z"
   },
   {
    "duration": 0,
    "start_time": "2022-05-31T14:01:16.459Z"
   },
   {
    "duration": 0,
    "start_time": "2022-05-31T14:01:16.460Z"
   },
   {
    "duration": 4780,
    "start_time": "2022-05-31T14:01:30.907Z"
   },
   {
    "duration": 3607,
    "start_time": "2022-05-31T14:01:35.690Z"
   },
   {
    "duration": 15,
    "start_time": "2022-05-31T14:01:39.299Z"
   },
   {
    "duration": 117,
    "start_time": "2022-05-31T14:01:39.316Z"
   },
   {
    "duration": 21,
    "start_time": "2022-05-31T14:01:39.436Z"
   },
   {
    "duration": 18,
    "start_time": "2022-05-31T14:01:39.459Z"
   },
   {
    "duration": 20,
    "start_time": "2022-05-31T14:01:39.479Z"
   },
   {
    "duration": 35,
    "start_time": "2022-05-31T14:01:39.525Z"
   },
   {
    "duration": 17,
    "start_time": "2022-05-31T14:01:39.561Z"
   },
   {
    "duration": 63,
    "start_time": "2022-05-31T14:01:39.580Z"
   },
   {
    "duration": 9,
    "start_time": "2022-05-31T14:01:39.645Z"
   },
   {
    "duration": 27,
    "start_time": "2022-05-31T14:01:39.656Z"
   },
   {
    "duration": 15,
    "start_time": "2022-05-31T14:01:39.684Z"
   },
   {
    "duration": 24,
    "start_time": "2022-05-31T14:01:39.702Z"
   },
   {
    "duration": 18,
    "start_time": "2022-05-31T14:01:39.728Z"
   },
   {
    "duration": 25,
    "start_time": "2022-05-31T14:01:39.747Z"
   },
   {
    "duration": 22,
    "start_time": "2022-05-31T14:01:39.774Z"
   },
   {
    "duration": 31,
    "start_time": "2022-05-31T14:01:39.797Z"
   },
   {
    "duration": 35,
    "start_time": "2022-05-31T14:01:39.829Z"
   },
   {
    "duration": 62,
    "start_time": "2022-05-31T14:01:39.865Z"
   },
   {
    "duration": 15,
    "start_time": "2022-05-31T14:01:39.929Z"
   },
   {
    "duration": 94,
    "start_time": "2022-05-31T14:01:39.946Z"
   },
   {
    "duration": 12,
    "start_time": "2022-05-31T14:01:40.042Z"
   },
   {
    "duration": 16,
    "start_time": "2022-05-31T14:01:40.056Z"
   },
   {
    "duration": 1087,
    "start_time": "2022-05-31T14:01:40.073Z"
   },
   {
    "duration": 12,
    "start_time": "2022-05-31T14:01:41.162Z"
   },
   {
    "duration": 58,
    "start_time": "2022-05-31T14:01:41.177Z"
   },
   {
    "duration": 20,
    "start_time": "2022-05-31T14:01:41.237Z"
   },
   {
    "duration": 12,
    "start_time": "2022-05-31T14:01:41.259Z"
   },
   {
    "duration": 5,
    "start_time": "2022-05-31T14:01:41.272Z"
   },
   {
    "duration": 718,
    "start_time": "2022-05-31T14:01:41.278Z"
   },
   {
    "duration": 4,
    "start_time": "2022-05-31T14:01:41.998Z"
   },
   {
    "duration": 242,
    "start_time": "2022-05-31T14:01:42.025Z"
   },
   {
    "duration": 69,
    "start_time": "2022-05-31T14:01:42.269Z"
   },
   {
    "duration": 286,
    "start_time": "2022-05-31T14:01:42.340Z"
   },
   {
    "duration": 999,
    "start_time": "2022-05-31T14:01:42.628Z"
   },
   {
    "duration": 5,
    "start_time": "2022-05-31T14:01:43.629Z"
   },
   {
    "duration": 335,
    "start_time": "2022-05-31T14:01:43.635Z"
   },
   {
    "duration": 54,
    "start_time": "2022-05-31T14:01:43.972Z"
   },
   {
    "duration": 7,
    "start_time": "2022-05-31T14:01:44.028Z"
   },
   {
    "duration": 492,
    "start_time": "2022-05-31T14:01:44.040Z"
   },
   {
    "duration": 8,
    "start_time": "2022-05-31T14:01:44.534Z"
   },
   {
    "duration": 207,
    "start_time": "2022-05-31T14:01:44.545Z"
   },
   {
    "duration": 19,
    "start_time": "2022-05-31T14:01:44.754Z"
   },
   {
    "duration": 20,
    "start_time": "2022-05-31T14:01:44.775Z"
   },
   {
    "duration": 34,
    "start_time": "2022-05-31T14:01:44.797Z"
   },
   {
    "duration": 696,
    "start_time": "2022-05-31T14:01:44.832Z"
   },
   {
    "duration": 5,
    "start_time": "2022-05-31T14:01:45.529Z"
   },
   {
    "duration": 314,
    "start_time": "2022-05-31T14:01:45.535Z"
   },
   {
    "duration": 11,
    "start_time": "2022-05-31T14:01:45.851Z"
   },
   {
    "duration": 276,
    "start_time": "2022-05-31T14:01:45.864Z"
   },
   {
    "duration": 6,
    "start_time": "2022-05-31T14:01:46.142Z"
   },
   {
    "duration": 25,
    "start_time": "2022-05-31T14:01:46.150Z"
   },
   {
    "duration": 10,
    "start_time": "2022-05-31T14:01:46.226Z"
   },
   {
    "duration": 251,
    "start_time": "2022-05-31T14:01:46.238Z"
   },
   {
    "duration": 37,
    "start_time": "2022-05-31T14:01:46.490Z"
   },
   {
    "duration": 10,
    "start_time": "2022-05-31T14:01:46.529Z"
   },
   {
    "duration": 20,
    "start_time": "2022-05-31T14:01:46.540Z"
   },
   {
    "duration": 80,
    "start_time": "2022-05-31T14:01:46.562Z"
   },
   {
    "duration": 3,
    "start_time": "2022-05-31T14:01:46.645Z"
   },
   {
    "duration": 2217,
    "start_time": "2022-05-31T20:53:42.843Z"
   },
   {
    "duration": 0,
    "start_time": "2022-05-31T20:53:45.064Z"
   },
   {
    "duration": 0,
    "start_time": "2022-05-31T20:53:45.066Z"
   },
   {
    "duration": 0,
    "start_time": "2022-05-31T20:53:45.067Z"
   },
   {
    "duration": 0,
    "start_time": "2022-05-31T20:53:45.068Z"
   },
   {
    "duration": 0,
    "start_time": "2022-05-31T20:53:45.069Z"
   },
   {
    "duration": 0,
    "start_time": "2022-05-31T20:53:45.070Z"
   },
   {
    "duration": 0,
    "start_time": "2022-05-31T20:53:45.071Z"
   },
   {
    "duration": 0,
    "start_time": "2022-05-31T20:53:45.073Z"
   },
   {
    "duration": 0,
    "start_time": "2022-05-31T20:53:45.074Z"
   },
   {
    "duration": 0,
    "start_time": "2022-05-31T20:53:45.075Z"
   },
   {
    "duration": 0,
    "start_time": "2022-05-31T20:53:45.076Z"
   },
   {
    "duration": 0,
    "start_time": "2022-05-31T20:53:45.077Z"
   },
   {
    "duration": 0,
    "start_time": "2022-05-31T20:53:45.079Z"
   },
   {
    "duration": 0,
    "start_time": "2022-05-31T20:53:45.080Z"
   },
   {
    "duration": 0,
    "start_time": "2022-05-31T20:53:45.081Z"
   },
   {
    "duration": 0,
    "start_time": "2022-05-31T20:53:45.082Z"
   },
   {
    "duration": 1,
    "start_time": "2022-05-31T20:53:45.083Z"
   },
   {
    "duration": 0,
    "start_time": "2022-05-31T20:53:45.085Z"
   },
   {
    "duration": 0,
    "start_time": "2022-05-31T20:53:45.087Z"
   },
   {
    "duration": 0,
    "start_time": "2022-05-31T20:53:45.088Z"
   },
   {
    "duration": 0,
    "start_time": "2022-05-31T20:53:45.127Z"
   },
   {
    "duration": 0,
    "start_time": "2022-05-31T20:53:45.130Z"
   },
   {
    "duration": 0,
    "start_time": "2022-05-31T20:53:45.134Z"
   },
   {
    "duration": 1,
    "start_time": "2022-05-31T20:53:45.135Z"
   },
   {
    "duration": 0,
    "start_time": "2022-05-31T20:53:45.137Z"
   },
   {
    "duration": 0,
    "start_time": "2022-05-31T20:53:45.138Z"
   },
   {
    "duration": 0,
    "start_time": "2022-05-31T20:53:45.139Z"
   },
   {
    "duration": 0,
    "start_time": "2022-05-31T20:53:45.140Z"
   },
   {
    "duration": 0,
    "start_time": "2022-05-31T20:53:45.141Z"
   },
   {
    "duration": 0,
    "start_time": "2022-05-31T20:53:45.142Z"
   },
   {
    "duration": 0,
    "start_time": "2022-05-31T20:53:45.144Z"
   },
   {
    "duration": 0,
    "start_time": "2022-05-31T20:53:45.145Z"
   },
   {
    "duration": 1,
    "start_time": "2022-05-31T20:53:45.145Z"
   },
   {
    "duration": 0,
    "start_time": "2022-05-31T20:53:45.146Z"
   },
   {
    "duration": 0,
    "start_time": "2022-05-31T20:53:45.147Z"
   },
   {
    "duration": 0,
    "start_time": "2022-05-31T20:53:45.149Z"
   },
   {
    "duration": 0,
    "start_time": "2022-05-31T20:53:45.150Z"
   },
   {
    "duration": 0,
    "start_time": "2022-05-31T20:53:45.151Z"
   },
   {
    "duration": 0,
    "start_time": "2022-05-31T20:53:45.152Z"
   },
   {
    "duration": 0,
    "start_time": "2022-05-31T20:53:45.153Z"
   },
   {
    "duration": 0,
    "start_time": "2022-05-31T20:53:45.154Z"
   },
   {
    "duration": 0,
    "start_time": "2022-05-31T20:53:45.155Z"
   },
   {
    "duration": 0,
    "start_time": "2022-05-31T20:53:45.156Z"
   },
   {
    "duration": 0,
    "start_time": "2022-05-31T20:53:45.157Z"
   },
   {
    "duration": 0,
    "start_time": "2022-05-31T20:53:45.158Z"
   },
   {
    "duration": 0,
    "start_time": "2022-05-31T20:53:45.159Z"
   },
   {
    "duration": 0,
    "start_time": "2022-05-31T20:53:45.160Z"
   },
   {
    "duration": 0,
    "start_time": "2022-05-31T20:53:45.161Z"
   },
   {
    "duration": 0,
    "start_time": "2022-05-31T20:53:45.162Z"
   },
   {
    "duration": 0,
    "start_time": "2022-05-31T20:53:45.164Z"
   },
   {
    "duration": 0,
    "start_time": "2022-05-31T20:53:45.165Z"
   },
   {
    "duration": 0,
    "start_time": "2022-05-31T20:53:45.167Z"
   },
   {
    "duration": 0,
    "start_time": "2022-05-31T20:53:45.168Z"
   },
   {
    "duration": 0,
    "start_time": "2022-05-31T20:53:45.170Z"
   },
   {
    "duration": 0,
    "start_time": "2022-05-31T20:53:45.171Z"
   },
   {
    "duration": 0,
    "start_time": "2022-05-31T20:53:45.173Z"
   },
   {
    "duration": 0,
    "start_time": "2022-05-31T20:53:45.174Z"
   },
   {
    "duration": 0,
    "start_time": "2022-05-31T20:53:45.227Z"
   },
   {
    "duration": 0,
    "start_time": "2022-05-31T20:53:45.230Z"
   },
   {
    "duration": 0,
    "start_time": "2022-05-31T20:53:45.233Z"
   },
   {
    "duration": 0,
    "start_time": "2022-05-31T20:53:45.234Z"
   },
   {
    "duration": 0,
    "start_time": "2022-05-31T20:53:45.235Z"
   },
   {
    "duration": 0,
    "start_time": "2022-05-31T20:53:45.236Z"
   },
   {
    "duration": 0,
    "start_time": "2022-05-31T20:53:45.237Z"
   },
   {
    "duration": 0,
    "start_time": "2022-05-31T20:53:45.238Z"
   },
   {
    "duration": 0,
    "start_time": "2022-05-31T20:53:45.239Z"
   },
   {
    "duration": 0,
    "start_time": "2022-05-31T20:53:45.240Z"
   },
   {
    "duration": 0,
    "start_time": "2022-05-31T20:53:45.241Z"
   },
   {
    "duration": 0,
    "start_time": "2022-05-31T20:53:45.242Z"
   },
   {
    "duration": 0,
    "start_time": "2022-05-31T20:53:45.243Z"
   },
   {
    "duration": 0,
    "start_time": "2022-05-31T20:53:45.244Z"
   },
   {
    "duration": 0,
    "start_time": "2022-05-31T20:53:45.245Z"
   },
   {
    "duration": 0,
    "start_time": "2022-05-31T20:53:45.246Z"
   },
   {
    "duration": 4956,
    "start_time": "2022-05-31T20:53:54.189Z"
   },
   {
    "duration": 6254,
    "start_time": "2022-05-31T20:53:59.149Z"
   },
   {
    "duration": 56,
    "start_time": "2022-05-31T20:54:05.405Z"
   },
   {
    "duration": 194,
    "start_time": "2022-05-31T20:54:05.464Z"
   },
   {
    "duration": 35,
    "start_time": "2022-05-31T20:54:05.661Z"
   },
   {
    "duration": 40,
    "start_time": "2022-05-31T20:54:05.698Z"
   },
   {
    "duration": 57,
    "start_time": "2022-05-31T20:54:05.742Z"
   },
   {
    "duration": 52,
    "start_time": "2022-05-31T20:54:05.800Z"
   },
   {
    "duration": 19,
    "start_time": "2022-05-31T20:54:05.857Z"
   },
   {
    "duration": 46,
    "start_time": "2022-05-31T20:54:05.878Z"
   },
   {
    "duration": 12,
    "start_time": "2022-05-31T20:54:05.928Z"
   },
   {
    "duration": 61,
    "start_time": "2022-05-31T20:54:05.942Z"
   },
   {
    "duration": 22,
    "start_time": "2022-05-31T20:54:06.006Z"
   },
   {
    "duration": 54,
    "start_time": "2022-05-31T20:54:06.031Z"
   },
   {
    "duration": 49,
    "start_time": "2022-05-31T20:54:06.087Z"
   },
   {
    "duration": 51,
    "start_time": "2022-05-31T20:54:06.137Z"
   },
   {
    "duration": 35,
    "start_time": "2022-05-31T20:54:06.190Z"
   },
   {
    "duration": 41,
    "start_time": "2022-05-31T20:54:06.229Z"
   },
   {
    "duration": 89,
    "start_time": "2022-05-31T20:54:06.273Z"
   },
   {
    "duration": 26,
    "start_time": "2022-05-31T20:54:06.365Z"
   },
   {
    "duration": 45,
    "start_time": "2022-05-31T20:54:06.393Z"
   },
   {
    "duration": 85,
    "start_time": "2022-05-31T20:54:06.441Z"
   },
   {
    "duration": 22,
    "start_time": "2022-05-31T20:54:06.534Z"
   },
   {
    "duration": 25,
    "start_time": "2022-05-31T20:54:06.558Z"
   },
   {
    "duration": 1287,
    "start_time": "2022-05-31T20:54:06.585Z"
   },
   {
    "duration": 17,
    "start_time": "2022-05-31T20:54:07.874Z"
   },
   {
    "duration": 78,
    "start_time": "2022-05-31T20:54:07.893Z"
   },
   {
    "duration": 43,
    "start_time": "2022-05-31T20:54:07.973Z"
   },
   {
    "duration": 22,
    "start_time": "2022-05-31T20:54:08.018Z"
   },
   {
    "duration": 34,
    "start_time": "2022-05-31T20:54:08.041Z"
   },
   {
    "duration": 977,
    "start_time": "2022-05-31T20:54:08.077Z"
   },
   {
    "duration": 3,
    "start_time": "2022-05-31T20:54:09.056Z"
   },
   {
    "duration": 289,
    "start_time": "2022-05-31T20:54:09.060Z"
   },
   {
    "duration": 13,
    "start_time": "2022-05-31T20:54:09.351Z"
   },
   {
    "duration": 35,
    "start_time": "2022-05-31T20:54:09.366Z"
   },
   {
    "duration": 1151,
    "start_time": "2022-05-31T20:54:09.403Z"
   },
   {
    "duration": 6,
    "start_time": "2022-05-31T20:54:10.556Z"
   },
   {
    "duration": 399,
    "start_time": "2022-05-31T20:54:10.563Z"
   },
   {
    "duration": 4,
    "start_time": "2022-05-31T20:54:10.964Z"
   },
   {
    "duration": 63,
    "start_time": "2022-05-31T20:54:10.970Z"
   },
   {
    "duration": 630,
    "start_time": "2022-05-31T20:54:11.037Z"
   },
   {
    "duration": 8,
    "start_time": "2022-05-31T20:54:11.674Z"
   },
   {
    "duration": 244,
    "start_time": "2022-05-31T20:54:11.684Z"
   },
   {
    "duration": 30,
    "start_time": "2022-05-31T20:54:11.931Z"
   },
   {
    "duration": 36,
    "start_time": "2022-05-31T20:54:11.962Z"
   },
   {
    "duration": 13,
    "start_time": "2022-05-31T20:54:12.000Z"
   },
   {
    "duration": 814,
    "start_time": "2022-05-31T20:54:12.016Z"
   },
   {
    "duration": 8,
    "start_time": "2022-05-31T20:54:12.839Z"
   },
   {
    "duration": 403,
    "start_time": "2022-05-31T20:54:12.849Z"
   },
   {
    "duration": 13,
    "start_time": "2022-05-31T20:54:13.254Z"
   },
   {
    "duration": 313,
    "start_time": "2022-05-31T20:54:13.269Z"
   },
   {
    "duration": 6,
    "start_time": "2022-05-31T20:54:13.584Z"
   },
   {
    "duration": 51,
    "start_time": "2022-05-31T20:54:13.592Z"
   },
   {
    "duration": 28,
    "start_time": "2022-05-31T20:54:13.646Z"
   },
   {
    "duration": 183,
    "start_time": "2022-05-31T20:54:13.676Z"
   },
   {
    "duration": 5,
    "start_time": "2022-05-31T20:54:13.861Z"
   },
   {
    "duration": 16,
    "start_time": "2022-05-31T20:54:13.868Z"
   },
   {
    "duration": 8,
    "start_time": "2022-05-31T20:54:13.886Z"
   },
   {
    "duration": 55,
    "start_time": "2022-05-31T20:54:13.896Z"
   },
   {
    "duration": 4,
    "start_time": "2022-05-31T20:54:13.953Z"
   },
   {
    "duration": 106881,
    "start_time": "2022-05-31T20:54:13.958Z"
   },
   {
    "duration": 20544,
    "start_time": "2022-05-31T20:56:00.846Z"
   },
   {
    "duration": 91,
    "start_time": "2022-05-31T20:56:21.392Z"
   },
   {
    "duration": 25,
    "start_time": "2022-05-31T20:56:21.485Z"
   },
   {
    "duration": 18,
    "start_time": "2022-05-31T20:56:21.512Z"
   },
   {
    "duration": 78,
    "start_time": "2022-05-31T20:56:21.532Z"
   },
   {
    "duration": 1147,
    "start_time": "2022-05-31T20:56:21.612Z"
   },
   {
    "duration": 6540,
    "start_time": "2022-05-31T20:56:22.761Z"
   },
   {
    "duration": 3,
    "start_time": "2022-05-31T20:56:29.303Z"
   },
   {
    "duration": 902,
    "start_time": "2022-05-31T20:56:29.307Z"
   },
   {
    "duration": 493,
    "start_time": "2022-05-31T20:56:30.211Z"
   },
   {
    "duration": 412,
    "start_time": "2022-05-31T20:56:30.705Z"
   },
   {
    "duration": 23,
    "start_time": "2022-05-31T20:56:31.119Z"
   },
   {
    "duration": 64,
    "start_time": "2022-05-31T20:56:31.144Z"
   },
   {
    "duration": 58,
    "start_time": "2022-05-31T21:07:54.685Z"
   },
   {
    "duration": 56,
    "start_time": "2022-05-31T21:25:09.749Z"
   },
   {
    "duration": 394,
    "start_time": "2022-05-31T21:25:24.672Z"
   },
   {
    "duration": 4923,
    "start_time": "2022-05-31T21:44:24.027Z"
   },
   {
    "duration": 2744,
    "start_time": "2022-05-31T21:44:28.953Z"
   },
   {
    "duration": 57,
    "start_time": "2022-05-31T21:44:31.700Z"
   },
   {
    "duration": 128,
    "start_time": "2022-05-31T21:44:31.762Z"
   },
   {
    "duration": 38,
    "start_time": "2022-05-31T21:44:31.894Z"
   },
   {
    "duration": 52,
    "start_time": "2022-05-31T21:44:31.934Z"
   },
   {
    "duration": 33,
    "start_time": "2022-05-31T21:44:31.989Z"
   },
   {
    "duration": 53,
    "start_time": "2022-05-31T21:44:32.024Z"
   },
   {
    "duration": 26,
    "start_time": "2022-05-31T21:44:32.079Z"
   },
   {
    "duration": 52,
    "start_time": "2022-05-31T21:44:32.127Z"
   },
   {
    "duration": 9,
    "start_time": "2022-05-31T21:44:32.182Z"
   },
   {
    "duration": 42,
    "start_time": "2022-05-31T21:44:32.193Z"
   },
   {
    "duration": 27,
    "start_time": "2022-05-31T21:44:32.237Z"
   },
   {
    "duration": 12,
    "start_time": "2022-05-31T21:44:32.267Z"
   },
   {
    "duration": 28,
    "start_time": "2022-05-31T21:44:32.281Z"
   },
   {
    "duration": 31,
    "start_time": "2022-05-31T21:44:32.311Z"
   },
   {
    "duration": 42,
    "start_time": "2022-05-31T21:44:32.343Z"
   },
   {
    "duration": 13,
    "start_time": "2022-05-31T21:44:32.388Z"
   },
   {
    "duration": 50,
    "start_time": "2022-05-31T21:44:32.403Z"
   },
   {
    "duration": 30,
    "start_time": "2022-05-31T21:44:32.455Z"
   },
   {
    "duration": 23,
    "start_time": "2022-05-31T21:44:32.487Z"
   },
   {
    "duration": 54,
    "start_time": "2022-05-31T21:44:32.513Z"
   },
   {
    "duration": 14,
    "start_time": "2022-05-31T21:44:32.569Z"
   },
   {
    "duration": 8,
    "start_time": "2022-05-31T21:44:32.585Z"
   },
   {
    "duration": 976,
    "start_time": "2022-05-31T21:44:32.594Z"
   },
   {
    "duration": 63,
    "start_time": "2022-05-31T21:44:33.572Z"
   },
   {
    "duration": 23,
    "start_time": "2022-05-31T21:44:33.640Z"
   },
   {
    "duration": 69,
    "start_time": "2022-05-31T21:44:33.665Z"
   },
   {
    "duration": 14,
    "start_time": "2022-05-31T21:44:33.738Z"
   },
   {
    "duration": 5,
    "start_time": "2022-05-31T21:44:33.754Z"
   },
   {
    "duration": 751,
    "start_time": "2022-05-31T21:44:33.761Z"
   },
   {
    "duration": 19,
    "start_time": "2022-05-31T21:44:34.514Z"
   },
   {
    "duration": 328,
    "start_time": "2022-05-31T21:44:34.535Z"
   },
   {
    "duration": 12,
    "start_time": "2022-05-31T21:44:34.865Z"
   },
   {
    "duration": 157,
    "start_time": "2022-05-31T21:44:34.879Z"
   },
   {
    "duration": 1389,
    "start_time": "2022-05-31T21:44:35.042Z"
   },
   {
    "duration": 10,
    "start_time": "2022-05-31T21:44:36.437Z"
   },
   {
    "duration": 495,
    "start_time": "2022-05-31T21:44:36.454Z"
   },
   {
    "duration": 7,
    "start_time": "2022-05-31T21:44:36.952Z"
   },
   {
    "duration": 11,
    "start_time": "2022-05-31T21:44:36.961Z"
   },
   {
    "duration": 460,
    "start_time": "2022-05-31T21:44:36.979Z"
   },
   {
    "duration": 9,
    "start_time": "2022-05-31T21:44:37.443Z"
   },
   {
    "duration": 176,
    "start_time": "2022-05-31T21:44:37.454Z"
   },
   {
    "duration": 20,
    "start_time": "2022-05-31T21:44:37.634Z"
   },
   {
    "duration": 8,
    "start_time": "2022-05-31T21:44:37.656Z"
   },
   {
    "duration": 10,
    "start_time": "2022-05-31T21:44:37.665Z"
   },
   {
    "duration": 780,
    "start_time": "2022-05-31T21:44:37.677Z"
   },
   {
    "duration": 4,
    "start_time": "2022-05-31T21:44:38.459Z"
   },
   {
    "duration": 369,
    "start_time": "2022-05-31T21:44:38.465Z"
   },
   {
    "duration": 19,
    "start_time": "2022-05-31T21:44:38.839Z"
   },
   {
    "duration": 303,
    "start_time": "2022-05-31T21:44:38.861Z"
   },
   {
    "duration": 6,
    "start_time": "2022-05-31T21:44:39.166Z"
   },
   {
    "duration": 13,
    "start_time": "2022-05-31T21:44:39.174Z"
   },
   {
    "duration": 16,
    "start_time": "2022-05-31T21:44:39.189Z"
   },
   {
    "duration": 162,
    "start_time": "2022-05-31T21:44:39.207Z"
   },
   {
    "duration": 5,
    "start_time": "2022-05-31T21:44:39.371Z"
   },
   {
    "duration": 20,
    "start_time": "2022-05-31T21:44:39.378Z"
   },
   {
    "duration": 14,
    "start_time": "2022-05-31T21:44:39.400Z"
   },
   {
    "duration": 44,
    "start_time": "2022-05-31T21:44:39.428Z"
   },
   {
    "duration": 4,
    "start_time": "2022-05-31T21:44:39.474Z"
   },
   {
    "duration": 92549,
    "start_time": "2022-05-31T21:44:39.480Z"
   },
   {
    "duration": 19781,
    "start_time": "2022-05-31T21:46:12.032Z"
   },
   {
    "duration": 112,
    "start_time": "2022-05-31T21:46:31.826Z"
   },
   {
    "duration": 21,
    "start_time": "2022-05-31T21:46:31.943Z"
   },
   {
    "duration": 60,
    "start_time": "2022-05-31T21:46:31.967Z"
   },
   {
    "duration": 58,
    "start_time": "2022-05-31T21:46:32.031Z"
   },
   {
    "duration": 1173,
    "start_time": "2022-05-31T21:46:32.092Z"
   },
   {
    "duration": 6410,
    "start_time": "2022-05-31T21:46:33.267Z"
   },
   {
    "duration": 4,
    "start_time": "2022-05-31T21:46:39.678Z"
   },
   {
    "duration": 924,
    "start_time": "2022-05-31T21:46:39.683Z"
   },
   {
    "duration": 542,
    "start_time": "2022-05-31T21:46:40.609Z"
   },
   {
    "duration": 450,
    "start_time": "2022-05-31T21:46:41.152Z"
   },
   {
    "duration": 13,
    "start_time": "2022-05-31T21:46:41.604Z"
   },
   {
    "duration": 80,
    "start_time": "2022-05-31T21:46:41.627Z"
   },
   {
    "duration": 48,
    "start_time": "2022-05-31T22:02:05.653Z"
   },
   {
    "duration": 52,
    "start_time": "2022-05-31T22:03:05.686Z"
   },
   {
    "duration": 4712,
    "start_time": "2022-05-31T22:18:30.163Z"
   },
   {
    "duration": 1883,
    "start_time": "2022-05-31T22:18:34.878Z"
   },
   {
    "duration": 35,
    "start_time": "2022-05-31T22:18:36.762Z"
   },
   {
    "duration": 74,
    "start_time": "2022-05-31T22:18:36.799Z"
   },
   {
    "duration": 21,
    "start_time": "2022-05-31T22:18:36.876Z"
   },
   {
    "duration": 33,
    "start_time": "2022-05-31T22:18:36.899Z"
   },
   {
    "duration": 23,
    "start_time": "2022-05-31T22:18:36.940Z"
   },
   {
    "duration": 44,
    "start_time": "2022-05-31T22:18:36.965Z"
   },
   {
    "duration": 32,
    "start_time": "2022-05-31T22:18:37.010Z"
   },
   {
    "duration": 43,
    "start_time": "2022-05-31T22:18:37.043Z"
   },
   {
    "duration": 10,
    "start_time": "2022-05-31T22:18:37.088Z"
   },
   {
    "duration": 33,
    "start_time": "2022-05-31T22:18:37.099Z"
   },
   {
    "duration": 18,
    "start_time": "2022-05-31T22:18:37.139Z"
   },
   {
    "duration": 5,
    "start_time": "2022-05-31T22:18:37.160Z"
   },
   {
    "duration": 23,
    "start_time": "2022-05-31T22:18:37.166Z"
   },
   {
    "duration": 29,
    "start_time": "2022-05-31T22:18:37.191Z"
   },
   {
    "duration": 23,
    "start_time": "2022-05-31T22:18:37.222Z"
   },
   {
    "duration": 7,
    "start_time": "2022-05-31T22:18:37.247Z"
   },
   {
    "duration": 26,
    "start_time": "2022-05-31T22:18:37.255Z"
   },
   {
    "duration": 13,
    "start_time": "2022-05-31T22:18:37.282Z"
   },
   {
    "duration": 17,
    "start_time": "2022-05-31T22:18:37.332Z"
   },
   {
    "duration": 41,
    "start_time": "2022-05-31T22:18:37.350Z"
   },
   {
    "duration": 13,
    "start_time": "2022-05-31T22:18:37.392Z"
   },
   {
    "duration": 28,
    "start_time": "2022-05-31T22:18:37.406Z"
   },
   {
    "duration": 845,
    "start_time": "2022-05-31T22:18:37.435Z"
   },
   {
    "duration": 11,
    "start_time": "2022-05-31T22:18:38.281Z"
   },
   {
    "duration": 68,
    "start_time": "2022-05-31T22:18:38.293Z"
   },
   {
    "duration": 17,
    "start_time": "2022-05-31T22:18:38.362Z"
   },
   {
    "duration": 12,
    "start_time": "2022-05-31T22:18:38.380Z"
   },
   {
    "duration": 17,
    "start_time": "2022-05-31T22:18:38.394Z"
   },
   {
    "duration": 693,
    "start_time": "2022-05-31T22:18:38.413Z"
   },
   {
    "duration": 3,
    "start_time": "2022-05-31T22:18:39.108Z"
   },
   {
    "duration": 251,
    "start_time": "2022-05-31T22:18:39.112Z"
   },
   {
    "duration": 12,
    "start_time": "2022-05-31T22:18:39.365Z"
   },
   {
    "duration": 172,
    "start_time": "2022-05-31T22:18:39.378Z"
   },
   {
    "duration": 1044,
    "start_time": "2022-05-31T22:18:39.552Z"
   },
   {
    "duration": 6,
    "start_time": "2022-05-31T22:18:40.597Z"
   },
   {
    "duration": 359,
    "start_time": "2022-05-31T22:18:40.604Z"
   },
   {
    "duration": 4,
    "start_time": "2022-05-31T22:18:40.965Z"
   },
   {
    "duration": 60,
    "start_time": "2022-05-31T22:18:40.970Z"
   },
   {
    "duration": 668,
    "start_time": "2022-05-31T22:18:41.039Z"
   },
   {
    "duration": 20,
    "start_time": "2022-05-31T22:18:41.709Z"
   },
   {
    "duration": 144,
    "start_time": "2022-05-31T22:18:41.731Z"
   },
   {
    "duration": 14,
    "start_time": "2022-05-31T22:18:41.877Z"
   },
   {
    "duration": 18,
    "start_time": "2022-05-31T22:18:41.893Z"
   },
   {
    "duration": 28,
    "start_time": "2022-05-31T22:18:41.913Z"
   },
   {
    "duration": 728,
    "start_time": "2022-05-31T22:18:41.942Z"
   },
   {
    "duration": 4,
    "start_time": "2022-05-31T22:18:42.672Z"
   },
   {
    "duration": 377,
    "start_time": "2022-05-31T22:18:42.678Z"
   },
   {
    "duration": 8,
    "start_time": "2022-05-31T22:18:43.057Z"
   },
   {
    "duration": 303,
    "start_time": "2022-05-31T22:18:43.067Z"
   },
   {
    "duration": 5,
    "start_time": "2022-05-31T22:18:43.372Z"
   },
   {
    "duration": 23,
    "start_time": "2022-05-31T22:18:43.379Z"
   },
   {
    "duration": 53,
    "start_time": "2022-05-31T22:18:43.404Z"
   },
   {
    "duration": 127,
    "start_time": "2022-05-31T22:18:43.458Z"
   },
   {
    "duration": 4,
    "start_time": "2022-05-31T22:18:43.587Z"
   },
   {
    "duration": 19,
    "start_time": "2022-05-31T22:18:43.593Z"
   },
   {
    "duration": 35,
    "start_time": "2022-05-31T22:18:43.613Z"
   },
   {
    "duration": 42,
    "start_time": "2022-05-31T22:18:43.649Z"
   },
   {
    "duration": 3,
    "start_time": "2022-05-31T22:18:43.693Z"
   },
   {
    "duration": 66124,
    "start_time": "2022-05-31T22:18:43.698Z"
   },
   {
    "duration": 4790,
    "start_time": "2022-05-31T22:19:54.525Z"
   },
   {
    "duration": 2953,
    "start_time": "2022-05-31T22:19:59.317Z"
   },
   {
    "duration": 114,
    "start_time": "2022-05-31T22:20:02.271Z"
   },
   {
    "duration": 153,
    "start_time": "2022-05-31T22:20:02.387Z"
   },
   {
    "duration": 22,
    "start_time": "2022-05-31T22:20:02.546Z"
   },
   {
    "duration": 78,
    "start_time": "2022-05-31T22:20:02.569Z"
   },
   {
    "duration": 85,
    "start_time": "2022-05-31T22:20:02.649Z"
   },
   {
    "duration": 100,
    "start_time": "2022-05-31T22:20:02.736Z"
   },
   {
    "duration": 22,
    "start_time": "2022-05-31T22:20:02.837Z"
   },
   {
    "duration": 95,
    "start_time": "2022-05-31T22:20:02.861Z"
   },
   {
    "duration": 8,
    "start_time": "2022-05-31T22:20:02.958Z"
   },
   {
    "duration": 78,
    "start_time": "2022-05-31T22:20:02.968Z"
   },
   {
    "duration": 15,
    "start_time": "2022-05-31T22:20:03.049Z"
   },
   {
    "duration": 7,
    "start_time": "2022-05-31T22:20:03.067Z"
   },
   {
    "duration": 21,
    "start_time": "2022-05-31T22:20:03.126Z"
   },
   {
    "duration": 93,
    "start_time": "2022-05-31T22:20:03.149Z"
   },
   {
    "duration": 19,
    "start_time": "2022-05-31T22:20:03.246Z"
   },
   {
    "duration": 14,
    "start_time": "2022-05-31T22:20:03.267Z"
   },
   {
    "duration": 82,
    "start_time": "2022-05-31T22:20:03.282Z"
   },
   {
    "duration": 75,
    "start_time": "2022-05-31T22:20:03.366Z"
   },
   {
    "duration": 16,
    "start_time": "2022-05-31T22:20:03.446Z"
   },
   {
    "duration": 94,
    "start_time": "2022-05-31T22:20:03.465Z"
   },
   {
    "duration": 67,
    "start_time": "2022-05-31T22:20:03.561Z"
   },
   {
    "duration": 10,
    "start_time": "2022-05-31T22:20:03.634Z"
   },
   {
    "duration": 1726,
    "start_time": "2022-05-31T22:20:03.646Z"
   },
   {
    "duration": 11,
    "start_time": "2022-05-31T22:20:05.374Z"
   },
   {
    "duration": 69,
    "start_time": "2022-05-31T22:20:05.387Z"
   },
   {
    "duration": 27,
    "start_time": "2022-05-31T22:20:05.458Z"
   },
   {
    "duration": 55,
    "start_time": "2022-05-31T22:20:05.487Z"
   },
   {
    "duration": 5,
    "start_time": "2022-05-31T22:20:05.544Z"
   },
   {
    "duration": 791,
    "start_time": "2022-05-31T22:20:05.551Z"
   },
   {
    "duration": 7,
    "start_time": "2022-05-31T22:20:06.343Z"
   },
   {
    "duration": 310,
    "start_time": "2022-05-31T22:20:06.352Z"
   },
   {
    "duration": 11,
    "start_time": "2022-05-31T22:20:06.663Z"
   },
   {
    "duration": 160,
    "start_time": "2022-05-31T22:20:06.675Z"
   },
   {
    "duration": 1097,
    "start_time": "2022-05-31T22:20:06.841Z"
   },
   {
    "duration": 6,
    "start_time": "2022-05-31T22:20:07.940Z"
   },
   {
    "duration": 390,
    "start_time": "2022-05-31T22:20:07.948Z"
   },
   {
    "duration": 5,
    "start_time": "2022-05-31T22:20:08.343Z"
   },
   {
    "duration": 10,
    "start_time": "2022-05-31T22:20:08.350Z"
   },
   {
    "duration": 501,
    "start_time": "2022-05-31T22:20:08.365Z"
   },
   {
    "duration": 8,
    "start_time": "2022-05-31T22:20:08.868Z"
   },
   {
    "duration": 256,
    "start_time": "2022-05-31T22:20:08.878Z"
   },
   {
    "duration": 18,
    "start_time": "2022-05-31T22:20:09.140Z"
   },
   {
    "duration": 14,
    "start_time": "2022-05-31T22:20:09.160Z"
   },
   {
    "duration": 9,
    "start_time": "2022-05-31T22:20:09.176Z"
   },
   {
    "duration": 880,
    "start_time": "2022-05-31T22:20:09.186Z"
   },
   {
    "duration": 5,
    "start_time": "2022-05-31T22:20:10.068Z"
   },
   {
    "duration": 388,
    "start_time": "2022-05-31T22:20:10.075Z"
   },
   {
    "duration": 9,
    "start_time": "2022-05-31T22:20:10.465Z"
   },
   {
    "duration": 179,
    "start_time": "2022-05-31T22:20:10.476Z"
   },
   {
    "duration": 5,
    "start_time": "2022-05-31T22:20:10.657Z"
   },
   {
    "duration": 12,
    "start_time": "2022-05-31T22:20:10.664Z"
   },
   {
    "duration": 23,
    "start_time": "2022-05-31T22:20:10.678Z"
   },
   {
    "duration": 148,
    "start_time": "2022-05-31T22:20:10.703Z"
   },
   {
    "duration": 5,
    "start_time": "2022-05-31T22:20:10.852Z"
   },
   {
    "duration": 9,
    "start_time": "2022-05-31T22:20:10.859Z"
   },
   {
    "duration": 8,
    "start_time": "2022-05-31T22:20:10.870Z"
   },
   {
    "duration": 62,
    "start_time": "2022-05-31T22:20:10.880Z"
   },
   {
    "duration": 3,
    "start_time": "2022-05-31T22:20:10.944Z"
   },
   {
    "duration": 67305,
    "start_time": "2022-05-31T22:20:10.949Z"
   },
   {
    "duration": 17473,
    "start_time": "2022-05-31T22:21:18.256Z"
   },
   {
    "duration": 46,
    "start_time": "2022-05-31T22:21:35.731Z"
   },
   {
    "duration": 18,
    "start_time": "2022-05-31T22:21:35.779Z"
   },
   {
    "duration": 39,
    "start_time": "2022-05-31T22:21:35.799Z"
   },
   {
    "duration": 58,
    "start_time": "2022-05-31T22:21:35.839Z"
   },
   {
    "duration": 1081,
    "start_time": "2022-05-31T22:21:35.898Z"
   },
   {
    "duration": 6250,
    "start_time": "2022-05-31T22:21:36.980Z"
   },
   {
    "duration": 3,
    "start_time": "2022-05-31T22:21:43.231Z"
   },
   {
    "duration": 936,
    "start_time": "2022-05-31T22:21:43.236Z"
   },
   {
    "duration": 526,
    "start_time": "2022-05-31T22:21:44.173Z"
   },
   {
    "duration": 383,
    "start_time": "2022-05-31T22:21:44.701Z"
   },
   {
    "duration": 8,
    "start_time": "2022-05-31T22:21:45.086Z"
   },
   {
    "duration": 60,
    "start_time": "2022-05-31T22:21:45.096Z"
   },
   {
    "duration": 17638,
    "start_time": "2022-06-01T14:49:50.880Z"
   },
   {
    "duration": 4388,
    "start_time": "2022-06-01T14:50:20.404Z"
   },
   {
    "duration": 3192,
    "start_time": "2022-06-01T14:50:24.795Z"
   },
   {
    "duration": 46,
    "start_time": "2022-06-01T14:50:30.001Z"
   },
   {
    "duration": 114,
    "start_time": "2022-06-01T14:50:34.235Z"
   },
   {
    "duration": 24,
    "start_time": "2022-06-01T14:50:35.738Z"
   },
   {
    "duration": 19,
    "start_time": "2022-06-01T14:50:37.618Z"
   },
   {
    "duration": 21,
    "start_time": "2022-06-01T14:50:46.300Z"
   },
   {
    "duration": 35,
    "start_time": "2022-06-01T14:50:47.162Z"
   },
   {
    "duration": 18,
    "start_time": "2022-06-01T14:50:51.131Z"
   },
   {
    "duration": 36,
    "start_time": "2022-06-01T14:50:51.960Z"
   },
   {
    "duration": 9,
    "start_time": "2022-06-01T14:50:52.846Z"
   },
   {
    "duration": 21,
    "start_time": "2022-06-01T14:50:53.682Z"
   },
   {
    "duration": 16,
    "start_time": "2022-06-01T14:50:54.769Z"
   },
   {
    "duration": 5,
    "start_time": "2022-06-01T14:50:55.615Z"
   },
   {
    "duration": 16,
    "start_time": "2022-06-01T14:50:56.931Z"
   },
   {
    "duration": 17,
    "start_time": "2022-06-01T14:50:57.413Z"
   },
   {
    "duration": 13,
    "start_time": "2022-06-01T14:50:58.007Z"
   },
   {
    "duration": 8,
    "start_time": "2022-06-01T14:50:59.596Z"
   },
   {
    "duration": 28,
    "start_time": "2022-06-01T14:50:59.969Z"
   },
   {
    "duration": 14,
    "start_time": "2022-06-01T14:51:00.376Z"
   },
   {
    "duration": 16,
    "start_time": "2022-06-01T14:52:52.104Z"
   },
   {
    "duration": 5,
    "start_time": "2022-06-01T14:53:41.110Z"
   },
   {
    "duration": 40,
    "start_time": "2022-06-01T14:53:43.462Z"
   },
   {
    "duration": 13,
    "start_time": "2022-06-01T14:53:46.411Z"
   },
   {
    "duration": 5,
    "start_time": "2022-06-01T14:53:46.911Z"
   },
   {
    "duration": 858,
    "start_time": "2022-06-01T14:53:51.939Z"
   },
   {
    "duration": 11,
    "start_time": "2022-06-01T14:54:03.156Z"
   },
   {
    "duration": 20,
    "start_time": "2022-06-01T14:54:04.183Z"
   },
   {
    "duration": 18,
    "start_time": "2022-06-01T14:54:04.570Z"
   },
   {
    "duration": 8,
    "start_time": "2022-06-01T14:54:05.771Z"
   },
   {
    "duration": 6,
    "start_time": "2022-06-01T14:54:27.500Z"
   },
   {
    "duration": 349,
    "start_time": "2022-06-01T14:54:28.267Z"
   },
   {
    "duration": 62,
    "start_time": "2022-06-01T14:54:59.541Z"
   },
   {
    "duration": 20,
    "start_time": "2022-06-01T14:55:00.074Z"
   },
   {
    "duration": 19,
    "start_time": "2022-06-01T14:55:00.440Z"
   },
   {
    "duration": 21,
    "start_time": "2022-06-01T14:55:00.597Z"
   },
   {
    "duration": 45,
    "start_time": "2022-06-01T14:55:01.142Z"
   },
   {
    "duration": 18,
    "start_time": "2022-06-01T14:55:01.859Z"
   },
   {
    "duration": 38,
    "start_time": "2022-06-01T14:55:02.259Z"
   },
   {
    "duration": 8,
    "start_time": "2022-06-01T14:55:02.631Z"
   },
   {
    "duration": 17,
    "start_time": "2022-06-01T14:55:02.990Z"
   },
   {
    "duration": 17,
    "start_time": "2022-06-01T14:55:03.442Z"
   },
   {
    "duration": 5,
    "start_time": "2022-06-01T14:55:03.859Z"
   },
   {
    "duration": 16,
    "start_time": "2022-06-01T14:55:04.269Z"
   },
   {
    "duration": 14,
    "start_time": "2022-06-01T14:55:04.651Z"
   },
   {
    "duration": 14,
    "start_time": "2022-06-01T14:55:04.892Z"
   },
   {
    "duration": 7,
    "start_time": "2022-06-01T14:55:05.489Z"
   },
   {
    "duration": 23,
    "start_time": "2022-06-01T14:55:05.835Z"
   },
   {
    "duration": 14,
    "start_time": "2022-06-01T14:55:06.245Z"
   },
   {
    "duration": 16,
    "start_time": "2022-06-01T14:55:07.161Z"
   },
   {
    "duration": 5,
    "start_time": "2022-06-01T14:55:08.241Z"
   },
   {
    "duration": 36,
    "start_time": "2022-06-01T14:55:09.644Z"
   },
   {
    "duration": 13,
    "start_time": "2022-06-01T14:55:10.935Z"
   },
   {
    "duration": 6,
    "start_time": "2022-06-01T14:55:11.406Z"
   },
   {
    "duration": 372,
    "start_time": "2022-06-01T14:55:12.201Z"
   },
   {
    "duration": 11,
    "start_time": "2022-06-01T14:55:25.834Z"
   },
   {
    "duration": 16,
    "start_time": "2022-06-01T14:55:26.368Z"
   },
   {
    "duration": 15,
    "start_time": "2022-06-01T14:55:26.789Z"
   },
   {
    "duration": 6,
    "start_time": "2022-06-01T14:55:27.602Z"
   },
   {
    "duration": 6,
    "start_time": "2022-06-01T14:55:28.037Z"
   },
   {
    "duration": 578,
    "start_time": "2022-06-01T14:55:29.141Z"
   },
   {
    "duration": 8,
    "start_time": "2022-06-01T14:56:41.338Z"
   },
   {
    "duration": 8,
    "start_time": "2022-06-01T14:56:48.101Z"
   },
   {
    "duration": 3,
    "start_time": "2022-06-01T15:10:49.968Z"
   },
   {
    "duration": 4387,
    "start_time": "2022-06-01T15:11:13.633Z"
   },
   {
    "duration": 1931,
    "start_time": "2022-06-01T15:11:18.023Z"
   },
   {
    "duration": 43,
    "start_time": "2022-06-01T15:11:19.956Z"
   },
   {
    "duration": 68,
    "start_time": "2022-06-01T15:11:22.676Z"
   },
   {
    "duration": 21,
    "start_time": "2022-06-01T15:11:23.310Z"
   },
   {
    "duration": 19,
    "start_time": "2022-06-01T15:11:23.807Z"
   },
   {
    "duration": 20,
    "start_time": "2022-06-01T15:11:23.999Z"
   },
   {
    "duration": 34,
    "start_time": "2022-06-01T15:11:24.360Z"
   },
   {
    "duration": 16,
    "start_time": "2022-06-01T15:11:25.502Z"
   },
   {
    "duration": 35,
    "start_time": "2022-06-01T15:11:26.312Z"
   },
   {
    "duration": 9,
    "start_time": "2022-06-01T15:11:27.094Z"
   },
   {
    "duration": 17,
    "start_time": "2022-06-01T15:11:28.227Z"
   },
   {
    "duration": 21,
    "start_time": "2022-06-01T15:11:28.980Z"
   },
   {
    "duration": 5,
    "start_time": "2022-06-01T15:11:29.746Z"
   },
   {
    "duration": 16,
    "start_time": "2022-06-01T15:11:30.360Z"
   },
   {
    "duration": 15,
    "start_time": "2022-06-01T15:11:30.610Z"
   },
   {
    "duration": 14,
    "start_time": "2022-06-01T15:11:30.831Z"
   },
   {
    "duration": 8,
    "start_time": "2022-06-01T15:11:31.230Z"
   },
   {
    "duration": 26,
    "start_time": "2022-06-01T15:11:31.409Z"
   },
   {
    "duration": 15,
    "start_time": "2022-06-01T15:11:31.645Z"
   },
   {
    "duration": 15,
    "start_time": "2022-06-01T15:11:32.040Z"
   },
   {
    "duration": 4,
    "start_time": "2022-06-01T15:11:33.157Z"
   },
   {
    "duration": 37,
    "start_time": "2022-06-01T15:11:37.003Z"
   },
   {
    "duration": 12,
    "start_time": "2022-06-01T15:11:37.624Z"
   },
   {
    "duration": 5,
    "start_time": "2022-06-01T15:11:37.995Z"
   },
   {
    "duration": 533,
    "start_time": "2022-06-01T15:11:39.170Z"
   },
   {
    "duration": 13,
    "start_time": "2022-06-01T15:12:24.186Z"
   },
   {
    "duration": 22,
    "start_time": "2022-06-01T15:12:28.739Z"
   },
   {
    "duration": 19,
    "start_time": "2022-06-01T15:12:29.462Z"
   },
   {
    "duration": 9,
    "start_time": "2022-06-01T15:12:30.505Z"
   },
   {
    "duration": 6,
    "start_time": "2022-06-01T15:12:31.186Z"
   },
   {
    "duration": 814,
    "start_time": "2022-06-01T15:12:31.785Z"
   },
   {
    "duration": 3,
    "start_time": "2022-06-01T15:13:40.165Z"
   },
   {
    "duration": 119,
    "start_time": "2022-06-01T15:13:44.667Z"
   },
   {
    "duration": 12,
    "start_time": "2022-06-01T15:13:55.098Z"
   },
   {
    "duration": 7,
    "start_time": "2022-06-01T15:13:55.392Z"
   },
   {
    "duration": 1050,
    "start_time": "2022-06-01T15:14:03.041Z"
   },
   {
    "duration": 8,
    "start_time": "2022-06-01T15:14:25.371Z"
   },
   {
    "duration": 869,
    "start_time": "2022-06-01T15:14:25.588Z"
   },
   {
    "duration": 9,
    "start_time": "2022-06-01T15:14:37.125Z"
   },
   {
    "duration": 894,
    "start_time": "2022-06-01T15:14:37.479Z"
   },
   {
    "duration": 9,
    "start_time": "2022-06-01T15:14:51.050Z"
   },
   {
    "duration": 902,
    "start_time": "2022-06-01T15:14:51.226Z"
   },
   {
    "duration": 8,
    "start_time": "2022-06-01T15:15:01.680Z"
   },
   {
    "duration": 906,
    "start_time": "2022-06-01T15:15:01.919Z"
   },
   {
    "duration": 8,
    "start_time": "2022-06-01T15:15:12.414Z"
   },
   {
    "duration": 1001,
    "start_time": "2022-06-01T15:15:12.580Z"
   },
   {
    "duration": 23,
    "start_time": "2022-06-01T15:19:09.739Z"
   },
   {
    "duration": 11,
    "start_time": "2022-06-01T15:20:11.281Z"
   },
   {
    "duration": 13,
    "start_time": "2022-06-01T15:20:20.285Z"
   },
   {
    "duration": 10,
    "start_time": "2022-06-01T15:20:29.446Z"
   },
   {
    "duration": 14,
    "start_time": "2022-06-01T15:20:48.277Z"
   },
   {
    "duration": 15,
    "start_time": "2022-06-01T15:22:07.263Z"
   },
   {
    "duration": 15,
    "start_time": "2022-06-01T15:22:56.621Z"
   },
   {
    "duration": 290,
    "start_time": "2022-06-01T15:25:05.083Z"
   },
   {
    "duration": 120,
    "start_time": "2022-06-01T15:26:08.434Z"
   },
   {
    "duration": 436,
    "start_time": "2022-06-01T15:26:17.484Z"
   },
   {
    "duration": 280,
    "start_time": "2022-06-01T15:26:53.190Z"
   },
   {
    "duration": 6,
    "start_time": "2022-06-01T15:28:19.663Z"
   },
   {
    "duration": 1069,
    "start_time": "2022-06-01T15:28:20.230Z"
   },
   {
    "duration": 10,
    "start_time": "2022-06-01T15:36:51.368Z"
   },
   {
    "duration": 979,
    "start_time": "2022-06-01T15:36:52.203Z"
   },
   {
    "duration": 14,
    "start_time": "2022-06-01T15:37:50.797Z"
   },
   {
    "duration": 7,
    "start_time": "2022-06-01T15:37:55.323Z"
   },
   {
    "duration": 982,
    "start_time": "2022-06-01T15:37:56.033Z"
   },
   {
    "duration": 11,
    "start_time": "2022-06-01T15:38:12.871Z"
   },
   {
    "duration": 1126,
    "start_time": "2022-06-01T15:38:13.084Z"
   },
   {
    "duration": 8,
    "start_time": "2022-06-01T15:38:21.152Z"
   },
   {
    "duration": 992,
    "start_time": "2022-06-01T15:38:21.417Z"
   },
   {
    "duration": 8,
    "start_time": "2022-06-01T15:39:35.695Z"
   },
   {
    "duration": 1183,
    "start_time": "2022-06-01T15:39:36.172Z"
   },
   {
    "duration": 8,
    "start_time": "2022-06-01T15:39:49.792Z"
   },
   {
    "duration": 976,
    "start_time": "2022-06-01T15:39:50.227Z"
   },
   {
    "duration": 7,
    "start_time": "2022-06-01T15:39:56.901Z"
   },
   {
    "duration": 964,
    "start_time": "2022-06-01T15:39:57.476Z"
   },
   {
    "duration": 7,
    "start_time": "2022-06-01T15:40:04.068Z"
   },
   {
    "duration": 1029,
    "start_time": "2022-06-01T15:40:04.557Z"
   },
   {
    "duration": 8,
    "start_time": "2022-06-01T15:40:12.788Z"
   },
   {
    "duration": 971,
    "start_time": "2022-06-01T15:40:13.111Z"
   },
   {
    "duration": 8,
    "start_time": "2022-06-01T15:40:21.511Z"
   },
   {
    "duration": 1057,
    "start_time": "2022-06-01T15:40:21.676Z"
   },
   {
    "duration": 7,
    "start_time": "2022-06-01T15:40:38.344Z"
   },
   {
    "duration": 1317,
    "start_time": "2022-06-01T15:40:38.552Z"
   },
   {
    "duration": 7,
    "start_time": "2022-06-01T15:40:57.151Z"
   },
   {
    "duration": 980,
    "start_time": "2022-06-01T15:40:57.330Z"
   },
   {
    "duration": 8,
    "start_time": "2022-06-01T15:41:17.064Z"
   },
   {
    "duration": 1049,
    "start_time": "2022-06-01T15:41:17.230Z"
   },
   {
    "duration": 7,
    "start_time": "2022-06-01T15:41:27.955Z"
   },
   {
    "duration": 1054,
    "start_time": "2022-06-01T15:41:28.100Z"
   },
   {
    "duration": 8,
    "start_time": "2022-06-01T15:41:45.817Z"
   },
   {
    "duration": 976,
    "start_time": "2022-06-01T15:41:46.165Z"
   },
   {
    "duration": 11,
    "start_time": "2022-06-01T15:42:10.354Z"
   },
   {
    "duration": 1169,
    "start_time": "2022-06-01T15:42:10.501Z"
   },
   {
    "duration": 8,
    "start_time": "2022-06-01T15:42:21.120Z"
   },
   {
    "duration": 1023,
    "start_time": "2022-06-01T15:42:21.290Z"
   },
   {
    "duration": 8,
    "start_time": "2022-06-01T15:42:38.015Z"
   },
   {
    "duration": 1143,
    "start_time": "2022-06-01T15:42:38.176Z"
   },
   {
    "duration": 9,
    "start_time": "2022-06-01T15:42:52.588Z"
   },
   {
    "duration": 1066,
    "start_time": "2022-06-01T15:42:52.783Z"
   },
   {
    "duration": 8,
    "start_time": "2022-06-01T15:43:31.279Z"
   },
   {
    "duration": 993,
    "start_time": "2022-06-01T15:43:31.425Z"
   },
   {
    "duration": 8,
    "start_time": "2022-06-01T15:43:49.147Z"
   },
   {
    "duration": 980,
    "start_time": "2022-06-01T15:43:49.288Z"
   },
   {
    "duration": 8,
    "start_time": "2022-06-01T15:43:58.719Z"
   },
   {
    "duration": 1271,
    "start_time": "2022-06-01T15:43:58.875Z"
   },
   {
    "duration": 8,
    "start_time": "2022-06-01T15:45:52.712Z"
   },
   {
    "duration": 965,
    "start_time": "2022-06-01T15:45:53.417Z"
   },
   {
    "duration": 2926,
    "start_time": "2022-06-01T15:54:46.197Z"
   },
   {
    "duration": 5386,
    "start_time": "2022-06-01T15:55:21.295Z"
   },
   {
    "duration": 1746,
    "start_time": "2022-06-01T15:55:26.683Z"
   },
   {
    "duration": 20,
    "start_time": "2022-06-01T15:55:28.431Z"
   },
   {
    "duration": 90,
    "start_time": "2022-06-01T15:55:29.788Z"
   },
   {
    "duration": 24,
    "start_time": "2022-06-01T15:55:30.180Z"
   },
   {
    "duration": 30,
    "start_time": "2022-06-01T15:55:30.545Z"
   },
   {
    "duration": 24,
    "start_time": "2022-06-01T15:55:30.738Z"
   },
   {
    "duration": 36,
    "start_time": "2022-06-01T15:55:31.127Z"
   },
   {
    "duration": 19,
    "start_time": "2022-06-01T15:55:31.932Z"
   },
   {
    "duration": 36,
    "start_time": "2022-06-01T15:55:32.329Z"
   },
   {
    "duration": 9,
    "start_time": "2022-06-01T15:55:32.713Z"
   },
   {
    "duration": 18,
    "start_time": "2022-06-01T15:55:33.118Z"
   },
   {
    "duration": 20,
    "start_time": "2022-06-01T15:55:33.701Z"
   },
   {
    "duration": 5,
    "start_time": "2022-06-01T15:55:34.071Z"
   },
   {
    "duration": 16,
    "start_time": "2022-06-01T15:55:34.500Z"
   },
   {
    "duration": 21,
    "start_time": "2022-06-01T15:55:34.749Z"
   },
   {
    "duration": 14,
    "start_time": "2022-06-01T15:55:34.999Z"
   },
   {
    "duration": 7,
    "start_time": "2022-06-01T15:55:35.379Z"
   },
   {
    "duration": 27,
    "start_time": "2022-06-01T15:55:35.579Z"
   },
   {
    "duration": 29,
    "start_time": "2022-06-01T15:55:35.791Z"
   },
   {
    "duration": 25,
    "start_time": "2022-06-01T15:55:36.207Z"
   },
   {
    "duration": 6,
    "start_time": "2022-06-01T15:55:39.454Z"
   },
   {
    "duration": 47,
    "start_time": "2022-06-01T15:55:40.430Z"
   },
   {
    "duration": 13,
    "start_time": "2022-06-01T15:55:40.930Z"
   },
   {
    "duration": 5,
    "start_time": "2022-06-01T15:55:41.163Z"
   },
   {
    "duration": 1391,
    "start_time": "2022-06-01T15:55:41.806Z"
   },
   {
    "duration": 12,
    "start_time": "2022-06-01T15:55:43.199Z"
   },
   {
    "duration": 18,
    "start_time": "2022-06-01T15:56:09.951Z"
   },
   {
    "duration": 15,
    "start_time": "2022-06-01T15:56:10.856Z"
   },
   {
    "duration": 11,
    "start_time": "2022-06-01T15:56:17.150Z"
   },
   {
    "duration": 6,
    "start_time": "2022-06-01T15:56:17.647Z"
   },
   {
    "duration": 366,
    "start_time": "2022-06-01T15:56:21.134Z"
   },
   {
    "duration": 6,
    "start_time": "2022-06-01T15:57:02.304Z"
   },
   {
    "duration": 250,
    "start_time": "2022-06-01T15:57:02.573Z"
   },
   {
    "duration": 4,
    "start_time": "2022-06-01T15:59:15.981Z"
   },
   {
    "duration": 205,
    "start_time": "2022-06-01T15:59:16.151Z"
   },
   {
    "duration": 3,
    "start_time": "2022-06-01T15:59:55.689Z"
   },
   {
    "duration": 131,
    "start_time": "2022-06-01T15:59:56.804Z"
   },
   {
    "duration": 10,
    "start_time": "2022-06-01T16:00:01.126Z"
   },
   {
    "duration": 8,
    "start_time": "2022-06-01T16:00:01.382Z"
   },
   {
    "duration": 1164,
    "start_time": "2022-06-01T16:00:02.818Z"
   },
   {
    "duration": 542,
    "start_time": "2022-06-01T16:00:03.986Z"
   },
   {
    "duration": 8,
    "start_time": "2022-06-01T16:00:40.963Z"
   },
   {
    "duration": 963,
    "start_time": "2022-06-01T16:00:41.409Z"
   },
   {
    "duration": 7,
    "start_time": "2022-06-01T16:01:10.744Z"
   },
   {
    "duration": 1123,
    "start_time": "2022-06-01T16:01:11.321Z"
   },
   {
    "duration": 8,
    "start_time": "2022-06-01T16:01:32.234Z"
   },
   {
    "duration": 1083,
    "start_time": "2022-06-01T16:01:32.522Z"
   },
   {
    "duration": 392,
    "start_time": "2022-06-01T16:02:13.581Z"
   },
   {
    "duration": 17,
    "start_time": "2022-06-01T16:02:26.093Z"
   },
   {
    "duration": 386,
    "start_time": "2022-06-01T16:02:38.067Z"
   },
   {
    "duration": 415,
    "start_time": "2022-06-01T16:02:49.100Z"
   },
   {
    "duration": 9,
    "start_time": "2022-06-01T16:03:15.351Z"
   },
   {
    "duration": 1081,
    "start_time": "2022-06-01T16:03:15.542Z"
   },
   {
    "duration": 8,
    "start_time": "2022-06-01T16:04:19.547Z"
   },
   {
    "duration": 965,
    "start_time": "2022-06-01T16:04:19.804Z"
   },
   {
    "duration": 308,
    "start_time": "2022-06-01T16:06:35.829Z"
   },
   {
    "duration": 245,
    "start_time": "2022-06-01T16:06:39.543Z"
   },
   {
    "duration": 2,
    "start_time": "2022-06-01T16:07:27.820Z"
   },
   {
    "duration": 177,
    "start_time": "2022-06-01T16:08:03.182Z"
   },
   {
    "duration": 325,
    "start_time": "2022-06-01T16:08:25.273Z"
   },
   {
    "duration": 493,
    "start_time": "2022-06-01T16:08:43.876Z"
   },
   {
    "duration": 318,
    "start_time": "2022-06-01T16:11:05.681Z"
   },
   {
    "duration": 337,
    "start_time": "2022-06-01T16:12:47.730Z"
   },
   {
    "duration": 491,
    "start_time": "2022-06-01T16:13:01.944Z"
   },
   {
    "duration": 362,
    "start_time": "2022-06-01T16:13:13.423Z"
   },
   {
    "duration": 21,
    "start_time": "2022-06-01T16:13:43.912Z"
   },
   {
    "duration": 15,
    "start_time": "2022-06-01T16:13:49.983Z"
   },
   {
    "duration": 338,
    "start_time": "2022-06-01T16:14:00.711Z"
   },
   {
    "duration": 470,
    "start_time": "2022-06-01T16:14:29.304Z"
   },
   {
    "duration": 7,
    "start_time": "2022-06-01T16:15:07.492Z"
   },
   {
    "duration": 968,
    "start_time": "2022-06-01T16:15:07.713Z"
   },
   {
    "duration": 1000,
    "start_time": "2022-06-01T16:19:00.312Z"
   },
   {
    "duration": 14,
    "start_time": "2022-06-01T16:19:18.181Z"
   },
   {
    "duration": 8,
    "start_time": "2022-06-01T16:19:24.108Z"
   },
   {
    "duration": 6,
    "start_time": "2022-06-01T16:20:04.972Z"
   },
   {
    "duration": 8,
    "start_time": "2022-06-01T16:20:07.939Z"
   },
   {
    "duration": 7,
    "start_time": "2022-06-01T16:20:55.493Z"
   },
   {
    "duration": 155,
    "start_time": "2022-06-01T16:20:56.142Z"
   },
   {
    "duration": 5,
    "start_time": "2022-06-01T16:22:03.554Z"
   },
   {
    "duration": 189,
    "start_time": "2022-06-01T16:22:03.979Z"
   },
   {
    "duration": 9,
    "start_time": "2022-06-01T16:25:29.713Z"
   },
   {
    "duration": 960,
    "start_time": "2022-06-01T16:25:29.917Z"
   },
   {
    "duration": 8,
    "start_time": "2022-06-01T16:25:46.921Z"
   },
   {
    "duration": 1132,
    "start_time": "2022-06-01T16:25:47.240Z"
   },
   {
    "duration": 5,
    "start_time": "2022-06-01T16:27:03.831Z"
   },
   {
    "duration": 211,
    "start_time": "2022-06-01T16:27:04.051Z"
   },
   {
    "duration": 253,
    "start_time": "2022-06-01T16:27:52.755Z"
   },
   {
    "duration": 264,
    "start_time": "2022-06-01T16:28:43.625Z"
   },
   {
    "duration": 5,
    "start_time": "2022-06-01T16:30:46.915Z"
   },
   {
    "duration": 432,
    "start_time": "2022-06-01T16:31:54.901Z"
   },
   {
    "duration": 640,
    "start_time": "2022-06-01T16:31:58.782Z"
   },
   {
    "duration": 7,
    "start_time": "2022-06-01T16:32:08.852Z"
   },
   {
    "duration": 232,
    "start_time": "2022-06-01T16:32:09.133Z"
   },
   {
    "duration": 5,
    "start_time": "2022-06-01T16:32:18.406Z"
   },
   {
    "duration": 211,
    "start_time": "2022-06-01T16:32:18.608Z"
   },
   {
    "duration": 4,
    "start_time": "2022-06-01T16:33:04.849Z"
   },
   {
    "duration": 429,
    "start_time": "2022-06-01T16:33:05.029Z"
   },
   {
    "duration": 26,
    "start_time": "2022-06-01T16:34:05.760Z"
   },
   {
    "duration": 350,
    "start_time": "2022-06-01T16:34:10.830Z"
   },
   {
    "duration": 6,
    "start_time": "2022-06-01T16:34:38.937Z"
   },
   {
    "duration": 120,
    "start_time": "2022-06-01T16:34:39.099Z"
   },
   {
    "duration": 4,
    "start_time": "2022-06-01T16:34:50.769Z"
   },
   {
    "duration": 121,
    "start_time": "2022-06-01T16:34:51.146Z"
   },
   {
    "duration": 4,
    "start_time": "2022-06-01T16:34:58.353Z"
   },
   {
    "duration": 522,
    "start_time": "2022-06-01T16:34:58.561Z"
   },
   {
    "duration": 4,
    "start_time": "2022-06-01T16:35:13.422Z"
   },
   {
    "duration": 423,
    "start_time": "2022-06-01T16:35:13.582Z"
   },
   {
    "duration": 200,
    "start_time": "2022-06-01T16:36:04.886Z"
   },
   {
    "duration": 4756,
    "start_time": "2022-06-01T16:36:26.481Z"
   },
   {
    "duration": 1939,
    "start_time": "2022-06-01T16:36:31.240Z"
   },
   {
    "duration": 15,
    "start_time": "2022-06-01T16:36:33.180Z"
   },
   {
    "duration": 103,
    "start_time": "2022-06-01T16:36:33.196Z"
   },
   {
    "duration": 21,
    "start_time": "2022-06-01T16:36:33.300Z"
   },
   {
    "duration": 18,
    "start_time": "2022-06-01T16:36:33.322Z"
   },
   {
    "duration": 44,
    "start_time": "2022-06-01T16:36:33.341Z"
   },
   {
    "duration": 31,
    "start_time": "2022-06-01T16:36:33.387Z"
   },
   {
    "duration": 21,
    "start_time": "2022-06-01T16:36:35.031Z"
   },
   {
    "duration": 41,
    "start_time": "2022-06-01T16:36:35.430Z"
   },
   {
    "duration": 9,
    "start_time": "2022-06-01T16:36:35.812Z"
   },
   {
    "duration": 17,
    "start_time": "2022-06-01T16:36:36.196Z"
   },
   {
    "duration": 18,
    "start_time": "2022-06-01T16:36:36.575Z"
   },
   {
    "duration": 6,
    "start_time": "2022-06-01T16:36:36.949Z"
   },
   {
    "duration": 15,
    "start_time": "2022-06-01T16:36:37.320Z"
   },
   {
    "duration": 15,
    "start_time": "2022-06-01T16:36:37.579Z"
   },
   {
    "duration": 13,
    "start_time": "2022-06-01T16:36:37.811Z"
   },
   {
    "duration": 11,
    "start_time": "2022-06-01T16:36:38.116Z"
   },
   {
    "duration": 25,
    "start_time": "2022-06-01T16:36:38.296Z"
   },
   {
    "duration": 14,
    "start_time": "2022-06-01T16:36:38.518Z"
   },
   {
    "duration": 16,
    "start_time": "2022-06-01T16:36:38.913Z"
   },
   {
    "duration": 4,
    "start_time": "2022-06-01T16:36:39.597Z"
   },
   {
    "duration": 36,
    "start_time": "2022-06-01T16:36:40.679Z"
   },
   {
    "duration": 12,
    "start_time": "2022-06-01T16:36:41.310Z"
   },
   {
    "duration": 5,
    "start_time": "2022-06-01T16:36:41.650Z"
   },
   {
    "duration": 611,
    "start_time": "2022-06-01T16:36:42.478Z"
   },
   {
    "duration": 12,
    "start_time": "2022-06-01T16:36:46.902Z"
   },
   {
    "duration": 19,
    "start_time": "2022-06-01T16:37:06.040Z"
   },
   {
    "duration": 16,
    "start_time": "2022-06-01T16:37:06.331Z"
   },
   {
    "duration": 9,
    "start_time": "2022-06-01T16:37:07.184Z"
   },
   {
    "duration": 5,
    "start_time": "2022-06-01T16:37:07.733Z"
   },
   {
    "duration": 288,
    "start_time": "2022-06-01T16:37:08.149Z"
   },
   {
    "duration": 3,
    "start_time": "2022-06-01T16:37:35.599Z"
   },
   {
    "duration": 109,
    "start_time": "2022-06-01T16:37:35.808Z"
   },
   {
    "duration": 13,
    "start_time": "2022-06-01T16:37:40.573Z"
   },
   {
    "duration": 9,
    "start_time": "2022-06-01T16:37:40.839Z"
   },
   {
    "duration": 1137,
    "start_time": "2022-06-01T16:37:41.579Z"
   },
   {
    "duration": 275,
    "start_time": "2022-06-01T16:37:47.647Z"
   },
   {
    "duration": 4,
    "start_time": "2022-06-01T16:39:02.922Z"
   },
   {
    "duration": 275,
    "start_time": "2022-06-01T16:39:11.453Z"
   },
   {
    "duration": 4,
    "start_time": "2022-06-01T16:39:37.538Z"
   },
   {
    "duration": 221,
    "start_time": "2022-06-01T16:39:37.737Z"
   },
   {
    "duration": 5,
    "start_time": "2022-06-01T16:39:54.703Z"
   },
   {
    "duration": 209,
    "start_time": "2022-06-01T16:39:54.963Z"
   },
   {
    "duration": 5,
    "start_time": "2022-06-01T16:41:37.429Z"
   },
   {
    "duration": 7,
    "start_time": "2022-06-01T16:41:37.706Z"
   },
   {
    "duration": 382,
    "start_time": "2022-06-01T16:41:39.684Z"
   },
   {
    "duration": 193,
    "start_time": "2022-06-01T16:45:02.881Z"
   },
   {
    "duration": 9,
    "start_time": "2022-06-01T16:46:18.052Z"
   },
   {
    "duration": 359,
    "start_time": "2022-06-01T16:46:18.222Z"
   },
   {
    "duration": 4,
    "start_time": "2022-06-01T16:47:04.963Z"
   },
   {
    "duration": 8,
    "start_time": "2022-06-01T16:47:05.232Z"
   },
   {
    "duration": 338,
    "start_time": "2022-06-01T16:47:05.557Z"
   },
   {
    "duration": 294,
    "start_time": "2022-06-01T16:47:10.995Z"
   },
   {
    "duration": 209,
    "start_time": "2022-06-01T17:05:09.742Z"
   },
   {
    "duration": 8,
    "start_time": "2022-06-01T17:05:43.968Z"
   },
   {
    "duration": 329,
    "start_time": "2022-06-01T17:05:44.123Z"
   },
   {
    "duration": 8,
    "start_time": "2022-06-01T17:05:59.999Z"
   },
   {
    "duration": 357,
    "start_time": "2022-06-01T17:06:00.540Z"
   },
   {
    "duration": 23,
    "start_time": "2022-06-01T17:09:04.341Z"
   },
   {
    "duration": 40,
    "start_time": "2022-06-01T17:09:15.801Z"
   },
   {
    "duration": 28,
    "start_time": "2022-06-01T17:09:25.168Z"
   },
   {
    "duration": 32,
    "start_time": "2022-06-01T17:10:20.673Z"
   },
   {
    "duration": 30,
    "start_time": "2022-06-01T17:10:41.415Z"
   },
   {
    "duration": 31,
    "start_time": "2022-06-01T17:11:16.203Z"
   },
   {
    "duration": 48,
    "start_time": "2022-06-01T17:11:31.540Z"
   },
   {
    "duration": 31,
    "start_time": "2022-06-01T17:11:48.155Z"
   },
   {
    "duration": 95,
    "start_time": "2022-06-01T17:12:15.252Z"
   },
   {
    "duration": 143,
    "start_time": "2022-06-01T17:12:24.859Z"
   },
   {
    "duration": 88,
    "start_time": "2022-06-01T17:12:36.682Z"
   },
   {
    "duration": 7,
    "start_time": "2022-06-01T17:13:00.532Z"
   },
   {
    "duration": 139,
    "start_time": "2022-06-01T17:13:41.050Z"
   },
   {
    "duration": 6,
    "start_time": "2022-06-01T17:13:48.852Z"
   },
   {
    "duration": 83,
    "start_time": "2022-06-01T17:13:53.778Z"
   },
   {
    "duration": 127,
    "start_time": "2022-06-01T17:14:22.013Z"
   },
   {
    "duration": 5,
    "start_time": "2022-06-01T17:14:22.997Z"
   },
   {
    "duration": 140,
    "start_time": "2022-06-01T17:14:29.999Z"
   },
   {
    "duration": 130,
    "start_time": "2022-06-01T17:14:41.318Z"
   },
   {
    "duration": 80,
    "start_time": "2022-06-01T17:18:53.069Z"
   },
   {
    "duration": 79,
    "start_time": "2022-06-01T17:19:39.243Z"
   },
   {
    "duration": 87,
    "start_time": "2022-06-01T17:19:43.533Z"
   },
   {
    "duration": 106,
    "start_time": "2022-06-01T17:20:28.241Z"
   },
   {
    "duration": 95,
    "start_time": "2022-06-01T17:20:49.364Z"
   },
   {
    "duration": 89,
    "start_time": "2022-06-01T17:20:52.631Z"
   },
   {
    "duration": 86,
    "start_time": "2022-06-01T17:20:57.067Z"
   },
   {
    "duration": 78,
    "start_time": "2022-06-01T17:21:23.872Z"
   },
   {
    "duration": 5,
    "start_time": "2022-06-01T17:23:04.264Z"
   },
   {
    "duration": 7,
    "start_time": "2022-06-01T17:23:04.830Z"
   },
   {
    "duration": 240,
    "start_time": "2022-06-01T17:23:05.785Z"
   },
   {
    "duration": 12,
    "start_time": "2022-06-01T17:23:22.222Z"
   },
   {
    "duration": 303,
    "start_time": "2022-06-01T17:23:22.365Z"
   },
   {
    "duration": 10,
    "start_time": "2022-06-01T17:23:47.799Z"
   },
   {
    "duration": 254,
    "start_time": "2022-06-01T17:23:48.232Z"
   },
   {
    "duration": 7,
    "start_time": "2022-06-01T17:23:54.547Z"
   },
   {
    "duration": 253,
    "start_time": "2022-06-01T17:23:54.835Z"
   },
   {
    "duration": 7,
    "start_time": "2022-06-01T17:27:06.998Z"
   },
   {
    "duration": 320,
    "start_time": "2022-06-01T17:27:07.161Z"
   },
   {
    "duration": 5,
    "start_time": "2022-06-01T17:27:27.350Z"
   },
   {
    "duration": 7,
    "start_time": "2022-06-01T17:27:27.520Z"
   },
   {
    "duration": 242,
    "start_time": "2022-06-01T17:27:27.876Z"
   },
   {
    "duration": 5,
    "start_time": "2022-06-01T17:28:12.331Z"
   },
   {
    "duration": 8,
    "start_time": "2022-06-01T17:28:12.776Z"
   },
   {
    "duration": 345,
    "start_time": "2022-06-01T17:28:13.271Z"
   },
   {
    "duration": 5,
    "start_time": "2022-06-01T17:28:23.509Z"
   },
   {
    "duration": 12,
    "start_time": "2022-06-01T17:28:29.271Z"
   },
   {
    "duration": 287,
    "start_time": "2022-06-01T17:28:29.425Z"
   },
   {
    "duration": 353,
    "start_time": "2022-06-01T17:28:40.842Z"
   },
   {
    "duration": 301,
    "start_time": "2022-06-01T17:29:39.726Z"
   },
   {
    "duration": 4585,
    "start_time": "2022-06-01T17:30:04.574Z"
   },
   {
    "duration": 2865,
    "start_time": "2022-06-01T17:30:09.162Z"
   },
   {
    "duration": 21,
    "start_time": "2022-06-01T17:30:12.028Z"
   },
   {
    "duration": 122,
    "start_time": "2022-06-01T17:30:12.051Z"
   },
   {
    "duration": 22,
    "start_time": "2022-06-01T17:30:12.174Z"
   },
   {
    "duration": 20,
    "start_time": "2022-06-01T17:30:12.198Z"
   },
   {
    "duration": 20,
    "start_time": "2022-06-01T17:30:12.220Z"
   },
   {
    "duration": 56,
    "start_time": "2022-06-01T17:30:12.241Z"
   },
   {
    "duration": 16,
    "start_time": "2022-06-01T17:30:12.299Z"
   },
   {
    "duration": 56,
    "start_time": "2022-06-01T17:30:12.318Z"
   },
   {
    "duration": 11,
    "start_time": "2022-06-01T17:30:12.376Z"
   },
   {
    "duration": 34,
    "start_time": "2022-06-01T17:30:12.389Z"
   },
   {
    "duration": 17,
    "start_time": "2022-06-01T17:30:12.424Z"
   },
   {
    "duration": 28,
    "start_time": "2022-06-01T17:30:12.443Z"
   },
   {
    "duration": 18,
    "start_time": "2022-06-01T17:30:12.473Z"
   },
   {
    "duration": 16,
    "start_time": "2022-06-01T17:30:12.493Z"
   },
   {
    "duration": 15,
    "start_time": "2022-06-01T17:30:12.511Z"
   },
   {
    "duration": 7,
    "start_time": "2022-06-01T17:30:12.528Z"
   },
   {
    "duration": 76,
    "start_time": "2022-06-01T17:30:12.537Z"
   },
   {
    "duration": 22,
    "start_time": "2022-06-01T17:30:12.615Z"
   },
   {
    "duration": 27,
    "start_time": "2022-06-01T17:30:12.664Z"
   },
   {
    "duration": 4,
    "start_time": "2022-06-01T17:30:12.694Z"
   },
   {
    "duration": 39,
    "start_time": "2022-06-01T17:30:12.699Z"
   },
   {
    "duration": 26,
    "start_time": "2022-06-01T17:30:12.740Z"
   },
   {
    "duration": 5,
    "start_time": "2022-06-01T17:30:12.768Z"
   },
   {
    "duration": 1440,
    "start_time": "2022-06-01T17:30:12.775Z"
   },
   {
    "duration": 51,
    "start_time": "2022-06-01T17:30:14.218Z"
   },
   {
    "duration": 18,
    "start_time": "2022-06-01T17:30:14.271Z"
   },
   {
    "duration": 15,
    "start_time": "2022-06-01T17:30:14.291Z"
   },
   {
    "duration": 9,
    "start_time": "2022-06-01T17:30:14.364Z"
   },
   {
    "duration": 7,
    "start_time": "2022-06-01T17:30:14.375Z"
   },
   {
    "duration": 349,
    "start_time": "2022-06-01T17:30:14.385Z"
   },
   {
    "duration": 3,
    "start_time": "2022-06-01T17:30:14.923Z"
   },
   {
    "duration": 163,
    "start_time": "2022-06-01T17:30:15.771Z"
   },
   {
    "duration": 11,
    "start_time": "2022-06-01T17:30:15.986Z"
   },
   {
    "duration": 10,
    "start_time": "2022-06-01T17:30:27.863Z"
   },
   {
    "duration": 344,
    "start_time": "2022-06-01T17:30:28.386Z"
   },
   {
    "duration": 5,
    "start_time": "2022-06-01T17:30:33.508Z"
   },
   {
    "duration": 242,
    "start_time": "2022-06-01T17:30:34.087Z"
   },
   {
    "duration": 5,
    "start_time": "2022-06-01T17:30:37.813Z"
   },
   {
    "duration": 253,
    "start_time": "2022-06-01T17:30:38.576Z"
   },
   {
    "duration": 6,
    "start_time": "2022-06-01T17:30:46.999Z"
   },
   {
    "duration": 14,
    "start_time": "2022-06-01T17:30:47.546Z"
   },
   {
    "duration": 403,
    "start_time": "2022-06-01T17:30:48.099Z"
   },
   {
    "duration": 94,
    "start_time": "2022-06-01T17:30:54.078Z"
   },
   {
    "duration": 97,
    "start_time": "2022-06-01T17:31:04.018Z"
   },
   {
    "duration": 254,
    "start_time": "2022-06-01T17:31:09.042Z"
   },
   {
    "duration": 7,
    "start_time": "2022-06-01T17:31:31.943Z"
   },
   {
    "duration": 212,
    "start_time": "2022-06-01T17:31:32.265Z"
   },
   {
    "duration": 176,
    "start_time": "2022-06-01T17:31:47.290Z"
   },
   {
    "duration": 5,
    "start_time": "2022-06-01T17:32:29.746Z"
   },
   {
    "duration": 35,
    "start_time": "2022-06-01T17:32:50.278Z"
   },
   {
    "duration": 91,
    "start_time": "2022-06-01T17:32:53.245Z"
   },
   {
    "duration": 5,
    "start_time": "2022-06-01T17:35:41.147Z"
   },
   {
    "duration": 6,
    "start_time": "2022-06-01T17:35:41.323Z"
   },
   {
    "duration": 269,
    "start_time": "2022-06-01T17:35:41.504Z"
   },
   {
    "duration": 7,
    "start_time": "2022-06-01T17:37:00.178Z"
   },
   {
    "duration": 61,
    "start_time": "2022-06-01T17:37:00.632Z"
   },
   {
    "duration": 10,
    "start_time": "2022-06-01T17:37:10.976Z"
   },
   {
    "duration": 59,
    "start_time": "2022-06-01T17:37:11.179Z"
   },
   {
    "duration": 9,
    "start_time": "2022-06-01T17:37:21.778Z"
   },
   {
    "duration": 55,
    "start_time": "2022-06-01T17:37:21.937Z"
   },
   {
    "duration": 6,
    "start_time": "2022-06-01T17:37:30.474Z"
   },
   {
    "duration": 75,
    "start_time": "2022-06-01T17:37:31.102Z"
   },
   {
    "duration": 5,
    "start_time": "2022-06-01T17:37:39.748Z"
   },
   {
    "duration": 58,
    "start_time": "2022-06-01T17:37:41.505Z"
   },
   {
    "duration": 6,
    "start_time": "2022-06-01T17:37:57.005Z"
   },
   {
    "duration": 164,
    "start_time": "2022-06-01T17:37:57.183Z"
   },
   {
    "duration": 9,
    "start_time": "2022-06-01T17:38:19.282Z"
   },
   {
    "duration": 160,
    "start_time": "2022-06-01T17:38:19.413Z"
   },
   {
    "duration": 6,
    "start_time": "2022-06-01T17:38:25.395Z"
   },
   {
    "duration": 153,
    "start_time": "2022-06-01T17:38:25.682Z"
   },
   {
    "duration": 5,
    "start_time": "2022-06-01T17:38:52.485Z"
   },
   {
    "duration": 143,
    "start_time": "2022-06-01T17:38:52.774Z"
   },
   {
    "duration": 7,
    "start_time": "2022-06-01T17:41:07.296Z"
   },
   {
    "duration": 7,
    "start_time": "2022-06-01T17:41:07.577Z"
   },
   {
    "duration": 306,
    "start_time": "2022-06-01T17:41:08.147Z"
   },
   {
    "duration": 7,
    "start_time": "2022-06-01T17:41:35.493Z"
   },
   {
    "duration": 280,
    "start_time": "2022-06-01T17:41:35.619Z"
   },
   {
    "duration": 290,
    "start_time": "2022-06-01T17:41:44.391Z"
   },
   {
    "duration": 276,
    "start_time": "2022-06-01T17:41:53.310Z"
   },
   {
    "duration": 326,
    "start_time": "2022-06-01T17:41:58.452Z"
   },
   {
    "duration": 4525,
    "start_time": "2022-06-01T17:42:25.128Z"
   },
   {
    "duration": 2015,
    "start_time": "2022-06-01T17:42:29.655Z"
   },
   {
    "duration": 56,
    "start_time": "2022-06-01T17:42:31.671Z"
   },
   {
    "duration": 75,
    "start_time": "2022-06-01T17:42:31.730Z"
   },
   {
    "duration": 22,
    "start_time": "2022-06-01T17:42:31.807Z"
   },
   {
    "duration": 25,
    "start_time": "2022-06-01T17:42:31.831Z"
   },
   {
    "duration": 47,
    "start_time": "2022-06-01T17:42:31.858Z"
   },
   {
    "duration": 69,
    "start_time": "2022-06-01T17:42:31.907Z"
   },
   {
    "duration": 29,
    "start_time": "2022-06-01T17:42:31.979Z"
   },
   {
    "duration": 56,
    "start_time": "2022-06-01T17:42:32.011Z"
   },
   {
    "duration": 8,
    "start_time": "2022-06-01T17:42:32.069Z"
   },
   {
    "duration": 32,
    "start_time": "2022-06-01T17:42:32.078Z"
   },
   {
    "duration": 16,
    "start_time": "2022-06-01T17:42:32.112Z"
   },
   {
    "duration": 24,
    "start_time": "2022-06-01T17:42:32.130Z"
   },
   {
    "duration": 29,
    "start_time": "2022-06-01T17:42:32.156Z"
   },
   {
    "duration": 31,
    "start_time": "2022-06-01T17:42:32.186Z"
   },
   {
    "duration": 33,
    "start_time": "2022-06-01T17:42:32.219Z"
   },
   {
    "duration": 11,
    "start_time": "2022-06-01T17:42:32.254Z"
   },
   {
    "duration": 49,
    "start_time": "2022-06-01T17:42:32.267Z"
   },
   {
    "duration": 14,
    "start_time": "2022-06-01T17:42:32.318Z"
   },
   {
    "duration": 15,
    "start_time": "2022-06-01T17:42:32.644Z"
   },
   {
    "duration": 4,
    "start_time": "2022-06-01T17:42:33.332Z"
   },
   {
    "duration": 37,
    "start_time": "2022-06-01T17:42:34.709Z"
   },
   {
    "duration": 13,
    "start_time": "2022-06-01T17:42:35.458Z"
   },
   {
    "duration": 6,
    "start_time": "2022-06-01T17:42:35.786Z"
   },
   {
    "duration": 566,
    "start_time": "2022-06-01T17:42:36.509Z"
   },
   {
    "duration": 11,
    "start_time": "2022-06-01T17:42:38.383Z"
   },
   {
    "duration": 21,
    "start_time": "2022-06-01T17:42:39.236Z"
   },
   {
    "duration": 15,
    "start_time": "2022-06-01T17:42:39.621Z"
   },
   {
    "duration": 9,
    "start_time": "2022-06-01T17:42:40.505Z"
   },
   {
    "duration": 5,
    "start_time": "2022-06-01T17:42:41.094Z"
   },
   {
    "duration": 245,
    "start_time": "2022-06-01T17:42:41.610Z"
   },
   {
    "duration": 3,
    "start_time": "2022-06-01T17:42:44.831Z"
   },
   {
    "duration": 129,
    "start_time": "2022-06-01T17:42:45.255Z"
   },
   {
    "duration": 11,
    "start_time": "2022-06-01T17:42:46.147Z"
   },
   {
    "duration": 10,
    "start_time": "2022-06-01T17:42:46.579Z"
   },
   {
    "duration": 290,
    "start_time": "2022-06-01T17:42:46.962Z"
   },
   {
    "duration": 5,
    "start_time": "2022-06-01T17:42:48.916Z"
   },
   {
    "duration": 183,
    "start_time": "2022-06-01T17:42:49.317Z"
   },
   {
    "duration": 5,
    "start_time": "2022-06-01T17:42:50.641Z"
   },
   {
    "duration": 195,
    "start_time": "2022-06-01T17:42:51.204Z"
   },
   {
    "duration": 5,
    "start_time": "2022-06-01T17:42:53.678Z"
   },
   {
    "duration": 7,
    "start_time": "2022-06-01T17:43:01.086Z"
   },
   {
    "duration": 336,
    "start_time": "2022-06-01T17:43:01.435Z"
   },
   {
    "duration": 4,
    "start_time": "2022-06-01T17:43:24.606Z"
   },
   {
    "duration": 88,
    "start_time": "2022-06-01T17:43:24.984Z"
   },
   {
    "duration": 8,
    "start_time": "2022-06-01T17:43:33.018Z"
   },
   {
    "duration": 126,
    "start_time": "2022-06-01T17:43:33.626Z"
   },
   {
    "duration": 25,
    "start_time": "2022-06-01T17:44:23.548Z"
   },
   {
    "duration": 9,
    "start_time": "2022-06-01T17:44:24.287Z"
   },
   {
    "duration": 17,
    "start_time": "2022-06-01T17:44:24.843Z"
   },
   {
    "duration": 690,
    "start_time": "2022-06-01T17:44:27.158Z"
   },
   {
    "duration": 232,
    "start_time": "2022-06-01T17:44:36.944Z"
   },
   {
    "duration": 10,
    "start_time": "2022-06-01T17:45:50.728Z"
   },
   {
    "duration": 227,
    "start_time": "2022-06-01T17:45:51.479Z"
   },
   {
    "duration": 9,
    "start_time": "2022-06-01T17:46:08.511Z"
   },
   {
    "duration": 242,
    "start_time": "2022-06-01T17:46:08.794Z"
   },
   {
    "duration": 15,
    "start_time": "2022-06-01T17:46:35.770Z"
   },
   {
    "duration": 217,
    "start_time": "2022-06-01T17:46:36.088Z"
   },
   {
    "duration": 221,
    "start_time": "2022-06-01T17:46:44.680Z"
   },
   {
    "duration": 9,
    "start_time": "2022-06-01T17:46:55.105Z"
   },
   {
    "duration": 243,
    "start_time": "2022-06-01T17:46:55.243Z"
   },
   {
    "duration": 9,
    "start_time": "2022-06-01T17:47:03.841Z"
   },
   {
    "duration": 211,
    "start_time": "2022-06-01T17:47:04.305Z"
   },
   {
    "duration": 9,
    "start_time": "2022-06-01T17:47:10.121Z"
   },
   {
    "duration": 217,
    "start_time": "2022-06-01T17:47:10.410Z"
   },
   {
    "duration": 4540,
    "start_time": "2022-06-03T07:45:24.343Z"
   },
   {
    "duration": 2288,
    "start_time": "2022-06-03T07:45:28.886Z"
   },
   {
    "duration": 21,
    "start_time": "2022-06-03T07:45:46.067Z"
   },
   {
    "duration": 281,
    "start_time": "2022-06-03T07:45:50.095Z"
   },
   {
    "duration": 30,
    "start_time": "2022-06-03T07:45:51.327Z"
   },
   {
    "duration": 20,
    "start_time": "2022-06-03T07:45:52.189Z"
   },
   {
    "duration": 21,
    "start_time": "2022-06-03T07:45:52.545Z"
   },
   {
    "duration": 44,
    "start_time": "2022-06-03T07:45:53.525Z"
   },
   {
    "duration": 16,
    "start_time": "2022-06-03T07:45:54.890Z"
   },
   {
    "duration": 61,
    "start_time": "2022-06-03T07:45:55.691Z"
   },
   {
    "duration": 12,
    "start_time": "2022-06-03T07:45:56.529Z"
   },
   {
    "duration": 18,
    "start_time": "2022-06-03T07:45:57.100Z"
   },
   {
    "duration": 23,
    "start_time": "2022-06-03T07:45:57.531Z"
   },
   {
    "duration": 5,
    "start_time": "2022-06-03T07:45:57.894Z"
   },
   {
    "duration": 17,
    "start_time": "2022-06-03T07:45:58.253Z"
   },
   {
    "duration": 15,
    "start_time": "2022-06-03T07:45:58.491Z"
   },
   {
    "duration": 24,
    "start_time": "2022-06-03T07:45:58.769Z"
   },
   {
    "duration": 8,
    "start_time": "2022-06-03T07:45:59.069Z"
   },
   {
    "duration": 30,
    "start_time": "2022-06-03T07:45:59.286Z"
   },
   {
    "duration": 19,
    "start_time": "2022-06-03T07:45:59.510Z"
   },
   {
    "duration": 22,
    "start_time": "2022-06-03T07:45:59.948Z"
   },
   {
    "duration": 6,
    "start_time": "2022-06-03T07:46:02.969Z"
   },
   {
    "duration": 52,
    "start_time": "2022-06-03T07:46:04.229Z"
   },
   {
    "duration": 13,
    "start_time": "2022-06-03T07:46:05.103Z"
   },
   {
    "duration": 6,
    "start_time": "2022-06-03T07:46:05.551Z"
   },
   {
    "duration": 998,
    "start_time": "2022-06-03T07:46:06.671Z"
   },
   {
    "duration": 12,
    "start_time": "2022-06-03T07:46:13.292Z"
   },
   {
    "duration": 21,
    "start_time": "2022-06-03T07:46:14.927Z"
   },
   {
    "duration": 22,
    "start_time": "2022-06-03T07:46:15.228Z"
   },
   {
    "duration": 7,
    "start_time": "2022-06-03T07:46:16.985Z"
   },
   {
    "duration": 6,
    "start_time": "2022-06-03T07:46:17.564Z"
   },
   {
    "duration": 281,
    "start_time": "2022-06-03T07:46:18.500Z"
   },
   {
    "duration": 3,
    "start_time": "2022-06-03T07:46:25.268Z"
   },
   {
    "duration": 123,
    "start_time": "2022-06-03T07:46:25.789Z"
   },
   {
    "duration": 13,
    "start_time": "2022-06-03T07:46:27.698Z"
   },
   {
    "duration": 12,
    "start_time": "2022-06-03T07:46:28.328Z"
   },
   {
    "duration": 283,
    "start_time": "2022-06-03T07:46:29.271Z"
   },
   {
    "duration": 4,
    "start_time": "2022-06-03T07:46:35.156Z"
   },
   {
    "duration": 5,
    "start_time": "2022-06-03T07:47:22.057Z"
   },
   {
    "duration": 310,
    "start_time": "2022-06-03T07:47:23.407Z"
   },
   {
    "duration": 4724,
    "start_time": "2022-06-03T07:48:34.564Z"
   },
   {
    "duration": 1807,
    "start_time": "2022-06-03T07:48:39.291Z"
   },
   {
    "duration": 15,
    "start_time": "2022-06-03T07:48:41.100Z"
   },
   {
    "duration": 96,
    "start_time": "2022-06-03T07:48:41.128Z"
   },
   {
    "duration": 21,
    "start_time": "2022-06-03T07:48:41.226Z"
   },
   {
    "duration": 30,
    "start_time": "2022-06-03T07:48:41.248Z"
   },
   {
    "duration": 22,
    "start_time": "2022-06-03T07:48:41.280Z"
   },
   {
    "duration": 60,
    "start_time": "2022-06-03T07:48:41.303Z"
   },
   {
    "duration": 21,
    "start_time": "2022-06-03T07:48:41.365Z"
   },
   {
    "duration": 86,
    "start_time": "2022-06-03T07:48:41.389Z"
   },
   {
    "duration": 11,
    "start_time": "2022-06-03T07:48:41.477Z"
   },
   {
    "duration": 23,
    "start_time": "2022-06-03T07:48:41.490Z"
   },
   {
    "duration": 22,
    "start_time": "2022-06-03T07:48:41.529Z"
   },
   {
    "duration": 9,
    "start_time": "2022-06-03T07:48:41.553Z"
   },
   {
    "duration": 18,
    "start_time": "2022-06-03T07:48:41.564Z"
   },
   {
    "duration": 47,
    "start_time": "2022-06-03T07:48:41.584Z"
   },
   {
    "duration": 23,
    "start_time": "2022-06-03T07:48:41.634Z"
   },
   {
    "duration": 11,
    "start_time": "2022-06-03T07:48:47.371Z"
   },
   {
    "duration": 36,
    "start_time": "2022-06-03T07:48:47.748Z"
   },
   {
    "duration": 20,
    "start_time": "2022-06-03T07:48:47.926Z"
   },
   {
    "duration": 20,
    "start_time": "2022-06-03T07:48:48.246Z"
   },
   {
    "duration": 5,
    "start_time": "2022-06-03T07:48:48.872Z"
   },
   {
    "duration": 58,
    "start_time": "2022-06-03T07:48:49.487Z"
   },
   {
    "duration": 17,
    "start_time": "2022-06-03T07:48:49.957Z"
   },
   {
    "duration": 8,
    "start_time": "2022-06-03T07:48:50.111Z"
   },
   {
    "duration": 652,
    "start_time": "2022-06-03T07:48:50.430Z"
   },
   {
    "duration": 28,
    "start_time": "2022-06-03T07:48:51.201Z"
   },
   {
    "duration": 18,
    "start_time": "2022-06-03T07:48:51.745Z"
   },
   {
    "duration": 24,
    "start_time": "2022-06-03T07:48:52.962Z"
   },
   {
    "duration": 10,
    "start_time": "2022-06-03T07:48:54.573Z"
   },
   {
    "duration": 11,
    "start_time": "2022-06-03T07:48:54.588Z"
   },
   {
    "duration": 317,
    "start_time": "2022-06-03T07:48:54.602Z"
   },
   {
    "duration": 4,
    "start_time": "2022-06-03T07:48:57.765Z"
   },
   {
    "duration": 154,
    "start_time": "2022-06-03T07:48:58.150Z"
   },
   {
    "duration": 13,
    "start_time": "2022-06-03T07:49:00.372Z"
   },
   {
    "duration": 9,
    "start_time": "2022-06-03T07:49:01.583Z"
   },
   {
    "duration": 424,
    "start_time": "2022-06-03T07:49:06.254Z"
   },
   {
    "duration": 5,
    "start_time": "2022-06-03T07:49:19.088Z"
   },
   {
    "duration": 404,
    "start_time": "2022-06-03T07:49:19.503Z"
   },
   {
    "duration": 8,
    "start_time": "2022-06-03T07:49:34.794Z"
   },
   {
    "duration": 337,
    "start_time": "2022-06-03T07:49:35.346Z"
   },
   {
    "duration": 7,
    "start_time": "2022-06-03T07:49:50.842Z"
   },
   {
    "duration": 10,
    "start_time": "2022-06-03T07:49:51.804Z"
   },
   {
    "duration": 350,
    "start_time": "2022-06-03T07:49:52.122Z"
   },
   {
    "duration": 5,
    "start_time": "2022-06-03T07:50:36.292Z"
   },
   {
    "duration": 89,
    "start_time": "2022-06-03T07:50:36.717Z"
   },
   {
    "duration": 6,
    "start_time": "2022-06-03T07:51:18.993Z"
   },
   {
    "duration": 135,
    "start_time": "2022-06-03T07:51:19.367Z"
   },
   {
    "duration": 16,
    "start_time": "2022-06-03T07:51:38.158Z"
   },
   {
    "duration": 8,
    "start_time": "2022-06-03T07:51:39.178Z"
   },
   {
    "duration": 13,
    "start_time": "2022-06-03T07:51:44.358Z"
   },
   {
    "duration": 343,
    "start_time": "2022-06-03T07:51:45.634Z"
   },
   {
    "duration": 4,
    "start_time": "2022-06-03T08:00:58.668Z"
   },
   {
    "duration": 172,
    "start_time": "2022-06-03T08:00:59.025Z"
   },
   {
    "duration": 92,
    "start_time": "2022-06-03T08:14:43.141Z"
   },
   {
    "duration": 161,
    "start_time": "2022-06-03T08:14:51.324Z"
   },
   {
    "duration": 122,
    "start_time": "2022-06-03T08:16:23.166Z"
   },
   {
    "duration": 55,
    "start_time": "2022-06-03T08:17:34.491Z"
   },
   {
    "duration": 110,
    "start_time": "2022-06-03T08:17:59.779Z"
   },
   {
    "duration": 44,
    "start_time": "2022-06-03T08:18:12.651Z"
   },
   {
    "duration": 20,
    "start_time": "2022-06-03T08:19:15.281Z"
   },
   {
    "duration": 19,
    "start_time": "2022-06-03T08:19:23.747Z"
   },
   {
    "duration": 63,
    "start_time": "2022-06-03T08:20:01.412Z"
   },
   {
    "duration": 50,
    "start_time": "2022-06-03T08:20:18.093Z"
   },
   {
    "duration": 42,
    "start_time": "2022-06-03T08:20:24.941Z"
   },
   {
    "duration": 41,
    "start_time": "2022-06-03T08:20:41.361Z"
   },
   {
    "duration": 14,
    "start_time": "2022-06-03T08:20:57.800Z"
   },
   {
    "duration": 16,
    "start_time": "2022-06-03T08:22:11.756Z"
   },
   {
    "duration": 23,
    "start_time": "2022-06-03T08:22:22.520Z"
   },
   {
    "duration": 15,
    "start_time": "2022-06-03T08:22:43.547Z"
   },
   {
    "duration": 49,
    "start_time": "2022-06-03T08:22:51.515Z"
   },
   {
    "duration": 53,
    "start_time": "2022-06-03T08:23:13.797Z"
   },
   {
    "duration": 40,
    "start_time": "2022-06-03T08:23:20.071Z"
   },
   {
    "duration": 4,
    "start_time": "2022-06-03T08:27:00.844Z"
   },
   {
    "duration": 6,
    "start_time": "2022-06-03T08:27:07.626Z"
   },
   {
    "duration": 4,
    "start_time": "2022-06-03T08:28:35.386Z"
   },
   {
    "duration": 125,
    "start_time": "2022-06-03T08:28:35.587Z"
   },
   {
    "duration": 4,
    "start_time": "2022-06-03T08:31:58.149Z"
   },
   {
    "duration": 254,
    "start_time": "2022-06-03T08:31:58.489Z"
   },
   {
    "duration": 5,
    "start_time": "2022-06-03T08:33:17.358Z"
   },
   {
    "duration": 265,
    "start_time": "2022-06-03T08:33:17.562Z"
   },
   {
    "duration": 5,
    "start_time": "2022-06-03T08:33:52.983Z"
   },
   {
    "duration": 274,
    "start_time": "2022-06-03T08:33:53.116Z"
   },
   {
    "duration": 267,
    "start_time": "2022-06-03T08:34:03.799Z"
   },
   {
    "duration": 5,
    "start_time": "2022-06-03T08:34:09.164Z"
   },
   {
    "duration": 249,
    "start_time": "2022-06-03T08:34:09.384Z"
   },
   {
    "duration": 5,
    "start_time": "2022-06-03T08:34:22.580Z"
   },
   {
    "duration": 279,
    "start_time": "2022-06-03T08:34:23.597Z"
   },
   {
    "duration": 5,
    "start_time": "2022-06-03T08:34:56.101Z"
   },
   {
    "duration": 268,
    "start_time": "2022-06-03T08:34:56.364Z"
   },
   {
    "duration": 5,
    "start_time": "2022-06-03T08:36:08.578Z"
   },
   {
    "duration": 250,
    "start_time": "2022-06-03T08:36:08.752Z"
   },
   {
    "duration": 4,
    "start_time": "2022-06-03T08:36:29.450Z"
   },
   {
    "duration": 166,
    "start_time": "2022-06-03T08:36:29.613Z"
   },
   {
    "duration": 4,
    "start_time": "2022-06-03T08:37:01.299Z"
   },
   {
    "duration": 141,
    "start_time": "2022-06-03T08:37:01.455Z"
   },
   {
    "duration": 4,
    "start_time": "2022-06-03T08:37:16.808Z"
   },
   {
    "duration": 133,
    "start_time": "2022-06-03T08:37:17.033Z"
   },
   {
    "duration": 7,
    "start_time": "2022-06-03T08:38:40.920Z"
   },
   {
    "duration": 98,
    "start_time": "2022-06-03T08:38:41.086Z"
   },
   {
    "duration": 7,
    "start_time": "2022-06-03T08:38:51.400Z"
   },
   {
    "duration": 308,
    "start_time": "2022-06-03T08:38:51.586Z"
   },
   {
    "duration": 5,
    "start_time": "2022-06-03T08:41:24.992Z"
   },
   {
    "duration": 292,
    "start_time": "2022-06-03T08:41:25.167Z"
   },
   {
    "duration": 6,
    "start_time": "2022-06-03T08:41:42.172Z"
   },
   {
    "duration": 277,
    "start_time": "2022-06-03T08:41:42.462Z"
   },
   {
    "duration": 5,
    "start_time": "2022-06-03T08:43:28.852Z"
   },
   {
    "duration": 283,
    "start_time": "2022-06-03T08:43:29.005Z"
   },
   {
    "duration": 5,
    "start_time": "2022-06-03T08:43:33.112Z"
   },
   {
    "duration": 274,
    "start_time": "2022-06-03T08:43:33.260Z"
   },
   {
    "duration": 5,
    "start_time": "2022-06-03T08:43:37.276Z"
   },
   {
    "duration": 431,
    "start_time": "2022-06-03T08:43:37.416Z"
   },
   {
    "duration": 6,
    "start_time": "2022-06-03T08:43:44.912Z"
   },
   {
    "duration": 291,
    "start_time": "2022-06-03T08:43:45.060Z"
   },
   {
    "duration": 6,
    "start_time": "2022-06-03T08:43:52.215Z"
   },
   {
    "duration": 273,
    "start_time": "2022-06-03T08:43:52.368Z"
   },
   {
    "duration": 5,
    "start_time": "2022-06-03T08:44:04.714Z"
   },
   {
    "duration": 273,
    "start_time": "2022-06-03T08:44:04.868Z"
   },
   {
    "duration": 5,
    "start_time": "2022-06-03T08:46:38.223Z"
   },
   {
    "duration": 288,
    "start_time": "2022-06-03T08:46:38.652Z"
   },
   {
    "duration": 6,
    "start_time": "2022-06-03T08:47:10.845Z"
   },
   {
    "duration": 85,
    "start_time": "2022-06-03T08:47:10.998Z"
   },
   {
    "duration": 5,
    "start_time": "2022-06-03T08:47:36.619Z"
   },
   {
    "duration": 329,
    "start_time": "2022-06-03T08:47:36.770Z"
   },
   {
    "duration": 5,
    "start_time": "2022-06-03T08:47:45.381Z"
   },
   {
    "duration": 285,
    "start_time": "2022-06-03T08:47:45.554Z"
   },
   {
    "duration": 4,
    "start_time": "2022-06-03T08:47:49.558Z"
   },
   {
    "duration": 325,
    "start_time": "2022-06-03T08:47:49.713Z"
   },
   {
    "duration": 6,
    "start_time": "2022-06-03T08:47:53.199Z"
   },
   {
    "duration": 329,
    "start_time": "2022-06-03T08:47:53.349Z"
   },
   {
    "duration": 7,
    "start_time": "2022-06-03T08:47:56.864Z"
   },
   {
    "duration": 315,
    "start_time": "2022-06-03T08:47:56.999Z"
   },
   {
    "duration": 5,
    "start_time": "2022-06-03T08:48:22.836Z"
   },
   {
    "duration": 320,
    "start_time": "2022-06-03T08:48:23.001Z"
   },
   {
    "duration": 5,
    "start_time": "2022-06-03T08:48:33.118Z"
   },
   {
    "duration": 344,
    "start_time": "2022-06-03T08:48:33.410Z"
   },
   {
    "duration": 5,
    "start_time": "2022-06-03T08:48:47.559Z"
   },
   {
    "duration": 301,
    "start_time": "2022-06-03T08:48:47.754Z"
   },
   {
    "duration": 5308,
    "start_time": "2022-06-03T08:49:13.173Z"
   },
   {
    "duration": 2131,
    "start_time": "2022-06-03T08:49:18.484Z"
   },
   {
    "duration": 65,
    "start_time": "2022-06-03T08:49:20.617Z"
   },
   {
    "duration": 84,
    "start_time": "2022-06-03T08:49:20.685Z"
   },
   {
    "duration": 24,
    "start_time": "2022-06-03T08:49:20.770Z"
   },
   {
    "duration": 37,
    "start_time": "2022-06-03T08:49:20.796Z"
   },
   {
    "duration": 30,
    "start_time": "2022-06-03T08:49:20.836Z"
   },
   {
    "duration": 44,
    "start_time": "2022-06-03T08:49:20.868Z"
   },
   {
    "duration": 23,
    "start_time": "2022-06-03T08:49:20.930Z"
   },
   {
    "duration": 41,
    "start_time": "2022-06-03T08:49:20.956Z"
   },
   {
    "duration": 33,
    "start_time": "2022-06-03T08:49:20.998Z"
   },
   {
    "duration": 24,
    "start_time": "2022-06-03T08:49:21.034Z"
   },
   {
    "duration": 17,
    "start_time": "2022-06-03T08:49:21.060Z"
   },
   {
    "duration": 10,
    "start_time": "2022-06-03T08:49:21.079Z"
   },
   {
    "duration": 40,
    "start_time": "2022-06-03T08:49:21.091Z"
   },
   {
    "duration": 26,
    "start_time": "2022-06-03T08:49:21.133Z"
   },
   {
    "duration": 19,
    "start_time": "2022-06-03T08:49:21.161Z"
   },
   {
    "duration": 8,
    "start_time": "2022-06-03T08:49:21.182Z"
   },
   {
    "duration": 63,
    "start_time": "2022-06-03T08:49:21.192Z"
   },
   {
    "duration": 14,
    "start_time": "2022-06-03T08:49:21.256Z"
   },
   {
    "duration": 15,
    "start_time": "2022-06-03T08:49:21.272Z"
   },
   {
    "duration": 40,
    "start_time": "2022-06-03T08:49:21.289Z"
   },
   {
    "duration": 56,
    "start_time": "2022-06-03T08:49:21.332Z"
   },
   {
    "duration": 14,
    "start_time": "2022-06-03T08:49:21.658Z"
   },
   {
    "duration": 6,
    "start_time": "2022-06-03T08:49:21.807Z"
   },
   {
    "duration": 692,
    "start_time": "2022-06-03T08:49:22.242Z"
   },
   {
    "duration": 17,
    "start_time": "2022-06-03T08:49:23.083Z"
   },
   {
    "duration": 19,
    "start_time": "2022-06-03T08:49:23.484Z"
   },
   {
    "duration": 18,
    "start_time": "2022-06-03T08:49:23.686Z"
   },
   {
    "duration": 7,
    "start_time": "2022-06-03T08:49:24.103Z"
   },
   {
    "duration": 6,
    "start_time": "2022-06-03T08:49:24.301Z"
   },
   {
    "duration": 355,
    "start_time": "2022-06-03T08:49:24.513Z"
   },
   {
    "duration": 4,
    "start_time": "2022-06-03T08:49:26.171Z"
   },
   {
    "duration": 157,
    "start_time": "2022-06-03T08:49:26.177Z"
   },
   {
    "duration": 18,
    "start_time": "2022-06-03T08:49:28.016Z"
   },
   {
    "duration": 9,
    "start_time": "2022-06-03T08:49:28.556Z"
   },
   {
    "duration": 310,
    "start_time": "2022-06-03T08:49:29.003Z"
   },
   {
    "duration": 4,
    "start_time": "2022-06-03T08:49:30.762Z"
   },
   {
    "duration": 265,
    "start_time": "2022-06-03T08:49:31.815Z"
   },
   {
    "duration": 7,
    "start_time": "2022-06-03T08:49:33.799Z"
   },
   {
    "duration": 270,
    "start_time": "2022-06-03T08:49:34.203Z"
   },
   {
    "duration": 5,
    "start_time": "2022-06-03T08:49:36.649Z"
   },
   {
    "duration": 7,
    "start_time": "2022-06-03T08:49:37.016Z"
   },
   {
    "duration": 356,
    "start_time": "2022-06-03T08:49:37.444Z"
   },
   {
    "duration": 6,
    "start_time": "2022-06-03T08:49:39.345Z"
   },
   {
    "duration": 77,
    "start_time": "2022-06-03T08:49:39.759Z"
   },
   {
    "duration": 8,
    "start_time": "2022-06-03T08:49:40.304Z"
   },
   {
    "duration": 166,
    "start_time": "2022-06-03T08:51:35.405Z"
   },
   {
    "duration": 16,
    "start_time": "2022-06-03T08:51:36.659Z"
   },
   {
    "duration": 6,
    "start_time": "2022-06-03T08:51:37.195Z"
   },
   {
    "duration": 10,
    "start_time": "2022-06-03T08:51:37.403Z"
   },
   {
    "duration": 424,
    "start_time": "2022-06-03T08:51:37.643Z"
   },
   {
    "duration": 6,
    "start_time": "2022-06-03T08:51:39.351Z"
   },
   {
    "duration": 168,
    "start_time": "2022-06-03T08:51:40.249Z"
   },
   {
    "duration": 5,
    "start_time": "2022-06-03T08:51:41.771Z"
   },
   {
    "duration": 366,
    "start_time": "2022-06-03T08:51:42.497Z"
   },
   {
    "duration": 5,
    "start_time": "2022-06-03T08:53:19.062Z"
   },
   {
    "duration": 34,
    "start_time": "2022-06-03T08:53:19.361Z"
   },
   {
    "duration": 214,
    "start_time": "2022-06-03T08:53:34.489Z"
   },
   {
    "duration": 5,
    "start_time": "2022-06-03T08:54:17.377Z"
   },
   {
    "duration": 222,
    "start_time": "2022-06-03T08:54:17.576Z"
   },
   {
    "duration": 179,
    "start_time": "2022-06-03T08:54:39.579Z"
   },
   {
    "duration": 4,
    "start_time": "2022-06-03T08:54:59.461Z"
   },
   {
    "duration": 190,
    "start_time": "2022-06-03T08:54:59.610Z"
   },
   {
    "duration": 354,
    "start_time": "2022-06-03T08:55:24.954Z"
   },
   {
    "duration": 5,
    "start_time": "2022-06-03T08:55:33.818Z"
   },
   {
    "duration": 362,
    "start_time": "2022-06-03T08:55:34.043Z"
   },
   {
    "duration": 5,
    "start_time": "2022-06-03T08:55:49.721Z"
   },
   {
    "duration": 402,
    "start_time": "2022-06-03T08:55:49.949Z"
   },
   {
    "duration": 5401,
    "start_time": "2022-06-03T09:10:27.191Z"
   },
   {
    "duration": 2242,
    "start_time": "2022-06-03T09:10:32.598Z"
   },
   {
    "duration": 52,
    "start_time": "2022-06-03T09:10:34.842Z"
   },
   {
    "duration": 84,
    "start_time": "2022-06-03T09:10:34.897Z"
   },
   {
    "duration": 22,
    "start_time": "2022-06-03T09:10:34.983Z"
   },
   {
    "duration": 34,
    "start_time": "2022-06-03T09:10:35.007Z"
   },
   {
    "duration": 22,
    "start_time": "2022-06-03T09:10:35.043Z"
   },
   {
    "duration": 79,
    "start_time": "2022-06-03T09:10:35.068Z"
   },
   {
    "duration": 23,
    "start_time": "2022-06-03T09:10:35.149Z"
   },
   {
    "duration": 89,
    "start_time": "2022-06-03T09:10:35.176Z"
   },
   {
    "duration": 13,
    "start_time": "2022-06-03T09:10:35.267Z"
   },
   {
    "duration": 30,
    "start_time": "2022-06-03T09:10:35.284Z"
   },
   {
    "duration": 41,
    "start_time": "2022-06-03T09:10:35.316Z"
   },
   {
    "duration": 7,
    "start_time": "2022-06-03T09:10:35.359Z"
   },
   {
    "duration": 35,
    "start_time": "2022-06-03T09:10:35.370Z"
   },
   {
    "duration": 31,
    "start_time": "2022-06-03T09:10:35.407Z"
   },
   {
    "duration": 27,
    "start_time": "2022-06-03T09:10:35.441Z"
   },
   {
    "duration": 12,
    "start_time": "2022-06-03T09:10:35.471Z"
   },
   {
    "duration": 54,
    "start_time": "2022-06-03T09:10:35.486Z"
   },
   {
    "duration": 15,
    "start_time": "2022-06-03T09:10:35.542Z"
   },
   {
    "duration": 21,
    "start_time": "2022-06-03T09:10:35.559Z"
   },
   {
    "duration": 46,
    "start_time": "2022-06-03T09:10:35.583Z"
   },
   {
    "duration": 54,
    "start_time": "2022-06-03T09:10:35.633Z"
   },
   {
    "duration": 16,
    "start_time": "2022-06-03T09:10:36.010Z"
   },
   {
    "duration": 5,
    "start_time": "2022-06-03T09:10:36.105Z"
   },
   {
    "duration": 634,
    "start_time": "2022-06-03T09:10:36.508Z"
   },
   {
    "duration": 13,
    "start_time": "2022-06-03T09:10:37.260Z"
   },
   {
    "duration": 18,
    "start_time": "2022-06-03T09:10:37.568Z"
   },
   {
    "duration": 21,
    "start_time": "2022-06-03T09:10:37.788Z"
   },
   {
    "duration": 7,
    "start_time": "2022-06-03T09:10:38.185Z"
   },
   {
    "duration": 7,
    "start_time": "2022-06-03T09:10:38.384Z"
   },
   {
    "duration": 281,
    "start_time": "2022-06-03T09:10:38.592Z"
   },
   {
    "duration": 4,
    "start_time": "2022-06-03T09:10:39.697Z"
   },
   {
    "duration": 165,
    "start_time": "2022-06-03T09:10:39.899Z"
   },
   {
    "duration": 16,
    "start_time": "2022-06-03T09:10:43.142Z"
   },
   {
    "duration": 36,
    "start_time": "2022-06-03T09:10:43.194Z"
   },
   {
    "duration": 444,
    "start_time": "2022-06-03T09:10:43.232Z"
   },
   {
    "duration": 6,
    "start_time": "2022-06-03T09:10:43.678Z"
   },
   {
    "duration": 257,
    "start_time": "2022-06-03T09:11:08.196Z"
   },
   {
    "duration": 8,
    "start_time": "2022-06-03T09:11:16.481Z"
   },
   {
    "duration": 305,
    "start_time": "2022-06-03T09:11:16.983Z"
   },
   {
    "duration": 5,
    "start_time": "2022-06-03T09:11:30.184Z"
   },
   {
    "duration": 283,
    "start_time": "2022-06-03T09:11:30.656Z"
   },
   {
    "duration": 280,
    "start_time": "2022-06-03T09:12:00.000Z"
   },
   {
    "duration": 8,
    "start_time": "2022-06-03T09:12:05.200Z"
   },
   {
    "duration": 265,
    "start_time": "2022-06-03T09:12:05.381Z"
   },
   {
    "duration": 5,
    "start_time": "2022-06-03T09:12:12.757Z"
   },
   {
    "duration": 274,
    "start_time": "2022-06-03T09:12:12.916Z"
   },
   {
    "duration": 5,
    "start_time": "2022-06-03T09:12:31.095Z"
   },
   {
    "duration": 41,
    "start_time": "2022-06-03T09:12:31.286Z"
   },
   {
    "duration": 440,
    "start_time": "2022-06-03T09:12:32.356Z"
   },
   {
    "duration": 6,
    "start_time": "2022-06-03T09:12:37.796Z"
   },
   {
    "duration": 118,
    "start_time": "2022-06-03T09:12:38.253Z"
   },
   {
    "duration": 10,
    "start_time": "2022-06-03T09:12:41.687Z"
   },
   {
    "duration": 219,
    "start_time": "2022-06-03T09:12:42.334Z"
   },
   {
    "duration": 20,
    "start_time": "2022-06-03T09:12:56.258Z"
   },
   {
    "duration": 7,
    "start_time": "2022-06-03T09:12:56.861Z"
   },
   {
    "duration": 13,
    "start_time": "2022-06-03T09:12:57.392Z"
   },
   {
    "duration": 303,
    "start_time": "2022-06-03T09:12:57.893Z"
   },
   {
    "duration": 4,
    "start_time": "2022-06-03T09:13:03.354Z"
   },
   {
    "duration": 197,
    "start_time": "2022-06-03T09:13:03.823Z"
   },
   {
    "duration": 5,
    "start_time": "2022-06-03T09:13:10.798Z"
   },
   {
    "duration": 443,
    "start_time": "2022-06-03T09:13:12.086Z"
   },
   {
    "duration": 4,
    "start_time": "2022-06-03T09:25:27.765Z"
   },
   {
    "duration": 5,
    "start_time": "2022-06-03T09:25:49.216Z"
   },
   {
    "duration": 5,
    "start_time": "2022-06-03T09:26:43.449Z"
   },
   {
    "duration": 31,
    "start_time": "2022-06-03T09:26:43.769Z"
   },
   {
    "duration": 5,
    "start_time": "2022-06-03T09:26:59.669Z"
   },
   {
    "duration": 148,
    "start_time": "2022-06-03T09:26:59.955Z"
   },
   {
    "duration": 5,
    "start_time": "2022-06-03T09:27:09.398Z"
   },
   {
    "duration": 323,
    "start_time": "2022-06-03T09:27:09.602Z"
   },
   {
    "duration": 5,
    "start_time": "2022-06-03T09:27:18.199Z"
   },
   {
    "duration": 5,
    "start_time": "2022-06-03T09:27:20.768Z"
   },
   {
    "duration": 334,
    "start_time": "2022-06-03T09:27:20.903Z"
   },
   {
    "duration": 5,
    "start_time": "2022-06-03T09:27:35.207Z"
   },
   {
    "duration": 283,
    "start_time": "2022-06-03T09:27:35.765Z"
   },
   {
    "duration": 5,
    "start_time": "2022-06-03T09:27:45.470Z"
   },
   {
    "duration": 270,
    "start_time": "2022-06-03T09:27:46.061Z"
   },
   {
    "duration": 7,
    "start_time": "2022-06-03T09:28:06.196Z"
   },
   {
    "duration": 360,
    "start_time": "2022-06-03T09:28:06.430Z"
   },
   {
    "duration": 5,
    "start_time": "2022-06-03T09:28:21.799Z"
   },
   {
    "duration": 324,
    "start_time": "2022-06-03T09:28:21.966Z"
   },
   {
    "duration": 6,
    "start_time": "2022-06-03T09:28:46.897Z"
   },
   {
    "duration": 459,
    "start_time": "2022-06-03T09:28:47.036Z"
   },
   {
    "duration": 13,
    "start_time": "2022-06-03T09:34:21.322Z"
   },
   {
    "duration": 118,
    "start_time": "2022-06-03T09:34:24.125Z"
   },
   {
    "duration": 107,
    "start_time": "2022-06-03T09:34:45.741Z"
   },
   {
    "duration": 122,
    "start_time": "2022-06-03T09:35:17.582Z"
   },
   {
    "duration": 108,
    "start_time": "2022-06-03T09:35:23.060Z"
   },
   {
    "duration": 106,
    "start_time": "2022-06-03T09:35:26.966Z"
   },
   {
    "duration": 106,
    "start_time": "2022-06-03T09:35:30.158Z"
   },
   {
    "duration": 6,
    "start_time": "2022-06-03T09:36:09.043Z"
   },
   {
    "duration": 3,
    "start_time": "2022-06-03T10:01:52.530Z"
   },
   {
    "duration": 4,
    "start_time": "2022-06-03T10:02:39.274Z"
   },
   {
    "duration": 34,
    "start_time": "2022-06-03T10:02:39.577Z"
   },
   {
    "duration": 146,
    "start_time": "2022-06-03T10:03:44.983Z"
   },
   {
    "duration": 139,
    "start_time": "2022-06-03T10:05:24.235Z"
   },
   {
    "duration": 147,
    "start_time": "2022-06-03T10:05:37.328Z"
   },
   {
    "duration": 106,
    "start_time": "2022-06-03T10:07:21.869Z"
   },
   {
    "duration": 8,
    "start_time": "2022-06-03T10:08:58.379Z"
   },
   {
    "duration": 90,
    "start_time": "2022-06-03T10:08:59.504Z"
   },
   {
    "duration": 74,
    "start_time": "2022-06-03T10:09:08.144Z"
   },
   {
    "duration": 7,
    "start_time": "2022-06-03T10:09:11.981Z"
   },
   {
    "duration": 9,
    "start_time": "2022-06-03T10:09:36.146Z"
   },
   {
    "duration": 5,
    "start_time": "2022-06-03T10:10:01.745Z"
   },
   {
    "duration": 5,
    "start_time": "2022-06-03T10:10:37.075Z"
   },
   {
    "duration": 30,
    "start_time": "2022-06-03T10:10:46.545Z"
   },
   {
    "duration": 22,
    "start_time": "2022-06-03T10:10:48.725Z"
   },
   {
    "duration": 16,
    "start_time": "2022-06-03T10:10:56.583Z"
   },
   {
    "duration": 50,
    "start_time": "2022-06-03T10:11:14.876Z"
   },
   {
    "duration": 6,
    "start_time": "2022-06-03T10:11:48.256Z"
   },
   {
    "duration": 6,
    "start_time": "2022-06-03T10:11:56.297Z"
   },
   {
    "duration": 10,
    "start_time": "2022-06-03T10:12:25.302Z"
   },
   {
    "duration": 6,
    "start_time": "2022-06-03T10:12:48.661Z"
   },
   {
    "duration": 4918,
    "start_time": "2022-06-03T10:30:20.017Z"
   },
   {
    "duration": 5,
    "start_time": "2022-06-03T10:30:24.939Z"
   },
   {
    "duration": 4645,
    "start_time": "2022-06-03T10:30:34.416Z"
   },
   {
    "duration": 1864,
    "start_time": "2022-06-03T10:30:39.063Z"
   },
   {
    "duration": 53,
    "start_time": "2022-06-03T10:30:40.929Z"
   },
   {
    "duration": 71,
    "start_time": "2022-06-03T10:30:43.414Z"
   },
   {
    "duration": 26,
    "start_time": "2022-06-03T10:30:44.042Z"
   },
   {
    "duration": 26,
    "start_time": "2022-06-03T10:30:44.726Z"
   },
   {
    "duration": 22,
    "start_time": "2022-06-03T10:30:45.092Z"
   },
   {
    "duration": 42,
    "start_time": "2022-06-03T10:30:46.330Z"
   },
   {
    "duration": 18,
    "start_time": "2022-06-03T10:30:49.785Z"
   },
   {
    "duration": 37,
    "start_time": "2022-06-03T10:30:50.947Z"
   },
   {
    "duration": 10,
    "start_time": "2022-06-03T10:30:51.843Z"
   },
   {
    "duration": 23,
    "start_time": "2022-06-03T10:30:52.417Z"
   },
   {
    "duration": 16,
    "start_time": "2022-06-03T10:30:53.053Z"
   },
   {
    "duration": 6,
    "start_time": "2022-06-03T10:30:53.718Z"
   },
   {
    "duration": 16,
    "start_time": "2022-06-03T10:30:54.310Z"
   },
   {
    "duration": 15,
    "start_time": "2022-06-03T10:30:54.742Z"
   },
   {
    "duration": 14,
    "start_time": "2022-06-03T10:30:55.041Z"
   },
   {
    "duration": 6,
    "start_time": "2022-06-03T10:30:55.616Z"
   },
   {
    "duration": 25,
    "start_time": "2022-06-03T10:30:55.861Z"
   },
   {
    "duration": 14,
    "start_time": "2022-06-03T10:30:56.248Z"
   },
   {
    "duration": 23,
    "start_time": "2022-06-03T10:30:57.121Z"
   },
   {
    "duration": 4,
    "start_time": "2022-06-03T10:30:58.162Z"
   },
   {
    "duration": 43,
    "start_time": "2022-06-03T10:30:58.813Z"
   },
   {
    "duration": 13,
    "start_time": "2022-06-03T10:30:59.199Z"
   },
   {
    "duration": 5,
    "start_time": "2022-06-03T10:30:59.388Z"
   },
   {
    "duration": 553,
    "start_time": "2022-06-03T10:30:59.741Z"
   },
   {
    "duration": 11,
    "start_time": "2022-06-03T10:31:00.394Z"
   },
   {
    "duration": 17,
    "start_time": "2022-06-03T10:31:00.788Z"
   },
   {
    "duration": 16,
    "start_time": "2022-06-03T10:31:00.984Z"
   },
   {
    "duration": 6,
    "start_time": "2022-06-03T10:31:01.442Z"
   },
   {
    "duration": 6,
    "start_time": "2022-06-03T10:31:01.593Z"
   },
   {
    "duration": 293,
    "start_time": "2022-06-03T10:31:01.757Z"
   },
   {
    "duration": 3,
    "start_time": "2022-06-03T10:31:03.804Z"
   },
   {
    "duration": 125,
    "start_time": "2022-06-03T10:31:03.867Z"
   },
   {
    "duration": 11,
    "start_time": "2022-06-03T10:31:04.556Z"
   },
   {
    "duration": 8,
    "start_time": "2022-06-03T10:31:07.583Z"
   },
   {
    "duration": 316,
    "start_time": "2022-06-03T10:31:07.593Z"
   },
   {
    "duration": 3,
    "start_time": "2022-06-03T10:31:08.045Z"
   },
   {
    "duration": 213,
    "start_time": "2022-06-03T10:31:09.392Z"
   },
   {
    "duration": 5,
    "start_time": "2022-06-03T10:31:10.687Z"
   },
   {
    "duration": 996,
    "start_time": "2022-06-03T10:31:11.149Z"
   },
   {
    "duration": 6,
    "start_time": "2022-06-03T10:31:13.440Z"
   },
   {
    "duration": 8,
    "start_time": "2022-06-03T10:31:15.841Z"
   },
   {
    "duration": 11,
    "start_time": "2022-06-03T10:31:31.528Z"
   },
   {
    "duration": 120,
    "start_time": "2022-06-03T10:31:33.015Z"
   },
   {
    "duration": 7,
    "start_time": "2022-06-03T10:31:39.888Z"
   },
   {
    "duration": 7,
    "start_time": "2022-06-03T10:31:44.112Z"
   },
   {
    "duration": 23,
    "start_time": "2022-06-03T10:31:51.154Z"
   },
   {
    "duration": 22,
    "start_time": "2022-06-03T10:32:00.919Z"
   },
   {
    "duration": 28,
    "start_time": "2022-06-03T10:32:04.122Z"
   },
   {
    "duration": 23,
    "start_time": "2022-06-03T10:32:18.794Z"
   },
   {
    "duration": 17276,
    "start_time": "2022-06-03T16:56:08.280Z"
   },
   {
    "duration": 4309,
    "start_time": "2022-06-03T16:56:55.774Z"
   },
   {
    "duration": 2615,
    "start_time": "2022-06-03T16:57:00.086Z"
   },
   {
    "duration": 15,
    "start_time": "2022-06-03T16:57:03.849Z"
   },
   {
    "duration": 206,
    "start_time": "2022-06-03T16:57:06.053Z"
   },
   {
    "duration": 12,
    "start_time": "2022-06-03T16:57:06.983Z"
   },
   {
    "duration": 4074,
    "start_time": "2022-06-03T16:57:23.530Z"
   },
   {
    "duration": 1662,
    "start_time": "2022-06-03T16:57:27.607Z"
   },
   {
    "duration": 28,
    "start_time": "2022-06-03T16:57:29.271Z"
   },
   {
    "duration": 111,
    "start_time": "2022-06-03T16:57:30.881Z"
   },
   {
    "duration": 23,
    "start_time": "2022-06-03T16:57:32.065Z"
   },
   {
    "duration": 17,
    "start_time": "2022-06-03T16:57:32.799Z"
   },
   {
    "duration": 20,
    "start_time": "2022-06-03T16:57:34.822Z"
   },
   {
    "duration": 33,
    "start_time": "2022-06-03T16:57:35.518Z"
   },
   {
    "duration": 16,
    "start_time": "2022-06-03T16:57:36.513Z"
   },
   {
    "duration": 32,
    "start_time": "2022-06-03T16:57:37.113Z"
   },
   {
    "duration": 9,
    "start_time": "2022-06-03T16:57:37.708Z"
   },
   {
    "duration": 17,
    "start_time": "2022-06-03T16:57:38.300Z"
   },
   {
    "duration": 15,
    "start_time": "2022-06-03T16:57:38.713Z"
   },
   {
    "duration": 6,
    "start_time": "2022-06-03T16:57:39.072Z"
   },
   {
    "duration": 15,
    "start_time": "2022-06-03T16:57:39.445Z"
   },
   {
    "duration": 14,
    "start_time": "2022-06-03T16:57:39.688Z"
   },
   {
    "duration": 13,
    "start_time": "2022-06-03T16:57:39.977Z"
   },
   {
    "duration": 7,
    "start_time": "2022-06-03T16:57:40.278Z"
   },
   {
    "duration": 28,
    "start_time": "2022-06-03T16:57:40.372Z"
   },
   {
    "duration": 13,
    "start_time": "2022-06-03T16:57:40.537Z"
   },
   {
    "duration": 14,
    "start_time": "2022-06-03T16:57:41.288Z"
   },
   {
    "duration": 4,
    "start_time": "2022-06-03T16:57:42.231Z"
   },
   {
    "duration": 38,
    "start_time": "2022-06-03T16:57:43.289Z"
   },
   {
    "duration": 14,
    "start_time": "2022-06-03T16:57:44.073Z"
   },
   {
    "duration": 6,
    "start_time": "2022-06-03T16:57:44.476Z"
   },
   {
    "duration": 599,
    "start_time": "2022-06-03T16:57:45.273Z"
   },
   {
    "duration": 13,
    "start_time": "2022-06-03T16:57:48.574Z"
   },
   {
    "duration": 17,
    "start_time": "2022-06-03T16:57:49.988Z"
   },
   {
    "duration": 22,
    "start_time": "2022-06-03T16:57:50.007Z"
   },
   {
    "duration": 8,
    "start_time": "2022-06-03T16:57:50.509Z"
   },
   {
    "duration": 5,
    "start_time": "2022-06-03T16:57:51.124Z"
   },
   {
    "duration": 233,
    "start_time": "2022-06-03T16:57:59.175Z"
   },
   {
    "duration": 3,
    "start_time": "2022-06-03T16:58:00.988Z"
   },
   {
    "duration": 116,
    "start_time": "2022-06-03T16:58:01.339Z"
   },
   {
    "duration": 5,
    "start_time": "2022-06-03T16:58:02.002Z"
   },
   {
    "duration": 143,
    "start_time": "2022-06-03T16:58:02.303Z"
   },
   {
    "duration": 11,
    "start_time": "2022-06-03T16:58:03.011Z"
   },
   {
    "duration": 6,
    "start_time": "2022-06-03T16:58:03.308Z"
   },
   {
    "duration": 235,
    "start_time": "2022-06-03T16:58:03.672Z"
   },
   {
    "duration": 6,
    "start_time": "2022-06-03T16:58:05.273Z"
   },
   {
    "duration": 187,
    "start_time": "2022-06-03T16:58:05.606Z"
   },
   {
    "duration": 5,
    "start_time": "2022-06-03T16:58:06.926Z"
   },
   {
    "duration": 477,
    "start_time": "2022-06-03T16:58:07.222Z"
   },
   {
    "duration": 4,
    "start_time": "2022-06-03T16:58:09.180Z"
   },
   {
    "duration": 7,
    "start_time": "2022-06-03T16:58:09.641Z"
   },
   {
    "duration": 356,
    "start_time": "2022-06-03T16:58:09.947Z"
   },
   {
    "duration": 5,
    "start_time": "2022-06-03T16:58:11.320Z"
   },
   {
    "duration": 79,
    "start_time": "2022-06-03T16:58:11.749Z"
   },
   {
    "duration": 5,
    "start_time": "2022-06-03T16:58:12.289Z"
   },
   {
    "duration": 121,
    "start_time": "2022-06-03T16:58:12.796Z"
   },
   {
    "duration": 16,
    "start_time": "2022-06-03T16:58:13.832Z"
   },
   {
    "duration": 7,
    "start_time": "2022-06-03T16:58:14.753Z"
   },
   {
    "duration": 9,
    "start_time": "2022-06-03T16:58:15.226Z"
   },
   {
    "duration": 220,
    "start_time": "2022-06-03T16:58:15.618Z"
   },
   {
    "duration": 4,
    "start_time": "2022-06-03T16:58:18.519Z"
   },
   {
    "duration": 119,
    "start_time": "2022-06-03T16:58:18.906Z"
   },
   {
    "duration": 6,
    "start_time": "2022-06-03T16:58:20.316Z"
   },
   {
    "duration": 289,
    "start_time": "2022-06-03T16:58:20.740Z"
   },
   {
    "duration": 6,
    "start_time": "2022-06-03T16:58:21.192Z"
   },
   {
    "duration": 274,
    "start_time": "2022-06-03T16:58:21.690Z"
   },
   {
    "duration": 8,
    "start_time": "2022-06-03T16:58:25.290Z"
   },
   {
    "duration": 201,
    "start_time": "2022-06-03T16:58:25.707Z"
   },
   {
    "duration": 14,
    "start_time": "2022-06-03T16:58:27.178Z"
   },
   {
    "duration": 8,
    "start_time": "2022-06-03T16:58:31.079Z"
   },
   {
    "duration": 209,
    "start_time": "2022-06-03T16:58:31.503Z"
   },
   {
    "duration": 15,
    "start_time": "2022-06-03T16:58:33.823Z"
   },
   {
    "duration": 7,
    "start_time": "2022-06-03T16:58:48.790Z"
   },
   {
    "duration": 31,
    "start_time": "2022-06-03T16:58:49.137Z"
   },
   {
    "duration": 3,
    "start_time": "2022-06-03T16:58:55.187Z"
   },
   {
    "duration": 54421,
    "start_time": "2022-06-03T16:58:55.528Z"
   },
   {
    "duration": 14805,
    "start_time": "2022-06-03T16:59:49.951Z"
   },
   {
    "duration": 36,
    "start_time": "2022-06-03T17:00:04.757Z"
   },
   {
    "duration": 15,
    "start_time": "2022-06-03T17:00:04.795Z"
   },
   {
    "duration": 11,
    "start_time": "2022-06-03T17:00:04.811Z"
   },
   {
    "duration": 71,
    "start_time": "2022-06-03T17:00:04.823Z"
   },
   {
    "duration": 1059,
    "start_time": "2022-06-03T17:00:04.895Z"
   },
   {
    "duration": 5743,
    "start_time": "2022-06-03T17:00:05.955Z"
   },
   {
    "duration": 4,
    "start_time": "2022-06-03T17:00:11.700Z"
   },
   {
    "duration": 755,
    "start_time": "2022-06-03T17:00:11.707Z"
   },
   {
    "duration": 476,
    "start_time": "2022-06-03T17:00:12.463Z"
   },
   {
    "duration": 311,
    "start_time": "2022-06-03T17:00:12.941Z"
   },
   {
    "duration": 8,
    "start_time": "2022-06-03T17:00:13.254Z"
   },
   {
    "duration": 39,
    "start_time": "2022-06-03T17:00:13.264Z"
   },
   {
    "duration": 22017,
    "start_time": "2022-06-03T21:17:15.162Z"
   },
   {
    "duration": 2105,
    "start_time": "2022-06-03T21:17:37.182Z"
   },
   {
    "duration": 0,
    "start_time": "2022-06-03T21:17:39.291Z"
   },
   {
    "duration": 0,
    "start_time": "2022-06-03T21:17:39.292Z"
   },
   {
    "duration": 0,
    "start_time": "2022-06-03T21:17:39.293Z"
   },
   {
    "duration": 0,
    "start_time": "2022-06-03T21:17:39.294Z"
   },
   {
    "duration": 0,
    "start_time": "2022-06-03T21:17:39.295Z"
   },
   {
    "duration": 0,
    "start_time": "2022-06-03T21:17:39.296Z"
   },
   {
    "duration": 0,
    "start_time": "2022-06-03T21:17:39.297Z"
   },
   {
    "duration": 0,
    "start_time": "2022-06-03T21:17:39.298Z"
   },
   {
    "duration": 0,
    "start_time": "2022-06-03T21:17:39.300Z"
   },
   {
    "duration": 0,
    "start_time": "2022-06-03T21:17:39.301Z"
   },
   {
    "duration": 0,
    "start_time": "2022-06-03T21:17:39.302Z"
   },
   {
    "duration": 0,
    "start_time": "2022-06-03T21:17:39.303Z"
   },
   {
    "duration": 0,
    "start_time": "2022-06-03T21:17:39.305Z"
   },
   {
    "duration": 0,
    "start_time": "2022-06-03T21:17:39.324Z"
   },
   {
    "duration": 0,
    "start_time": "2022-06-03T21:17:39.325Z"
   },
   {
    "duration": 0,
    "start_time": "2022-06-03T21:17:39.326Z"
   },
   {
    "duration": 0,
    "start_time": "2022-06-03T21:17:39.327Z"
   },
   {
    "duration": 0,
    "start_time": "2022-06-03T21:17:39.327Z"
   },
   {
    "duration": 0,
    "start_time": "2022-06-03T21:17:39.328Z"
   },
   {
    "duration": 0,
    "start_time": "2022-06-03T21:17:39.329Z"
   },
   {
    "duration": 0,
    "start_time": "2022-06-03T21:17:39.330Z"
   },
   {
    "duration": 0,
    "start_time": "2022-06-03T21:17:39.331Z"
   },
   {
    "duration": 0,
    "start_time": "2022-06-03T21:17:39.332Z"
   },
   {
    "duration": 0,
    "start_time": "2022-06-03T21:17:39.332Z"
   },
   {
    "duration": 0,
    "start_time": "2022-06-03T21:17:39.333Z"
   },
   {
    "duration": 0,
    "start_time": "2022-06-03T21:17:39.336Z"
   },
   {
    "duration": 0,
    "start_time": "2022-06-03T21:17:39.338Z"
   },
   {
    "duration": 0,
    "start_time": "2022-06-03T21:17:39.339Z"
   },
   {
    "duration": 0,
    "start_time": "2022-06-03T21:17:39.341Z"
   },
   {
    "duration": 0,
    "start_time": "2022-06-03T21:17:39.342Z"
   },
   {
    "duration": 0,
    "start_time": "2022-06-03T21:17:39.343Z"
   },
   {
    "duration": 0,
    "start_time": "2022-06-03T21:17:39.345Z"
   },
   {
    "duration": 0,
    "start_time": "2022-06-03T21:17:39.351Z"
   },
   {
    "duration": 0,
    "start_time": "2022-06-03T21:17:39.352Z"
   },
   {
    "duration": 0,
    "start_time": "2022-06-03T21:17:39.353Z"
   },
   {
    "duration": 0,
    "start_time": "2022-06-03T21:17:39.354Z"
   },
   {
    "duration": 0,
    "start_time": "2022-06-03T21:17:39.355Z"
   },
   {
    "duration": 0,
    "start_time": "2022-06-03T21:17:39.356Z"
   },
   {
    "duration": 0,
    "start_time": "2022-06-03T21:17:39.357Z"
   },
   {
    "duration": 0,
    "start_time": "2022-06-03T21:17:39.358Z"
   },
   {
    "duration": 0,
    "start_time": "2022-06-03T21:17:39.359Z"
   },
   {
    "duration": 0,
    "start_time": "2022-06-03T21:17:39.360Z"
   },
   {
    "duration": 0,
    "start_time": "2022-06-03T21:17:39.363Z"
   },
   {
    "duration": 0,
    "start_time": "2022-06-03T21:17:39.364Z"
   },
   {
    "duration": 0,
    "start_time": "2022-06-03T21:17:39.365Z"
   },
   {
    "duration": 0,
    "start_time": "2022-06-03T21:17:39.366Z"
   },
   {
    "duration": 0,
    "start_time": "2022-06-03T21:17:39.368Z"
   },
   {
    "duration": 0,
    "start_time": "2022-06-03T21:17:39.369Z"
   },
   {
    "duration": 0,
    "start_time": "2022-06-03T21:17:39.370Z"
   },
   {
    "duration": 0,
    "start_time": "2022-06-03T21:17:39.370Z"
   },
   {
    "duration": 0,
    "start_time": "2022-06-03T21:17:39.373Z"
   },
   {
    "duration": 0,
    "start_time": "2022-06-03T21:17:39.373Z"
   },
   {
    "duration": 0,
    "start_time": "2022-06-03T21:17:39.375Z"
   },
   {
    "duration": 0,
    "start_time": "2022-06-03T21:17:39.376Z"
   },
   {
    "duration": 0,
    "start_time": "2022-06-03T21:17:39.377Z"
   },
   {
    "duration": 0,
    "start_time": "2022-06-03T21:17:39.377Z"
   },
   {
    "duration": 0,
    "start_time": "2022-06-03T21:17:39.425Z"
   },
   {
    "duration": 0,
    "start_time": "2022-06-03T21:17:39.426Z"
   },
   {
    "duration": 0,
    "start_time": "2022-06-03T21:17:39.427Z"
   },
   {
    "duration": 0,
    "start_time": "2022-06-03T21:17:39.429Z"
   },
   {
    "duration": 0,
    "start_time": "2022-06-03T21:17:39.432Z"
   },
   {
    "duration": 0,
    "start_time": "2022-06-03T21:17:39.433Z"
   },
   {
    "duration": 0,
    "start_time": "2022-06-03T21:17:39.434Z"
   },
   {
    "duration": 0,
    "start_time": "2022-06-03T21:17:39.435Z"
   },
   {
    "duration": 0,
    "start_time": "2022-06-03T21:17:39.436Z"
   },
   {
    "duration": 0,
    "start_time": "2022-06-03T21:17:39.437Z"
   },
   {
    "duration": 0,
    "start_time": "2022-06-03T21:17:39.440Z"
   },
   {
    "duration": 0,
    "start_time": "2022-06-03T21:17:39.442Z"
   },
   {
    "duration": 0,
    "start_time": "2022-06-03T21:17:39.443Z"
   },
   {
    "duration": 0,
    "start_time": "2022-06-03T21:17:39.444Z"
   },
   {
    "duration": 0,
    "start_time": "2022-06-03T21:17:39.445Z"
   },
   {
    "duration": 0,
    "start_time": "2022-06-03T21:17:39.448Z"
   },
   {
    "duration": 0,
    "start_time": "2022-06-03T21:17:39.449Z"
   },
   {
    "duration": 0,
    "start_time": "2022-06-03T21:17:39.451Z"
   },
   {
    "duration": 0,
    "start_time": "2022-06-03T21:17:39.452Z"
   },
   {
    "duration": 0,
    "start_time": "2022-06-03T21:17:39.453Z"
   },
   {
    "duration": 0,
    "start_time": "2022-06-03T21:17:39.454Z"
   },
   {
    "duration": 0,
    "start_time": "2022-06-03T21:17:39.455Z"
   },
   {
    "duration": 0,
    "start_time": "2022-06-03T21:17:39.457Z"
   },
   {
    "duration": 0,
    "start_time": "2022-06-03T21:17:39.458Z"
   },
   {
    "duration": 0,
    "start_time": "2022-06-03T21:17:39.459Z"
   },
   {
    "duration": 4904,
    "start_time": "2022-06-03T21:17:46.266Z"
   },
   {
    "duration": 2657,
    "start_time": "2022-06-03T21:17:51.173Z"
   },
   {
    "duration": 48,
    "start_time": "2022-06-03T21:17:53.831Z"
   },
   {
    "duration": 171,
    "start_time": "2022-06-03T21:17:53.881Z"
   },
   {
    "duration": 22,
    "start_time": "2022-06-03T21:17:54.058Z"
   },
   {
    "duration": 18,
    "start_time": "2022-06-03T21:17:54.082Z"
   },
   {
    "duration": 20,
    "start_time": "2022-06-03T21:17:54.101Z"
   },
   {
    "duration": 49,
    "start_time": "2022-06-03T21:17:54.123Z"
   },
   {
    "duration": 17,
    "start_time": "2022-06-03T21:17:54.174Z"
   },
   {
    "duration": 72,
    "start_time": "2022-06-03T21:17:54.194Z"
   },
   {
    "duration": 8,
    "start_time": "2022-06-03T21:17:54.268Z"
   },
   {
    "duration": 16,
    "start_time": "2022-06-03T21:17:54.277Z"
   },
   {
    "duration": 41,
    "start_time": "2022-06-03T21:17:54.295Z"
   },
   {
    "duration": 33,
    "start_time": "2022-06-03T21:17:54.337Z"
   },
   {
    "duration": 16,
    "start_time": "2022-06-03T21:17:54.372Z"
   },
   {
    "duration": 18,
    "start_time": "2022-06-03T21:17:54.389Z"
   },
   {
    "duration": 29,
    "start_time": "2022-06-03T21:17:54.409Z"
   },
   {
    "duration": 35,
    "start_time": "2022-06-03T21:17:54.448Z"
   },
   {
    "duration": 33,
    "start_time": "2022-06-03T21:17:54.485Z"
   },
   {
    "duration": 16,
    "start_time": "2022-06-03T21:17:54.520Z"
   },
   {
    "duration": 50,
    "start_time": "2022-06-03T21:17:54.540Z"
   },
   {
    "duration": 5,
    "start_time": "2022-06-03T21:17:54.592Z"
   },
   {
    "duration": 48,
    "start_time": "2022-06-03T21:17:54.598Z"
   },
   {
    "duration": 13,
    "start_time": "2022-06-03T21:17:54.654Z"
   },
   {
    "duration": 6,
    "start_time": "2022-06-03T21:17:54.668Z"
   },
   {
    "duration": 607,
    "start_time": "2022-06-03T21:17:54.675Z"
   },
   {
    "duration": 47,
    "start_time": "2022-06-03T21:17:55.283Z"
   },
   {
    "duration": 53,
    "start_time": "2022-06-03T21:17:55.335Z"
   },
   {
    "duration": 49,
    "start_time": "2022-06-03T21:17:55.390Z"
   },
   {
    "duration": 35,
    "start_time": "2022-06-03T21:17:55.441Z"
   },
   {
    "duration": 5,
    "start_time": "2022-06-03T21:17:55.478Z"
   },
   {
    "duration": 295,
    "start_time": "2022-06-03T21:17:55.485Z"
   },
   {
    "duration": 3,
    "start_time": "2022-06-03T21:17:55.782Z"
   },
   {
    "duration": 547,
    "start_time": "2022-06-03T21:17:55.786Z"
   },
   {
    "duration": 9,
    "start_time": "2022-06-03T21:17:56.335Z"
   },
   {
    "duration": 184,
    "start_time": "2022-06-03T21:17:56.352Z"
   },
   {
    "duration": 12,
    "start_time": "2022-06-03T21:17:56.541Z"
   },
   {
    "duration": 25,
    "start_time": "2022-06-03T21:17:56.554Z"
   },
   {
    "duration": 288,
    "start_time": "2022-06-03T21:17:56.581Z"
   },
   {
    "duration": 4,
    "start_time": "2022-06-03T21:17:56.870Z"
   },
   {
    "duration": 294,
    "start_time": "2022-06-03T21:17:56.876Z"
   },
   {
    "duration": 6,
    "start_time": "2022-06-03T21:17:57.171Z"
   },
   {
    "duration": 556,
    "start_time": "2022-06-03T21:17:57.178Z"
   },
   {
    "duration": 6,
    "start_time": "2022-06-03T21:17:57.742Z"
   },
   {
    "duration": 30,
    "start_time": "2022-06-03T21:17:57.750Z"
   },
   {
    "duration": 412,
    "start_time": "2022-06-03T21:17:57.782Z"
   },
   {
    "duration": 6,
    "start_time": "2022-06-03T21:17:58.196Z"
   },
   {
    "duration": 102,
    "start_time": "2022-06-03T21:17:58.204Z"
   },
   {
    "duration": 7,
    "start_time": "2022-06-03T21:17:58.308Z"
   },
   {
    "duration": 179,
    "start_time": "2022-06-03T21:17:58.322Z"
   },
   {
    "duration": 25,
    "start_time": "2022-06-03T21:17:58.503Z"
   },
   {
    "duration": 10,
    "start_time": "2022-06-03T21:17:58.530Z"
   },
   {
    "duration": 35,
    "start_time": "2022-06-03T21:17:58.547Z"
   },
   {
    "duration": 303,
    "start_time": "2022-06-03T21:17:58.584Z"
   },
   {
    "duration": 5,
    "start_time": "2022-06-03T21:17:58.889Z"
   },
   {
    "duration": 257,
    "start_time": "2022-06-03T21:17:58.896Z"
   },
   {
    "duration": 9,
    "start_time": "2022-06-03T21:17:59.156Z"
   },
   {
    "duration": 380,
    "start_time": "2022-06-03T21:17:59.169Z"
   },
   {
    "duration": 9,
    "start_time": "2022-06-03T21:17:59.552Z"
   },
   {
    "duration": 345,
    "start_time": "2022-06-03T21:17:59.565Z"
   },
   {
    "duration": 19,
    "start_time": "2022-06-03T21:17:59.911Z"
   },
   {
    "duration": 271,
    "start_time": "2022-06-03T21:17:59.931Z"
   },
   {
    "duration": 39,
    "start_time": "2022-06-03T21:18:00.204Z"
   },
   {
    "duration": 27,
    "start_time": "2022-06-03T21:18:00.245Z"
   },
   {
    "duration": 268,
    "start_time": "2022-06-03T21:18:00.274Z"
   },
   {
    "duration": 20,
    "start_time": "2022-06-03T21:18:00.544Z"
   },
   {
    "duration": 21,
    "start_time": "2022-06-03T21:18:00.569Z"
   },
   {
    "duration": 87,
    "start_time": "2022-06-03T21:18:00.592Z"
   },
   {
    "duration": 5,
    "start_time": "2022-06-03T21:18:00.681Z"
   },
   {
    "duration": 93067,
    "start_time": "2022-06-03T21:18:00.688Z"
   },
   {
    "duration": 20077,
    "start_time": "2022-06-03T21:19:33.759Z"
   },
   {
    "duration": 60,
    "start_time": "2022-06-03T21:19:53.851Z"
   },
   {
    "duration": 27,
    "start_time": "2022-06-03T21:19:53.913Z"
   },
   {
    "duration": 57,
    "start_time": "2022-06-03T21:19:53.942Z"
   },
   {
    "duration": 78,
    "start_time": "2022-06-03T21:19:54.001Z"
   },
   {
    "duration": 1246,
    "start_time": "2022-06-03T21:19:54.081Z"
   },
   {
    "duration": 7165,
    "start_time": "2022-06-03T21:19:55.329Z"
   },
   {
    "duration": 3,
    "start_time": "2022-06-03T21:20:02.496Z"
   },
   {
    "duration": 808,
    "start_time": "2022-06-03T21:20:02.500Z"
   },
   {
    "duration": 493,
    "start_time": "2022-06-03T21:20:03.309Z"
   },
   {
    "duration": 384,
    "start_time": "2022-06-03T21:20:03.804Z"
   },
   {
    "duration": 9,
    "start_time": "2022-06-03T21:20:04.193Z"
   },
   {
    "duration": 73,
    "start_time": "2022-06-03T21:20:04.204Z"
   },
   {
    "duration": 19453,
    "start_time": "2022-06-04T11:50:30.849Z"
   },
   {
    "duration": 1806,
    "start_time": "2022-06-04T11:50:50.305Z"
   },
   {
    "duration": 0,
    "start_time": "2022-06-04T11:50:52.114Z"
   },
   {
    "duration": 0,
    "start_time": "2022-06-04T11:50:52.116Z"
   },
   {
    "duration": 0,
    "start_time": "2022-06-04T11:50:52.117Z"
   },
   {
    "duration": 0,
    "start_time": "2022-06-04T11:50:52.118Z"
   },
   {
    "duration": 0,
    "start_time": "2022-06-04T11:50:52.123Z"
   },
   {
    "duration": 0,
    "start_time": "2022-06-04T11:50:52.124Z"
   },
   {
    "duration": 0,
    "start_time": "2022-06-04T11:50:52.125Z"
   },
   {
    "duration": 0,
    "start_time": "2022-06-04T11:50:52.132Z"
   },
   {
    "duration": 0,
    "start_time": "2022-06-04T11:50:52.138Z"
   },
   {
    "duration": 0,
    "start_time": "2022-06-04T11:50:52.139Z"
   },
   {
    "duration": 0,
    "start_time": "2022-06-04T11:50:52.140Z"
   },
   {
    "duration": 0,
    "start_time": "2022-06-04T11:50:52.144Z"
   },
   {
    "duration": 0,
    "start_time": "2022-06-04T11:50:52.145Z"
   },
   {
    "duration": 0,
    "start_time": "2022-06-04T11:50:52.146Z"
   },
   {
    "duration": 0,
    "start_time": "2022-06-04T11:50:52.147Z"
   },
   {
    "duration": 0,
    "start_time": "2022-06-04T11:50:52.149Z"
   },
   {
    "duration": 0,
    "start_time": "2022-06-04T11:50:52.152Z"
   },
   {
    "duration": 0,
    "start_time": "2022-06-04T11:50:52.153Z"
   },
   {
    "duration": 0,
    "start_time": "2022-06-04T11:50:52.154Z"
   },
   {
    "duration": 0,
    "start_time": "2022-06-04T11:50:52.155Z"
   },
   {
    "duration": 0,
    "start_time": "2022-06-04T11:50:52.156Z"
   },
   {
    "duration": 0,
    "start_time": "2022-06-04T11:50:52.158Z"
   },
   {
    "duration": 0,
    "start_time": "2022-06-04T11:50:52.159Z"
   },
   {
    "duration": 0,
    "start_time": "2022-06-04T11:50:52.159Z"
   },
   {
    "duration": 0,
    "start_time": "2022-06-04T11:50:52.160Z"
   },
   {
    "duration": 0,
    "start_time": "2022-06-04T11:50:52.161Z"
   },
   {
    "duration": 0,
    "start_time": "2022-06-04T11:50:52.162Z"
   },
   {
    "duration": 0,
    "start_time": "2022-06-04T11:50:52.163Z"
   },
   {
    "duration": 0,
    "start_time": "2022-06-04T11:50:52.164Z"
   },
   {
    "duration": 0,
    "start_time": "2022-06-04T11:50:52.165Z"
   },
   {
    "duration": 0,
    "start_time": "2022-06-04T11:50:52.166Z"
   },
   {
    "duration": 0,
    "start_time": "2022-06-04T11:50:52.167Z"
   },
   {
    "duration": 0,
    "start_time": "2022-06-04T11:50:52.168Z"
   },
   {
    "duration": 0,
    "start_time": "2022-06-04T11:50:52.169Z"
   },
   {
    "duration": 0,
    "start_time": "2022-06-04T11:50:52.170Z"
   },
   {
    "duration": 0,
    "start_time": "2022-06-04T11:50:52.171Z"
   },
   {
    "duration": 0,
    "start_time": "2022-06-04T11:50:52.172Z"
   },
   {
    "duration": 0,
    "start_time": "2022-06-04T11:50:52.173Z"
   },
   {
    "duration": 0,
    "start_time": "2022-06-04T11:50:52.230Z"
   },
   {
    "duration": 0,
    "start_time": "2022-06-04T11:50:52.231Z"
   },
   {
    "duration": 0,
    "start_time": "2022-06-04T11:50:52.232Z"
   },
   {
    "duration": 0,
    "start_time": "2022-06-04T11:50:52.233Z"
   },
   {
    "duration": 0,
    "start_time": "2022-06-04T11:50:52.234Z"
   },
   {
    "duration": 0,
    "start_time": "2022-06-04T11:50:52.235Z"
   },
   {
    "duration": 0,
    "start_time": "2022-06-04T11:50:52.236Z"
   },
   {
    "duration": 0,
    "start_time": "2022-06-04T11:50:52.237Z"
   },
   {
    "duration": 0,
    "start_time": "2022-06-04T11:50:52.239Z"
   },
   {
    "duration": 0,
    "start_time": "2022-06-04T11:50:52.240Z"
   },
   {
    "duration": 0,
    "start_time": "2022-06-04T11:50:52.241Z"
   },
   {
    "duration": 0,
    "start_time": "2022-06-04T11:50:52.242Z"
   },
   {
    "duration": 0,
    "start_time": "2022-06-04T11:50:52.243Z"
   },
   {
    "duration": 0,
    "start_time": "2022-06-04T11:50:52.245Z"
   },
   {
    "duration": 0,
    "start_time": "2022-06-04T11:50:52.246Z"
   },
   {
    "duration": 0,
    "start_time": "2022-06-04T11:50:52.247Z"
   },
   {
    "duration": 0,
    "start_time": "2022-06-04T11:50:52.248Z"
   },
   {
    "duration": 0,
    "start_time": "2022-06-04T11:50:52.249Z"
   },
   {
    "duration": 0,
    "start_time": "2022-06-04T11:50:52.250Z"
   },
   {
    "duration": 0,
    "start_time": "2022-06-04T11:50:52.251Z"
   },
   {
    "duration": 0,
    "start_time": "2022-06-04T11:50:52.252Z"
   },
   {
    "duration": 0,
    "start_time": "2022-06-04T11:50:52.253Z"
   },
   {
    "duration": 0,
    "start_time": "2022-06-04T11:50:52.255Z"
   },
   {
    "duration": 0,
    "start_time": "2022-06-04T11:50:52.257Z"
   },
   {
    "duration": 0,
    "start_time": "2022-06-04T11:50:52.258Z"
   },
   {
    "duration": 0,
    "start_time": "2022-06-04T11:50:52.259Z"
   },
   {
    "duration": 0,
    "start_time": "2022-06-04T11:50:52.260Z"
   },
   {
    "duration": 0,
    "start_time": "2022-06-04T11:50:52.262Z"
   },
   {
    "duration": 0,
    "start_time": "2022-06-04T11:50:52.263Z"
   },
   {
    "duration": 0,
    "start_time": "2022-06-04T11:50:52.265Z"
   },
   {
    "duration": 0,
    "start_time": "2022-06-04T11:50:52.266Z"
   },
   {
    "duration": 0,
    "start_time": "2022-06-04T11:50:52.267Z"
   },
   {
    "duration": 3,
    "start_time": "2022-06-04T11:50:52.326Z"
   },
   {
    "duration": 0,
    "start_time": "2022-06-04T11:50:52.331Z"
   },
   {
    "duration": 0,
    "start_time": "2022-06-04T11:50:52.333Z"
   },
   {
    "duration": 0,
    "start_time": "2022-06-04T11:50:52.339Z"
   },
   {
    "duration": 0,
    "start_time": "2022-06-04T11:50:52.341Z"
   },
   {
    "duration": 0,
    "start_time": "2022-06-04T11:50:52.343Z"
   },
   {
    "duration": 0,
    "start_time": "2022-06-04T11:50:52.345Z"
   },
   {
    "duration": 0,
    "start_time": "2022-06-04T11:50:52.347Z"
   },
   {
    "duration": 0,
    "start_time": "2022-06-04T11:50:52.348Z"
   },
   {
    "duration": 0,
    "start_time": "2022-06-04T11:50:52.349Z"
   },
   {
    "duration": 0,
    "start_time": "2022-06-04T11:50:52.350Z"
   },
   {
    "duration": 5028,
    "start_time": "2022-06-04T11:50:58.186Z"
   },
   {
    "duration": 1935,
    "start_time": "2022-06-04T11:51:03.217Z"
   },
   {
    "duration": 37,
    "start_time": "2022-06-04T11:51:05.154Z"
   },
   {
    "duration": 157,
    "start_time": "2022-06-04T11:51:05.193Z"
   },
   {
    "duration": 21,
    "start_time": "2022-06-04T11:51:05.351Z"
   },
   {
    "duration": 17,
    "start_time": "2022-06-04T11:51:05.374Z"
   },
   {
    "duration": 19,
    "start_time": "2022-06-04T11:51:05.392Z"
   },
   {
    "duration": 48,
    "start_time": "2022-06-04T11:51:05.413Z"
   },
   {
    "duration": 15,
    "start_time": "2022-06-04T11:51:05.463Z"
   },
   {
    "duration": 59,
    "start_time": "2022-06-04T11:51:05.481Z"
   },
   {
    "duration": 12,
    "start_time": "2022-06-04T11:51:05.543Z"
   },
   {
    "duration": 31,
    "start_time": "2022-06-04T11:51:05.556Z"
   },
   {
    "duration": 17,
    "start_time": "2022-06-04T11:51:05.589Z"
   },
   {
    "duration": 14,
    "start_time": "2022-06-04T11:51:05.607Z"
   },
   {
    "duration": 46,
    "start_time": "2022-06-04T11:51:05.626Z"
   },
   {
    "duration": 17,
    "start_time": "2022-06-04T11:51:05.674Z"
   },
   {
    "duration": 17,
    "start_time": "2022-06-04T11:51:05.692Z"
   },
   {
    "duration": 10,
    "start_time": "2022-06-04T11:51:05.711Z"
   },
   {
    "duration": 44,
    "start_time": "2022-06-04T11:51:05.727Z"
   },
   {
    "duration": 13,
    "start_time": "2022-06-04T11:51:05.773Z"
   },
   {
    "duration": 17,
    "start_time": "2022-06-04T11:51:05.787Z"
   },
   {
    "duration": 19,
    "start_time": "2022-06-04T11:51:05.806Z"
   },
   {
    "duration": 63,
    "start_time": "2022-06-04T11:51:05.827Z"
   },
   {
    "duration": 11,
    "start_time": "2022-06-04T11:51:05.892Z"
   },
   {
    "duration": 4,
    "start_time": "2022-06-04T11:51:05.905Z"
   },
   {
    "duration": 642,
    "start_time": "2022-06-04T11:51:05.911Z"
   },
   {
    "duration": 12,
    "start_time": "2022-06-04T11:51:06.555Z"
   },
   {
    "duration": 80,
    "start_time": "2022-06-04T11:51:06.571Z"
   },
   {
    "duration": 19,
    "start_time": "2022-06-04T11:51:06.653Z"
   },
   {
    "duration": 63,
    "start_time": "2022-06-04T11:51:06.674Z"
   },
   {
    "duration": 10,
    "start_time": "2022-06-04T11:51:06.739Z"
   },
   {
    "duration": 311,
    "start_time": "2022-06-04T11:51:06.750Z"
   },
   {
    "duration": 3,
    "start_time": "2022-06-04T11:51:07.063Z"
   },
   {
    "duration": 153,
    "start_time": "2022-06-04T11:51:07.067Z"
   },
   {
    "duration": 18,
    "start_time": "2022-06-04T11:51:07.221Z"
   },
   {
    "duration": 172,
    "start_time": "2022-06-04T11:51:07.243Z"
   },
   {
    "duration": 11,
    "start_time": "2022-06-04T11:51:07.417Z"
   },
   {
    "duration": 24,
    "start_time": "2022-06-04T11:51:07.434Z"
   },
   {
    "duration": 292,
    "start_time": "2022-06-04T11:51:07.459Z"
   },
   {
    "duration": 5,
    "start_time": "2022-06-04T11:51:07.752Z"
   },
   {
    "duration": 312,
    "start_time": "2022-06-04T11:51:07.759Z"
   },
   {
    "duration": 5,
    "start_time": "2022-06-04T11:51:08.073Z"
   },
   {
    "duration": 583,
    "start_time": "2022-06-04T11:51:08.079Z"
   },
   {
    "duration": 4,
    "start_time": "2022-06-04T11:51:08.664Z"
   },
   {
    "duration": 9,
    "start_time": "2022-06-04T11:51:08.670Z"
   },
   {
    "duration": 429,
    "start_time": "2022-06-04T11:51:08.681Z"
   },
   {
    "duration": 16,
    "start_time": "2022-06-04T11:51:09.111Z"
   },
   {
    "duration": 120,
    "start_time": "2022-06-04T11:51:09.138Z"
   },
   {
    "duration": 9,
    "start_time": "2022-06-04T11:51:09.260Z"
   },
   {
    "duration": 187,
    "start_time": "2022-06-04T11:51:09.270Z"
   },
   {
    "duration": 16,
    "start_time": "2022-06-04T11:51:09.459Z"
   },
   {
    "duration": 9,
    "start_time": "2022-06-04T11:51:09.477Z"
   },
   {
    "duration": 9,
    "start_time": "2022-06-04T11:51:09.488Z"
   },
   {
    "duration": 283,
    "start_time": "2022-06-04T11:51:09.499Z"
   },
   {
    "duration": 4,
    "start_time": "2022-06-04T11:51:09.783Z"
   },
   {
    "duration": 202,
    "start_time": "2022-06-04T11:51:09.788Z"
   },
   {
    "duration": 5,
    "start_time": "2022-06-04T11:51:09.991Z"
   },
   {
    "duration": 374,
    "start_time": "2022-06-04T11:51:09.998Z"
   },
   {
    "duration": 224,
    "start_time": "2022-06-04T11:51:10.374Z"
   },
   {
    "duration": 786,
    "start_time": "2022-06-04T11:51:10.600Z"
   },
   {
    "duration": 6,
    "start_time": "2022-06-04T11:51:11.388Z"
   },
   {
    "duration": 282,
    "start_time": "2022-06-04T11:51:11.396Z"
   },
   {
    "duration": 16,
    "start_time": "2022-06-04T11:51:11.680Z"
   },
   {
    "duration": 5,
    "start_time": "2022-06-04T11:51:11.697Z"
   },
   {
    "duration": 248,
    "start_time": "2022-06-04T11:51:11.732Z"
   },
   {
    "duration": 18,
    "start_time": "2022-06-04T11:51:11.981Z"
   },
   {
    "duration": 31,
    "start_time": "2022-06-04T11:51:12.000Z"
   },
   {
    "duration": 63,
    "start_time": "2022-06-04T11:51:12.032Z"
   },
   {
    "duration": 3,
    "start_time": "2022-06-04T11:51:12.097Z"
   },
   {
    "duration": 4568,
    "start_time": "2022-06-04T11:59:49.509Z"
   },
   {
    "duration": 1774,
    "start_time": "2022-06-04T11:59:54.080Z"
   },
   {
    "duration": 14,
    "start_time": "2022-06-04T11:59:55.855Z"
   },
   {
    "duration": 107,
    "start_time": "2022-06-04T11:59:55.871Z"
   },
   {
    "duration": 26,
    "start_time": "2022-06-04T11:59:55.979Z"
   },
   {
    "duration": 34,
    "start_time": "2022-06-04T11:59:56.007Z"
   },
   {
    "duration": 20,
    "start_time": "2022-06-04T11:59:56.043Z"
   },
   {
    "duration": 34,
    "start_time": "2022-06-04T11:59:56.065Z"
   },
   {
    "duration": 39,
    "start_time": "2022-06-04T11:59:56.100Z"
   },
   {
    "duration": 35,
    "start_time": "2022-06-04T11:59:56.142Z"
   },
   {
    "duration": 9,
    "start_time": "2022-06-04T11:59:56.179Z"
   },
   {
    "duration": 49,
    "start_time": "2022-06-04T11:59:56.189Z"
   },
   {
    "duration": 15,
    "start_time": "2022-06-04T11:59:56.239Z"
   },
   {
    "duration": 11,
    "start_time": "2022-06-04T11:59:56.256Z"
   },
   {
    "duration": 16,
    "start_time": "2022-06-04T11:59:56.268Z"
   },
   {
    "duration": 17,
    "start_time": "2022-06-04T11:59:56.285Z"
   },
   {
    "duration": 25,
    "start_time": "2022-06-04T11:59:56.303Z"
   },
   {
    "duration": 18,
    "start_time": "2022-06-04T11:59:56.329Z"
   },
   {
    "duration": 24,
    "start_time": "2022-06-04T11:59:56.349Z"
   },
   {
    "duration": 12,
    "start_time": "2022-06-04T11:59:56.375Z"
   },
   {
    "duration": 47,
    "start_time": "2022-06-04T11:59:56.389Z"
   },
   {
    "duration": 4,
    "start_time": "2022-06-04T11:59:56.438Z"
   },
   {
    "duration": 39,
    "start_time": "2022-06-04T11:59:56.443Z"
   },
   {
    "duration": 11,
    "start_time": "2022-06-04T11:59:56.484Z"
   },
   {
    "duration": 5,
    "start_time": "2022-06-04T11:59:56.496Z"
   },
   {
    "duration": 573,
    "start_time": "2022-06-04T11:59:56.503Z"
   },
   {
    "duration": 57,
    "start_time": "2022-06-04T11:59:57.077Z"
   },
   {
    "duration": 21,
    "start_time": "2022-06-04T11:59:57.141Z"
   },
   {
    "duration": 78,
    "start_time": "2022-06-04T11:59:57.163Z"
   },
   {
    "duration": 8,
    "start_time": "2022-06-04T11:59:57.244Z"
   },
   {
    "duration": 6,
    "start_time": "2022-06-04T11:59:57.254Z"
   },
   {
    "duration": 323,
    "start_time": "2022-06-04T11:59:57.262Z"
   },
   {
    "duration": 4,
    "start_time": "2022-06-04T11:59:57.587Z"
   },
   {
    "duration": 159,
    "start_time": "2022-06-04T11:59:57.592Z"
   },
   {
    "duration": 4,
    "start_time": "2022-06-04T11:59:57.752Z"
   },
   {
    "duration": 182,
    "start_time": "2022-06-04T11:59:57.758Z"
   },
   {
    "duration": 11,
    "start_time": "2022-06-04T11:59:57.942Z"
   },
   {
    "duration": 6,
    "start_time": "2022-06-04T11:59:57.955Z"
   },
   {
    "duration": 283,
    "start_time": "2022-06-04T11:59:57.962Z"
   },
   {
    "duration": 4,
    "start_time": "2022-06-04T11:59:58.247Z"
   },
   {
    "duration": 246,
    "start_time": "2022-06-04T11:59:58.252Z"
   },
   {
    "duration": 5,
    "start_time": "2022-06-04T11:59:58.500Z"
   },
   {
    "duration": 528,
    "start_time": "2022-06-04T11:59:58.525Z"
   },
   {
    "duration": 4,
    "start_time": "2022-06-04T11:59:59.056Z"
   },
   {
    "duration": 6,
    "start_time": "2022-06-04T11:59:59.062Z"
   },
   {
    "duration": 384,
    "start_time": "2022-06-04T11:59:59.070Z"
   },
   {
    "duration": 5,
    "start_time": "2022-06-04T11:59:59.456Z"
   },
   {
    "duration": 100,
    "start_time": "2022-06-04T11:59:59.463Z"
   },
   {
    "duration": 6,
    "start_time": "2022-06-04T11:59:59.564Z"
   },
   {
    "duration": 167,
    "start_time": "2022-06-04T11:59:59.571Z"
   },
   {
    "duration": 15,
    "start_time": "2022-06-04T11:59:59.740Z"
   },
   {
    "duration": 15,
    "start_time": "2022-06-04T11:59:59.757Z"
   },
   {
    "duration": 10,
    "start_time": "2022-06-04T11:59:59.773Z"
   },
   {
    "duration": 273,
    "start_time": "2022-06-04T11:59:59.785Z"
   },
   {
    "duration": 4,
    "start_time": "2022-06-04T12:00:00.060Z"
   },
   {
    "duration": 191,
    "start_time": "2022-06-04T12:00:00.065Z"
   },
   {
    "duration": 4,
    "start_time": "2022-06-04T12:00:00.258Z"
   },
   {
    "duration": 324,
    "start_time": "2022-06-04T12:00:00.264Z"
   },
   {
    "duration": 5,
    "start_time": "2022-06-04T12:00:00.590Z"
   },
   {
    "duration": 321,
    "start_time": "2022-06-04T12:00:00.596Z"
   },
   {
    "duration": 16,
    "start_time": "2022-06-04T12:00:00.922Z"
   },
   {
    "duration": 293,
    "start_time": "2022-06-04T12:00:00.940Z"
   },
   {
    "duration": 18,
    "start_time": "2022-06-04T12:00:01.235Z"
   },
   {
    "duration": 51,
    "start_time": "2022-06-04T12:00:01.254Z"
   },
   {
    "duration": 298,
    "start_time": "2022-06-04T12:00:01.307Z"
   },
   {
    "duration": 19,
    "start_time": "2022-06-04T12:00:01.624Z"
   },
   {
    "duration": 21,
    "start_time": "2022-06-04T12:00:01.645Z"
   },
   {
    "duration": 51,
    "start_time": "2022-06-04T12:00:01.668Z"
   },
   {
    "duration": 13,
    "start_time": "2022-06-04T12:00:01.721Z"
   },
   {
    "duration": 59329,
    "start_time": "2022-06-04T12:00:01.735Z"
   },
   {
    "duration": 16667,
    "start_time": "2022-06-04T12:01:01.065Z"
   },
   {
    "duration": 36,
    "start_time": "2022-06-04T12:01:17.739Z"
   },
   {
    "duration": 13,
    "start_time": "2022-06-04T12:01:17.777Z"
   },
   {
    "duration": 7,
    "start_time": "2022-06-04T12:01:17.791Z"
   },
   {
    "duration": 63,
    "start_time": "2022-06-04T12:01:17.799Z"
   },
   {
    "duration": 1051,
    "start_time": "2022-06-04T12:01:17.864Z"
   },
   {
    "duration": 5954,
    "start_time": "2022-06-04T12:01:18.917Z"
   },
   {
    "duration": 3,
    "start_time": "2022-06-04T12:01:24.872Z"
   },
   {
    "duration": 972,
    "start_time": "2022-06-04T12:01:24.877Z"
   },
   {
    "duration": 487,
    "start_time": "2022-06-04T12:01:25.850Z"
   },
   {
    "duration": 343,
    "start_time": "2022-06-04T12:01:26.339Z"
   },
   {
    "duration": 8,
    "start_time": "2022-06-04T12:01:26.689Z"
   },
   {
    "duration": 55,
    "start_time": "2022-06-04T12:01:26.699Z"
   },
   {
    "duration": 55,
    "start_time": "2022-06-04T12:02:39.933Z"
   },
   {
    "duration": 37,
    "start_time": "2022-06-04T12:11:31.559Z"
   }
  ],
  "colab": {
   "name": "Yandex Games.ipynb",
   "provenance": []
  },
  "hide_input": false,
  "kernelspec": {
   "display_name": "Python 3 (ipykernel)",
   "language": "python",
   "name": "python3"
  },
  "language_info": {
   "codemirror_mode": {
    "name": "ipython",
    "version": 3
   },
   "file_extension": ".py",
   "mimetype": "text/x-python",
   "name": "python",
   "nbconvert_exporter": "python",
   "pygments_lexer": "ipython3",
   "version": "3.9.13"
  },
  "notify_time": "30",
  "toc": {
   "base_numbering": 1,
   "nav_menu": {},
   "number_sections": false,
   "sideBar": true,
   "skip_h1_title": false,
   "title_cell": "Table of Contents",
   "title_sidebar": "Table of contents",
   "toc_cell": false,
   "toc_position": {},
   "toc_section_display": true,
   "toc_window_display": false
  },
  "varInspector": {
   "cols": {
    "lenName": "40",
    "lenType": 16,
    "lenVar": "16"
   },
   "kernels_config": {
    "python": {
     "delete_cmd_postfix": "",
     "delete_cmd_prefix": "del ",
     "library": "var_list.py",
     "varRefreshCmd": "print(var_dic_list())"
    },
    "r": {
     "delete_cmd_postfix": ") ",
     "delete_cmd_prefix": "rm(",
     "library": "var_list.r",
     "varRefreshCmd": "cat(var_dic_list()) "
    }
   },
   "types_to_exclude": [
    "module",
    "function",
    "builtin_function_or_method",
    "instance",
    "_Feature"
   ],
   "window_display": false
  }
 },
 "nbformat": 4,
 "nbformat_minor": 1
}
