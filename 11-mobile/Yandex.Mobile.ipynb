{
 "cells": [
  {
   "cell_type": "markdown",
   "id": "b4384d94",
   "metadata": {},
   "source": [
    "# Сегментация пользователей приложения \"Ненужные вещи\""
   ]
  },
  {
   "cell_type": "markdown",
   "id": "88a0ab4c",
   "metadata": {},
   "source": [
    "Целью данного исследования является выделить группы пользователей приложения \"Ненужные вещи\" на основе их поведения и посмотреть, как группы отличаются по:\n",
    "\n",
    "* Удержанию\n",
    "\n",
    "\n",
    "* Конверсии в целевое действие (просмотр контактов)\n",
    "\n",
    "\n",
    "* Времени, проводимом в приложении\n",
    "\n",
    "[Презентация по исследованию](https://github.com/rusmux/yandex-projects/blob/main/11-mobile/Yandex.Final.pdf)\n",
    "\n",
    "**Структура данных:**\n",
    "\n",
    "Данные об источниках установки приложения находятся в файле `mobile_sources.csv`:\n",
    "\n",
    "* `UserId` – идентификатор пользователя\n",
    "\n",
    "\n",
    "* `source` – источник, с которого пользователь установил приложение\n",
    "\n",
    "Информация о действиях клиентов в приложении содержится в файле `mobile_dataset.csv`:\n",
    "\n",
    "* `event.time` – время совершения события\n",
    "\n",
    "\n",
    "* `event.name` – название события\n",
    "\n",
    "\n",
    "* `user.id` – идентификатор пользователя\n",
    "\n",
    "**Обозначения событий:**\n",
    "\n",
    "* `advert_open` — открытие карточки объявления\n",
    "\n",
    "\n",
    "* `photos_show` — просмотр фотографий в объявлении\n",
    "\n",
    "\n",
    "* `tips_show` — пользователь увидел рекомендованные объявления\n",
    "\n",
    "\n",
    "* `tips_click` — пользователь перешел по рекомендованному объявлению\n",
    "\n",
    "\n",
    "* `contacts_show` и `show_contacts` — пользователь нажал на кнопку \"посмотреть номер телефона\" на карточке объявления\n",
    "\n",
    "\n",
    "* `contacts_call` — пользователь позвонил по номеру на карточке объявления\n",
    "\n",
    "\n",
    "* `map` — пользователь открыл карту размещенных объявлений\n",
    "\n",
    "\n",
    "* `search_[1-7]` — разные действия, связанные с поиском по сайту\n",
    "\n",
    "\n",
    "* `favorites_add` — добавление объявления в избранное\n",
    "\n",
    "\n",
    "**План:**\n",
    "\n",
    "<div class=\"toc\">\n",
    "    <ul class=\"toc-item\">\n",
    "        <li><span><a href=\"#Setup\" data-toc-modified-id=\"Setup-2\">Setup</a></span></li>\n",
    "        <li>\n",
    "            <span><a href=\"#Предобработка-данных\" data-toc-modified-id=\"Предобработка-данных-3\">Предобработка данных</a></span>\n",
    "            <ul class=\"toc-item\">\n",
    "                <li><span><a href=\"#Проверка-на-пропуски\" data-toc-modified-id=\"Проверка-на-пропуски-3.1\">Проверка на пропуски</a></span></li>\n",
    "                <li><span><a href=\"#Преобразование-типов-данных\" data-toc-modified-id=\"Преобразование-типов-данных-3.2\">Преобразование типов данных</a></span></li>\n",
    "                <li><span><a href=\"#Проверка-на-дубликаты\" data-toc-modified-id=\"Проверка-на-дубликаты-3.3\">Проверка на дубликаты</a></span></li>\n",
    "                <li><span><a href=\"#Объединение-таблиц\" data-toc-modified-id=\"Объединение-таблиц-3.4\">Объединение таблиц</a></span></li>\n",
    "                <li><span><a href=\"#Выводы-по-предобработке-данных\" data-toc-modified-id=\"Выводы-по-предобработке-данных-3.5\">Выводы по предобработке данных</a></span></li>\n",
    "            </ul>\n",
    "        </li>\n",
    "        <li>\n",
    "            <span><a href=\"#Исследовательский-анализ-данных\" data-toc-modified-id=\"Исследовательский-анализ-данных-4\">Исследовательский анализ данных</a></span>\n",
    "            <ul class=\"toc-item\">\n",
    "                <li><span><a href=\"#Распределение-пользователей-по-источникам\" data-toc-modified-id=\"Распределение-пользователей-по-источникам-4.1\">Распределение пользователей по источникам</a></span></li>\n",
    "                <li>\n",
    "                    <span><a href=\"#События\" data-toc-modified-id=\"События-4.2\">События</a></span>\n",
    "                    <ul class=\"toc-item\">\n",
    "                        <li><span><a href=\"#Общие-распределения\" data-toc-modified-id=\"Общие-распределения-4.2.1\">Общие распределения</a></span></li>\n",
    "                        <li><span><a href=\"#Распределение-по-времени\" data-toc-modified-id=\"Распределение-по-времени-4.2.2\">Распределение по времени</a></span></li>\n",
    "                    </ul>\n",
    "                </li>\n",
    "                <li>\n",
    "                    <span><a href=\"#Удержание-пользователей\" data-toc-modified-id=\"Удержание-пользователей-4.3\">Удержание пользователей</a></span>\n",
    "                    <ul class=\"toc-item\">\n",
    "                        <li><span><a href=\"#Создание-лайфтаймов\" data-toc-modified-id=\"Создание-лайфтаймов-4.3.1\">Создание лайфтаймов</a></span></li>\n",
    "                        <li><span><a href=\"#Общее-удержание\" data-toc-modified-id=\"Общее-удержание-4.3.2\">Общее удержание</a></span></li>\n",
    "                        <li><span><a href=\"#Удержание-по-источнику\" data-toc-modified-id=\"Удержание-по-источнику-4.3.3\">Удержание по источнику</a></span></li>\n",
    "                        <li><span><a href=\"#Удержание-по-когортам\" data-toc-modified-id=\"Удержание-по-когортам-4.3.4\">Удержание по когортам</a></span></li>\n",
    "                    </ul>\n",
    "                </li>\n",
    "                <li>\n",
    "                    <span><a href=\"#Сессии\" data-toc-modified-id=\"Сессии-4.4\">Сессии</a></span>\n",
    "                    <ul class=\"toc-item\">\n",
    "                        <li><span><a href=\"#Создание-сессий\" data-toc-modified-id=\"Создание-сессий-4.4.1\">Создание сессий</a></span></li>\n",
    "                        <li><span><a href=\"#Количество-событий-за-сессию\" data-toc-modified-id=\"Количество-событий-за-сессию-4.4.2\">Количество событий за сессию</a></span></li>\n",
    "                        <li><span><a href=\"#Количество-сессий-на-пользователя\" data-toc-modified-id=\"Количество-сессий-на-пользователя-4.4.3\">Количество сессий на пользователя</a></span></li>\n",
    "                        <li><span><a href=\"#Продолжительность-сессий\" data-toc-modified-id=\"Продолжительность-сессий-4.4.4\">Продолжительность сессий</a></span></li>\n",
    "                    </ul>\n",
    "                </li>\n",
    "                <li>\n",
    "                    <span><a href=\"#Профили-пользователей\" data-toc-modified-id=\"Профили-пользователей-4.5\">Профили пользователей</a></span>\n",
    "                    <ul class=\"toc-item\">\n",
    "                        <li><span><a href=\"#Создание-профилей-пользователей\" data-toc-modified-id=\"Создание-профилей-пользователей-4.5.1\">Создание профилей пользователей</a></span></li>\n",
    "                        <li><span><a href=\"#Конверсия-в-просмотр-контактов\" data-toc-modified-id=\"Конверсия-в-просмотр-контактов-4.5.2\">Конверсия в просмотр контактов</a></span></li>\n",
    "                        <li><span><a href=\"#Частоты-событий\" data-toc-modified-id=\"Частоты-событий-4.5.3\">Частоты событий</a></span></li>\n",
    "                    </ul>\n",
    "                </li>\n",
    "                <li><span><a href=\"#Выводы-по-анализу-данных\" data-toc-modified-id=\"Выводы-по-анализу-данных-4.6\">Выводы по анализу данных</a></span></li>\n",
    "            </ul>\n",
    "        </li>\n",
    "        <li>\n",
    "            <span><a href=\"#Сегментация-пользователей\" data-toc-modified-id=\"Сегментация-пользователей-5\">Сегментация пользователей</a></span>\n",
    "            <ul class=\"toc-item\">\n",
    "                <li><span><a href=\"#Предобработка-профилей-пользователей\" data-toc-modified-id=\"Предобработка-профилей-пользователей-5.1\">Предобработка профилей пользователей</a></span></li>\n",
    "                <li><span><a href=\"#Сегментация\" data-toc-modified-id=\"Сегментация-5.2\">Сегментация</a></span></li>\n",
    "                <li>\n",
    "                    <span><a href=\"#Визуализация-кластеров\" data-toc-modified-id=\"Визуализация-кластеров-5.3\">Визуализация кластеров</a></span>\n",
    "                    <ul class=\"toc-item\">\n",
    "                        <li><span><a href=\"#PCA\" data-toc-modified-id=\"PCA-5.3.1\">PCA</a></span></li>\n",
    "                        <li><span><a href=\"#UMAP\" data-toc-modified-id=\"UMAP-5.3.2\">UMAP</a></span></li>\n",
    "                    </ul>\n",
    "                </li>\n",
    "                <li>\n",
    "                    <span><a href=\"#Статистики-кластеров\" data-toc-modified-id=\"Статистики-кластеров-5.4\">Статистики кластеров</a></span>\n",
    "                    <ul class=\"toc-item\">\n",
    "                        <li><span><a href=\"#Удержание-пользователей\" data-toc-modified-id=\"Удержание-пользователей-5.4.1\">Удержание пользователей</a></span></li>\n",
    "                        <li><span><a href=\"#Конверсия-в-просмотр-контактов\" data-toc-modified-id=\"Конверсия-в-просмотр-контактов-5.4.2\">Конверсия в просмотр контактов</a></span></li>\n",
    "                        <li><span><a href=\"#Продолжительность-сессий\" data-toc-modified-id=\"Продолжительность-сессий-5.4.3\">Продолжительность сессий</a></span></li>\n",
    "                    </ul>\n",
    "                </li>\n",
    "                <li><span><a href=\"#Выводы-по-сегментации\" data-toc-modified-id=\"Выводы-по-сегментации-5.5\">Выводы по сегментации</a></span></li>\n",
    "            </ul>\n",
    "        </li>\n",
    "        <li>\n",
    "            <span><a href=\"#Проверка-гипотез\" data-toc-modified-id=\"Проверка-гипотез-6\">Проверка гипотез</a></span>\n",
    "            <ul class=\"toc-item\">\n",
    "                <li><span><a href=\"#Конверсия-в-просмотр-контактов-по-источнику\" data-toc-modified-id=\"Конверсия-в-просмотр-контактов-по-источнику-6.1\">Конверсия в просмотр контактов по источнику</a></span></li>\n",
    "                <li><span><a href=\"#Конверсия-в-просмотр-контактов-по-кластеру\" data-toc-modified-id=\"Конверсия-в-просмотр-контактов-по-кластеру-6.2\">Конверсия в просмотр контактов по кластеру</a></span></li>\n",
    "                <li><span><a href=\"#Выводы-по-проверке-гипотез\" data-toc-modified-id=\"Выводы-по-проверке-гипотез-6.3\">Выводы по проверке гипотез</a></span></li>\n",
    "            </ul>\n",
    "        </li>\n",
    "        <li><span><a href=\"#Итог\" data-toc-modified-id=\"Итог-7\">Итог</a></span></li>\n",
    "    </ul>\n",
    "</div>"
   ]
  },
  {
   "cell_type": "markdown",
   "id": "96ee8d40",
   "metadata": {},
   "source": [
    "# Setup"
   ]
  },
  {
   "cell_type": "code",
   "execution_count": null,
   "id": "c9324b25",
   "metadata": {
    "ExecuteTime": {
     "end_time": "2022-10-17T23:43:13.539169Z",
     "start_time": "2022-10-17T23:43:13.079969Z"
    }
   },
   "outputs": [],
   "source": [
    "%%bash\n",
    "if ! test -f \"custom_plotly_templates.py\"; then\n",
    "    wget https://gist.githubusercontent.com/rusmux/a74e5060a470f45e0f2d52b2484a1ecf/raw/8e1b62dacd5aadcd41cca9658c5a7716d4bdc0d5/custom_plotly_templates.py &> /dev/null\n",
    "    echo \"Successfully downloaded custom plotly templates.\"\n",
    "fi"
   ]
  },
  {
   "cell_type": "code",
   "execution_count": null,
   "id": "d5ae112e",
   "metadata": {
    "ExecuteTime": {
     "end_time": "2022-10-17T23:43:16.541191Z",
     "start_time": "2022-10-17T23:43:13.542568Z"
    }
   },
   "outputs": [],
   "source": [
    "import os\n",
    "import random\n",
    "from itertools import combinations\n",
    "from string import ascii_uppercase\n",
    "\n",
    "import ipywidgets as widgets\n",
    "from ipywidgets import interact\n",
    "\n",
    "import numpy as np\n",
    "import pandas as pd\n",
    "\n",
    "import plotly.express as px\n",
    "import plotly.graph_objects as go\n",
    "import plotly.io as pio\n",
    "\n",
    "from matplotlib_inline.backend_inline import set_matplotlib_formats\n",
    "from tqdm.notebook import tqdm\n",
    "\n",
    "from scipy import stats\n",
    "from scipy.cluster.hierarchy import dendrogram, linkage\n",
    "\n",
    "from sklearn.cluster import KMeans\n",
    "from sklearn.decomposition import PCA\n",
    "from sklearn.metrics import silhouette_score\n",
    "from sklearn.preprocessing import StandardScaler\n",
    "\n",
    "from umap import UMAP\n",
    "\n",
    "import custom_plotly_templates\n",
    "from custom_plotly_templates import custom_show_config"
   ]
  },
  {
   "cell_type": "code",
   "execution_count": null,
   "id": "eb011b87",
   "metadata": {
    "ExecuteTime": {
     "end_time": "2022-10-17T23:43:16.787141Z",
     "start_time": "2022-10-17T23:43:16.541996Z"
    }
   },
   "outputs": [],
   "source": [
    "pd.set_option(\"display.float_format\", \"{:.2f}\".format)\n",
    "set_matplotlib_formats(\"svg\")\n",
    "pio.templates.default = \"plotly_white+custom_white\"\n",
    "pio.renderers[\"notebook\"].config.update(custom_show_config)"
   ]
  },
  {
   "cell_type": "code",
   "execution_count": null,
   "id": "dbada8c9",
   "metadata": {
    "ExecuteTime": {
     "end_time": "2022-10-17T23:43:16.790673Z",
     "start_time": "2022-10-17T23:43:16.788825Z"
    }
   },
   "outputs": [],
   "source": [
    "RANDOM_SEED = 42\n",
    "random.seed(RANDOM_SEED)\n",
    "np.random.seed(RANDOM_SEED)\n",
    "os.environ[\"PYTHONHASHSEED\"] = str(RANDOM_SEED)"
   ]
  },
  {
   "cell_type": "markdown",
   "id": "4bca7228",
   "metadata": {},
   "source": [
    "# Предобработка данных"
   ]
  },
  {
   "cell_type": "code",
   "execution_count": null,
   "id": "8d145bf5",
   "metadata": {
    "ExecuteTime": {
     "end_time": "2022-10-17T23:43:17.748496Z",
     "start_time": "2022-10-17T23:43:16.791615Z"
    }
   },
   "outputs": [],
   "source": [
    "sources = pd.read_csv(\"https://code.s3.yandex.net/datasets/mobile_soures.csv\")\n",
    "\n",
    "events = pd.read_csv(\"https://code.s3.yandex.net/datasets/mobile_dataset.csv\",\n",
    "                     parse_dates=[\"event.time\"], infer_datetime_format=True)"
   ]
  },
  {
   "cell_type": "code",
   "execution_count": null,
   "id": "98738ef1",
   "metadata": {
    "ExecuteTime": {
     "end_time": "2022-10-17T23:43:17.765924Z",
     "start_time": "2022-10-17T23:43:17.749368Z"
    }
   },
   "outputs": [],
   "source": [
    "interact(lambda df: globals()[df], df=[\"sources\", \"events\"]);"
   ]
  },
  {
   "cell_type": "markdown",
   "id": "a727ead8",
   "metadata": {
    "ExecuteTime": {
     "end_time": "2022-09-27T13:44:02.416528Z",
     "start_time": "2022-09-27T13:44:02.408074Z"
    }
   },
   "source": [
    "Преобразуем названия столбцов к змеиному регистру."
   ]
  },
  {
   "cell_type": "code",
   "execution_count": null,
   "id": "738218b0",
   "metadata": {
    "ExecuteTime": {
     "end_time": "2022-10-17T23:43:17.768719Z",
     "start_time": "2022-10-17T23:43:17.766999Z"
    }
   },
   "outputs": [],
   "source": [
    "sources.columns = [\"user_id\", \"source\"]\n",
    "events.columns = [\"event_time\", \"event_name\", \"user_id\"]"
   ]
  },
  {
   "cell_type": "markdown",
   "id": "ad57eff9",
   "metadata": {},
   "source": [
    "## Проверка на пропуски"
   ]
  },
  {
   "cell_type": "code",
   "execution_count": null,
   "id": "0f441fe3",
   "metadata": {
    "ExecuteTime": {
     "end_time": "2022-10-17T23:43:17.784760Z",
     "start_time": "2022-10-17T23:43:17.769776Z"
    }
   },
   "outputs": [],
   "source": [
    "interact(lambda df: globals()[df].info(memory_usage=\"deep\"), df=[\"sources\", \"events\"]);"
   ]
  },
  {
   "cell_type": "code",
   "execution_count": null,
   "id": "5adc191f",
   "metadata": {
    "ExecuteTime": {
     "end_time": "2022-10-17T23:43:17.799670Z",
     "start_time": "2022-10-17T23:43:17.785648Z"
    }
   },
   "outputs": [],
   "source": [
    "interact(lambda df: globals()[df].describe(include=\"all\", datetime_is_numeric=True), df=[\"sources\", \"events\"]);"
   ]
  },
  {
   "cell_type": "markdown",
   "id": "40dd99a4",
   "metadata": {},
   "source": [
    "Данные с 7 октября по 3 ноября 2019 года. Явных пропусков в обеих таблицах нет. Посмотрим на неявные, но сначала проверим, все ли значения столбцов в нижнем регистре. Например, идентификатор пользователя может использовать заглавные буквы."
   ]
  },
  {
   "cell_type": "code",
   "execution_count": null,
   "id": "aaf2b510",
   "metadata": {
    "ExecuteTime": {
     "end_time": "2022-10-17T23:43:17.804239Z",
     "start_time": "2022-10-17T23:43:17.802706Z"
    }
   },
   "outputs": [],
   "source": [
    "def check_column_uppercase(column):\n",
    "    return column.str.contains(ascii_uppercase).sum()"
   ]
  },
  {
   "cell_type": "code",
   "execution_count": null,
   "id": "a238408e",
   "metadata": {
    "ExecuteTime": {
     "end_time": "2022-10-17T23:43:17.809774Z",
     "start_time": "2022-10-17T23:43:17.805072Z"
    }
   },
   "outputs": [],
   "source": [
    "sources.apply(check_column_uppercase)"
   ]
  },
  {
   "cell_type": "code",
   "execution_count": null,
   "id": "54018f6d",
   "metadata": {
    "ExecuteTime": {
     "end_time": "2022-10-17T23:43:17.839306Z",
     "start_time": "2022-10-17T23:43:17.810713Z"
    }
   },
   "outputs": [],
   "source": [
    "events[[\"event_name\", \"user_id\"]].apply(check_column_uppercase)"
   ]
  },
  {
   "cell_type": "markdown",
   "id": "d764dcaf",
   "metadata": {
    "ExecuteTime": {
     "end_time": "2022-09-27T13:56:36.398428Z",
     "start_time": "2022-09-27T13:56:36.394101Z"
    }
   },
   "source": [
    "Все значения в нижнем регистре. Теперь уберем лишние пробелы, если они есть."
   ]
  },
  {
   "cell_type": "code",
   "execution_count": null,
   "id": "68278e58",
   "metadata": {
    "ExecuteTime": {
     "end_time": "2022-10-17T23:43:17.841875Z",
     "start_time": "2022-10-17T23:43:17.840188Z"
    }
   },
   "outputs": [],
   "source": [
    "def strip_column(column):\n",
    "    return column.str.strip()"
   ]
  },
  {
   "cell_type": "code",
   "execution_count": null,
   "id": "acd047f2",
   "metadata": {
    "ExecuteTime": {
     "end_time": "2022-10-17T23:43:17.862886Z",
     "start_time": "2022-10-17T23:43:17.842654Z"
    }
   },
   "outputs": [],
   "source": [
    "sources = sources.apply(strip_column)\n",
    "events[[\"event_name\", \"user_id\"]] = events[[\"event_name\", \"user_id\"]].apply(strip_column)"
   ]
  },
  {
   "cell_type": "markdown",
   "id": "05355461",
   "metadata": {},
   "source": [
    "Теперь посмотрим на неявные пропуски."
   ]
  },
  {
   "cell_type": "code",
   "execution_count": null,
   "id": "ce85001a",
   "metadata": {
    "ExecuteTime": {
     "end_time": "2022-10-17T23:43:17.875529Z",
     "start_time": "2022-10-17T23:43:17.863717Z"
    }
   },
   "outputs": [],
   "source": [
    "interact(lambda df: globals()[df].isin([\"none\", \"nan\", \"\", \"-\"]).sum(), df=[\"sources\", \"events\"]);"
   ]
  },
  {
   "cell_type": "markdown",
   "id": "88b398d2",
   "metadata": {},
   "source": [
    "Неявных пропусков тоже нет."
   ]
  },
  {
   "cell_type": "markdown",
   "id": "691a0b12",
   "metadata": {},
   "source": [
    "## Преобразование типов данных"
   ]
  },
  {
   "cell_type": "markdown",
   "id": "a5ded3f2",
   "metadata": {},
   "source": [
    "Посмотрим на количество уникальных значений в каждом столбце."
   ]
  },
  {
   "cell_type": "code",
   "execution_count": null,
   "id": "c46a4445",
   "metadata": {
    "ExecuteTime": {
     "end_time": "2022-10-17T23:43:17.888135Z",
     "start_time": "2022-10-17T23:43:17.876496Z"
    }
   },
   "outputs": [],
   "source": [
    "interact(lambda df: globals()[df].nunique(), df=[\"sources\", \"events\"]);"
   ]
  },
  {
   "cell_type": "markdown",
   "id": "376f7ad1",
   "metadata": {},
   "source": [
    "В таблице с источниками установки приложения всего 3 таких источника. Уникальных событий 16, а количество уникальных пользователей составляет примерно 5% от всех событий. Имеет смысл преобразовать эти столбцы в категориальный тип данных."
   ]
  },
  {
   "cell_type": "code",
   "execution_count": null,
   "id": "02258ed5",
   "metadata": {
    "ExecuteTime": {
     "end_time": "2022-10-17T23:43:17.906575Z",
     "start_time": "2022-10-17T23:43:17.889120Z"
    }
   },
   "outputs": [],
   "source": [
    "sources[\"source\"] = sources[\"source\"].astype(\"category\")\n",
    "events[[\"user_id\", \"event_name\"]] = events[[\"user_id\", \"event_name\"]].astype(\"category\")"
   ]
  },
  {
   "cell_type": "code",
   "execution_count": null,
   "id": "13572104",
   "metadata": {
    "ExecuteTime": {
     "end_time": "2022-10-17T23:43:17.920601Z",
     "start_time": "2022-10-17T23:43:17.907485Z"
    }
   },
   "outputs": [],
   "source": [
    "interact(lambda df: globals()[df].info(memory_usage=\"deep\"), df=[\"sources\", \"events\"]);"
   ]
  },
  {
   "cell_type": "markdown",
   "id": "392f5e35",
   "metadata": {},
   "source": [
    "Для таблицы с событиями потребление памяти снизилось почти в 10 раз, с 11.8 МБ до 1.3 МБ."
   ]
  },
  {
   "cell_type": "markdown",
   "id": "7f8af23c",
   "metadata": {
    "ExecuteTime": {
     "end_time": "2022-09-27T17:20:43.508069Z",
     "start_time": "2022-09-27T17:20:43.502717Z"
    }
   },
   "source": [
    "Теперь разобьем столбец с датой и временем на составляющие. Так как данные за один год, то год указывать не будем."
   ]
  },
  {
   "cell_type": "code",
   "execution_count": null,
   "id": "a7d67427",
   "metadata": {
    "ExecuteTime": {
     "end_time": "2022-10-17T23:43:17.929134Z",
     "start_time": "2022-10-17T23:43:17.921449Z"
    },
    "scrolled": false
   },
   "outputs": [],
   "source": [
    "events[\"event_month\"] = events[\"event_time\"].dt.month\n",
    "events[\"event_date\"] = events[\"event_time\"].dt.floor(\"d\")\n",
    "events[\"event_hour\"] = events[\"event_time\"].dt.floor(\"h\")\n",
    "events[\"event_minute\"] = events[\"event_time\"].dt.floor(\"min\")\n",
    "events[\"event_second\"] = events[\"event_time\"].dt.floor(\"s\")"
   ]
  },
  {
   "cell_type": "code",
   "execution_count": null,
   "id": "c4bb20a6",
   "metadata": {
    "ExecuteTime": {
     "end_time": "2022-10-17T23:43:17.934376Z",
     "start_time": "2022-10-17T23:43:17.930065Z"
    }
   },
   "outputs": [],
   "source": [
    "events.head(3)"
   ]
  },
  {
   "cell_type": "markdown",
   "id": "e16ae27d",
   "metadata": {},
   "source": [
    "## Проверка на дубликаты"
   ]
  },
  {
   "cell_type": "markdown",
   "id": "da6fbc87",
   "metadata": {},
   "source": [
    "Проверим данные на дубликаты. Сначала проверим на неявные."
   ]
  },
  {
   "cell_type": "code",
   "execution_count": null,
   "id": "6c97bea8",
   "metadata": {
    "ExecuteTime": {
     "end_time": "2022-10-17T23:43:17.938369Z",
     "start_time": "2022-10-17T23:43:17.935464Z"
    }
   },
   "outputs": [],
   "source": [
    "sources[\"source\"].unique().tolist()"
   ]
  },
  {
   "cell_type": "markdown",
   "id": "158499d3",
   "metadata": {
    "ExecuteTime": {
     "end_time": "2022-09-28T13:32:56.134294Z",
     "start_time": "2022-09-28T13:32:56.127957Z"
    }
   },
   "source": [
    "Среди источников неявных дубликатов нет."
   ]
  },
  {
   "cell_type": "code",
   "execution_count": null,
   "id": "51ed19f4",
   "metadata": {
    "ExecuteTime": {
     "end_time": "2022-10-17T23:43:17.941775Z",
     "start_time": "2022-10-17T23:43:17.939258Z"
    }
   },
   "outputs": [],
   "source": [
    "events[\"event_name\"].unique().tolist()"
   ]
  },
  {
   "cell_type": "markdown",
   "id": "9991a7ca",
   "metadata": {},
   "source": [
    "Названия `contacts_show` и `show_contacts` обозначают одно и то же событие, так что оставим только одно обозначение `contacts_show`."
   ]
  },
  {
   "cell_type": "code",
   "execution_count": null,
   "id": "e32aa97c",
   "metadata": {
    "ExecuteTime": {
     "end_time": "2022-10-17T23:43:17.945430Z",
     "start_time": "2022-10-17T23:43:17.942677Z"
    }
   },
   "outputs": [],
   "source": [
    "events[\"event_name\"] = events[\"event_name\"].replace(\"show_contacts\", \"contacts_show\")"
   ]
  },
  {
   "cell_type": "markdown",
   "id": "dbe03fd4",
   "metadata": {
    "ExecuteTime": {
     "end_time": "2022-09-27T14:26:11.628852Z",
     "start_time": "2022-09-27T14:26:11.624550Z"
    }
   },
   "source": [
    "Теперь проверим данные на явные дубликаты."
   ]
  },
  {
   "cell_type": "code",
   "execution_count": null,
   "id": "2706aac1",
   "metadata": {
    "ExecuteTime": {
     "end_time": "2022-10-17T23:43:17.949282Z",
     "start_time": "2022-10-17T23:43:17.946291Z"
    }
   },
   "outputs": [],
   "source": [
    "sources.duplicated(\"user_id\").sum()"
   ]
  },
  {
   "cell_type": "markdown",
   "id": "28c35a36",
   "metadata": {},
   "source": [
    "В таблице `sources` все пользователи уникальны. Это так же значит, что одному пользователю соответствует только один источник. Посмотрим на события."
   ]
  },
  {
   "cell_type": "code",
   "execution_count": null,
   "id": "a77306e9",
   "metadata": {
    "ExecuteTime": {
     "end_time": "2022-10-17T23:43:17.956448Z",
     "start_time": "2022-10-17T23:43:17.950195Z"
    }
   },
   "outputs": [],
   "source": [
    "events.duplicated([\"user_id\", \"event_name\", \"event_second\"]).sum()"
   ]
  },
  {
   "cell_type": "code",
   "execution_count": null,
   "id": "b0b3eadf",
   "metadata": {
    "ExecuteTime": {
     "end_time": "2022-10-17T23:43:17.967299Z",
     "start_time": "2022-10-17T23:43:17.957341Z"
    }
   },
   "outputs": [],
   "source": [
    "duplicates = events[events.duplicated([\"user_id\", \"event_name\", \"event_second\"], keep=False)]\n",
    "duplicates.sort_values(by=[\"user_id\", \"event_second\", \"event_name\"]).head()"
   ]
  },
  {
   "cell_type": "markdown",
   "id": "2d8c58f6",
   "metadata": {},
   "source": [
    "Некоторые действия почему-то повторяются дважды, а между ними может быть меньше миллисекунды разницы. Физически невозможно пролистать фотографии за доли секунды.\n",
    "\n",
    "Это может быть ошибкой в логировании или, например, запозданием в отправке. Например, сообщение о первом событии задержалось, и отправилось позже, почти одновременно со вторым. Однако, обычно время события считается не по прибытию на сервер, а отправляется непосредственно вместе с самим событием – этот момент требует уточнения у технического отдела.\n",
    "\n",
    "Будем считать, что это ошибка логирования и не будем учитывать повторяющиеся события, так как разница в доли секунды не несет смысловой нагрузки. Потеря данных составит 1143 / 74197 = ~1.5%."
   ]
  },
  {
   "cell_type": "code",
   "execution_count": null,
   "id": "f5ed9913",
   "metadata": {
    "ExecuteTime": {
     "end_time": "2022-10-17T23:43:17.975183Z",
     "start_time": "2022-10-17T23:43:17.968204Z"
    }
   },
   "outputs": [],
   "source": [
    "events.drop_duplicates([\"user_id\", \"event_name\", \"event_second\"], inplace=True)"
   ]
  },
  {
   "cell_type": "markdown",
   "id": "b0da6b4c",
   "metadata": {},
   "source": [
    "## Объединение таблиц"
   ]
  },
  {
   "cell_type": "markdown",
   "id": "caba7ab7",
   "metadata": {},
   "source": [
    "Чтобы посмотреть на события в разрезе по источникам установки приложения, объединим таблицы `sources` и `events`."
   ]
  },
  {
   "cell_type": "code",
   "execution_count": null,
   "id": "1113d01a",
   "metadata": {
    "ExecuteTime": {
     "end_time": "2022-10-17T23:43:17.998069Z",
     "start_time": "2022-10-17T23:43:17.979808Z"
    }
   },
   "outputs": [],
   "source": [
    "sources.set_index(\"user_id\", inplace=True)\n",
    "events = events.merge(sources, left_on=\"user_id\", right_index=True)"
   ]
  },
  {
   "cell_type": "markdown",
   "id": "a3a6a00f",
   "metadata": {
    "ExecuteTime": {
     "end_time": "2022-10-07T10:59:05.976641Z",
     "start_time": "2022-10-07T10:59:05.972100Z"
    }
   },
   "source": [
    "## Выводы по предобработке данных"
   ]
  },
  {
   "cell_type": "markdown",
   "id": "0fc1f02d",
   "metadata": {},
   "source": [
    "Данные с 7 октября по 3 ноября 2019 года. Явных и неявных пропусков нет. Столбцы были приведены к оптимальным типам данных, что уменьшило потребление памяти с 12 МБ до 2 МБ. Дата и время событий были разбиты на компоненты: месяц, день, час, минута, секунда. Неявные дубликаты `contacts_show` и `show_contacts` были преобразованы к одному значению `contacts_show`. Было удалено 1.5% дублирующих друг друга событий. Источник пользователя был добавлен в таблицу с событиями."
   ]
  },
  {
   "cell_type": "markdown",
   "id": "697e0c3d",
   "metadata": {},
   "source": [
    "# Исследовательский анализ данных"
   ]
  },
  {
   "cell_type": "code",
   "execution_count": null,
   "id": "2da80c98",
   "metadata": {
    "ExecuteTime": {
     "end_time": "2022-10-17T23:43:18.001198Z",
     "start_time": "2022-10-17T23:43:17.998971Z"
    }
   },
   "outputs": [],
   "source": [
    "def make_horizontal_legend(fig, title, reversed_traceorder=False):\n",
    "\n",
    "    fig.update_layout(\n",
    "        legend=dict(\n",
    "            title=title,\n",
    "            orientation=\"h\",\n",
    "            xanchor=\"right\",\n",
    "            x=1,\n",
    "            yanchor=\"bottom\",\n",
    "            y=1.02,\n",
    "        )\n",
    "    )\n",
    "\n",
    "    if reversed_traceorder:\n",
    "        fig.update_layout(legend_traceorder=\"reversed\")"
   ]
  },
  {
   "cell_type": "markdown",
   "id": "a3a0e6ec",
   "metadata": {},
   "source": [
    "Для удобства создадим список названий всех событий и список, где все события, связанные с поиском, объедены в одно."
   ]
  },
  {
   "cell_type": "code",
   "execution_count": null,
   "id": "9a530998",
   "metadata": {
    "ExecuteTime": {
     "end_time": "2022-10-17T23:43:18.042805Z",
     "start_time": "2022-10-17T23:43:18.002159Z"
    }
   },
   "outputs": [],
   "source": [
    "event_names = events[\"event_name\"].unique().tolist()\n",
    "event_names_search_merged = events[\"event_name\"].astype(object).replace(\"search_[1-7]\", \"search\", regex=True).unique().tolist()"
   ]
  },
  {
   "cell_type": "markdown",
   "id": "0c8853a7",
   "metadata": {},
   "source": [
    "## Распределение пользователей по источникам"
   ]
  },
  {
   "cell_type": "code",
   "execution_count": null,
   "id": "d4b6b1c3",
   "metadata": {
    "ExecuteTime": {
     "end_time": "2022-10-17T23:43:18.045946Z",
     "start_time": "2022-10-17T23:43:18.043675Z"
    }
   },
   "outputs": [],
   "source": [
    "def get_users_by_sources_distribution():\n",
    "    source_counts = sources[\"source\"].value_counts()\n",
    "\n",
    "    fig = px.pie(names=source_counts.index.str.capitalize(), values=source_counts.values, hole=0.4)\n",
    "\n",
    "    fig.update_layout(title=\"Распределение пользователей по источникам\", title_x=0.5, showlegend=False)\n",
    "\n",
    "    return fig"
   ]
  },
  {
   "cell_type": "code",
   "execution_count": null,
   "id": "4b62c125",
   "metadata": {
    "ExecuteTime": {
     "end_time": "2022-10-17T23:43:18.281962Z",
     "start_time": "2022-10-17T23:43:18.046847Z"
    }
   },
   "outputs": [],
   "source": [
    "get_users_by_sources_distribution()"
   ]
  },
  {
   "cell_type": "markdown",
   "id": "bb03dad6",
   "metadata": {},
   "source": [
    "Почти половина пользователей пришли с Яндекса, а остальные примерно равномерно с Google и с других источников."
   ]
  },
  {
   "cell_type": "markdown",
   "id": "f3ad7a80",
   "metadata": {},
   "source": [
    "## События"
   ]
  },
  {
   "cell_type": "markdown",
   "id": "a22dcc05",
   "metadata": {},
   "source": [
    "### Общие распределения"
   ]
  },
  {
   "cell_type": "code",
   "execution_count": null,
   "id": "20bf2aa4",
   "metadata": {
    "ExecuteTime": {
     "end_time": "2022-10-17T23:43:18.284997Z",
     "start_time": "2022-10-17T23:43:18.282882Z"
    }
   },
   "outputs": [],
   "source": [
    "def get_events_by_sources_distribution():\n",
    "    source_counts = events[\"source\"].value_counts()\n",
    "\n",
    "    fig = px.pie(names=source_counts.index.str.capitalize(), values=source_counts.values, hole=0.4)\n",
    "\n",
    "    fig.update_layout(title=\"Распределение событий по источникам\", title_x=0.5, showlegend=False)\n",
    "\n",
    "    return fig"
   ]
  },
  {
   "cell_type": "code",
   "execution_count": null,
   "id": "c9185832",
   "metadata": {
    "ExecuteTime": {
     "end_time": "2022-10-17T23:43:18.327820Z",
     "start_time": "2022-10-17T23:43:18.285789Z"
    }
   },
   "outputs": [],
   "source": [
    "get_events_by_sources_distribution()"
   ]
  },
  {
   "cell_type": "markdown",
   "id": "67711e81",
   "metadata": {},
   "source": [
    "Распределение событий, которые совершают клиенты с разных источников, примерно похоже на само распределение клиентов по источникам. Вероятно, пользователи разных источников совершают примерно одинаковое количество действий."
   ]
  },
  {
   "cell_type": "code",
   "execution_count": null,
   "id": "9c126b0b",
   "metadata": {
    "ExecuteTime": {
     "end_time": "2022-10-17T23:43:18.332376Z",
     "start_time": "2022-10-17T23:43:18.329027Z"
    }
   },
   "outputs": [],
   "source": [
    "def get_events_distribution(merge_searches=False):\n",
    "\n",
    "    event_names = events[\"event_name\"]\n",
    "\n",
    "    if merge_searches:\n",
    "        event_names = events[\"event_name\"].astype(object).replace(\"search_[1-7]\", \"search\", regex=True)\n",
    "\n",
    "    fig = px.histogram(y=event_names, color=events[\"source\"].str.capitalize(), orientation=\"h\", height=600)\n",
    "\n",
    "    fig.update_layout(title=\"Распределение событий\",\n",
    "                      xaxis_title=None, yaxis_title=None,\n",
    "                      yaxis_categoryorder=\"total ascending\",\n",
    "                      yaxis_linecolor=\"black\")\n",
    "\n",
    "    make_horizontal_legend(fig, title=\"Источник:\")\n",
    "\n",
    "    fig.update_traces(textposition=\"outside\")\n",
    "\n",
    "    return fig"
   ]
  },
  {
   "cell_type": "code",
   "execution_count": null,
   "id": "d024fa32",
   "metadata": {
    "ExecuteTime": {
     "end_time": "2022-10-17T23:43:18.689534Z",
     "start_time": "2022-10-17T23:43:18.333414Z"
    }
   },
   "outputs": [],
   "source": [
    "merge_searches_widget = widgets.Dropdown(\n",
    "    options=[True, False], description=\"Объединить события поиска\", style={\"description_width\": \"initial\"}\n",
    ")\n",
    "\n",
    "interact(get_events_distribution, merge_searches=merge_searches_widget);"
   ]
  },
  {
   "cell_type": "code",
   "execution_count": null,
   "id": "57509c53",
   "metadata": {
    "ExecuteTime": {
     "end_time": "2022-10-17T23:43:18.693111Z",
     "start_time": "2022-10-17T23:43:18.690445Z"
    }
   },
   "outputs": [],
   "source": [
    "tips_click_conversion = (events[\"event_name\"] == \"tips_click\").sum() / (events[\"event_name\"] == \"tips_show\").sum()\n",
    "print(f\"Отношение `tips_click` к `tips_show`: {tips_click_conversion:.2%}\")"
   ]
  },
  {
   "cell_type": "code",
   "execution_count": null,
   "id": "d0adaedc",
   "metadata": {
    "ExecuteTime": {
     "end_time": "2022-10-17T23:43:18.698777Z",
     "start_time": "2022-10-17T23:43:18.694020Z"
    }
   },
   "outputs": [],
   "source": [
    "contacts_show_count = (events[\"event_name\"] == \"contacts_show\").sum()\n",
    "total_advert_open_count = events[\"event_name\"].isin([\"advert_open\", \"tips_click\"]).sum()\n",
    "\n",
    "contacts_show_conversion = contacts_show_count / total_advert_open_count\n",
    "\n",
    "print(f\"Отношение просмотров объявлений к просмотру контактов: {contacts_show_conversion:.2%}\")"
   ]
  },
  {
   "cell_type": "markdown",
   "id": "f1de15ce",
   "metadata": {},
   "source": [
    "Больше половины событий приходится на просмотр рекомендованных объявлений. Остальные события происходят гораздо реже.\n",
    "\n",
    "Одними из самых частых являются просмотр фотографий в карточке объявления, открытие самого объявления и просмотр контактов. Все события, связанные с поиском, идут третьими по популярности. Любопытно, что несмотря на большой просмотр рекомендованных объявлений, переход по ним составляет всего ~2%. А вот конверсия просмотренных объявлений гораздо больше – 62%.\n",
    "\n",
    "События совершаются равномерно пользователями со всех источников. Больше всего события с Яндекса, так как оттуда больше всего пользователей. "
   ]
  },
  {
   "cell_type": "markdown",
   "id": "acc453cd",
   "metadata": {},
   "source": [
    "### Распределение по времени"
   ]
  },
  {
   "cell_type": "code",
   "execution_count": null,
   "id": "36bc6a1d",
   "metadata": {
    "ExecuteTime": {
     "end_time": "2022-10-17T23:43:18.702083Z",
     "start_time": "2022-10-17T23:43:18.699681Z"
    }
   },
   "outputs": [],
   "source": [
    "def get_events_datetime_distribution():\n",
    "    fig = px.histogram(events, x=\"event_time\", nbins=350, color=events[\"source\"].str.capitalize(), barmode=\"overlay\")\n",
    "\n",
    "    fig.update_layout(title=\"Распределение событий по времени\",\n",
    "                      xaxis_title=None, yaxis_title=None,\n",
    "                      xaxis_showgrid=True, xaxis_rangeslider_visible=True)\n",
    "\n",
    "    make_horizontal_legend(fig, \"Источник:\")\n",
    "\n",
    "    return fig"
   ]
  },
  {
   "cell_type": "code",
   "execution_count": null,
   "id": "3a7e6d87",
   "metadata": {
    "ExecuteTime": {
     "end_time": "2022-10-17T23:43:19.595085Z",
     "start_time": "2022-10-17T23:43:18.703066Z"
    },
    "scrolled": false
   },
   "outputs": [],
   "source": [
    "get_events_datetime_distribution()"
   ]
  },
  {
   "cell_type": "markdown",
   "id": "9fff6de6",
   "metadata": {},
   "source": [
    "События распределены циклично — ночью активность ниже. Пик активности приходится на день примерно с 9 утра по 9 вечера."
   ]
  },
  {
   "cell_type": "code",
   "execution_count": null,
   "id": "38570057",
   "metadata": {
    "ExecuteTime": {
     "end_time": "2022-10-17T23:43:19.599089Z",
     "start_time": "2022-10-17T23:43:19.596542Z"
    }
   },
   "outputs": [],
   "source": [
    "def get_events_time_distribution():\n",
    "    event_time = pd.to_datetime(events[\"event_time\"].dt.time.astype(str))\n",
    "\n",
    "    fig = px.histogram(event_time, color=events[\"source\"].str.capitalize(), histnorm=\"probability\", barmode=\"overlay\")\n",
    "\n",
    "    fig.update_layout(\n",
    "        title=\"Активность пользователей на протяжении дня\",\n",
    "        xaxis_title=None,\n",
    "        yaxis_title=\"Доля событий\",\n",
    "        xaxis_tickformat=\"%H:%M\",\n",
    "        yaxis_tickformat=\"p\",\n",
    "        xaxis_showgrid=True,\n",
    "    )\n",
    "\n",
    "    make_horizontal_legend(fig, \"Источник:\")\n",
    "    \n",
    "    fig.update_layout(height=450)\n",
    "\n",
    "    return fig"
   ]
  },
  {
   "cell_type": "code",
   "execution_count": null,
   "id": "fc21e8e0",
   "metadata": {
    "ExecuteTime": {
     "end_time": "2022-10-17T23:43:21.940776Z",
     "start_time": "2022-10-17T23:43:19.599941Z"
    }
   },
   "outputs": [],
   "source": [
    "get_events_time_distribution()"
   ]
  },
  {
   "cell_type": "markdown",
   "id": "f61b16dd",
   "metadata": {},
   "source": [
    "Главная активность в приложении начинается примерно с 8 утра и идет на убыль после 22 вечера. Причем наблюдается спад активности с 17 по 19 — возможно, в это время люди едут с работы домой. Посмотрим на более детальное распределение событий на протяжении дня."
   ]
  },
  {
   "cell_type": "code",
   "execution_count": null,
   "id": "d392000d",
   "metadata": {
    "ExecuteTime": {
     "end_time": "2022-10-17T23:43:21.945343Z",
     "start_time": "2022-10-17T23:43:21.942794Z"
    }
   },
   "outputs": [],
   "source": [
    "def get_events_distribution_by_time():\n",
    "    events_search_merged = events[\"event_name\"].astype(object).replace(\"search_[1-7]\", \"search\", regex=True)\n",
    "\n",
    "    fig = px.histogram(x=pd.to_datetime(events[\"event_time\"].dt.time.astype(str)), color=events_search_merged)\n",
    "\n",
    "    fig.update_layout(\n",
    "        title=\"Распределение событий на протяжении дня\",\n",
    "        xaxis_title=None,\n",
    "        yaxis_title=None,\n",
    "        xaxis_showgrid=True,\n",
    "        legend_title=\"Событие<br>\",\n",
    "    )\n",
    "\n",
    "    return fig"
   ]
  },
  {
   "cell_type": "code",
   "execution_count": null,
   "id": "22c90ccc",
   "metadata": {
    "ExecuteTime": {
     "end_time": "2022-10-17T23:43:24.252248Z",
     "start_time": "2022-10-17T23:43:21.946885Z"
    }
   },
   "outputs": [],
   "source": [
    "get_events_distribution_by_time()"
   ]
  },
  {
   "cell_type": "markdown",
   "id": "7219386c",
   "metadata": {},
   "source": [
    "Большую долю событий занимает просмотр рекомендованных объявлений. По такому графику сложно уверенно что-то сказать, но кажется, что пользователи открывают объявления равномерно с 9 утра по 9 вечера, и что они больше склонны просматривать фотографии ближе к вечеру."
   ]
  },
  {
   "cell_type": "code",
   "execution_count": null,
   "id": "5c867167",
   "metadata": {
    "ExecuteTime": {
     "end_time": "2022-10-17T23:43:24.257312Z",
     "start_time": "2022-10-17T23:43:24.253692Z"
    }
   },
   "outputs": [],
   "source": [
    "def get_event_distribution_by_time(event_name, interactive=False):\n",
    "    events_search_merged = events[\"event_name\"].astype(object).replace(\"search_[1-7]\", \"search\", regex=True)\n",
    "    event_data = events.loc[events_search_merged == event_name]\n",
    "\n",
    "    fig = px.histogram(x=pd.to_datetime(event_data[\"event_time\"].dt.time.astype(str)), histnorm=\"probability\")\n",
    "\n",
    "    fig.update_layout(\n",
    "        title=f'Распределение события \"{event_name}\" на протяжении дня',\n",
    "        xaxis_title=None,\n",
    "        yaxis_title=None,\n",
    "        xaxis_showgrid=True,\n",
    "        yaxis_tickformat=\"p\",\n",
    "        height=550,\n",
    "    )\n",
    "\n",
    "    if interactive:\n",
    "\n",
    "        fig = go.FigureWidget(fig)\n",
    "\n",
    "        def update(event_name=event_name):\n",
    "            event_data = events.loc[events_search_merged == event_name]\n",
    "            x = pd.to_datetime(event_data[\"event_time\"].dt.time.astype(str))\n",
    "            fig.layout.title = f'Распределение события \"{event_name}\" на протяжении дня'\n",
    "            fig.data[0].x = x\n",
    "\n",
    "        interact(update, event_name=events_search_merged.unique())\n",
    "\n",
    "    return fig"
   ]
  },
  {
   "cell_type": "code",
   "execution_count": null,
   "id": "1d11efc0",
   "metadata": {
    "ExecuteTime": {
     "end_time": "2022-10-17T23:43:26.473334Z",
     "start_time": "2022-10-17T23:43:24.258674Z"
    }
   },
   "outputs": [],
   "source": [
    "get_event_distribution_by_time(\"tips_show\", interactive=True)"
   ]
  },
  {
   "cell_type": "markdown",
   "id": "25ba2740",
   "metadata": {
    "ExecuteTime": {
     "end_time": "2022-10-03T07:48:11.087682Z",
     "start_time": "2022-10-03T07:48:11.079600Z"
    }
   },
   "source": [
    "Пользователи вечером больше склонны просматривать фотографии и добавлять объявления себе в избранные."
   ]
  },
  {
   "cell_type": "markdown",
   "id": "60356548",
   "metadata": {
    "ExecuteTime": {
     "end_time": "2022-09-28T16:29:12.565772Z",
     "start_time": "2022-09-28T16:29:12.558126Z"
    }
   },
   "source": [
    "## Удержание пользователей"
   ]
  },
  {
   "cell_type": "markdown",
   "id": "c9e7129c",
   "metadata": {},
   "source": [
    "### Создание лайфтаймов"
   ]
  },
  {
   "cell_type": "markdown",
   "id": "f074f096",
   "metadata": {},
   "source": [
    "Добавим в данные лайфтайм пользователей. У нас нет информации, когда эти пользователи действительно в первый раз пришли в наше приложение, так что отсчет будем вести с момента первого события пользователя, но увеличивать его по календарным дням. Если увеличивать лайфтайм каждые 24 часа, то его оценка может быть занижена. Например, если пользователь зашел в приложение сегодня в 16:00, а в следующий раз зашел завтра в 15:00, то 24 часа еще не пройдет, и его лайфтайм будет равен 1, хотя лучше считать, что он зашел в приложение в 2 дня."
   ]
  },
  {
   "cell_type": "code",
   "execution_count": null,
   "id": "3e8ea995",
   "metadata": {
    "ExecuteTime": {
     "end_time": "2022-10-17T23:43:26.476495Z",
     "start_time": "2022-10-17T23:43:26.474477Z"
    }
   },
   "outputs": [],
   "source": [
    "def make_lifetime(user_events):\n",
    "    lifetime = (user_events[\"event_date\"] - user_events[\"event_date\"].min()).dt.days\n",
    "    user_events[\"lifetime\"] = lifetime\n",
    "    return user_events"
   ]
  },
  {
   "cell_type": "code",
   "execution_count": null,
   "id": "7ccf0422",
   "metadata": {
    "ExecuteTime": {
     "end_time": "2022-10-17T23:43:28.395924Z",
     "start_time": "2022-10-17T23:43:26.477374Z"
    }
   },
   "outputs": [],
   "source": [
    "events = events.groupby(\"user_id\", group_keys=False).apply(make_lifetime)\n",
    "events.sort_values(by=\"lifetime\", ascending=False).head()"
   ]
  },
  {
   "cell_type": "markdown",
   "id": "80e6e790",
   "metadata": {
    "ExecuteTime": {
     "end_time": "2022-09-28T18:28:59.672211Z",
     "start_time": "2022-09-28T18:28:59.663273Z"
    }
   },
   "source": [
    "Максимальный лайфтайм равен 27 дням, что равно количеству всех дней в наших данных."
   ]
  },
  {
   "cell_type": "code",
   "execution_count": null,
   "id": "f13bbdf2",
   "metadata": {
    "ExecuteTime": {
     "end_time": "2022-10-17T23:43:28.400777Z",
     "start_time": "2022-10-17T23:43:28.396993Z"
    }
   },
   "outputs": [],
   "source": [
    "events[\"event_date\"].max() - events[\"event_date\"].min()"
   ]
  },
  {
   "cell_type": "markdown",
   "id": "9fa1f528",
   "metadata": {
    "ExecuteTime": {
     "end_time": "2022-09-28T20:07:33.691604Z",
     "start_time": "2022-09-28T20:07:33.683254Z"
    }
   },
   "source": [
    "Так же добавим в наши данные дату первого события пользователя и его неделю, чтобы потом разбить пользователей на когорты."
   ]
  },
  {
   "cell_type": "code",
   "execution_count": null,
   "id": "c72b8a35",
   "metadata": {
    "ExecuteTime": {
     "end_time": "2022-10-17T23:43:28.426851Z",
     "start_time": "2022-10-17T23:43:28.401700Z"
    }
   },
   "outputs": [],
   "source": [
    "events[\"first_event_date\"] = events.groupby(\"user_id\")[\"event_date\"].transform(min)\n",
    "events[\"first_event_week\"] = events[\"first_event_date\"].dt.isocalendar()[\"week\"]"
   ]
  },
  {
   "cell_type": "markdown",
   "id": "5b386cea",
   "metadata": {},
   "source": [
    "В анализе удержания пользователей нужно учитывать, что наше приложение является торговой площадкой, и мы анализируем поведение пользователей, которые являются покупателями. Они могут скачать наше приложение, чтобы найти и купить одну определенную вещь. Необязательно они будут на постоянной основе что-то покупать."
   ]
  },
  {
   "cell_type": "markdown",
   "id": "2e186ab1",
   "metadata": {},
   "source": [
    "### Общее удержание"
   ]
  },
  {
   "cell_type": "code",
   "execution_count": null,
   "id": "66f482bc",
   "metadata": {
    "ExecuteTime": {
     "end_time": "2022-10-17T23:43:28.430062Z",
     "start_time": "2022-10-17T23:43:28.427800Z"
    }
   },
   "outputs": [],
   "source": [
    "def get_retention_rate():\n",
    "    retention_rate = events.groupby(\"lifetime\")[\"user_id\"].nunique() / events[\"user_id\"].nunique()\n",
    "\n",
    "    fig = px.line(retention_rate.drop(0), title=\"Удержание пользователей\")\n",
    "\n",
    "    fig.update_layout(\n",
    "        xaxis_title=\"Лайфтайм\",\n",
    "        yaxis_title=None,\n",
    "        xaxis_linecolor=\"black\",\n",
    "        yaxis_linecolor=\"black\",\n",
    "        yaxis_tickformat=\"p\",\n",
    "        showlegend=False,\n",
    "    )\n",
    "\n",
    "    return fig"
   ]
  },
  {
   "cell_type": "code",
   "execution_count": null,
   "id": "dffee581",
   "metadata": {
    "ExecuteTime": {
     "end_time": "2022-10-17T23:43:28.497815Z",
     "start_time": "2022-10-17T23:43:28.430947Z"
    }
   },
   "outputs": [],
   "source": [
    "get_retention_rate()"
   ]
  },
  {
   "cell_type": "markdown",
   "id": "88a7a757",
   "metadata": {},
   "source": [
    "Как видим, всего ~15% зашли в наше приложение на второй день. Остальные могли просто скачать приложение, найти, что им нужно, и больше не заходить туда. Только каждый 20 \"проживает\" неделю."
   ]
  },
  {
   "cell_type": "markdown",
   "id": "d4290f24",
   "metadata": {},
   "source": [
    "### Удержание по источнику"
   ]
  },
  {
   "cell_type": "code",
   "execution_count": null,
   "id": "8a1a21e6",
   "metadata": {
    "ExecuteTime": {
     "end_time": "2022-10-17T23:43:28.501714Z",
     "start_time": "2022-10-17T23:43:28.498759Z"
    }
   },
   "outputs": [],
   "source": [
    "def get_retention_rate_by_source():\n",
    "    n_users_by_source = events.groupby(\"source\")[\"user_id\"].nunique()\n",
    "    n_users_by_source.index = n_users_by_source.index.str.capitalize()\n",
    "\n",
    "    retention_rate = events.pivot_table(index=\"lifetime\", columns=\"source\", values=\"user_id\", aggfunc=\"nunique\")\n",
    "    retention_rate.columns = retention_rate.columns.str.capitalize()\n",
    "    retention_rate = (retention_rate / n_users_by_source).drop(0)\n",
    "\n",
    "    fig = px.line(retention_rate, title=\"Удержание пользователей по источнику\", height=600)\n",
    "\n",
    "    fig.update_layout(\n",
    "        xaxis_title=\"Лайфтайм\",\n",
    "        yaxis_title=None,\n",
    "        xaxis_linecolor=\"black\",\n",
    "        yaxis_linecolor=\"black\",\n",
    "        yaxis_tickformat=\"p\",\n",
    "        xaxis_rangeslider_visible=True,\n",
    "    )\n",
    "    \n",
    "    make_horizontal_legend(fig, \"Источник:\")\n",
    "\n",
    "    return fig"
   ]
  },
  {
   "cell_type": "code",
   "execution_count": null,
   "id": "457389f1",
   "metadata": {
    "ExecuteTime": {
     "end_time": "2022-10-17T23:43:28.578592Z",
     "start_time": "2022-10-17T23:43:28.502548Z"
    }
   },
   "outputs": [],
   "source": [
    "get_retention_rate_by_source()"
   ]
  },
  {
   "cell_type": "markdown",
   "id": "d23b16e3",
   "metadata": {},
   "source": [
    "Ожидаемо, что различий в удержании между источниками не будет, потому что они никак не связаны друг с другом."
   ]
  },
  {
   "cell_type": "markdown",
   "id": "e0e4aa7d",
   "metadata": {},
   "source": [
    "### Удержание по когортам"
   ]
  },
  {
   "cell_type": "markdown",
   "id": "743761c9",
   "metadata": {},
   "source": [
    "Разобьем пользователей на когорты по неделям. Сначала посмотрим, все ли недели прошли полностью."
   ]
  },
  {
   "cell_type": "code",
   "execution_count": null,
   "id": "c1e59d86",
   "metadata": {
    "ExecuteTime": {
     "end_time": "2022-10-17T23:43:28.588115Z",
     "start_time": "2022-10-17T23:43:28.579648Z"
    }
   },
   "outputs": [],
   "source": [
    "cohort_sizes = events.groupby(\"first_event_week\")[\"first_event_date\"].agg([\"min\", \"max\"])\n",
    "cohort_sizes[\"days\"] = (cohort_sizes[\"max\"] - cohort_sizes[\"min\"]) + pd.Timedelta(1, unit=\"D\")\n",
    "cohort_sizes"
   ]
  },
  {
   "cell_type": "code",
   "execution_count": null,
   "id": "a8e32069",
   "metadata": {
    "ExecuteTime": {
     "end_time": "2022-10-17T23:43:28.592924Z",
     "start_time": "2022-10-17T23:43:28.589186Z"
    }
   },
   "outputs": [],
   "source": [
    "events[\"event_time\"].agg([\"min\", \"max\"])"
   ]
  },
  {
   "cell_type": "markdown",
   "id": "fac20906",
   "metadata": {
    "ExecuteTime": {
     "end_time": "2022-10-05T09:24:00.103659Z",
     "start_time": "2022-10-05T09:24:00.092129Z"
    }
   },
   "source": [
    "Данные за ровно 4 недели. Посмотрим на размеры соответствующих когорт."
   ]
  },
  {
   "cell_type": "code",
   "execution_count": null,
   "id": "fb9221eb",
   "metadata": {
    "ExecuteTime": {
     "end_time": "2022-10-17T23:43:28.596296Z",
     "start_time": "2022-10-17T23:43:28.593893Z"
    }
   },
   "outputs": [],
   "source": [
    "def plot_cohort_sizes():\n",
    "    cohort_sizes = events.groupby(\"first_event_week\")[\"user_id\"].nunique()\n",
    "\n",
    "    fig = px.line(cohort_sizes, title=\"Количество новых пользователей по неделям\")\n",
    "\n",
    "    fig.update_layout(\n",
    "        xaxis_title=None,\n",
    "        yaxis_title=None,\n",
    "        xaxis_linecolor=\"black\",\n",
    "        yaxis_linecolor=\"black\",\n",
    "        xaxis_tickmode=\"array\",\n",
    "        xaxis_tickvals=np.arange(41, 45),\n",
    "        yaxis_rangemode=\"tozero\",\n",
    "        showlegend=False,\n",
    "    )\n",
    "\n",
    "    return fig"
   ]
  },
  {
   "cell_type": "code",
   "execution_count": null,
   "id": "278ae7ae",
   "metadata": {
    "ExecuteTime": {
     "end_time": "2022-10-17T23:43:28.651741Z",
     "start_time": "2022-10-17T23:43:28.597294Z"
    }
   },
   "outputs": [],
   "source": [
    "plot_cohort_sizes()"
   ]
  },
  {
   "cell_type": "markdown",
   "id": "34dda57a",
   "metadata": {
    "ExecuteTime": {
     "end_time": "2022-10-05T09:33:43.615680Z",
     "start_time": "2022-10-05T09:33:43.604169Z"
    }
   },
   "source": [
    "После 42 недели количество новых пользователей в неделю начало немного снижаться. Возможно, дело в самом приложении или, может, в первые две недели приложение имело пик популярности, если оно только запустилось, или была активная реклама. Это можно уточнить у заказчика."
   ]
  },
  {
   "cell_type": "code",
   "execution_count": null,
   "id": "8052c223",
   "metadata": {
    "ExecuteTime": {
     "end_time": "2022-10-17T23:43:28.656353Z",
     "start_time": "2022-10-17T23:43:28.652842Z"
    }
   },
   "outputs": [],
   "source": [
    "def get_retention_by_cohorts(lifetime, transpose=False):\n",
    "    retention_rate = events.pivot_table(index=\"lifetime\", columns=\"first_event_week\", values=\"user_id\", aggfunc=\"nunique\")\n",
    "    retention_rate /= retention_rate.iloc[0]\n",
    "    retention_rate = retention_rate.iloc[range(1, lifetime + 1)]\n",
    "\n",
    "    legend_title = \"Неделя:\"\n",
    "\n",
    "    if transpose:\n",
    "        retention_rate = retention_rate.T\n",
    "        legend_title = \"Лайфтайм:\"\n",
    "\n",
    "    fig = px.line(\n",
    "        retention_rate,\n",
    "        title=\"Удержание пользователей по когортам\",\n",
    "        color_discrete_sequence=px.colors.sequential.Viridis[-1::-1],\n",
    "    )\n",
    "\n",
    "    fig.update_layout(\n",
    "        xaxis_title=\"Лайфтайм\",\n",
    "        yaxis_title=None,\n",
    "        xaxis_tickmode=\"array\",\n",
    "        xaxis_tickvals=np.arange(1, lifetime + 1),\n",
    "        xaxis_linecolor=\"black\",\n",
    "        yaxis_linecolor=\"black\",\n",
    "        yaxis_tickformat=\"p\",\n",
    "        legend_title=legend_title,\n",
    "    )\n",
    "\n",
    "    if transpose:\n",
    "        fig.update_xaxes(title=\"Неделя когорты\", tickmode=\"array\", tickvals=np.arange(41, 45))\n",
    "    \n",
    "    fig.update_layout(height=450)\n",
    "\n",
    "    return fig"
   ]
  },
  {
   "cell_type": "code",
   "execution_count": null,
   "id": "d7a8d34d",
   "metadata": {
    "ExecuteTime": {
     "end_time": "2022-10-17T23:43:28.734435Z",
     "start_time": "2022-10-17T23:43:28.657440Z"
    }
   },
   "outputs": [],
   "source": [
    "interact(get_retention_by_cohorts, lifetime=(2, 27), transpose=[False, True]);"
   ]
  },
  {
   "cell_type": "markdown",
   "id": "7dcac0b5",
   "metadata": {},
   "source": [
    "Удержание у последней когорты, 44 недели, гораздо ниже, чем у остальных когорт. У когорт первых 3 недель примерно одинаковые удержания, хотя у когорты 43 недели удержание на 14 день (13 лайфтайм) сильно ниже, чем у когорт 41 и 42 недель.\n",
    "\n",
    "Возможно множество причин, почему удержание стало меньше. Вот некоторые из них:\n",
    "\n",
    "1) Изменилось распределение событий. Например, рекомендованные объявления стали хуже совпадать с интересами пользователей. Тогда можно ожидать, что среднее количество просмотренных объявлений уменьшится.\n",
    "\n",
    "2) Технические проблемы в приложении. Количество пользователей растет, нагрузка на сервера увеличивается, и приложение начинает дольше работать. Можно ожидать увеличение среднего времени между событиями в сессии.\n",
    "\n",
    "3) Приложение на самом деле улучшилось, и пользователи стали быстрее находить то, что им нужно. Вероятно, увеличилась бы доля просмотра контактов и фотографий.\n",
    "\n",
    "4) Дело не в приложении, а во внешних факторах, например, в рекламе. Может, в первые недели приложение активно рекламировалось.\n",
    "\n",
    "Посмотрим на сессии пользователей, чтобы посмотреть, что из этого может быть возможным."
   ]
  },
  {
   "cell_type": "markdown",
   "id": "e3800765",
   "metadata": {
    "ExecuteTime": {
     "end_time": "2022-09-28T22:49:50.714652Z",
     "start_time": "2022-09-28T22:49:50.709573Z"
    }
   },
   "source": [
    "## Сессии"
   ]
  },
  {
   "cell_type": "markdown",
   "id": "0c832f94",
   "metadata": {},
   "source": [
    "### Создание сессий"
   ]
  },
  {
   "cell_type": "markdown",
   "id": "d0864d2b",
   "metadata": {
    "ExecuteTime": {
     "end_time": "2022-09-28T12:46:30.274499Z",
     "start_time": "2022-09-28T12:46:30.265927Z"
    }
   },
   "source": [
    "Создадим пользовательские сессии на основе времени, прошедшего между соседними событиями. Будем считать, что сессия завершилась, если с момента последнего события прошло больше получаса. Сначала добавим индексы сессий в таблицу `events`."
   ]
  },
  {
   "cell_type": "code",
   "execution_count": null,
   "id": "f4775b6a",
   "metadata": {
    "ExecuteTime": {
     "end_time": "2022-10-17T23:43:28.737938Z",
     "start_time": "2022-10-17T23:43:28.735277Z"
    }
   },
   "outputs": [],
   "source": [
    "def make_sessions(user_events):\n",
    "    time_since_last_event = user_events[\"event_second\"].iloc[1:].values - user_events[\"event_second\"].iloc[:-1].values\n",
    "\n",
    "    user_events[\"minutes_since_last_event\"] = None\n",
    "    user_events[\"minutes_since_last_event\"].iloc[1:] = pd.to_timedelta(time_since_last_event).total_seconds() / 60\n",
    "\n",
    "    current_session, sessions = 0, [0]\n",
    "\n",
    "    for time_elapsed in user_events[\"minutes_since_last_event\"].iloc[1:]:\n",
    "        sessions.append((current_session := current_session + 1) if time_elapsed > 30 else current_session)\n",
    "\n",
    "    user_events[\"session\"] = sessions\n",
    "\n",
    "    return user_events"
   ]
  },
  {
   "cell_type": "code",
   "execution_count": null,
   "id": "bdcc61af",
   "metadata": {
    "ExecuteTime": {
     "end_time": "2022-10-17T23:43:31.600023Z",
     "start_time": "2022-10-17T23:43:28.738863Z"
    }
   },
   "outputs": [],
   "source": [
    "events = events.groupby(\"user_id\", group_keys=False).apply(make_sessions)"
   ]
  },
  {
   "cell_type": "markdown",
   "id": "301753cf",
   "metadata": {},
   "source": [
    "Первым событиям в сессиях сделаем `minutes_since_last_event` пропущенным, так как предыдущее событие относится к другой сессии."
   ]
  },
  {
   "cell_type": "code",
   "execution_count": null,
   "id": "2887e243",
   "metadata": {
    "ExecuteTime": {
     "end_time": "2022-10-17T23:43:31.999468Z",
     "start_time": "2022-10-17T23:43:31.600956Z"
    }
   },
   "outputs": [],
   "source": [
    "first_event_idxs = events.reset_index().groupby([\"user_id\", \"session\"], as_index=False).first()[\"index\"]\n",
    "events.loc[first_event_idxs, \"minutes_since_last_event\"] = None\n",
    "events[\"minutes_since_last_event\"] = pd.to_numeric(events[\"minutes_since_last_event\"], downcast=\"float\")"
   ]
  },
  {
   "cell_type": "markdown",
   "id": "e5712e94",
   "metadata": {},
   "source": [
    "Проверим получившиеся сессии."
   ]
  },
  {
   "cell_type": "code",
   "execution_count": null,
   "id": "ecdb34c8",
   "metadata": {
    "ExecuteTime": {
     "end_time": "2022-10-17T23:43:32.009771Z",
     "start_time": "2022-10-17T23:43:32.000604Z"
    }
   },
   "outputs": [],
   "source": [
    "events.query(\"user_id == '0001b1d5-b74a-4cbf-aeb0-7df5947bf349'\").head(3)"
   ]
  },
  {
   "cell_type": "markdown",
   "id": "0ba9f4d0",
   "metadata": {},
   "source": [
    "Теперь создадим таблицу с сессиями с количеством каждого события за каждую сессию. Для удобства создадим отдельный столбец, где объединим события, связанные с поиском."
   ]
  },
  {
   "cell_type": "code",
   "execution_count": null,
   "id": "a8b7c8a8",
   "metadata": {
    "ExecuteTime": {
     "end_time": "2022-10-17T23:43:36.476909Z",
     "start_time": "2022-10-17T23:43:32.011015Z"
    }
   },
   "outputs": [],
   "source": [
    "sessions = events.groupby([\"user_id\", \"session\"])[\"event_name\"].value_counts()\n",
    "sessions.name = \"count\"\n",
    "sessions = sessions.reset_index().pivot(index=[\"user_id\", \"session\"], columns=[\"event_name\"], values=\"count\")\n",
    "\n",
    "sessions[\"total_events\"] = sessions.sum(axis=1)\n",
    "sessions[\"search\"] = sessions.loc[:, \"search_1\":\"search_7\"].sum(axis=1)\n",
    "\n",
    "sessions.head(3)"
   ]
  },
  {
   "cell_type": "markdown",
   "id": "535de7b5",
   "metadata": {
    "ExecuteTime": {
     "end_time": "2022-09-28T13:05:28.018338Z",
     "start_time": "2022-09-28T13:05:28.013272Z"
    }
   },
   "source": [
    "Добавим время начала и конца сессий, их продолжительность и источник пользователя. Добавим так же неделю сессии и неделю первого события пользователя, чтобы посмотреть на сессии в разрезе по когортам."
   ]
  },
  {
   "cell_type": "code",
   "execution_count": null,
   "id": "65af095e",
   "metadata": {
    "ExecuteTime": {
     "end_time": "2022-10-17T23:43:36.513145Z",
     "start_time": "2022-10-17T23:43:36.478025Z"
    }
   },
   "outputs": [],
   "source": [
    "sessions_time = events.groupby([\"user_id\", \"session\"])[\"event_time\"].agg([\"min\", \"max\"])\n",
    "sessions_time.columns = [\"start\", \"end\"]\n",
    "\n",
    "users_weeks = events.groupby([\"user_id\", \"session\"])[\"first_event_date\"].first().dt.isocalendar()[\"week\"]\n",
    "users_weeks.name = \"user_week\"\n",
    "\n",
    "sessions = sessions.join(sources).join(sessions_time).join(users_weeks).reset_index()\n",
    "\n",
    "sessions[\"duration_minutes\"] = (sessions[\"end\"] - sessions[\"start\"]).dt.total_seconds() / 60\n",
    "sessions[\"session_week\"] = sessions[\"start\"].dt.isocalendar()[\"week\"]"
   ]
  },
  {
   "cell_type": "markdown",
   "id": "48eec775",
   "metadata": {},
   "source": [
    "Добавим среднее время между событиями в сессии и его стандартное отклонение."
   ]
  },
  {
   "cell_type": "code",
   "execution_count": null,
   "id": "0c97937b",
   "metadata": {
    "ExecuteTime": {
     "end_time": "2022-10-17T23:43:36.527926Z",
     "start_time": "2022-10-17T23:43:36.514450Z"
    }
   },
   "outputs": [],
   "source": [
    "sessions[[\"mean_minutes_between_events\", \"std_minutes_between_events\"]] = (\n",
    "    events.groupby([\"user_id\", \"session\"])[\"minutes_since_last_event\"]\n",
    "    .agg([\"mean\", \"std\"])\n",
    "    .reset_index(drop=True)\n",
    ")"
   ]
  },
  {
   "cell_type": "markdown",
   "id": "6f2a1468",
   "metadata": {},
   "source": [
    "Так же добавим время перерывов между сессиями, чтобы посмотреть, как часто пользователь заходит в приложение."
   ]
  },
  {
   "cell_type": "code",
   "execution_count": null,
   "id": "983f2b2d",
   "metadata": {
    "ExecuteTime": {
     "end_time": "2022-10-17T23:43:36.531096Z",
     "start_time": "2022-10-17T23:43:36.528889Z"
    }
   },
   "outputs": [],
   "source": [
    "def make_hours_since_last_session(user_events):\n",
    "    time_since_last_session = user_events[\"start\"].iloc[1:].values - user_events[\"end\"].iloc[:-1].values\n",
    "    user_events[\"hours_since_last_session\"] = None\n",
    "    user_events[\"hours_since_last_session\"].iloc[1:] = pd.Series(\n",
    "        time_since_last_session / (3600 * 10**9), dtype=\"float32\"\n",
    "    )\n",
    "    return user_events"
   ]
  },
  {
   "cell_type": "code",
   "execution_count": null,
   "id": "72c36019",
   "metadata": {
    "ExecuteTime": {
     "end_time": "2022-10-17T23:43:38.634451Z",
     "start_time": "2022-10-17T23:43:36.531907Z"
    }
   },
   "outputs": [],
   "source": [
    "sessions = sessions.groupby(\"user_id\", group_keys=False).apply(make_hours_since_last_session)\n",
    "sessions.head(3)"
   ]
  },
  {
   "cell_type": "markdown",
   "id": "c3add368",
   "metadata": {},
   "source": [
    "### Количество событий за сессию"
   ]
  },
  {
   "cell_type": "code",
   "execution_count": null,
   "id": "4f6d7880",
   "metadata": {
    "ExecuteTime": {
     "end_time": "2022-10-17T23:43:38.637968Z",
     "start_time": "2022-10-17T23:43:38.635377Z"
    }
   },
   "outputs": [],
   "source": [
    "def get_total_events_per_session_distribution():\n",
    "    fig = px.histogram(\n",
    "        sessions,\n",
    "        x=\"total_events\",\n",
    "        color=\"user_week\",\n",
    "        histnorm=\"probability\",\n",
    "        barmode=\"overlay\",\n",
    "        marginal=\"box\",\n",
    "        height=600,\n",
    "    )\n",
    "\n",
    "    fig.update_layout(\n",
    "        title=\"Распределение количества событий за сессию\",\n",
    "        xaxis_title=None,\n",
    "        yaxis_title=None,\n",
    "        xaxis_showgrid=True,\n",
    "        xaxis2_showgrid=False,\n",
    "        yaxis_tickformat=\"p\",\n",
    "        xaxis_rangeslider_visible=True,\n",
    "    )\n",
    "\n",
    "    make_horizontal_legend(fig, \"Неделя:\", reversed_traceorder=True)\n",
    "\n",
    "    return fig"
   ]
  },
  {
   "cell_type": "code",
   "execution_count": null,
   "id": "172d07a3",
   "metadata": {
    "ExecuteTime": {
     "end_time": "2022-10-17T23:43:38.725814Z",
     "start_time": "2022-10-17T23:43:38.639079Z"
    }
   },
   "outputs": [],
   "source": [
    "get_total_events_per_session_distribution()"
   ]
  },
  {
   "cell_type": "markdown",
   "id": "5f235701",
   "metadata": {},
   "source": [
    "Между когортами не очень много разницы, но она есть. Медианное количество событий за одну сессию для первых трех недель равно 4, а для последней 5.\n",
    "\n",
    "Весьма странно, что в 20% сессий по 1 событию, но есть и выбросы вплоть до ~150 событий за сессию. Отбрасывать сессии с большим количеством событий пока не будем. Посмотрим поближе на сессии с 1 событием."
   ]
  },
  {
   "cell_type": "code",
   "execution_count": null,
   "id": "a0f022ce",
   "metadata": {
    "ExecuteTime": {
     "end_time": "2022-10-17T23:43:38.728906Z",
     "start_time": "2022-10-17T23:43:38.726698Z"
    }
   },
   "outputs": [],
   "source": [
    "def get_sessions_single_events_distribution():\n",
    "    sessions_single_events = sessions.query(\"total_events == 1\")[event_names_search_merged].mean()\n",
    "\n",
    "    fig = px.bar(sessions_single_events, orientation=\"h\", text_auto=\".2p\", height=600)\n",
    "\n",
    "    fig.update_layout(\n",
    "        title=\"Распределение событий среди сессий с 1 событием\",\n",
    "        xaxis_title=None,\n",
    "        yaxis_title=None,\n",
    "        yaxis_categoryorder=\"total ascending\",\n",
    "        xaxis_showgrid=False,\n",
    "        xaxis_showticklabels=False,\n",
    "        yaxis_linecolor=\"black\",\n",
    "        showlegend=False,\n",
    "    )\n",
    "\n",
    "    return fig"
   ]
  },
  {
   "cell_type": "code",
   "execution_count": null,
   "id": "3554379d",
   "metadata": {
    "ExecuteTime": {
     "end_time": "2022-10-17T23:43:38.781504Z",
     "start_time": "2022-10-17T23:43:38.729835Z"
    }
   },
   "outputs": [],
   "source": [
    "get_sessions_single_events_distribution()"
   ]
  },
  {
   "cell_type": "markdown",
   "id": "facc752a",
   "metadata": {},
   "source": [
    "Весьма странно. Сессий с 1 событием `tips_show` – 42%, то есть ~10% от всех сессий. Пользователи заходили в приложение, а потом выходили. Может, они делали это от скуки. Но еще страннее – это наличие сессий с другими событиями. Почти всем им должно что-то предшествовать. Например, чтобы добавить объявление в избранное, надо сначала его открыть. Возможно, пользователи выходили из приложения на время, но оно оставалось в оперативной памяти телефона, и когда они заходили снова, приложение открывалось на месте, где пользователь остановился. В таком случае оставим сессии как есть, потому что логично считать, что это все равно разные сессии. Однако у этих сессий нельзя определить их настоящую длительность, так как в них всего 1 событие. Это может исказить распределение длительности сессий."
   ]
  },
  {
   "cell_type": "code",
   "execution_count": null,
   "id": "88566ab6",
   "metadata": {
    "ExecuteTime": {
     "end_time": "2022-10-17T23:43:38.785542Z",
     "start_time": "2022-10-17T23:43:38.782784Z"
    }
   },
   "outputs": [],
   "source": [
    "def get_event_per_session_distribution(event_name, by):\n",
    "\n",
    "    fig = px.histogram(\n",
    "        sessions[event_names_search_merged + [by]],\n",
    "        x=event_name,\n",
    "        color=by,\n",
    "        histnorm=\"probability\",\n",
    "        barmode=\"overlay\",\n",
    "        marginal=\"box\",\n",
    "        height=600,\n",
    "    )\n",
    "\n",
    "    fig.update_layout(\n",
    "        title=f'Распределение количества событий \"{event_name}\" на сессию',\n",
    "        xaxis_title=None,\n",
    "        yaxis_title=None,\n",
    "        xaxis_showgrid=True,\n",
    "        xaxis2_showgrid=False,\n",
    "        yaxis_tickformat=\"p\",\n",
    "        xaxis_rangeslider_visible=True,\n",
    "    )\n",
    "\n",
    "    legend_title = \"Неделя:\" if by == \"user_week\" else \"Источник:\"\n",
    "    make_horizontal_legend(fig, legend_title, reversed_traceorder=True)\n",
    "\n",
    "    return fig"
   ]
  },
  {
   "cell_type": "code",
   "execution_count": null,
   "id": "01dadf28",
   "metadata": {
    "ExecuteTime": {
     "end_time": "2022-10-17T23:43:38.886646Z",
     "start_time": "2022-10-17T23:43:38.786408Z"
    }
   },
   "outputs": [],
   "source": [
    "interact(get_event_per_session_distribution, event_name=event_names_search_merged, by=[\"user_week\", \"source\"]);"
   ]
  },
  {
   "cell_type": "code",
   "execution_count": null,
   "id": "c379a8cd",
   "metadata": {
    "ExecuteTime": {
     "end_time": "2022-10-17T23:43:38.976016Z",
     "start_time": "2022-10-17T23:43:38.887548Z"
    }
   },
   "outputs": [],
   "source": [
    "get_event_per_session_distribution('tips_show', 'user_week')"
   ]
  },
  {
   "cell_type": "markdown",
   "id": "1beed12e",
   "metadata": {},
   "source": [
    "Везде экспоненциальные распределения. Когорты отличаются совсем немного. Можно было предположить, что удержание в последнее время стало меньше, потому что что-то поменялось на уровне событий, но в целом распределения остались те же."
   ]
  },
  {
   "cell_type": "markdown",
   "id": "4d2b3a0c",
   "metadata": {},
   "source": [
    "### Количество сессий на пользователя"
   ]
  },
  {
   "cell_type": "code",
   "execution_count": null,
   "id": "34fc0390",
   "metadata": {
    "ExecuteTime": {
     "end_time": "2022-10-17T23:43:38.981322Z",
     "start_time": "2022-10-17T23:43:38.977130Z"
    }
   },
   "outputs": [],
   "source": [
    "def get_sessions_distribution():\n",
    "    user_weeks = events.groupby(\"user_id\")[\"event_date\"].min().dt.isocalendar()[\"week\"]\n",
    "    session_counts = sessions.groupby(\"user_id\")[\"session\"].count().to_frame().join(user_weeks)\n",
    "\n",
    "    fig = px.histogram(\n",
    "        session_counts,\n",
    "        x=\"session\",\n",
    "        color=\"week\",\n",
    "        histnorm=\"probability\",\n",
    "        barmode=\"overlay\",\n",
    "        marginal=\"box\",\n",
    "        height=600,\n",
    "    )\n",
    "\n",
    "    fig.update_layout(\n",
    "        title=\"Распределение количества сессий на пользователя\",\n",
    "        xaxis_title=None,\n",
    "        yaxis_title=None,\n",
    "        xaxis_showgrid=True,\n",
    "        yaxis_tickformat=\"p\",\n",
    "        xaxis_rangeslider_visible=True,\n",
    "    )\n",
    "\n",
    "    fig.update_layout(xaxis2_showgrid=False)\n",
    "\n",
    "    make_horizontal_legend(fig, title=\"Неделя:\", reversed_traceorder=True)\n",
    "\n",
    "    return fig"
   ]
  },
  {
   "cell_type": "code",
   "execution_count": null,
   "id": "7907e513",
   "metadata": {
    "ExecuteTime": {
     "end_time": "2022-10-17T23:43:39.070555Z",
     "start_time": "2022-10-17T23:43:38.982880Z"
    }
   },
   "outputs": [],
   "source": [
    "get_sessions_distribution()"
   ]
  },
  {
   "cell_type": "markdown",
   "id": "1455a146",
   "metadata": {},
   "source": [
    "У половины пользователей была только 1 сессия. У 20% пользователей было 2 сессии, и у 10% — 3. При этом удержание на 5 день составляло ~6.5%, а пользователей с 5 сессиями всего ~1.8%. Значит пользователи заходят раз в пару дней.\n",
    "\n",
    "У 41 когорты слегка выше количество сессий на пользователя, а вот у 44 когорты самая высокая доля пользователей только с 1 сессией. На 10% выше, чем у остальных когорт. Получается, больше пользователей стало заходить в наше приложение только 1 раз.\n",
    "\n",
    "Есть выбросы в виде пользователей, у которых было от 10 сессий и вплоть до 99. Весьма странно выглядит этот пользователь, когда у 99% всех пользователей до 20 сессий. Отбросим этого пользователя, так как это может быть человек из команды разработчиков, например. Это можно уточнить у заказчика."
   ]
  },
  {
   "cell_type": "code",
   "execution_count": null,
   "id": "9353bde9",
   "metadata": {
    "ExecuteTime": {
     "end_time": "2022-10-17T23:43:39.086202Z",
     "start_time": "2022-10-17T23:43:39.071556Z"
    }
   },
   "outputs": [],
   "source": [
    "user_id_99 = sessions.query(\"session == 98\")[\"user_id\"].values[0]\n",
    "sources.drop(sources.query(\"user_id == @user_id_99\").index, inplace=True)\n",
    "events.drop(events.query(\"user_id == @user_id_99\").index, inplace=True)\n",
    "sessions.drop(sessions.query(\"user_id == @user_id_99\").index, inplace=True)"
   ]
  },
  {
   "cell_type": "markdown",
   "id": "01bb0ad8",
   "metadata": {},
   "source": [
    "### Продолжительность сессий"
   ]
  },
  {
   "cell_type": "code",
   "execution_count": null,
   "id": "e0b2fb0e",
   "metadata": {
    "ExecuteTime": {
     "end_time": "2022-10-17T23:43:39.090158Z",
     "start_time": "2022-10-17T23:43:39.087181Z"
    }
   },
   "outputs": [],
   "source": [
    "def get_session_duration_distribution():\n",
    "    fig = px.histogram(\n",
    "        sessions.query(\"total_events > 1\"),\n",
    "        x=\"duration_minutes\",\n",
    "        color=\"user_week\",\n",
    "        histnorm=\"probability\",\n",
    "        barmode=\"overlay\",\n",
    "        marginal=\"box\",\n",
    "        height=600,\n",
    "    )\n",
    "\n",
    "    fig.update_layout(\n",
    "        title=\"Распределение продолжительности сессий\",\n",
    "        xaxis_title=\"Минуты\",\n",
    "        yaxis_title=None,\n",
    "        xaxis_showgrid=True,\n",
    "        xaxis2_showgrid=False,\n",
    "        xaxis_rangeslider_visible=True,\n",
    "        yaxis_tickformat=\"p\",\n",
    "    )\n",
    "\n",
    "    make_horizontal_legend(fig, title=\"Неделя:\", reversed_traceorder=True)\n",
    "\n",
    "    return fig"
   ]
  },
  {
   "cell_type": "code",
   "execution_count": null,
   "id": "11615aab",
   "metadata": {
    "ExecuteTime": {
     "end_time": "2022-10-17T23:43:39.180877Z",
     "start_time": "2022-10-17T23:43:39.091159Z"
    }
   },
   "outputs": [],
   "source": [
    "fig = get_session_duration_distribution()\n",
    "fig.update_layout(title=None, xaxis_rangeslider_visible=False, height=450)"
   ]
  },
  {
   "cell_type": "markdown",
   "id": "598d1297",
   "metadata": {
    "ExecuteTime": {
     "end_time": "2022-09-29T09:28:50.734050Z",
     "start_time": "2022-09-29T09:28:50.726487Z"
    }
   },
   "source": [
    "Продолжительность сессий имеет экспоненциальное распределение. Больше всего сессий, которые длились меньше минуты, хотя в распределении не учитывались сессии с 1 событием. Однако есть сессии, которые длились больше 2 часов и вплоть до 5.5 часов.\n",
    "\n",
    "Медианная продолжительность сессии среди первых когорт составляет ~5 минут, однако у 44 когорты она больше 7 минут. \n",
    "\n",
    "Весьма непонятно, откуда взялись сессии продолжительностью по 3-5 часов. Очень маловероятно, что кто-то действительно провел в приложении столько времени."
   ]
  },
  {
   "cell_type": "code",
   "execution_count": null,
   "id": "89e3f00a",
   "metadata": {
    "ExecuteTime": {
     "end_time": "2022-10-17T23:43:39.199729Z",
     "start_time": "2022-10-17T23:43:39.193166Z"
    }
   },
   "outputs": [],
   "source": [
    "columns_to_show = [\"start\", \"end\", \"duration_minutes\", \"mean_minutes_between_events\"]\n",
    "sessions.query(\"duration_minutes > 300\")[event_names_search_merged + columns_to_show]"
   ]
  },
  {
   "cell_type": "markdown",
   "id": "b56a386e",
   "metadata": {},
   "source": [
    "Пользователь пролистал 85 объявлений и посмотрел 3 из них. И ему потребовалось на это 5 с половиной часов. Событие происходило в среднем раз в 3 с половиной минуты, что весьма долго, на мой взгляд. Однако, чтобы быть более объективными, посмотрим на распределение среднего времени между событиями в сессиях."
   ]
  },
  {
   "cell_type": "code",
   "execution_count": null,
   "id": "1401c9a0",
   "metadata": {
    "ExecuteTime": {
     "end_time": "2022-10-17T23:43:39.203656Z",
     "start_time": "2022-10-17T23:43:39.200666Z"
    }
   },
   "outputs": [],
   "source": [
    "def get_mean_minutes_between_events_distribution(by_cohort=None):\n",
    "    color = \"user_week\" if by_cohort else None\n",
    "\n",
    "    if by_cohort:\n",
    "        fig = px.histogram(\n",
    "            sessions,\n",
    "            x=\"mean_minutes_between_events\",\n",
    "            color=color,\n",
    "            barmode=\"overlay\",\n",
    "            histnorm=\"probability\",\n",
    "            marginal=\"box\",\n",
    "            height=550,\n",
    "        )\n",
    "    else:\n",
    "        fig = px.histogram(\n",
    "            sessions,\n",
    "            x=\"mean_minutes_between_events\",\n",
    "            color=color,\n",
    "            histnorm=\"probability\",\n",
    "            marginal=\"box\",\n",
    "            height=550,\n",
    "        )\n",
    "\n",
    "    fig.update_layout(\n",
    "        title=\"Распределение среднего времени между событиями в сессиях\",\n",
    "        xaxis_title=\"Минуты\",\n",
    "        yaxis_title=None,\n",
    "        xaxis_showgrid=True,\n",
    "        xaxis2_showgrid=False,\n",
    "        yaxis_tickformat=\"p\",\n",
    "        showlegend=False,\n",
    "    )\n",
    "\n",
    "    if by_cohort:\n",
    "        fig.update_layout(showlegend=True)\n",
    "        make_horizontal_legend(fig, \"Неделя:\", reversed_traceorder=True)\n",
    "\n",
    "    return fig"
   ]
  },
  {
   "cell_type": "code",
   "execution_count": null,
   "id": "3ea912f3",
   "metadata": {
    "ExecuteTime": {
     "end_time": "2022-10-17T23:43:39.274842Z",
     "start_time": "2022-10-17T23:43:39.204516Z"
    }
   },
   "outputs": [],
   "source": [
    "get_mean_minutes_between_events_distribution()"
   ]
  },
  {
   "cell_type": "markdown",
   "id": "be70f990",
   "metadata": {},
   "source": [
    "Интервал между событиям меньше 3.5 минут имеют 22% всех событий, что немало. Вполне возможно, что человек на что-то отвлекался. Но на протяжении 5 часов это становится маловероятно. Непонятно, откуда взялись такие сессии, но они явно не являются обычными сессиями. Отбросим сессии продолжительностью больше 2 часов."
   ]
  },
  {
   "cell_type": "code",
   "execution_count": null,
   "id": "8f04bec2",
   "metadata": {
    "ExecuteTime": {
     "end_time": "2022-10-17T23:43:39.280371Z",
     "start_time": "2022-10-17T23:43:39.275658Z"
    }
   },
   "outputs": [],
   "source": [
    "sessions_to_drop = sessions.query(\"duration_minutes > 120\")\n",
    "sessions.drop(sessions_to_drop.index, inplace=True)"
   ]
  },
  {
   "cell_type": "code",
   "execution_count": null,
   "id": "ad5e5529",
   "metadata": {
    "ExecuteTime": {
     "end_time": "2022-10-17T23:43:39.285549Z",
     "start_time": "2022-10-17T23:43:39.281326Z"
    }
   },
   "outputs": [],
   "source": [
    "print(\"Абсолютная потеря пользователей:\", len(sources) - sessions[\"user_id\"].nunique())\n",
    "print(f\"Относительная потеря пользователей: {100 - 100*sessions['user_id'].nunique() / len(sources):.2f}%\")"
   ]
  },
  {
   "cell_type": "code",
   "execution_count": null,
   "id": "a4835ac6",
   "metadata": {
    "ExecuteTime": {
     "end_time": "2022-10-17T23:43:39.296506Z",
     "start_time": "2022-10-17T23:43:39.286517Z"
    }
   },
   "outputs": [],
   "source": [
    "users_to_drop = set(sources.index) - set(sessions[\"user_id\"])\n",
    "sources.drop(sources.query(\"user_id in @users_to_drop\").index, inplace=True)\n",
    "events.drop(events.query(\"user_id in @users_to_drop\").index, inplace=True)"
   ]
  },
  {
   "cell_type": "code",
   "execution_count": null,
   "id": "1d9f4310",
   "metadata": {
    "ExecuteTime": {
     "end_time": "2022-10-17T23:43:39.300117Z",
     "start_time": "2022-10-17T23:43:39.297366Z"
    }
   },
   "outputs": [],
   "source": [
    "def get_hours_since_last_session():\n",
    "    fig = px.histogram(\n",
    "        sessions,\n",
    "        x=\"hours_since_last_session\",\n",
    "        color=\"user_week\",\n",
    "        histnorm=\"probability\",\n",
    "        barmode=\"overlay\",\n",
    "        marginal=\"box\",\n",
    "        height=600,\n",
    "    )\n",
    "\n",
    "    fig.update_layout(\n",
    "        title=\"Распределение перерыва между сессиями\",\n",
    "        xaxis_title=\"Часы\",\n",
    "        yaxis_title=None,\n",
    "        xaxis_showgrid=True,\n",
    "        xaxis2_showgrid=False,\n",
    "        xaxis_rangeslider_visible=True,\n",
    "        yaxis_tickformat=\"p\",\n",
    "    )\n",
    "\n",
    "    make_horizontal_legend(fig, title=\"Неделя:\", reversed_traceorder=True)\n",
    "\n",
    "    return fig"
   ]
  },
  {
   "cell_type": "code",
   "execution_count": null,
   "id": "d03510c7",
   "metadata": {
    "ExecuteTime": {
     "end_time": "2022-10-17T23:43:39.451978Z",
     "start_time": "2022-10-17T23:43:39.301186Z"
    }
   },
   "outputs": [],
   "source": [
    "get_hours_since_last_session()"
   ]
  },
  {
   "cell_type": "markdown",
   "id": "5d6d5565",
   "metadata": {},
   "source": [
    "Медианное время между сессиями – 17-19 часов, однако чаще всего пользователь заходит снова в приложении спустя 1-4 часа. У 44 когорты самое маленькое среднее время между сессиями, вероятно, потому что большинство из них зашло лишь в 1 день и все."
   ]
  },
  {
   "cell_type": "code",
   "execution_count": null,
   "id": "3a4641e1",
   "metadata": {
    "ExecuteTime": {
     "end_time": "2022-10-17T23:43:39.549241Z",
     "start_time": "2022-10-17T23:43:39.452911Z"
    }
   },
   "outputs": [],
   "source": [
    "get_mean_minutes_between_events_distribution(by_cohort=True)"
   ]
  },
  {
   "cell_type": "markdown",
   "id": "ebde5a46",
   "metadata": {},
   "source": [
    "Распределения времени между событиями в сессиях практически одинаковые, значит, приложение, вероятно, не тормозит. Но точно утверждать нельзя."
   ]
  },
  {
   "cell_type": "markdown",
   "id": "e94eacfe",
   "metadata": {},
   "source": [
    "## Профили пользователей"
   ]
  },
  {
   "cell_type": "markdown",
   "id": "41a3f382",
   "metadata": {},
   "source": [
    "### Создание профилей пользователей"
   ]
  },
  {
   "cell_type": "markdown",
   "id": "1074c0a4",
   "metadata": {},
   "source": [
    "Создадим профили пользователей. Добавим туда дату первого события, количество дней посещения, количество сессий и текущий лайфтайм пользователя."
   ]
  },
  {
   "cell_type": "code",
   "execution_count": null,
   "id": "f973b798",
   "metadata": {
    "ExecuteTime": {
     "end_time": "2022-10-17T23:43:39.590076Z",
     "start_time": "2022-10-17T23:43:39.550125Z"
    }
   },
   "outputs": [],
   "source": [
    "users = sources.copy(deep=True)\n",
    "users[\"first_event_date\"] = events.groupby(\"user_id\")[\"first_event_date\"].first()\n",
    "users[\"first_event_week\"] = users[\"first_event_date\"].dt.isocalendar()[\"week\"]\n",
    "users[\"current_lifetime\"] = events.groupby(\"user_id\")[\"lifetime\"].max()\n",
    "users[\"total_sessions\"] = sessions.groupby(\"user_id\")[\"session\"].count()\n",
    "users[\"total_days_active\"] = events.groupby(\"user_id\")[\"event_date\"].nunique()"
   ]
  },
  {
   "cell_type": "markdown",
   "id": "74670ac7",
   "metadata": {},
   "source": [
    "Так же добавим некоторую информацию о распределении продолжительности сессий пользователя — среднее и стандартное отклонение продолжительности сессий, и общее время, проведенное в приложении. И ту же информацию добавим для перерывов между сессиями и количества событий за сессию.\n",
    "\n",
    "Стандартное отклонение добавляется, чтобы можно было разделить пользователей, например, у которых много сессий с 1 событием. У такого пользователя стандартное отклонение количества событий за сессию будет больше, чем у других пользователей."
   ]
  },
  {
   "cell_type": "code",
   "execution_count": null,
   "id": "4dfd68e8",
   "metadata": {
    "ExecuteTime": {
     "end_time": "2022-10-17T23:43:39.761320Z",
     "start_time": "2022-10-17T23:43:39.590989Z"
    }
   },
   "outputs": [],
   "source": [
    "users[[\"mean_session_duration_minutes\", \"std_session_duration_minutes\"]] =\\\n",
    "sessions.query(\"total_events > 1\").groupby(\"user_id\")[\"duration_minutes\"].agg([\"mean\", \"std\"]).fillna(0)\n",
    "\n",
    "users[\"total_sessions_minutes\"] = sessions.groupby(\"user_id\")[\"duration_minutes\"].sum()\n",
    "\n",
    "users[[\"mean_hours_since_last_session\", \"std_hours_since_last_session\"]] =\\\n",
    "sessions.groupby(\"user_id\")[\"hours_since_last_session\"].agg([\"mean\", \"std\"])\n",
    "\n",
    "users[[\"mean_total_events_per_session\", \"std_total_events_per_session\"]] =\\\n",
    "sessions.groupby(\"user_id\")[\"total_events\"].agg([\"mean\", \"std\"]).fillna(0)"
   ]
  },
  {
   "cell_type": "code",
   "execution_count": null,
   "id": "1b695e35",
   "metadata": {
    "ExecuteTime": {
     "end_time": "2022-10-17T23:43:39.765096Z",
     "start_time": "2022-10-17T23:43:39.762172Z"
    }
   },
   "outputs": [],
   "source": [
    "users[\"mean_session_duration_minutes\"].isna().mean()"
   ]
  },
  {
   "cell_type": "markdown",
   "id": "5292112f",
   "metadata": {},
   "source": [
    "У 2% пользователей, у которых во всех сессиях было лишь 1 событие, среднюю продолжительность сессии заменим на медианное значение по пользователям."
   ]
  },
  {
   "cell_type": "code",
   "execution_count": null,
   "id": "7467b6b0",
   "metadata": {
    "ExecuteTime": {
     "end_time": "2022-10-17T23:43:39.768267Z",
     "start_time": "2022-10-17T23:43:39.766136Z"
    }
   },
   "outputs": [],
   "source": [
    "users[\"mean_session_duration_minutes\"].fillna(users[\"mean_session_duration_minutes\"].median(), inplace=True)"
   ]
  },
  {
   "cell_type": "markdown",
   "id": "5a916f8a",
   "metadata": {},
   "source": [
    "Добавим частоты событий на сессию."
   ]
  },
  {
   "cell_type": "code",
   "execution_count": null,
   "id": "81d5dfdc",
   "metadata": {
    "ExecuteTime": {
     "end_time": "2022-10-17T23:43:39.778960Z",
     "start_time": "2022-10-17T23:43:39.769186Z"
    }
   },
   "outputs": [],
   "source": [
    "users[pd.Index(event_names_search_merged) + \"_freq\"] =\\\n",
    "sessions.groupby(\"user_id\")[event_names_search_merged].sum().divide(users[\"total_sessions\"], axis=0)"
   ]
  },
  {
   "cell_type": "markdown",
   "id": "6cedb7f4",
   "metadata": {},
   "source": [
    "Добавим посещаемость - доля дней, в которые пользователь заходил в приложение."
   ]
  },
  {
   "cell_type": "code",
   "execution_count": null,
   "id": "589db1e9",
   "metadata": {
    "ExecuteTime": {
     "end_time": "2022-10-17T23:43:39.782840Z",
     "start_time": "2022-10-17T23:43:39.779814Z"
    }
   },
   "outputs": [],
   "source": [
    "users[\"attendance\"] = users[\"total_days_active\"] / ((events[\"event_date\"].max() - users[\"first_event_date\"]).dt.days + 1)"
   ]
  },
  {
   "cell_type": "code",
   "execution_count": null,
   "id": "1248d8d7",
   "metadata": {
    "ExecuteTime": {
     "end_time": "2022-10-17T23:43:39.791001Z",
     "start_time": "2022-10-17T23:43:39.783697Z"
    }
   },
   "outputs": [],
   "source": [
    "users.head(3)"
   ]
  },
  {
   "cell_type": "markdown",
   "id": "a0711762",
   "metadata": {},
   "source": [
    "### Конверсия в просмотр контактов"
   ]
  },
  {
   "cell_type": "code",
   "execution_count": null,
   "id": "aefc1c49",
   "metadata": {
    "ExecuteTime": {
     "end_time": "2022-10-17T23:43:39.794406Z",
     "start_time": "2022-10-17T23:43:39.791994Z"
    }
   },
   "outputs": [],
   "source": [
    "def plot_contacts_show_conversion_by_week():\n",
    "    has_contacts_show = users[[\"first_event_week\", \"contacts_show_freq\"]].copy(deep=True)\n",
    "    has_contacts_show[\"has_contacts_show\"] = has_contacts_show[\"contacts_show_freq\"] > 0\n",
    "    contacts_show_conversion = has_contacts_show.groupby(\"first_event_week\")[\"has_contacts_show\"].mean()\n",
    "\n",
    "    fig = px.line(contacts_show_conversion, title=\"Конверсия пользователей в просмотр контактов по неделям\")\n",
    "\n",
    "    fig.update_layout(\n",
    "        xaxis_title=None,\n",
    "        yaxis_title=None,\n",
    "        xaxis_linecolor=\"black\",\n",
    "        yaxis_linecolor=\"black\",\n",
    "        xaxis_tickmode=\"array\",\n",
    "        xaxis_tickvals=np.arange(41, 45),\n",
    "        yaxis_tickformat=\"p\",\n",
    "        yaxis_rangemode=\"tozero\",\n",
    "        showlegend=False,\n",
    "    )\n",
    "\n",
    "    return fig"
   ]
  },
  {
   "cell_type": "code",
   "execution_count": null,
   "id": "88204654",
   "metadata": {
    "ExecuteTime": {
     "end_time": "2022-10-17T23:43:39.843482Z",
     "start_time": "2022-10-17T23:43:39.795263Z"
    }
   },
   "outputs": [],
   "source": [
    "plot_contacts_show_conversion_by_week()"
   ]
  },
  {
   "cell_type": "markdown",
   "id": "36f954c3",
   "metadata": {},
   "source": [
    "В среднем, каждый 4-5 пользователь просматривал контакты. За 44 неделю самая низкая конверсия в просмотре контактов, на 3-4% меньше, чем у 41 и 43 недель. Так что вряд ли удержание уменьшилось, потому что приложение улучшилось."
   ]
  },
  {
   "cell_type": "code",
   "execution_count": null,
   "id": "f0e3cc28",
   "metadata": {
    "ExecuteTime": {
     "end_time": "2022-10-17T23:43:39.848032Z",
     "start_time": "2022-10-17T23:43:39.844498Z"
    }
   },
   "outputs": [],
   "source": [
    "def plot_contacts_show_conversion_by(by, capitalize_names=False):\n",
    "    has_contacts_show = users[[by, \"contacts_show_freq\"]].copy(deep=True)\n",
    "    has_contacts_show[\"has_contacts_show\"] = has_contacts_show[\"contacts_show_freq\"] > 0\n",
    "    contacts_show_conversion = has_contacts_show.groupby(by)[\"has_contacts_show\"].mean()\n",
    "\n",
    "    if capitalize_names:\n",
    "        contacts_show_conversion.index = contacts_show_conversion.index.str.capitalize()\n",
    "\n",
    "    fig = px.bar(contacts_show_conversion, text_auto=\".2p\", orientation=\"h\")\n",
    "\n",
    "    fig.update_layout(\n",
    "        title=\"Конверсия пользователей в просмотр контактов\",\n",
    "        xaxis_title=None,\n",
    "        yaxis_title=None,\n",
    "        yaxis_linecolor=\"black\",\n",
    "        xaxis_showticklabels=False,\n",
    "        yaxis_categoryorder=\"total ascending\",\n",
    "        xaxis_showgrid=False,\n",
    "        title_x=0.5,\n",
    "        showlegend=False,\n",
    "    )\n",
    "\n",
    "    return fig"
   ]
  },
  {
   "cell_type": "code",
   "execution_count": null,
   "id": "6bcd5e95",
   "metadata": {
    "ExecuteTime": {
     "end_time": "2022-10-17T23:43:39.900945Z",
     "start_time": "2022-10-17T23:43:39.849010Z"
    }
   },
   "outputs": [],
   "source": [
    "plot_contacts_show_conversion_by(\"source\", capitalize_names=True)"
   ]
  },
  {
   "cell_type": "markdown",
   "id": "1ac93efa",
   "metadata": {},
   "source": [
    "Между источниками есть небольшая разница в конверсии пользователей в просмотр контактов. Меньше всего эта конверсия у остальных источников."
   ]
  },
  {
   "cell_type": "markdown",
   "id": "dd6f3ace",
   "metadata": {},
   "source": [
    "### Частоты событий"
   ]
  },
  {
   "cell_type": "code",
   "execution_count": null,
   "id": "243bc955",
   "metadata": {
    "ExecuteTime": {
     "end_time": "2022-10-17T23:43:39.904661Z",
     "start_time": "2022-10-17T23:43:39.901926Z"
    }
   },
   "outputs": [],
   "source": [
    "def plot_event_distribution_by(event, by):\n",
    "\n",
    "    fig = px.histogram(users, x=event + \"_freq\", color=by, barmode=\"overlay\", histnorm=\"probability\", marginal=\"box\")\n",
    "\n",
    "    fig.update_layout(\n",
    "        title=f'Распределение частоты событий \"{event}\" на пользователя',\n",
    "        xaxis_title=None,\n",
    "        yaxis_title=None,\n",
    "        xaxis_showgrid=True,\n",
    "        xaxis_rangeslider_visible=True,\n",
    "        yaxis_tickformat=\"p\",\n",
    "        title_y=0.93,\n",
    "        margin=dict(t=120),\n",
    "        height=600,\n",
    "    )\n",
    "\n",
    "    legend_title = \"Неделя:\" if by == \"first_event_week\" else \"Источник:\"\n",
    "\n",
    "    make_horizontal_legend(fig, legend_title)\n",
    "\n",
    "    return fig"
   ]
  },
  {
   "cell_type": "code",
   "execution_count": null,
   "id": "0e291d79",
   "metadata": {
    "ExecuteTime": {
     "end_time": "2022-10-17T23:43:39.994342Z",
     "start_time": "2022-10-17T23:43:39.905654Z"
    }
   },
   "outputs": [],
   "source": [
    "interact(plot_event_distribution_by, event=event_names_search_merged, by=[\"first_event_week\", \"source\"]);"
   ]
  },
  {
   "cell_type": "markdown",
   "id": "d91ad93b",
   "metadata": {},
   "source": [
    "Снова видим, что распределения частот событий практически не отличаются между когортами. Видна существенная разница в частоте событий `map` у 44 когорты. У них на 10% выше доля пользователей без этих событий. У пользователей, пришедших от Google, на 10% выше доля пользователей без событий `tips_show`."
   ]
  },
  {
   "cell_type": "markdown",
   "id": "94ac89d6",
   "metadata": {},
   "source": [
    "## Выводы по анализу данных"
   ]
  },
  {
   "cell_type": "markdown",
   "id": "23a357bf",
   "metadata": {},
   "source": [
    "С Яндекса пришло 45% пользователей, а с Google и с других источников примерно одинаково – по 26-28%.\n",
    "\n",
    "**События**\n",
    "\n",
    "События распределены циклично — ночью активность ниже. Главная активность в приложении начинается примерно с 8 утра и идет на убыль после 22 вечера. Наблюдается спад активности с 17 по 19 — возможно, в это время люди едут с работы домой.\n",
    "\n",
    "Больше половины событий приходится на просмотр рекомендованных объявлений. После них идут просмотр фотографий в карточке объявления, поиск объявлений, открытие самого объявления и просмотр контактов. Несмотря на большой просмотр рекомендованных объявлений, переход по ним составляет всего ~2%. \n",
    "\n",
    "Пользователи с разных источников совершают примерно одинаковое количество событий. Ближе к вечеру пользователи больше склонны просматривать фотографии и добавлять объявления себе в избранные.\n",
    "\n",
    "\n",
    "**Удержание**\n",
    "\n",
    "\n",
    "Всего ~15% пользователей зашли в наше приложение на второй день. Остальные могли просто скачать приложение, найти, что им нужно, и больше не заходить туда. Или наоборот, не найти и потерять интерес к приложению. Через неделю в приложение заходит 5% пользователей, а через 2 недели – 2%.\n",
    "\n",
    "От источника удержание не зависит.\n",
    "\n",
    "При разбиении пользователей на недельные когорты, образовалось 4 когорты: с 41 недели по 44. Удержание у пользователей, пришедших в 44 неделю, гораздо ниже, чем у остальных когорт. У когорт первых 3 недель примерно одинаковые удержания, хотя у когорты 43 недели удержание на 14 день сильно ниже, чем у когорт 41 и 42 недель. \n",
    "\n",
    "Причем после 42 недели само количество новых пользователей в неделю начало немного снижаться. Возможно, дело в самом приложении или, может, в первые две недели приложение имело пик популярности, если оно только запустилось, или была активная реклама.\n",
    "\n",
    "Возможно множество причин, почему удержание стало меньше. Вот некоторые из них:\n",
    "\n",
    "1) Изменилось распределение событий. Например, рекомендованные объявления стали хуже совпадать с интересами пользователей. Тогда можно ожидать, что среднее количество просмотренных объявлений уменьшится.\n",
    "\n",
    "2) Технические проблемы в приложении. Количество пользователей растет, нагрузка на сервера увеличивается, и приложение начинает дольше работать. Можно ожидать увеличение среднего времени между событиями в сессии.\n",
    "\n",
    "3) Приложение на самом деле улучшилось, и пользователи стали быстрее находить то, что им нужно. Вероятно, увеличилась бы доля просмотра контактов и фотографий.\n",
    "\n",
    "4) Дело не в приложении, а во внешних факторах, например, в рекламе. Может, в первые недели приложение активно рекламировалось.\n",
    "\n",
    "**Сессии**\n",
    "\n",
    "Пользовательские сессии создавались на основе времени, прошедшего между соседними событиями. Считается, что сессия завершилась, если с момента последнего события прошло больше 30 минут. Были отброшены сессии с продолжительностью больше 2 часов, так как, вероятно, это ошибочные сессии.\n",
    "\n",
    "20% сессий содержат всего 1 событие, причем многим из этих событий должно что-то предшествовать (например, просмотру фотографий предшествует открытие объявление). Возможно, пользователи выходили из приложения на время, но оно оставалось в оперативной памяти телефона, и когда они заходили снова, приложение открывалось на месте, где пользователь остановился.\n",
    "\n",
    "Между когортами не очень много разницы в количестве событий на сессию, но она есть. Медианное количество событий за одну сессию для первых трех недель равно 4, а для последней 5. Распределения событий у когорт одинаковые, количество просмотров фотографий и контактов не увеличилось и не уменьшилось, так что вероятнее всего, приложение не улучшилось и не ухудшилось.\n",
    "\n",
    "У 41 когорты в среднем немного выше количество сессий на пользователя, а вот у 44 когорты самая высокая доля пользователей только с 1 сессией – 65%. На 10% выше, чем у остальных когорт. Получается, больше пользователей стало заходить в наше приложение только 1 раз.\n",
    "\n",
    "Медианная продолжительность сессии среди первых когорт составляет ~5 минут, однако у 44 когорты она больше 7 минут.\n",
    "\n",
    "Медианное время между сессиями – 17-19 часов, однако чаще всего пользователь заходит снова в приложении спустя 1-4 часа. У 44 когорты самое маленькое среднее время между сессиями, вероятно, потому что большинство из них зашло лишь в 1 день и все.\n",
    "\n",
    "Распределения времени между событиями в сессиях практически одинаковые, значит, приложение, скорее всего, не тормозит, и уменьшение удержания не связано с техническими проблемами.\n",
    "\n",
    "Следовательно, остается вариант, что удержание ухудшилось, потому что уменьшилась популярность самого приложения. Например, из-за уменьшения рекламы. Это также объясняет, почему количество новых пользователей в последнюю неделю стало меньше.\n",
    "\n",
    "**Конверсия в просмотр контактов**\n",
    "\n",
    "В среднем, 20-25% пользователей посмотрело контакты. За 44 неделю самая низкая конверсия в просмотре контактов – 21%, на 3-4% меньше, чем у 41 и 43 недель.\n",
    "\n",
    "У пользователей источников Google и Яндекс конверсия равна 24-25%, а у пользователей с других источников всего 19%."
   ]
  },
  {
   "cell_type": "markdown",
   "id": "54c9a147",
   "metadata": {},
   "source": [
    "# Сегментация пользователей"
   ]
  },
  {
   "cell_type": "markdown",
   "id": "dd6a583d",
   "metadata": {},
   "source": [
    "## Предобработка профилей пользователей"
   ]
  },
  {
   "cell_type": "markdown",
   "id": "efde139e",
   "metadata": {},
   "source": [
    "Перед сегментацией немного преобразуем профили пользователей, чтобы там были только числовые значения."
   ]
  },
  {
   "cell_type": "code",
   "execution_count": null,
   "id": "7e6f71e0",
   "metadata": {
    "ExecuteTime": {
     "end_time": "2022-10-17T23:43:39.999172Z",
     "start_time": "2022-10-17T23:43:39.995600Z"
    }
   },
   "outputs": [],
   "source": [
    "users_processed = users.copy(deep=True)"
   ]
  },
  {
   "cell_type": "markdown",
   "id": "0ed4912a",
   "metadata": {},
   "source": [
    "Чтобы не создавать слишком многоразмерные данные, закодируем источник не с помощью one-hot энкодинга, а с помощью частотного кодирования. Если использовать one-hot энкодинг, то у нас добавятся 2 дополнительных признака, когда у нас и так их больше 20, что может негативно повлиять и на качество сегментации, и на интерпретируемость.\n",
    "\n",
    "В целом, если у двух источников одинаковая частота, это не означает, что они одинаковые. Но в данной задаче источники мало влияют на метрики, за исключением конверсии. Конверсия выше у источников Google и Яндекса, но у них же и выше частота. В данном случае, частота источников коррелирует с конверсией пользователей, так что можно заменить one-hot энкодинг на частотное кодирование."
   ]
  },
  {
   "cell_type": "code",
   "execution_count": null,
   "id": "5c005e3f",
   "metadata": {
    "ExecuteTime": {
     "end_time": "2022-10-17T23:43:40.003099Z",
     "start_time": "2022-10-17T23:43:40.000008Z"
    }
   },
   "outputs": [],
   "source": [
    "users_processed[\"source\"] = users[\"source\"].astype(object).map(users[\"source\"].value_counts(normalize=True))"
   ]
  },
  {
   "cell_type": "markdown",
   "id": "159bd5a6",
   "metadata": {},
   "source": [
    "Удалим дату и неделю первого события, так как хорошо, чтобы кластеры не зависели от времени."
   ]
  },
  {
   "cell_type": "code",
   "execution_count": null,
   "id": "d901d33c",
   "metadata": {
    "ExecuteTime": {
     "end_time": "2022-10-17T23:43:40.005874Z",
     "start_time": "2022-10-17T23:43:40.003870Z"
    }
   },
   "outputs": [],
   "source": [
    "users_processed.drop([\"first_event_week\", \"first_event_date\"], axis=1, inplace=True)"
   ]
  },
  {
   "cell_type": "markdown",
   "id": "128f69c1",
   "metadata": {},
   "source": [
    "Заменим пропуски в столбцах `mean_hours_since_last_session` и `std_hours_since_last_session` на 0."
   ]
  },
  {
   "cell_type": "code",
   "execution_count": null,
   "id": "6b2f4aa1",
   "metadata": {
    "ExecuteTime": {
     "end_time": "2022-10-17T23:43:40.009144Z",
     "start_time": "2022-10-17T23:43:40.006820Z"
    }
   },
   "outputs": [],
   "source": [
    "users_processed.fillna(0, inplace=True)"
   ]
  },
  {
   "cell_type": "markdown",
   "id": "e4469921",
   "metadata": {},
   "source": [
    "Признаки имеют разный масштаб, так что стандартизируем их."
   ]
  },
  {
   "cell_type": "code",
   "execution_count": null,
   "id": "491d483b",
   "metadata": {
    "ExecuteTime": {
     "end_time": "2022-10-17T23:43:40.015435Z",
     "start_time": "2022-10-17T23:43:40.009936Z"
    }
   },
   "outputs": [],
   "source": [
    "users_processed_columns = users_processed.columns\n",
    "scaler = StandardScaler()\n",
    "users_processed = scaler.fit_transform(users_processed)"
   ]
  },
  {
   "cell_type": "markdown",
   "id": "edeb9d62",
   "metadata": {},
   "source": [
    "## Сегментация"
   ]
  },
  {
   "cell_type": "code",
   "execution_count": null,
   "id": "5d36977b",
   "metadata": {
    "ExecuteTime": {
     "end_time": "2022-10-17T23:43:40.239451Z",
     "start_time": "2022-10-17T23:43:40.016328Z"
    }
   },
   "outputs": [],
   "source": [
    "Z = linkage(users_processed, method=\"ward\")"
   ]
  },
  {
   "cell_type": "code",
   "execution_count": null,
   "id": "b9c6a5b5",
   "metadata": {
    "ExecuteTime": {
     "end_time": "2022-10-17T23:43:40.293166Z",
     "start_time": "2022-10-17T23:43:40.240346Z"
    }
   },
   "outputs": [],
   "source": [
    "dendrogram(Z, truncate_mode=\"level\", p=5, no_labels=True);"
   ]
  },
  {
   "cell_type": "markdown",
   "id": "79599f0c",
   "metadata": {},
   "source": [
    "Агломеративная кластеризация выделяет 2 основных кластера. Попробуем разделить пользователей с помощью метода k-средних."
   ]
  },
  {
   "cell_type": "code",
   "execution_count": null,
   "id": "ae079f85",
   "metadata": {
    "ExecuteTime": {
     "end_time": "2022-10-17T23:43:44.765351Z",
     "start_time": "2022-10-17T23:43:40.294278Z"
    }
   },
   "outputs": [],
   "source": [
    "kmeans = KMeans(2, n_init=1000, max_iter=10000)\n",
    "kmeans.fit(users_processed)"
   ]
  },
  {
   "cell_type": "markdown",
   "id": "e9894024",
   "metadata": {
    "ExecuteTime": {
     "end_time": "2022-10-04T19:34:58.143135Z",
     "start_time": "2022-10-04T19:34:58.135621Z"
    }
   },
   "source": [
    "Для оценки качества кластеров будем использовать коэффициент силуэта. Так же посмотрим на количество пользователей в каждом кластере. Кластеры с малым количеством пользователей не очень практичны и полезны."
   ]
  },
  {
   "cell_type": "code",
   "execution_count": null,
   "id": "8fa0427d",
   "metadata": {
    "ExecuteTime": {
     "end_time": "2022-10-17T23:43:44.969636Z",
     "start_time": "2022-10-17T23:43:44.766919Z"
    }
   },
   "outputs": [],
   "source": [
    "clusters = kmeans.predict(users_processed)\n",
    "silhouette_score(users_processed, clusters)"
   ]
  },
  {
   "cell_type": "code",
   "execution_count": null,
   "id": "cd110d3c",
   "metadata": {
    "ExecuteTime": {
     "end_time": "2022-10-17T23:43:44.974624Z",
     "start_time": "2022-10-17T23:43:44.971076Z"
    }
   },
   "outputs": [],
   "source": [
    "np.unique(clusters, return_counts=True)"
   ]
  },
  {
   "cell_type": "markdown",
   "id": "fc0d63c6",
   "metadata": {},
   "source": [
    "В кластерах присутствует большой дисбаланс количества пользователей. Попробуем другое количество кластеров."
   ]
  },
  {
   "cell_type": "code",
   "execution_count": null,
   "id": "f1511c0a",
   "metadata": {
    "ExecuteTime": {
     "end_time": "2022-10-17T23:43:44.978134Z",
     "start_time": "2022-10-17T23:43:44.975778Z"
    }
   },
   "outputs": [],
   "source": [
    "def silhouette_score_by_k(k):\n",
    "    kmeans = KMeans(k, n_init=1000, max_iter=10000)\n",
    "    kmeans.fit(users_processed)\n",
    "    clusters = kmeans.predict(users_processed)\n",
    "    labels, counts = np.unique(clusters, return_counts=True)\n",
    "    return silhouette_score(users_processed, clusters), counts"
   ]
  },
  {
   "cell_type": "code",
   "execution_count": null,
   "id": "2ed782f1",
   "metadata": {
    "ExecuteTime": {
     "end_time": "2022-10-17T23:44:35.152703Z",
     "start_time": "2022-10-17T23:43:44.979245Z"
    }
   },
   "outputs": [],
   "source": [
    "for k in tqdm(range(2, 9)):\n",
    "    k_silhouette_score, counts = silhouette_score_by_k(k)\n",
    "    print(f\"k={k},\", f\"silhouette score={k_silhouette_score:.3f},\", f\"counts={counts}\")"
   ]
  },
  {
   "cell_type": "markdown",
   "id": "ac065c9e",
   "metadata": {
    "ExecuteTime": {
     "end_time": "2022-10-04T19:31:11.826212Z",
     "start_time": "2022-10-04T19:31:11.812069Z"
    }
   },
   "source": [
    "Видна тенденция к уменьшению коэффициента силуэта при увеличении количества кластеров. Оптимальным количеством кластеров будет 3, так как 2 кластера могут не так хорошо сегментировать пользователей. К тому же, если кластеры окажутся одинаковыми, то можно их просто объединить.\n",
    "\n",
    "Эксперименты с другими более сложными методами, такими как DBSCAN и его более усовершенствованной версией OPTICS не принесли улучшение результата. Так что будем сегментировать на 3 кластера с помощью метода k-средних."
   ]
  },
  {
   "cell_type": "code",
   "execution_count": null,
   "id": "966bdada",
   "metadata": {
    "ExecuteTime": {
     "end_time": "2022-10-17T23:44:40.847825Z",
     "start_time": "2022-10-17T23:44:35.154597Z"
    }
   },
   "outputs": [],
   "source": [
    "kmeans = KMeans(3, n_init=1000, max_iter=10000)\n",
    "kmeans.fit(users_processed)"
   ]
  },
  {
   "cell_type": "code",
   "execution_count": null,
   "id": "074dd44b",
   "metadata": {
    "ExecuteTime": {
     "end_time": "2022-10-17T23:44:41.034606Z",
     "start_time": "2022-10-17T23:44:40.848827Z"
    }
   },
   "outputs": [],
   "source": [
    "clusters = kmeans.predict(users_processed)\n",
    "silhouette_score(users_processed, clusters)"
   ]
  },
  {
   "cell_type": "code",
   "execution_count": null,
   "id": "5ee2106e",
   "metadata": {
    "ExecuteTime": {
     "end_time": "2022-10-17T23:44:41.038952Z",
     "start_time": "2022-10-17T23:44:41.035786Z"
    }
   },
   "outputs": [],
   "source": [
    "np.unique(clusters, return_counts=True)"
   ]
  },
  {
   "cell_type": "markdown",
   "id": "bc7784d7",
   "metadata": {
    "ExecuteTime": {
     "end_time": "2022-10-05T17:31:11.438636Z",
     "start_time": "2022-10-05T17:31:11.431778Z"
    }
   },
   "source": [
    "Неплохое качество сегментации, однако в одном кластере количество пользователей всего немного выше 10% от количества пользователей в самом большом кластере. При меньшем количестве пользователей, статистическая разница между кластерами будет на уровне шума. Попробуем визуализировать с помощью уменьшения размерности данных."
   ]
  },
  {
   "cell_type": "markdown",
   "id": "e3ad3f1b",
   "metadata": {},
   "source": [
    "Перенумеруем кластеры так, чтобы кластер 0 был самым большим, кластер 1 меньше и так далее."
   ]
  },
  {
   "cell_type": "code",
   "execution_count": null,
   "id": "af486db1",
   "metadata": {
    "ExecuteTime": {
     "end_time": "2022-10-17T23:44:41.048239Z",
     "start_time": "2022-10-17T23:44:41.040029Z"
    }
   },
   "outputs": [],
   "source": [
    "users[\"cluster\"] = clusters\n",
    "\n",
    "cluster_counts = users[\"cluster\"].value_counts().to_frame()\n",
    "cluster_counts[\"cluster\"] = range(3)\n",
    "users[\"cluster\"] = users[\"cluster\"].map(cluster_counts.to_dict()[\"cluster\"])\n",
    "\n",
    "users[\"cluster\"] = users[\"cluster\"].astype(str).astype(\"category\")"
   ]
  },
  {
   "cell_type": "code",
   "execution_count": null,
   "id": "461ec7d5",
   "metadata": {
    "ExecuteTime": {
     "end_time": "2022-10-17T23:44:41.061042Z",
     "start_time": "2022-10-17T23:44:41.049426Z"
    }
   },
   "outputs": [],
   "source": [
    "events = events.join(users[\"cluster\"], on=\"user_id\")"
   ]
  },
  {
   "cell_type": "markdown",
   "id": "9cdb7bce",
   "metadata": {},
   "source": [
    "## Визуализация кластеров"
   ]
  },
  {
   "cell_type": "markdown",
   "id": "05bce36d",
   "metadata": {},
   "source": [
    "### PCA"
   ]
  },
  {
   "cell_type": "markdown",
   "id": "7865442b",
   "metadata": {},
   "source": [
    "Сначала попробуем отобразить данные в 3-мерное пространство с помощью метода главных компонент."
   ]
  },
  {
   "cell_type": "code",
   "execution_count": null,
   "id": "015932eb",
   "metadata": {
    "ExecuteTime": {
     "end_time": "2022-10-17T23:44:41.092686Z",
     "start_time": "2022-10-17T23:44:41.062182Z"
    }
   },
   "outputs": [],
   "source": [
    "pca = PCA(n_components=3)\n",
    "pca.fit(users_processed)"
   ]
  },
  {
   "cell_type": "code",
   "execution_count": null,
   "id": "a78fdfec",
   "metadata": {
    "ExecuteTime": {
     "end_time": "2022-10-17T23:44:41.096740Z",
     "start_time": "2022-10-17T23:44:41.093992Z"
    }
   },
   "outputs": [],
   "source": [
    "pca.explained_variance_ratio_.sum()"
   ]
  },
  {
   "cell_type": "markdown",
   "id": "758d2dea",
   "metadata": {},
   "source": [
    "PCA с 3 компонентами смог объяснить 41% дисперсии в данных, что не очень много, но хоть что-то. Посмотрим, какие признаки имеют больший вес в полученных компонентах."
   ]
  },
  {
   "cell_type": "code",
   "execution_count": null,
   "id": "a89bbac5",
   "metadata": {
    "ExecuteTime": {
     "end_time": "2022-10-17T23:44:41.103206Z",
     "start_time": "2022-10-17T23:44:41.097675Z"
    }
   },
   "outputs": [],
   "source": [
    "pd.DataFrame(\n",
    "    dict(\n",
    "        feature=users_processed_columns[np.abs(pca.components_).argmax(axis=-1)].tolist(),\n",
    "        weight=np.abs(pca.components_).max(axis=-1),\n",
    "    )\n",
    ").sort_values(by=\"weight\", ascending=False)"
   ]
  },
  {
   "cell_type": "markdown",
   "id": "fedfe8a8",
   "metadata": {},
   "source": [
    "Самый большой вес в компоненты внесли среднее количество событий за сессию, среднее количество часов с последней сессии и общее количество дней, в которые заходил пользователь. \n",
    "\n",
    "Строго говоря, не очень хорошо проводить кластеризацию с помощью таких признаков, как общее количество активных дней или общее время, проведенное в приложении. Потому что, когда к нам придет новый пользователь, у нас не будет этих признаков и мы не сможем, допустим, через неделю отнести его к какому-нибудь кластеру."
   ]
  },
  {
   "cell_type": "code",
   "execution_count": null,
   "id": "3161abcd",
   "metadata": {
    "ExecuteTime": {
     "end_time": "2022-10-17T23:44:41.106858Z",
     "start_time": "2022-10-17T23:44:41.104372Z"
    }
   },
   "outputs": [],
   "source": [
    "users_pca_decomposed = pca.transform(users_processed)"
   ]
  },
  {
   "cell_type": "code",
   "execution_count": null,
   "id": "54bb8f2a",
   "metadata": {
    "ExecuteTime": {
     "end_time": "2022-10-17T23:44:41.111552Z",
     "start_time": "2022-10-17T23:44:41.107787Z"
    }
   },
   "outputs": [],
   "source": [
    "def plot_users_decomposition(users_decomposed, method_name):\n",
    "    fig = px.scatter_3d(users_decomposed, x=0, y=1, z=2, color=clusters.astype(object),\n",
    "                        color_discrete_sequence=[\"#00CC96\", \"#EF553B\", \"#636EFA\"])\n",
    "\n",
    "    fig.update_layout(title=f\"Декомпозиция профилей пользователей с помощью {method_name}\", margin=dict(l=0, r=0))\n",
    "\n",
    "    fig.update_layout(\n",
    "        scene=dict(\n",
    "            xaxis_title=\"\", xaxis_showticklabels=False, xaxis_showgrid=False,\n",
    "            yaxis_title=\"\", yaxis_showticklabels=False, yaxis_showgrid=False,\n",
    "            zaxis_title=\"\", zaxis_showticklabels=False, zaxis_showgrid=False,\n",
    "        )\n",
    "    )\n",
    "\n",
    "    fig.update_layout(\n",
    "        legend=dict(\n",
    "            title=\"Кластер\",\n",
    "            xanchor=\"right\",\n",
    "            x=0.95,\n",
    "            yanchor=\"bottom\",\n",
    "            y=0.5,\n",
    "        )\n",
    "    )\n",
    "\n",
    "    return fig"
   ]
  },
  {
   "cell_type": "code",
   "execution_count": null,
   "id": "0e058b42",
   "metadata": {
    "ExecuteTime": {
     "end_time": "2022-10-17T23:44:41.202830Z",
     "start_time": "2022-10-17T23:44:41.112634Z"
    }
   },
   "outputs": [],
   "source": [
    "plot_users_decomposition(users_pca_decomposed, \"PCA\")"
   ]
  },
  {
   "cell_type": "markdown",
   "id": "c785ba87",
   "metadata": {},
   "source": [
    "Кластеры очень близко расположены друг к другу, и сложно сказать, что они разделимы. Попробуем UMAP – более быстрый аналог метода t-SNE, оптимизированный под большие данные."
   ]
  },
  {
   "cell_type": "markdown",
   "id": "73994556",
   "metadata": {},
   "source": [
    "### UMAP"
   ]
  },
  {
   "cell_type": "code",
   "execution_count": null,
   "id": "0aac7db0",
   "metadata": {
    "ExecuteTime": {
     "end_time": "2022-10-17T23:44:49.862436Z",
     "start_time": "2022-10-17T23:44:41.204416Z"
    }
   },
   "outputs": [],
   "source": [
    "umap = UMAP(n_components=3)\n",
    "umap.fit(users_processed);"
   ]
  },
  {
   "cell_type": "code",
   "execution_count": null,
   "id": "4cca4817",
   "metadata": {
    "ExecuteTime": {
     "end_time": "2022-10-17T23:44:49.923631Z",
     "start_time": "2022-10-17T23:44:49.863336Z"
    }
   },
   "outputs": [],
   "source": [
    "plot_users_decomposition(umap.embedding_, \"UMAP\")"
   ]
  },
  {
   "cell_type": "markdown",
   "id": "222aa3a7",
   "metadata": {
    "ExecuteTime": {
     "end_time": "2022-10-05T17:48:43.066725Z",
     "start_time": "2022-10-05T17:48:42.963285Z"
    }
   },
   "source": [
    "Еще хуже видно разбиение на кластеры с помощью метода UMAP. Вероятно, данные сами по себе не обладают четкой структурой."
   ]
  },
  {
   "cell_type": "markdown",
   "id": "8cabe4f9",
   "metadata": {},
   "source": [
    "## Статистики кластеров"
   ]
  },
  {
   "cell_type": "code",
   "execution_count": null,
   "id": "cb07a392",
   "metadata": {
    "ExecuteTime": {
     "end_time": "2022-10-17T23:44:49.926989Z",
     "start_time": "2022-10-17T23:44:49.924530Z"
    }
   },
   "outputs": [],
   "source": [
    "def get_users_by_clusters_distribution():\n",
    "    users_count = users[\"cluster\"].value_counts()\n",
    "    fig = px.pie(names=\"Cluster \" + users_count.index.astype(str), values=users_count, hole=0.4)\n",
    "\n",
    "    fig.update_layout(\n",
    "        title=\"Распределение количества пользователей по кластерам\",\n",
    "        title_x=0.5,\n",
    "        showlegend=False,\n",
    "    )\n",
    "    \n",
    "    fig.update_traces(texttemplate=\"%{label}<br>%{percent:.2p}\")\n",
    "\n",
    "    return fig"
   ]
  },
  {
   "cell_type": "code",
   "execution_count": null,
   "id": "2ab2e5cc",
   "metadata": {
    "ExecuteTime": {
     "end_time": "2022-10-17T23:44:49.969300Z",
     "start_time": "2022-10-17T23:44:49.928072Z"
    }
   },
   "outputs": [],
   "source": [
    "get_users_by_clusters_distribution()"
   ]
  },
  {
   "cell_type": "markdown",
   "id": "61804b59",
   "metadata": {},
   "source": [
    "На кластер 0 приходится ~74% всех пользователей, а на 2-й кластер только ~10%."
   ]
  },
  {
   "cell_type": "markdown",
   "id": "d5a616eb",
   "metadata": {
    "ExecuteTime": {
     "end_time": "2022-10-06T20:02:31.957742Z",
     "start_time": "2022-10-06T20:02:31.955642Z"
    }
   },
   "source": [
    "### Удержание пользователей"
   ]
  },
  {
   "cell_type": "code",
   "execution_count": null,
   "id": "864888a8",
   "metadata": {
    "ExecuteTime": {
     "end_time": "2022-10-17T23:44:49.973567Z",
     "start_time": "2022-10-17T23:44:49.970658Z"
    }
   },
   "outputs": [],
   "source": [
    "def get_retention_by_cluster(lifetime):\n",
    "    retention_rate = events.pivot_table(index=\"lifetime\", columns=\"cluster\", values=\"user_id\", aggfunc=\"nunique\")\n",
    "    retention_rate /= retention_rate.iloc[0]\n",
    "    retention_rate = retention_rate.iloc[range(1, lifetime + 1)]\n",
    "\n",
    "    fig = px.line(\n",
    "        retention_rate,\n",
    "        title=\"Удержание по кластерам\",\n",
    "        color_discrete_sequence=px.colors.sequential.Viridis[-1::-1],\n",
    "    )\n",
    "\n",
    "    fig.update_layout(\n",
    "        xaxis_title=\"Лайфтайм\",\n",
    "        yaxis_title=None,\n",
    "        xaxis_tickmode=\"array\",\n",
    "        xaxis_tickvals=np.arange(1, lifetime + 1),\n",
    "        xaxis_linecolor=\"black\",\n",
    "        yaxis_linecolor=\"black\",\n",
    "        yaxis_tickformat=\"p\",\n",
    "    )\n",
    "\n",
    "    make_horizontal_legend(fig, title=\"Кластер:\")\n",
    "\n",
    "    return fig"
   ]
  },
  {
   "cell_type": "code",
   "execution_count": null,
   "id": "513f4dfe",
   "metadata": {
    "ExecuteTime": {
     "end_time": "2022-10-17T23:44:50.047685Z",
     "start_time": "2022-10-17T23:44:49.974559Z"
    }
   },
   "outputs": [],
   "source": [
    "interact(get_retention_by_cluster, lifetime=(2, 27));"
   ]
  },
  {
   "cell_type": "markdown",
   "id": "ad4c8d98",
   "metadata": {},
   "source": [
    "У кластера 1 гораздо выше удержание — вероятно, это кластер с самыми лояльными пользователями. Кластеры 0 и 2 практически не отличаются по удержанию, хотя у кластера 2 она чуть выше."
   ]
  },
  {
   "cell_type": "markdown",
   "id": "9705b35c",
   "metadata": {},
   "source": [
    "### Конверсия в просмотр контактов"
   ]
  },
  {
   "cell_type": "code",
   "execution_count": null,
   "id": "3af3d9c1",
   "metadata": {
    "ExecuteTime": {
     "end_time": "2022-10-17T23:44:50.094709Z",
     "start_time": "2022-10-17T23:44:50.048598Z"
    }
   },
   "outputs": [],
   "source": [
    "plot_contacts_show_conversion_by(\"cluster\")"
   ]
  },
  {
   "cell_type": "markdown",
   "id": "66b5b79f",
   "metadata": {},
   "source": [
    "У кластера 1 снова выше конверсия, чем у остальных кластеров. У 2-го кластера немного выше конверсия, чем у 0-го кластера."
   ]
  },
  {
   "cell_type": "markdown",
   "id": "f2f2397d",
   "metadata": {},
   "source": [
    "### Продолжительность сессий"
   ]
  },
  {
   "cell_type": "code",
   "execution_count": null,
   "id": "ca30f7b6",
   "metadata": {
    "ExecuteTime": {
     "end_time": "2022-10-17T23:44:50.098144Z",
     "start_time": "2022-10-17T23:44:50.095520Z"
    }
   },
   "outputs": [],
   "source": [
    "def get_mean_session_duration_by_cluster():\n",
    "    fig = px.histogram(\n",
    "        users,\n",
    "        x=\"mean_session_duration_minutes\",\n",
    "        color=\"cluster\",\n",
    "        histnorm=\"probability\",\n",
    "        barmode=\"overlay\",\n",
    "        marginal=\"box\",\n",
    "    )\n",
    "\n",
    "    fig.update_layout(\n",
    "        title=\"Распределение средней продолжительности сессий\",\n",
    "        xaxis_title=\"Минуты\",\n",
    "        yaxis_title=None,\n",
    "        xaxis_showgrid=True,\n",
    "        yaxis_tickformat=\"p\",\n",
    "    )\n",
    "\n",
    "    make_horizontal_legend(fig, \"Кластер:\")\n",
    "\n",
    "    return fig"
   ]
  },
  {
   "cell_type": "code",
   "execution_count": null,
   "id": "4675e151",
   "metadata": {
    "ExecuteTime": {
     "end_time": "2022-10-17T23:44:50.167342Z",
     "start_time": "2022-10-17T23:44:50.099090Z"
    }
   },
   "outputs": [],
   "source": [
    "get_mean_session_duration_by_cluster()"
   ]
  },
  {
   "cell_type": "markdown",
   "id": "df2f91c6",
   "metadata": {
    "ExecuteTime": {
     "end_time": "2022-10-06T23:50:37.243340Z",
     "start_time": "2022-10-06T23:50:37.235644Z"
    }
   },
   "source": [
    "Как ни странно, у 2-го кластера распределение отличается от первых двух. У кластеров 0 и 1 распределения экспоненциальные и совпадают, а вот у 2-го кластера распределение больше похоже на нормальное и сильно правее. Пользователи 2-го кластера проводят в приложении в среднем по 40 минут, в то время как пользователи первых двух кластеров – по 9-12."
   ]
  },
  {
   "cell_type": "markdown",
   "id": "12ef8c2c",
   "metadata": {
    "ExecuteTime": {
     "end_time": "2022-10-06T23:50:12.366272Z",
     "start_time": "2022-10-06T23:50:12.361508Z"
    }
   },
   "source": [
    "## Выводы по сегментации"
   ]
  },
  {
   "cell_type": "markdown",
   "id": "49366019",
   "metadata": {},
   "source": [
    "**Кластеризация**\n",
    "\n",
    "Агломеративная кластеризация выделила 3 основных кластера. Для оценки качества кластеров использовался коэффициент силуэта. Эксперименты с методом k-средних и разным количеством кластеров показали, что самое лучшее качество кластеризации достигается при 2-х кластерах. Однако было выбрано 3 кластера, так как 2 кластера могут недостаточно сегментировать пользователей.\n",
    "\n",
    "Эксперименты с другими более сложными методами, такими как DBSCAN и его более усовершенствованной версией OPTICS не принесли улучшение результата. Итоговая кластеризация проводилась с помощью метода k-средних, используя 3 кластера.\n",
    "\n",
    "Итоговое значение коэффициента силуэта равно 0.31. Визуализация с помощью уменьшения размерности показывает, что данные сами по себе не обладают четкой структурой.\n",
    "\n",
    "**Статистики кластеров**\n",
    "\n",
    "В образовавшихся кластерах (0, 1, 2) присутствует большой дисбаланс количества пользователей. На кластер 0 приходится 74% всех пользователей, на 1-ый кластер 16%, а на 2-й только 11%.\n",
    "\n",
    "У кластера 1 гораздо выше удержание — вероятно, это кластер с самыми лояльными пользователями. Кластеры 0 и 2 практически не отличаются по конверсии, хотя у 2-го кластера она чуть выше. Через неделю у кластера 0 удержание равно 23%, а у кластеров 0 и 2 удержание равно ~1.5%.\n",
    "\n",
    "У кластера 1 самая высокая конверсия в просмотр контактов – 37%. У кластера 2 конверсия равна 26%, а кластера 0 – 19%.\n",
    "\n",
    "У 2-го кластера распределение средней продолжительности сессии отличается от первых двух кластеров. У кластеров 0 и 1 распределения экспоненциальные и совпадают, а вот у 2-го кластера распределение больше похоже на нормальное и сильно правее. Пользователи 2-го кластера проводят в приложении в среднем по 40 минут, в то время как пользователи первых двух кластеров – по 8-9.\n",
    "\n",
    "**Итоговые описания**\n",
    "\n",
    "Кластер 0 представляет большинство пользователей – 74% всех пользователей. В этом кластере ниже всего удержание и конверсия по сравнению с остальными кластерами.\n",
    "\n",
    "Кластер 1 представляет самых лояльных пользователей – 16% всех пользователей. Здесь самые высокие удержание и конверсия в просмотр контактов.\n",
    "\n",
    "Кластер 2 представляет пользователей, которые больше всего проводят времени в приложении – 10%. Здесь такое же удержание, как и у большинства пользователей, однако выше конверсия в просмотр контактов."
   ]
  },
  {
   "cell_type": "markdown",
   "id": "9f00f579",
   "metadata": {},
   "source": [
    "# Проверка гипотез"
   ]
  },
  {
   "cell_type": "markdown",
   "id": "954b16d2",
   "metadata": {
    "ExecuteTime": {
     "end_time": "2022-10-06T17:16:00.398405Z",
     "start_time": "2022-10-06T17:16:00.388127Z"
    }
   },
   "source": [
    "Будем сравнивать конверсию в просмотр контактов по источникам и кластерам. У нас 3 источника и 2 кластера, что дает 5 гипотез. При увеличении количества гипотез, увеличивается вероятность ложного отвержения нулевой гипотезы. Чтобы этого избежать, применим поправку Шидака к уровню значимости. Положим, что мы хотим, чтобы групповая вероятность ошибки первого рода была меньше 0.05."
   ]
  },
  {
   "cell_type": "code",
   "execution_count": null,
   "id": "c98d6562",
   "metadata": {
    "ExecuteTime": {
     "end_time": "2022-10-17T23:44:50.170730Z",
     "start_time": "2022-10-17T23:44:50.168141Z"
    }
   },
   "outputs": [],
   "source": [
    "a_group = 0.05\n",
    "a_single = 1 - (1 - a_group) ** (1 / 5)\n",
    "a_single"
   ]
  },
  {
   "cell_type": "markdown",
   "id": "9bed7c31",
   "metadata": {},
   "source": [
    "Наш уровень значимости для каждой гипотезы будет равен 0.01. Проверять гипотезы будем с помощью t-теста."
   ]
  },
  {
   "cell_type": "code",
   "execution_count": null,
   "id": "e7f36e11",
   "metadata": {
    "ExecuteTime": {
     "end_time": "2022-10-17T23:44:50.173754Z",
     "start_time": "2022-10-17T23:44:50.171427Z"
    }
   },
   "outputs": [],
   "source": [
    "def get_pvalues_by(by):\n",
    "    has_contacts_show = users[[by, \"contacts_show_freq\"]].copy(deep=True)\n",
    "    has_contacts_show[\"has_contacts_show\"] = has_contacts_show[\"contacts_show_freq\"] > 0\n",
    "    groups = has_contacts_show.groupby(by)[\"has_contacts_show\"]\n",
    "\n",
    "    pvalues = {}\n",
    "\n",
    "    for by_1, by_2 in combinations(groups.groups.keys(), 2):\n",
    "        pvalues[(by_1, by_2)] = stats.ttest_ind(groups.get_group(by_1), groups.get_group(by_2)).pvalue\n",
    "\n",
    "    return pvalues"
   ]
  },
  {
   "cell_type": "markdown",
   "id": "673f339a",
   "metadata": {},
   "source": [
    "## Конверсия в просмотр контактов по источнику"
   ]
  },
  {
   "cell_type": "markdown",
   "id": "60927de4",
   "metadata": {},
   "source": [
    "У нас 3 источника, попарно сравним конверсии в просмотр контактов между ними.\n",
    "\n",
    "**Нулевая гипотеза:** между источниками `A` и `B` нет разницы в конверсии в просмотр контактов.\n",
    "\n",
    "**Альтернативная гипотеза:** между источниками `A` и `B` есть разница в конверсии в просмотр контактов.\n",
    "\n",
    "Где `A` и `B` – поочередно источники Google, Яндекс и другие."
   ]
  },
  {
   "cell_type": "code",
   "execution_count": null,
   "id": "1d61ee41",
   "metadata": {
    "ExecuteTime": {
     "end_time": "2022-10-17T23:44:50.179950Z",
     "start_time": "2022-10-17T23:44:50.174421Z"
    }
   },
   "outputs": [],
   "source": [
    "get_pvalues_by(\"source\")"
   ]
  },
  {
   "cell_type": "markdown",
   "id": "adf371e7",
   "metadata": {},
   "source": [
    "P-значения для других источников и источников Google и Яндекс меньше чем 0.01, поэтому можно отвергнуть нулевую гипотезу и принять альтернативную гипотезу, что конверсии отличаются. \n",
    "\n",
    "А вот между источниками Google и Яндекс p-значение слишком велико, чтобы отвергать нулевую гипотезу."
   ]
  },
  {
   "cell_type": "markdown",
   "id": "5fa18683",
   "metadata": {
    "ExecuteTime": {
     "end_time": "2022-10-06T10:54:52.640654Z",
     "start_time": "2022-10-06T10:54:52.628591Z"
    }
   },
   "source": [
    "## Конверсия в просмотр контактов по кластеру"
   ]
  },
  {
   "cell_type": "markdown",
   "id": "de2b3d12",
   "metadata": {},
   "source": [
    "У нас 3 кластера, попарно сравним конверсии в просмотр контактов между ними.\n",
    "\n",
    "**Нулевая гипотеза:** между кластерами `A` и `B` нет разницы в конверсии в просмотр контактов.\n",
    "\n",
    "**Альтернативная гипотеза:** между кластерами `A` и `B` есть разница в конверсии в просмотр контактов.\n",
    "\n",
    "Где `A` и `B` – поочередно кластеры 0, 1 и 2."
   ]
  },
  {
   "cell_type": "code",
   "execution_count": null,
   "id": "155b6f4a",
   "metadata": {
    "ExecuteTime": {
     "end_time": "2022-10-17T23:44:50.185103Z",
     "start_time": "2022-10-17T23:44:50.181017Z"
    }
   },
   "outputs": [],
   "source": [
    "get_pvalues_by(\"cluster\")"
   ]
  },
  {
   "cell_type": "markdown",
   "id": "c7513d56",
   "metadata": {},
   "source": [
    "Все p-значения меньше 0.01, так что можно отвергнуть нулевую гипотезу и принять альтернативную, что конверсии между кластерами отличаются."
   ]
  },
  {
   "cell_type": "markdown",
   "id": "e60cfae1",
   "metadata": {},
   "source": [
    "## Выводы по проверке гипотез"
   ]
  },
  {
   "cell_type": "markdown",
   "id": "78f51037",
   "metadata": {},
   "source": [
    "Было проверено 5 гипотез с помощью t-теста. Чтобы получить групповую вероятность ошибки первого рода меньше 0.05, к уровню значимости была применена поправка Шидака, что дало уровень значимости 0.01 для каждой гипотезы.\n",
    "\n",
    "В результате проверки гипотез, можно сказать, что конверсии в просмотр контактов различаются между остальными источниками и источником Google/Яндекс. Между источниками Google и Яндекс статистически значимой разницы в конверсии нет.\n",
    "\n",
    "Между всеми кластерами есть статистически значимая разница в конверсии в просмотр контактов."
   ]
  },
  {
   "cell_type": "markdown",
   "id": "a3403e5c",
   "metadata": {},
   "source": [
    "# Итог"
   ]
  },
  {
   "cell_type": "markdown",
   "id": "09ad2be2",
   "metadata": {},
   "source": [
    "**Предобработка данных**\n",
    "\n",
    "Данные с 7 октября по 3 ноября 2019 года. Явных и неявных пропусков нет. Неявные дубликаты `contacts_show` и `show_contacts` были преобразованы к одному значению `contacts_show`. Было удалено 1.5% дублирующих друг друга событий.\n",
    "\n",
    "**Исследовательский анализ данных**\n",
    "\n",
    "Всего ~15% пользователей зашли в наше приложение на второй день. Остальные могли просто скачать приложение, найти, что им нужно, и больше не заходить туда. Или наоборот, не найти и потерять интерес к приложению. Через неделю в приложение заходит 5% пользователей, а через 2 недели – 2%.\n",
    "\n",
    "От источника удержание не зависит.\n",
    "\n",
    "При разбиении пользователей на недельные когорты, образовалось 4 когорты: с 41 недели по 44. Удержание у пользователей, пришедших в 44 неделю, гораздо ниже, чем у остальных когорт. У когорт первых 3 недель примерно одинаковые удержания, хотя у когорты 43 недели удержание на 14 день сильно ниже, чем у когорт 41 и 42 недель.\n",
    "\n",
    "Когорты не отличаются в распределениях событий на сессию. Распределение просмотренных фотографий и контактов не изменилось, что говорит о том, что удержание упало не из-за того, что приложение как-то изменилось. \n",
    "\n",
    "Когорты не отличаются по промежутку времени между событиями в сессиях. Это значит, что приложение не стало зависать или слишком медленно работать. Значит, падение удержания не связано с техническими проблемами.\n",
    "\n",
    "Остается возможным то, что удержание уменьшилось из-за снижения популярности приложения.\n",
    "\n",
    "В среднем, 20-25% пользователей посмотрело контакты. За 44 неделю самая низкая конверсия в просмотре контактов – 21%, на 3-4% меньше, чем у 41 и 43 недель.\n",
    "\n",
    "У пользователей источников Google и Яндекс конверсия равна 24-25%, а у пользователей с других источников всего 19%.\n",
    "\n",
    "**Сегментация пользователей**\n",
    "\n",
    "Кластеризация проводилась с помощью метода k-средних. \n",
    "\n",
    "В образовавшихся кластерах (0, 1, 2) присутствует большой дисбаланс количества пользователей. На кластер 0 приходится 74% всех пользователей, на 1-ый кластер 16%, а на 2-й только 11%.\n",
    "\n",
    "У кластера 1 гораздо выше удержание — вероятно, это кластер с самыми лояльными пользователями. Кластеры 0 и 2 практически не отличаются по конверсии. Через неделю у 0-го кластера удержание равно 23%, а у кластеров 0 и 2 удержание равно ~1.5%.\n",
    "\n",
    "У кластера 1 самая высокая конверсия в просмотр контактов – 37%. У кластера 2 конверсия равна 26%, а кластера 0 – 19%.\n",
    "\n",
    "У 2-го кластера распределение средней продолжительности сессии отличается от первых двух кластеров. У кластеров 0 и 1 распределения экспоненциальные и совпадают, а вот у 2-го кластера распределение больше похоже на нормальное и сильно правее. Пользователи 2-го кластера проводят в приложении в среднем по 40 минут, в то время как пользователи первых двух кластеров – по 8-9.\n",
    "\n",
    "Кластер 0 представляет большинство пользователей – 74% всех пользователей. В этом кластере ниже всего удержание и конверсия по сравнению с остальными кластерами.\n",
    "\n",
    "Кластер 1 представляет самых лояльных пользователей – 16% всех пользователей. Здесь самые высокие удержание и конверсия в просмотр контактов.\n",
    "\n",
    "Кластер 2 представляет пользователей, которые больше всего проводят времени в приложении – 10%. Здесь такое же удержание, как и у большинства пользователей, однако выше конверсия в просмотр контактов.\n",
    "\n",
    "**Проверка гипотез**\n",
    "\n",
    "Было проверено 5 гипотез с помощью t-теста. Чтобы получить групповую вероятность ошибки первого рода меньше 0.05, к уровню значимости была применена поправка Шидака, что дало уровень значимости 0.01 для каждой гипотезы.\n",
    "\n",
    "В результате проверки гипотез, можно сказать, что конверсии в просмотр контактов различаются между остальными источниками и источником Google/Яндекс. Между источниками Google и Яндекс статистически значимой разницы в конверсии нет.\n",
    "\n",
    "Между всеми кластерами есть статистически значимая разница в конверсии в просмотр контактов."
   ]
  },
  {
   "cell_type": "markdown",
   "id": "8a68e10a",
   "metadata": {
    "ExecuteTime": {
     "end_time": "2022-10-09T18:24:09.065058Z",
     "start_time": "2022-10-09T18:24:09.051398Z"
    }
   },
   "source": [
    "# Рекомендации"
   ]
  },
  {
   "cell_type": "markdown",
   "id": "b766cd6c",
   "metadata": {},
   "source": [
    "Если популярность приложения падает, то можно увеличить количество рекламы и источников пользователей. На рынке присутствуют другие торговые площадки – возможно, пользователи уходят к ним. Стоит посмотреть, что предлагают конкуренты.\n",
    "\n",
    "По возможности увеличить рекламу на источниках Google и Яндекс, так как у пользователей с этих источников конверсия выше на 6-7%.\n",
    "\n",
    "Можно провести UX-интервью с пользователями кластеров 1 и 2 с целью понять, что мотивирует заходить их в приложение чаще и проводить в нем больше времени. Почему они выбирают именно наш продукт.\n",
    "\n",
    "С пользователями кластера 0 тоже можно провести UX-интервью, чтобы понять почему они перестали пользоваться нашим приложением, или что заставило их перейти на другую торговую площадку."
   ]
  }
 ],
 "metadata": {
  "ExecuteTimeLog": [
   {
    "duration": 50,
    "start_time": "2022-10-08T16:17:06.066Z"
   },
   {
    "duration": 7,
    "start_time": "2022-10-08T16:17:16.391Z"
   },
   {
    "duration": 31,
    "start_time": "2022-10-08T16:17:18.397Z"
   },
   {
    "duration": 40,
    "start_time": "2022-10-08T16:18:11.664Z"
   },
   {
    "duration": 1875,
    "start_time": "2022-10-08T16:18:11.707Z"
   },
   {
    "duration": 0,
    "start_time": "2022-10-08T16:18:13.588Z"
   },
   {
    "duration": 0,
    "start_time": "2022-10-08T16:18:13.590Z"
   },
   {
    "duration": 0,
    "start_time": "2022-10-08T16:18:13.592Z"
   },
   {
    "duration": 0,
    "start_time": "2022-10-08T16:18:13.593Z"
   },
   {
    "duration": 0,
    "start_time": "2022-10-08T16:18:13.595Z"
   },
   {
    "duration": 1,
    "start_time": "2022-10-08T16:18:13.596Z"
   },
   {
    "duration": 0,
    "start_time": "2022-10-08T16:18:13.598Z"
   },
   {
    "duration": 0,
    "start_time": "2022-10-08T16:18:13.599Z"
   },
   {
    "duration": 0,
    "start_time": "2022-10-08T16:18:13.601Z"
   },
   {
    "duration": 0,
    "start_time": "2022-10-08T16:18:13.602Z"
   },
   {
    "duration": 0,
    "start_time": "2022-10-08T16:18:13.604Z"
   },
   {
    "duration": 0,
    "start_time": "2022-10-08T16:18:13.605Z"
   },
   {
    "duration": 0,
    "start_time": "2022-10-08T16:18:13.606Z"
   },
   {
    "duration": 0,
    "start_time": "2022-10-08T16:18:13.608Z"
   },
   {
    "duration": 0,
    "start_time": "2022-10-08T16:18:13.610Z"
   },
   {
    "duration": 0,
    "start_time": "2022-10-08T16:18:13.612Z"
   },
   {
    "duration": 0,
    "start_time": "2022-10-08T16:18:13.614Z"
   },
   {
    "duration": 0,
    "start_time": "2022-10-08T16:18:13.615Z"
   },
   {
    "duration": 0,
    "start_time": "2022-10-08T16:18:13.655Z"
   },
   {
    "duration": 0,
    "start_time": "2022-10-08T16:18:13.656Z"
   },
   {
    "duration": 0,
    "start_time": "2022-10-08T16:18:13.657Z"
   },
   {
    "duration": 0,
    "start_time": "2022-10-08T16:18:13.659Z"
   },
   {
    "duration": 0,
    "start_time": "2022-10-08T16:18:13.661Z"
   },
   {
    "duration": 0,
    "start_time": "2022-10-08T16:18:13.662Z"
   },
   {
    "duration": 0,
    "start_time": "2022-10-08T16:18:13.664Z"
   },
   {
    "duration": 0,
    "start_time": "2022-10-08T16:18:13.665Z"
   },
   {
    "duration": 0,
    "start_time": "2022-10-08T16:18:13.667Z"
   },
   {
    "duration": 0,
    "start_time": "2022-10-08T16:18:13.668Z"
   },
   {
    "duration": 0,
    "start_time": "2022-10-08T16:18:13.674Z"
   },
   {
    "duration": 0,
    "start_time": "2022-10-08T16:18:13.675Z"
   },
   {
    "duration": 0,
    "start_time": "2022-10-08T16:18:13.676Z"
   },
   {
    "duration": 0,
    "start_time": "2022-10-08T16:18:13.677Z"
   },
   {
    "duration": 0,
    "start_time": "2022-10-08T16:18:13.678Z"
   },
   {
    "duration": 0,
    "start_time": "2022-10-08T16:18:13.679Z"
   },
   {
    "duration": 0,
    "start_time": "2022-10-08T16:18:13.679Z"
   },
   {
    "duration": 0,
    "start_time": "2022-10-08T16:18:13.681Z"
   },
   {
    "duration": 0,
    "start_time": "2022-10-08T16:18:13.682Z"
   },
   {
    "duration": 0,
    "start_time": "2022-10-08T16:18:13.683Z"
   },
   {
    "duration": 0,
    "start_time": "2022-10-08T16:18:13.685Z"
   },
   {
    "duration": 0,
    "start_time": "2022-10-08T16:18:13.686Z"
   },
   {
    "duration": 0,
    "start_time": "2022-10-08T16:18:13.688Z"
   },
   {
    "duration": 0,
    "start_time": "2022-10-08T16:18:13.689Z"
   },
   {
    "duration": 0,
    "start_time": "2022-10-08T16:18:13.691Z"
   },
   {
    "duration": 0,
    "start_time": "2022-10-08T16:18:13.693Z"
   },
   {
    "duration": 0,
    "start_time": "2022-10-08T16:18:13.694Z"
   },
   {
    "duration": 0,
    "start_time": "2022-10-08T16:18:13.695Z"
   },
   {
    "duration": 0,
    "start_time": "2022-10-08T16:18:13.755Z"
   },
   {
    "duration": 0,
    "start_time": "2022-10-08T16:18:13.757Z"
   },
   {
    "duration": 0,
    "start_time": "2022-10-08T16:18:13.758Z"
   },
   {
    "duration": 0,
    "start_time": "2022-10-08T16:18:13.759Z"
   },
   {
    "duration": 0,
    "start_time": "2022-10-08T16:18:13.761Z"
   },
   {
    "duration": 0,
    "start_time": "2022-10-08T16:18:13.763Z"
   },
   {
    "duration": 0,
    "start_time": "2022-10-08T16:18:13.764Z"
   },
   {
    "duration": 0,
    "start_time": "2022-10-08T16:18:13.766Z"
   },
   {
    "duration": 0,
    "start_time": "2022-10-08T16:18:13.767Z"
   },
   {
    "duration": 0,
    "start_time": "2022-10-08T16:18:13.769Z"
   },
   {
    "duration": 0,
    "start_time": "2022-10-08T16:18:13.770Z"
   },
   {
    "duration": 0,
    "start_time": "2022-10-08T16:18:13.772Z"
   },
   {
    "duration": 0,
    "start_time": "2022-10-08T16:18:13.773Z"
   },
   {
    "duration": 0,
    "start_time": "2022-10-08T16:18:13.774Z"
   },
   {
    "duration": 0,
    "start_time": "2022-10-08T16:18:13.775Z"
   },
   {
    "duration": 0,
    "start_time": "2022-10-08T16:18:13.776Z"
   },
   {
    "duration": 0,
    "start_time": "2022-10-08T16:18:13.777Z"
   },
   {
    "duration": 0,
    "start_time": "2022-10-08T16:18:13.779Z"
   },
   {
    "duration": 0,
    "start_time": "2022-10-08T16:18:13.780Z"
   },
   {
    "duration": 0,
    "start_time": "2022-10-08T16:18:13.781Z"
   },
   {
    "duration": 0,
    "start_time": "2022-10-08T16:18:13.782Z"
   },
   {
    "duration": 0,
    "start_time": "2022-10-08T16:18:13.783Z"
   },
   {
    "duration": 0,
    "start_time": "2022-10-08T16:18:13.784Z"
   },
   {
    "duration": 0,
    "start_time": "2022-10-08T16:18:13.785Z"
   },
   {
    "duration": 0,
    "start_time": "2022-10-08T16:18:13.786Z"
   },
   {
    "duration": 0,
    "start_time": "2022-10-08T16:18:13.787Z"
   },
   {
    "duration": 0,
    "start_time": "2022-10-08T16:18:13.788Z"
   },
   {
    "duration": 0,
    "start_time": "2022-10-08T16:18:13.789Z"
   },
   {
    "duration": 0,
    "start_time": "2022-10-08T16:18:13.853Z"
   },
   {
    "duration": 0,
    "start_time": "2022-10-08T16:18:13.855Z"
   },
   {
    "duration": 0,
    "start_time": "2022-10-08T16:18:13.856Z"
   },
   {
    "duration": 0,
    "start_time": "2022-10-08T16:18:13.857Z"
   },
   {
    "duration": 0,
    "start_time": "2022-10-08T16:18:13.858Z"
   },
   {
    "duration": 0,
    "start_time": "2022-10-08T16:18:13.860Z"
   },
   {
    "duration": 0,
    "start_time": "2022-10-08T16:18:13.861Z"
   },
   {
    "duration": 0,
    "start_time": "2022-10-08T16:18:13.862Z"
   },
   {
    "duration": 0,
    "start_time": "2022-10-08T16:18:13.863Z"
   },
   {
    "duration": 0,
    "start_time": "2022-10-08T16:18:13.864Z"
   },
   {
    "duration": 0,
    "start_time": "2022-10-08T16:18:13.865Z"
   },
   {
    "duration": 0,
    "start_time": "2022-10-08T16:18:13.866Z"
   },
   {
    "duration": 0,
    "start_time": "2022-10-08T16:18:13.867Z"
   },
   {
    "duration": 0,
    "start_time": "2022-10-08T16:18:13.868Z"
   },
   {
    "duration": 0,
    "start_time": "2022-10-08T16:18:13.870Z"
   },
   {
    "duration": 0,
    "start_time": "2022-10-08T16:18:13.871Z"
   },
   {
    "duration": 0,
    "start_time": "2022-10-08T16:18:13.872Z"
   },
   {
    "duration": 0,
    "start_time": "2022-10-08T16:18:13.873Z"
   },
   {
    "duration": 0,
    "start_time": "2022-10-08T16:18:13.875Z"
   },
   {
    "duration": 0,
    "start_time": "2022-10-08T16:18:13.877Z"
   },
   {
    "duration": 0,
    "start_time": "2022-10-08T16:18:13.878Z"
   },
   {
    "duration": 0,
    "start_time": "2022-10-08T16:18:13.880Z"
   },
   {
    "duration": 0,
    "start_time": "2022-10-08T16:18:13.882Z"
   },
   {
    "duration": 0,
    "start_time": "2022-10-08T16:18:13.883Z"
   },
   {
    "duration": 0,
    "start_time": "2022-10-08T16:18:13.884Z"
   },
   {
    "duration": 0,
    "start_time": "2022-10-08T16:18:13.886Z"
   },
   {
    "duration": 0,
    "start_time": "2022-10-08T16:18:13.888Z"
   },
   {
    "duration": 0,
    "start_time": "2022-10-08T16:18:13.889Z"
   },
   {
    "duration": 0,
    "start_time": "2022-10-08T16:18:13.890Z"
   },
   {
    "duration": 0,
    "start_time": "2022-10-08T16:18:13.892Z"
   },
   {
    "duration": 0,
    "start_time": "2022-10-08T16:18:13.953Z"
   },
   {
    "duration": 0,
    "start_time": "2022-10-08T16:18:13.955Z"
   },
   {
    "duration": 0,
    "start_time": "2022-10-08T16:18:13.957Z"
   },
   {
    "duration": 0,
    "start_time": "2022-10-08T16:18:13.959Z"
   },
   {
    "duration": 0,
    "start_time": "2022-10-08T16:18:13.960Z"
   },
   {
    "duration": 0,
    "start_time": "2022-10-08T16:18:13.962Z"
   },
   {
    "duration": 0,
    "start_time": "2022-10-08T16:18:13.963Z"
   },
   {
    "duration": 0,
    "start_time": "2022-10-08T16:18:13.966Z"
   },
   {
    "duration": 0,
    "start_time": "2022-10-08T16:18:13.968Z"
   },
   {
    "duration": 0,
    "start_time": "2022-10-08T16:18:13.969Z"
   },
   {
    "duration": 0,
    "start_time": "2022-10-08T16:18:13.971Z"
   },
   {
    "duration": 1,
    "start_time": "2022-10-08T16:18:13.972Z"
   },
   {
    "duration": 0,
    "start_time": "2022-10-08T16:18:13.974Z"
   },
   {
    "duration": 0,
    "start_time": "2022-10-08T16:18:13.975Z"
   },
   {
    "duration": 0,
    "start_time": "2022-10-08T16:18:13.977Z"
   },
   {
    "duration": 0,
    "start_time": "2022-10-08T16:18:13.978Z"
   },
   {
    "duration": 0,
    "start_time": "2022-10-08T16:18:13.980Z"
   },
   {
    "duration": 0,
    "start_time": "2022-10-08T16:18:13.981Z"
   },
   {
    "duration": 0,
    "start_time": "2022-10-08T16:18:13.983Z"
   },
   {
    "duration": 0,
    "start_time": "2022-10-08T16:18:13.985Z"
   },
   {
    "duration": 0,
    "start_time": "2022-10-08T16:18:13.986Z"
   },
   {
    "duration": 0,
    "start_time": "2022-10-08T16:18:13.991Z"
   },
   {
    "duration": 0,
    "start_time": "2022-10-08T16:18:13.992Z"
   },
   {
    "duration": 0,
    "start_time": "2022-10-08T16:18:14.054Z"
   },
   {
    "duration": 0,
    "start_time": "2022-10-08T16:18:14.055Z"
   },
   {
    "duration": 0,
    "start_time": "2022-10-08T16:18:14.056Z"
   },
   {
    "duration": 1,
    "start_time": "2022-10-08T16:18:14.057Z"
   },
   {
    "duration": 0,
    "start_time": "2022-10-08T16:18:14.059Z"
   },
   {
    "duration": 0,
    "start_time": "2022-10-08T16:18:14.060Z"
   },
   {
    "duration": 0,
    "start_time": "2022-10-08T16:18:14.061Z"
   },
   {
    "duration": 0,
    "start_time": "2022-10-08T16:18:14.062Z"
   },
   {
    "duration": 4521,
    "start_time": "2022-10-08T16:18:42.253Z"
   },
   {
    "duration": 2476,
    "start_time": "2022-10-08T16:19:17.148Z"
   },
   {
    "duration": 39,
    "start_time": "2022-10-08T16:19:19.627Z"
   },
   {
    "duration": 16823,
    "start_time": "2022-10-08T16:19:19.668Z"
   },
   {
    "duration": 0,
    "start_time": "2022-10-08T16:19:36.725Z"
   },
   {
    "duration": 0,
    "start_time": "2022-10-08T16:19:36.726Z"
   },
   {
    "duration": 0,
    "start_time": "2022-10-08T16:19:36.727Z"
   },
   {
    "duration": 0,
    "start_time": "2022-10-08T16:19:36.729Z"
   },
   {
    "duration": 0,
    "start_time": "2022-10-08T16:19:36.729Z"
   },
   {
    "duration": 0,
    "start_time": "2022-10-08T16:19:36.730Z"
   },
   {
    "duration": 0,
    "start_time": "2022-10-08T16:19:36.732Z"
   },
   {
    "duration": 0,
    "start_time": "2022-10-08T16:19:36.733Z"
   },
   {
    "duration": 0,
    "start_time": "2022-10-08T16:19:36.735Z"
   },
   {
    "duration": 0,
    "start_time": "2022-10-08T16:19:36.754Z"
   },
   {
    "duration": 0,
    "start_time": "2022-10-08T16:19:36.756Z"
   },
   {
    "duration": 0,
    "start_time": "2022-10-08T16:19:36.758Z"
   },
   {
    "duration": 0,
    "start_time": "2022-10-08T16:19:36.760Z"
   },
   {
    "duration": 0,
    "start_time": "2022-10-08T16:19:36.761Z"
   },
   {
    "duration": 0,
    "start_time": "2022-10-08T16:19:36.763Z"
   },
   {
    "duration": 0,
    "start_time": "2022-10-08T16:19:36.764Z"
   },
   {
    "duration": 0,
    "start_time": "2022-10-08T16:19:36.766Z"
   },
   {
    "duration": 0,
    "start_time": "2022-10-08T16:19:36.767Z"
   },
   {
    "duration": 0,
    "start_time": "2022-10-08T16:19:36.769Z"
   },
   {
    "duration": 0,
    "start_time": "2022-10-08T16:19:36.770Z"
   },
   {
    "duration": 0,
    "start_time": "2022-10-08T16:19:36.772Z"
   },
   {
    "duration": 0,
    "start_time": "2022-10-08T16:19:36.773Z"
   },
   {
    "duration": 0,
    "start_time": "2022-10-08T16:19:36.775Z"
   },
   {
    "duration": 0,
    "start_time": "2022-10-08T16:19:36.776Z"
   },
   {
    "duration": 0,
    "start_time": "2022-10-08T16:19:36.778Z"
   },
   {
    "duration": 0,
    "start_time": "2022-10-08T16:19:36.780Z"
   },
   {
    "duration": 0,
    "start_time": "2022-10-08T16:19:36.781Z"
   },
   {
    "duration": 0,
    "start_time": "2022-10-08T16:19:36.783Z"
   },
   {
    "duration": 0,
    "start_time": "2022-10-08T16:19:36.784Z"
   },
   {
    "duration": 0,
    "start_time": "2022-10-08T16:19:36.786Z"
   },
   {
    "duration": 0,
    "start_time": "2022-10-08T16:19:36.787Z"
   },
   {
    "duration": 0,
    "start_time": "2022-10-08T16:19:36.789Z"
   },
   {
    "duration": 0,
    "start_time": "2022-10-08T16:19:36.790Z"
   },
   {
    "duration": 0,
    "start_time": "2022-10-08T16:19:36.791Z"
   },
   {
    "duration": 0,
    "start_time": "2022-10-08T16:19:36.793Z"
   },
   {
    "duration": 0,
    "start_time": "2022-10-08T16:19:36.855Z"
   },
   {
    "duration": 0,
    "start_time": "2022-10-08T16:19:36.856Z"
   },
   {
    "duration": 0,
    "start_time": "2022-10-08T16:19:36.858Z"
   },
   {
    "duration": 0,
    "start_time": "2022-10-08T16:19:36.860Z"
   },
   {
    "duration": 0,
    "start_time": "2022-10-08T16:19:36.861Z"
   },
   {
    "duration": 0,
    "start_time": "2022-10-08T16:19:36.863Z"
   },
   {
    "duration": 0,
    "start_time": "2022-10-08T16:19:36.865Z"
   },
   {
    "duration": 0,
    "start_time": "2022-10-08T16:19:36.866Z"
   },
   {
    "duration": 0,
    "start_time": "2022-10-08T16:19:36.867Z"
   },
   {
    "duration": 0,
    "start_time": "2022-10-08T16:19:36.869Z"
   },
   {
    "duration": 0,
    "start_time": "2022-10-08T16:19:36.871Z"
   },
   {
    "duration": 0,
    "start_time": "2022-10-08T16:19:36.872Z"
   },
   {
    "duration": 0,
    "start_time": "2022-10-08T16:19:36.873Z"
   },
   {
    "duration": 0,
    "start_time": "2022-10-08T16:19:36.874Z"
   },
   {
    "duration": 0,
    "start_time": "2022-10-08T16:19:36.875Z"
   },
   {
    "duration": 0,
    "start_time": "2022-10-08T16:19:36.876Z"
   },
   {
    "duration": 0,
    "start_time": "2022-10-08T16:19:36.877Z"
   },
   {
    "duration": 0,
    "start_time": "2022-10-08T16:19:36.878Z"
   },
   {
    "duration": 0,
    "start_time": "2022-10-08T16:19:36.879Z"
   },
   {
    "duration": 0,
    "start_time": "2022-10-08T16:19:36.880Z"
   },
   {
    "duration": 0,
    "start_time": "2022-10-08T16:19:36.882Z"
   },
   {
    "duration": 0,
    "start_time": "2022-10-08T16:19:36.883Z"
   },
   {
    "duration": 0,
    "start_time": "2022-10-08T16:19:36.884Z"
   },
   {
    "duration": 0,
    "start_time": "2022-10-08T16:19:36.885Z"
   },
   {
    "duration": 0,
    "start_time": "2022-10-08T16:19:36.886Z"
   },
   {
    "duration": 0,
    "start_time": "2022-10-08T16:19:36.887Z"
   },
   {
    "duration": 0,
    "start_time": "2022-10-08T16:19:36.889Z"
   },
   {
    "duration": 0,
    "start_time": "2022-10-08T16:19:36.889Z"
   },
   {
    "duration": 0,
    "start_time": "2022-10-08T16:19:36.890Z"
   },
   {
    "duration": 0,
    "start_time": "2022-10-08T16:19:36.891Z"
   },
   {
    "duration": 0,
    "start_time": "2022-10-08T16:19:36.954Z"
   },
   {
    "duration": 0,
    "start_time": "2022-10-08T16:19:36.956Z"
   },
   {
    "duration": 0,
    "start_time": "2022-10-08T16:19:36.957Z"
   },
   {
    "duration": 0,
    "start_time": "2022-10-08T16:19:36.958Z"
   },
   {
    "duration": 0,
    "start_time": "2022-10-08T16:19:36.959Z"
   },
   {
    "duration": 0,
    "start_time": "2022-10-08T16:19:36.960Z"
   },
   {
    "duration": 0,
    "start_time": "2022-10-08T16:19:36.961Z"
   },
   {
    "duration": 0,
    "start_time": "2022-10-08T16:19:36.962Z"
   },
   {
    "duration": 0,
    "start_time": "2022-10-08T16:19:36.963Z"
   },
   {
    "duration": 0,
    "start_time": "2022-10-08T16:19:36.964Z"
   },
   {
    "duration": 0,
    "start_time": "2022-10-08T16:19:36.965Z"
   },
   {
    "duration": 0,
    "start_time": "2022-10-08T16:19:36.966Z"
   },
   {
    "duration": 1,
    "start_time": "2022-10-08T16:19:36.967Z"
   },
   {
    "duration": 0,
    "start_time": "2022-10-08T16:19:36.969Z"
   },
   {
    "duration": 0,
    "start_time": "2022-10-08T16:19:36.970Z"
   },
   {
    "duration": 0,
    "start_time": "2022-10-08T16:19:36.972Z"
   },
   {
    "duration": 0,
    "start_time": "2022-10-08T16:19:36.973Z"
   },
   {
    "duration": 0,
    "start_time": "2022-10-08T16:19:36.975Z"
   },
   {
    "duration": 0,
    "start_time": "2022-10-08T16:19:36.976Z"
   },
   {
    "duration": 0,
    "start_time": "2022-10-08T16:19:36.977Z"
   },
   {
    "duration": 0,
    "start_time": "2022-10-08T16:19:36.979Z"
   },
   {
    "duration": 0,
    "start_time": "2022-10-08T16:19:36.981Z"
   },
   {
    "duration": 0,
    "start_time": "2022-10-08T16:19:36.982Z"
   },
   {
    "duration": 0,
    "start_time": "2022-10-08T16:19:36.983Z"
   },
   {
    "duration": 0,
    "start_time": "2022-10-08T16:19:36.985Z"
   },
   {
    "duration": 0,
    "start_time": "2022-10-08T16:19:36.986Z"
   },
   {
    "duration": 0,
    "start_time": "2022-10-08T16:19:36.988Z"
   },
   {
    "duration": 0,
    "start_time": "2022-10-08T16:19:36.990Z"
   },
   {
    "duration": 0,
    "start_time": "2022-10-08T16:19:36.992Z"
   },
   {
    "duration": 0,
    "start_time": "2022-10-08T16:19:37.055Z"
   },
   {
    "duration": 0,
    "start_time": "2022-10-08T16:19:37.056Z"
   },
   {
    "duration": 0,
    "start_time": "2022-10-08T16:19:37.058Z"
   },
   {
    "duration": 0,
    "start_time": "2022-10-08T16:19:37.060Z"
   },
   {
    "duration": 0,
    "start_time": "2022-10-08T16:19:37.062Z"
   },
   {
    "duration": 0,
    "start_time": "2022-10-08T16:19:37.063Z"
   },
   {
    "duration": 0,
    "start_time": "2022-10-08T16:19:37.065Z"
   },
   {
    "duration": 0,
    "start_time": "2022-10-08T16:19:37.067Z"
   },
   {
    "duration": 0,
    "start_time": "2022-10-08T16:19:37.068Z"
   },
   {
    "duration": 0,
    "start_time": "2022-10-08T16:19:37.070Z"
   },
   {
    "duration": 0,
    "start_time": "2022-10-08T16:19:37.071Z"
   },
   {
    "duration": 0,
    "start_time": "2022-10-08T16:19:37.073Z"
   },
   {
    "duration": 0,
    "start_time": "2022-10-08T16:19:37.074Z"
   },
   {
    "duration": 0,
    "start_time": "2022-10-08T16:19:37.076Z"
   },
   {
    "duration": 0,
    "start_time": "2022-10-08T16:19:37.078Z"
   },
   {
    "duration": 0,
    "start_time": "2022-10-08T16:19:37.079Z"
   },
   {
    "duration": 0,
    "start_time": "2022-10-08T16:19:37.081Z"
   },
   {
    "duration": 0,
    "start_time": "2022-10-08T16:19:37.082Z"
   },
   {
    "duration": 0,
    "start_time": "2022-10-08T16:19:37.084Z"
   },
   {
    "duration": 0,
    "start_time": "2022-10-08T16:19:37.086Z"
   },
   {
    "duration": 0,
    "start_time": "2022-10-08T16:19:37.087Z"
   },
   {
    "duration": 0,
    "start_time": "2022-10-08T16:19:37.089Z"
   },
   {
    "duration": 0,
    "start_time": "2022-10-08T16:19:37.091Z"
   },
   {
    "duration": 0,
    "start_time": "2022-10-08T16:19:37.154Z"
   },
   {
    "duration": 0,
    "start_time": "2022-10-08T16:19:37.156Z"
   },
   {
    "duration": 0,
    "start_time": "2022-10-08T16:19:37.158Z"
   },
   {
    "duration": 0,
    "start_time": "2022-10-08T16:19:37.162Z"
   },
   {
    "duration": 0,
    "start_time": "2022-10-08T16:19:37.165Z"
   },
   {
    "duration": 0,
    "start_time": "2022-10-08T16:19:37.167Z"
   },
   {
    "duration": 0,
    "start_time": "2022-10-08T16:19:37.169Z"
   },
   {
    "duration": 0,
    "start_time": "2022-10-08T16:19:37.170Z"
   },
   {
    "duration": 0,
    "start_time": "2022-10-08T16:19:37.171Z"
   },
   {
    "duration": 0,
    "start_time": "2022-10-08T16:19:37.172Z"
   },
   {
    "duration": 0,
    "start_time": "2022-10-08T16:19:37.174Z"
   },
   {
    "duration": 0,
    "start_time": "2022-10-08T16:19:37.175Z"
   },
   {
    "duration": 0,
    "start_time": "2022-10-08T16:19:37.176Z"
   },
   {
    "duration": 0,
    "start_time": "2022-10-08T16:19:37.177Z"
   },
   {
    "duration": 0,
    "start_time": "2022-10-08T16:19:37.179Z"
   },
   {
    "duration": 0,
    "start_time": "2022-10-08T16:19:37.180Z"
   },
   {
    "duration": 0,
    "start_time": "2022-10-08T16:19:37.181Z"
   },
   {
    "duration": 0,
    "start_time": "2022-10-08T16:19:37.183Z"
   },
   {
    "duration": 2382,
    "start_time": "2022-10-08T16:20:05.879Z"
   },
   {
    "duration": 650,
    "start_time": "2022-10-08T16:20:08.264Z"
   },
   {
    "duration": 9323,
    "start_time": "2022-10-08T16:20:08.916Z"
   },
   {
    "duration": 0,
    "start_time": "2022-10-08T16:20:18.244Z"
   },
   {
    "duration": 0,
    "start_time": "2022-10-08T16:20:18.245Z"
   },
   {
    "duration": 0,
    "start_time": "2022-10-08T16:20:18.246Z"
   },
   {
    "duration": 0,
    "start_time": "2022-10-08T16:20:18.253Z"
   },
   {
    "duration": 0,
    "start_time": "2022-10-08T16:20:18.255Z"
   },
   {
    "duration": 0,
    "start_time": "2022-10-08T16:20:18.256Z"
   },
   {
    "duration": 0,
    "start_time": "2022-10-08T16:20:18.257Z"
   },
   {
    "duration": 0,
    "start_time": "2022-10-08T16:20:18.258Z"
   },
   {
    "duration": 0,
    "start_time": "2022-10-08T16:20:18.261Z"
   },
   {
    "duration": 0,
    "start_time": "2022-10-08T16:20:18.262Z"
   },
   {
    "duration": 0,
    "start_time": "2022-10-08T16:20:18.263Z"
   },
   {
    "duration": 0,
    "start_time": "2022-10-08T16:20:18.264Z"
   },
   {
    "duration": 0,
    "start_time": "2022-10-08T16:20:18.265Z"
   },
   {
    "duration": 1,
    "start_time": "2022-10-08T16:20:18.266Z"
   },
   {
    "duration": 0,
    "start_time": "2022-10-08T16:20:18.268Z"
   },
   {
    "duration": 0,
    "start_time": "2022-10-08T16:20:18.269Z"
   },
   {
    "duration": 0,
    "start_time": "2022-10-08T16:20:18.270Z"
   },
   {
    "duration": 0,
    "start_time": "2022-10-08T16:20:18.271Z"
   },
   {
    "duration": 0,
    "start_time": "2022-10-08T16:20:18.272Z"
   },
   {
    "duration": 0,
    "start_time": "2022-10-08T16:20:18.274Z"
   },
   {
    "duration": 0,
    "start_time": "2022-10-08T16:20:18.275Z"
   },
   {
    "duration": 0,
    "start_time": "2022-10-08T16:20:18.276Z"
   },
   {
    "duration": 0,
    "start_time": "2022-10-08T16:20:18.277Z"
   },
   {
    "duration": 0,
    "start_time": "2022-10-08T16:20:18.278Z"
   },
   {
    "duration": 0,
    "start_time": "2022-10-08T16:20:18.280Z"
   },
   {
    "duration": 0,
    "start_time": "2022-10-08T16:20:18.281Z"
   },
   {
    "duration": 0,
    "start_time": "2022-10-08T16:20:18.282Z"
   },
   {
    "duration": 0,
    "start_time": "2022-10-08T16:20:18.283Z"
   },
   {
    "duration": 0,
    "start_time": "2022-10-08T16:20:18.284Z"
   },
   {
    "duration": 0,
    "start_time": "2022-10-08T16:20:18.285Z"
   },
   {
    "duration": 0,
    "start_time": "2022-10-08T16:20:18.286Z"
   },
   {
    "duration": 0,
    "start_time": "2022-10-08T16:20:18.288Z"
   },
   {
    "duration": 0,
    "start_time": "2022-10-08T16:20:18.289Z"
   },
   {
    "duration": 0,
    "start_time": "2022-10-08T16:20:18.290Z"
   },
   {
    "duration": 0,
    "start_time": "2022-10-08T16:20:18.291Z"
   },
   {
    "duration": 0,
    "start_time": "2022-10-08T16:20:18.292Z"
   },
   {
    "duration": 0,
    "start_time": "2022-10-08T16:20:18.353Z"
   },
   {
    "duration": 0,
    "start_time": "2022-10-08T16:20:18.355Z"
   },
   {
    "duration": 0,
    "start_time": "2022-10-08T16:20:18.356Z"
   },
   {
    "duration": 0,
    "start_time": "2022-10-08T16:20:18.357Z"
   },
   {
    "duration": 0,
    "start_time": "2022-10-08T16:20:18.358Z"
   },
   {
    "duration": 0,
    "start_time": "2022-10-08T16:20:18.360Z"
   },
   {
    "duration": 0,
    "start_time": "2022-10-08T16:20:18.360Z"
   },
   {
    "duration": 0,
    "start_time": "2022-10-08T16:20:18.361Z"
   },
   {
    "duration": 0,
    "start_time": "2022-10-08T16:20:18.362Z"
   },
   {
    "duration": 0,
    "start_time": "2022-10-08T16:20:18.364Z"
   },
   {
    "duration": 0,
    "start_time": "2022-10-08T16:20:18.365Z"
   },
   {
    "duration": 1,
    "start_time": "2022-10-08T16:20:18.365Z"
   },
   {
    "duration": 0,
    "start_time": "2022-10-08T16:20:18.366Z"
   },
   {
    "duration": 0,
    "start_time": "2022-10-08T16:20:18.367Z"
   },
   {
    "duration": 0,
    "start_time": "2022-10-08T16:20:18.368Z"
   },
   {
    "duration": 0,
    "start_time": "2022-10-08T16:20:18.369Z"
   },
   {
    "duration": 0,
    "start_time": "2022-10-08T16:20:18.370Z"
   },
   {
    "duration": 0,
    "start_time": "2022-10-08T16:20:18.371Z"
   },
   {
    "duration": 0,
    "start_time": "2022-10-08T16:20:18.372Z"
   },
   {
    "duration": 0,
    "start_time": "2022-10-08T16:20:18.374Z"
   },
   {
    "duration": 0,
    "start_time": "2022-10-08T16:20:18.375Z"
   },
   {
    "duration": 0,
    "start_time": "2022-10-08T16:20:18.376Z"
   },
   {
    "duration": 0,
    "start_time": "2022-10-08T16:20:18.377Z"
   },
   {
    "duration": 0,
    "start_time": "2022-10-08T16:20:18.378Z"
   },
   {
    "duration": 0,
    "start_time": "2022-10-08T16:20:18.379Z"
   },
   {
    "duration": 0,
    "start_time": "2022-10-08T16:20:18.380Z"
   },
   {
    "duration": 0,
    "start_time": "2022-10-08T16:20:18.381Z"
   },
   {
    "duration": 0,
    "start_time": "2022-10-08T16:20:18.382Z"
   },
   {
    "duration": 0,
    "start_time": "2022-10-08T16:20:18.383Z"
   },
   {
    "duration": 0,
    "start_time": "2022-10-08T16:20:18.384Z"
   },
   {
    "duration": 0,
    "start_time": "2022-10-08T16:20:18.386Z"
   },
   {
    "duration": 0,
    "start_time": "2022-10-08T16:20:18.387Z"
   },
   {
    "duration": 0,
    "start_time": "2022-10-08T16:20:18.388Z"
   },
   {
    "duration": 0,
    "start_time": "2022-10-08T16:20:18.389Z"
   },
   {
    "duration": 0,
    "start_time": "2022-10-08T16:20:18.453Z"
   },
   {
    "duration": 0,
    "start_time": "2022-10-08T16:20:18.455Z"
   },
   {
    "duration": 0,
    "start_time": "2022-10-08T16:20:18.456Z"
   },
   {
    "duration": 0,
    "start_time": "2022-10-08T16:20:18.457Z"
   },
   {
    "duration": 0,
    "start_time": "2022-10-08T16:20:18.458Z"
   },
   {
    "duration": 0,
    "start_time": "2022-10-08T16:20:18.459Z"
   },
   {
    "duration": 0,
    "start_time": "2022-10-08T16:20:18.460Z"
   },
   {
    "duration": 0,
    "start_time": "2022-10-08T16:20:18.462Z"
   },
   {
    "duration": 0,
    "start_time": "2022-10-08T16:20:18.468Z"
   },
   {
    "duration": 0,
    "start_time": "2022-10-08T16:20:18.469Z"
   },
   {
    "duration": 0,
    "start_time": "2022-10-08T16:20:18.470Z"
   },
   {
    "duration": 0,
    "start_time": "2022-10-08T16:20:18.472Z"
   },
   {
    "duration": 0,
    "start_time": "2022-10-08T16:20:18.473Z"
   },
   {
    "duration": 0,
    "start_time": "2022-10-08T16:20:18.474Z"
   },
   {
    "duration": 0,
    "start_time": "2022-10-08T16:20:18.475Z"
   },
   {
    "duration": 0,
    "start_time": "2022-10-08T16:20:18.477Z"
   },
   {
    "duration": 0,
    "start_time": "2022-10-08T16:20:18.478Z"
   },
   {
    "duration": 0,
    "start_time": "2022-10-08T16:20:18.479Z"
   },
   {
    "duration": 0,
    "start_time": "2022-10-08T16:20:18.480Z"
   },
   {
    "duration": 0,
    "start_time": "2022-10-08T16:20:18.482Z"
   },
   {
    "duration": 0,
    "start_time": "2022-10-08T16:20:18.483Z"
   },
   {
    "duration": 0,
    "start_time": "2022-10-08T16:20:18.484Z"
   },
   {
    "duration": 0,
    "start_time": "2022-10-08T16:20:18.485Z"
   },
   {
    "duration": 0,
    "start_time": "2022-10-08T16:20:18.486Z"
   },
   {
    "duration": 0,
    "start_time": "2022-10-08T16:20:18.487Z"
   },
   {
    "duration": 0,
    "start_time": "2022-10-08T16:20:18.488Z"
   },
   {
    "duration": 0,
    "start_time": "2022-10-08T16:20:18.489Z"
   },
   {
    "duration": 0,
    "start_time": "2022-10-08T16:20:18.491Z"
   },
   {
    "duration": 0,
    "start_time": "2022-10-08T16:20:18.554Z"
   },
   {
    "duration": 0,
    "start_time": "2022-10-08T16:20:18.556Z"
   },
   {
    "duration": 0,
    "start_time": "2022-10-08T16:20:18.557Z"
   },
   {
    "duration": 0,
    "start_time": "2022-10-08T16:20:18.558Z"
   },
   {
    "duration": 0,
    "start_time": "2022-10-08T16:20:18.559Z"
   },
   {
    "duration": 0,
    "start_time": "2022-10-08T16:20:18.559Z"
   },
   {
    "duration": 0,
    "start_time": "2022-10-08T16:20:18.561Z"
   },
   {
    "duration": 0,
    "start_time": "2022-10-08T16:20:18.562Z"
   },
   {
    "duration": 0,
    "start_time": "2022-10-08T16:20:18.563Z"
   },
   {
    "duration": 0,
    "start_time": "2022-10-08T16:20:18.564Z"
   },
   {
    "duration": 0,
    "start_time": "2022-10-08T16:20:18.565Z"
   },
   {
    "duration": 0,
    "start_time": "2022-10-08T16:20:18.566Z"
   },
   {
    "duration": 0,
    "start_time": "2022-10-08T16:20:18.567Z"
   },
   {
    "duration": 0,
    "start_time": "2022-10-08T16:20:18.568Z"
   },
   {
    "duration": 0,
    "start_time": "2022-10-08T16:20:18.569Z"
   },
   {
    "duration": 0,
    "start_time": "2022-10-08T16:20:18.570Z"
   },
   {
    "duration": 0,
    "start_time": "2022-10-08T16:20:18.571Z"
   },
   {
    "duration": 0,
    "start_time": "2022-10-08T16:20:18.572Z"
   },
   {
    "duration": 0,
    "start_time": "2022-10-08T16:20:18.574Z"
   },
   {
    "duration": 0,
    "start_time": "2022-10-08T16:20:18.576Z"
   },
   {
    "duration": 0,
    "start_time": "2022-10-08T16:20:18.577Z"
   },
   {
    "duration": 0,
    "start_time": "2022-10-08T16:20:18.578Z"
   },
   {
    "duration": 0,
    "start_time": "2022-10-08T16:20:18.579Z"
   },
   {
    "duration": 1,
    "start_time": "2022-10-08T16:20:18.580Z"
   },
   {
    "duration": 0,
    "start_time": "2022-10-08T16:20:18.581Z"
   },
   {
    "duration": 0,
    "start_time": "2022-10-08T16:20:18.583Z"
   },
   {
    "duration": 0,
    "start_time": "2022-10-08T16:20:18.584Z"
   },
   {
    "duration": 0,
    "start_time": "2022-10-08T16:20:18.585Z"
   },
   {
    "duration": 0,
    "start_time": "2022-10-08T16:20:18.586Z"
   },
   {
    "duration": 0,
    "start_time": "2022-10-08T16:20:18.588Z"
   },
   {
    "duration": 0,
    "start_time": "2022-10-08T16:20:18.589Z"
   },
   {
    "duration": 0,
    "start_time": "2022-10-08T16:20:18.590Z"
   },
   {
    "duration": 0,
    "start_time": "2022-10-08T16:20:18.655Z"
   },
   {
    "duration": 0,
    "start_time": "2022-10-08T16:20:18.656Z"
   },
   {
    "duration": 0,
    "start_time": "2022-10-08T16:20:18.657Z"
   },
   {
    "duration": 0,
    "start_time": "2022-10-08T16:20:18.659Z"
   },
   {
    "duration": 0,
    "start_time": "2022-10-08T16:20:18.661Z"
   },
   {
    "duration": 2745,
    "start_time": "2022-10-08T16:20:35.450Z"
   },
   {
    "duration": 31,
    "start_time": "2022-10-08T16:20:38.198Z"
   },
   {
    "duration": 8811,
    "start_time": "2022-10-08T16:20:38.231Z"
   },
   {
    "duration": 272,
    "start_time": "2022-10-08T16:20:47.045Z"
   },
   {
    "duration": 4,
    "start_time": "2022-10-08T16:20:47.318Z"
   },
   {
    "duration": 34,
    "start_time": "2022-10-08T16:20:47.324Z"
   },
   {
    "duration": 431,
    "start_time": "2022-10-08T16:20:47.360Z"
   },
   {
    "duration": 282,
    "start_time": "2022-10-08T16:20:47.793Z"
   },
   {
    "duration": 4,
    "start_time": "2022-10-08T16:20:48.077Z"
   },
   {
    "duration": 28,
    "start_time": "2022-10-08T16:20:48.083Z"
   },
   {
    "duration": 68,
    "start_time": "2022-10-08T16:20:48.115Z"
   },
   {
    "duration": 3,
    "start_time": "2022-10-08T16:20:48.184Z"
   },
   {
    "duration": 19,
    "start_time": "2022-10-08T16:20:48.189Z"
   },
   {
    "duration": 89,
    "start_time": "2022-10-08T16:20:48.210Z"
   },
   {
    "duration": 2,
    "start_time": "2022-10-08T16:20:48.301Z"
   },
   {
    "duration": 60,
    "start_time": "2022-10-08T16:20:48.305Z"
   },
   {
    "duration": 24,
    "start_time": "2022-10-08T16:20:48.366Z"
   },
   {
    "duration": 62,
    "start_time": "2022-10-08T16:20:48.392Z"
   },
   {
    "duration": 26,
    "start_time": "2022-10-08T16:20:48.456Z"
   },
   {
    "duration": 29,
    "start_time": "2022-10-08T16:20:48.484Z"
   },
   {
    "duration": 54,
    "start_time": "2022-10-08T16:20:48.515Z"
   },
   {
    "duration": 14,
    "start_time": "2022-10-08T16:20:48.570Z"
   },
   {
    "duration": 12,
    "start_time": "2022-10-08T16:20:48.586Z"
   },
   {
    "duration": 9,
    "start_time": "2022-10-08T16:20:48.600Z"
   },
   {
    "duration": 7,
    "start_time": "2022-10-08T16:20:48.611Z"
   },
   {
    "duration": 36,
    "start_time": "2022-10-08T16:20:48.620Z"
   },
   {
    "duration": 28,
    "start_time": "2022-10-08T16:20:48.658Z"
   },
   {
    "duration": 29,
    "start_time": "2022-10-08T16:20:48.691Z"
   },
   {
    "duration": 41,
    "start_time": "2022-10-08T16:20:48.722Z"
   },
   {
    "duration": 28,
    "start_time": "2022-10-08T16:20:48.767Z"
   },
   {
    "duration": 5,
    "start_time": "2022-10-08T16:20:48.797Z"
   },
   {
    "duration": 97,
    "start_time": "2022-10-08T16:20:48.803Z"
   },
   {
    "duration": 3,
    "start_time": "2022-10-08T16:20:48.902Z"
   },
   {
    "duration": 173,
    "start_time": "2022-10-08T16:20:48.907Z"
   },
   {
    "duration": 4,
    "start_time": "2022-10-08T16:20:49.082Z"
   },
   {
    "duration": 175,
    "start_time": "2022-10-08T16:20:49.087Z"
   },
   {
    "duration": 4,
    "start_time": "2022-10-08T16:20:49.264Z"
   },
   {
    "duration": 808,
    "start_time": "2022-10-08T16:20:49.270Z"
   },
   {
    "duration": 4,
    "start_time": "2022-10-08T16:20:50.080Z"
   },
   {
    "duration": 18,
    "start_time": "2022-10-08T16:20:50.086Z"
   },
   {
    "duration": 16,
    "start_time": "2022-10-08T16:20:50.106Z"
   },
   {
    "duration": 2209,
    "start_time": "2022-10-08T16:20:50.125Z"
   },
   {
    "duration": 21,
    "start_time": "2022-10-08T16:20:52.337Z"
   },
   {
    "duration": 5237,
    "start_time": "2022-10-08T16:20:52.360Z"
   },
   {
    "duration": 6,
    "start_time": "2022-10-08T16:20:57.599Z"
   },
   {
    "duration": 5213,
    "start_time": "2022-10-08T16:20:57.607Z"
   },
   {
    "duration": 6,
    "start_time": "2022-10-08T16:21:02.822Z"
   },
   {
    "duration": 4685,
    "start_time": "2022-10-08T16:21:02.829Z"
   },
   {
    "duration": 4,
    "start_time": "2022-10-08T16:21:07.516Z"
   },
   {
    "duration": 10111,
    "start_time": "2022-10-08T16:21:07.522Z"
   },
   {
    "duration": 19,
    "start_time": "2022-10-08T16:21:17.636Z"
   },
   {
    "duration": 28,
    "start_time": "2022-10-08T16:21:17.657Z"
   },
   {
    "duration": 4,
    "start_time": "2022-10-08T16:21:17.686Z"
   },
   {
    "duration": 164,
    "start_time": "2022-10-08T16:21:17.692Z"
   },
   {
    "duration": 5,
    "start_time": "2022-10-08T16:21:17.858Z"
   },
   {
    "duration": 163,
    "start_time": "2022-10-08T16:21:17.865Z"
   },
   {
    "duration": 25,
    "start_time": "2022-10-08T16:21:18.030Z"
   },
   {
    "duration": 6,
    "start_time": "2022-10-08T16:21:18.057Z"
   },
   {
    "duration": 5,
    "start_time": "2022-10-08T16:21:18.065Z"
   },
   {
    "duration": 129,
    "start_time": "2022-10-08T16:21:18.072Z"
   },
   {
    "duration": 5,
    "start_time": "2022-10-08T16:21:18.203Z"
   },
   {
    "duration": 197,
    "start_time": "2022-10-08T16:21:18.210Z"
   },
   {
    "duration": 4,
    "start_time": "2022-10-08T16:21:18.409Z"
   },
   {
    "duration": 14410,
    "start_time": "2022-10-08T16:21:18.414Z"
   },
   {
    "duration": 1643,
    "start_time": "2022-10-08T16:21:32.827Z"
   },
   {
    "duration": 23,
    "start_time": "2022-10-08T16:21:34.472Z"
   },
   {
    "duration": 896,
    "start_time": "2022-10-08T16:21:34.497Z"
   },
   {
    "duration": 0,
    "start_time": "2022-10-08T16:21:35.402Z"
   },
   {
    "duration": 0,
    "start_time": "2022-10-08T16:21:35.404Z"
   },
   {
    "duration": 0,
    "start_time": "2022-10-08T16:21:35.406Z"
   },
   {
    "duration": 0,
    "start_time": "2022-10-08T16:21:35.407Z"
   },
   {
    "duration": 0,
    "start_time": "2022-10-08T16:21:35.408Z"
   },
   {
    "duration": 0,
    "start_time": "2022-10-08T16:21:35.409Z"
   },
   {
    "duration": 0,
    "start_time": "2022-10-08T16:21:35.410Z"
   },
   {
    "duration": 0,
    "start_time": "2022-10-08T16:21:35.411Z"
   },
   {
    "duration": 0,
    "start_time": "2022-10-08T16:21:35.412Z"
   },
   {
    "duration": 0,
    "start_time": "2022-10-08T16:21:35.413Z"
   },
   {
    "duration": 0,
    "start_time": "2022-10-08T16:21:35.414Z"
   },
   {
    "duration": 0,
    "start_time": "2022-10-08T16:21:35.415Z"
   },
   {
    "duration": 0,
    "start_time": "2022-10-08T16:21:35.417Z"
   },
   {
    "duration": 0,
    "start_time": "2022-10-08T16:21:35.418Z"
   },
   {
    "duration": 0,
    "start_time": "2022-10-08T16:21:35.419Z"
   },
   {
    "duration": 0,
    "start_time": "2022-10-08T16:21:35.420Z"
   },
   {
    "duration": 0,
    "start_time": "2022-10-08T16:21:35.422Z"
   },
   {
    "duration": 0,
    "start_time": "2022-10-08T16:21:35.423Z"
   },
   {
    "duration": 0,
    "start_time": "2022-10-08T16:21:35.424Z"
   },
   {
    "duration": 0,
    "start_time": "2022-10-08T16:21:35.426Z"
   },
   {
    "duration": 0,
    "start_time": "2022-10-08T16:21:35.427Z"
   },
   {
    "duration": 0,
    "start_time": "2022-10-08T16:21:35.428Z"
   },
   {
    "duration": 0,
    "start_time": "2022-10-08T16:21:35.429Z"
   },
   {
    "duration": 0,
    "start_time": "2022-10-08T16:21:35.431Z"
   },
   {
    "duration": 0,
    "start_time": "2022-10-08T16:21:35.432Z"
   },
   {
    "duration": 0,
    "start_time": "2022-10-08T16:21:35.433Z"
   },
   {
    "duration": 0,
    "start_time": "2022-10-08T16:21:35.454Z"
   },
   {
    "duration": 0,
    "start_time": "2022-10-08T16:21:35.456Z"
   },
   {
    "duration": 1,
    "start_time": "2022-10-08T16:21:35.456Z"
   },
   {
    "duration": 0,
    "start_time": "2022-10-08T16:21:35.458Z"
   },
   {
    "duration": 0,
    "start_time": "2022-10-08T16:21:35.459Z"
   },
   {
    "duration": 0,
    "start_time": "2022-10-08T16:21:35.460Z"
   },
   {
    "duration": 0,
    "start_time": "2022-10-08T16:21:35.461Z"
   },
   {
    "duration": 0,
    "start_time": "2022-10-08T16:21:35.462Z"
   },
   {
    "duration": 0,
    "start_time": "2022-10-08T16:21:35.463Z"
   },
   {
    "duration": 0,
    "start_time": "2022-10-08T16:21:35.464Z"
   },
   {
    "duration": 0,
    "start_time": "2022-10-08T16:21:35.465Z"
   },
   {
    "duration": 0,
    "start_time": "2022-10-08T16:21:35.466Z"
   },
   {
    "duration": 0,
    "start_time": "2022-10-08T16:21:35.467Z"
   },
   {
    "duration": 0,
    "start_time": "2022-10-08T16:21:35.469Z"
   },
   {
    "duration": 0,
    "start_time": "2022-10-08T16:21:35.469Z"
   },
   {
    "duration": 0,
    "start_time": "2022-10-08T16:21:35.471Z"
   },
   {
    "duration": 0,
    "start_time": "2022-10-08T16:21:35.472Z"
   },
   {
    "duration": 0,
    "start_time": "2022-10-08T16:21:35.473Z"
   },
   {
    "duration": 0,
    "start_time": "2022-10-08T16:21:35.475Z"
   },
   {
    "duration": 0,
    "start_time": "2022-10-08T16:21:35.476Z"
   },
   {
    "duration": 0,
    "start_time": "2022-10-08T16:21:35.477Z"
   },
   {
    "duration": 0,
    "start_time": "2022-10-08T16:21:35.478Z"
   },
   {
    "duration": 0,
    "start_time": "2022-10-08T16:21:35.480Z"
   },
   {
    "duration": 0,
    "start_time": "2022-10-08T16:21:35.481Z"
   },
   {
    "duration": 0,
    "start_time": "2022-10-08T16:21:35.482Z"
   },
   {
    "duration": 0,
    "start_time": "2022-10-08T16:21:35.483Z"
   },
   {
    "duration": 0,
    "start_time": "2022-10-08T16:21:35.486Z"
   },
   {
    "duration": 0,
    "start_time": "2022-10-08T16:21:35.487Z"
   },
   {
    "duration": 0,
    "start_time": "2022-10-08T16:21:35.489Z"
   },
   {
    "duration": 0,
    "start_time": "2022-10-08T16:21:35.490Z"
   },
   {
    "duration": 0,
    "start_time": "2022-10-08T16:21:35.491Z"
   },
   {
    "duration": 0,
    "start_time": "2022-10-08T16:21:35.555Z"
   },
   {
    "duration": 0,
    "start_time": "2022-10-08T16:21:35.556Z"
   },
   {
    "duration": 0,
    "start_time": "2022-10-08T16:21:35.557Z"
   },
   {
    "duration": 0,
    "start_time": "2022-10-08T16:21:35.558Z"
   },
   {
    "duration": 0,
    "start_time": "2022-10-08T16:21:35.560Z"
   },
   {
    "duration": 0,
    "start_time": "2022-10-08T16:21:35.561Z"
   },
   {
    "duration": 0,
    "start_time": "2022-10-08T16:21:35.563Z"
   },
   {
    "duration": 0,
    "start_time": "2022-10-08T16:21:35.564Z"
   },
   {
    "duration": 0,
    "start_time": "2022-10-08T16:21:35.565Z"
   },
   {
    "duration": 0,
    "start_time": "2022-10-08T16:21:35.566Z"
   },
   {
    "duration": 0,
    "start_time": "2022-10-08T16:21:35.567Z"
   },
   {
    "duration": 0,
    "start_time": "2022-10-08T16:21:35.569Z"
   },
   {
    "duration": 0,
    "start_time": "2022-10-08T16:21:35.571Z"
   },
   {
    "duration": 0,
    "start_time": "2022-10-08T16:21:35.572Z"
   },
   {
    "duration": 0,
    "start_time": "2022-10-08T16:21:35.654Z"
   },
   {
    "duration": 30219,
    "start_time": "2022-10-08T16:21:39.192Z"
   },
   {
    "duration": 2520,
    "start_time": "2022-10-08T16:22:16.848Z"
   },
   {
    "duration": 43,
    "start_time": "2022-10-08T16:22:19.371Z"
   },
   {
    "duration": 8986,
    "start_time": "2022-10-08T16:22:19.418Z"
   },
   {
    "duration": 238,
    "start_time": "2022-10-08T16:22:28.406Z"
   },
   {
    "duration": 4,
    "start_time": "2022-10-08T16:22:28.646Z"
   },
   {
    "duration": 66,
    "start_time": "2022-10-08T16:22:28.651Z"
   },
   {
    "duration": 297,
    "start_time": "2022-10-08T16:22:28.719Z"
   },
   {
    "duration": 281,
    "start_time": "2022-10-08T16:22:29.019Z"
   },
   {
    "duration": 4,
    "start_time": "2022-10-08T16:22:29.302Z"
   },
   {
    "duration": 64,
    "start_time": "2022-10-08T16:22:29.310Z"
   },
   {
    "duration": 36,
    "start_time": "2022-10-08T16:22:29.376Z"
   },
   {
    "duration": 43,
    "start_time": "2022-10-08T16:22:29.413Z"
   },
   {
    "duration": 26,
    "start_time": "2022-10-08T16:22:29.458Z"
   },
   {
    "duration": 68,
    "start_time": "2022-10-08T16:22:29.486Z"
   },
   {
    "duration": 3,
    "start_time": "2022-10-08T16:22:29.556Z"
   },
   {
    "duration": 59,
    "start_time": "2022-10-08T16:22:29.561Z"
   },
   {
    "duration": 41,
    "start_time": "2022-10-08T16:22:29.621Z"
   },
   {
    "duration": 31,
    "start_time": "2022-10-08T16:22:29.664Z"
   },
   {
    "duration": 82,
    "start_time": "2022-10-08T16:22:29.697Z"
   },
   {
    "duration": 33,
    "start_time": "2022-10-08T16:22:29.781Z"
   },
   {
    "duration": 20,
    "start_time": "2022-10-08T16:22:29.853Z"
   },
   {
    "duration": 13,
    "start_time": "2022-10-08T16:22:29.875Z"
   },
   {
    "duration": 13,
    "start_time": "2022-10-08T16:22:29.890Z"
   },
   {
    "duration": 10,
    "start_time": "2022-10-08T16:22:29.905Z"
   },
   {
    "duration": 13,
    "start_time": "2022-10-08T16:22:29.917Z"
   },
   {
    "duration": 26,
    "start_time": "2022-10-08T16:22:29.932Z"
   },
   {
    "duration": 17,
    "start_time": "2022-10-08T16:22:29.960Z"
   },
   {
    "duration": 28,
    "start_time": "2022-10-08T16:22:29.982Z"
   },
   {
    "duration": 46,
    "start_time": "2022-10-08T16:22:30.012Z"
   },
   {
    "duration": 31,
    "start_time": "2022-10-08T16:22:30.060Z"
   },
   {
    "duration": 6,
    "start_time": "2022-10-08T16:22:30.093Z"
   },
   {
    "duration": 87,
    "start_time": "2022-10-08T16:22:30.101Z"
   },
   {
    "duration": 4,
    "start_time": "2022-10-08T16:22:30.190Z"
   },
   {
    "duration": 185,
    "start_time": "2022-10-08T16:22:30.196Z"
   },
   {
    "duration": 3,
    "start_time": "2022-10-08T16:22:30.383Z"
   },
   {
    "duration": 167,
    "start_time": "2022-10-08T16:22:30.388Z"
   },
   {
    "duration": 5,
    "start_time": "2022-10-08T16:22:30.557Z"
   },
   {
    "duration": 513,
    "start_time": "2022-10-08T16:22:30.563Z"
   },
   {
    "duration": 5,
    "start_time": "2022-10-08T16:22:31.078Z"
   },
   {
    "duration": 41,
    "start_time": "2022-10-08T16:22:31.085Z"
   },
   {
    "duration": 28,
    "start_time": "2022-10-08T16:22:31.154Z"
   },
   {
    "duration": 1949,
    "start_time": "2022-10-08T16:22:31.184Z"
   },
   {
    "duration": 4,
    "start_time": "2022-10-08T16:22:33.156Z"
   },
   {
    "duration": 5150,
    "start_time": "2022-10-08T16:22:33.162Z"
   },
   {
    "duration": 4,
    "start_time": "2022-10-08T16:22:38.316Z"
   },
   {
    "duration": 5014,
    "start_time": "2022-10-08T16:22:38.322Z"
   },
   {
    "duration": 16,
    "start_time": "2022-10-08T16:22:43.339Z"
   },
   {
    "duration": 5650,
    "start_time": "2022-10-08T16:22:43.357Z"
   },
   {
    "duration": 3,
    "start_time": "2022-10-08T16:22:49.009Z"
   },
   {
    "duration": 9788,
    "start_time": "2022-10-08T16:22:49.014Z"
   },
   {
    "duration": 5,
    "start_time": "2022-10-08T16:22:58.804Z"
   },
   {
    "duration": 45,
    "start_time": "2022-10-08T16:22:58.811Z"
   },
   {
    "duration": 5,
    "start_time": "2022-10-08T16:22:58.859Z"
   },
   {
    "duration": 123,
    "start_time": "2022-10-08T16:22:58.866Z"
   },
   {
    "duration": 5,
    "start_time": "2022-10-08T16:22:58.991Z"
   },
   {
    "duration": 144,
    "start_time": "2022-10-08T16:22:58.998Z"
   },
   {
    "duration": 17,
    "start_time": "2022-10-08T16:22:59.144Z"
   },
   {
    "duration": 7,
    "start_time": "2022-10-08T16:22:59.163Z"
   },
   {
    "duration": 5,
    "start_time": "2022-10-08T16:22:59.171Z"
   },
   {
    "duration": 124,
    "start_time": "2022-10-08T16:22:59.177Z"
   },
   {
    "duration": 5,
    "start_time": "2022-10-08T16:22:59.303Z"
   },
   {
    "duration": 179,
    "start_time": "2022-10-08T16:22:59.310Z"
   },
   {
    "duration": 6,
    "start_time": "2022-10-08T16:22:59.491Z"
   },
   {
    "duration": 14459,
    "start_time": "2022-10-08T16:22:59.498Z"
   },
   {
    "duration": 1655,
    "start_time": "2022-10-08T16:23:13.959Z"
   },
   {
    "duration": 22,
    "start_time": "2022-10-08T16:23:15.616Z"
   },
   {
    "duration": 1199,
    "start_time": "2022-10-08T16:23:15.640Z"
   },
   {
    "duration": 0,
    "start_time": "2022-10-08T16:23:16.843Z"
   },
   {
    "duration": 0,
    "start_time": "2022-10-08T16:23:16.844Z"
   },
   {
    "duration": 0,
    "start_time": "2022-10-08T16:23:16.845Z"
   },
   {
    "duration": 0,
    "start_time": "2022-10-08T16:23:16.846Z"
   },
   {
    "duration": 0,
    "start_time": "2022-10-08T16:23:16.847Z"
   },
   {
    "duration": 0,
    "start_time": "2022-10-08T16:23:16.849Z"
   },
   {
    "duration": 0,
    "start_time": "2022-10-08T16:23:16.850Z"
   },
   {
    "duration": 0,
    "start_time": "2022-10-08T16:23:16.851Z"
   },
   {
    "duration": 0,
    "start_time": "2022-10-08T16:23:16.852Z"
   },
   {
    "duration": 0,
    "start_time": "2022-10-08T16:23:16.853Z"
   },
   {
    "duration": 0,
    "start_time": "2022-10-08T16:23:16.855Z"
   },
   {
    "duration": 0,
    "start_time": "2022-10-08T16:23:16.856Z"
   },
   {
    "duration": 0,
    "start_time": "2022-10-08T16:23:16.858Z"
   },
   {
    "duration": 0,
    "start_time": "2022-10-08T16:23:16.858Z"
   },
   {
    "duration": 0,
    "start_time": "2022-10-08T16:23:16.860Z"
   },
   {
    "duration": 0,
    "start_time": "2022-10-08T16:23:16.861Z"
   },
   {
    "duration": 0,
    "start_time": "2022-10-08T16:23:16.862Z"
   },
   {
    "duration": 0,
    "start_time": "2022-10-08T16:23:16.863Z"
   },
   {
    "duration": 0,
    "start_time": "2022-10-08T16:23:16.865Z"
   },
   {
    "duration": 0,
    "start_time": "2022-10-08T16:23:16.865Z"
   },
   {
    "duration": 0,
    "start_time": "2022-10-08T16:23:16.867Z"
   },
   {
    "duration": 0,
    "start_time": "2022-10-08T16:23:16.868Z"
   },
   {
    "duration": 0,
    "start_time": "2022-10-08T16:23:16.869Z"
   },
   {
    "duration": 0,
    "start_time": "2022-10-08T16:23:16.871Z"
   },
   {
    "duration": 0,
    "start_time": "2022-10-08T16:23:16.872Z"
   },
   {
    "duration": 0,
    "start_time": "2022-10-08T16:23:16.873Z"
   },
   {
    "duration": 0,
    "start_time": "2022-10-08T16:23:16.874Z"
   },
   {
    "duration": 0,
    "start_time": "2022-10-08T16:23:16.876Z"
   },
   {
    "duration": 0,
    "start_time": "2022-10-08T16:23:16.877Z"
   },
   {
    "duration": 0,
    "start_time": "2022-10-08T16:23:16.878Z"
   },
   {
    "duration": 0,
    "start_time": "2022-10-08T16:23:16.879Z"
   },
   {
    "duration": 0,
    "start_time": "2022-10-08T16:23:16.880Z"
   },
   {
    "duration": 0,
    "start_time": "2022-10-08T16:23:16.881Z"
   },
   {
    "duration": 0,
    "start_time": "2022-10-08T16:23:16.882Z"
   },
   {
    "duration": 0,
    "start_time": "2022-10-08T16:23:16.884Z"
   },
   {
    "duration": 0,
    "start_time": "2022-10-08T16:23:16.885Z"
   },
   {
    "duration": 0,
    "start_time": "2022-10-08T16:23:16.886Z"
   },
   {
    "duration": 0,
    "start_time": "2022-10-08T16:23:16.887Z"
   },
   {
    "duration": 0,
    "start_time": "2022-10-08T16:23:16.888Z"
   },
   {
    "duration": 0,
    "start_time": "2022-10-08T16:23:16.889Z"
   },
   {
    "duration": 0,
    "start_time": "2022-10-08T16:23:16.890Z"
   },
   {
    "duration": 0,
    "start_time": "2022-10-08T16:23:16.954Z"
   },
   {
    "duration": 0,
    "start_time": "2022-10-08T16:23:16.955Z"
   },
   {
    "duration": 0,
    "start_time": "2022-10-08T16:23:16.957Z"
   },
   {
    "duration": 0,
    "start_time": "2022-10-08T16:23:16.958Z"
   },
   {
    "duration": 0,
    "start_time": "2022-10-08T16:23:16.959Z"
   },
   {
    "duration": 0,
    "start_time": "2022-10-08T16:23:16.960Z"
   },
   {
    "duration": 0,
    "start_time": "2022-10-08T16:23:16.962Z"
   },
   {
    "duration": 0,
    "start_time": "2022-10-08T16:23:16.963Z"
   },
   {
    "duration": 0,
    "start_time": "2022-10-08T16:23:16.964Z"
   },
   {
    "duration": 0,
    "start_time": "2022-10-08T16:23:16.965Z"
   },
   {
    "duration": 0,
    "start_time": "2022-10-08T16:23:16.966Z"
   },
   {
    "duration": 0,
    "start_time": "2022-10-08T16:23:16.966Z"
   },
   {
    "duration": 0,
    "start_time": "2022-10-08T16:23:16.968Z"
   },
   {
    "duration": 0,
    "start_time": "2022-10-08T16:23:16.969Z"
   },
   {
    "duration": 0,
    "start_time": "2022-10-08T16:23:16.970Z"
   },
   {
    "duration": 0,
    "start_time": "2022-10-08T16:23:16.972Z"
   },
   {
    "duration": 0,
    "start_time": "2022-10-08T16:23:16.973Z"
   },
   {
    "duration": 0,
    "start_time": "2022-10-08T16:23:16.974Z"
   },
   {
    "duration": 0,
    "start_time": "2022-10-08T16:23:16.975Z"
   },
   {
    "duration": 0,
    "start_time": "2022-10-08T16:23:16.976Z"
   },
   {
    "duration": 0,
    "start_time": "2022-10-08T16:23:16.977Z"
   },
   {
    "duration": 0,
    "start_time": "2022-10-08T16:23:16.978Z"
   },
   {
    "duration": 0,
    "start_time": "2022-10-08T16:23:16.979Z"
   },
   {
    "duration": 0,
    "start_time": "2022-10-08T16:23:16.980Z"
   },
   {
    "duration": 0,
    "start_time": "2022-10-08T16:23:16.981Z"
   },
   {
    "duration": 0,
    "start_time": "2022-10-08T16:23:16.982Z"
   },
   {
    "duration": 0,
    "start_time": "2022-10-08T16:23:16.983Z"
   },
   {
    "duration": 0,
    "start_time": "2022-10-08T16:23:16.984Z"
   },
   {
    "duration": 0,
    "start_time": "2022-10-08T16:23:16.985Z"
   },
   {
    "duration": 0,
    "start_time": "2022-10-08T16:23:16.986Z"
   },
   {
    "duration": 7560,
    "start_time": "2022-10-08T16:23:29.697Z"
   },
   {
    "duration": 2974,
    "start_time": "2022-10-08T16:23:48.695Z"
   },
   {
    "duration": 66,
    "start_time": "2022-10-08T16:23:51.672Z"
   },
   {
    "duration": 9315,
    "start_time": "2022-10-08T16:23:51.741Z"
   },
   {
    "duration": 507,
    "start_time": "2022-10-08T16:24:01.058Z"
   },
   {
    "duration": 5,
    "start_time": "2022-10-08T16:24:01.567Z"
   },
   {
    "duration": 56,
    "start_time": "2022-10-08T16:24:01.574Z"
   },
   {
    "duration": 291,
    "start_time": "2022-10-08T16:24:01.633Z"
   },
   {
    "duration": 38,
    "start_time": "2022-10-08T16:24:01.926Z"
   },
   {
    "duration": 4,
    "start_time": "2022-10-08T16:24:01.965Z"
   },
   {
    "duration": 36,
    "start_time": "2022-10-08T16:24:01.971Z"
   },
   {
    "duration": 79,
    "start_time": "2022-10-08T16:24:02.008Z"
   },
   {
    "duration": 3,
    "start_time": "2022-10-08T16:24:02.089Z"
   },
   {
    "duration": 23,
    "start_time": "2022-10-08T16:24:02.094Z"
   },
   {
    "duration": 83,
    "start_time": "2022-10-08T16:24:02.119Z"
   },
   {
    "duration": 3,
    "start_time": "2022-10-08T16:24:02.203Z"
   },
   {
    "duration": 60,
    "start_time": "2022-10-08T16:24:02.208Z"
   },
   {
    "duration": 29,
    "start_time": "2022-10-08T16:24:02.270Z"
   },
   {
    "duration": 66,
    "start_time": "2022-10-08T16:24:02.301Z"
   },
   {
    "duration": 31,
    "start_time": "2022-10-08T16:24:02.369Z"
   },
   {
    "duration": 63,
    "start_time": "2022-10-08T16:24:02.402Z"
   },
   {
    "duration": 20,
    "start_time": "2022-10-08T16:24:02.467Z"
   },
   {
    "duration": 10,
    "start_time": "2022-10-08T16:24:02.489Z"
   },
   {
    "duration": 55,
    "start_time": "2022-10-08T16:24:02.500Z"
   },
   {
    "duration": 5,
    "start_time": "2022-10-08T16:24:02.557Z"
   },
   {
    "duration": 11,
    "start_time": "2022-10-08T16:24:02.565Z"
   },
   {
    "duration": 9,
    "start_time": "2022-10-08T16:24:02.578Z"
   },
   {
    "duration": 26,
    "start_time": "2022-10-08T16:24:02.588Z"
   },
   {
    "duration": 49,
    "start_time": "2022-10-08T16:24:02.618Z"
   },
   {
    "duration": 15,
    "start_time": "2022-10-08T16:24:02.669Z"
   },
   {
    "duration": 30,
    "start_time": "2022-10-08T16:24:02.686Z"
   },
   {
    "duration": 4,
    "start_time": "2022-10-08T16:24:02.718Z"
   },
   {
    "duration": 95,
    "start_time": "2022-10-08T16:24:02.724Z"
   },
   {
    "duration": 4,
    "start_time": "2022-10-08T16:24:02.821Z"
   },
   {
    "duration": 176,
    "start_time": "2022-10-08T16:24:02.827Z"
   },
   {
    "duration": 3,
    "start_time": "2022-10-08T16:24:03.005Z"
   },
   {
    "duration": 166,
    "start_time": "2022-10-08T16:24:03.010Z"
   },
   {
    "duration": 5,
    "start_time": "2022-10-08T16:24:03.178Z"
   },
   {
    "duration": 477,
    "start_time": "2022-10-08T16:24:03.185Z"
   },
   {
    "duration": 6,
    "start_time": "2022-10-08T16:24:03.664Z"
   },
   {
    "duration": 11,
    "start_time": "2022-10-08T16:24:03.672Z"
   },
   {
    "duration": 4,
    "start_time": "2022-10-08T16:24:03.685Z"
   },
   {
    "duration": 1855,
    "start_time": "2022-10-08T16:24:03.691Z"
   },
   {
    "duration": 8,
    "start_time": "2022-10-08T16:24:05.548Z"
   },
   {
    "duration": 5164,
    "start_time": "2022-10-08T16:24:05.558Z"
   },
   {
    "duration": 5,
    "start_time": "2022-10-08T16:24:10.726Z"
   },
   {
    "duration": 5234,
    "start_time": "2022-10-08T16:24:10.733Z"
   },
   {
    "duration": 7,
    "start_time": "2022-10-08T16:24:15.969Z"
   },
   {
    "duration": 5065,
    "start_time": "2022-10-08T16:24:15.978Z"
   },
   {
    "duration": 4,
    "start_time": "2022-10-08T16:24:21.045Z"
   },
   {
    "duration": 6001,
    "start_time": "2022-10-08T16:24:21.054Z"
   },
   {
    "duration": 13,
    "start_time": "2022-10-08T16:24:27.057Z"
   },
   {
    "duration": 55,
    "start_time": "2022-10-08T16:24:27.072Z"
   },
   {
    "duration": 4,
    "start_time": "2022-10-08T16:24:27.129Z"
   },
   {
    "duration": 130,
    "start_time": "2022-10-08T16:24:27.135Z"
   },
   {
    "duration": 9,
    "start_time": "2022-10-08T16:24:27.273Z"
   },
   {
    "duration": 189,
    "start_time": "2022-10-08T16:24:27.283Z"
   },
   {
    "duration": 13,
    "start_time": "2022-10-08T16:24:27.474Z"
   },
   {
    "duration": 6,
    "start_time": "2022-10-08T16:24:27.489Z"
   },
   {
    "duration": 18,
    "start_time": "2022-10-08T16:24:27.497Z"
   },
   {
    "duration": 112,
    "start_time": "2022-10-08T16:24:27.517Z"
   },
   {
    "duration": 6,
    "start_time": "2022-10-08T16:24:27.631Z"
   },
   {
    "duration": 205,
    "start_time": "2022-10-08T16:24:27.639Z"
   },
   {
    "duration": 5,
    "start_time": "2022-10-08T16:24:27.846Z"
   },
   {
    "duration": 9263,
    "start_time": "2022-10-08T16:24:27.855Z"
   },
   {
    "duration": 1008,
    "start_time": "2022-10-08T16:24:37.121Z"
   },
   {
    "duration": 28,
    "start_time": "2022-10-08T16:24:38.131Z"
   },
   {
    "duration": 12530,
    "start_time": "2022-10-08T16:24:38.161Z"
   },
   {
    "duration": 86,
    "start_time": "2022-10-08T16:24:50.694Z"
   },
   {
    "duration": 34,
    "start_time": "2022-10-08T16:24:50.782Z"
   },
   {
    "duration": 6,
    "start_time": "2022-10-08T16:24:50.819Z"
   },
   {
    "duration": 6385,
    "start_time": "2022-10-08T16:24:50.827Z"
   },
   {
    "duration": 6,
    "start_time": "2022-10-08T16:24:57.215Z"
   },
   {
    "duration": 199,
    "start_time": "2022-10-08T16:24:57.223Z"
   },
   {
    "duration": 5,
    "start_time": "2022-10-08T16:24:57.424Z"
   },
   {
    "duration": 137,
    "start_time": "2022-10-08T16:24:57.430Z"
   },
   {
    "duration": 6,
    "start_time": "2022-10-08T16:24:57.570Z"
   },
   {
    "duration": 227,
    "start_time": "2022-10-08T16:24:57.578Z"
   },
   {
    "duration": 202,
    "start_time": "2022-10-08T16:24:57.807Z"
   },
   {
    "duration": 5,
    "start_time": "2022-10-08T16:24:58.012Z"
   },
   {
    "duration": 221,
    "start_time": "2022-10-08T16:24:58.019Z"
   },
   {
    "duration": 42,
    "start_time": "2022-10-08T16:24:58.242Z"
   },
   {
    "duration": 6,
    "start_time": "2022-10-08T16:24:58.294Z"
   },
   {
    "duration": 223,
    "start_time": "2022-10-08T16:24:58.302Z"
   },
   {
    "duration": 32,
    "start_time": "2022-10-08T16:24:58.527Z"
   },
   {
    "duration": 7,
    "start_time": "2022-10-08T16:24:58.561Z"
   },
   {
    "duration": 267,
    "start_time": "2022-10-08T16:24:58.570Z"
   },
   {
    "duration": 23,
    "start_time": "2022-10-08T16:24:58.839Z"
   },
   {
    "duration": 55,
    "start_time": "2022-10-08T16:24:58.866Z"
   },
   {
    "duration": 0,
    "start_time": "2022-10-08T16:24:58.923Z"
   },
   {
    "duration": 0,
    "start_time": "2022-10-08T16:24:58.924Z"
   },
   {
    "duration": 0,
    "start_time": "2022-10-08T16:24:58.925Z"
   },
   {
    "duration": 0,
    "start_time": "2022-10-08T16:24:58.926Z"
   },
   {
    "duration": 0,
    "start_time": "2022-10-08T16:24:58.927Z"
   },
   {
    "duration": 0,
    "start_time": "2022-10-08T16:24:58.929Z"
   },
   {
    "duration": 0,
    "start_time": "2022-10-08T16:24:58.930Z"
   },
   {
    "duration": 0,
    "start_time": "2022-10-08T16:24:58.931Z"
   },
   {
    "duration": 0,
    "start_time": "2022-10-08T16:24:58.932Z"
   },
   {
    "duration": 0,
    "start_time": "2022-10-08T16:24:58.933Z"
   },
   {
    "duration": 0,
    "start_time": "2022-10-08T16:24:58.934Z"
   },
   {
    "duration": 0,
    "start_time": "2022-10-08T16:24:58.936Z"
   },
   {
    "duration": 1,
    "start_time": "2022-10-08T16:24:58.936Z"
   },
   {
    "duration": 0,
    "start_time": "2022-10-08T16:24:58.938Z"
   },
   {
    "duration": 0,
    "start_time": "2022-10-08T16:24:58.939Z"
   },
   {
    "duration": 0,
    "start_time": "2022-10-08T16:24:58.960Z"
   },
   {
    "duration": 0,
    "start_time": "2022-10-08T16:24:58.961Z"
   },
   {
    "duration": 0,
    "start_time": "2022-10-08T16:24:58.962Z"
   },
   {
    "duration": 0,
    "start_time": "2022-10-08T16:24:58.963Z"
   },
   {
    "duration": 1,
    "start_time": "2022-10-08T16:24:58.964Z"
   },
   {
    "duration": 0,
    "start_time": "2022-10-08T16:24:58.966Z"
   },
   {
    "duration": 0,
    "start_time": "2022-10-08T16:24:58.968Z"
   },
   {
    "duration": 0,
    "start_time": "2022-10-08T16:24:58.969Z"
   },
   {
    "duration": 0,
    "start_time": "2022-10-08T16:24:58.970Z"
   },
   {
    "duration": 0,
    "start_time": "2022-10-08T16:24:58.971Z"
   },
   {
    "duration": 0,
    "start_time": "2022-10-08T16:24:58.974Z"
   },
   {
    "duration": 0,
    "start_time": "2022-10-08T16:24:58.975Z"
   },
   {
    "duration": 0,
    "start_time": "2022-10-08T16:24:58.976Z"
   },
   {
    "duration": 0,
    "start_time": "2022-10-08T16:24:58.978Z"
   },
   {
    "duration": 0,
    "start_time": "2022-10-08T16:24:58.979Z"
   },
   {
    "duration": 0,
    "start_time": "2022-10-08T16:24:58.981Z"
   },
   {
    "duration": 0,
    "start_time": "2022-10-08T16:24:58.982Z"
   },
   {
    "duration": 0,
    "start_time": "2022-10-08T16:24:58.984Z"
   },
   {
    "duration": 0,
    "start_time": "2022-10-08T16:24:58.987Z"
   },
   {
    "duration": 0,
    "start_time": "2022-10-08T16:24:58.989Z"
   },
   {
    "duration": 0,
    "start_time": "2022-10-08T16:24:58.990Z"
   },
   {
    "duration": 0,
    "start_time": "2022-10-08T16:24:58.992Z"
   },
   {
    "duration": 0,
    "start_time": "2022-10-08T16:24:58.993Z"
   },
   {
    "duration": 0,
    "start_time": "2022-10-08T16:24:58.994Z"
   },
   {
    "duration": 0,
    "start_time": "2022-10-08T16:24:58.995Z"
   },
   {
    "duration": 0,
    "start_time": "2022-10-08T16:24:58.997Z"
   },
   {
    "duration": 0,
    "start_time": "2022-10-08T16:24:58.998Z"
   },
   {
    "duration": 0,
    "start_time": "2022-10-08T16:24:58.998Z"
   },
   {
    "duration": 0,
    "start_time": "2022-10-08T16:24:58.999Z"
   },
   {
    "duration": 0,
    "start_time": "2022-10-08T16:24:59.000Z"
   },
   {
    "duration": 0,
    "start_time": "2022-10-08T16:24:59.055Z"
   },
   {
    "duration": 0,
    "start_time": "2022-10-08T16:24:59.056Z"
   },
   {
    "duration": 0,
    "start_time": "2022-10-08T16:24:59.059Z"
   },
   {
    "duration": 0,
    "start_time": "2022-10-08T16:24:59.061Z"
   },
   {
    "duration": 0,
    "start_time": "2022-10-08T16:24:59.062Z"
   },
   {
    "duration": 8,
    "start_time": "2022-10-08T16:25:47.337Z"
   },
   {
    "duration": 7,
    "start_time": "2022-10-08T16:25:57.144Z"
   },
   {
    "duration": 28,
    "start_time": "2022-10-08T16:25:57.153Z"
   },
   {
    "duration": 5,
    "start_time": "2022-10-08T16:25:57.182Z"
   },
   {
    "duration": 469,
    "start_time": "2022-10-08T16:25:57.189Z"
   },
   {
    "duration": 229,
    "start_time": "2022-10-08T16:25:57.661Z"
   },
   {
    "duration": 90,
    "start_time": "2022-10-08T16:25:57.892Z"
   },
   {
    "duration": 437,
    "start_time": "2022-10-08T16:25:57.984Z"
   },
   {
    "duration": 21,
    "start_time": "2022-10-08T16:25:58.423Z"
   },
   {
    "duration": 6,
    "start_time": "2022-10-08T16:25:58.453Z"
   },
   {
    "duration": 18,
    "start_time": "2022-10-08T16:25:58.460Z"
   },
   {
    "duration": 5,
    "start_time": "2022-10-08T16:25:58.480Z"
   },
   {
    "duration": 111,
    "start_time": "2022-10-08T16:25:58.486Z"
   },
   {
    "duration": 5,
    "start_time": "2022-10-08T16:25:58.598Z"
   },
   {
    "duration": 115,
    "start_time": "2022-10-08T16:25:58.606Z"
   },
   {
    "duration": 5,
    "start_time": "2022-10-08T16:25:58.723Z"
   },
   {
    "duration": 190,
    "start_time": "2022-10-08T16:25:58.729Z"
   },
   {
    "duration": 4,
    "start_time": "2022-10-08T16:25:58.920Z"
   },
   {
    "duration": 10,
    "start_time": "2022-10-08T16:25:58.926Z"
   },
   {
    "duration": 19,
    "start_time": "2022-10-08T16:25:58.937Z"
   },
   {
    "duration": 18,
    "start_time": "2022-10-08T16:25:58.958Z"
   },
   {
    "duration": 22,
    "start_time": "2022-10-08T16:25:58.977Z"
   },
   {
    "duration": 784,
    "start_time": "2022-10-08T16:25:59.000Z"
   },
   {
    "duration": 238,
    "start_time": "2022-10-08T16:25:59.787Z"
   },
   {
    "duration": 122833,
    "start_time": "2022-10-08T16:26:00.027Z"
   },
   {
    "duration": 648,
    "start_time": "2022-10-08T16:28:02.866Z"
   },
   {
    "duration": 5,
    "start_time": "2022-10-08T16:28:03.516Z"
   },
   {
    "duration": 10,
    "start_time": "2022-10-08T16:28:03.522Z"
   },
   {
    "duration": 45871,
    "start_time": "2022-10-08T16:28:26.533Z"
   },
   {
    "duration": 1521,
    "start_time": "2022-10-08T16:30:19.293Z"
   },
   {
    "duration": 8037,
    "start_time": "2022-10-08T16:30:40.904Z"
   },
   {
    "duration": 3,
    "start_time": "2022-10-08T16:34:14.053Z"
   },
   {
    "duration": 11,
    "start_time": "2022-10-08T16:34:37.495Z"
   },
   {
    "duration": 5,
    "start_time": "2022-10-08T16:34:45.102Z"
   },
   {
    "duration": 366,
    "start_time": "2022-10-08T16:35:08.307Z"
   },
   {
    "duration": 3,
    "start_time": "2022-10-08T16:35:21.277Z"
   },
   {
    "duration": 5,
    "start_time": "2022-10-08T16:35:28.545Z"
   },
   {
    "duration": 51,
    "start_time": "2022-10-08T16:35:29.794Z"
   },
   {
    "duration": 7585,
    "start_time": "2022-10-08T16:36:27.663Z"
   },
   {
    "duration": 1350,
    "start_time": "2022-10-08T16:37:42.325Z"
   },
   {
    "duration": 8217,
    "start_time": "2022-10-08T16:37:45.303Z"
   },
   {
    "duration": 47,
    "start_time": "2022-10-08T16:37:53.522Z"
   },
   {
    "duration": 5,
    "start_time": "2022-10-08T16:37:53.572Z"
   },
   {
    "duration": 375,
    "start_time": "2022-10-08T16:37:55.067Z"
   },
   {
    "duration": 79,
    "start_time": "2022-10-08T16:38:35.590Z"
   },
   {
    "duration": 8191,
    "start_time": "2022-10-08T16:38:44.176Z"
   },
   {
    "duration": 3,
    "start_time": "2022-10-08T16:39:35.243Z"
   },
   {
    "duration": 7221,
    "start_time": "2022-10-08T16:39:37.144Z"
   },
   {
    "duration": 7,
    "start_time": "2022-10-08T16:39:53.259Z"
   },
   {
    "duration": 154,
    "start_time": "2022-10-08T16:39:53.911Z"
   },
   {
    "duration": 4,
    "start_time": "2022-10-08T16:39:59.066Z"
   },
   {
    "duration": 2513,
    "start_time": "2022-10-08T16:40:01.563Z"
   },
   {
    "duration": 4,
    "start_time": "2022-10-08T16:40:35.130Z"
   },
   {
    "duration": 2440,
    "start_time": "2022-10-08T16:40:37.924Z"
   },
   {
    "duration": 2454,
    "start_time": "2022-10-08T16:40:44.323Z"
   },
   {
    "duration": 3,
    "start_time": "2022-10-08T16:43:23.737Z"
   },
   {
    "duration": 2379,
    "start_time": "2022-10-08T16:43:24.375Z"
   },
   {
    "duration": 4,
    "start_time": "2022-10-08T16:43:29.444Z"
   },
   {
    "duration": 2480,
    "start_time": "2022-10-08T16:43:29.784Z"
   },
   {
    "duration": 5,
    "start_time": "2022-10-08T16:44:55.743Z"
   },
   {
    "duration": 3,
    "start_time": "2022-10-08T16:45:57.567Z"
   },
   {
    "duration": 2771,
    "start_time": "2022-10-08T16:45:58.089Z"
   },
   {
    "duration": 4,
    "start_time": "2022-10-08T16:46:00.863Z"
   },
   {
    "duration": 20,
    "start_time": "2022-10-08T16:46:07.871Z"
   },
   {
    "duration": 4,
    "start_time": "2022-10-08T16:46:11.622Z"
   },
   {
    "duration": 1724,
    "start_time": "2022-10-08T16:46:12.153Z"
   },
   {
    "duration": 4,
    "start_time": "2022-10-08T16:46:18.143Z"
   },
   {
    "duration": 17531,
    "start_time": "2022-10-08T16:46:19.730Z"
   },
   {
    "duration": 49,
    "start_time": "2022-10-08T16:47:26.676Z"
   },
   {
    "duration": 47,
    "start_time": "2022-10-08T16:47:52.702Z"
   },
   {
    "duration": 5,
    "start_time": "2022-10-08T16:48:06.439Z"
   },
   {
    "duration": 420,
    "start_time": "2022-10-08T16:48:58.842Z"
   },
   {
    "duration": 150,
    "start_time": "2022-10-08T16:49:08.436Z"
   },
   {
    "duration": 53,
    "start_time": "2022-10-08T16:49:12.467Z"
   },
   {
    "duration": 38,
    "start_time": "2022-10-08T16:52:07.892Z"
   },
   {
    "duration": 1316,
    "start_time": "2022-10-08T16:52:08.828Z"
   },
   {
    "duration": 116,
    "start_time": "2022-10-08T16:52:20.829Z"
   },
   {
    "duration": 10984,
    "start_time": "2022-10-08T16:52:32.865Z"
   },
   {
    "duration": 59,
    "start_time": "2022-10-08T16:52:43.851Z"
   },
   {
    "duration": 3,
    "start_time": "2022-10-08T16:52:55.565Z"
   },
   {
    "duration": 42,
    "start_time": "2022-10-08T16:53:05.456Z"
   },
   {
    "duration": 39,
    "start_time": "2022-10-08T16:56:46.960Z"
   },
   {
    "duration": 1232,
    "start_time": "2022-10-08T16:56:47.401Z"
   },
   {
    "duration": 8246,
    "start_time": "2022-10-08T16:56:48.636Z"
   },
   {
    "duration": 224,
    "start_time": "2022-10-08T16:56:56.884Z"
   },
   {
    "duration": 3,
    "start_time": "2022-10-08T16:56:57.110Z"
   },
   {
    "duration": 42,
    "start_time": "2022-10-08T16:56:57.115Z"
   },
   {
    "duration": 4384,
    "start_time": "2022-10-08T16:57:11.915Z"
   },
   {
    "duration": 42,
    "start_time": "2022-10-08T16:57:19.493Z"
   },
   {
    "duration": 35,
    "start_time": "2022-10-08T16:57:26.125Z"
   },
   {
    "duration": 4,
    "start_time": "2022-10-08T16:57:34.685Z"
   },
   {
    "duration": 34,
    "start_time": "2022-10-08T16:57:35.115Z"
   },
   {
    "duration": 18466,
    "start_time": "2022-10-08T16:58:04.125Z"
   },
   {
    "duration": 3,
    "start_time": "2022-10-08T16:58:36.539Z"
   },
   {
    "duration": 68477,
    "start_time": "2022-10-08T16:58:37.497Z"
   },
   {
    "duration": 3686,
    "start_time": "2022-10-08T17:01:55.867Z"
   },
   {
    "duration": 29,
    "start_time": "2022-10-08T17:01:59.556Z"
   },
   {
    "duration": 37,
    "start_time": "2022-10-08T17:01:59.588Z"
   },
   {
    "duration": 1243,
    "start_time": "2022-10-08T17:01:59.627Z"
   },
   {
    "duration": 8843,
    "start_time": "2022-10-08T17:02:00.872Z"
   },
   {
    "duration": 224,
    "start_time": "2022-10-08T17:02:09.717Z"
   },
   {
    "duration": 4,
    "start_time": "2022-10-08T17:02:09.943Z"
   },
   {
    "duration": 339,
    "start_time": "2022-10-08T17:02:09.948Z"
   },
   {
    "duration": 32,
    "start_time": "2022-10-08T17:02:10.289Z"
   },
   {
    "duration": 4,
    "start_time": "2022-10-08T17:02:10.323Z"
   },
   {
    "duration": 30,
    "start_time": "2022-10-08T17:02:10.355Z"
   },
   {
    "duration": 78,
    "start_time": "2022-10-08T17:02:10.387Z"
   },
   {
    "duration": 4,
    "start_time": "2022-10-08T17:02:10.466Z"
   },
   {
    "duration": 13,
    "start_time": "2022-10-08T17:02:10.472Z"
   },
   {
    "duration": 71,
    "start_time": "2022-10-08T17:02:10.487Z"
   },
   {
    "duration": 3,
    "start_time": "2022-10-08T17:02:10.560Z"
   },
   {
    "duration": 42,
    "start_time": "2022-10-08T17:02:10.564Z"
   },
   {
    "duration": 50,
    "start_time": "2022-10-08T17:02:10.608Z"
   },
   {
    "duration": 26,
    "start_time": "2022-10-08T17:02:10.660Z"
   },
   {
    "duration": 74,
    "start_time": "2022-10-08T17:02:10.688Z"
   },
   {
    "duration": 28,
    "start_time": "2022-10-08T17:02:10.764Z"
   },
   {
    "duration": 20,
    "start_time": "2022-10-08T17:02:10.793Z"
   },
   {
    "duration": 41,
    "start_time": "2022-10-08T17:02:10.815Z"
   },
   {
    "duration": 7,
    "start_time": "2022-10-08T17:02:10.858Z"
   },
   {
    "duration": 7,
    "start_time": "2022-10-08T17:02:10.867Z"
   },
   {
    "duration": 31,
    "start_time": "2022-10-08T17:02:10.875Z"
   },
   {
    "duration": 68,
    "start_time": "2022-10-08T17:02:10.908Z"
   },
   {
    "duration": 36,
    "start_time": "2022-10-08T17:02:10.978Z"
   },
   {
    "duration": 58,
    "start_time": "2022-10-08T17:02:11.016Z"
   },
   {
    "duration": 16,
    "start_time": "2022-10-08T17:02:11.076Z"
   },
   {
    "duration": 34,
    "start_time": "2022-10-08T17:02:11.095Z"
   },
   {
    "duration": 4,
    "start_time": "2022-10-08T17:02:11.131Z"
   },
   {
    "duration": 93,
    "start_time": "2022-10-08T17:02:11.137Z"
   },
   {
    "duration": 4,
    "start_time": "2022-10-08T17:02:11.233Z"
   },
   {
    "duration": 202,
    "start_time": "2022-10-08T17:02:11.240Z"
   },
   {
    "duration": 12,
    "start_time": "2022-10-08T17:02:11.444Z"
   },
   {
    "duration": 198,
    "start_time": "2022-10-08T17:02:11.458Z"
   },
   {
    "duration": 7,
    "start_time": "2022-10-08T17:02:11.658Z"
   },
   {
    "duration": 502,
    "start_time": "2022-10-08T17:02:11.667Z"
   },
   {
    "duration": 5,
    "start_time": "2022-10-08T17:02:12.171Z"
   },
   {
    "duration": 13,
    "start_time": "2022-10-08T17:02:12.182Z"
   },
   {
    "duration": 5,
    "start_time": "2022-10-08T17:02:12.197Z"
   },
   {
    "duration": 1862,
    "start_time": "2022-10-08T17:02:12.204Z"
   },
   {
    "duration": 4,
    "start_time": "2022-10-08T17:02:14.069Z"
   },
   {
    "duration": 5347,
    "start_time": "2022-10-08T17:02:14.075Z"
   },
   {
    "duration": 5,
    "start_time": "2022-10-08T17:02:19.425Z"
   },
   {
    "duration": 5159,
    "start_time": "2022-10-08T17:02:19.455Z"
   },
   {
    "duration": 6,
    "start_time": "2022-10-08T17:02:24.617Z"
   },
   {
    "duration": 4706,
    "start_time": "2022-10-08T17:02:24.625Z"
   },
   {
    "duration": 4,
    "start_time": "2022-10-08T17:02:29.332Z"
   },
   {
    "duration": 5862,
    "start_time": "2022-10-08T17:02:29.337Z"
   },
   {
    "duration": 6,
    "start_time": "2022-10-08T17:02:35.202Z"
   },
   {
    "duration": 62,
    "start_time": "2022-10-08T17:02:35.210Z"
   },
   {
    "duration": 4,
    "start_time": "2022-10-08T17:02:35.274Z"
   },
   {
    "duration": 129,
    "start_time": "2022-10-08T17:02:35.280Z"
   },
   {
    "duration": 4,
    "start_time": "2022-10-08T17:02:35.412Z"
   },
   {
    "duration": 164,
    "start_time": "2022-10-08T17:02:35.418Z"
   },
   {
    "duration": 16,
    "start_time": "2022-10-08T17:02:35.585Z"
   },
   {
    "duration": 12,
    "start_time": "2022-10-08T17:02:35.603Z"
   },
   {
    "duration": 4,
    "start_time": "2022-10-08T17:02:35.617Z"
   },
   {
    "duration": 124,
    "start_time": "2022-10-08T17:02:35.623Z"
   },
   {
    "duration": 6,
    "start_time": "2022-10-08T17:02:35.753Z"
   },
   {
    "duration": 176,
    "start_time": "2022-10-08T17:02:35.760Z"
   },
   {
    "duration": 4,
    "start_time": "2022-10-08T17:02:35.937Z"
   },
   {
    "duration": 9012,
    "start_time": "2022-10-08T17:02:35.943Z"
   },
   {
    "duration": 947,
    "start_time": "2022-10-08T17:02:44.958Z"
   },
   {
    "duration": 19,
    "start_time": "2022-10-08T17:02:45.907Z"
   },
   {
    "duration": 10331,
    "start_time": "2022-10-08T17:02:45.928Z"
   },
   {
    "duration": 70,
    "start_time": "2022-10-08T17:02:56.261Z"
   },
   {
    "duration": 34,
    "start_time": "2022-10-08T17:02:56.333Z"
   },
   {
    "duration": 4,
    "start_time": "2022-10-08T17:02:56.369Z"
   },
   {
    "duration": 6485,
    "start_time": "2022-10-08T17:02:56.375Z"
   },
   {
    "duration": 5,
    "start_time": "2022-10-08T17:03:02.862Z"
   },
   {
    "duration": 172,
    "start_time": "2022-10-08T17:03:02.868Z"
   },
   {
    "duration": 12,
    "start_time": "2022-10-08T17:03:03.042Z"
   },
   {
    "duration": 128,
    "start_time": "2022-10-08T17:03:03.055Z"
   },
   {
    "duration": 4,
    "start_time": "2022-10-08T17:03:03.185Z"
   },
   {
    "duration": 208,
    "start_time": "2022-10-08T17:03:03.191Z"
   },
   {
    "duration": 181,
    "start_time": "2022-10-08T17:03:03.401Z"
   },
   {
    "duration": 5,
    "start_time": "2022-10-08T17:03:03.584Z"
   },
   {
    "duration": 182,
    "start_time": "2022-10-08T17:03:03.591Z"
   },
   {
    "duration": 26,
    "start_time": "2022-10-08T17:03:03.775Z"
   },
   {
    "duration": 4,
    "start_time": "2022-10-08T17:03:03.803Z"
   },
   {
    "duration": 218,
    "start_time": "2022-10-08T17:03:03.809Z"
   },
   {
    "duration": 28,
    "start_time": "2022-10-08T17:03:04.029Z"
   },
   {
    "duration": 5,
    "start_time": "2022-10-08T17:03:04.059Z"
   },
   {
    "duration": 256,
    "start_time": "2022-10-08T17:03:04.066Z"
   },
   {
    "duration": 8,
    "start_time": "2022-10-08T17:03:04.324Z"
   },
   {
    "duration": 26,
    "start_time": "2022-10-08T17:03:04.334Z"
   },
   {
    "duration": 22,
    "start_time": "2022-10-08T17:03:04.361Z"
   },
   {
    "duration": 5,
    "start_time": "2022-10-08T17:03:04.386Z"
   },
   {
    "duration": 247,
    "start_time": "2022-10-08T17:03:04.393Z"
   },
   {
    "duration": 259,
    "start_time": "2022-10-08T17:03:04.642Z"
   },
   {
    "duration": 108,
    "start_time": "2022-10-08T17:03:04.904Z"
   },
   {
    "duration": 538,
    "start_time": "2022-10-08T17:03:05.014Z"
   },
   {
    "duration": 26,
    "start_time": "2022-10-08T17:03:05.554Z"
   },
   {
    "duration": 7,
    "start_time": "2022-10-08T17:03:05.582Z"
   },
   {
    "duration": 19,
    "start_time": "2022-10-08T17:03:05.591Z"
   },
   {
    "duration": 5,
    "start_time": "2022-10-08T17:03:05.612Z"
   },
   {
    "duration": 128,
    "start_time": "2022-10-08T17:03:05.619Z"
   },
   {
    "duration": 4,
    "start_time": "2022-10-08T17:03:05.755Z"
   },
   {
    "duration": 111,
    "start_time": "2022-10-08T17:03:05.761Z"
   },
   {
    "duration": 5,
    "start_time": "2022-10-08T17:03:05.874Z"
   },
   {
    "duration": 209,
    "start_time": "2022-10-08T17:03:05.881Z"
   },
   {
    "duration": 4,
    "start_time": "2022-10-08T17:03:06.092Z"
   },
   {
    "duration": 35,
    "start_time": "2022-10-08T17:03:06.098Z"
   },
   {
    "duration": 23,
    "start_time": "2022-10-08T17:03:06.135Z"
   },
   {
    "duration": 19,
    "start_time": "2022-10-08T17:03:06.161Z"
   },
   {
    "duration": 27,
    "start_time": "2022-10-08T17:03:06.181Z"
   },
   {
    "duration": 808,
    "start_time": "2022-10-08T17:03:06.210Z"
   },
   {
    "duration": 261,
    "start_time": "2022-10-08T17:03:07.021Z"
   },
   {
    "duration": 8397,
    "start_time": "2022-10-08T17:03:07.284Z"
   },
   {
    "duration": 732,
    "start_time": "2022-10-08T17:03:15.683Z"
   },
   {
    "duration": 5,
    "start_time": "2022-10-08T17:03:16.417Z"
   },
   {
    "duration": 6,
    "start_time": "2022-10-08T17:03:16.424Z"
   },
   {
    "duration": 90512,
    "start_time": "2022-10-08T17:03:16.432Z"
   },
   {
    "duration": 9419,
    "start_time": "2022-10-08T17:04:46.946Z"
   },
   {
    "duration": 658,
    "start_time": "2022-10-08T17:04:56.367Z"
   },
   {
    "duration": 5,
    "start_time": "2022-10-08T17:04:57.027Z"
   },
   {
    "duration": 33,
    "start_time": "2022-10-08T17:04:57.034Z"
   },
   {
    "duration": 399,
    "start_time": "2022-10-08T17:04:57.069Z"
   },
   {
    "duration": 0,
    "start_time": "2022-10-08T17:04:57.472Z"
   },
   {
    "duration": 0,
    "start_time": "2022-10-08T17:04:57.474Z"
   },
   {
    "duration": 0,
    "start_time": "2022-10-08T17:04:57.475Z"
   },
   {
    "duration": 0,
    "start_time": "2022-10-08T17:04:57.477Z"
   },
   {
    "duration": 0,
    "start_time": "2022-10-08T17:04:57.479Z"
   },
   {
    "duration": 0,
    "start_time": "2022-10-08T17:04:57.480Z"
   },
   {
    "duration": 0,
    "start_time": "2022-10-08T17:04:57.482Z"
   },
   {
    "duration": 0,
    "start_time": "2022-10-08T17:04:57.484Z"
   },
   {
    "duration": 0,
    "start_time": "2022-10-08T17:04:57.485Z"
   },
   {
    "duration": 0,
    "start_time": "2022-10-08T17:04:57.487Z"
   },
   {
    "duration": 0,
    "start_time": "2022-10-08T17:04:57.488Z"
   },
   {
    "duration": 0,
    "start_time": "2022-10-08T17:04:57.490Z"
   },
   {
    "duration": 0,
    "start_time": "2022-10-08T17:04:57.491Z"
   },
   {
    "duration": 0,
    "start_time": "2022-10-08T17:04:57.493Z"
   },
   {
    "duration": 0,
    "start_time": "2022-10-08T17:04:57.495Z"
   },
   {
    "duration": 0,
    "start_time": "2022-10-08T17:04:57.496Z"
   },
   {
    "duration": 0,
    "start_time": "2022-10-08T17:04:57.498Z"
   },
   {
    "duration": 0,
    "start_time": "2022-10-08T17:04:57.499Z"
   },
   {
    "duration": 4,
    "start_time": "2022-10-08T17:08:55.643Z"
   },
   {
    "duration": 1725,
    "start_time": "2022-10-08T17:09:15.533Z"
   },
   {
    "duration": 7000,
    "start_time": "2022-10-08T17:09:36.691Z"
   },
   {
    "duration": 3838,
    "start_time": "2022-10-08T17:10:01.131Z"
   },
   {
    "duration": 29,
    "start_time": "2022-10-08T17:10:04.973Z"
   },
   {
    "duration": 52,
    "start_time": "2022-10-08T17:10:05.004Z"
   },
   {
    "duration": 1277,
    "start_time": "2022-10-08T17:10:05.058Z"
   },
   {
    "duration": 8724,
    "start_time": "2022-10-08T17:10:06.338Z"
   },
   {
    "duration": 248,
    "start_time": "2022-10-08T17:10:15.065Z"
   },
   {
    "duration": 4,
    "start_time": "2022-10-08T17:10:15.314Z"
   },
   {
    "duration": 287,
    "start_time": "2022-10-08T17:10:15.319Z"
   },
   {
    "duration": 50,
    "start_time": "2022-10-08T17:10:15.608Z"
   },
   {
    "duration": 4,
    "start_time": "2022-10-08T17:10:15.660Z"
   },
   {
    "duration": 33,
    "start_time": "2022-10-08T17:10:15.666Z"
   },
   {
    "duration": 68,
    "start_time": "2022-10-08T17:10:15.701Z"
   },
   {
    "duration": 3,
    "start_time": "2022-10-08T17:10:15.770Z"
   },
   {
    "duration": 31,
    "start_time": "2022-10-08T17:10:15.777Z"
   },
   {
    "duration": 72,
    "start_time": "2022-10-08T17:10:15.810Z"
   },
   {
    "duration": 3,
    "start_time": "2022-10-08T17:10:15.884Z"
   },
   {
    "duration": 69,
    "start_time": "2022-10-08T17:10:15.888Z"
   },
   {
    "duration": 25,
    "start_time": "2022-10-08T17:10:15.958Z"
   },
   {
    "duration": 35,
    "start_time": "2022-10-08T17:10:15.984Z"
   },
   {
    "duration": 64,
    "start_time": "2022-10-08T17:10:16.020Z"
   },
   {
    "duration": 29,
    "start_time": "2022-10-08T17:10:16.086Z"
   },
   {
    "duration": 50,
    "start_time": "2022-10-08T17:10:16.117Z"
   },
   {
    "duration": 24,
    "start_time": "2022-10-08T17:10:16.169Z"
   },
   {
    "duration": 13,
    "start_time": "2022-10-08T17:10:16.194Z"
   },
   {
    "duration": 17,
    "start_time": "2022-10-08T17:10:16.208Z"
   },
   {
    "duration": 19,
    "start_time": "2022-10-08T17:10:16.227Z"
   },
   {
    "duration": 34,
    "start_time": "2022-10-08T17:10:16.247Z"
   },
   {
    "duration": 29,
    "start_time": "2022-10-08T17:10:16.283Z"
   },
   {
    "duration": 31,
    "start_time": "2022-10-08T17:10:16.314Z"
   },
   {
    "duration": 15,
    "start_time": "2022-10-08T17:10:16.347Z"
   },
   {
    "duration": 30,
    "start_time": "2022-10-08T17:10:16.364Z"
   },
   {
    "duration": 4,
    "start_time": "2022-10-08T17:10:16.396Z"
   },
   {
    "duration": 85,
    "start_time": "2022-10-08T17:10:16.401Z"
   },
   {
    "duration": 3,
    "start_time": "2022-10-08T17:10:16.488Z"
   },
   {
    "duration": 193,
    "start_time": "2022-10-08T17:10:16.493Z"
   },
   {
    "duration": 4,
    "start_time": "2022-10-08T17:10:16.687Z"
   },
   {
    "duration": 176,
    "start_time": "2022-10-08T17:10:16.693Z"
   },
   {
    "duration": 5,
    "start_time": "2022-10-08T17:10:16.871Z"
   },
   {
    "duration": 504,
    "start_time": "2022-10-08T17:10:16.877Z"
   },
   {
    "duration": 5,
    "start_time": "2022-10-08T17:10:17.383Z"
   },
   {
    "duration": 31,
    "start_time": "2022-10-08T17:10:17.394Z"
   },
   {
    "duration": 18,
    "start_time": "2022-10-08T17:10:17.455Z"
   },
   {
    "duration": 1861,
    "start_time": "2022-10-08T17:10:17.475Z"
   },
   {
    "duration": 5,
    "start_time": "2022-10-08T17:10:19.353Z"
   },
   {
    "duration": 5266,
    "start_time": "2022-10-08T17:10:19.360Z"
   },
   {
    "duration": 27,
    "start_time": "2022-10-08T17:10:24.628Z"
   },
   {
    "duration": 4919,
    "start_time": "2022-10-08T17:10:24.657Z"
   },
   {
    "duration": 7,
    "start_time": "2022-10-08T17:10:29.578Z"
   },
   {
    "duration": 4774,
    "start_time": "2022-10-08T17:10:29.586Z"
   },
   {
    "duration": 3,
    "start_time": "2022-10-08T17:10:34.362Z"
   },
   {
    "duration": 5766,
    "start_time": "2022-10-08T17:10:34.367Z"
   },
   {
    "duration": 5,
    "start_time": "2022-10-08T17:10:40.134Z"
   },
   {
    "duration": 74,
    "start_time": "2022-10-08T17:10:40.141Z"
   },
   {
    "duration": 4,
    "start_time": "2022-10-08T17:10:40.217Z"
   },
   {
    "duration": 151,
    "start_time": "2022-10-08T17:10:40.223Z"
   },
   {
    "duration": 6,
    "start_time": "2022-10-08T17:10:40.376Z"
   },
   {
    "duration": 156,
    "start_time": "2022-10-08T17:10:40.384Z"
   },
   {
    "duration": 23,
    "start_time": "2022-10-08T17:10:40.542Z"
   },
   {
    "duration": 15,
    "start_time": "2022-10-08T17:10:40.567Z"
   },
   {
    "duration": 11,
    "start_time": "2022-10-08T17:10:40.584Z"
   },
   {
    "duration": 153,
    "start_time": "2022-10-08T17:10:40.597Z"
   },
   {
    "duration": 5,
    "start_time": "2022-10-08T17:10:40.754Z"
   },
   {
    "duration": 178,
    "start_time": "2022-10-08T17:10:40.761Z"
   },
   {
    "duration": 5,
    "start_time": "2022-10-08T17:10:40.940Z"
   },
   {
    "duration": 8987,
    "start_time": "2022-10-08T17:10:40.954Z"
   },
   {
    "duration": 937,
    "start_time": "2022-10-08T17:10:49.944Z"
   },
   {
    "duration": 20,
    "start_time": "2022-10-08T17:10:50.884Z"
   },
   {
    "duration": 10576,
    "start_time": "2022-10-08T17:10:50.906Z"
   },
   {
    "duration": 97,
    "start_time": "2022-10-08T17:11:01.484Z"
   },
   {
    "duration": 30,
    "start_time": "2022-10-08T17:11:01.584Z"
   },
   {
    "duration": 19,
    "start_time": "2022-10-08T17:11:01.617Z"
   },
   {
    "duration": 6237,
    "start_time": "2022-10-08T17:11:01.639Z"
   },
   {
    "duration": 4,
    "start_time": "2022-10-08T17:11:07.878Z"
   },
   {
    "duration": 173,
    "start_time": "2022-10-08T17:11:07.883Z"
   },
   {
    "duration": 5,
    "start_time": "2022-10-08T17:11:08.058Z"
   },
   {
    "duration": 120,
    "start_time": "2022-10-08T17:11:08.065Z"
   },
   {
    "duration": 5,
    "start_time": "2022-10-08T17:11:08.187Z"
   },
   {
    "duration": 215,
    "start_time": "2022-10-08T17:11:08.194Z"
   },
   {
    "duration": 175,
    "start_time": "2022-10-08T17:11:08.411Z"
   },
   {
    "duration": 6,
    "start_time": "2022-10-08T17:11:08.588Z"
   },
   {
    "duration": 201,
    "start_time": "2022-10-08T17:11:08.596Z"
   },
   {
    "duration": 24,
    "start_time": "2022-10-08T17:11:08.799Z"
   },
   {
    "duration": 4,
    "start_time": "2022-10-08T17:11:08.825Z"
   },
   {
    "duration": 211,
    "start_time": "2022-10-08T17:11:08.831Z"
   },
   {
    "duration": 15,
    "start_time": "2022-10-08T17:11:09.053Z"
   },
   {
    "duration": 10,
    "start_time": "2022-10-08T17:11:09.070Z"
   },
   {
    "duration": 244,
    "start_time": "2022-10-08T17:11:09.083Z"
   },
   {
    "duration": 28,
    "start_time": "2022-10-08T17:11:09.329Z"
   },
   {
    "duration": 7,
    "start_time": "2022-10-08T17:11:09.358Z"
   },
   {
    "duration": 21,
    "start_time": "2022-10-08T17:11:09.367Z"
   },
   {
    "duration": 4,
    "start_time": "2022-10-08T17:11:09.390Z"
   },
   {
    "duration": 246,
    "start_time": "2022-10-08T17:11:09.396Z"
   },
   {
    "duration": 238,
    "start_time": "2022-10-08T17:11:09.644Z"
   },
   {
    "duration": 96,
    "start_time": "2022-10-08T17:11:09.884Z"
   },
   {
    "duration": 464,
    "start_time": "2022-10-08T17:11:09.982Z"
   },
   {
    "duration": 25,
    "start_time": "2022-10-08T17:11:10.447Z"
   },
   {
    "duration": 6,
    "start_time": "2022-10-08T17:11:10.474Z"
   },
   {
    "duration": 24,
    "start_time": "2022-10-08T17:11:10.481Z"
   },
   {
    "duration": 6,
    "start_time": "2022-10-08T17:11:10.507Z"
   },
   {
    "duration": 122,
    "start_time": "2022-10-08T17:11:10.516Z"
   },
   {
    "duration": 14,
    "start_time": "2022-10-08T17:11:10.640Z"
   },
   {
    "duration": 109,
    "start_time": "2022-10-08T17:11:10.656Z"
   },
   {
    "duration": 5,
    "start_time": "2022-10-08T17:11:10.767Z"
   },
   {
    "duration": 209,
    "start_time": "2022-10-08T17:11:10.774Z"
   },
   {
    "duration": 3,
    "start_time": "2022-10-08T17:11:10.986Z"
   },
   {
    "duration": 14,
    "start_time": "2022-10-08T17:11:10.991Z"
   },
   {
    "duration": 15,
    "start_time": "2022-10-08T17:11:11.007Z"
   },
   {
    "duration": 13,
    "start_time": "2022-10-08T17:11:11.024Z"
   },
   {
    "duration": 25,
    "start_time": "2022-10-08T17:11:11.040Z"
   },
   {
    "duration": 918,
    "start_time": "2022-10-08T17:11:11.067Z"
   },
   {
    "duration": 212,
    "start_time": "2022-10-08T17:11:11.987Z"
   },
   {
    "duration": 8672,
    "start_time": "2022-10-08T17:11:12.201Z"
   },
   {
    "duration": 755,
    "start_time": "2022-10-08T17:11:20.875Z"
   },
   {
    "duration": 8,
    "start_time": "2022-10-08T17:11:21.634Z"
   },
   {
    "duration": 17,
    "start_time": "2022-10-08T17:11:21.644Z"
   },
   {
    "duration": 82821,
    "start_time": "2022-10-08T17:11:21.664Z"
   },
   {
    "duration": 8694,
    "start_time": "2022-10-08T17:12:44.486Z"
   },
   {
    "duration": 714,
    "start_time": "2022-10-08T17:12:53.182Z"
   },
   {
    "duration": 5,
    "start_time": "2022-10-08T17:12:53.898Z"
   },
   {
    "duration": 26,
    "start_time": "2022-10-08T17:12:53.904Z"
   },
   {
    "duration": 26,
    "start_time": "2022-10-08T17:12:53.932Z"
   },
   {
    "duration": 4,
    "start_time": "2022-10-08T17:12:53.966Z"
   },
   {
    "duration": 11,
    "start_time": "2022-10-08T17:12:53.972Z"
   },
   {
    "duration": 7,
    "start_time": "2022-10-08T17:12:53.984Z"
   },
   {
    "duration": 16,
    "start_time": "2022-10-08T17:12:53.992Z"
   },
   {
    "duration": 184,
    "start_time": "2022-10-08T17:12:54.009Z"
   },
   {
    "duration": 44075,
    "start_time": "2022-10-08T17:12:54.195Z"
   },
   {
    "duration": 201,
    "start_time": "2022-10-08T17:13:38.272Z"
   },
   {
    "duration": 6,
    "start_time": "2022-10-08T17:13:38.475Z"
   },
   {
    "duration": 120,
    "start_time": "2022-10-08T17:13:38.483Z"
   },
   {
    "duration": 5,
    "start_time": "2022-10-08T17:13:38.605Z"
   },
   {
    "duration": 196,
    "start_time": "2022-10-08T17:13:38.612Z"
   },
   {
    "duration": 107,
    "start_time": "2022-10-08T17:13:38.810Z"
   },
   {
    "duration": 5,
    "start_time": "2022-10-08T17:13:38.918Z"
   },
   {
    "duration": 594,
    "start_time": "2022-10-08T17:13:38.925Z"
   },
   {
    "duration": 5,
    "start_time": "2022-10-08T17:13:39.521Z"
   },
   {
    "duration": 26,
    "start_time": "2022-10-08T17:13:39.528Z"
   },
   {
    "duration": 18,
    "start_time": "2022-10-08T17:13:39.557Z"
   },
   {
    "duration": 13,
    "start_time": "2022-10-08T17:13:39.577Z"
   },
   {
    "duration": 64774,
    "start_time": "2022-10-09T11:46:52.227Z"
   },
   {
    "duration": 613,
    "start_time": "2022-10-09T11:47:57.004Z"
   },
   {
    "duration": 37,
    "start_time": "2022-10-09T11:47:57.619Z"
   },
   {
    "duration": 71,
    "start_time": "2022-10-09T11:47:57.658Z"
   },
   {
    "duration": 0,
    "start_time": "2022-10-09T11:47:57.737Z"
   },
   {
    "duration": 0,
    "start_time": "2022-10-09T11:47:57.739Z"
   },
   {
    "duration": 0,
    "start_time": "2022-10-09T11:47:57.740Z"
   },
   {
    "duration": 0,
    "start_time": "2022-10-09T11:47:57.741Z"
   },
   {
    "duration": 0,
    "start_time": "2022-10-09T11:47:57.742Z"
   },
   {
    "duration": 0,
    "start_time": "2022-10-09T11:47:57.744Z"
   },
   {
    "duration": 0,
    "start_time": "2022-10-09T11:47:57.745Z"
   },
   {
    "duration": 0,
    "start_time": "2022-10-09T11:47:57.746Z"
   },
   {
    "duration": 0,
    "start_time": "2022-10-09T11:47:57.748Z"
   },
   {
    "duration": 0,
    "start_time": "2022-10-09T11:47:57.749Z"
   },
   {
    "duration": 0,
    "start_time": "2022-10-09T11:47:57.750Z"
   },
   {
    "duration": 0,
    "start_time": "2022-10-09T11:47:57.751Z"
   },
   {
    "duration": 0,
    "start_time": "2022-10-09T11:47:57.751Z"
   },
   {
    "duration": 0,
    "start_time": "2022-10-09T11:47:57.752Z"
   },
   {
    "duration": 0,
    "start_time": "2022-10-09T11:47:57.753Z"
   },
   {
    "duration": 0,
    "start_time": "2022-10-09T11:47:57.754Z"
   },
   {
    "duration": 0,
    "start_time": "2022-10-09T11:47:57.755Z"
   },
   {
    "duration": 0,
    "start_time": "2022-10-09T11:47:57.756Z"
   },
   {
    "duration": 0,
    "start_time": "2022-10-09T11:47:57.757Z"
   },
   {
    "duration": 0,
    "start_time": "2022-10-09T11:47:57.758Z"
   },
   {
    "duration": 0,
    "start_time": "2022-10-09T11:47:57.759Z"
   },
   {
    "duration": 0,
    "start_time": "2022-10-09T11:47:57.760Z"
   },
   {
    "duration": 0,
    "start_time": "2022-10-09T11:47:57.761Z"
   },
   {
    "duration": 0,
    "start_time": "2022-10-09T11:47:57.762Z"
   },
   {
    "duration": 0,
    "start_time": "2022-10-09T11:47:57.764Z"
   },
   {
    "duration": 0,
    "start_time": "2022-10-09T11:47:57.764Z"
   },
   {
    "duration": 0,
    "start_time": "2022-10-09T11:47:57.809Z"
   },
   {
    "duration": 0,
    "start_time": "2022-10-09T11:47:57.810Z"
   },
   {
    "duration": 0,
    "start_time": "2022-10-09T11:47:57.811Z"
   },
   {
    "duration": 0,
    "start_time": "2022-10-09T11:47:57.812Z"
   },
   {
    "duration": 0,
    "start_time": "2022-10-09T11:47:57.813Z"
   },
   {
    "duration": 0,
    "start_time": "2022-10-09T11:47:57.814Z"
   },
   {
    "duration": 0,
    "start_time": "2022-10-09T11:47:57.815Z"
   },
   {
    "duration": 0,
    "start_time": "2022-10-09T11:47:57.816Z"
   },
   {
    "duration": 0,
    "start_time": "2022-10-09T11:47:57.817Z"
   },
   {
    "duration": 0,
    "start_time": "2022-10-09T11:47:57.818Z"
   },
   {
    "duration": 0,
    "start_time": "2022-10-09T11:47:57.819Z"
   },
   {
    "duration": 0,
    "start_time": "2022-10-09T11:47:57.820Z"
   },
   {
    "duration": 0,
    "start_time": "2022-10-09T11:47:57.821Z"
   },
   {
    "duration": 0,
    "start_time": "2022-10-09T11:47:57.822Z"
   },
   {
    "duration": 0,
    "start_time": "2022-10-09T11:47:57.824Z"
   },
   {
    "duration": 0,
    "start_time": "2022-10-09T11:47:57.825Z"
   },
   {
    "duration": 0,
    "start_time": "2022-10-09T11:47:57.826Z"
   },
   {
    "duration": 0,
    "start_time": "2022-10-09T11:47:57.827Z"
   },
   {
    "duration": 0,
    "start_time": "2022-10-09T11:47:57.827Z"
   },
   {
    "duration": 0,
    "start_time": "2022-10-09T11:47:57.828Z"
   },
   {
    "duration": 0,
    "start_time": "2022-10-09T11:47:57.829Z"
   },
   {
    "duration": 0,
    "start_time": "2022-10-09T11:47:57.831Z"
   },
   {
    "duration": 0,
    "start_time": "2022-10-09T11:47:57.831Z"
   },
   {
    "duration": 0,
    "start_time": "2022-10-09T11:47:57.832Z"
   },
   {
    "duration": 0,
    "start_time": "2022-10-09T11:47:57.833Z"
   },
   {
    "duration": 0,
    "start_time": "2022-10-09T11:47:57.834Z"
   },
   {
    "duration": 0,
    "start_time": "2022-10-09T11:47:57.835Z"
   },
   {
    "duration": 0,
    "start_time": "2022-10-09T11:47:57.836Z"
   },
   {
    "duration": 0,
    "start_time": "2022-10-09T11:47:57.837Z"
   },
   {
    "duration": 0,
    "start_time": "2022-10-09T11:47:57.838Z"
   },
   {
    "duration": 0,
    "start_time": "2022-10-09T11:47:57.839Z"
   },
   {
    "duration": 0,
    "start_time": "2022-10-09T11:47:57.840Z"
   },
   {
    "duration": 0,
    "start_time": "2022-10-09T11:47:57.841Z"
   },
   {
    "duration": 0,
    "start_time": "2022-10-09T11:47:57.841Z"
   },
   {
    "duration": 0,
    "start_time": "2022-10-09T11:47:57.842Z"
   },
   {
    "duration": 0,
    "start_time": "2022-10-09T11:47:57.844Z"
   },
   {
    "duration": 0,
    "start_time": "2022-10-09T11:47:57.845Z"
   },
   {
    "duration": 0,
    "start_time": "2022-10-09T11:47:57.908Z"
   },
   {
    "duration": 0,
    "start_time": "2022-10-09T11:47:57.910Z"
   },
   {
    "duration": 0,
    "start_time": "2022-10-09T11:47:57.911Z"
   },
   {
    "duration": 0,
    "start_time": "2022-10-09T11:47:57.912Z"
   },
   {
    "duration": 0,
    "start_time": "2022-10-09T11:47:57.913Z"
   },
   {
    "duration": 0,
    "start_time": "2022-10-09T11:47:57.914Z"
   },
   {
    "duration": 0,
    "start_time": "2022-10-09T11:47:57.915Z"
   },
   {
    "duration": 0,
    "start_time": "2022-10-09T11:47:57.916Z"
   },
   {
    "duration": 0,
    "start_time": "2022-10-09T11:47:57.921Z"
   },
   {
    "duration": 0,
    "start_time": "2022-10-09T11:47:57.922Z"
   },
   {
    "duration": 0,
    "start_time": "2022-10-09T11:47:57.923Z"
   },
   {
    "duration": 0,
    "start_time": "2022-10-09T11:47:57.924Z"
   },
   {
    "duration": 0,
    "start_time": "2022-10-09T11:47:57.924Z"
   },
   {
    "duration": 0,
    "start_time": "2022-10-09T11:47:57.925Z"
   },
   {
    "duration": 0,
    "start_time": "2022-10-09T11:47:57.926Z"
   },
   {
    "duration": 0,
    "start_time": "2022-10-09T11:47:57.927Z"
   },
   {
    "duration": 0,
    "start_time": "2022-10-09T11:47:57.928Z"
   },
   {
    "duration": 0,
    "start_time": "2022-10-09T11:47:57.929Z"
   },
   {
    "duration": 0,
    "start_time": "2022-10-09T11:47:57.929Z"
   },
   {
    "duration": 0,
    "start_time": "2022-10-09T11:47:57.930Z"
   },
   {
    "duration": 0,
    "start_time": "2022-10-09T11:47:57.931Z"
   },
   {
    "duration": 0,
    "start_time": "2022-10-09T11:47:57.932Z"
   },
   {
    "duration": 0,
    "start_time": "2022-10-09T11:47:57.933Z"
   },
   {
    "duration": 0,
    "start_time": "2022-10-09T11:47:57.934Z"
   },
   {
    "duration": 0,
    "start_time": "2022-10-09T11:47:57.935Z"
   },
   {
    "duration": 0,
    "start_time": "2022-10-09T11:47:57.936Z"
   },
   {
    "duration": 0,
    "start_time": "2022-10-09T11:47:57.936Z"
   },
   {
    "duration": 0,
    "start_time": "2022-10-09T11:47:57.937Z"
   },
   {
    "duration": 0,
    "start_time": "2022-10-09T11:47:57.938Z"
   },
   {
    "duration": 0,
    "start_time": "2022-10-09T11:47:57.939Z"
   },
   {
    "duration": 0,
    "start_time": "2022-10-09T11:47:57.940Z"
   },
   {
    "duration": 0,
    "start_time": "2022-10-09T11:47:57.941Z"
   },
   {
    "duration": 0,
    "start_time": "2022-10-09T11:47:57.942Z"
   },
   {
    "duration": 0,
    "start_time": "2022-10-09T11:47:57.943Z"
   },
   {
    "duration": 0,
    "start_time": "2022-10-09T11:47:57.944Z"
   },
   {
    "duration": 0,
    "start_time": "2022-10-09T11:47:58.009Z"
   },
   {
    "duration": 0,
    "start_time": "2022-10-09T11:47:58.010Z"
   },
   {
    "duration": 0,
    "start_time": "2022-10-09T11:47:58.011Z"
   },
   {
    "duration": 0,
    "start_time": "2022-10-09T11:47:58.012Z"
   },
   {
    "duration": 0,
    "start_time": "2022-10-09T11:47:58.013Z"
   },
   {
    "duration": 0,
    "start_time": "2022-10-09T11:47:58.014Z"
   },
   {
    "duration": 0,
    "start_time": "2022-10-09T11:47:58.015Z"
   },
   {
    "duration": 0,
    "start_time": "2022-10-09T11:47:58.016Z"
   },
   {
    "duration": 0,
    "start_time": "2022-10-09T11:47:58.016Z"
   },
   {
    "duration": 0,
    "start_time": "2022-10-09T11:47:58.017Z"
   },
   {
    "duration": 0,
    "start_time": "2022-10-09T11:47:58.018Z"
   },
   {
    "duration": 0,
    "start_time": "2022-10-09T11:47:58.019Z"
   },
   {
    "duration": 0,
    "start_time": "2022-10-09T11:47:58.020Z"
   },
   {
    "duration": 0,
    "start_time": "2022-10-09T11:47:58.021Z"
   },
   {
    "duration": 0,
    "start_time": "2022-10-09T11:47:58.022Z"
   },
   {
    "duration": 0,
    "start_time": "2022-10-09T11:47:58.023Z"
   },
   {
    "duration": 0,
    "start_time": "2022-10-09T11:47:58.024Z"
   },
   {
    "duration": 0,
    "start_time": "2022-10-09T11:47:58.025Z"
   },
   {
    "duration": 0,
    "start_time": "2022-10-09T11:47:58.026Z"
   },
   {
    "duration": 0,
    "start_time": "2022-10-09T11:47:58.027Z"
   },
   {
    "duration": 0,
    "start_time": "2022-10-09T11:47:58.028Z"
   },
   {
    "duration": 0,
    "start_time": "2022-10-09T11:47:58.028Z"
   },
   {
    "duration": 0,
    "start_time": "2022-10-09T11:47:58.029Z"
   },
   {
    "duration": 0,
    "start_time": "2022-10-09T11:47:58.030Z"
   },
   {
    "duration": 0,
    "start_time": "2022-10-09T11:47:58.031Z"
   },
   {
    "duration": 0,
    "start_time": "2022-10-09T11:47:58.032Z"
   },
   {
    "duration": 0,
    "start_time": "2022-10-09T11:47:58.032Z"
   },
   {
    "duration": 0,
    "start_time": "2022-10-09T11:47:58.033Z"
   },
   {
    "duration": 0,
    "start_time": "2022-10-09T11:47:58.034Z"
   },
   {
    "duration": 0,
    "start_time": "2022-10-09T11:47:58.034Z"
   },
   {
    "duration": 0,
    "start_time": "2022-10-09T11:47:58.035Z"
   },
   {
    "duration": 0,
    "start_time": "2022-10-09T11:47:58.036Z"
   },
   {
    "duration": 0,
    "start_time": "2022-10-09T11:47:58.037Z"
   },
   {
    "duration": 0,
    "start_time": "2022-10-09T11:47:58.037Z"
   },
   {
    "duration": 0,
    "start_time": "2022-10-09T11:47:58.038Z"
   },
   {
    "duration": 0,
    "start_time": "2022-10-09T11:47:58.039Z"
   },
   {
    "duration": 0,
    "start_time": "2022-10-09T11:47:58.040Z"
   },
   {
    "duration": 35,
    "start_time": "2022-10-09T11:49:27.299Z"
   },
   {
    "duration": 33,
    "start_time": "2022-10-09T11:49:27.336Z"
   },
   {
    "duration": 1276,
    "start_time": "2022-10-09T11:49:27.371Z"
   },
   {
    "duration": 16094,
    "start_time": "2022-10-09T11:49:28.649Z"
   },
   {
    "duration": 448,
    "start_time": "2022-10-09T11:49:44.745Z"
   },
   {
    "duration": 3,
    "start_time": "2022-10-09T11:49:45.195Z"
   },
   {
    "duration": 330,
    "start_time": "2022-10-09T11:49:45.200Z"
   },
   {
    "duration": 27,
    "start_time": "2022-10-09T11:49:45.532Z"
   },
   {
    "duration": 3,
    "start_time": "2022-10-09T11:49:45.560Z"
   },
   {
    "duration": 50,
    "start_time": "2022-10-09T11:49:45.566Z"
   },
   {
    "duration": 26,
    "start_time": "2022-10-09T11:49:45.618Z"
   },
   {
    "duration": 6,
    "start_time": "2022-10-09T11:49:45.645Z"
   },
   {
    "duration": 14,
    "start_time": "2022-10-09T11:49:45.652Z"
   },
   {
    "duration": 80,
    "start_time": "2022-10-09T11:49:45.667Z"
   },
   {
    "duration": 3,
    "start_time": "2022-10-09T11:49:45.749Z"
   },
   {
    "duration": 37,
    "start_time": "2022-10-09T11:49:45.754Z"
   },
   {
    "duration": 26,
    "start_time": "2022-10-09T11:49:45.809Z"
   },
   {
    "duration": 23,
    "start_time": "2022-10-09T11:49:45.836Z"
   },
   {
    "duration": 72,
    "start_time": "2022-10-09T11:49:45.860Z"
   },
   {
    "duration": 22,
    "start_time": "2022-10-09T11:49:45.934Z"
   },
   {
    "duration": 11,
    "start_time": "2022-10-09T11:49:45.958Z"
   },
   {
    "duration": 39,
    "start_time": "2022-10-09T11:49:45.971Z"
   },
   {
    "duration": 6,
    "start_time": "2022-10-09T11:49:46.011Z"
   },
   {
    "duration": 7,
    "start_time": "2022-10-09T11:49:46.018Z"
   },
   {
    "duration": 5,
    "start_time": "2022-10-09T11:49:46.026Z"
   },
   {
    "duration": 8,
    "start_time": "2022-10-09T11:49:46.033Z"
   },
   {
    "duration": 22,
    "start_time": "2022-10-09T11:49:46.043Z"
   },
   {
    "duration": 39,
    "start_time": "2022-10-09T11:49:46.070Z"
   },
   {
    "duration": 12,
    "start_time": "2022-10-09T11:49:46.111Z"
   },
   {
    "duration": 22,
    "start_time": "2022-10-09T11:49:46.124Z"
   },
   {
    "duration": 3,
    "start_time": "2022-10-09T11:49:46.148Z"
   },
   {
    "duration": 90,
    "start_time": "2022-10-09T11:49:46.153Z"
   },
   {
    "duration": 3,
    "start_time": "2022-10-09T11:49:46.245Z"
   },
   {
    "duration": 162,
    "start_time": "2022-10-09T11:49:46.249Z"
   },
   {
    "duration": 3,
    "start_time": "2022-10-09T11:49:46.412Z"
   },
   {
    "duration": 135,
    "start_time": "2022-10-09T11:49:46.417Z"
   },
   {
    "duration": 6,
    "start_time": "2022-10-09T11:49:46.553Z"
   },
   {
    "duration": 502,
    "start_time": "2022-10-09T11:49:46.560Z"
   },
   {
    "duration": 5,
    "start_time": "2022-10-09T11:49:47.063Z"
   },
   {
    "duration": 12,
    "start_time": "2022-10-09T11:49:47.070Z"
   },
   {
    "duration": 26,
    "start_time": "2022-10-09T11:49:47.084Z"
   },
   {
    "duration": 1842,
    "start_time": "2022-10-09T11:49:47.112Z"
   },
   {
    "duration": 4,
    "start_time": "2022-10-09T11:49:48.956Z"
   },
   {
    "duration": 5366,
    "start_time": "2022-10-09T11:49:48.961Z"
   },
   {
    "duration": 5,
    "start_time": "2022-10-09T11:49:54.329Z"
   },
   {
    "duration": 5040,
    "start_time": "2022-10-09T11:49:54.335Z"
   },
   {
    "duration": 7,
    "start_time": "2022-10-09T11:49:59.378Z"
   },
   {
    "duration": 4843,
    "start_time": "2022-10-09T11:49:59.386Z"
   },
   {
    "duration": 3,
    "start_time": "2022-10-09T11:50:04.230Z"
   },
   {
    "duration": 4657,
    "start_time": "2022-10-09T11:50:04.234Z"
   },
   {
    "duration": 4,
    "start_time": "2022-10-09T11:50:08.892Z"
   },
   {
    "duration": 51,
    "start_time": "2022-10-09T11:50:08.898Z"
   },
   {
    "duration": 3,
    "start_time": "2022-10-09T11:50:08.951Z"
   },
   {
    "duration": 121,
    "start_time": "2022-10-09T11:50:08.955Z"
   },
   {
    "duration": 4,
    "start_time": "2022-10-09T11:50:09.078Z"
   },
   {
    "duration": 145,
    "start_time": "2022-10-09T11:50:09.084Z"
   },
   {
    "duration": 11,
    "start_time": "2022-10-09T11:50:09.231Z"
   },
   {
    "duration": 7,
    "start_time": "2022-10-09T11:50:09.244Z"
   },
   {
    "duration": 7,
    "start_time": "2022-10-09T11:50:09.253Z"
   },
   {
    "duration": 106,
    "start_time": "2022-10-09T11:50:09.261Z"
   },
   {
    "duration": 5,
    "start_time": "2022-10-09T11:50:09.369Z"
   },
   {
    "duration": 161,
    "start_time": "2022-10-09T11:50:09.375Z"
   },
   {
    "duration": 4,
    "start_time": "2022-10-09T11:50:09.538Z"
   },
   {
    "duration": 6935,
    "start_time": "2022-10-09T11:50:09.543Z"
   },
   {
    "duration": 932,
    "start_time": "2022-10-09T11:50:16.480Z"
   },
   {
    "duration": 16,
    "start_time": "2022-10-09T11:50:17.414Z"
   },
   {
    "duration": 8835,
    "start_time": "2022-10-09T11:50:17.432Z"
   },
   {
    "duration": 68,
    "start_time": "2022-10-09T11:50:26.269Z"
   },
   {
    "duration": 20,
    "start_time": "2022-10-09T11:50:26.338Z"
   },
   {
    "duration": 3,
    "start_time": "2022-10-09T11:50:26.360Z"
   },
   {
    "duration": 4943,
    "start_time": "2022-10-09T11:50:26.364Z"
   },
   {
    "duration": 3,
    "start_time": "2022-10-09T11:50:31.309Z"
   },
   {
    "duration": 168,
    "start_time": "2022-10-09T11:50:31.314Z"
   },
   {
    "duration": 3,
    "start_time": "2022-10-09T11:50:31.483Z"
   },
   {
    "duration": 120,
    "start_time": "2022-10-09T11:50:31.488Z"
   },
   {
    "duration": 3,
    "start_time": "2022-10-09T11:50:31.610Z"
   },
   {
    "duration": 183,
    "start_time": "2022-10-09T11:50:31.615Z"
   },
   {
    "duration": 151,
    "start_time": "2022-10-09T11:50:31.800Z"
   },
   {
    "duration": 4,
    "start_time": "2022-10-09T11:50:31.952Z"
   },
   {
    "duration": 162,
    "start_time": "2022-10-09T11:50:31.958Z"
   },
   {
    "duration": 18,
    "start_time": "2022-10-09T11:50:32.122Z"
   },
   {
    "duration": 15,
    "start_time": "2022-10-09T11:50:32.146Z"
   },
   {
    "duration": 189,
    "start_time": "2022-10-09T11:50:32.163Z"
   },
   {
    "duration": 12,
    "start_time": "2022-10-09T11:50:32.353Z"
   },
   {
    "duration": 46,
    "start_time": "2022-10-09T11:50:32.367Z"
   },
   {
    "duration": 255,
    "start_time": "2022-10-09T11:50:32.415Z"
   },
   {
    "duration": 9,
    "start_time": "2022-10-09T11:50:32.672Z"
   },
   {
    "duration": 46,
    "start_time": "2022-10-09T11:50:32.683Z"
   },
   {
    "duration": 48,
    "start_time": "2022-10-09T11:50:32.731Z"
   },
   {
    "duration": 27,
    "start_time": "2022-10-09T11:50:32.781Z"
   },
   {
    "duration": 220,
    "start_time": "2022-10-09T11:50:32.810Z"
   },
   {
    "duration": 222,
    "start_time": "2022-10-09T11:50:33.032Z"
   },
   {
    "duration": 83,
    "start_time": "2022-10-09T11:50:33.256Z"
   },
   {
    "duration": 451,
    "start_time": "2022-10-09T11:50:33.340Z"
   },
   {
    "duration": 22,
    "start_time": "2022-10-09T11:50:33.793Z"
   },
   {
    "duration": 21,
    "start_time": "2022-10-09T11:50:33.816Z"
   },
   {
    "duration": 36,
    "start_time": "2022-10-09T11:50:33.839Z"
   },
   {
    "duration": 37,
    "start_time": "2022-10-09T11:50:33.877Z"
   },
   {
    "duration": 101,
    "start_time": "2022-10-09T11:50:33.916Z"
   },
   {
    "duration": 5,
    "start_time": "2022-10-09T11:50:34.018Z"
   },
   {
    "duration": 107,
    "start_time": "2022-10-09T11:50:34.024Z"
   },
   {
    "duration": 5,
    "start_time": "2022-10-09T11:50:34.132Z"
   },
   {
    "duration": 203,
    "start_time": "2022-10-09T11:50:34.138Z"
   },
   {
    "duration": 3,
    "start_time": "2022-10-09T11:50:34.342Z"
   },
   {
    "duration": 27,
    "start_time": "2022-10-09T11:50:34.347Z"
   },
   {
    "duration": 23,
    "start_time": "2022-10-09T11:50:34.376Z"
   },
   {
    "duration": 32,
    "start_time": "2022-10-09T11:50:34.401Z"
   },
   {
    "duration": 37,
    "start_time": "2022-10-09T11:50:34.435Z"
   },
   {
    "duration": 589,
    "start_time": "2022-10-09T11:50:34.473Z"
   },
   {
    "duration": 286,
    "start_time": "2022-10-09T11:50:35.064Z"
   },
   {
    "duration": 7564,
    "start_time": "2022-10-09T11:50:35.352Z"
   },
   {
    "duration": 626,
    "start_time": "2022-10-09T11:50:42.918Z"
   },
   {
    "duration": 4,
    "start_time": "2022-10-09T11:50:43.545Z"
   },
   {
    "duration": 10,
    "start_time": "2022-10-09T11:50:43.551Z"
   },
   {
    "duration": 73773,
    "start_time": "2022-10-09T11:50:43.563Z"
   },
   {
    "duration": 6496,
    "start_time": "2022-10-09T11:51:57.337Z"
   },
   {
    "duration": 619,
    "start_time": "2022-10-09T11:52:03.835Z"
   },
   {
    "duration": 4,
    "start_time": "2022-10-09T11:52:04.455Z"
   },
   {
    "duration": 17,
    "start_time": "2022-10-09T11:52:04.461Z"
   },
   {
    "duration": 5,
    "start_time": "2022-10-09T11:52:04.480Z"
   },
   {
    "duration": 3,
    "start_time": "2022-10-09T11:52:04.486Z"
   },
   {
    "duration": 8,
    "start_time": "2022-10-09T11:52:04.490Z"
   },
   {
    "duration": 9,
    "start_time": "2022-10-09T11:52:04.500Z"
   },
   {
    "duration": 4,
    "start_time": "2022-10-09T11:52:04.510Z"
   },
   {
    "duration": 169,
    "start_time": "2022-10-09T11:52:04.515Z"
   },
   {
    "duration": 41527,
    "start_time": "2022-10-09T11:52:04.685Z"
   },
   {
    "duration": 161,
    "start_time": "2022-10-09T11:52:46.214Z"
   },
   {
    "duration": 4,
    "start_time": "2022-10-09T11:52:46.377Z"
   },
   {
    "duration": 133,
    "start_time": "2022-10-09T11:52:46.382Z"
   },
   {
    "duration": 5,
    "start_time": "2022-10-09T11:52:46.516Z"
   },
   {
    "duration": 170,
    "start_time": "2022-10-09T11:52:46.523Z"
   },
   {
    "duration": 96,
    "start_time": "2022-10-09T11:52:46.695Z"
   },
   {
    "duration": 16,
    "start_time": "2022-10-09T11:52:46.792Z"
   },
   {
    "duration": 150,
    "start_time": "2022-10-09T11:52:46.810Z"
   },
   {
    "duration": 4,
    "start_time": "2022-10-09T11:52:46.962Z"
   },
   {
    "duration": 17,
    "start_time": "2022-10-09T11:52:46.967Z"
   },
   {
    "duration": 30,
    "start_time": "2022-10-09T11:52:46.986Z"
   },
   {
    "duration": 10,
    "start_time": "2022-10-09T11:52:47.018Z"
   },
   {
    "duration": 4,
    "start_time": "2022-10-09T12:15:26.497Z"
   },
   {
    "duration": 457,
    "start_time": "2022-10-09T12:15:30.841Z"
   },
   {
    "duration": 7,
    "start_time": "2022-10-09T12:15:39.662Z"
   },
   {
    "duration": 5,
    "start_time": "2022-10-09T12:34:51.702Z"
   },
   {
    "duration": 15,
    "start_time": "2022-10-09T12:34:53.237Z"
   },
   {
    "duration": 6,
    "start_time": "2022-10-09T12:35:07.498Z"
   },
   {
    "duration": 10,
    "start_time": "2022-10-09T12:35:08.506Z"
   }
  ],
  "hide_input": false,
  "kernelspec": {
   "display_name": "Python 3 (ipykernel)",
   "language": "python",
   "name": "python3"
  },
  "language_info": {
   "codemirror_mode": {
    "name": "ipython",
    "version": 3
   },
   "file_extension": ".py",
   "mimetype": "text/x-python",
   "name": "python",
   "nbconvert_exporter": "python",
   "pygments_lexer": "ipython3",
   "version": "3.9.13"
  },
  "toc": {
   "base_numbering": 1,
   "nav_menu": {},
   "number_sections": false,
   "sideBar": true,
   "skip_h1_title": false,
   "title_cell": "Table of Contents",
   "title_sidebar": "Contents",
   "toc_cell": false,
   "toc_position": {
    "height": "calc(100% - 180px)",
    "left": "10px",
    "top": "150px",
    "width": "355px"
   },
   "toc_section_display": true,
   "toc_window_display": false
  },
  "varInspector": {
   "cols": {
    "lenName": "40",
    "lenType": 16,
    "lenVar": "16"
   },
   "kernels_config": {
    "python": {
     "delete_cmd_postfix": "",
     "delete_cmd_prefix": "del ",
     "library": "var_list.py",
     "varRefreshCmd": "print(var_dic_list())"
    },
    "r": {
     "delete_cmd_postfix": ") ",
     "delete_cmd_prefix": "rm(",
     "library": "var_list.r",
     "varRefreshCmd": "cat(var_dic_list()) "
    }
   },
   "types_to_exclude": [
    "module",
    "function",
    "builtin_function_or_method",
    "instance",
    "_Feature"
   ],
   "window_display": false
  }
 },
 "nbformat": 4,
 "nbformat_minor": 5
}
