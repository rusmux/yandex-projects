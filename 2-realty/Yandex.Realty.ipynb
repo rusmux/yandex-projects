{
 "cells": [
  {
   "cell_type": "markdown",
   "metadata": {
    "id": "vJjaI9yQfHbC"
   },
   "source": [
    "# Исследование объявлений о продаже квартир в Питере\n",
    "\n",
    "Данное исследование ставит перед собой цель определить, как различные характеристики квартиры влияют на ее конечную стоимость, и выявить среди них наиболее сильные признаки для будущей автоматизированной системы отслеживания аномалий и мошеннической деятельности.\n",
    "\n",
    "Исследование основывается на архивных данных сервиса Яндекс.Недвижимость. По каждой квартире на продажу доступно два вида данных. Первые вписаны пользователем, вторые — получены автоматически на основе картографических данных. Например, расстояние до центра, аэропорта, ближайшего парка и водоёма.\n",
    "\n",
    "**Структура данных:**\n",
    "\n",
    "Данные Яндекс.Недвижимости о недвижимости в Санкт-Петербурге находятся в файле `realty_data.csv`:\n",
    "\n",
    "* `total_images` — число фотографий квартиры в объявлении\n",
    "\n",
    "* `last_price` — цена на момент снятия публикации\n",
    "\n",
    "* `total_area` — общая площадь квартиры в квадратных метрах\n",
    "\n",
    "* `first_day_exposition` — дата публикации\n",
    "\n",
    "* `rooms` — число комнат\n",
    "\n",
    "* `ceiling_height` — высота потолков в метрах\n",
    "\n",
    "* `floors_total` — всего этажей в доме\n",
    "\n",
    "* `living_area` — жилая площадь в квадратных метрах\n",
    "\n",
    "* `floor` — этаж\n",
    "\n",
    "* `is_apartment` — является ли апартаментами (да/нет)\n",
    "\n",
    "* `studio` — является ли студией (да/нет)\n",
    "\n",
    "* `open_plan` — свободная планировка (да/нет)\n",
    "\n",
    "* `kitchen_area` — площадь кухни в квадратных метрах\n",
    "\n",
    "* `balcony` — число балконов\n",
    "\n",
    "* `locality_name` — название населённого пункта\n",
    "\n",
    "* `airports_nearest` — расстояние до ближайшего аэропорта в метрах\n",
    "\n",
    "* `cityCenters_nearest` — рассторяние до ближайшего торгового центра в метрах\n",
    "\n",
    "* `parks_around3000` — количество парков в радиусе 3 км\n",
    "\n",
    "* `parks_nearest` — расстояние до ближайшего парка в метрах\n",
    "\n",
    "* `ponds_around3000` — количество водоёмов в радиусе 3 км\n",
    "\n",
    "* `ponds_nearest` — расстояние до ближайшего водоёма в метрах\n",
    "\n",
    "* `days_exposition` — количество дней от публикации до снятия\n",
    "\t\t\t\t\t\t\t\t\t\t\t\t\t\t\t\n",
    "**План:**\n",
    "\n",
    "<div class=\"toc\">\n",
    "   <ul class=\"toc-item\">\n",
    "      <li><span><a href=\"#Setup\" data-toc-modified-id=\"Setup-2\">Setup</a></span></li>\n",
    "      <li><span><a href=\"#Вспомогательные-функции\" data-toc-modified-id=\"Вспомогательные-функции-3\">Вспомогательные функции</a></span></li>\n",
    "      <li>\n",
    "         <span><a href=\"#Предобработка-данных\" data-toc-modified-id=\"Предобработка-данных-4\">Предобработка данных</a></span>\n",
    "         <ul class=\"toc-item\">\n",
    "            <li><span><a href=\"#Общее\" data-toc-modified-id=\"Общее-4.1\">Общее</a></span></li>\n",
    "            <li><span><a href=\"#Удаление-столбцов\" data-toc-modified-id=\"Удаление-столбцов-4.2\">Удаление столбцов</a></span></li>\n",
    "            <li>\n",
    "               <span><a href=\"#Работа-с-пропусками-и-аномальными-значениями\" data-toc-modified-id=\"Работа-с-пропусками-и-аномальными-значениями-4.3\">Работа с пропусками и аномальными значениями</a></span>\n",
    "               <ul class=\"toc-item\">\n",
    "                  <li><span><a href=\"#last_price\" data-toc-modified-id=\"last_price-4.3.1\">last_price</a></span></li>\n",
    "                  <li><span><a href=\"#total_area\" data-toc-modified-id=\"total_area-4.3.2\">total_area</a></span></li>\n",
    "                  <li><span><a href=\"#rooms\" data-toc-modified-id=\"rooms-4.3.3\">rooms</a></span></li>\n",
    "                  <li><span><a href=\"#ceiling_height\" data-toc-modified-id=\"ceiling_height-4.3.4\">ceiling_height</a></span></li>\n",
    "                  <li><span><a href=\"#floors_total\" data-toc-modified-id=\"floors_total-4.3.5\">floors_total</a></span></li>\n",
    "                  <li><span><a href=\"#living_area\" data-toc-modified-id=\"living_area-4.3.6\">living_area</a></span></li>\n",
    "                  <li><span><a href=\"#kitchen_area\" data-toc-modified-id=\"kitchen_area-4.3.7\">kitchen_area</a></span></li>\n",
    "                  <li><span><a href=\"#balcony\" data-toc-modified-id=\"balcony-4.3.8\">balcony</a></span></li>\n",
    "                  <li><span><a href=\"#airports_nearest\" data-toc-modified-id=\"airports_nearest-4.3.9\">airports_nearest</a></span></li>\n",
    "                  <li><span><a href=\"#city_centers_nearest\" data-toc-modified-id=\"city_centers_nearest-4.3.10\">city_centers_nearest</a></span></li>\n",
    "                  <li><span><a href=\"#parks_around_3000\" data-toc-modified-id=\"parks_around_3000-4.3.11\">parks_around_3000</a></span></li>\n",
    "                  <li><span><a href=\"#ponds_around_3000\" data-toc-modified-id=\"ponds_around_3000-4.3.12\">ponds_around_3000</a></span></li>\n",
    "                  <li><span><a href=\"#parks_nearest\" data-toc-modified-id=\"parks_nearest-4.3.13\">parks_nearest</a></span></li>\n",
    "                  <li><span><a href=\"#ponds_nearest\" data-toc-modified-id=\"ponds_nearest-4.3.14\">ponds_nearest</a></span></li>\n",
    "                  <li><span><a href=\"#days_exposition\" data-toc-modified-id=\"days_exposition-4.3.15\">days_exposition</a></span></li>\n",
    "               </ul>\n",
    "            </li>\n",
    "         </ul>\n",
    "      </li>\n",
    "      <li>\n",
    "         <span><a href=\"#Отбор-признаков\" data-toc-modified-id=\"Отбор-признаков-5\">Отбор признаков</a></span>\n",
    "         <ul class=\"toc-item\">\n",
    "            <li><span><a href=\"#Общее\" data-toc-modified-id=\"Общее-5.1\">Общее</a></span></li>\n",
    "            <li><span><a href=\"#locality_name\" data-toc-modified-id=\"locality_name-5.2\">locality_name</a></span></li>\n",
    "            <li><span><a href=\"#first_day_exposition\" data-toc-modified-id=\"first_day_exposition-5.3\">first_day_exposition</a></span></li>\n",
    "            <li><span><a href=\"#floor\" data-toc-modified-id=\"floor-5.4\">floor</a></span></li>\n",
    "            <li><span><a href=\"#Отбор-признаков-с-sklearn\" data-toc-modified-id=\"Отбор-признаков-с-sklearn-5.5\">Отбор признаков с sklearn</a></span></li>\n",
    "            <li><span><a href=\"#Вывод\" data-toc-modified-id=\"Вывод-5.6\">Вывод</a></span></li>\n",
    "            <li><span><a href=\"#Отбор-признаков-в-центральной-части-Санкт-Петербурга\" data-toc-modified-id=\"Отбор-признаков-в-центральной-части-Санкт-Петербурга-5.7\">Отбор признаков в центральной части Санкт-Петербурга</a></span></li>\n",
    "         </ul>\n",
    "      </li>\n",
    "   </ul>\n",
    "</div>"
   ]
  },
  {
   "cell_type": "markdown",
   "metadata": {
    "id": "WhVJALCdfDqf"
   },
   "source": [
    "# Setup"
   ]
  },
  {
   "cell_type": "code",
   "execution_count": null,
   "metadata": {
    "ExecuteTime": {
     "end_time": "2022-07-21T12:41:04.728871Z",
     "start_time": "2022-07-21T12:41:04.718626Z"
    },
    "id": "M-Jsm9mmtt6m"
   },
   "outputs": [],
   "source": [
    "import warnings\n",
    "from copy import deepcopy\n",
    "\n",
    "import matplotlib.pyplot as plt\n",
    "import numpy as np\n",
    "import pandas as pd\n",
    "import plotly.express as px\n",
    "import seaborn as sns\n",
    "from matplotlib_inline.backend_inline import set_matplotlib_formats\n",
    "from scipy.cluster import hierarchy\n",
    "from scipy.spatial.distance import squareform\n",
    "from scipy.stats import spearmanr\n",
    "from sklearn.ensemble import HistGradientBoostingRegressor, RandomForestRegressor\n",
    "from sklearn.feature_selection import (\n",
    "    SelectFromModel,\n",
    "    SelectKBest,\n",
    "    SequentialFeatureSelector,\n",
    "    f_regression,\n",
    "    mutual_info_regression,\n",
    ")\n",
    "from sklearn.inspection import permutation_importance\n",
    "from sklearn.linear_model import LassoCV\n",
    "from sklearn.model_selection import cross_val_score, train_test_split\n",
    "from sklearn.pipeline import Pipeline\n",
    "from sklearn.preprocessing import StandardScaler"
   ]
  },
  {
   "cell_type": "code",
   "execution_count": null,
   "metadata": {
    "ExecuteTime": {
     "end_time": "2022-07-21T12:38:55.560584Z",
     "start_time": "2022-07-21T12:38:55.558117Z"
    },
    "id": "FhlCCdYB6EAV"
   },
   "outputs": [],
   "source": [
    "np.random.seed(42)\n",
    "pd.set_option(\"display.max_columns\", None)\n",
    "pd.set_option(\"display.float_format\", \"{:,.2f}\".format)\n",
    "set_matplotlib_formats(\"svg\")\n",
    "sns.set(font_scale=1.25, style=\"whitegrid\", rc={\"figure.figsize\": (8, 5), \"figure.autolayout\": True})"
   ]
  },
  {
   "cell_type": "markdown",
   "metadata": {
    "id": "g8anH_Be2MfE"
   },
   "source": [
    "# Вспомогательные функции"
   ]
  },
  {
   "cell_type": "markdown",
   "metadata": {
    "id": "tlj-0LZoE5YO"
   },
   "source": [
    "**Note:** Пока я все это писал, я узнал, что plotly работает неидеально с кнопками, что-то не отображается или что-то не меняется при выборе другого столбца. Так что я не смог полностью привести графики к нормальному виду (например, подписать ось Х, потому что она не менялась при изменении столбца, также не меняется hovertemplate, так что пришлось заменить названия столбцов на x и y). Насколько я понял, plotly может менять не больше 3 параметров и их порядок важен (например, поменять местами аргументы - и уже название графика не будет меняться). Так же на графиках есть баги иногда. В общем, мне кажется, голый plotly не особо подходит для построения графиков с большим количеством задаваемых параметров."
   ]
  },
  {
   "cell_type": "code",
   "execution_count": null,
   "metadata": {
    "ExecuteTime": {
     "end_time": "2022-07-21T12:38:55.568965Z",
     "start_time": "2022-07-21T12:38:55.563868Z"
    },
    "id": "JiBitWndYZwl"
   },
   "outputs": [],
   "source": [
    "def feature_histogram(df):\n",
    "    df = df.select_dtypes(exclude=object)\n",
    "    first_column = df.columns[0]\n",
    "\n",
    "    fig = px.histogram(df, x=first_column, marginal=\"box\")\n",
    "\n",
    "    buttons = []\n",
    "    for column in df:\n",
    "        button = dict(\n",
    "            method=\"update\",\n",
    "            label=column,\n",
    "            args=[\n",
    "                {\"x\": [df[column]]},\n",
    "                {\n",
    "                    \"title\": f'Feature histograms: \"{column}\" '\n",
    "                    f\"min - {df[column].min():,.2f} max - {df[column].max():,.2f} \"\n",
    "                    f\"mean - {df[column].mean():,.2f} median - {df[column].median():,.2f} \"\n",
    "                    f\"nan - {df[column].isna().sum():,} ({100*df[column].isna().sum()/len(df):.2f}%)\"\n",
    "                },\n",
    "                {\"xaxis\": {\"rangeslider\": {\"visible\": True}}},\n",
    "            ],\n",
    "            # {'xaxis': {'rangeslider': {'visible': True}, 'title': column}}] не работает, хотя параметр верный\n",
    "        )\n",
    "        buttons.append(button)\n",
    "\n",
    "    column_menu = dict(\n",
    "        buttons=buttons,\n",
    "        direction=\"down\",\n",
    "        showactive=True,\n",
    "    )\n",
    "\n",
    "    fig.update_layout(\n",
    "        updatemenus=[column_menu],\n",
    "        title_text=f'Feature histograms: \"{first_column}\" '\n",
    "        f\"min - {df[first_column].min():,.2f} max - {df[first_column].max():,.2f} \"\n",
    "        f\"mean - {df[first_column].mean():,.2f} median - {df[first_column].median():,.2f} \"\n",
    "        f\"nan - {df[first_column].isna().sum():,} ({100*df[first_column].isna().sum()/len(df):.2f}%)\",\n",
    "        xaxis={\"title\": None, \"rangeslider\": {\"visible\": True}},\n",
    "        yaxis={\"title\": \"Count\"},\n",
    "    )\n",
    "\n",
    "    fig.update_traces(\n",
    "        hovertemplate=\"x=%{x}<br>count=%{y}<extra></extra>\",\n",
    "    )\n",
    "\n",
    "    return fig"
   ]
  },
  {
   "cell_type": "code",
   "execution_count": null,
   "metadata": {
    "ExecuteTime": {
     "end_time": "2022-07-21T12:38:55.574533Z",
     "start_time": "2022-07-21T12:38:55.570139Z"
    },
    "id": "VD_jQvyvo1Ln"
   },
   "outputs": [],
   "source": [
    "def feature_scatterplot(df, range_color=(0, 15 * 10**6)):\n",
    "    df = df.select_dtypes(exclude=object)\n",
    "    first_column = df.columns[0]\n",
    "\n",
    "    fig = px.scatter(df, x=first_column, y=first_column, color=\"last_price\", range_color=range_color)\n",
    "    column_menus = []\n",
    "\n",
    "    for axis, y_pos in zip([\"x\", \"y\"], [0.7, 0.92]):\n",
    "\n",
    "        column_buttons = []\n",
    "        for column in df:\n",
    "            button = dict(\n",
    "                method=\"update\",\n",
    "                label=column,\n",
    "                args=[{axis: [df[column]]}, {axis + \"axis\": {\"title\": column, \"rangeslider\": {\"visible\": True}}}],\n",
    "            )\n",
    "            column_buttons.append(button)\n",
    "\n",
    "        column_menu = dict(\n",
    "            buttons=column_buttons,\n",
    "            direction=\"down\",\n",
    "            showactive=True,\n",
    "            x=-0.12,\n",
    "            y=y_pos,\n",
    "        )\n",
    "\n",
    "        column_menus.append(column_menu)\n",
    "\n",
    "    color_buttons = []\n",
    "    for label, value in zip([True, False], [\"last_price\", None]):\n",
    "        button = dict(\n",
    "            method=\"update\",\n",
    "            label=label,\n",
    "            args=[{\"marker\": {\"color\": df[value] if value else value, \"coloraxis\": \"coloraxis\"}}],\n",
    "        )\n",
    "        color_buttons.append(button)\n",
    "\n",
    "    color_menu = dict(\n",
    "        buttons=color_buttons,\n",
    "        direction=\"down\",\n",
    "        showactive=True,\n",
    "        x=-0.19,\n",
    "        y=0.48,\n",
    "    )\n",
    "\n",
    "    fig.update_layout(\n",
    "        annotations=[\n",
    "            dict(text=\"Y axis:\", x=-0.29, y=1, xref=\"paper\", yref=\"paper\", showarrow=False),\n",
    "            dict(text=\"X axis:\", x=-0.29, y=0.78, xref=\"paper\", yref=\"paper\", showarrow=False),\n",
    "            dict(text=\"Color by last_price:\", x=-0.35, y=0.536, xref=\"paper\", yref=\"paper\", showarrow=False),\n",
    "        ],\n",
    "        updatemenus=column_menus + [color_menu],\n",
    "        title_text=\"Feature scatterplots\",\n",
    "        xaxis={\"rangeslider\": {\"visible\": True}},\n",
    "    )\n",
    "\n",
    "    fig.update_traces(\n",
    "        hovertemplate=\"x=%{x}<br>y=%{y}<br>last_price=%{marker.color:,.0f}<extra></extra>\",\n",
    "    )\n",
    "\n",
    "    return fig"
   ]
  },
  {
   "cell_type": "code",
   "execution_count": null,
   "metadata": {
    "ExecuteTime": {
     "end_time": "2022-07-21T12:38:55.577348Z",
     "start_time": "2022-07-21T12:38:55.575660Z"
    },
    "id": "ksbJWEDsv0kV"
   },
   "outputs": [],
   "source": [
    "def histogram_by(df, **kwargs):\n",
    "    fig = px.histogram(df, **kwargs, opacity=0.6)\n",
    "    fig.update_layout(barmode=\"overlay\")\n",
    "    return fig"
   ]
  },
  {
   "cell_type": "code",
   "execution_count": null,
   "metadata": {
    "ExecuteTime": {
     "end_time": "2022-07-21T12:38:55.579949Z",
     "start_time": "2022-07-21T12:38:55.578103Z"
    },
    "id": "8ibRYCsQCwIB"
   },
   "outputs": [],
   "source": [
    "def feature_nan(df, column=None):\n",
    "    if column:\n",
    "        print(f\"{df[column].isna().mean() * 100:.2f}%\")\n",
    "    else:\n",
    "        info = str(df.isna().mean() * 100)\n",
    "        print(info[: info.rfind(\"\\n\")].replace(\"\\n\", \"%\\n\") + \"%\")"
   ]
  },
  {
   "cell_type": "markdown",
   "metadata": {
    "id": "njcaNSULiCeM"
   },
   "source": [
    "# Предобработка данных"
   ]
  },
  {
   "cell_type": "markdown",
   "metadata": {
    "id": "SqPI9oju7sEE"
   },
   "source": [
    "## Общее"
   ]
  },
  {
   "cell_type": "code",
   "execution_count": null,
   "metadata": {
    "ExecuteTime": {
     "end_time": "2022-07-21T12:38:55.630637Z",
     "start_time": "2022-07-21T12:38:55.580869Z"
    },
    "colab": {
     "base_uri": "https://localhost:8080/",
     "height": 636
    },
    "id": "lTQrYrCXws5q",
    "outputId": "baf2297f-63c0-4483-ba7d-c64c2dee1506"
   },
   "outputs": [],
   "source": [
    "data = pd.read_csv(\"realty_data.csv\", sep=\"\\t\")\n",
    "data"
   ]
  },
  {
   "cell_type": "code",
   "execution_count": null,
   "metadata": {
    "ExecuteTime": {
     "end_time": "2022-07-21T12:38:55.634809Z",
     "start_time": "2022-07-21T12:38:55.632113Z"
    },
    "id": "d6HRUvG1znux"
   },
   "outputs": [],
   "source": [
    "data.rename(\n",
    "    columns={\n",
    "        \"cityCenters_nearest\": \"city_centers_nearest\",\n",
    "        \"parks_around3000\": \"parks_around_3000\",\n",
    "        \"ponds_around3000\": \"ponds_around_3000\",\n",
    "    },\n",
    "    inplace=True,\n",
    ")"
   ]
  },
  {
   "cell_type": "markdown",
   "metadata": {
    "id": "8L07UdxP3nk9"
   },
   "source": [
    "Меняем тип данных столбца `first_day_exposition`, потому что для удобной работы с данными был создан специальный тип данных `datetime`. Так же поменяем булев тип данных на `float`, потому что с ним удобнее работать."
   ]
  },
  {
   "cell_type": "code",
   "execution_count": null,
   "metadata": {
    "ExecuteTime": {
     "end_time": "2022-07-21T12:38:55.644323Z",
     "start_time": "2022-07-21T12:38:55.637316Z"
    },
    "id": "KTpX5IEiTV1E"
   },
   "outputs": [],
   "source": [
    "data[\"first_day_exposition\"] = pd.to_datetime(data[\"first_day_exposition\"], format=\"%Y-%m-%dT%H:%M:%S\")\n",
    "data[[\"is_apartment\", \"studio\", \"open_plan\"]] = data[[\"is_apartment\", \"studio\", \"open_plan\"]].astype(float)"
   ]
  },
  {
   "cell_type": "code",
   "execution_count": null,
   "metadata": {
    "ExecuteTime": {
     "end_time": "2022-07-21T12:38:55.658302Z",
     "start_time": "2022-07-21T12:38:55.645151Z"
    },
    "colab": {
     "base_uri": "https://localhost:8080/"
    },
    "id": "OlhKDkB1_naV",
    "outputId": "e37fcf12-3a4c-433f-b97b-8e617aa39b43"
   },
   "outputs": [],
   "source": [
    "data.duplicated().sum()"
   ]
  },
  {
   "cell_type": "code",
   "execution_count": null,
   "metadata": {
    "ExecuteTime": {
     "end_time": "2022-07-21T12:38:55.711347Z",
     "start_time": "2022-07-21T12:38:55.659229Z"
    },
    "id": "zn8up_ALm3bU"
   },
   "outputs": [],
   "source": [
    "data[\"locality_name\"] = (\n",
    "    data[\"locality_name\"]\n",
    "    .str.lower()\n",
    "    .str.replace(\"ё\", \"е\")\n",
    "    .str.replace(\"деревня\", \"\")\n",
    "    .str.replace(\"поселок\", \"\")\n",
    "    .str.replace(\"городского типа\", \"\")\n",
    "    .str.replace(\"коттеджный\", \"\")\n",
    "    .str.replace(\"садовое товарищество\", \"\")\n",
    "    .str.replace(\"село\", \"\")\n",
    "    .str.strip()\n",
    ")"
   ]
  },
  {
   "cell_type": "code",
   "execution_count": null,
   "metadata": {
    "ExecuteTime": {
     "end_time": "2022-07-21T12:38:55.724807Z",
     "start_time": "2022-07-21T12:38:55.712232Z"
    },
    "colab": {
     "base_uri": "https://localhost:8080/"
    },
    "id": "Fnvc0RkxzXYW",
    "outputId": "5f0e9f95-4516-48c5-b1ba-a02e41463c6c"
   },
   "outputs": [],
   "source": [
    "data.info(memory_usage=\"deep\")"
   ]
  },
  {
   "cell_type": "code",
   "execution_count": null,
   "metadata": {
    "ExecuteTime": {
     "end_time": "2022-07-21T12:38:55.731528Z",
     "start_time": "2022-07-21T12:38:55.725873Z"
    },
    "colab": {
     "base_uri": "https://localhost:8080/"
    },
    "id": "uQoIKLGi0vbi",
    "outputId": "07b476ad-f367-48b1-cf0e-2d5cf3297fd2"
   },
   "outputs": [],
   "source": [
    "feature_nan(data)"
   ]
  },
  {
   "cell_type": "code",
   "execution_count": null,
   "metadata": {
    "ExecuteTime": {
     "end_time": "2022-07-21T12:38:55.773058Z",
     "start_time": "2022-07-21T12:38:55.732454Z"
    },
    "colab": {
     "base_uri": "https://localhost:8080/",
     "height": 798
    },
    "id": "xcHJ--fowDYn",
    "outputId": "b03821ea-cb1e-46aa-d7a8-e0c090780261"
   },
   "outputs": [],
   "source": [
    "data.drop(\"locality_name\", axis=1).describe(include=\"all\", datetime_is_numeric=True).T"
   ]
  },
  {
   "cell_type": "markdown",
   "metadata": {
    "id": "uSReDmkLgVsa"
   },
   "source": [
    "NB: иногда график лагает, иногда нет."
   ]
  },
  {
   "cell_type": "code",
   "execution_count": null,
   "metadata": {
    "ExecuteTime": {
     "end_time": "2022-07-21T12:38:56.795513Z",
     "start_time": "2022-07-21T12:38:55.774027Z"
    },
    "colab": {
     "base_uri": "https://localhost:8080/",
     "height": 562
    },
    "id": "JIWdHa96uc-p",
    "outputId": "6e655e48-38b9-4a0c-f8f9-dcf28b0db370"
   },
   "outputs": [],
   "source": [
    "feature_histogram(data)"
   ]
  },
  {
   "cell_type": "code",
   "execution_count": null,
   "metadata": {
    "ExecuteTime": {
     "end_time": "2022-07-21T12:38:57.919676Z",
     "start_time": "2022-07-21T12:38:56.796749Z"
    },
    "colab": {
     "base_uri": "https://localhost:8080/",
     "height": 562
    },
    "id": "fkuJ0GWLuiPG",
    "outputId": "6e6d6583-3b22-4699-ec37-51ac49fafa9a"
   },
   "outputs": [],
   "source": [
    "feature_scatterplot(data, range_color=(0, 20 * 10**6))"
   ]
  },
  {
   "cell_type": "code",
   "execution_count": null,
   "metadata": {
    "ExecuteTime": {
     "end_time": "2022-07-21T12:38:57.971641Z",
     "start_time": "2022-07-21T12:38:57.920849Z"
    },
    "colab": {
     "base_uri": "https://localhost:8080/",
     "height": 637
    },
    "id": "hcdVd_Vuowij",
    "outputId": "2f8b422a-1668-42ec-9331-66363d0c3696"
   },
   "outputs": [],
   "source": [
    "px.imshow(data.corr(), height=600)"
   ]
  },
  {
   "cell_type": "markdown",
   "metadata": {
    "id": "2-Wjn0i0pRZX"
   },
   "source": [
    "Судя по диаграмме раcсеяния `first_day_exposition` и `days_exposed`, перед нами данные о квартирах, которые были проданы с середины июня 2016 года по начало мая 2019."
   ]
  },
  {
   "cell_type": "markdown",
   "metadata": {
    "id": "KBvNgyFPbECq"
   },
   "source": [
    "## Удаление столбцов"
   ]
  },
  {
   "cell_type": "markdown",
   "metadata": {
    "id": "wRbTmN7UwdHq"
   },
   "source": [
    "---\n",
    "В столбце `is_apartment` пропуски занимают львиную долю, а значение `True` имеют всего 50 строк, так что этот параметр не будет оказывать влияние на ценообразование совокупной выборки. Его можно отбросить."
   ]
  },
  {
   "cell_type": "code",
   "execution_count": null,
   "metadata": {
    "ExecuteTime": {
     "end_time": "2022-07-21T12:38:57.982757Z",
     "start_time": "2022-07-21T12:38:57.972921Z"
    },
    "colab": {
     "base_uri": "https://localhost:8080/",
     "height": 206
    },
    "id": "2ibUhoazwx1u",
    "outputId": "5e9e49ca-b97d-4d30-c7ff-abe491692b9c"
   },
   "outputs": [],
   "source": [
    "data.pivot_table(index=\"is_apartment\", values=\"last_price\", aggfunc=[\"count\", \"mean\", \"median\"]).droplevel(1, axis=1)"
   ]
  },
  {
   "cell_type": "code",
   "execution_count": null,
   "metadata": {
    "ExecuteTime": {
     "end_time": "2022-07-21T12:38:58.069365Z",
     "start_time": "2022-07-21T12:38:57.983529Z"
    },
    "colab": {
     "base_uri": "https://localhost:8080/",
     "height": 54
    },
    "id": "XBPVP2NRTgwF",
    "outputId": "31b4d59b-782b-4f97-ff5f-bd6619d925e2"
   },
   "outputs": [],
   "source": [
    "sns.histplot(data.query(\"is_apartment == True\"), x=\"last_price\");"
   ]
  },
  {
   "cell_type": "markdown",
   "metadata": {
    "id": "QYWwLZXGT5jm"
   },
   "source": [
    "Видим, что причиной более высоких среднего и медианы `last_price` для `is_apartment = True` являются выбросы в значениях."
   ]
  },
  {
   "cell_type": "code",
   "execution_count": null,
   "metadata": {
    "ExecuteTime": {
     "end_time": "2022-07-21T12:38:58.074654Z",
     "start_time": "2022-07-21T12:38:58.071445Z"
    },
    "id": "-LKavUfZ3ty_"
   },
   "outputs": [],
   "source": [
    "data.drop(\"is_apartment\", axis=1, errors=\"ignore\", inplace=True)"
   ]
  },
  {
   "cell_type": "markdown",
   "metadata": {
    "id": "npDCOgVO1z-B"
   },
   "source": [
    "---\n",
    "Столбец `studio` тоже выкинем, так там тоже большой дисбаланс значений - всего 149 значений `True`. "
   ]
  },
  {
   "cell_type": "code",
   "execution_count": null,
   "metadata": {
    "ExecuteTime": {
     "end_time": "2022-07-21T12:38:58.085717Z",
     "start_time": "2022-07-21T12:38:58.075556Z"
    },
    "colab": {
     "base_uri": "https://localhost:8080/",
     "height": 206
    },
    "id": "GxbGttREKe25",
    "outputId": "8433931a-047f-4929-d552-8cb25bd924cb"
   },
   "outputs": [],
   "source": [
    "data.pivot_table(index=\"studio\", values=\"last_price\", aggfunc=[\"count\", \"mean\", \"median\"]).droplevel(\n",
    "    1, axis=1\n",
    ").rename_axis(\"last_price\", axis=1)"
   ]
  },
  {
   "cell_type": "markdown",
   "metadata": {
    "id": "jr65JdpzUxRt"
   },
   "source": [
    "Меньшие среднее и медиана во многом могут быть объяснены малой жилой площадью квартир-студий."
   ]
  },
  {
   "cell_type": "code",
   "execution_count": null,
   "metadata": {
    "ExecuteTime": {
     "end_time": "2022-07-21T12:38:58.095511Z",
     "start_time": "2022-07-21T12:38:58.086971Z"
    },
    "colab": {
     "base_uri": "https://localhost:8080/",
     "height": 206
    },
    "id": "6pjLMqPKdess",
    "outputId": "4fefe349-8719-4882-84d3-c733bd4a508a"
   },
   "outputs": [],
   "source": [
    "data.pivot_table(index=\"studio\", values=\"total_area\", aggfunc=[\"mean\", \"median\"]).droplevel(1, axis=1).rename_axis(\n",
    "    \"total_area\", axis=1\n",
    ")"
   ]
  },
  {
   "cell_type": "code",
   "execution_count": null,
   "metadata": {
    "ExecuteTime": {
     "end_time": "2022-07-21T12:38:58.293806Z",
     "start_time": "2022-07-21T12:38:58.096583Z"
    },
    "colab": {
     "base_uri": "https://localhost:8080/",
     "height": 54
    },
    "id": "6Z3llWYEUhD1",
    "outputId": "ba41f89b-a8e3-444f-965c-687d1808b362"
   },
   "outputs": [],
   "source": [
    "fig, axes = plt.subplots(1, 2, figsize=(10, 4))\n",
    "sns.histplot(data.query(\"studio == True\"), x=\"last_price\", ax=axes[0])\n",
    "sns.histplot(data.query(\"total_area < 30\"), x=\"last_price\", ax=axes[1]);"
   ]
  },
  {
   "cell_type": "code",
   "execution_count": null,
   "metadata": {
    "ExecuteTime": {
     "end_time": "2022-07-21T12:38:58.298768Z",
     "start_time": "2022-07-21T12:38:58.295331Z"
    },
    "id": "iQlk2ipPNQqr"
   },
   "outputs": [],
   "source": [
    "data.drop(\"studio\", axis=1, errors=\"ignore\", inplace=True)"
   ]
  },
  {
   "cell_type": "markdown",
   "metadata": {
    "id": "4ZW1awNe17qh"
   },
   "source": [
    "---\n",
    "Столбец `open_plan` тоже выкидываем."
   ]
  },
  {
   "cell_type": "code",
   "execution_count": null,
   "metadata": {
    "ExecuteTime": {
     "end_time": "2022-07-21T12:38:58.310507Z",
     "start_time": "2022-07-21T12:38:58.300218Z"
    },
    "colab": {
     "base_uri": "https://localhost:8080/",
     "height": 206
    },
    "id": "PquYL94QNXX9",
    "outputId": "6c625a8b-d22e-4e71-f2fd-1e7d74271b54"
   },
   "outputs": [],
   "source": [
    "data.pivot_table(index=\"open_plan\", values=\"last_price\", aggfunc=[\"count\", \"mean\", \"median\"]).droplevel(1, axis=1)"
   ]
  },
  {
   "cell_type": "code",
   "execution_count": null,
   "metadata": {
    "ExecuteTime": {
     "end_time": "2022-07-21T12:38:58.314851Z",
     "start_time": "2022-07-21T12:38:58.311478Z"
    },
    "id": "-SquifBLNqpL"
   },
   "outputs": [],
   "source": [
    "data.drop(\"open_plan\", axis=1, errors=\"ignore\", inplace=True)"
   ]
  },
  {
   "cell_type": "markdown",
   "metadata": {
    "id": "S4BUW2mTeKM2"
   },
   "source": [
    "## Работа с пропусками и аномальными значениями"
   ]
  },
  {
   "cell_type": "markdown",
   "metadata": {
    "id": "P768c_BKe33x"
   },
   "source": [
    "### last_price"
   ]
  },
  {
   "cell_type": "markdown",
   "metadata": {
    "id": "nMjnCXwHHTdp"
   },
   "source": [
    "В распределении `last_price` есть как и очень большие, так и подозрительно маленькие значения."
   ]
  },
  {
   "cell_type": "code",
   "execution_count": null,
   "metadata": {
    "ExecuteTime": {
     "end_time": "2022-07-21T12:38:58.327520Z",
     "start_time": "2022-07-21T12:38:58.320885Z"
    },
    "colab": {
     "base_uri": "https://localhost:8080/",
     "height": 144
    },
    "id": "hWTmlirEYbUz",
    "outputId": "2f1bb853-b203-44b3-c5dd-03dbdfb89414"
   },
   "outputs": [],
   "source": [
    "data.query(\"last_price > 760 * 10**6\")"
   ]
  },
  {
   "cell_type": "markdown",
   "metadata": {
    "id": "E6bnEXriYzHY"
   },
   "source": [
    "Выбивающаяся точка - 763 миллиона, не ошибка, а просто выброс. Я отброшу все объявления с ценой выше 40 миллионов рублей."
   ]
  },
  {
   "cell_type": "code",
   "execution_count": null,
   "metadata": {
    "ExecuteTime": {
     "end_time": "2022-07-21T12:38:58.336716Z",
     "start_time": "2022-07-21T12:38:58.330312Z"
    },
    "id": "a-yQt8k1end2"
   },
   "outputs": [],
   "source": [
    "data.drop(data.query(\"last_price > 40 * 10**6\").index, inplace=True)"
   ]
  },
  {
   "cell_type": "code",
   "execution_count": null,
   "metadata": {
    "ExecuteTime": {
     "end_time": "2022-07-21T12:38:58.349644Z",
     "start_time": "2022-07-21T12:38:58.338051Z"
    },
    "colab": {
     "base_uri": "https://localhost:8080/",
     "height": 564
    },
    "id": "f1Hf11aPaLNL",
    "outputId": "fbc8d19f-0d64-407e-8354-c087efecb826"
   },
   "outputs": [],
   "source": [
    "data.query(\"last_price < 500000\")"
   ]
  },
  {
   "cell_type": "markdown",
   "metadata": {
    "id": "rElyoAhJaP98"
   },
   "source": [
    "А вот квартира за 12 тысяч - явно ошибка."
   ]
  },
  {
   "cell_type": "code",
   "execution_count": null,
   "metadata": {
    "ExecuteTime": {
     "end_time": "2022-07-21T12:38:58.354186Z",
     "start_time": "2022-07-21T12:38:58.351609Z"
    },
    "id": "4Z_2vhpQZYMn"
   },
   "outputs": [],
   "source": [
    "data.loc[data[\"last_price\"] < 13000, \"last_price\"] *= 1000"
   ]
  },
  {
   "cell_type": "markdown",
   "metadata": {
    "id": "Miok4Xa0HhX9"
   },
   "source": [
    "Вообще интересно, насколько правдоподобно купить квартиру 30-50 квадратных метров за 450-500 тысяч рублей."
   ]
  },
  {
   "cell_type": "code",
   "execution_count": null,
   "metadata": {
    "ExecuteTime": {
     "end_time": "2022-07-21T12:38:58.382748Z",
     "start_time": "2022-07-21T12:38:58.355120Z"
    },
    "colab": {
     "base_uri": "https://localhost:8080/",
     "height": 562
    },
    "id": "52kqlnrHH8bv",
    "outputId": "be55e998-b5c6-4f1c-d35f-94c973638a46"
   },
   "outputs": [],
   "source": [
    "fig = px.histogram(data.query(\"29 < total_area < 50\"), x=\"last_price\")\n",
    "fig"
   ]
  },
  {
   "cell_type": "markdown",
   "metadata": {
    "id": "i-j4OgerPF2W"
   },
   "source": [
    "Как видим, квартиры площадью 30-50 квадратных метров чаще всего стоят 3.5 миллиона рублей, следовательно, 400-500 тысяч - весьма редкое явление. Однако стоит заметить, что все такие квартиры расположены в поселках и в деревнях, из-за этого стоимость недвижимости может быть сильно ниже. Я отсеку объявления с ценой ниже 1 миллиона."
   ]
  },
  {
   "cell_type": "code",
   "execution_count": null,
   "metadata": {
    "ExecuteTime": {
     "end_time": "2022-07-21T12:38:58.388486Z",
     "start_time": "2022-07-21T12:38:58.383695Z"
    },
    "id": "8cX_x_zkfmBT"
   },
   "outputs": [],
   "source": [
    "data.drop(data.query(\"last_price < 10**6\").index, inplace=True)"
   ]
  },
  {
   "cell_type": "markdown",
   "metadata": {
    "id": "Gg1ubEs5fh4B"
   },
   "source": [
    "### total_area"
   ]
  },
  {
   "cell_type": "markdown",
   "metadata": {
    "id": "M3SkBLPaiHzG"
   },
   "source": [
    "В столбце `total_area` присутствуют и очень большие, и очень маленькие значения. Отсеку объявления, где площадь больше 200 или меньше 20 квадратных метров."
   ]
  },
  {
   "cell_type": "code",
   "execution_count": null,
   "metadata": {
    "ExecuteTime": {
     "end_time": "2022-07-21T12:38:58.394327Z",
     "start_time": "2022-07-21T12:38:58.389445Z"
    },
    "id": "XRF8avtXimUm"
   },
   "outputs": [],
   "source": [
    "data.drop(data.query(\"total_area < 20 or total_area > 200\").index, inplace=True)"
   ]
  },
  {
   "cell_type": "markdown",
   "metadata": {
    "id": "5Bg2mUJjfvzJ"
   },
   "source": [
    "### rooms"
   ]
  },
  {
   "cell_type": "markdown",
   "metadata": {
    "id": "yxwkQVQI5zKo"
   },
   "source": [
    "Вероятно, квартиры, у которых 0 комнат - какие-нибудь студии или еще какой-нибудь аналогичный тип жилья. Оставлю как есть."
   ]
  },
  {
   "cell_type": "markdown",
   "metadata": {
    "id": "mMXghH4qgh5D"
   },
   "source": [
    "### ceiling_height"
   ]
  },
  {
   "cell_type": "markdown",
   "metadata": {
    "id": "VPxvSQpdQ_k1"
   },
   "source": [
    "А у кого-то потолок пробил крышу. Очень странный экземпляр, 25 квадратных метров, потолки 100 метров, 5 балконов."
   ]
  },
  {
   "cell_type": "code",
   "execution_count": null,
   "metadata": {
    "ExecuteTime": {
     "end_time": "2022-07-21T12:38:58.401858Z",
     "start_time": "2022-07-21T12:38:58.395235Z"
    },
    "colab": {
     "base_uri": "https://localhost:8080/",
     "height": 144
    },
    "id": "rcD9vrAeQ2lU",
    "outputId": "68453474-478e-4ff0-f34e-183be5ab4afe"
   },
   "outputs": [],
   "source": [
    "data.query(\"ceiling_height == 100\")"
   ]
  },
  {
   "cell_type": "markdown",
   "metadata": {
    "id": "vdp2ttU_pccZ"
   },
   "source": [
    "Судя по распределению, 2.5 метра - стандард высоты потолков. Уберем квартиры с высотой потолка выше 5 метров или ниже 2."
   ]
  },
  {
   "cell_type": "code",
   "execution_count": null,
   "metadata": {
    "ExecuteTime": {
     "end_time": "2022-07-21T12:38:58.407147Z",
     "start_time": "2022-07-21T12:38:58.402911Z"
    },
    "id": "8pe5KhQ6R2a-"
   },
   "outputs": [],
   "source": [
    "data.drop(data.query(\"ceiling_height > 5 or ceiling_height < 2\").index, inplace=True)"
   ]
  },
  {
   "cell_type": "code",
   "execution_count": null,
   "metadata": {
    "ExecuteTime": {
     "end_time": "2022-07-21T12:38:58.410877Z",
     "start_time": "2022-07-21T12:38:58.407987Z"
    },
    "colab": {
     "base_uri": "https://localhost:8080/"
    },
    "id": "H8hBMq4dBe-O",
    "outputId": "2ae60b8c-1d22-4795-bb0d-b98f8d6860c9"
   },
   "outputs": [],
   "source": [
    "feature_nan(data, \"ceiling_height\")"
   ]
  },
  {
   "cell_type": "markdown",
   "metadata": {
    "id": "ax5EVtbWDziR"
   },
   "source": [
    "На самом деле, я даже не знаю, почему почти 39% людей не указали высоту потолка. Возможно, лень, но не 39 же процентов, в конце концов высота потолка - весьма важный параметр. Я не буду заполнять пропуски тут - это приведет к искажению данных."
   ]
  },
  {
   "cell_type": "markdown",
   "metadata": {
    "id": "P-HA37AMgzIk"
   },
   "source": [
    "### floors_total"
   ]
  },
  {
   "cell_type": "code",
   "execution_count": null,
   "metadata": {
    "ExecuteTime": {
     "end_time": "2022-07-21T12:38:58.414004Z",
     "start_time": "2022-07-21T12:38:58.411701Z"
    },
    "colab": {
     "base_uri": "https://localhost:8080/"
    },
    "id": "0WinsPgPBBkP",
    "outputId": "81055036-525c-49fa-f474-1ab0ca4d5e4f"
   },
   "outputs": [],
   "source": [
    "feature_nan(data, \"floors_total\")"
   ]
  },
  {
   "cell_type": "markdown",
   "metadata": {
    "id": "vK3i94baw5_1"
   },
   "source": [
    "Уберем небоскребы и заменим пропуски в `floors_total` в соотвествии с тем, на каком этаже квартира находится."
   ]
  },
  {
   "cell_type": "code",
   "execution_count": null,
   "metadata": {
    "ExecuteTime": {
     "end_time": "2022-07-21T12:38:58.419225Z",
     "start_time": "2022-07-21T12:38:58.414833Z"
    },
    "id": "D27PmzUikTsd"
   },
   "outputs": [],
   "source": [
    "data.drop(data.query(\"floors_total > 30\").index, inplace=True)"
   ]
  },
  {
   "cell_type": "markdown",
   "metadata": {
    "id": "TeotHkvIPGvh"
   },
   "source": [
    "Пропущенных значений в столбце `floor` нет, так что можно спокойно группировать по нему."
   ]
  },
  {
   "cell_type": "code",
   "execution_count": null,
   "metadata": {
    "ExecuteTime": {
     "end_time": "2022-07-21T12:38:58.427129Z",
     "start_time": "2022-07-21T12:38:58.420014Z"
    },
    "id": "q5qzVniQvbis"
   },
   "outputs": [],
   "source": [
    "data[\"floors_total\"] = data.groupby(\"floor\")[\"floors_total\"].apply(lambda x: x.fillna(x.median()))"
   ]
  },
  {
   "cell_type": "markdown",
   "metadata": {
    "id": "DsulZ3Bzhtsb"
   },
   "source": [
    "Стоит посмотреть, целочисленные ли получились этажи и не остались ли где-нибудь NaN значения, так как медиана может быть нецелой или ее может вообще не быть (если все значения NaN)."
   ]
  },
  {
   "cell_type": "code",
   "execution_count": null,
   "metadata": {
    "ExecuteTime": {
     "end_time": "2022-07-21T12:38:58.431606Z",
     "start_time": "2022-07-21T12:38:58.427945Z"
    },
    "colab": {
     "base_uri": "https://localhost:8080/"
    },
    "id": "NPXFtIjXh8wa",
    "outputId": "daaffb4c-9e0f-41c7-e713-bd0f4df469aa"
   },
   "outputs": [],
   "source": [
    "data[\"floors_total\"].isna().sum()"
   ]
  },
  {
   "cell_type": "code",
   "execution_count": null,
   "metadata": {
    "ExecuteTime": {
     "end_time": "2022-07-21T12:38:58.435405Z",
     "start_time": "2022-07-21T12:38:58.432532Z"
    },
    "colab": {
     "base_uri": "https://localhost:8080/"
    },
    "id": "zlgG1fJ_hKnC",
    "outputId": "297f42d3-cd03-4d2a-ce9a-3681b4f6450c"
   },
   "outputs": [],
   "source": [
    "residuals = data[\"floors_total\"] - data[\"floors_total\"].astype(int)\n",
    "residuals[residuals > 0]"
   ]
  },
  {
   "cell_type": "markdown",
   "metadata": {
    "id": "c8bFxoqMiDJg"
   },
   "source": [
    "Все нормально, везде этажи целые."
   ]
  },
  {
   "cell_type": "markdown",
   "metadata": {
    "id": "fOXl3FToiP3R"
   },
   "source": [
    "### living_area"
   ]
  },
  {
   "cell_type": "code",
   "execution_count": null,
   "metadata": {
    "ExecuteTime": {
     "end_time": "2022-07-21T12:38:58.438540Z",
     "start_time": "2022-07-21T12:38:58.436453Z"
    },
    "colab": {
     "base_uri": "https://localhost:8080/"
    },
    "id": "C35CSD3gA6gY",
    "outputId": "49a4e345-4cbd-42fb-ea58-bd453f5eb475"
   },
   "outputs": [],
   "source": [
    "feature_nan(data, \"living_area\")"
   ]
  },
  {
   "cell_type": "markdown",
   "metadata": {
    "id": "9R-3hTUQ1hzy"
   },
   "source": [
    "По диаграмме рассеяния между `living_area` и `total_area` можно заметить зависимость, похожую на линейную. Это подтверждается высоким значением корреляции на графике выше. Так же `living_area` хорошо кореллирует с количеством комнат."
   ]
  },
  {
   "cell_type": "code",
   "execution_count": null,
   "metadata": {
    "ExecuteTime": {
     "end_time": "2022-07-21T12:38:58.442354Z",
     "start_time": "2022-07-21T12:38:58.439414Z"
    },
    "colab": {
     "base_uri": "https://localhost:8080/"
    },
    "id": "5Fz4kpAKkWM3",
    "outputId": "4a9a6cdd-9bd5-49ac-bf05-6dc43f608386"
   },
   "outputs": [],
   "source": [
    "for column in [\"total_area\", \"rooms\"]:\n",
    "    print(f\"{column}: {data['living_area'].corr(data[column]):.2f}\")"
   ]
  },
  {
   "cell_type": "markdown",
   "metadata": {
    "id": "HfTGCbWAvR3M"
   },
   "source": [
    "Заполним пропуски в столбце `living_area` линейной регрессией."
   ]
  },
  {
   "cell_type": "code",
   "execution_count": null,
   "metadata": {
    "ExecuteTime": {
     "end_time": "2022-07-21T12:38:58.446968Z",
     "start_time": "2022-07-21T12:38:58.443252Z"
    },
    "id": "eSR98o5L4uRN"
   },
   "outputs": [],
   "source": [
    "X = data[[\"total_area\", \"rooms\"]]\n",
    "y = data[\"living_area\"]\n",
    "X_train, X_predict = X[~y.isna()], X[y.isna()]\n",
    "y_train = y.dropna()"
   ]
  },
  {
   "cell_type": "code",
   "execution_count": null,
   "metadata": {
    "ExecuteTime": {
     "end_time": "2022-07-21T12:38:58.449902Z",
     "start_time": "2022-07-21T12:38:58.447960Z"
    },
    "id": "3PuU2asN1g_u"
   },
   "outputs": [],
   "source": [
    "model_ls = Pipeline([(\"standard_scaler\", StandardScaler()), (\"regressor\", LassoCV(n_jobs=-1))])\n",
    "\n",
    "model_gb = HistGradientBoostingRegressor(max_iter=1000)"
   ]
  },
  {
   "cell_type": "code",
   "execution_count": null,
   "metadata": {
    "ExecuteTime": {
     "end_time": "2022-07-21T12:38:59.852169Z",
     "start_time": "2022-07-21T12:38:58.450741Z"
    },
    "colab": {
     "base_uri": "https://localhost:8080/"
    },
    "id": "HZ_hTFvQwwgi",
    "outputId": "d36852a3-d420-439d-885f-9eda87ea2086"
   },
   "outputs": [],
   "source": [
    "cross_val_score(model_ls, X_train, y_train)"
   ]
  },
  {
   "cell_type": "code",
   "execution_count": null,
   "metadata": {
    "ExecuteTime": {
     "end_time": "2022-07-21T12:39:03.780433Z",
     "start_time": "2022-07-21T12:38:59.853776Z"
    },
    "colab": {
     "base_uri": "https://localhost:8080/"
    },
    "id": "DcY0NozOxj5g",
    "outputId": "caab8dc7-30d2-41b6-ae56-97b388870d0c"
   },
   "outputs": [],
   "source": [
    "cross_val_score(model_gb, X_train, y_train)"
   ]
  },
  {
   "cell_type": "markdown",
   "metadata": {
    "id": "ltR9sTzzx001"
   },
   "source": [
    "Чуть лучше показал себя градиентный бустинг."
   ]
  },
  {
   "cell_type": "code",
   "execution_count": null,
   "metadata": {
    "ExecuteTime": {
     "end_time": "2022-07-21T12:39:04.482740Z",
     "start_time": "2022-07-21T12:39:03.781858Z"
    },
    "id": "1dpj-q-BwnrA"
   },
   "outputs": [],
   "source": [
    "model_gb.fit(X_train, y_train)\n",
    "y_predicted = model_gb.predict(X_predict)"
   ]
  },
  {
   "cell_type": "code",
   "execution_count": null,
   "metadata": {
    "ExecuteTime": {
     "end_time": "2022-07-21T12:39:04.488319Z",
     "start_time": "2022-07-21T12:39:04.484296Z"
    },
    "colab": {
     "base_uri": "https://localhost:8080/"
    },
    "id": "jy7l7C5hyDYn",
    "outputId": "2194ea84-c7b0-4efe-ce78-f09c16ca8285"
   },
   "outputs": [],
   "source": [
    "print(\"Mean / Median\")\n",
    "print(f\"y_train: {y_train.mean():.2f} / {np.median(y_train):.2f}\")\n",
    "print(f\"y_redicted: {y_predicted.mean():.2f} / {np.median(y_predicted):.2f}\")"
   ]
  },
  {
   "cell_type": "markdown",
   "metadata": {
    "id": "IRimZCVm3jSZ"
   },
   "source": [
    "Результаты удовлетворяют здравому смыслу."
   ]
  },
  {
   "cell_type": "code",
   "execution_count": null,
   "metadata": {
    "ExecuteTime": {
     "end_time": "2022-07-21T12:39:04.492674Z",
     "start_time": "2022-07-21T12:39:04.489785Z"
    },
    "colab": {
     "base_uri": "https://localhost:8080/"
    },
    "id": "tSQAXv-7zIGC",
    "outputId": "40444a6a-adde-4fcf-e8ed-8631e071aea9"
   },
   "outputs": [],
   "source": [
    "data.loc[y.isna(), \"living_area\"] = y_predicted\n",
    "feature_nan(data, \"living_area\")"
   ]
  },
  {
   "cell_type": "markdown",
   "metadata": {
    "id": "2b9yNxFcjxt6"
   },
   "source": [
    "### kitchen_area"
   ]
  },
  {
   "cell_type": "code",
   "execution_count": null,
   "metadata": {
    "ExecuteTime": {
     "end_time": "2022-07-21T12:39:04.496023Z",
     "start_time": "2022-07-21T12:39:04.493615Z"
    },
    "colab": {
     "base_uri": "https://localhost:8080/"
    },
    "id": "8goDcJB0BsLS",
    "outputId": "8537d31b-c2bf-4cf2-e9ff-9faf316ee376"
   },
   "outputs": [],
   "source": [
    "feature_nan(data, \"kitchen_area\")"
   ]
  },
  {
   "cell_type": "markdown",
   "metadata": {
    "id": "NX11TRxN3qes"
   },
   "source": [
    "Посмотрим на пропуски в `kitchen_area`. Пропущенные значения могут обозначать, что кухни в квартире просто нет. Логично было бы предположить, что там, где кухни нет - сама площадь квартиры будет маленькой."
   ]
  },
  {
   "cell_type": "code",
   "execution_count": null,
   "metadata": {
    "ExecuteTime": {
     "end_time": "2022-07-21T12:39:04.505407Z",
     "start_time": "2022-07-21T12:39:04.497405Z"
    },
    "colab": {
     "base_uri": "https://localhost:8080/",
     "height": 237
    },
    "id": "Y0aouaMj7B5U",
    "outputId": "8e0b0933-4522-41de-c092-6b7edd4ea33e"
   },
   "outputs": [],
   "source": [
    "data[data[\"kitchen_area\"].isna()][[\"total_area\", \"living_area\"]].agg([\"mean\", \"median\", \"max\", \"min\"])"
   ]
  },
  {
   "cell_type": "markdown",
   "metadata": {
    "id": "ZocsG8nc9KU_"
   },
   "source": [
    "Видим, что 50% квартир имеют площадь больше 45 квадратных метров - больше, чем ожидал лично я. Однако из диаграммы раcсеяния видно, что даже у очень больших квартир бывает очень маленькая кухня (что весьма странно). Квартир без кухни - около 10%, не уверен, насколько это правдоподобно. Мне кажется, такие квартиры распространены меньше, так что я заменю пропуски, хотя в жизни я бы уточнил информацию у кого-нибудь."
   ]
  },
  {
   "cell_type": "code",
   "execution_count": null,
   "metadata": {
    "ExecuteTime": {
     "end_time": "2022-07-21T12:39:04.510483Z",
     "start_time": "2022-07-21T12:39:04.506852Z"
    },
    "colab": {
     "base_uri": "https://localhost:8080/"
    },
    "id": "bW4yyzoJiLHx",
    "outputId": "758923b3-d3b4-449f-9380-28c1fd0adc8f"
   },
   "outputs": [],
   "source": [
    "for column in [\"total_area\", \"living_area\", \"rooms\"]:\n",
    "    print(f\"{column}: {data['kitchen_area'].corr(data[column]):.2f}\")"
   ]
  },
  {
   "cell_type": "code",
   "execution_count": null,
   "metadata": {
    "ExecuteTime": {
     "end_time": "2022-07-21T12:39:04.515519Z",
     "start_time": "2022-07-21T12:39:04.511836Z"
    },
    "id": "I8M0E47C4RFW"
   },
   "outputs": [],
   "source": [
    "X = data[[\"total_area\", \"living_area\", \"rooms\"]]\n",
    "y = data[\"kitchen_area\"]\n",
    "X_train, X_predict = X[~y.isna()], X[y.isna()]\n",
    "y_train = y.dropna()"
   ]
  },
  {
   "cell_type": "code",
   "execution_count": null,
   "metadata": {
    "ExecuteTime": {
     "end_time": "2022-07-21T12:39:04.941299Z",
     "start_time": "2022-07-21T12:39:04.516989Z"
    },
    "colab": {
     "base_uri": "https://localhost:8080/"
    },
    "id": "WMoDOtcX5ti0",
    "outputId": "447fe5e7-1408-4759-a0fe-9aa67e285805"
   },
   "outputs": [],
   "source": [
    "cross_val_score(model_ls, X_train, y_train)"
   ]
  },
  {
   "cell_type": "code",
   "execution_count": null,
   "metadata": {
    "ExecuteTime": {
     "end_time": "2022-07-21T12:39:07.448980Z",
     "start_time": "2022-07-21T12:39:04.942621Z"
    },
    "colab": {
     "base_uri": "https://localhost:8080/"
    },
    "id": "cfp4rEw9504r",
    "outputId": "5859dbae-fe38-42b4-c460-f81430593ca1"
   },
   "outputs": [],
   "source": [
    "cross_val_score(model_gb, X_train, y_train)"
   ]
  },
  {
   "cell_type": "markdown",
   "metadata": {
    "id": "fYqRFFzllFHB"
   },
   "source": [
    "Результаты похуже, чем у `living_area`, но все равно неплохо - квадрат ошибки на 60% меньше, чем у простого среднего."
   ]
  },
  {
   "cell_type": "code",
   "execution_count": null,
   "metadata": {
    "ExecuteTime": {
     "end_time": "2022-07-21T12:39:08.198210Z",
     "start_time": "2022-07-21T12:39:07.450053Z"
    },
    "id": "r4NU3b2-5-6W"
   },
   "outputs": [],
   "source": [
    "model_gb.fit(X_train, y_train)\n",
    "y_predicted = model_gb.predict(X_predict)"
   ]
  },
  {
   "cell_type": "code",
   "execution_count": null,
   "metadata": {
    "ExecuteTime": {
     "end_time": "2022-07-21T12:39:08.202635Z",
     "start_time": "2022-07-21T12:39:08.199125Z"
    },
    "colab": {
     "base_uri": "https://localhost:8080/"
    },
    "id": "KMX-tPPs6MO9",
    "outputId": "c3c9bcbc-22cc-455d-cbd8-3e27309a255d"
   },
   "outputs": [],
   "source": [
    "print(\"Mean / Median\")\n",
    "print(f\"y_train: {y_train.mean():.2f} / {np.median(y_train):.2f}\")\n",
    "print(f\"y_redicted: {y_predicted.mean():.2f} / {np.median(y_predicted):.2f}\")"
   ]
  },
  {
   "cell_type": "code",
   "execution_count": null,
   "metadata": {
    "ExecuteTime": {
     "end_time": "2022-07-21T12:39:08.207129Z",
     "start_time": "2022-07-21T12:39:08.203852Z"
    },
    "colab": {
     "base_uri": "https://localhost:8080/"
    },
    "id": "x7yq3t_v6QeA",
    "outputId": "fdef3cf3-3e61-4e50-84b9-069f26e00068"
   },
   "outputs": [],
   "source": [
    "data.loc[y.isna(), \"kitchen_area\"] = y_predicted\n",
    "feature_nan(data, \"kitchen_area\")"
   ]
  },
  {
   "cell_type": "markdown",
   "metadata": {
    "id": "-yisKDVlmDQa"
   },
   "source": [
    "### balcony"
   ]
  },
  {
   "cell_type": "code",
   "execution_count": null,
   "metadata": {
    "ExecuteTime": {
     "end_time": "2022-07-21T12:39:08.210709Z",
     "start_time": "2022-07-21T12:39:08.208433Z"
    },
    "colab": {
     "base_uri": "https://localhost:8080/"
    },
    "id": "h0gFRjWJB9BJ",
    "outputId": "6f04ec33-3a7a-4c56-8563-9b414768b4fa"
   },
   "outputs": [],
   "source": [
    "feature_nan(data, \"balcony\")"
   ]
  },
  {
   "cell_type": "markdown",
   "metadata": {
    "id": "Qyya46Ea6eoQ"
   },
   "source": [
    "Пропусков по балконам - почти половина. Скорее всего, пропуски обозначают отсутствие балкона, так что я заменю пропуски на 0."
   ]
  },
  {
   "cell_type": "code",
   "execution_count": null,
   "metadata": {
    "ExecuteTime": {
     "end_time": "2022-07-21T12:39:08.214887Z",
     "start_time": "2022-07-21T12:39:08.212203Z"
    },
    "id": "-z2to6pY_8Fg"
   },
   "outputs": [],
   "source": [
    "data[\"balcony\"].fillna(0, inplace=True)"
   ]
  },
  {
   "cell_type": "markdown",
   "metadata": {
    "id": "fb6fVhhAmZlD"
   },
   "source": [
    "### airports_nearest"
   ]
  },
  {
   "cell_type": "markdown",
   "metadata": {
    "id": "BvqT8uuwAcZ9"
   },
   "source": [
    "Минимальное расстояние до аэропорта - 0 м. Кто-то живет, видимо, в аэропорту."
   ]
  },
  {
   "cell_type": "code",
   "execution_count": null,
   "metadata": {
    "ExecuteTime": {
     "end_time": "2022-07-21T12:39:08.221254Z",
     "start_time": "2022-07-21T12:39:08.216111Z"
    },
    "id": "WdKBFYvhAbPY"
   },
   "outputs": [],
   "source": [
    "data.drop(data.query(\"airports_nearest == 0\").index, inplace=True)"
   ]
  },
  {
   "cell_type": "code",
   "execution_count": null,
   "metadata": {
    "ExecuteTime": {
     "end_time": "2022-07-21T12:39:08.225070Z",
     "start_time": "2022-07-21T12:39:08.222323Z"
    },
    "colab": {
     "base_uri": "https://localhost:8080/"
    },
    "id": "ZmAJqT3nEIra",
    "outputId": "bf60db7c-a1ee-4977-a750-a419059ccfe2"
   },
   "outputs": [],
   "source": [
    "feature_nan(data, \"airports_nearest\")"
   ]
  },
  {
   "cell_type": "markdown",
   "metadata": {
    "id": "XKKEmUjVEWzJ"
   },
   "source": [
    "Попробуем заполнить пропуски медианными значениями по местности/области. Вероятно, в деревнях и поселках просто нет аэропорта, и система не определила аэропорт в Питере. Если же где-то расстояние указано, то результат будет точнее, если местность маленькая и компактная как, например, деревни или поселки. Если квартира расположена в Питере, то там может быть большой разброс квартир по городу, поэтому точность будет хуже."
   ]
  },
  {
   "cell_type": "code",
   "execution_count": null,
   "metadata": {
    "ExecuteTime": {
     "end_time": "2022-07-21T12:39:08.231049Z",
     "start_time": "2022-07-21T12:39:08.226258Z"
    },
    "colab": {
     "base_uri": "https://localhost:8080/"
    },
    "id": "l3KW8R7aDKLu",
    "outputId": "261a4b15-57ba-48f7-eff9-86762fb75ffc"
   },
   "outputs": [],
   "source": [
    "data[data[\"airports_nearest\"].isna()][\"locality_name\"].value_counts().head()"
   ]
  },
  {
   "cell_type": "markdown",
   "metadata": {
    "id": "rI5Etx3oFocV"
   },
   "source": [
    "В основном это поселки и деревни. Вполне возможно, что расстояние до аэропорта отсутствует у всех квартир в данной области."
   ]
  },
  {
   "cell_type": "code",
   "execution_count": null,
   "metadata": {
    "ExecuteTime": {
     "end_time": "2022-07-21T12:39:08.238289Z",
     "start_time": "2022-07-21T12:39:08.232135Z"
    },
    "colab": {
     "base_uri": "https://localhost:8080/"
    },
    "id": "SSnI8Yvmo4pL",
    "outputId": "66f9562e-95e7-482a-bfa8-6c008c1ccaf6"
   },
   "outputs": [],
   "source": [
    "data.query('locality_name == \"всеволожск\"')[\"airports_nearest\"].value_counts()"
   ]
  },
  {
   "cell_type": "markdown",
   "metadata": {
    "id": "oRAZG3YbPg-K"
   },
   "source": [
    "Есть еще одна проблема - в столбце `locality_name` есть пропущенные значения и группировка по ним не пройдет. В результате мы столбцу в котором 23071 присвоем столбец с 23022 значениями. А недостающие 49 значений станут NaN, даже если они изначально не были NaN. Поэтому присваивать нужно по индексам."
   ]
  },
  {
   "cell_type": "code",
   "execution_count": null,
   "metadata": {
    "ExecuteTime": {
     "end_time": "2022-07-21T12:44:29.511419Z",
     "start_time": "2022-07-21T12:44:29.456515Z"
    },
    "colab": {
     "base_uri": "https://localhost:8080/"
    },
    "id": "hC58AdNBD66u",
    "outputId": "df9e5772-48af-453b-a3f2-980425e50c2e"
   },
   "outputs": [],
   "source": [
    "with warnings.catch_warnings():\n",
    "    warnings.simplefilter(\"ignore\", category=RuntimeWarning)\n",
    "    filled = data.groupby(\"locality_name\")[\"airports_nearest\"].apply(lambda x: x.fillna(x.median()))\n",
    "len(filled)"
   ]
  },
  {
   "cell_type": "code",
   "execution_count": null,
   "metadata": {
    "ExecuteTime": {
     "end_time": "2022-07-21T12:39:08.278624Z",
     "start_time": "2022-07-21T12:39:08.275869Z"
    },
    "colab": {
     "base_uri": "https://localhost:8080/"
    },
    "id": "7xPvFXv_RJ9E",
    "outputId": "ae13aff8-aeb0-4755-e498-947333f2fd1d"
   },
   "outputs": [],
   "source": [
    "len(data)"
   ]
  },
  {
   "cell_type": "code",
   "execution_count": null,
   "metadata": {
    "ExecuteTime": {
     "end_time": "2022-07-21T12:39:08.283900Z",
     "start_time": "2022-07-21T12:39:08.279885Z"
    },
    "id": "AxW3InbhRLsC"
   },
   "outputs": [],
   "source": [
    "data.loc[filled.index, \"airports_nearest\"] = filled"
   ]
  },
  {
   "cell_type": "code",
   "execution_count": null,
   "metadata": {
    "ExecuteTime": {
     "end_time": "2022-07-21T12:39:08.288629Z",
     "start_time": "2022-07-21T12:39:08.285524Z"
    },
    "colab": {
     "base_uri": "https://localhost:8080/"
    },
    "id": "SgiwKoaXRVjv",
    "outputId": "9ad97528-9b0f-4977-a31b-c6ea72372ea2"
   },
   "outputs": [],
   "source": [
    "feature_nan(data, \"airports_nearest\")"
   ]
  },
  {
   "cell_type": "markdown",
   "metadata": {
    "id": "VmZsSZ0NRcFe"
   },
   "source": [
    "Как ни грустно, но таким образом нам получилось заполнить лишь 3% пропущенных значений. Других географических признаков у нас нет, так что нам придется оставить пропущенные значения как есть."
   ]
  },
  {
   "cell_type": "markdown",
   "metadata": {
    "id": "GeslHYjlm3mW"
   },
   "source": [
    "### city_centers_nearest"
   ]
  },
  {
   "cell_type": "code",
   "execution_count": null,
   "metadata": {
    "ExecuteTime": {
     "end_time": "2022-07-21T12:39:08.292227Z",
     "start_time": "2022-07-21T12:39:08.289992Z"
    },
    "colab": {
     "base_uri": "https://localhost:8080/"
    },
    "id": "BRXjlOmsTmTf",
    "outputId": "85a8a28c-51d7-493a-c2a8-62d50ecc181a"
   },
   "outputs": [],
   "source": [
    "feature_nan(data, \"city_centers_nearest\")"
   ]
  },
  {
   "cell_type": "markdown",
   "metadata": {
    "id": "0nyq-RE2nKjG"
   },
   "source": [
    "Пропусков по `city_centers_nearest` - около 23%, вероятнее всего, в поселках просто нет \"центра города\". Снова попробуем заполнить значения по области."
   ]
  },
  {
   "cell_type": "code",
   "execution_count": null,
   "metadata": {
    "ExecuteTime": {
     "end_time": "2022-07-21T12:45:38.188668Z",
     "start_time": "2022-07-21T12:45:38.134181Z"
    },
    "id": "H3YFm5qIpYFL"
   },
   "outputs": [],
   "source": [
    "with warnings.catch_warnings():\n",
    "    warnings.simplefilter(\"ignore\", category=RuntimeWarning)\n",
    "    filled = data.groupby(\"locality_name\")[\"city_centers_nearest\"].apply(lambda x: x.fillna(x.median()))\n",
    "data.loc[filled.index, \"city_centers_nearest\"] = filled"
   ]
  },
  {
   "cell_type": "code",
   "execution_count": null,
   "metadata": {
    "ExecuteTime": {
     "end_time": "2022-07-21T12:39:08.388796Z",
     "start_time": "2022-07-21T12:39:08.386633Z"
    },
    "colab": {
     "base_uri": "https://localhost:8080/"
    },
    "id": "aAkPc3gtTxnL",
    "outputId": "70f40a46-72ed-4ac9-9cb3-9497df834217"
   },
   "outputs": [],
   "source": [
    "feature_nan(data, \"city_centers_nearest\")"
   ]
  },
  {
   "cell_type": "markdown",
   "metadata": {
    "id": "Le3weDpOVBxp"
   },
   "source": [
    "Снова кот наплакал. Причем число один в один совпадает с числом пропусков в столбце `airports_nearset`. Судя по всему, эти пропуски у один и тех же квартир, и что-то мне подсказывает, что так же будет и со всеми следующими столбцами. "
   ]
  },
  {
   "cell_type": "code",
   "execution_count": null,
   "metadata": {
    "ExecuteTime": {
     "end_time": "2022-07-21T12:39:08.395184Z",
     "start_time": "2022-07-21T12:39:08.390119Z"
    },
    "colab": {
     "base_uri": "https://localhost:8080/",
     "height": 113
    },
    "id": "_-VgXhTaUCFZ",
    "outputId": "6b066921-6efc-4539-c6d3-904f862fa8b9"
   },
   "outputs": [],
   "source": [
    "data[data[\"airports_nearest\"].isna() & ~data[\"city_centers_nearest\"].isna()]"
   ]
  },
  {
   "cell_type": "code",
   "execution_count": null,
   "metadata": {
    "ExecuteTime": {
     "end_time": "2022-07-21T12:39:08.402471Z",
     "start_time": "2022-07-21T12:39:08.396138Z"
    },
    "colab": {
     "base_uri": "https://localhost:8080/",
     "height": 113
    },
    "id": "VBBbtTCYVtov",
    "outputId": "91740038-1605-430a-bf69-202b868eaff4"
   },
   "outputs": [],
   "source": [
    "data[~data[\"airports_nearest\"].isna() & data[\"city_centers_nearest\"].isna()]"
   ]
  },
  {
   "cell_type": "markdown",
   "metadata": {
    "id": "UwTsIZCAV3-9"
   },
   "source": [
    "Да, пропуски биективны. Судя по всему, это квартиры с каких-то далеких поселков и деревень."
   ]
  },
  {
   "cell_type": "markdown",
   "metadata": {
    "id": "QQ9N12RKWDbz"
   },
   "source": [
    "### parks_around_3000"
   ]
  },
  {
   "cell_type": "code",
   "execution_count": null,
   "metadata": {
    "ExecuteTime": {
     "end_time": "2022-07-21T12:39:08.405605Z",
     "start_time": "2022-07-21T12:39:08.403748Z"
    },
    "colab": {
     "base_uri": "https://localhost:8080/"
    },
    "id": "mUhLkPjiWdGT",
    "outputId": "52ff4ba2-c13d-4f4d-b6bd-3fc7dcc40733"
   },
   "outputs": [],
   "source": [
    "feature_nan(data, \"parks_around_3000\")"
   ]
  },
  {
   "cell_type": "code",
   "execution_count": null,
   "metadata": {
    "ExecuteTime": {
     "end_time": "2022-07-21T12:46:14.727838Z",
     "start_time": "2022-07-21T12:46:14.673146Z"
    },
    "id": "W49By2JhXBVU"
   },
   "outputs": [],
   "source": [
    "with warnings.catch_warnings():\n",
    "    warnings.simplefilter(\"ignore\", category=RuntimeWarning)\n",
    "    filled = data.groupby(\"locality_name\")[\"parks_around_3000\"].apply(lambda x: x.fillna(x.median()))\n",
    "data.loc[filled.index, \"parks_around_3000\"] = filled"
   ]
  },
  {
   "cell_type": "code",
   "execution_count": null,
   "metadata": {
    "ExecuteTime": {
     "end_time": "2022-07-21T12:39:08.443075Z",
     "start_time": "2022-07-21T12:39:08.440717Z"
    },
    "colab": {
     "base_uri": "https://localhost:8080/"
    },
    "id": "DhrVR7r3XMHW",
    "outputId": "fdf8c52a-904c-4d62-d79d-96f72d7f0698"
   },
   "outputs": [],
   "source": [
    "feature_nan(data, \"parks_around_3000\")"
   ]
  },
  {
   "cell_type": "markdown",
   "metadata": {
    "id": "0FMGE1UsXUje"
   },
   "source": [
    "И снова."
   ]
  },
  {
   "cell_type": "markdown",
   "metadata": {
    "id": "qPTx-seEXal9"
   },
   "source": [
    "### ponds_around_3000"
   ]
  },
  {
   "cell_type": "code",
   "execution_count": null,
   "metadata": {
    "ExecuteTime": {
     "end_time": "2022-07-21T12:39:08.446547Z",
     "start_time": "2022-07-21T12:39:08.444215Z"
    },
    "colab": {
     "base_uri": "https://localhost:8080/"
    },
    "id": "BHuZh3haXnPS",
    "outputId": "870d9e28-2758-4f2b-b42e-a0adbc8d1871"
   },
   "outputs": [],
   "source": [
    "feature_nan(data, \"ponds_around_3000\")"
   ]
  },
  {
   "cell_type": "markdown",
   "metadata": {
    "id": "p9K31Tb7sSEa"
   },
   "source": [
    "Любопыства ради я хочу посмотреть, по какой области больше всего идет заполнение пропущенных данных. Не очень хорошо, если это Санкт-Петербург, так как там квартиры сильно разбросаны по всему городу. Лучше, если это деревня или небольшой поселок."
   ]
  },
  {
   "cell_type": "code",
   "execution_count": null,
   "metadata": {
    "ExecuteTime": {
     "end_time": "2022-07-21T12:39:08.450667Z",
     "start_time": "2022-07-21T12:39:08.447983Z"
    },
    "id": "XTbLa4HhhXmE"
   },
   "outputs": [],
   "source": [
    "saved = deepcopy(data[\"ponds_around_3000\"])"
   ]
  },
  {
   "cell_type": "code",
   "execution_count": null,
   "metadata": {
    "ExecuteTime": {
     "end_time": "2022-07-21T12:46:57.619067Z",
     "start_time": "2022-07-21T12:46:57.561004Z"
    },
    "id": "aRGt4GFdXrKj"
   },
   "outputs": [],
   "source": [
    "with warnings.catch_warnings():\n",
    "    warnings.simplefilter(\"ignore\", category=RuntimeWarning)\n",
    "    filled = data.groupby(\"locality_name\")[\"ponds_around_3000\"].apply(lambda x: x.fillna(x.median()))\n",
    "data.loc[filled.index, \"ponds_around_3000\"] = filled"
   ]
  },
  {
   "cell_type": "code",
   "execution_count": null,
   "metadata": {
    "ExecuteTime": {
     "end_time": "2022-07-21T12:39:08.498356Z",
     "start_time": "2022-07-21T12:39:08.494460Z"
    },
    "id": "L-H4Z3Ouhi0Q"
   },
   "outputs": [],
   "source": [
    "changed = data[\"ponds_around_3000\"].isna().astype(int) - saved.isna().astype(int)\n",
    "indexes = changed[changed != 0].index"
   ]
  },
  {
   "cell_type": "code",
   "execution_count": null,
   "metadata": {
    "ExecuteTime": {
     "end_time": "2022-07-21T12:39:08.504114Z",
     "start_time": "2022-07-21T12:39:08.499755Z"
    },
    "colab": {
     "base_uri": "https://localhost:8080/"
    },
    "id": "2jMw7Xt1fQT7",
    "outputId": "6f6de21d-aaee-4afd-a03c-82a8f3efa81c"
   },
   "outputs": [],
   "source": [
    "data.loc[indexes][\"locality_name\"].value_counts()"
   ]
  },
  {
   "cell_type": "markdown",
   "metadata": {
    "id": "eX3-IS1sjjgh"
   },
   "source": [
    "Самый большой вклад дает поселок Мурино - правда, всего квартир оттуда 588, а заполнились 586, то есть заполнение идет только по 2 квартирам."
   ]
  },
  {
   "cell_type": "code",
   "execution_count": null,
   "metadata": {
    "ExecuteTime": {
     "end_time": "2022-07-21T12:39:08.509884Z",
     "start_time": "2022-07-21T12:39:08.505286Z"
    },
    "colab": {
     "base_uri": "https://localhost:8080/"
    },
    "id": "GpnRyAfAjw8Y",
    "outputId": "72f05ebd-988a-40ff-ed0d-2fe3ec4dca7e"
   },
   "outputs": [],
   "source": [
    "data.query('locality_name == \"мурино\"')[\n",
    "    [\"airports_nearest\", \"city_centers_nearest\", \"parks_around_3000\", \"ponds_around_3000\"]\n",
    "].mean()"
   ]
  },
  {
   "cell_type": "markdown",
   "metadata": {
    "id": "eSPEgU1RkRVf"
   },
   "source": [
    "Результаты не такие уж и плохие. Если это небольшой поселок, то разница в пару сотен метров не особо повлияет на расстояние до аэропорта - примерно 50 км. Тоже самое с центром города. Парков в поселке нет, а озера 2."
   ]
  },
  {
   "cell_type": "markdown",
   "metadata": {
    "id": "00JQ-Xb4NIXT"
   },
   "source": [
    "NB: вообще, это стоило проверить раньше, чтобы не заполнить пропуски плохими значениями, но в нашем случае все нормально."
   ]
  },
  {
   "cell_type": "code",
   "execution_count": null,
   "metadata": {
    "ExecuteTime": {
     "end_time": "2022-07-21T12:39:08.512878Z",
     "start_time": "2022-07-21T12:39:08.511014Z"
    },
    "colab": {
     "base_uri": "https://localhost:8080/"
    },
    "id": "v9ppeZO3XxBY",
    "outputId": "51dc9ad0-b64b-4fe6-c5e5-092aa3dbbbf6"
   },
   "outputs": [],
   "source": [
    "feature_nan(data, \"ponds_around_3000\")"
   ]
  },
  {
   "cell_type": "markdown",
   "metadata": {
    "id": "nf0aVISdd7ZO"
   },
   "source": [
    "### parks_nearest"
   ]
  },
  {
   "cell_type": "code",
   "execution_count": null,
   "metadata": {
    "ExecuteTime": {
     "end_time": "2022-07-21T12:39:08.515861Z",
     "start_time": "2022-07-21T12:39:08.513736Z"
    },
    "colab": {
     "base_uri": "https://localhost:8080/"
    },
    "id": "ndwuRoLglSCr",
    "outputId": "310b2a90-ddec-4642-c920-724145c47c1d"
   },
   "outputs": [],
   "source": [
    "feature_nan(data, \"parks_nearest\")"
   ]
  },
  {
   "cell_type": "markdown",
   "metadata": {
    "id": "Y5uTb2v0lWev"
   },
   "source": [
    "Пропусков в этом столбце значительно больше, чем в предыдущих, так что стоит посмотреть, откуда они идут."
   ]
  },
  {
   "cell_type": "code",
   "execution_count": null,
   "metadata": {
    "ExecuteTime": {
     "end_time": "2022-07-21T12:39:08.521853Z",
     "start_time": "2022-07-21T12:39:08.516811Z"
    },
    "colab": {
     "base_uri": "https://localhost:8080/"
    },
    "id": "9GZjla2cd60g",
    "outputId": "181b9df1-eb4d-46b8-e5de-1aec6e98fb65"
   },
   "outputs": [],
   "source": [
    "data[data[\"parks_nearest\"].isna()][\"locality_name\"].value_counts()"
   ]
  },
  {
   "cell_type": "markdown",
   "metadata": {
    "id": "Ii-Bo-rowXbx"
   },
   "source": [
    "Посмотрим, насколько рационально заполнять пропуски в Санкт-Петербурге."
   ]
  },
  {
   "cell_type": "code",
   "execution_count": null,
   "metadata": {
    "ExecuteTime": {
     "end_time": "2022-07-21T12:39:08.527774Z",
     "start_time": "2022-07-21T12:39:08.522924Z"
    },
    "id": "v36B6oxQvYv1"
   },
   "outputs": [],
   "source": [
    "spb_parks_nearest = data.query('locality_name == \"санкт-петербург\"')[\"parks_nearest\"].dropna()"
   ]
  },
  {
   "cell_type": "code",
   "execution_count": null,
   "metadata": {
    "ExecuteTime": {
     "end_time": "2022-07-21T12:39:08.552543Z",
     "start_time": "2022-07-21T12:39:08.528682Z"
    },
    "colab": {
     "base_uri": "https://localhost:8080/",
     "height": 562
    },
    "id": "4O02ieXJu1j_",
    "outputId": "3931cf60-6e48-4f8f-ee83-74f9c771610f"
   },
   "outputs": [],
   "source": [
    "px.histogram(x=spb_parks_nearest)"
   ]
  },
  {
   "cell_type": "markdown",
   "metadata": {
    "id": "ILTz5FRnxxWD"
   },
   "source": [
    "Питер состовляет 54% пропусков по столбцу `parks_nearest`, а распределение по городу в целом имеет относительно большой разброс, так что я не вижу смысла заполнять пропуски тут, это исказит данные."
   ]
  },
  {
   "cell_type": "markdown",
   "metadata": {
    "id": "DSYO6IiG0VAt"
   },
   "source": [
    "### ponds_nearest"
   ]
  },
  {
   "cell_type": "code",
   "execution_count": null,
   "metadata": {
    "ExecuteTime": {
     "end_time": "2022-07-21T12:39:08.555781Z",
     "start_time": "2022-07-21T12:39:08.553455Z"
    },
    "colab": {
     "base_uri": "https://localhost:8080/"
    },
    "id": "iCbNG5hAlipp",
    "outputId": "e0aff8a0-3e88-42e8-ef9c-f0186611b6ac"
   },
   "outputs": [],
   "source": [
    "feature_nan(data, \"ponds_nearest\")"
   ]
  },
  {
   "cell_type": "code",
   "execution_count": null,
   "metadata": {
    "ExecuteTime": {
     "end_time": "2022-07-21T12:39:08.561647Z",
     "start_time": "2022-07-21T12:39:08.556716Z"
    },
    "colab": {
     "base_uri": "https://localhost:8080/"
    },
    "id": "p6Z8o9vB0Ua8",
    "outputId": "05c7b072-03a4-4da0-c6e2-0deac57a4d1d"
   },
   "outputs": [],
   "source": [
    "data[data[\"ponds_nearest\"].isna()][\"locality_name\"].value_counts()"
   ]
  },
  {
   "cell_type": "code",
   "execution_count": null,
   "metadata": {
    "ExecuteTime": {
     "end_time": "2022-07-21T12:39:08.566541Z",
     "start_time": "2022-07-21T12:39:08.562478Z"
    },
    "id": "gtz0mGCO0dO3"
   },
   "outputs": [],
   "source": [
    "spb_ponds_nearest = data.query('locality_name == \"санкт-петербург\"')[\"ponds_nearest\"].dropna()"
   ]
  },
  {
   "cell_type": "code",
   "execution_count": null,
   "metadata": {
    "ExecuteTime": {
     "end_time": "2022-07-21T12:39:08.589924Z",
     "start_time": "2022-07-21T12:39:08.567426Z"
    },
    "colab": {
     "base_uri": "https://localhost:8080/",
     "height": 562
    },
    "id": "IOmN4fm20hi0",
    "outputId": "50376ad2-40a1-4637-c78b-5220b7b5362b"
   },
   "outputs": [],
   "source": [
    "px.histogram(x=spb_ponds_nearest)"
   ]
  },
  {
   "cell_type": "markdown",
   "metadata": {
    "id": "GiQHG6WM0n7v"
   },
   "source": [
    "Ну тут точно нет. Однако можно заметить, что в поселке Мурино пропущено 586 значений, а всего оттуда объявлений 588. Значит, есть 2 непропущенных значения."
   ]
  },
  {
   "cell_type": "code",
   "execution_count": null,
   "metadata": {
    "ExecuteTime": {
     "end_time": "2022-07-21T12:39:08.595121Z",
     "start_time": "2022-07-21T12:39:08.590792Z"
    },
    "colab": {
     "base_uri": "https://localhost:8080/"
    },
    "id": "U5_0nwnIKzh5",
    "outputId": "fb15ded1-046e-4e56-fa3f-8e4700e512da"
   },
   "outputs": [],
   "source": [
    "data.query(\"locality_name == 'мурино'\")[\"ponds_nearest\"].dropna()"
   ]
  },
  {
   "cell_type": "markdown",
   "metadata": {
    "id": "pmnmJkc-LcSO"
   },
   "source": [
    "В поселке Мурино как минимум 588 квартир - значит, поселок относительно немаленький. Лучше не заполнять пропуски 2 значениями 133 м, так как разброс значений там, вероятно больше."
   ]
  },
  {
   "cell_type": "markdown",
   "metadata": {
    "id": "JGD7AnFB8k0d"
   },
   "source": [
    "### days_exposition"
   ]
  },
  {
   "cell_type": "code",
   "execution_count": null,
   "metadata": {
    "ExecuteTime": {
     "end_time": "2022-07-21T12:39:08.597909Z",
     "start_time": "2022-07-21T12:39:08.596068Z"
    },
    "colab": {
     "base_uri": "https://localhost:8080/"
    },
    "id": "e1vZ1XmW8tA-",
    "outputId": "73eb95a0-f1e9-49ac-a721-3e7ab820da90"
   },
   "outputs": [],
   "source": [
    "feature_nan(data, \"days_exposition\")"
   ]
  },
  {
   "cell_type": "code",
   "execution_count": null,
   "metadata": {
    "ExecuteTime": {
     "end_time": "2022-07-21T12:39:08.602386Z",
     "start_time": "2022-07-21T12:39:08.598553Z"
    },
    "colab": {
     "base_uri": "https://localhost:8080/"
    },
    "id": "23Qw0r_e9GCY",
    "outputId": "df15cf32-3ad1-48c7-91c2-0c7000d79048"
   },
   "outputs": [],
   "source": [
    "data[\"days_exposition\"].agg([\"mean\", \"median\", \"std\"])"
   ]
  },
  {
   "cell_type": "markdown",
   "metadata": {
    "id": "LpiyTKwj87Lx"
   },
   "source": [
    "В половине случаев продажа квартиры занимает порядка 3 месяцев, однако разброс значений весьма большой. Быстрее 1 месяца или дольше 8 месяцев продажи происходят весьма редко. Так как распределение имеет большой размах, то я не буду заполнять пропуски средним или медианой."
   ]
  },
  {
   "cell_type": "markdown",
   "metadata": {
    "id": "AnyEPESk9C6c"
   },
   "source": [
    "# Отбор признаков"
   ]
  },
  {
   "cell_type": "markdown",
   "metadata": {
    "id": "zWySRPbOB13s"
   },
   "source": [
    "## Общее"
   ]
  },
  {
   "cell_type": "code",
   "execution_count": null,
   "metadata": {
    "ExecuteTime": {
     "end_time": "2022-07-21T12:39:08.607462Z",
     "start_time": "2022-07-21T12:39:08.603198Z"
    },
    "colab": {
     "base_uri": "https://localhost:8080/"
    },
    "id": "A6SmDdXAI9qI",
    "outputId": "d842d7bf-9d17-41e5-fd59-ea6fb8b53300"
   },
   "outputs": [],
   "source": [
    "feature_nan(data)"
   ]
  },
  {
   "cell_type": "markdown",
   "metadata": {
    "id": "7M75FXZFmNh3"
   },
   "source": [
    "Добавим новые столбцы, которые могут быть полезными в моделировании цен на квартиры."
   ]
  },
  {
   "cell_type": "code",
   "execution_count": null,
   "metadata": {
    "ExecuteTime": {
     "end_time": "2022-07-21T12:39:08.609948Z",
     "start_time": "2022-07-21T12:39:08.608281Z"
    },
    "id": "MTphtH3oxX1t"
   },
   "outputs": [],
   "source": [
    "def floor_category(row):\n",
    "    if row[\"floor\"] == 1:\n",
    "        return \"первый\"\n",
    "    if row[\"floor\"] == row[\"floors_total\"]:\n",
    "        return \"последний\"\n",
    "    return \"другое\""
   ]
  },
  {
   "cell_type": "code",
   "execution_count": null,
   "metadata": {
    "ExecuteTime": {
     "end_time": "2022-07-21T12:39:08.777218Z",
     "start_time": "2022-07-21T12:39:08.610822Z"
    },
    "id": "vvV2tUFJmslo"
   },
   "outputs": [],
   "source": [
    "data[\"price_per_meter\"] = data[\"last_price\"] / data[\"total_area\"]\n",
    "data[\"living_ratio\"] = data[\"living_area\"] / data[\"total_area\"]\n",
    "data[\"kitchen_ratio\"] = data[\"kitchen_area\"] / data[\"total_area\"]\n",
    "\n",
    "data[\"year_exposition\"] = data[\"first_day_exposition\"].dt.year\n",
    "data[\"month_exposition\"] = data[\"first_day_exposition\"].dt.month\n",
    "data[\"weekday_exposition\"] = data[\"first_day_exposition\"].dt.weekday\n",
    "\n",
    "data[\"floor_category\"] = data.apply(floor_category, axis=1)"
   ]
  },
  {
   "cell_type": "markdown",
   "metadata": {
    "id": "wqWVgB9g9S8T"
   },
   "source": [
    "Посмотрим на распределения после очистки данных и добавления новых признаков."
   ]
  },
  {
   "cell_type": "code",
   "execution_count": null,
   "metadata": {
    "ExecuteTime": {
     "end_time": "2022-07-21T12:39:09.541838Z",
     "start_time": "2022-07-21T12:39:08.778188Z"
    },
    "colab": {
     "base_uri": "https://localhost:8080/",
     "height": 562
    },
    "id": "68bmxraB9exO",
    "outputId": "7cc420fc-966a-46cb-cc33-dc16edb41c9a"
   },
   "outputs": [],
   "source": [
    "feature_histogram(data)"
   ]
  },
  {
   "cell_type": "code",
   "execution_count": null,
   "metadata": {
    "ExecuteTime": {
     "end_time": "2022-07-21T12:39:10.971839Z",
     "start_time": "2022-07-21T12:39:09.543311Z"
    },
    "colab": {
     "base_uri": "https://localhost:8080/",
     "height": 562
    },
    "id": "Zf-HaVFs9hmv",
    "outputId": "70b551f1-c026-4566-b014-a056619987a2"
   },
   "outputs": [],
   "source": [
    "feature_scatterplot(data)"
   ]
  },
  {
   "cell_type": "code",
   "execution_count": null,
   "metadata": {
    "ExecuteTime": {
     "end_time": "2022-07-21T12:39:11.014775Z",
     "start_time": "2022-07-21T12:39:10.973224Z"
    },
    "colab": {
     "base_uri": "https://localhost:8080/",
     "height": 637
    },
    "id": "QQm4NzmO9pHh",
    "outputId": "8cdd874a-9a0e-4aad-b716-9c8c770edf72"
   },
   "outputs": [],
   "source": [
    "px.imshow(data.corr(), height=600)"
   ]
  },
  {
   "cell_type": "markdown",
   "metadata": {
    "id": "8qhYq36GDBHF"
   },
   "source": [
    "Самые высокие корреляции `last_price` - с `total_area`, `living_area`, `kitchen_area`, `ceiling_height` и `rooms`. Хоть `price_per_meter` и коррелирует хорошо с ценой, но столбец не может быть использован в предсказании цены."
   ]
  },
  {
   "cell_type": "markdown",
   "metadata": {
    "id": "OOnHWNuosT2T"
   },
   "source": [
    "Если посмотреть на диаграмму рассеяния выше, то можно увидеть образ линейной зависимости между `last_price` и `total_area`, `living_area` и `kitchen_area`. Однако у последних двух признаков разброс точек от линии регрессии выше, чем у первого. У `ceiling_height` тоже просматривается линейная зависимость с большим разбросом."
   ]
  },
  {
   "cell_type": "markdown",
   "metadata": {
    "id": "7Fzm_hJC6TiZ"
   },
   "source": [
    "Распределение цен на квартиры похоже на распределение Пуассона. Медианная цена равна примерно 4.6, а половина всех цен лежит в диапазоне от 3.4М до 6.7М."
   ]
  },
  {
   "cell_type": "markdown",
   "metadata": {
    "id": "lG0-XRyo8Qga"
   },
   "source": [
    "Распределение общей площади похоже на логнормальное. Проверим это."
   ]
  },
  {
   "cell_type": "code",
   "execution_count": null,
   "metadata": {
    "ExecuteTime": {
     "end_time": "2022-07-21T12:39:11.068134Z",
     "start_time": "2022-07-21T12:39:11.015643Z"
    },
    "colab": {
     "base_uri": "https://localhost:8080/",
     "height": 562
    },
    "id": "ArsERUxU8Iga",
    "outputId": "893b9609-c5cd-482f-eb18-a70ec0444f10"
   },
   "outputs": [],
   "source": [
    "px.histogram(x=np.log(data[\"total_area\"]))"
   ]
  },
  {
   "cell_type": "markdown",
   "metadata": {
    "id": "zaleRxk_8tpO"
   },
   "source": [
    "Ну с натяжкой можно сказать, что распределение логарифмов похоже на нормальное. Медиана по площади равна 51 м2, а большинство значений лежит в диапазоне от 40 до 68 м2. Между ценой и площадью наблюдается сильная линейная зависимость."
   ]
  },
  {
   "cell_type": "markdown",
   "metadata": {
    "id": "7bLq-BeE9soc"
   },
   "source": [
    "Количество комнат ранжируется от 1 до 3 в большинстве случаев. Посмотрим, как столбец влияет на ценообразование."
   ]
  },
  {
   "cell_type": "code",
   "execution_count": null,
   "metadata": {
    "ExecuteTime": {
     "end_time": "2022-07-21T12:39:11.118361Z",
     "start_time": "2022-07-21T12:39:11.069030Z"
    },
    "colab": {
     "base_uri": "https://localhost:8080/",
     "height": 562
    },
    "id": "UpbxIuM0uOj8",
    "outputId": "258fa896-7bb7-4ec2-b461-7b7efbf90463"
   },
   "outputs": [],
   "source": [
    "px.box(data, y=\"last_price\", color=\"rooms\")"
   ]
  },
  {
   "cell_type": "markdown",
   "metadata": {
    "id": "TrlvvCMryzzI"
   },
   "source": [
    "Видим, как отличаются распределения цен для разного количества комнат. Следовательно, признак хорошо коррелирует с ценой."
   ]
  },
  {
   "cell_type": "markdown",
   "metadata": {
    "id": "UIg2kxCNmzZL"
   },
   "source": [
    "Высота потолков большинства квартир ранжируется от 2.5 до 2.8 метров, с медианой в 2.65 м. Между ценой и высотой потолков наблюдается несильная линейная зависимость."
   ]
  },
  {
   "cell_type": "markdown",
   "metadata": {
    "id": "yYWes5fmuycC"
   },
   "source": [
    "## locality_name"
   ]
  },
  {
   "cell_type": "markdown",
   "metadata": {
    "id": "UUSnWxJfJsMQ"
   },
   "source": [
    "Посмотрим, как цена зависит от местоположения."
   ]
  },
  {
   "cell_type": "code",
   "execution_count": null,
   "metadata": {
    "ExecuteTime": {
     "end_time": "2022-07-21T12:39:11.161774Z",
     "start_time": "2022-07-21T12:39:11.119323Z"
    },
    "colab": {
     "base_uri": "https://localhost:8080/",
     "height": 562
    },
    "id": "1eCgcwp4JTUZ",
    "outputId": "0f093f7b-7eb1-4f96-ce6c-617e91fe286e"
   },
   "outputs": [],
   "source": [
    "price_locality_distr = data.pivot_table(\n",
    "    index=\"locality_name\", values=\"last_price\", aggfunc=[\"count\", \"mean\", \"median\"]\n",
    ").droplevel(1, axis=1)\n",
    "fig = px.bar(price_locality_distr.sort_values(by=\"count\").tail(20), x=[\"mean\", \"median\"])\n",
    "fig.update_layout(barmode=\"overlay\")"
   ]
  },
  {
   "cell_type": "markdown",
   "metadata": {
    "id": "viugtYv9O7j0"
   },
   "source": [
    "Видим, что цены в Санкт-Петербурге сильно выбиваются по сравнению с остальными. Однако в целом нельзя сказать, что чем меньше поселение (по количеству объявлений), тем меньше цена. Кроме того, возможно, что в деревнях площадь квартир больше, чем в городе. Самые высокие цены в Питере, поселке Пушкин и в Сестрорецке. Самые низкие цены в Киршах и в поселке Волхов."
   ]
  },
  {
   "cell_type": "code",
   "execution_count": null,
   "metadata": {
    "ExecuteTime": {
     "end_time": "2022-07-21T12:39:11.200453Z",
     "start_time": "2022-07-21T12:39:11.162686Z"
    },
    "colab": {
     "base_uri": "https://localhost:8080/",
     "height": 562
    },
    "id": "xOzcfRg5KZrK",
    "outputId": "d6222b97-6611-4f2e-f2eb-6b389e47a386"
   },
   "outputs": [],
   "source": [
    "price_locality_distr = data.pivot_table(\n",
    "    index=\"locality_name\", values=\"price_per_meter\", aggfunc=[\"count\", \"mean\", \"median\"]\n",
    ").droplevel(1, axis=1)\n",
    "fig = px.bar(price_locality_distr.sort_values(by=\"count\").tail(20), x=[\"mean\", \"median\"])\n",
    "fig.update_layout(barmode=\"overlay\")"
   ]
  },
  {
   "cell_type": "markdown",
   "metadata": {
    "id": "GQ2URH-vq-Er"
   },
   "source": [
    "Цена за квадратный метр более явно уменьшается. "
   ]
  },
  {
   "cell_type": "code",
   "execution_count": null,
   "metadata": {
    "ExecuteTime": {
     "end_time": "2022-07-21T12:39:11.255614Z",
     "start_time": "2022-07-21T12:39:11.201931Z"
    },
    "colab": {
     "base_uri": "https://localhost:8080/",
     "height": 562
    },
    "id": "DzwSJbWRg6EK",
    "outputId": "91c5b689-0bf0-46e7-eb53-76c72dd42117"
   },
   "outputs": [],
   "source": [
    "top_localities = data[\"locality_name\"].value_counts(ascending=False).head(10).index.values\n",
    "px.box(data.query(\"locality_name in @top_localities\"), y=\"last_price\", color=\"locality_name\")"
   ]
  },
  {
   "cell_type": "markdown",
   "metadata": {
    "id": "16vDEOsokf_y"
   },
   "source": [
    "Видим, что \"усы\" у деревень и поселков небольшие - это хорошо и говорит о том, что распределения компактные и действительно отличаются от распределения Санкт-Петербурга. Признаком можно сделать, находится ли квартира в городе или нет."
   ]
  },
  {
   "cell_type": "code",
   "execution_count": null,
   "metadata": {
    "ExecuteTime": {
     "end_time": "2022-07-21T12:39:11.262274Z",
     "start_time": "2022-07-21T12:39:11.256589Z"
    },
    "id": "iRkRxsO8SJFP"
   },
   "outputs": [],
   "source": [
    "data[\"in_city\"] = data[\"locality_name\"] == \"санкт-петербург\""
   ]
  },
  {
   "cell_type": "code",
   "execution_count": null,
   "metadata": {
    "ExecuteTime": {
     "end_time": "2022-07-21T12:39:11.356519Z",
     "start_time": "2022-07-21T12:39:11.263285Z"
    },
    "colab": {
     "base_uri": "https://localhost:8080/",
     "height": 1000
    },
    "id": "hYTKn5KRSehH",
    "outputId": "23c5d15e-8a32-48cd-e842-70d7cf8efa4b"
   },
   "outputs": [],
   "source": [
    "for column in [\"last_price\", \"price_per_meter\"]:\n",
    "    histogram_by(data, x=column, color=\"in_city\").show()"
   ]
  },
  {
   "cell_type": "code",
   "execution_count": null,
   "metadata": {
    "ExecuteTime": {
     "end_time": "2022-07-21T12:39:11.394801Z",
     "start_time": "2022-07-21T12:39:11.357939Z"
    },
    "colab": {
     "base_uri": "https://localhost:8080/",
     "height": 562
    },
    "id": "y7Iv7drc4UBs",
    "outputId": "2a959486-fd52-4755-bee2-ecabb33c5df0"
   },
   "outputs": [],
   "source": [
    "px.box(data, y=\"last_price\", color=\"in_city\")"
   ]
  },
  {
   "cell_type": "markdown",
   "metadata": {
    "id": "SJpeoX5K4eG1"
   },
   "source": [
    "Хорошо различимые распределения - признак действительно неплохой."
   ]
  },
  {
   "cell_type": "code",
   "execution_count": null,
   "metadata": {
    "ExecuteTime": {
     "end_time": "2022-07-21T12:39:11.400380Z",
     "start_time": "2022-07-21T12:39:11.396020Z"
    },
    "colab": {
     "base_uri": "https://localhost:8080/"
    },
    "id": "17LyJitdDvHC",
    "outputId": "23302585-09fc-4b77-8ebb-41a6f4542bc1"
   },
   "outputs": [],
   "source": [
    "data[\"last_price\"].corr(data[\"in_city\"])"
   ]
  },
  {
   "cell_type": "markdown",
   "metadata": {
    "id": "ufooKCEoEhhU"
   },
   "source": [
    "По диаграмее рассеяния выше видно, что после 18-20 километра макисмальная цена квартиры резко падает. Посмотрим поближе на распределение цены квартиры в зависимости от расстояния до центра ."
   ]
  },
  {
   "cell_type": "code",
   "execution_count": null,
   "metadata": {
    "ExecuteTime": {
     "end_time": "2022-07-21T12:39:11.492338Z",
     "start_time": "2022-07-21T12:39:11.401658Z"
    },
    "colab": {
     "base_uri": "https://localhost:8080/",
     "height": 562
    },
    "id": "yCuryU8ZE5Xs",
    "outputId": "691e2238-884b-447c-ecbe-74114d3d7d0d"
   },
   "outputs": [],
   "source": [
    "center_distance = (data[\"city_centers_nearest\"].dropna() / 1000).astype(int)\n",
    "price_by_distance = data[\"last_price\"][center_distance.index].groupby(center_distance).agg([\"mean\", \"median\"])\n",
    "price_by_distance = price_by_distance.reset_index().melt(id_vars=\"city_centers_nearest\", value_vars=[\"mean\", \"median\"])\n",
    "fig = px.scatter(price_by_distance, x=\"city_centers_nearest\", y=\"value\", color=\"variable\")\n",
    "fig.add_trace(px.line(x=[0, 10], y=[12 * 10**6, 6 * 10**6], color_discrete_sequence=[\"red\"]).data[0])\n",
    "fig.add_trace(px.line(x=[10, 20], y=[6 * 10**6, 4 * 10**6], color_discrete_sequence=[\"blue\"]).data[0])\n",
    "fig.add_trace(px.line(x=[20, 50], y=[4 * 10**6, 4 * 10**6], color_discrete_sequence=[\"green\"]).data[0])"
   ]
  },
  {
   "cell_type": "markdown",
   "metadata": {
    "id": "9ry0aMKMyTEg"
   },
   "source": [
    "Видим 3 участка, где зависимость меняет свой наклон. Вероятно, центр Санкт-Петербурга лежит в радиусе 10 км, а граница города проходит в радиусе 20 км."
   ]
  },
  {
   "cell_type": "code",
   "execution_count": null,
   "metadata": {
    "ExecuteTime": {
     "end_time": "2022-07-21T12:39:11.536375Z",
     "start_time": "2022-07-21T12:39:11.493412Z"
    },
    "colab": {
     "base_uri": "https://localhost:8080/",
     "height": 562
    },
    "id": "XoOCVQq5r3on",
    "outputId": "25e3ef11-6d06-465e-b9a6-887727778a61"
   },
   "outputs": [],
   "source": [
    "histogram_by(data, x=\"city_centers_nearest\", color=\"in_city\")"
   ]
  },
  {
   "cell_type": "markdown",
   "metadata": {
    "id": "oneT4itp7Qo_"
   },
   "source": [
    "Среди `in_city == False` есть очень маленькие значения, посмотрим, откуда они. Так же есть и большие значения для `in_city == True`, заменим их `locality_name` на \"окрестность санкт-петербурга\"."
   ]
  },
  {
   "cell_type": "code",
   "execution_count": null,
   "metadata": {
    "ExecuteTime": {
     "end_time": "2022-07-21T12:39:11.544315Z",
     "start_time": "2022-07-21T12:39:11.537397Z"
    },
    "colab": {
     "base_uri": "https://localhost:8080/",
     "height": 423
    },
    "id": "ckMgmTEm6esR",
    "outputId": "eb7839ac-2ec2-4bde-b423-c7b966abcceb"
   },
   "outputs": [],
   "source": [
    "data.query(\"in_city == False\").sort_values(by=\"city_centers_nearest\")[[\"locality_name\", \"city_centers_nearest\"]].head(\n",
    "    10\n",
    ")"
   ]
  },
  {
   "cell_type": "markdown",
   "metadata": {
    "id": "N__OxkYF7hY0"
   },
   "source": [
    "Видим, что в `in_city == False` вошли все NaN значения."
   ]
  },
  {
   "cell_type": "code",
   "execution_count": null,
   "metadata": {
    "ExecuteTime": {
     "end_time": "2022-07-21T12:39:11.551186Z",
     "start_time": "2022-07-21T12:39:11.545399Z"
    },
    "id": "lvNzwspf73l1"
   },
   "outputs": [],
   "source": [
    "data.loc[data[\"locality_name\"].isna() & (data[\"city_centers_nearest\"] < 20000), \"locality_name\"] = \"санкт-петербург\"\n",
    "data.loc[\n",
    "    (data[\"locality_name\"] == \"санкт-петербург\") & (data[\"city_centers_nearest\"] > 20000), \"locality_name\"\n",
    "] = \"окрестность санкт-петербурга\"\n",
    "data[\"in_city\"] = data[\"locality_name\"] == \"санкт-петербург\""
   ]
  },
  {
   "cell_type": "code",
   "execution_count": null,
   "metadata": {
    "ExecuteTime": {
     "end_time": "2022-07-21T12:39:11.596148Z",
     "start_time": "2022-07-21T12:39:11.552162Z"
    },
    "colab": {
     "base_uri": "https://localhost:8080/",
     "height": 562
    },
    "id": "RW7njVdy8vj5",
    "outputId": "6a03b40b-b918-4068-fb65-a077358abb7a"
   },
   "outputs": [],
   "source": [
    "histogram_by(data, x=\"city_centers_nearest\", color=\"in_city\")"
   ]
  },
  {
   "cell_type": "markdown",
   "metadata": {
    "id": "ZK27s_DjAr1t"
   },
   "source": [
    "Теперь столбец `in_city` достаточно хорошо соотвествует расстоянию до центра."
   ]
  },
  {
   "cell_type": "markdown",
   "metadata": {
    "id": "gdJRn9wdSGlJ"
   },
   "source": [
    "## first_day_exposition"
   ]
  },
  {
   "cell_type": "markdown",
   "metadata": {
    "id": "l09XL092R6Py"
   },
   "source": [
    "По диаграмме рассеяния выше кажется, что цена практически не зависит от даты публикации объявления."
   ]
  },
  {
   "cell_type": "code",
   "execution_count": null,
   "metadata": {
    "ExecuteTime": {
     "end_time": "2022-07-21T12:39:11.634902Z",
     "start_time": "2022-07-21T12:39:11.597061Z"
    },
    "colab": {
     "base_uri": "https://localhost:8080/",
     "height": 562
    },
    "id": "jDkGyHESdW7F",
    "outputId": "76653e58-9e7e-451e-fba3-e78216292e6f"
   },
   "outputs": [],
   "source": [
    "px.box(data, y=\"last_price\", color=\"year_exposition\")"
   ]
  },
  {
   "cell_type": "markdown",
   "metadata": {
    "id": "IQD2YHrzmiHj"
   },
   "source": [
    "Отлично разве что распределение за 2014 год, но оно нас не очень интересует (уже 2019 год на дворе)."
   ]
  },
  {
   "cell_type": "code",
   "execution_count": null,
   "metadata": {
    "ExecuteTime": {
     "end_time": "2022-07-21T12:39:11.680201Z",
     "start_time": "2022-07-21T12:39:11.636096Z"
    },
    "colab": {
     "base_uri": "https://localhost:8080/",
     "height": 562
    },
    "id": "nneyksjWrUjw",
    "outputId": "deceb767-645e-40f1-d41b-b514daf9a010"
   },
   "outputs": [],
   "source": [
    "px.box(data, y=\"last_price\", color=\"month_exposition\")"
   ]
  },
  {
   "cell_type": "markdown",
   "metadata": {
    "id": "oMq0smGnrjoJ"
   },
   "source": [
    "Красивая радуга."
   ]
  },
  {
   "cell_type": "code",
   "execution_count": null,
   "metadata": {
    "ExecuteTime": {
     "end_time": "2022-07-21T12:39:11.718409Z",
     "start_time": "2022-07-21T12:39:11.681020Z"
    },
    "colab": {
     "base_uri": "https://localhost:8080/",
     "height": 562
    },
    "id": "-PMTQ6QWrn1F",
    "outputId": "43322333-7c4e-41b6-c83a-523068742f65"
   },
   "outputs": [],
   "source": [
    "px.box(data, y=\"last_price\", color=\"weekday_exposition\")"
   ]
  },
  {
   "cell_type": "markdown",
   "metadata": {
    "id": "L-_-lVpTr5WK"
   },
   "source": [
    "Аналогично."
   ]
  },
  {
   "cell_type": "markdown",
   "metadata": {
    "id": "PQqGa7K9SO5_"
   },
   "source": [
    "## floor"
   ]
  },
  {
   "cell_type": "markdown",
   "metadata": {
    "id": "ureoktrCz-lD"
   },
   "source": [
    "Посмотрим на зависимость цены от категории этажа, на котором находится квартира."
   ]
  },
  {
   "cell_type": "code",
   "execution_count": null,
   "metadata": {
    "ExecuteTime": {
     "end_time": "2022-07-21T12:39:11.756707Z",
     "start_time": "2022-07-21T12:39:11.719376Z"
    },
    "colab": {
     "base_uri": "https://localhost:8080/",
     "height": 562
    },
    "id": "j7yNJecqz-Qx",
    "outputId": "c301d76d-4f3e-4968-b40a-4f389c0c7334"
   },
   "outputs": [],
   "source": [
    "histogram_by(data, x=\"last_price\", color=\"floor_category\")"
   ]
  },
  {
   "cell_type": "code",
   "execution_count": null,
   "metadata": {
    "ExecuteTime": {
     "end_time": "2022-07-21T12:39:11.792322Z",
     "start_time": "2022-07-21T12:39:11.757755Z"
    },
    "colab": {
     "base_uri": "https://localhost:8080/",
     "height": 562
    },
    "id": "Dd9aku3_3J1x",
    "outputId": "ffcd8cfe-b414-4b1d-bea8-ee399d78a2f0"
   },
   "outputs": [],
   "source": [
    "px.box(data, y=\"last_price\", color=\"floor_category\")"
   ]
  },
  {
   "cell_type": "markdown",
   "metadata": {
    "id": "ajs-8Joq1i7h"
   },
   "source": [
    "Статистической разницы нет. Однако, если посмотреть на диаграмму рассеяния `last_price` и `floor`, то можно заметить, что если этаж больше 15, то средняя цена постепенно уменьшается. Посмотрим на диаграмму размаха."
   ]
  },
  {
   "cell_type": "code",
   "execution_count": null,
   "metadata": {
    "ExecuteTime": {
     "end_time": "2022-07-21T12:39:11.849339Z",
     "start_time": "2022-07-21T12:39:11.793248Z"
    },
    "colab": {
     "base_uri": "https://localhost:8080/",
     "height": 562
    },
    "id": "AEFQRCU6189a",
    "outputId": "d9cff897-9df1-4453-da39-d742dc6d03b1"
   },
   "outputs": [],
   "source": [
    "px.box(data, y=\"last_price\", color=\"floor\")"
   ]
  },
  {
   "cell_type": "markdown",
   "metadata": {
    "id": "IN1Xbz3D2r-Z"
   },
   "source": [
    "Хотя немного неудобно, но в принципе видно, что у квартир на высоких этажах меньше выбросов. Тем не менее медиана и межквартильный размах везде примерно одинаковый. Но различия между распределениями не такие большие, чтобы считать столбец статистически значимым."
   ]
  },
  {
   "cell_type": "code",
   "execution_count": null,
   "metadata": {
    "ExecuteTime": {
     "end_time": "2022-07-21T12:39:11.908370Z",
     "start_time": "2022-07-21T12:39:11.850621Z"
    },
    "colab": {
     "base_uri": "https://localhost:8080/",
     "height": 562
    },
    "id": "AZ5HREsXyQiO",
    "outputId": "a178b093-6b58-41cd-891f-311aef211f07"
   },
   "outputs": [],
   "source": [
    "px.box(data, y=\"last_price\", color=\"floors_total\")"
   ]
  },
  {
   "cell_type": "markdown",
   "metadata": {
    "id": "0QS7XXCMyrx7"
   },
   "source": [
    "Не сильно отличаются дома с разным числом этажей."
   ]
  },
  {
   "cell_type": "markdown",
   "metadata": {
    "id": "HOkEIObGzFoY"
   },
   "source": [
    "## Отбор признаков с sklearn"
   ]
  },
  {
   "cell_type": "markdown",
   "metadata": {
    "id": "I3HDQAwZxv0V"
   },
   "source": [
    "Посмотрим на другие методы оценки важности столбцов. Посмотрим, какой вклад различные столбцы вносят в моделирование цены на недвижимость простыми моделям."
   ]
  },
  {
   "cell_type": "code",
   "execution_count": null,
   "metadata": {
    "ExecuteTime": {
     "end_time": "2022-07-21T12:39:11.915354Z",
     "start_time": "2022-07-21T12:39:11.909625Z"
    },
    "id": "MwF7_OcF0lIg"
   },
   "outputs": [],
   "source": [
    "X = data.drop(\n",
    "    columns=[\"first_day_exposition\", \"locality_name\", \"last_price\", \"floor_category\", \"price_per_meter\"]\n",
    ").dropna()\n",
    "y = data.loc[X.index, \"last_price\"]"
   ]
  },
  {
   "cell_type": "code",
   "execution_count": null,
   "metadata": {
    "ExecuteTime": {
     "end_time": "2022-07-21T12:39:11.917997Z",
     "start_time": "2022-07-21T12:39:11.916368Z"
    },
    "id": "JDi9kW79xqIB"
   },
   "outputs": [],
   "source": [
    "model_rf = RandomForestRegressor(n_jobs=-1)"
   ]
  },
  {
   "cell_type": "code",
   "execution_count": null,
   "metadata": {
    "ExecuteTime": {
     "end_time": "2022-07-21T12:39:59.467618Z",
     "start_time": "2022-07-21T12:39:11.919489Z"
    },
    "colab": {
     "base_uri": "https://localhost:8080/"
    },
    "id": "zHzXs9TB3QlN",
    "outputId": "165b921d-5d9d-451c-d6ba-82379b742aec"
   },
   "outputs": [],
   "source": [
    "for model, model_name in zip([model_ls, model_rf, model_gb], [\"Lasso\", \"Random forest\", \"Gradient boosting\"]):\n",
    "    print(model_name, \": \", cross_val_score(model, X, y), sep=\"\")"
   ]
  },
  {
   "cell_type": "code",
   "execution_count": null,
   "metadata": {
    "ExecuteTime": {
     "end_time": "2022-07-21T12:40:33.043831Z",
     "start_time": "2022-07-21T12:39:59.469718Z"
    },
    "colab": {
     "base_uri": "https://localhost:8080/"
    },
    "id": "juErVJVkNw4N",
    "outputId": "ec567a1c-0f53-4afd-b057-aec550884810"
   },
   "outputs": [],
   "source": [
    "for model, model_name in zip([model_ls, model_rf, model_gb], [\"Lasso\", \"Random forest\", \"Gradient boosting\"]):\n",
    "    print(model_name, \": \", -cross_val_score(model, X, y, scoring=\"neg_mean_absolute_error\").astype(int), sep=\"\")"
   ]
  },
  {
   "cell_type": "markdown",
   "metadata": {
    "id": "SFQu5tEUPDB0"
   },
   "source": [
    "Лучший результат дает в среднем ошибку в 1.5 миллиона."
   ]
  },
  {
   "cell_type": "code",
   "execution_count": null,
   "metadata": {
    "ExecuteTime": {
     "end_time": "2022-07-21T12:40:33.436855Z",
     "start_time": "2022-07-21T12:40:33.045502Z"
    },
    "colab": {
     "base_uri": "https://localhost:8080/"
    },
    "id": "rsGzJR4J0NKb",
    "outputId": "f5741415-1b31-4388-ed37-937aa50dd8be"
   },
   "outputs": [],
   "source": [
    "for model, importance_getter, model_name in zip(\n",
    "    [model_ls, model_rf], [\"named_steps.regressor.coef_\", \"auto\"], [\"lasso\", \"random forest\"]\n",
    "):\n",
    "    selector = SelectFromModel(model, importance_getter=importance_getter)\n",
    "    selector.fit(X, y)\n",
    "    print(model_name, \": \", X.columns[selector.get_support()].values, sep=\"\")"
   ]
  },
  {
   "cell_type": "markdown",
   "metadata": {
    "id": "bXGUk837JoYI"
   },
   "source": [
    "Неожиданно мы видим, что одним из важных признаков является столбец `city_centers_nearest`, а `living_area` нет - то, что по корреляции сказать было нельзя. Однако проблема с таким выводом в том, что из него остается непонятно, какие из столбцов важнее. Выдается просто, условно, топ-5 важных столбцов, без порядка важности. К сожалению, не все селекторы sklearn предоставляют api для этого, так что придется вручную."
   ]
  },
  {
   "cell_type": "code",
   "execution_count": null,
   "metadata": {
    "ExecuteTime": {
     "end_time": "2022-07-21T12:40:33.511392Z",
     "start_time": "2022-07-21T12:40:33.437755Z"
    },
    "colab": {
     "base_uri": "https://localhost:8080/",
     "height": 562
    },
    "id": "_oXVBF38M5cb",
    "outputId": "e9312132-274f-4a7b-8c88-0234f75c2ecf"
   },
   "outputs": [],
   "source": [
    "model_ls.fit(X, y)\n",
    "scores = abs(model_ls[\"regressor\"].coef_)\n",
    "selected_columns = X.columns[scores.argsort()[-6:]]\n",
    "px.bar(x=np.sort(scores)[-6:], y=selected_columns, title=\"Feature weights\")"
   ]
  },
  {
   "cell_type": "code",
   "execution_count": null,
   "metadata": {
    "ExecuteTime": {
     "end_time": "2022-07-21T12:40:33.901571Z",
     "start_time": "2022-07-21T12:40:33.512788Z"
    },
    "colab": {
     "base_uri": "https://localhost:8080/",
     "height": 562
    },
    "id": "VpnkkkK-JLMb",
    "outputId": "60be89db-7a04-4286-98cf-1f5c60be6216"
   },
   "outputs": [],
   "source": [
    "model_rf.fit(X, y)\n",
    "scores = model_rf.feature_importances_\n",
    "selected_columns = X.columns[scores.argsort()[-6:]]\n",
    "px.bar(x=np.sort(scores)[-6:], y=selected_columns, title=\"MDI\")"
   ]
  },
  {
   "cell_type": "markdown",
   "metadata": {
    "id": "dYSZ5kBeYY2l"
   },
   "source": [
    "Для обоих моделей двумя важными столбцами являются `total_area` и `city_centers_nearest`, хотя для ансамбля решающих деревьев `total_area` имеет больший вес, чем остальные столбцы. Так же для обоих моделей важны `kitchen_area` и `ceiling_height`."
   ]
  },
  {
   "cell_type": "code",
   "execution_count": null,
   "metadata": {
    "ExecuteTime": {
     "end_time": "2022-07-21T12:40:34.112958Z",
     "start_time": "2022-07-21T12:40:33.902536Z"
    },
    "colab": {
     "base_uri": "https://localhost:8080/",
     "height": 1000
    },
    "id": "FQtKGxIl5dp9",
    "outputId": "bcb2870e-d22f-4db3-a45f-365ab75aee98"
   },
   "outputs": [],
   "source": [
    "for metric, metric_name in zip([f_regression, mutual_info_regression], [\"F-test\", \"Mutual informaion\"]):\n",
    "    selector = SelectKBest(metric)\n",
    "    selector.fit(X, y)\n",
    "    selected_columns = X.columns.values[selector.scores_.argsort()[-6:]]\n",
    "    px.bar(x=np.sort(selector.scores_)[-6:], y=selected_columns, title=metric_name).show()"
   ]
  },
  {
   "cell_type": "markdown",
   "metadata": {
    "id": "6DIvE8F0V-vY"
   },
   "source": [
    "То, что мы видим, на самом деле неудивительный результат. Корреляция между `living_area` и `total_area` равна 0.92, то есть это взаимосвязанные столбцы и `living_area` на самом деле не вносит новой предсказательной силы в моделирование цены, поэтому для моделей этот столбец и не сильно важен. `SelectKBest()` в то же время проводит статистический тест, который проверяет столбцы независимо друг от друга, и тогда корреляция между `living_area` и `total_area` не учитывается. Так же видим, что взаимная информация выявила бОльшую зависимость между ценой и высотой потолков."
   ]
  },
  {
   "cell_type": "code",
   "execution_count": null,
   "metadata": {
    "ExecuteTime": {
     "end_time": "2022-07-21T12:40:34.116469Z",
     "start_time": "2022-07-21T12:40:34.113977Z"
    },
    "id": "BsBUF-x29sgd"
   },
   "outputs": [],
   "source": [
    "X_train, X_test, y_train, y_test = train_test_split(X, y)"
   ]
  },
  {
   "cell_type": "code",
   "execution_count": null,
   "metadata": {
    "ExecuteTime": {
     "end_time": "2022-07-21T12:40:45.759831Z",
     "start_time": "2022-07-21T12:40:34.117398Z"
    },
    "id": "Cz-I0dy3Axe3"
   },
   "outputs": [],
   "source": [
    "for model in [model_ls, model_rf, model_gb]:\n",
    "    model.fit(X_train, y_train)"
   ]
  },
  {
   "cell_type": "code",
   "execution_count": null,
   "metadata": {
    "ExecuteTime": {
     "end_time": "2022-07-21T12:40:51.957213Z",
     "start_time": "2022-07-21T12:40:45.762294Z"
    },
    "id": "B8pMJD1_-KkP"
   },
   "outputs": [],
   "source": [
    "result_ls = permutation_importance(model_ls, X_test, y_test, n_repeats=10, n_jobs=-1)\n",
    "result_rf = permutation_importance(model_rf, X_test, y_test, n_repeats=10, n_jobs=-1)\n",
    "result_gb = permutation_importance(model_gb, X_test, y_test, n_repeats=10, n_jobs=-1)"
   ]
  },
  {
   "cell_type": "code",
   "execution_count": null,
   "metadata": {
    "ExecuteTime": {
     "end_time": "2022-07-21T12:40:52.029756Z",
     "start_time": "2022-07-21T12:40:51.959111Z"
    },
    "colab": {
     "base_uri": "https://localhost:8080/",
     "height": 1000
    },
    "id": "VmZTHhA862XK",
    "outputId": "b652facd-c82d-4c26-8204-a7ec204c2c67"
   },
   "outputs": [],
   "source": [
    "for result, model_name in zip([result_ls, result_rf, result_gb], [\"Lasso\", \"Random forest\", \"Gradient boosting\"]):\n",
    "    scores = result[\"importances\"]\n",
    "    selected_idxs = result[\"importances_mean\"].argsort()[-5:]\n",
    "    result_table = pd.DataFrame(scores[selected_idxs].T, columns=X.columns[selected_idxs])\n",
    "    px.box(result_table, x=result_table.columns, title=model_name, labels={\"variable\": \"column\", \"value\": \"r2\"}).show()"
   ]
  },
  {
   "cell_type": "markdown",
   "metadata": {
    "id": "nPRfSZOk9bzg"
   },
   "source": [
    "Вопреки ожиданиям, мы видим, что столбец `total_area` сильно влияет на результаты деревьев. Вопреки ожиданиям потому что, если мы считаем, что столбцы `total_area`, `living_area`, `kitchen_area`, `rooms` сильно коррелируют друг с другом, то перемешивание одного столбца не должно сильно повлиять на результат, так как модель сможет восстановить информацию из оставшихся столбцов. Однако этого не происходит. Вероятно, это связано с устройством модели дерева. Так как есть и другие важные столбцы, то они находятся выше в дереве, чем `living_area`, `kitchen_area` и `rooms` и, следовательно, последние меньше влияют на результат. "
   ]
  },
  {
   "cell_type": "code",
   "execution_count": null,
   "metadata": {
    "ExecuteTime": {
     "end_time": "2022-07-21T12:40:52.032433Z",
     "start_time": "2022-07-21T12:40:52.030750Z"
    },
    "id": "ZFNkJ8n5-50V"
   },
   "outputs": [],
   "source": [
    "# for model, model_name in tqdm(list(zip([model_ls, model_rf, model_gb], ['Lasso', 'Random Forest', 'Gradient boosting'])), desc='Model'):\n",
    "#   selector = SequentialFeatureSelector(model, n_features_to_select=7, cv=10, n_jobs=-1)\n",
    "#   selector.fit(X, y)\n",
    "#   print(model_name, ': ', X.columns[selector.get_support()].values, sep='')"
   ]
  },
  {
   "cell_type": "markdown",
   "metadata": {
    "id": "REKuhMnXP_bs"
   },
   "source": [
    "Код выше выполнялся час, так что я сохранил его вывод."
   ]
  },
  {
   "cell_type": "markdown",
   "metadata": {
    "id": "JRjEW8NlYYk7"
   },
   "source": [
    "```\n",
    "Lasso: ['total_area' 'rooms' 'ceiling_height' 'floor' 'kitchen_area'\n",
    " 'city_centers_nearest' 'ponds_around_3000']\n",
    "Random Forest: ['total_area' 'rooms' 'floors_total' 'kitchen_area' 'balcony'\n",
    " 'airports_nearest' 'city_centers_nearest']\n",
    "Gradient boosting: ['total_images' 'total_area' 'floors_total' 'airports_nearest'\n",
    " 'city_centers_nearest' 'parks_nearest' 'ponds_around_3000']\n",
    "```"
   ]
  },
  {
   "cell_type": "markdown",
   "metadata": {
    "id": "qKwVlxrRZHDs"
   },
   "source": [
    "Удивительные результаты дает `SequentialFeatureSelector()`. В список важных столбцов вошли количество прудов в радиусе 3 км, количество изображений и количество этажей. Градиентный бустинг вообще выбрал очень странную комбинацию признаков. Посмотрим, как количество прудов в радусе 3 км влияет на цены квартир."
   ]
  },
  {
   "cell_type": "code",
   "execution_count": null,
   "metadata": {
    "ExecuteTime": {
     "end_time": "2022-07-21T12:40:52.078824Z",
     "start_time": "2022-07-21T12:40:52.033971Z"
    },
    "colab": {
     "base_uri": "https://localhost:8080/",
     "height": 562
    },
    "id": "8OuNDlFYbxQ5",
    "outputId": "60f4f767-eb9f-4fa8-bec7-f736b7d02067"
   },
   "outputs": [],
   "source": [
    "px.box(data.dropna(subset=[\"ponds_around_3000\"]), y=\"last_price\", color=\"ponds_around_3000\")"
   ]
  },
  {
   "cell_type": "markdown",
   "metadata": {
    "id": "8_HTVvTieFMl"
   },
   "source": [
    "Странно, но добавление 1 пруда с 0 до 1 или с 1 до 2 не особо поднимает цену. Распределение цен значительно выше при 3 прудах, однако таких объявлений всего 1267, а для других объявлений, с количеством прудов меньше 3, особой разницы нет."
   ]
  },
  {
   "cell_type": "code",
   "execution_count": null,
   "metadata": {
    "ExecuteTime": {
     "end_time": "2022-07-21T12:40:52.085656Z",
     "start_time": "2022-07-21T12:40:52.079998Z"
    },
    "colab": {
     "base_uri": "https://localhost:8080/"
    },
    "id": "HqmcycjZbVkP",
    "outputId": "61a3f0a9-0045-404a-ad0a-ec93ea0e5020"
   },
   "outputs": [],
   "source": [
    "len(data.query(\"ponds_around_3000 == 3\"))"
   ]
  },
  {
   "cell_type": "code",
   "execution_count": null,
   "metadata": {
    "ExecuteTime": {
     "end_time": "2022-07-21T12:40:54.211143Z",
     "start_time": "2022-07-21T12:40:52.086649Z"
    },
    "colab": {
     "base_uri": "https://localhost:8080/",
     "height": 562
    },
    "id": "p8kTwR7HcN_G",
    "outputId": "3fb3172e-ca32-4905-cd87-b00eec6e05ff"
   },
   "outputs": [],
   "source": [
    "px.box(data, y=\"last_price\", color=\"balcony\")"
   ]
  },
  {
   "cell_type": "markdown",
   "metadata": {
    "id": "g_LqqXPudRZq"
   },
   "source": [
    "Ценя меняется значительно если количество балконов больше 2. Но их всего 527."
   ]
  },
  {
   "cell_type": "code",
   "execution_count": null,
   "metadata": {
    "ExecuteTime": {
     "end_time": "2022-07-21T12:40:54.212526Z",
     "start_time": "2022-07-21T12:40:54.212519Z"
    },
    "colab": {
     "base_uri": "https://localhost:8080/"
    },
    "id": "2U_CuiSNdkKs",
    "outputId": "2c6e0204-bba0-4584-fd9d-096df8acaca4"
   },
   "outputs": [],
   "source": [
    "len(data.query(\"balcony > 2\"))"
   ]
  },
  {
   "cell_type": "code",
   "execution_count": null,
   "metadata": {
    "ExecuteTime": {
     "end_time": "2022-07-21T12:40:54.213478Z",
     "start_time": "2022-07-21T12:40:54.213472Z"
    },
    "colab": {
     "base_uri": "https://localhost:8080/",
     "height": 562
    },
    "id": "3upfMFsFcbo9",
    "outputId": "313ae677-9a5a-42bc-cb7e-6e080050ba83"
   },
   "outputs": [],
   "source": [
    "px.box(data, y=\"last_price\", color=\"total_images\")"
   ]
  },
  {
   "cell_type": "markdown",
   "metadata": {
    "id": "iQr_Uflvd8hl"
   },
   "source": [
    "Количество изображений тоже сомнительный признак, распределение меняется только при количестве изображений больше ~30, но таких предложений крайне мало. Я бы не стал доверять градиентному бустингу, тем более он плохо интерпретируется. Наконец, попробуем построить дендрограмму признаков."
   ]
  },
  {
   "cell_type": "code",
   "execution_count": null,
   "metadata": {
    "ExecuteTime": {
     "end_time": "2022-07-21T12:40:54.213995Z",
     "start_time": "2022-07-21T12:40:54.213989Z"
    },
    "id": "cvHTLgpRFLYb"
   },
   "outputs": [],
   "source": [
    "corr = spearmanr(X).correlation\n",
    "corr = (corr + corr.T) / 2\n",
    "np.fill_diagonal(corr, 1)"
   ]
  },
  {
   "cell_type": "code",
   "execution_count": null,
   "metadata": {
    "ExecuteTime": {
     "end_time": "2022-07-21T12:40:54.215182Z",
     "start_time": "2022-07-21T12:40:54.215175Z"
    },
    "colab": {
     "base_uri": "https://localhost:8080/",
     "height": 54
    },
    "id": "bu0CMow3FT2V",
    "outputId": "7b7fde95-37bb-4cff-de2f-ef753cb2c7d7"
   },
   "outputs": [],
   "source": [
    "distance_matrix = 1 - np.abs(corr)\n",
    "distance_linkage = hierarchy.ward(squareform(distance_matrix))\n",
    "dendrogram = hierarchy.dendrogram(distance_linkage, labels=X.columns, leaf_rotation=90)\n",
    "plt.tight_layout()\n",
    "plt.show()"
   ]
  },
  {
   "cell_type": "markdown",
   "metadata": {
    "id": "qVqHUVVTIi1a"
   },
   "source": [
    "Удивительным образом `kitchen_area` и `ceiling_height` оказались соседями. А все остальное как ожидалось."
   ]
  },
  {
   "cell_type": "markdown",
   "metadata": {
    "id": "_lQhOtLVeZmG"
   },
   "source": [
    "## Выводы"
   ]
  },
  {
   "cell_type": "markdown",
   "metadata": {
    "id": "d_-Id0pPZXUe"
   },
   "source": [
    "На удивление, отбор признаков с помощью различных моделей показал, что существенный вес несут не те признаки, которые можно было бы ожидать исходя из диаграмм рассеяния и корреляции. Несмотря на высокую корреляцию с ценой, ни одна модель не посчитала столбец `living_area` весомым. Зато значимым стал столбец `ponds_around_3000`. На самом деле, это неудивительно, потому что большинство признаков несут одну и ту же информацию. Например, столбцы `total_area`, `living_area`, `kitchen_area` и `rooms` взаимосвязаны и несут похожую информацию. А вот столбец `city_centers_nearest` уникален.\n",
    "\n",
    "В целом, главными признаками можно выделить `total_area`, `city_centers_nearest`, `airports_nearest`, `ceiling_height`, `kitchen_area` и `rooms`. Столбец `floors_total` несильно помогает улучшить оценку, а `rooms` лишь немного улучшает результат столбцов `total_area` и `kitchen_area`. Столбец `living_area` практически не вносит ни какой новый вклад.\n",
    "\n",
    "Остальные признаки, такие как `floor`, `balcony` и `ponds_around_3000` влияют лишь на очень малое количество квартир - меньше 5%. Параметр `in_city` скорее всего просто дублирует `city_centers_nearest`, его выбрала только линейная регрессия, вероятно, потому что она не может сравнить `city_centers_nearest > 20000`, а так как деревья могут выявлять нелинейности, то этот параметр для них был неважен. "
   ]
  },
  {
   "cell_type": "markdown",
   "metadata": {
    "id": "0Zj0foP8ijL1"
   },
   "source": [
    "## Отбор признаков в центральной части Санкт-Петербурга"
   ]
  },
  {
   "cell_type": "markdown",
   "metadata": {
    "id": "hxNvNPe4kFM4"
   },
   "source": [
    "Посмотрим, отличается ли ценообразование в Питере от общего ценообразования. У меня гипотеза, что нет, так как Санкт-Петербург занимает большую часть всех объявлений, изменится разве что связь с расстоянием от центра - как мы видели, после 10 км наклон линейной зависимости меняется. Сейчас проверим."
   ]
  },
  {
   "cell_type": "code",
   "execution_count": null,
   "metadata": {
    "ExecuteTime": {
     "end_time": "2022-07-21T12:40:54.216050Z",
     "start_time": "2022-07-21T12:40:54.216042Z"
    },
    "colab": {
     "base_uri": "https://localhost:8080/"
    },
    "id": "9kcynVm3kTB3",
    "outputId": "9b8a8df5-ad4c-4b3a-cff3-e0485eefae2e"
   },
   "outputs": [],
   "source": [
    "columns_to_drop = [\n",
    "    \"in_city\",\n",
    "    \"in_center\",\n",
    "    \"weekday_exposition\",\n",
    "    \"days_exposition\",\n",
    "    \"year_exposition\",\n",
    "    \"month_exposition\",\n",
    "    \"first_day_exposition\",\n",
    "]\n",
    "data[\"in_center\"] = data[\"city_centers_nearest\"] < 10000\n",
    "data_spb_center = data[data[\"in_center\"] == True].drop(columns_to_drop, axis=1)\n",
    "len(data_spb_center) / len(data)"
   ]
  },
  {
   "cell_type": "code",
   "execution_count": null,
   "metadata": {
    "ExecuteTime": {
     "end_time": "2022-07-21T12:40:54.216601Z",
     "start_time": "2022-07-21T12:40:54.216595Z"
    },
    "colab": {
     "base_uri": "https://localhost:8080/",
     "height": 1000
    },
    "id": "LO3wgdO3x1XO",
    "outputId": "7d265ece-9b31-4230-a94b-b25195d0f601"
   },
   "outputs": [],
   "source": [
    "for column in [\"last_price\", \"total_area\", \"kitchen_area\", \"ceiling_height\", \"rooms\", \"airports_nearest\"]:\n",
    "    histogram_by(data, x=column, color=\"in_center\").show()"
   ]
  },
  {
   "cell_type": "markdown",
   "metadata": {
    "id": "8xBiupautpNX"
   },
   "source": [
    "Распределение цен здесь отличается, большинство квартир стоят в диапазоне от 5.6М до 11.8М, то есть примерно в 2 раза дороже. Остальные распределения - площадей, количества комнат, высоты потолков отличаются несильно. Значительно отличаются распределения расстояния до аэропорта."
   ]
  },
  {
   "cell_type": "code",
   "execution_count": null,
   "metadata": {
    "ExecuteTime": {
     "end_time": "2022-07-21T12:40:54.217275Z",
     "start_time": "2022-07-21T12:40:54.217268Z"
    },
    "colab": {
     "base_uri": "https://localhost:8080/",
     "height": 142
    },
    "id": "dEriYgB520DI",
    "outputId": "64fab097-626f-4b8c-e3f0-06c3845ffc2f"
   },
   "outputs": [],
   "source": [
    "data.groupby(\"in_center\")[\"airports_nearest\"].agg([\"mean\", \"median\"])"
   ]
  },
  {
   "cell_type": "markdown",
   "metadata": {
    "id": "YxyizPo1-yy8"
   },
   "source": [
    "Расстояние до аэропорта в среднем на 5 км ближе."
   ]
  },
  {
   "cell_type": "code",
   "execution_count": null,
   "metadata": {
    "ExecuteTime": {
     "end_time": "2022-07-21T12:40:54.217995Z",
     "start_time": "2022-07-21T12:40:54.217990Z"
    },
    "colab": {
     "base_uri": "https://localhost:8080/",
     "height": 617
    },
    "id": "ANLbZirKmx2Z",
    "outputId": "428e4bd0-b5e0-4087-8839-3217ef13c50d"
   },
   "outputs": [],
   "source": [
    "px.imshow(data_spb_center.corr(), height=600)"
   ]
  },
  {
   "cell_type": "code",
   "execution_count": null,
   "metadata": {
    "ExecuteTime": {
     "end_time": "2022-07-21T12:40:54.218809Z",
     "start_time": "2022-07-21T12:40:54.218802Z"
    },
    "colab": {
     "base_uri": "https://localhost:8080/",
     "height": 542
    },
    "id": "sCkk5kJglA57",
    "outputId": "e7db73d5-49ae-4624-dc4c-a13c6b296bce"
   },
   "outputs": [],
   "source": [
    "feature_scatterplot(data_spb_center)"
   ]
  },
  {
   "cell_type": "code",
   "execution_count": null,
   "metadata": {
    "ExecuteTime": {
     "end_time": "2022-07-21T12:40:54.219484Z",
     "start_time": "2022-07-21T12:40:54.219476Z"
    },
    "id": "91QcWZ_v_bLY"
   },
   "outputs": [],
   "source": [
    "X = data_spb_center.drop(columns=[\"locality_name\", \"last_price\", \"floor_category\", \"price_per_meter\"]).dropna()\n",
    "y = data_spb_center.loc[X.index, \"last_price\"]"
   ]
  },
  {
   "cell_type": "code",
   "execution_count": null,
   "metadata": {
    "ExecuteTime": {
     "end_time": "2022-07-21T12:40:54.219990Z",
     "start_time": "2022-07-21T12:40:54.219984Z"
    },
    "colab": {
     "base_uri": "https://localhost:8080/"
    },
    "id": "lV8pDdxS_yTL",
    "outputId": "d6e123a1-368c-4794-e56f-b8764c985ec0"
   },
   "outputs": [],
   "source": [
    "for model, model_name in zip([model_ls, model_rf, model_gb], [\"Lasso\", \"Random forest\", \"Gradient boosting\"]):\n",
    "    print(model_name, \": \", cross_val_score(model, X, y), sep=\"\")"
   ]
  },
  {
   "cell_type": "code",
   "execution_count": null,
   "metadata": {
    "ExecuteTime": {
     "end_time": "2022-07-21T12:40:54.220541Z",
     "start_time": "2022-07-21T12:40:54.220534Z"
    },
    "colab": {
     "base_uri": "https://localhost:8080/"
    },
    "id": "3ScyjElK_ypA",
    "outputId": "7061c42f-d973-4ada-98fa-995bda83eaa0"
   },
   "outputs": [],
   "source": [
    "for model, model_name in zip([model_ls, model_rf, model_gb], [\"Lasso\", \"Random forest\", \"Gradient boosting\"]):\n",
    "    print(model_name, \": \", -cross_val_score(model, X, y, scoring=\"neg_mean_absolute_error\").astype(int), sep=\"\")"
   ]
  },
  {
   "cell_type": "markdown",
   "metadata": {
    "id": "l7_lHjXSAPMC"
   },
   "source": [
    "Результаты хуже, чем для всей выборки."
   ]
  },
  {
   "cell_type": "code",
   "execution_count": null,
   "metadata": {
    "ExecuteTime": {
     "end_time": "2022-07-21T12:40:54.221124Z",
     "start_time": "2022-07-21T12:40:54.221118Z"
    },
    "colab": {
     "base_uri": "https://localhost:8080/"
    },
    "id": "ZnCeG2B9_6m6",
    "outputId": "52dfa343-c85d-42e0-83b0-005cab6b640c"
   },
   "outputs": [],
   "source": [
    "model_ls.fit(X, y)\n",
    "print(X.columns.values[abs(model_ls[\"regressor\"].coef_).argsort()[:11:-1]])"
   ]
  },
  {
   "cell_type": "code",
   "execution_count": null,
   "metadata": {
    "ExecuteTime": {
     "end_time": "2022-07-21T12:40:54.221840Z",
     "start_time": "2022-07-21T12:40:54.221834Z"
    },
    "colab": {
     "base_uri": "https://localhost:8080/",
     "height": 542
    },
    "id": "QfJ8CXTj_937",
    "outputId": "6509ffad-79ff-4ba7-bd0e-cd49ff40abae"
   },
   "outputs": [],
   "source": [
    "model_ls.fit(X, y)\n",
    "scores = abs(model_ls[\"regressor\"].coef_)\n",
    "selected_columns = X.columns[scores.argsort()[-6:]]\n",
    "px.bar(x=np.sort(scores)[-6:], y=selected_columns, title=\"Feature weights\")"
   ]
  },
  {
   "cell_type": "code",
   "execution_count": null,
   "metadata": {
    "ExecuteTime": {
     "end_time": "2022-07-21T12:40:54.222423Z",
     "start_time": "2022-07-21T12:40:54.222417Z"
    },
    "colab": {
     "base_uri": "https://localhost:8080/",
     "height": 542
    },
    "id": "tcvcHis_2UqV",
    "outputId": "8268ad6f-5704-4e56-f9b5-ab9daa420876"
   },
   "outputs": [],
   "source": [
    "model_rf.fit(X, y)\n",
    "scores = model_rf.feature_importances_\n",
    "selected_columns = X.columns[scores.argsort()[-6:]]\n",
    "px.bar(x=np.sort(scores)[-6:], y=selected_columns, title=\"MDI\")"
   ]
  },
  {
   "cell_type": "markdown",
   "metadata": {
    "id": "IMUwkgYVBtkK"
   },
   "source": [
    "Видим, что для центра Питера все так же важны общая площадь квартиры, расстояние до аэропорта, до центра, высота потолков. БОльшую роль теперь играет, сколько этажей в доме, но в целом сильных различий в ценообразовании в Питере и в окрестности Питера нет."
   ]
  }
 ],
 "metadata": {
  "colab": {
   "collapsed_sections": [
    "WhVJALCdfDqf",
    "g8anH_Be2MfE",
    "SqPI9oju7sEE",
    "KBvNgyFPbECq",
    "S4BUW2mTeKM2",
    "P768c_BKe33x",
    "Gg1ubEs5fh4B",
    "5Bg2mUJjfvzJ",
    "mMXghH4qgh5D",
    "P-HA37AMgzIk",
    "fOXl3FToiP3R",
    "2b9yNxFcjxt6",
    "-yisKDVlmDQa",
    "fb6fVhhAmZlD",
    "GeslHYjlm3mW",
    "QQ9N12RKWDbz",
    "qPTx-seEXal9",
    "nf0aVISdd7ZO",
    "DSYO6IiG0VAt",
    "JGD7AnFB8k0d",
    "yYWes5fmuycC",
    "gdJRn9wdSGlJ",
    "PQqGa7K9SO5_"
   ],
   "name": "Yandex Real Estate.ipynb",
   "provenance": []
  },
  "hide_input": false,
  "kernelspec": {
   "display_name": "Python 3 (ipykernel)",
   "language": "python",
   "name": "python3"
  },
  "language_info": {
   "codemirror_mode": {
    "name": "ipython",
    "version": 3
   },
   "file_extension": ".py",
   "mimetype": "text/x-python",
   "name": "python",
   "nbconvert_exporter": "python",
   "pygments_lexer": "ipython3",
   "version": "3.10.5"
  },
  "toc": {
   "base_numbering": 1,
   "nav_menu": {},
   "number_sections": false,
   "sideBar": true,
   "skip_h1_title": false,
   "title_cell": "Table of Contents",
   "title_sidebar": "Contents",
   "toc_cell": false,
   "toc_position": {
    "height": "calc(100% - 180px)",
    "left": "10px",
    "top": "150px",
    "width": "288px"
   },
   "toc_section_display": true,
   "toc_window_display": true
  }
 },
 "nbformat": 4,
 "nbformat_minor": 1
}
