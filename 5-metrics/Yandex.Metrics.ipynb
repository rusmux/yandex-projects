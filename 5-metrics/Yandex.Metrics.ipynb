{
 "cells": [
  {
   "cell_type": "markdown",
   "id": "dffd605c",
   "metadata": {},
   "source": [
    "# Исследование убыточности компании Procrastinate Pro+\n",
    "\n",
    "Целью данного исследования является определить причины, по которым развлекательное приложение Procrastinate Pro+ терпит убытки последние месяцы.\n",
    "\n",
    "Для этого есть информация о пользователях, привлеченных с 1 мая по 27 октября 2019 года:\n",
    "\n",
    "* логи их посещений\n",
    "\n",
    "* выгрузка заказов \n",
    "\n",
    "* расходы на рекламу\n",
    "\n",
    "\n",
    "**Структура данных:**\n",
    "\n",
    "\n",
    "Данные о сессиях пользователей хранит файл `visits_data.csv`:\n",
    "\n",
    "\n",
    "* `User Id` - уникальный идентифекатор пользователя\n",
    "\n",
    "\n",
    "* `Region` - регион, из которого произведена сессия\n",
    "\n",
    "\n",
    "* `Device` - устройство, с которого произведена сессия\n",
    "\n",
    "\n",
    "* `Channel` - канал, с которого пришел пользователь \n",
    "\n",
    "\n",
    "* `Session Start` - дата и время начала сессии\n",
    "\n",
    "\n",
    "* `Session End` - дата и время окончания сессии\n",
    "\n",
    "Информацию о заказах содержит файл `orders_data.csv`:\n",
    "\n",
    "\n",
    "* `User Id` - уникальный идентифекатор пользователя\n",
    "\n",
    "\n",
    "* `Event Dt` - дата и время заказа\n",
    "\n",
    "\n",
    "* `Revenue` - стоимость покупки\n",
    "\n",
    "\n",
    "Расходы на рекламу записаны в файле `costs_data.csv`:\n",
    "\n",
    "\n",
    "* `dt` - дата проведения рекламной компании\n",
    "\n",
    "\n",
    "* `Channel` - рекламный канал\n",
    "\n",
    "\n",
    "* `costs` - расходы на эту рекламу\n",
    "\n",
    "\n",
    "**План:**\n",
    "\n",
    "<div class=\"toc\">\n",
    "   <ul class=\"toc-item\">\n",
    "      <li><span><a href=\"#Setup\" data-toc-modified-id=\"Setup-2\">Setup</a></span></li>\n",
    "      <li><span><a href=\"#Предобработка-данных\" data-toc-modified-id=\"Предобработка-данных-3\">Предобработка данных</a></span></li>\n",
    "      <li><span><a href=\"#Исследовательский-анализ-данных\" data-toc-modified-id=\"Исследовательский-анализ-данных-4\">Исследовательский анализ данных</a></span></li>\n",
    "      <li>\n",
    "         <span><a href=\"#Получение-профилей-пользователей\" data-toc-modified-id=\"Получение-профилей-пользователей-5\">Получение профилей пользователей</a></span>\n",
    "         <ul class=\"toc-item\">\n",
    "            <li><span><a href=\"#CAC\" data-toc-modified-id=\"CAC-5.1\">CAC</a></span></li>\n",
    "            <li><span><a href=\"#Устройства-по-регионам\" data-toc-modified-id=\"Устройства-по-регионам-5.2\">Устройства по регионам</a></span></li>\n",
    "            <li><span><a href=\"#Каналы-по-регионам\" data-toc-modified-id=\"Каналы-по-регионам-5.3\">Каналы по регионам</a></span></li>\n",
    "            <li><span><a href=\"#Покупатели-по-регионам\" data-toc-modified-id=\"Покупатели-по-регионам-5.4\">Покупатели по регионам</a></span></li>\n",
    "            <li><span><a href=\"#Покупатели-по-устройству\" data-toc-modified-id=\"Покупатели-по-устройству-5.5\">Покупатели по устройству</a></span></li>\n",
    "            <li><span><a href=\"#Покупатели-по-каналам\" data-toc-modified-id=\"Покупатели-по-каналам-5.6\">Покупатели по каналам</a></span></li>\n",
    "         </ul>\n",
    "      </li>\n",
    "      <li>\n",
    "         <span><a href=\"#Удержание-пользователей\" data-toc-modified-id=\"Удержание-пользователей-6\">Удержание пользователей</a></span>\n",
    "         <ul class=\"toc-item\">\n",
    "            <li><span><a href=\"#Общее-удержание\" data-toc-modified-id=\"Общее-удержание-6.1\">Общее удержание</a></span></li>\n",
    "            <li><span><a href=\"#Динамика-удержания\" data-toc-modified-id=\"Динамика-удержания-6.2\">Динамика удержания</a></span></li>\n",
    "            <li><span><a href=\"#Удержание-по-региону\" data-toc-modified-id=\"Удержание-по-региону-6.3\">Удержание по региону</a></span></li>\n",
    "            <li><span><a href=\"#Удержание-по-устройству\" data-toc-modified-id=\"Удержание-по-устройству-6.4\">Удержание по устройству</a></span></li>\n",
    "            <li><span><a href=\"#Удержание-по-каналу-привлечения\" data-toc-modified-id=\"Удержание-по-каналу-привлечения-6.5\">Удержание по каналу привлечения</a></span></li>\n",
    "            <li><span><a href=\"#Удержание-платящих-и-неплатящих-пользователей\" data-toc-modified-id=\"Удержание-платящих-и-неплатящих-пользователей-6.6\">Удержание платящих и неплатящих пользователей</a></span></li>\n",
    "            <li><span><a href=\"#Выводы-по-удержанию\" data-toc-modified-id=\"Выводы-по-удержанию-6.7\">Выводы по удержанию</a></span></li>\n",
    "         </ul>\n",
    "      </li>\n",
    "      <li><span><a href=\"#DAU,-WAU,-MAU\" data-toc-modified-id=\"DAU,-WAU,-MAU-7\">DAU, WAU, MAU</a></span></li>\n",
    "      <li>\n",
    "         <span><a href=\"#Конверсия\" data-toc-modified-id=\"Конверсия-8\">Конверсия</a></span>\n",
    "         <ul class=\"toc-item\">\n",
    "            <li><span><a href=\"#Общая-конверсия\" data-toc-modified-id=\"Общая-конверсия-8.1\">Общая конверсия</a></span></li>\n",
    "            <li><span><a href=\"#Динамика-конверсии\" data-toc-modified-id=\"Динамика-конверсии-8.2\">Динамика конверсии</a></span></li>\n",
    "            <li><span><a href=\"#Конверсия-по-региону\" data-toc-modified-id=\"Конверсия-по-региону-8.3\">Конверсия по региону</a></span></li>\n",
    "            <li><span><a href=\"#Конверсия-по-устройству\" data-toc-modified-id=\"Конверсия-по-устройству-8.4\">Конверсия по устройству</a></span></li>\n",
    "            <li><span><a href=\"#Конверсия-по-каналу-привлечения\" data-toc-modified-id=\"Конверсия-по-каналу-привлечения-8.5\">Конверсия по каналу привлечения</a></span></li>\n",
    "            <li><span><a href=\"#Выводы-по-конверсии\" data-toc-modified-id=\"Выводы-по-конверсии-8.6\">Выводы по конверсии</a></span></li>\n",
    "         </ul>\n",
    "      </li>\n",
    "      <li>\n",
    "         <span><a href=\"#ARPU\" data-toc-modified-id=\"ARPU-9\">ARPU</a></span>\n",
    "         <ul class=\"toc-item\">\n",
    "            <li><span><a href=\"#Общий-ARPU\" data-toc-modified-id=\"Общий-ARPU-9.1\">Общий ARPU</a></span></li>\n",
    "            <li><span><a href=\"#Динамика-ARPU\" data-toc-modified-id=\"Динамика-ARPU-9.2\">Динамика ARPU</a></span></li>\n",
    "            <li><span><a href=\"#ARPU-по-региону\" data-toc-modified-id=\"ARPU-по-региону-9.3\">ARPU по региону</a></span></li>\n",
    "            <li><span><a href=\"#ARPU-по-устройству\" data-toc-modified-id=\"ARPU-по-устройству-9.4\">ARPU по устройству</a></span></li>\n",
    "            <li><span><a href=\"#ARPU-по-каналу-привлечения\" data-toc-modified-id=\"ARPU-по-каналу-привлечения-9.5\">ARPU по каналу привлечения</a></span></li>\n",
    "            <li><span><a href=\"#Выводы-по-ARPU\" data-toc-modified-id=\"Выводы-по-ARPU-9.6\">Выводы по ARPU</a></span></li>\n",
    "         </ul>\n",
    "      </li>\n",
    "      <li>\n",
    "         <span><a href=\"#ROI\" data-toc-modified-id=\"ROI-10\">ROI</a></span>\n",
    "         <ul class=\"toc-item\">\n",
    "            <li><span><a href=\"#Общий-ROI\" data-toc-modified-id=\"Общий-ROI-10.1\">Общий ROI</a></span></li>\n",
    "            <li><span><a href=\"#Динамика-ROI\" data-toc-modified-id=\"Динамика-ROI-10.2\">Динамика ROI</a></span></li>\n",
    "            <li><span><a href=\"#ROI-по-региону\" data-toc-modified-id=\"ROI-по-региону-10.3\">ROI по региону</a></span></li>\n",
    "            <li><span><a href=\"#ROI-по-устройству\" data-toc-modified-id=\"ROI-по-устройству-10.4\">ROI по устройству</a></span></li>\n",
    "            <li><span><a href=\"#ROI-по-каналу-привлечения\" data-toc-modified-id=\"ROI-по-каналу-привлечения-10.5\">ROI по каналу привлечения</a></span></li>\n",
    "            <li><span><a href=\"#Выводы-по-ROI\" data-toc-modified-id=\"Выводы-по-ROI-10.6\">Выводы по ROI</a></span></li>\n",
    "         </ul>\n",
    "      </li>\n",
    "      <li><span><a href=\"#Итог\" data-toc-modified-id=\"Итог-11\">Итог</a></span></li>\n",
    "   </ul>\n",
    "</div>"
   ]
  },
  {
   "cell_type": "markdown",
   "id": "668068f3",
   "metadata": {
    "id": "668068f3"
   },
   "source": [
    "# Setup"
   ]
  },
  {
   "cell_type": "code",
   "execution_count": null,
   "id": "c0101e3b",
   "metadata": {},
   "outputs": [],
   "source": [
    "# для запуска в colab\n",
    "# !pip install -q -r https://github.com/rusmux/yandex-metrics/blob/main/requirements.txt?raw=True"
   ]
  },
  {
   "cell_type": "code",
   "execution_count": null,
   "id": "67be9e06",
   "metadata": {
    "ExecuteTime": {
     "end_time": "2022-07-27T21:15:08.498255Z",
     "start_time": "2022-07-27T21:15:07.674193Z"
    },
    "id": "67be9e06"
   },
   "outputs": [],
   "source": [
    "from datetime import timedelta\n",
    "\n",
    "import ipywidgets as widgets\n",
    "import matplotlib.pyplot as plt\n",
    "import numpy as np\n",
    "import pandas as pd\n",
    "import plotly.express as px\n",
    "import plotly.io as pio\n",
    "from ipywidgets import fixed, interact\n",
    "from matplotlib_inline.backend_inline import set_matplotlib_formats\n",
    "from plotly.subplots import make_subplots\n",
    "from scipy.cluster import hierarchy"
   ]
  },
  {
   "cell_type": "code",
   "execution_count": null,
   "id": "acfa24bd",
   "metadata": {
    "ExecuteTime": {
     "end_time": "2022-07-27T21:15:08.701156Z",
     "start_time": "2022-07-27T21:15:08.499961Z"
    },
    "id": "acfa24bd"
   },
   "outputs": [],
   "source": [
    "set_matplotlib_formats(\"svg\")\n",
    "pio.templates.default = \"plotly_white\"\n",
    "pio.templates[\"plotly_white\"][\"layout\"][\"font\"] = {\"color\": \"black\", \"size\": 14}\n",
    "widget_style = {\"description_width\": \"initial\"}"
   ]
  },
  {
   "cell_type": "code",
   "execution_count": null,
   "id": "ccfa4fd6",
   "metadata": {
    "ExecuteTime": {
     "end_time": "2022-07-27T21:15:08.703876Z",
     "start_time": "2022-07-27T21:15:08.702190Z"
    }
   },
   "outputs": [],
   "source": [
    "DATA_PATH = \"https://github.com/rusmux/yandex-metrics/blob/main/data\""
   ]
  },
  {
   "cell_type": "code",
   "execution_count": null,
   "id": "3f0a1c87",
   "metadata": {
    "ExecuteTime": {
     "end_time": "2022-07-27T21:15:08.706795Z",
     "start_time": "2022-07-27T21:15:08.705268Z"
    }
   },
   "outputs": [],
   "source": [
    "read_data = lambda filename, **kwargs: pd.read_csv(DATA_PATH + \"/\" + filename + \"?raw=True\", **kwargs)"
   ]
  },
  {
   "cell_type": "markdown",
   "id": "61e1ecf0",
   "metadata": {
    "id": "61e1ecf0"
   },
   "source": [
    "# Предобработка данных"
   ]
  },
  {
   "cell_type": "code",
   "execution_count": null,
   "id": "d386ff2b",
   "metadata": {
    "ExecuteTime": {
     "end_time": "2022-07-27T21:15:16.804579Z",
     "start_time": "2022-07-27T21:15:08.707718Z"
    },
    "id": "d386ff2b"
   },
   "outputs": [],
   "source": [
    "sessions = read_data(\"visits_data.csv\", parse_dates=[\"Session Start\", \"Session End\"], infer_datetime_format=True)\n",
    "orders = read_data(\"orders_data.csv\", parse_dates=[\"Event Dt\"], infer_datetime_format=True)\n",
    "costs = read_data(\"costs_data.csv\", parse_dates=[\"dt\"], infer_datetime_format=True)"
   ]
  },
  {
   "cell_type": "code",
   "execution_count": null,
   "id": "434a7730",
   "metadata": {
    "ExecuteTime": {
     "end_time": "2022-07-27T21:15:16.852600Z",
     "start_time": "2022-07-27T21:15:16.808583Z"
    },
    "colab": {
     "base_uri": "https://localhost:8080/",
     "height": 451,
     "referenced_widgets": [
      "61ebba7f0e5647a6a4886b2d39a41a05",
      "ec50a894ec1045e985295f3e8f112c07",
      "7759108835534ce3b99cc19907d5ed1c",
      "3e2c95f8b37c4ffdb6fefcc215104dcf",
      "e3618c42bd95433c8475df3eee7a41c4",
      "1360f4feb3e04df79c875ee56b03db07",
      "28e98bdb9ddd47df977d044fc16c32bc"
     ]
    },
    "id": "434a7730",
    "outputId": "0877ca4e-5e3b-42ad-ed7f-fcee65e81684",
    "scrolled": false
   },
   "outputs": [],
   "source": [
    "interact(lambda df: globals()[df], df=[\"sessions\", \"orders\", \"costs\"]);"
   ]
  },
  {
   "cell_type": "code",
   "execution_count": null,
   "id": "23da7dfc",
   "metadata": {
    "ExecuteTime": {
     "end_time": "2022-07-27T21:15:16.987736Z",
     "start_time": "2022-07-27T21:15:16.854179Z"
    },
    "colab": {
     "base_uri": "https://localhost:8080/",
     "height": 270,
     "referenced_widgets": [
      "9c080b33870a4da79a9632bcde53205c",
      "90fe94f1baca4485bc438ecc57745f6d",
      "1badd1f306a545c6a5bab5e5822952c7",
      "e04100c729a0413e95f13b497016ecdc",
      "08d9859f23514ebca516ad88f44005ec",
      "ccf32dba478b43d49ab17b657fbb131b",
      "7e593aec0d8d4f009a10c07e45668a18"
     ]
    },
    "id": "23da7dfc",
    "outputId": "2533528b-f851-4811-cda4-2d71422febdf"
   },
   "outputs": [],
   "source": [
    "interact(lambda df: globals()[df].info(memory_usage=\"deep\"), df=[\"sessions\", \"orders\", \"costs\"]);"
   ]
  },
  {
   "cell_type": "code",
   "execution_count": null,
   "id": "69e86db5",
   "metadata": {
    "ExecuteTime": {
     "end_time": "2022-07-27T21:15:17.018180Z",
     "start_time": "2022-07-27T21:15:16.988553Z"
    },
    "colab": {
     "base_uri": "https://localhost:8080/",
     "height": 329,
     "referenced_widgets": [
      "0a74edb2018846bcaa4767d3a1ce2447",
      "b5f67a7be6e0425da6a4b131a5078e2b",
      "4e36c0cd7bba465080f084b5dba522c3",
      "93f9579783614ff19737a2e3792fef82",
      "05797f8d1d364d4bbf1eb86e30e92fbd",
      "010fc0e0134d44c4a8ab37a46a9faa0b",
      "4d94a42cb5e946038b04aff7f55bdede"
     ]
    },
    "id": "69e86db5",
    "outputId": "a9b1907d-0850-41f5-f01c-2beffdf35d1d"
   },
   "outputs": [],
   "source": [
    "interact(lambda df: globals()[df].describe(datetime_is_numeric=True), df=[\"sessions\", \"orders\", \"costs\"]);"
   ]
  },
  {
   "cell_type": "markdown",
   "id": "bd6e74bc",
   "metadata": {
    "id": "bd6e74bc"
   },
   "source": [
    "Данные с мая по ноябрь 2019 года. Приведем названия всех колонок к нижнему регистру."
   ]
  },
  {
   "cell_type": "code",
   "execution_count": null,
   "id": "ae583604",
   "metadata": {
    "ExecuteTime": {
     "end_time": "2022-07-27T21:15:17.021252Z",
     "start_time": "2022-07-27T21:15:17.019122Z"
    },
    "id": "ae583604"
   },
   "outputs": [],
   "source": [
    "for df in [sessions, orders, costs]:\n",
    "    df.columns = df.columns.str.lower().str.replace(\" \", \"_\")"
   ]
  },
  {
   "cell_type": "code",
   "execution_count": null,
   "id": "595147b3",
   "metadata": {
    "ExecuteTime": {
     "end_time": "2022-07-27T21:15:17.154869Z",
     "start_time": "2022-07-27T21:15:17.023535Z"
    },
    "id": "595147b3"
   },
   "outputs": [],
   "source": [
    "orders.insert(2, \"event_date\", pd.to_datetime(orders[\"event_dt\"].dt.date))\n",
    "sessions[\"session_date\"] = pd.to_datetime(sessions[\"session_start\"].dt.date)\n",
    "sessions[\"session_month\"] = sessions[\"session_start\"].dt.month\n",
    "sessions[\"session_week\"] = sessions[\"session_start\"].dt.isocalendar().week\n",
    "sessions[\"session_duration\"] = (sessions[\"session_end\"] - sessions[\"session_start\"]).dt.seconds"
   ]
  },
  {
   "cell_type": "code",
   "execution_count": null,
   "id": "694735e4",
   "metadata": {
    "ExecuteTime": {
     "end_time": "2022-07-27T21:15:17.230598Z",
     "start_time": "2022-07-27T21:15:17.155662Z"
    },
    "colab": {
     "base_uri": "https://localhost:8080/",
     "height": 236,
     "referenced_widgets": [
      "f777c185b34d490f8838c65d89c2d7f8",
      "f277cc578dd249bfaad8c5271bbf7077",
      "877fad40aef844eabdba6050a2143f7a",
      "b2b20df803cf4482a3c89a8b2b52fb99",
      "77ce6e2c4f104b96bd48048bab4848d8",
      "7e600f6ff8c24b2986ea6e3b6249394d",
      "285c60dbe19b4fc9ae78c4352c6cef61"
     ]
    },
    "id": "694735e4",
    "outputId": "59fbe1fa-c6af-45c1-fb0d-e937971c90a4"
   },
   "outputs": [],
   "source": [
    "interact(lambda df: globals()[df].isna().sum(), df=[\"sessions\", \"orders\", \"costs\"]);"
   ]
  },
  {
   "cell_type": "markdown",
   "id": "407c680b",
   "metadata": {
    "id": "407c680b"
   },
   "source": [
    "Пропущенных значений нигде нет."
   ]
  },
  {
   "cell_type": "code",
   "execution_count": null,
   "id": "6a58cc74",
   "metadata": {
    "ExecuteTime": {
     "end_time": "2022-07-27T21:15:17.314665Z",
     "start_time": "2022-07-27T21:15:17.231543Z"
    },
    "colab": {
     "base_uri": "https://localhost:8080/",
     "height": 66,
     "referenced_widgets": [
      "42785ce126b4492c850b9faa3f7aecb7",
      "a3b5e84775db47fdb1a35b09ef8909a7",
      "0337f2b1b92d437f9fdf907fc660e5a5",
      "bd16ce58ad5a400d9b8878a1e44d4f55",
      "96a05e1e03c04a78815fd599b4b8f081",
      "b04f050360774a24aaa366ff78c0ad8c",
      "d6c0d13b325444139cceea9b40e5d709"
     ]
    },
    "id": "6a58cc74",
    "outputId": "55959edd-3b64-4063-fe1b-b613defb9a5e"
   },
   "outputs": [],
   "source": [
    "interact(lambda df: globals()[df].duplicated().sum(), df=[\"sessions\", \"orders\", \"costs\"]);"
   ]
  },
  {
   "cell_type": "markdown",
   "id": "d13624af",
   "metadata": {
    "id": "d13624af"
   },
   "source": [
    "Явных дубликатов тоже нигде нет. Проверим на неявные дубликаты, если пользователь в одно и то же время дважды заходил в приложение или сделал заказ."
   ]
  },
  {
   "cell_type": "code",
   "execution_count": null,
   "id": "0ffdf496",
   "metadata": {
    "ExecuteTime": {
     "end_time": "2022-07-27T21:15:17.337137Z",
     "start_time": "2022-07-27T21:15:17.315838Z"
    },
    "colab": {
     "base_uri": "https://localhost:8080/"
    },
    "id": "0ffdf496",
    "outputId": "15da2ee7-32a7-4b33-b811-babee82fb8d2"
   },
   "outputs": [],
   "source": [
    "sessions.duplicated(subset=[\"user_id\", \"session_start\"]).sum()"
   ]
  },
  {
   "cell_type": "code",
   "execution_count": null,
   "id": "99cf13a9",
   "metadata": {
    "ExecuteTime": {
     "end_time": "2022-07-27T21:15:17.349561Z",
     "start_time": "2022-07-27T21:15:17.339606Z"
    },
    "colab": {
     "base_uri": "https://localhost:8080/"
    },
    "id": "99cf13a9",
    "outputId": "411de34f-a3ef-4a28-bd4d-2b2dba7cdada"
   },
   "outputs": [],
   "source": [
    "orders.duplicated(subset=[\"user_id\", \"event_dt\"]).sum()"
   ]
  },
  {
   "cell_type": "code",
   "execution_count": null,
   "id": "0c9d212d",
   "metadata": {
    "ExecuteTime": {
     "end_time": "2022-07-27T21:15:17.355517Z",
     "start_time": "2022-07-27T21:15:17.351342Z"
    },
    "colab": {
     "base_uri": "https://localhost:8080/"
    },
    "id": "0c9d212d",
    "outputId": "645a07b5-1403-49d1-e5d7-e02bab301557"
   },
   "outputs": [],
   "source": [
    "costs.duplicated(subset=[\"channel\", \"dt\"]).sum()"
   ]
  },
  {
   "cell_type": "markdown",
   "id": "b2cb5642",
   "metadata": {
    "id": "b2cb5642"
   },
   "source": [
    "Таких тоже нет."
   ]
  },
  {
   "cell_type": "markdown",
   "id": "1dbc1e99",
   "metadata": {
    "id": "1dbc1e99"
   },
   "source": [
    "Посмотрим нет ли такого, что один пользователь заходил с разных устройств или из разных регионов (если он переехал, например)."
   ]
  },
  {
   "cell_type": "code",
   "execution_count": null,
   "id": "e06fe329",
   "metadata": {
    "ExecuteTime": {
     "end_time": "2022-07-27T21:15:17.469540Z",
     "start_time": "2022-07-27T21:15:17.356887Z"
    },
    "colab": {
     "base_uri": "https://localhost:8080/"
    },
    "id": "e06fe329",
    "outputId": "78040587-9d27-49e9-e051-48bf147f0f66"
   },
   "outputs": [],
   "source": [
    "print(f\"{(sessions.groupby('user_id')['device'].nunique() > 1).sum() / sessions['user_id'].nunique(): .3f}\")"
   ]
  },
  {
   "cell_type": "code",
   "execution_count": null,
   "id": "eff723d0",
   "metadata": {
    "ExecuteTime": {
     "end_time": "2022-07-27T21:15:17.548905Z",
     "start_time": "2022-07-27T21:15:17.471126Z"
    },
    "colab": {
     "base_uri": "https://localhost:8080/"
    },
    "id": "eff723d0",
    "outputId": "84d678cc-5834-46ef-dee3-f0612451325e"
   },
   "outputs": [],
   "source": [
    "print(f\"{(sessions.groupby('user_id')['region'].nunique() > 1).sum() / sessions['user_id'].nunique(): .3f}\")"
   ]
  },
  {
   "cell_type": "code",
   "execution_count": null,
   "id": "c0bbbc38",
   "metadata": {
    "ExecuteTime": {
     "end_time": "2022-07-27T21:15:17.645394Z",
     "start_time": "2022-07-27T21:15:17.550945Z"
    },
    "colab": {
     "base_uri": "https://localhost:8080/"
    },
    "id": "c0bbbc38",
    "outputId": "f7e69362-8f1d-4695-cfc8-c0ca3e82fd89"
   },
   "outputs": [],
   "source": [
    "print(f\"{(sessions.groupby('user_id')['channel'].nunique() > 1).sum() / sessions['user_id'].nunique(): .3f}\")"
   ]
  },
  {
   "cell_type": "markdown",
   "id": "ab91ae11",
   "metadata": {
    "id": "ab91ae11"
   },
   "source": [
    "Меньше 7% пользователей заходили с разных устройств или каналов. "
   ]
  },
  {
   "cell_type": "markdown",
   "id": "b1a87f0a",
   "metadata": {
    "id": "b1a87f0a"
   },
   "source": [
    "# Исследовательский анализ данных"
   ]
  },
  {
   "cell_type": "code",
   "execution_count": null,
   "id": "45ffc609",
   "metadata": {
    "ExecuteTime": {
     "end_time": "2022-07-27T21:15:17.651383Z",
     "start_time": "2022-07-27T21:15:17.647193Z"
    },
    "id": "45ffc609"
   },
   "outputs": [],
   "source": [
    "def get_distribution(data, column, normalize=False):\n",
    "    if data[column].dtype in [object, bool]:\n",
    "        fig = px.histogram(data, y=column)\n",
    "        fig.update_yaxes(categoryorder=\"total ascending\", linecolor=\"black\")\n",
    "    else:\n",
    "        fig = px.histogram(data, x=column, marginal=\"box\")\n",
    "\n",
    "    title = f\"{column.capitalize().replace('_', ' ')} distribution\"\n",
    "    title = title + \" (normalized)\" if normalize else title\n",
    "    fig.update_layout(title=title)\n",
    "\n",
    "    if normalize:\n",
    "        fig.data[0][\"histnorm\"] = \"probability\"\n",
    "\n",
    "    return fig"
   ]
  },
  {
   "cell_type": "code",
   "execution_count": null,
   "id": "5f26e0b5",
   "metadata": {
    "ExecuteTime": {
     "end_time": "2022-07-27T21:15:18.388141Z",
     "start_time": "2022-07-27T21:15:17.652507Z"
    },
    "colab": {
     "base_uri": "https://localhost:8080/",
     "height": 606,
     "referenced_widgets": [
      "dce660ca65b34feeb08b5063fefb45ba",
      "c9ecff6b6c654e9b9c90e6a67ef8165b",
      "fbb39a6d26b94a84a4f5cf1d7377b3f0",
      "fc2d52968b0f4f1c89712d6f247c7292",
      "12a80d7bf1aa4bbb95122b62ce7c44be",
      "bba7b3dafad9495daad5011d68e94106",
      "a7e8dfc72d36405ebd29b9707bf015eb",
      "4f5e245c78c643c887295f3139e3a507",
      "12dc2be44ab34947bb2f75319213138d",
      "1198ba0e472b4770b7816ae3af33a073"
     ]
    },
    "id": "5f26e0b5",
    "outputId": "91767ef5-a6f0-4478-e98d-2644d3cfbb6d"
   },
   "outputs": [],
   "source": [
    "interact(\n",
    "    get_distribution, data=fixed(sessions), column=sessions.drop(\"user_id\", axis=1).columns, normalize=[False, True]\n",
    ");"
   ]
  },
  {
   "cell_type": "markdown",
   "id": "dec33147",
   "metadata": {
    "id": "dec33147"
   },
   "source": [
    "Больше половины сессий происходит из США, а самым популярным устройством является айфон. Чаще всего пользователи приходят сами, а из рекламных источников лидируют TipTop и FaceBoom. Сессии распределены примерно равномерно в течении всего периода, однако заметны спады активности в середине каждого месяца. Длительность сессий имеет типичное показательное распределение. Максимальная длительность сессии - 6 часов."
   ]
  },
  {
   "cell_type": "code",
   "execution_count": null,
   "id": "653356f9",
   "metadata": {
    "ExecuteTime": {
     "end_time": "2022-07-27T21:15:19.092386Z",
     "start_time": "2022-07-27T21:15:18.389545Z"
    },
    "colab": {
     "base_uri": "https://localhost:8080/",
     "height": 606,
     "referenced_widgets": [
      "87dbe93abc85469ab8df0b07975b47c7",
      "b7d6fdbbae514857aef0efa58f9ccaad",
      "d8612504310d42fa9ff5ce2772c13be9",
      "9810aadf082540929e259b6887444536",
      "1ad1c7e52cf64a6d9e5748c4673b5d6f",
      "df1e36fa19e14895bffa80e302796e4f",
      "29dac5e288f24413be76737b642adc9d",
      "2001d9cf828c4049a8e732159930039f",
      "5318d1375f8f4514b4ee96f3fab94354",
      "bdb2b007fe2245de835ff2e32814c87d"
     ]
    },
    "id": "653356f9",
    "outputId": "76ab871f-c4cb-4034-97ee-7aa9a00b49e9",
    "scrolled": false
   },
   "outputs": [],
   "source": [
    "interact(get_distribution, data=fixed(orders), column=[\"event_dt\", \"revenue\"], normalize=[False, True]);"
   ]
  },
  {
   "cell_type": "markdown",
   "id": "b9aa928a",
   "metadata": {
    "id": "b9aa928a"
   },
   "source": [
    "А вот количество покупок растет со временем. Почти все покупки совершенны на сумму 5, и меньше 5% покупок на 6. Максимальная стоимость заказа - 50."
   ]
  },
  {
   "cell_type": "code",
   "execution_count": null,
   "id": "4649396a",
   "metadata": {
    "ExecuteTime": {
     "end_time": "2022-07-27T21:15:19.162635Z",
     "start_time": "2022-07-27T21:15:19.093324Z"
    },
    "colab": {
     "base_uri": "https://localhost:8080/",
     "height": 606,
     "referenced_widgets": [
      "503fae7ab93e4eeb80717fbe8a092bd6",
      "4cdd34d23ab24d279f3e6e459c65c153",
      "e849164cc9884e3fbb193701efb02140",
      "ddec08c4d5664434853e91321c580554",
      "4ef13f85fcf541489f5464bccfd1359f",
      "dd0d917f48db442fbb4157d5e4e5e1d0",
      "c91b8aa8520243cb9dafdfa5186d8972",
      "f42032ee24ab4f32955ad68f46752b85",
      "396ad76539aa4fea814b9654211dd153",
      "b8b205d82546484e9e8d60b91d27b006"
     ]
    },
    "id": "4649396a",
    "outputId": "9ed3ace9-c2fb-4d1f-f4ac-026f3fd51fea"
   },
   "outputs": [],
   "source": [
    "interact(get_distribution, data=fixed(costs), column=costs.columns, normalize=[False, True]);"
   ]
  },
  {
   "cell_type": "markdown",
   "id": "a26487ce",
   "metadata": {
    "id": "a26487ce"
   },
   "source": [
    "Реклама из каждого источника заказывалась равномерно на протяжении всего периода. Большинство реклам стоили в диапазоне 20. Максимальная стоимость рекламы - 600."
   ]
  },
  {
   "cell_type": "code",
   "execution_count": null,
   "id": "8fdeca08",
   "metadata": {
    "ExecuteTime": {
     "end_time": "2022-07-27T21:15:19.189579Z",
     "start_time": "2022-07-27T21:15:19.163499Z"
    },
    "colab": {
     "base_uri": "https://localhost:8080/",
     "height": 542
    },
    "id": "8fdeca08",
    "outputId": "e3ca3818-e0f8-478b-9e3c-6ab522cbc859"
   },
   "outputs": [],
   "source": [
    "fig = px.bar(\n",
    "    x=[\"costs\", \"revenue\"],\n",
    "    y=[costs[\"costs\"].sum(), orders[\"revenue\"].sum()],\n",
    "    labels={\"y\": \"monetary value\", \"x\": \"\"},\n",
    "    text_auto=\".3s\",\n",
    ")\n",
    "fig.update_layout(\n",
    "    title=\"Total costs and revenue\", yaxis_showticklabels=False, yaxis_showgrid=True, xaxis_linecolor=\"black\"\n",
    ")"
   ]
  },
  {
   "cell_type": "markdown",
   "id": "8fea5eef",
   "metadata": {
    "id": "8fea5eef"
   },
   "source": [
    "Как видим, общая выручка в 2 раза превышает общие затраты, однако эта выручка включает в себя доходы от органических пользователей. Выручка может превышать затраты просто за счет органических пользователей, поэтому нужно посмотреть на [выручку только с привлеченных пользователей](#ROI). Реклама может влиять и на органических пользователей, но будем считать, что это влияние мало."
   ]
  },
  {
   "cell_type": "code",
   "execution_count": null,
   "id": "3a59726e",
   "metadata": {
    "ExecuteTime": {
     "end_time": "2022-07-27T21:15:19.192803Z",
     "start_time": "2022-07-27T21:15:19.190354Z"
    },
    "id": "3a59726e"
   },
   "outputs": [],
   "source": [
    "def plot_total_costs_revenue(window):\n",
    "    total_revenue_by_date = orders.groupby(\"event_date\")[\"revenue\"].sum()\n",
    "    total_costs_by_date = costs.groupby(\"dt\")[\"costs\"].sum()\n",
    "\n",
    "    total_costs_revenue = pd.merge(total_costs_by_date, total_revenue_by_date, left_index=True, right_index=True)\n",
    "\n",
    "    fig = px.line(\n",
    "        total_costs_revenue.rolling(window).mean(),\n",
    "        labels={\"index\": \"date\", \"value\": \"monetary value\"},\n",
    "        title=\"Total costs and revenue by date\",\n",
    "    )\n",
    "\n",
    "    fig.update_layout(xaxis_linecolor=\"black\", yaxis_linecolor=\"black\")\n",
    "\n",
    "    return fig"
   ]
  },
  {
   "cell_type": "code",
   "execution_count": null,
   "id": "c956a012",
   "metadata": {
    "ExecuteTime": {
     "end_time": "2022-07-27T21:15:19.238323Z",
     "start_time": "2022-07-27T21:15:19.193615Z"
    },
    "colab": {
     "base_uri": "https://localhost:8080/",
     "height": 574,
     "referenced_widgets": [
      "f82524e9b0b447a7b5ee65ebb1d9bc5d",
      "bbd83eb368dc495c91835ad2e4e141e0",
      "e824d6f9c03846b0bc16aa5bf51ccc50",
      "b6cae74fd3f14b9c9a48534aa864b022",
      "059d438e18334f0d8afe135d04fd9a80",
      "fb0bca6e51734555b1bf6b2e383a46a9",
      "c72fd7b04c6049f682fe48eb96384b6f"
     ]
    },
    "id": "c956a012",
    "outputId": "84fa62d0-6705-4d3c-882e-11e36560ba61"
   },
   "outputs": [],
   "source": [
    "interact(plot_total_costs_revenue, window=widgets.IntSlider(7, 1, 10));"
   ]
  },
  {
   "cell_type": "markdown",
   "id": "01b28d3d",
   "metadata": {
    "id": "01b28d3d"
   },
   "source": [
    "Общие затраты скачкообразно растут со временем, а в таких \"просадках\" прибыль тоже просаживается. Вероятно, меньше тратят на рекламу - меньше пользователей приходит. Либо же компания платит за количество пришедших пользователей, но они также и определяют выручку. То есть, чем больше пришло пользователей, тем больше компания заплатила, но и тем больше заработала."
   ]
  },
  {
   "cell_type": "code",
   "execution_count": null,
   "id": "3027ba91",
   "metadata": {
    "ExecuteTime": {
     "end_time": "2022-07-27T21:15:19.262795Z",
     "start_time": "2022-07-27T21:15:19.239229Z"
    },
    "colab": {
     "base_uri": "https://localhost:8080/",
     "height": 542
    },
    "id": "3027ba91",
    "outputId": "30d1ae78-5b33-472c-8547-d4b08ef1542d"
   },
   "outputs": [],
   "source": [
    "fig = px.bar(costs.groupby(\"channel\")[\"costs\"].sum(), labels={\"value\": \"monetary value\"}, text_auto=\".2s\")\n",
    "fig.update_layout(\n",
    "    title=\"Total channel costs\",\n",
    "    showlegend=False,\n",
    "    yaxis_showticklabels=False,\n",
    "    yaxis_showgrid=True,\n",
    "    xaxis_linecolor=\"black\",\n",
    ")"
   ]
  },
  {
   "cell_type": "markdown",
   "id": "837daf1f",
   "metadata": {
    "id": "837daf1f"
   },
   "source": [
    "Дороже всего обошлась реклама у TipTop и FaceBoom - затраты от 10 до 50 раз больше, чем на другие каналы."
   ]
  },
  {
   "cell_type": "code",
   "execution_count": null,
   "id": "39aacde2",
   "metadata": {
    "ExecuteTime": {
     "end_time": "2022-07-27T21:15:19.267680Z",
     "start_time": "2022-07-27T21:15:19.264163Z"
    }
   },
   "outputs": [],
   "source": [
    "def plot_channel_costs_history(window, stacked=False):\n",
    "    channel_costs_history = costs.pivot(index=\"dt\", columns=\"channel\", values=\"costs\").rolling(window).mean()\n",
    "\n",
    "    if stacked:\n",
    "        fig = px.area(channel_costs_history, labels={\"value\": \"monetary value\", \"dt\": \"date\"})\n",
    "    else:\n",
    "        fig = px.line(channel_costs_history, labels={\"value\": \"monetary value\", \"dt\": \"date\"})\n",
    "\n",
    "    fig.update_layout(title=\"Channel costs by date\", xaxis_linecolor=\"black\", yaxis_linecolor=\"black\")\n",
    "\n",
    "    return fig"
   ]
  },
  {
   "cell_type": "code",
   "execution_count": null,
   "id": "fd668c69",
   "metadata": {
    "ExecuteTime": {
     "end_time": "2022-07-27T21:15:19.354620Z",
     "start_time": "2022-07-27T21:15:19.274682Z"
    }
   },
   "outputs": [],
   "source": [
    "interact(plot_channel_costs_history, window=widgets.IntSlider(7, 1, 30), stacked=fixed(False));"
   ]
  },
  {
   "cell_type": "code",
   "execution_count": null,
   "id": "385e66dd",
   "metadata": {
    "ExecuteTime": {
     "end_time": "2022-07-27T21:15:19.419696Z",
     "start_time": "2022-07-27T21:15:19.355566Z"
    }
   },
   "outputs": [],
   "source": [
    "interact(plot_channel_costs_history, window=widgets.IntSlider(7, 1, 30), stacked=fixed(True));"
   ]
  },
  {
   "cell_type": "markdown",
   "id": "8d3cd1e5",
   "metadata": {},
   "source": [
    "Кажется, что расходы на все каналы остаются одинаковыми на протяжении всего года, за исключением каналов TipTop и FaceBoom, причем их динамика расходов весьма похожа. Однако расходы на другие каналы могут тоже сильно менятся, просто это не видно на фоне расходов TipTop и FaceBoom."
   ]
  },
  {
   "cell_type": "code",
   "execution_count": null,
   "id": "eb528cd2",
   "metadata": {
    "ExecuteTime": {
     "end_time": "2022-07-27T21:15:19.447092Z",
     "start_time": "2022-07-27T21:15:19.420507Z"
    }
   },
   "outputs": [],
   "source": [
    "fig = px.imshow(costs.pivot(index=\"dt\", columns=\"channel\", values=\"costs\").corr(), text_auto=\".2f\")\n",
    "fig.update_layout(title=\"Channel costs correlation\", height=550)"
   ]
  },
  {
   "cell_type": "markdown",
   "id": "2f634c52",
   "metadata": {},
   "source": [
    "Как видим, расходы на каналы TipTop и FaceBoom сильно коррелируют, но коррелируют и с другими каналами, хотя на первый взгляд это незаметно."
   ]
  },
  {
   "cell_type": "code",
   "execution_count": null,
   "id": "5beb862b",
   "metadata": {
    "ExecuteTime": {
     "end_time": "2022-07-27T21:15:19.499323Z",
     "start_time": "2022-07-27T21:15:19.448008Z"
    }
   },
   "outputs": [],
   "source": [
    "channel_costs = costs.pivot(index=\"channel\", columns=\"dt\", values=\"costs\")\n",
    "dist = hierarchy.linkage(channel_costs)\n",
    "\n",
    "plt.figure(figsize=(8, 5.5))  # как-то грустно импортировать целую библиотеку ради одного графика\n",
    "hierarchy.dendrogram(dist, labels=channel_costs.index, orientation=\"right\")\n",
    "plt.title(\"Channel's dendrogram\", pad=20, fontdict={\"fontsize\": 14});"
   ]
  },
  {
   "cell_type": "markdown",
   "id": "400f0f3a",
   "metadata": {},
   "source": [
    "Как и ожидалось, FaceBoom и TipTop отделяются от остальных каналов."
   ]
  },
  {
   "cell_type": "code",
   "execution_count": null,
   "id": "DB-WkZjW-Hd0",
   "metadata": {
    "ExecuteTime": {
     "end_time": "2022-07-27T21:15:19.525327Z",
     "start_time": "2022-07-27T21:15:19.500561Z"
    },
    "colab": {
     "base_uri": "https://localhost:8080/",
     "height": 542
    },
    "id": "DB-WkZjW-Hd0",
    "outputId": "4690ad11-4159-4e0c-afe8-469814ff127a"
   },
   "outputs": [],
   "source": [
    "order_count_by_user = orders.groupby(\"user_id\")[\"user_id\"].count()\n",
    "fig = px.histogram(order_count_by_user, labels={\"value\": \"order count\"})\n",
    "fig.update_layout(title=\"Order count historgram\", showlegend=False)"
   ]
  },
  {
   "cell_type": "code",
   "execution_count": null,
   "id": "1wWr-Zqe-x83",
   "metadata": {
    "ExecuteTime": {
     "end_time": "2022-07-27T21:15:19.529586Z",
     "start_time": "2022-07-27T21:15:19.526474Z"
    },
    "colab": {
     "base_uri": "https://localhost:8080/"
    },
    "id": "1wWr-Zqe-x83",
    "outputId": "f8c56a05-0218-4241-9778-dff4e66ec33d"
   },
   "outputs": [],
   "source": [
    "print(\"Order count mean:\", round(order_count_by_user.mean(), 2))\n",
    "print(\"Order count median:\", order_count_by_user.median())"
   ]
  },
  {
   "cell_type": "markdown",
   "id": "S9rP_PfM_qjg",
   "metadata": {
    "id": "S9rP_PfM_qjg"
   },
   "source": [
    "Распределение количества заказов на покупателя сильно смещено вправо. Половина покупателей делает не меньше 3 заказов."
   ]
  },
  {
   "cell_type": "markdown",
   "id": "dbe6f648",
   "metadata": {
    "id": "dbe6f648"
   },
   "source": [
    "# Получение профилей пользователей"
   ]
  },
  {
   "cell_type": "markdown",
   "id": "2e1c9d52",
   "metadata": {
    "id": "2e1c9d52"
   },
   "source": [
    "Я не буду пользоваться написанными на тренажере функциями, потому что они не являются универсальными и не сработают в тех или иных случаях. Лучше уметь самому все написать."
   ]
  },
  {
   "cell_type": "code",
   "execution_count": null,
   "id": "bcfc57b0",
   "metadata": {
    "ExecuteTime": {
     "end_time": "2022-07-27T21:15:19.720395Z",
     "start_time": "2022-07-27T21:15:19.530739Z"
    },
    "id": "bcfc57b0"
   },
   "outputs": [],
   "source": [
    "profiles = (\n",
    "    sessions.sort_values(by=[\"user_id\", \"session_start\"])\n",
    "    .groupby(\"user_id\")\n",
    "    .first()\n",
    "    .reset_index()\n",
    "    .rename(lambda column: \"first_\" + column if \"session\" in column else column, axis=1)\n",
    "    .drop(\"first_session_duration\", axis=1)\n",
    ")"
   ]
  },
  {
   "cell_type": "code",
   "execution_count": null,
   "id": "64100ff2",
   "metadata": {
    "ExecuteTime": {
     "end_time": "2022-07-27T21:15:19.727973Z",
     "start_time": "2022-07-27T21:15:19.721468Z"
    },
    "id": "64100ff2"
   },
   "outputs": [],
   "source": [
    "profiles[\"payer\"] = profiles[\"user_id\"].isin(orders[\"user_id\"].unique())"
   ]
  },
  {
   "cell_type": "code",
   "execution_count": null,
   "id": "79ec7f59",
   "metadata": {
    "ExecuteTime": {
     "end_time": "2022-07-27T21:15:20.044568Z",
     "start_time": "2022-07-27T21:15:19.728984Z"
    },
    "colab": {
     "base_uri": "https://localhost:8080/",
     "height": 606,
     "referenced_widgets": [
      "e75b8814050a4a29800daa1b47e3a34c",
      "94fed6516bd541658c8f7ae4ecbc1773",
      "54a450d9f7f64a2f8b1c326877b2cd69",
      "c3c6e059de7f4cf28beb47dbfba86dfa",
      "0921fd453c274cf0bc6088c050459213",
      "85e00f9badef4c898a2ea229ad3a0806",
      "19072e56c790470c9cdcaf4bfca98a6b",
      "236db9d024be4cd5a4a3da4bac261df9",
      "2f9bf6948ab0431297e8e77acb4576b1",
      "2e10d1e5628040b99c36452c9ab2ac5f"
     ]
    },
    "id": "79ec7f59",
    "outputId": "8ecd38b4-903d-4813-eda8-6ec993f263b0"
   },
   "outputs": [],
   "source": [
    "columns_to_show = [\"region\", \"device\", \"channel\", \"first_session_date\", \"payer\"]\n",
    "interact(get_distribution, data=fixed(profiles), column=columns_to_show, normalize=[False, True]);"
   ]
  },
  {
   "cell_type": "markdown",
   "id": "5c8229c7",
   "metadata": {
    "id": "5c8229c7"
   },
   "source": [
    "Распределения по пользователям похоже на распределение по сессиям. Больше всего пользователей пришло с каналов FaceBoom и TipTop. Более сильно выражается цикличность времени регистрации пользователей. Регистрировались с 1 мая по 27 октября включительно. Платящих пользователей всего ~5%."
   ]
  },
  {
   "cell_type": "markdown",
   "id": "ce956dcf",
   "metadata": {
    "id": "ce956dcf"
   },
   "source": [
    "## CAC"
   ]
  },
  {
   "cell_type": "markdown",
   "id": "47bd7977",
   "metadata": {
    "id": "47bd7977"
   },
   "source": [
    "Посчитаем стоимость привлечения каждого пользователя."
   ]
  },
  {
   "cell_type": "code",
   "execution_count": null,
   "id": "ac95f543",
   "metadata": {
    "ExecuteTime": {
     "end_time": "2022-07-27T21:15:20.056220Z",
     "start_time": "2022-07-27T21:15:20.046588Z"
    },
    "id": "ac95f543"
   },
   "outputs": [],
   "source": [
    "total_channel_costs = costs.groupby(\"channel\")[\"costs\"].sum()\n",
    "users_by_channel = profiles.groupby(\"channel\")[\"user_id\"].count()\n",
    "costs_by_channel = (total_channel_costs / users_by_channel).drop(\"organic\")"
   ]
  },
  {
   "cell_type": "code",
   "execution_count": null,
   "id": "c052aeb6",
   "metadata": {
    "ExecuteTime": {
     "end_time": "2022-07-27T21:15:20.090779Z",
     "start_time": "2022-07-27T21:15:20.058271Z"
    },
    "colab": {
     "base_uri": "https://localhost:8080/",
     "height": 542
    },
    "id": "c052aeb6",
    "outputId": "d44a9998-7924-472e-a9c2-52b338ebf781"
   },
   "outputs": [],
   "source": [
    "fig = px.bar(costs_by_channel.T, labels={\"value\": \"cost per user\"}, text_auto=\".2f\")\n",
    "fig.update_layout(title=\"Average CAC by channel\", showlegend=False, yaxis_showticklabels=False, xaxis_linecolor=\"black\")"
   ]
  },
  {
   "cell_type": "markdown",
   "id": "f3d84bd9",
   "metadata": {
    "id": "f3d84bd9"
   },
   "source": [
    "Самая высокая средняя стоимость привлечения клиентов - через каналы TipTop, FaceBoom и AdNonSense. Это значит, что несмотря на высокие затраты на рекламу, количество привлеченных пользователей не так высоко. Посмотрим, как она менялась со временем."
   ]
  },
  {
   "cell_type": "code",
   "execution_count": null,
   "id": "f555fef1",
   "metadata": {
    "ExecuteTime": {
     "end_time": "2022-07-27T21:15:20.107701Z",
     "start_time": "2022-07-27T21:15:20.091627Z"
    },
    "id": "f555fef1"
   },
   "outputs": [],
   "source": [
    "user_count = (\n",
    "    profiles.groupby([\"first_session_date\", \"channel\"])[\"user_id\"].count().reset_index().query(\"channel != 'organic'\")\n",
    ")"
   ]
  },
  {
   "cell_type": "code",
   "execution_count": null,
   "id": "70c902a2",
   "metadata": {
    "ExecuteTime": {
     "end_time": "2022-07-27T21:15:20.119922Z",
     "start_time": "2022-07-27T21:15:20.108733Z"
    },
    "colab": {
     "base_uri": "https://localhost:8080/",
     "height": 419
    },
    "id": "70c902a2",
    "outputId": "9d206885-478d-4b4d-9578-c45808335627"
   },
   "outputs": [],
   "source": [
    "user_costs = user_count.merge(costs, left_on=[\"first_session_date\", \"channel\"], right_on=[\"dt\", \"channel\"]).drop(\n",
    "    \"dt\", axis=1\n",
    ")\n",
    "\n",
    "user_costs[\"cost_per_user\"] = user_costs[\"costs\"] / user_costs[\"user_id\"]\n",
    "user_costs = user_costs.drop(\"costs\", axis=1).rename({\"user_id\": \"user_count\"}, axis=1)\n",
    "user_costs"
   ]
  },
  {
   "cell_type": "code",
   "execution_count": null,
   "id": "9df056ea",
   "metadata": {
    "ExecuteTime": {
     "end_time": "2022-07-27T21:15:20.189947Z",
     "start_time": "2022-07-27T21:15:20.121070Z"
    },
    "colab": {
     "base_uri": "https://localhost:8080/",
     "height": 542
    },
    "id": "9df056ea",
    "outputId": "439c3d83-d06e-4d5b-a744-ba98e30ef2f8"
   },
   "outputs": [],
   "source": [
    "user_costs_history = user_costs.pivot(index=\"first_session_date\", columns=\"channel\", values=\"cost_per_user\")\n",
    "fig = px.line(user_costs_history, labels={\"value\": \"cost per user\"}, title=\"CAC history\")\n",
    "fig.update_layout(xaxis_linecolor=\"black\", yaxis_linecolor=\"black\")"
   ]
  },
  {
   "cell_type": "markdown",
   "id": "c121489c",
   "metadata": {
    "id": "c121489c"
   },
   "source": [
    "Видим, что стоимость привлечения пользователей для всех каналов на протяжении всего периода остается примерно такой же, за исключением канала TipTop. Там цены растут скачками - видимо, примерно раз в месяц оператор повышал цены на рекламу. <br> У RocketSuperAds цена наоборот же снижается."
   ]
  },
  {
   "cell_type": "code",
   "execution_count": null,
   "id": "a62b5676",
   "metadata": {
    "ExecuteTime": {
     "end_time": "2022-07-27T21:15:20.194766Z",
     "start_time": "2022-07-27T21:15:20.191304Z"
    },
    "id": "a62b5676"
   },
   "outputs": [],
   "source": [
    "def plot_user_costs_history(window):\n",
    "\n",
    "    user_costs_history = (\n",
    "        user_costs.pivot(index=\"first_session_date\", columns=\"channel\", values=\"user_count\").rolling(window).mean()\n",
    "    )\n",
    "\n",
    "    fig = px.line(user_costs_history, labels={\"value\": \"number of users\"}, title=\"Users count history\")\n",
    "    fig.update_layout(xaxis_linecolor=\"black\", yaxis_linecolor=\"black\")\n",
    "\n",
    "    return fig"
   ]
  },
  {
   "cell_type": "code",
   "execution_count": null,
   "id": "a4aa637f",
   "metadata": {
    "ExecuteTime": {
     "end_time": "2022-07-27T21:15:20.272310Z",
     "start_time": "2022-07-27T21:15:20.195973Z"
    },
    "colab": {
     "base_uri": "https://localhost:8080/",
     "height": 574,
     "referenced_widgets": [
      "9cdf0298a6714984b8cff06c33d5b352",
      "b1c725d97419465b8a4eb87876069b53",
      "4224c74317e3458ab2d65de485d5b8a7",
      "3a11ecd120ec464bb4d25c2a2f56ea83",
      "8abfd9a8fed843078552d76c286a11d8",
      "29f79d1d8c60447e9893fbe0c3a5a427",
      "2c6670ba9e2b4df5a0dd676bcbe0d0a0"
     ]
    },
    "id": "a4aa637f",
    "outputId": "3900ba84-2e4d-493f-84c3-3b9bafbb4d86"
   },
   "outputs": [],
   "source": [
    "interact(plot_user_costs_history, window=widgets.IntSlider(7, 1, 10));"
   ]
  },
  {
   "cell_type": "markdown",
   "id": "c4f3528f",
   "metadata": {
    "id": "c4f3528f"
   },
   "source": [
    "Так как количество привлекаемых пользователей выросло, значит, выростала цена на рекламу, а не уменьшалось количество привлеченных клиентов. Вероятнее всего, компания платила за каждого привлеченного клиента по фиксированной ставке. Это может объяснить корреляцию между каналами по количеству привлеченных клиентов и расходам. Также, тогда совокупные расходы должны зависеть от двух вещей - количества привлеченных пользователей и CAC."
   ]
  },
  {
   "cell_type": "code",
   "execution_count": null,
   "id": "df7bf54e",
   "metadata": {
    "ExecuteTime": {
     "end_time": "2022-07-27T21:15:20.298300Z",
     "start_time": "2022-07-27T21:15:20.273231Z"
    }
   },
   "outputs": [],
   "source": [
    "cac_costs_corr = user_costs_history.merge(costs.groupby(\"dt\")[\"costs\"].sum(), left_index=True, right_index=True).corr()\n",
    "\n",
    "cac_costs_corr_tril = np.full((10, 10), np.nan)\n",
    "cac_costs_corr_tril[np.tril_indices(10)] = cac_costs_corr.values[np.tril_indices(11, -1)]\n",
    "\n",
    "fig = px.imshow(pd.DataFrame(cac_costs_corr_tril, cac_costs_corr.columns[1:], cac_costs_corr.columns[:-1]))\n",
    "\n",
    "fig.update_layout(\n",
    "    title=\"Channel's CPA and total costs correlation\",\n",
    "    coloraxis={\"cmin\": -1, \"cmax\": 1},\n",
    "    xaxis_showgrid=False,\n",
    "    yaxis_showgrid=False,\n",
    ")"
   ]
  },
  {
   "cell_type": "markdown",
   "id": "1f665f8b",
   "metadata": {
    "id": "1f665f8b"
   },
   "source": [
    "Становится вполне вероятно, что на рост общих затрат на рекламу сильно повлиял рост CPA (cost per acquisition) канала TipTop. "
   ]
  },
  {
   "cell_type": "code",
   "execution_count": null,
   "id": "32bbff34",
   "metadata": {
    "ExecuteTime": {
     "end_time": "2022-07-27T21:15:21.042621Z",
     "start_time": "2022-07-27T21:15:20.299421Z"
    },
    "id": "32bbff34"
   },
   "outputs": [],
   "source": [
    "profiles = (\n",
    "    profiles.merge(user_costs, on=[\"first_session_date\", \"channel\"], how=\"left\")\n",
    "    .fillna(0)\n",
    "    .rename({\"cost_per_user\": \"cac\"}, axis=1)\n",
    ")"
   ]
  },
  {
   "cell_type": "code",
   "execution_count": null,
   "id": "44e491d0",
   "metadata": {
    "ExecuteTime": {
     "end_time": "2022-07-27T21:15:21.052705Z",
     "start_time": "2022-07-27T21:15:21.043626Z"
    }
   },
   "outputs": [],
   "source": [
    "print(\"General CAC:\", round(costs[\"costs\"].sum() / len(profiles), 3))\n",
    "print(\"General CAC without organic:\", round(costs[\"costs\"].sum() / len(profiles.query(\"cac > 0\")), 3))"
   ]
  },
  {
   "cell_type": "markdown",
   "id": "56a3305b",
   "metadata": {
    "id": "56a3305b"
   },
   "source": [
    "## Устройства по регионам"
   ]
  },
  {
   "cell_type": "code",
   "execution_count": null,
   "id": "bc8cbd39",
   "metadata": {
    "ExecuteTime": {
     "end_time": "2022-07-27T21:15:21.072094Z",
     "start_time": "2022-07-27T21:15:21.053868Z"
    },
    "id": "bc8cbd39"
   },
   "outputs": [],
   "source": [
    "devices_by_region = profiles.pivot_table(index=\"device\", columns=\"region\", values=\"user_id\", aggfunc=\"count\")\n",
    "devices_by_region.reset_index(inplace=True)"
   ]
  },
  {
   "cell_type": "code",
   "execution_count": null,
   "id": "de81f133",
   "metadata": {
    "ExecuteTime": {
     "end_time": "2022-07-27T21:15:21.146213Z",
     "start_time": "2022-07-27T21:15:21.073007Z"
    },
    "colab": {
     "base_uri": "https://localhost:8080/",
     "height": 417
    },
    "id": "de81f133",
    "outputId": "8edf30a2-fca7-493c-9388-6d129aa3263a"
   },
   "outputs": [],
   "source": [
    "fig = make_subplots(\n",
    "    1,\n",
    "    4,\n",
    "    specs=[[{\"type\": \"domain\"}] * 4],\n",
    "    subplot_titles=devices_by_region.columns[1:],\n",
    ")\n",
    "\n",
    "for i, region in enumerate(devices_by_region.columns[1:]):\n",
    "    fig.add_trace(px.pie(devices_by_region, names=\"device\", values=region).data[0], 1, i + 1)\n",
    "fig.update_layout(height=400, title=\"Devices by region\")"
   ]
  },
  {
   "cell_type": "markdown",
   "id": "cd2192ef",
   "metadata": {
    "id": "cd2192ef"
   },
   "source": [
    "Франция, Гремания и Великобритания похожи по распределению устройств, там зачастую преобладают компьютеры. В США же популярностью пользуются айфоны и маки."
   ]
  },
  {
   "cell_type": "markdown",
   "id": "171af18b",
   "metadata": {
    "id": "171af18b"
   },
   "source": [
    "## Каналы по регионам"
   ]
  },
  {
   "cell_type": "code",
   "execution_count": null,
   "id": "94f26a36",
   "metadata": {
    "ExecuteTime": {
     "end_time": "2022-07-27T21:15:21.167767Z",
     "start_time": "2022-07-27T21:15:21.147177Z"
    },
    "id": "94f26a36"
   },
   "outputs": [],
   "source": [
    "channels_by_region = profiles.pivot_table(index=\"channel\", columns=\"region\", values=\"user_id\", aggfunc=\"count\")\n",
    "channels_by_region.reset_index(inplace=True)"
   ]
  },
  {
   "cell_type": "code",
   "execution_count": null,
   "id": "da3b8f47",
   "metadata": {
    "ExecuteTime": {
     "end_time": "2022-07-27T21:15:21.237279Z",
     "start_time": "2022-07-27T21:15:21.168726Z"
    },
    "colab": {
     "base_uri": "https://localhost:8080/",
     "height": 417
    },
    "id": "da3b8f47",
    "outputId": "dcfda46c-0a90-4f89-ed76-24c4f68fdc48"
   },
   "outputs": [],
   "source": [
    "fig = make_subplots(1, 4, specs=[[{\"type\": \"domain\"}] * 4], subplot_titles=channels_by_region.columns[1:])\n",
    "\n",
    "for i, region in enumerate(channels_by_region.columns[1:]):\n",
    "    pie = px.pie(channels_by_region, names=\"channel\", values=region)\n",
    "    pie.update_traces(textposition=\"inside\")\n",
    "    fig.add_traces(pie.data, 1, i + 1)\n",
    "fig.update_layout(height=400, title=\"Channels by region\")"
   ]
  },
  {
   "cell_type": "markdown",
   "id": "fcfa009b",
   "metadata": {
    "id": "fcfa009b"
   },
   "source": [
    "Везде преобладают органические пользователи, но во Франции, Германии и Великобритании по каналам лидируют OppleCreativeMedia, LeapBob и WahooNetBanner, а в США - FaceBoom и TipTop."
   ]
  },
  {
   "cell_type": "markdown",
   "id": "6b90f20b",
   "metadata": {
    "id": "6b90f20b"
   },
   "source": [
    "## Покупатели по регионам"
   ]
  },
  {
   "cell_type": "code",
   "execution_count": null,
   "id": "4477119f",
   "metadata": {
    "ExecuteTime": {
     "end_time": "2022-07-27T21:15:21.274497Z",
     "start_time": "2022-07-27T21:15:21.238365Z"
    },
    "colab": {
     "base_uri": "https://localhost:8080/",
     "height": 542
    },
    "id": "4477119f",
    "outputId": "0723200c-e1fe-4c90-d199-f7a34b03128c"
   },
   "outputs": [],
   "source": [
    "fig = px.bar(profiles.groupby(\"region\")[\"payer\"].mean(), labels={\"value\": \"payers\"}, text_auto=\".2p\")\n",
    "fig.update_layout(title=\"Payers by region\", showlegend=False, yaxis_showticklabels=False, xaxis_linecolor=\"black\")"
   ]
  },
  {
   "cell_type": "markdown",
   "id": "2c83e377",
   "metadata": {
    "id": "2c83e377"
   },
   "source": [
    "В США почти в 2 раза больше процент покупателей, чем в остальных регионах. Однако такие значения не полностью точны, так как некоторые пользователи еще не успели сконвертироваться. Надо смотреть на конверсию."
   ]
  },
  {
   "cell_type": "code",
   "execution_count": null,
   "id": "da1e3211",
   "metadata": {
    "ExecuteTime": {
     "end_time": "2022-07-27T21:15:21.304851Z",
     "start_time": "2022-07-27T21:15:21.276601Z"
    },
    "colab": {
     "base_uri": "https://localhost:8080/",
     "height": 542
    },
    "id": "da1e3211",
    "outputId": "bc425b72-538d-40ae-b0a7-50b255066f7b"
   },
   "outputs": [],
   "source": [
    "payers_by_region = profiles.groupby(\"region\")[\"payer\"].sum().reset_index()\n",
    "fig = px.pie(payers_by_region, names=\"region\", values=\"payer\", title=\"Payers by region\")\n",
    "fig.update_traces(textposition=\"inside\", textinfo=\"label+percent\")\n",
    "fig.update_layout(showlegend=False)"
   ]
  },
  {
   "cell_type": "markdown",
   "id": "de55e860",
   "metadata": {
    "id": "de55e860"
   },
   "source": [
    "77.7% всех покупателей составляют пользователи из США, оставшиеся же страны приносят ~7% покупателей."
   ]
  },
  {
   "cell_type": "markdown",
   "id": "7e449679",
   "metadata": {
    "id": "7e449679"
   },
   "source": [
    "## Покупатели по устройству"
   ]
  },
  {
   "cell_type": "code",
   "execution_count": null,
   "id": "748850e8",
   "metadata": {
    "ExecuteTime": {
     "end_time": "2022-07-27T21:15:21.332756Z",
     "start_time": "2022-07-27T21:15:21.305731Z"
    },
    "colab": {
     "base_uri": "https://localhost:8080/",
     "height": 542
    },
    "id": "748850e8",
    "outputId": "8172bbcd-38e1-4110-a302-ed273ac05203"
   },
   "outputs": [],
   "source": [
    "fig = px.bar(profiles.groupby(\"device\")[\"payer\"].mean(), labels={\"value\": \"payers\"}, text_auto=\".2p\")\n",
    "fig.update_layout(title=\"Payers by device\", showlegend=False, yaxis_showticklabels=False, xaxis_linecolor=\"black\")"
   ]
  },
  {
   "cell_type": "markdown",
   "id": "e2fe0005",
   "metadata": {
    "id": "e2fe0005"
   },
   "source": [
    "Выше всего процент у маков и айфонов, у PC самый низкий процент покупателей."
   ]
  },
  {
   "cell_type": "code",
   "execution_count": null,
   "id": "a1b705b9",
   "metadata": {
    "ExecuteTime": {
     "end_time": "2022-07-27T21:15:21.356412Z",
     "start_time": "2022-07-27T21:15:21.333686Z"
    },
    "colab": {
     "base_uri": "https://localhost:8080/",
     "height": 542
    },
    "id": "a1b705b9",
    "outputId": "845683b3-82b9-4780-f92b-fc2f5b798b83"
   },
   "outputs": [],
   "source": [
    "payers_by_region = profiles.groupby(\"device\")[\"payer\"].sum().reset_index()\n",
    "fig = px.pie(payers_by_region, names=\"device\", values=\"payer\", title=\"Payers by device\")\n",
    "fig.update_traces(textposition=\"inside\", textinfo=\"label+percent\")\n",
    "fig.update_layout(showlegend=False)"
   ]
  },
  {
   "cell_type": "markdown",
   "id": "ce23069e",
   "metadata": {
    "id": "ce23069e"
   },
   "source": [
    "Большую часть покупателей составляют пользователи айфонов."
   ]
  },
  {
   "cell_type": "markdown",
   "id": "5dd2c9f3",
   "metadata": {
    "id": "5dd2c9f3"
   },
   "source": [
    "## Покупатели по каналам"
   ]
  },
  {
   "cell_type": "code",
   "execution_count": null,
   "id": "328a72b0",
   "metadata": {
    "ExecuteTime": {
     "end_time": "2022-07-27T21:15:21.384527Z",
     "start_time": "2022-07-27T21:15:21.357317Z"
    },
    "colab": {
     "base_uri": "https://localhost:8080/",
     "height": 542
    },
    "id": "328a72b0",
    "outputId": "20f5f382-8808-4da2-ddc7-a2e0471e15ca"
   },
   "outputs": [],
   "source": [
    "fig = px.bar(profiles.groupby(\"channel\")[\"payer\"].mean(), labels={\"value\": \"payers\"}, text_auto=\".2p\")\n",
    "fig.update_layout(title=\"Payers by channel\", showlegend=False, yaxis_showticklabels=False, xaxis_linecolor=\"black\")"
   ]
  },
  {
   "cell_type": "markdown",
   "id": "a326d041",
   "metadata": {
    "id": "a326d041"
   },
   "source": [
    "У некоторых каналов очень низкое количество покупателей (LeapBob, OppleCreativeMedia), у некоторых высокое (FaceBoom, AdNonSense)."
   ]
  },
  {
   "cell_type": "code",
   "execution_count": null,
   "id": "1d763d35",
   "metadata": {
    "ExecuteTime": {
     "end_time": "2022-07-27T21:15:21.398679Z",
     "start_time": "2022-07-27T21:15:21.385534Z"
    },
    "id": "1d763d35"
   },
   "outputs": [],
   "source": [
    "payers_by_channel = profiles.pivot_table(index=\"channel\", columns=\"payer\", values=\"user_id\", aggfunc=\"count\")\n",
    "payers_by_channel = payers_by_channel[True].reset_index()"
   ]
  },
  {
   "cell_type": "code",
   "execution_count": null,
   "id": "5f20c4a5",
   "metadata": {
    "ExecuteTime": {
     "end_time": "2022-07-27T21:15:21.415643Z",
     "start_time": "2022-07-27T21:15:21.399545Z"
    },
    "colab": {
     "base_uri": "https://localhost:8080/",
     "height": 542
    },
    "id": "5f20c4a5",
    "outputId": "9efb20b4-9157-40c1-ae2a-4929de9fb14e"
   },
   "outputs": [],
   "source": [
    "fig = px.pie(payers_by_channel, names=\"channel\", values=True, title=\"Payers by channel\")\n",
    "fig.update_traces(textposition=\"inside\", textinfo=\"label+percent\")\n",
    "fig.update_layout(showlegend=False)"
   ]
  },
  {
   "cell_type": "markdown",
   "id": "ac6c46b3",
   "metadata": {
    "id": "ac6c46b3"
   },
   "source": [
    "Каналы FaceBoom и TipTop приносят более 60% покупателей. Остальные каналы в сумме дают ~25% покупателей."
   ]
  },
  {
   "cell_type": "markdown",
   "id": "18bbfb56",
   "metadata": {
    "id": "18bbfb56"
   },
   "source": [
    "# Удержание пользователей"
   ]
  },
  {
   "cell_type": "markdown",
   "id": "255d2cc1",
   "metadata": {
    "id": "255d2cc1"
   },
   "source": [
    "Добавим в сессии информацию о дате регистрации пользователя, а также лайфтайм, показывающий длительность \"жизни\" пользователя."
   ]
  },
  {
   "cell_type": "code",
   "execution_count": null,
   "id": "234cd957",
   "metadata": {
    "ExecuteTime": {
     "end_time": "2022-07-27T21:15:21.475316Z",
     "start_time": "2022-07-27T21:15:21.416477Z"
    },
    "id": "234cd957"
   },
   "outputs": [],
   "source": [
    "sessions = sessions.merge(profiles.drop([\"region\", \"device\", \"channel\", \"cac\"], axis=1), on=\"user_id\", how=\"left\")\n",
    "sessions[\"lifetime\"] = (sessions[\"session_start\"] - sessions[\"first_session_start\"]).dt.days"
   ]
  },
  {
   "cell_type": "markdown",
   "id": "3fe20389",
   "metadata": {
    "id": "3fe20389"
   },
   "source": [
    "Моментом анализа будет дата последней сессии."
   ]
  },
  {
   "cell_type": "code",
   "execution_count": null,
   "id": "5b0fa1ed",
   "metadata": {
    "ExecuteTime": {
     "end_time": "2022-07-27T21:15:21.478979Z",
     "start_time": "2022-07-27T21:15:21.476185Z"
    },
    "id": "5b0fa1ed"
   },
   "outputs": [],
   "source": [
    "observation_date = sessions[\"session_date\"].max().date()"
   ]
  },
  {
   "cell_type": "code",
   "execution_count": null,
   "id": "36305f05",
   "metadata": {
    "ExecuteTime": {
     "end_time": "2022-07-27T21:15:21.482609Z",
     "start_time": "2022-07-27T21:15:21.479778Z"
    },
    "id": "36305f05"
   },
   "outputs": [],
   "source": [
    "def get_retention(analysis_horizon, by=None):\n",
    "    analysis_horizon = slice(analysis_horizon) if isinstance(analysis_horizon, int) else slice(*analysis_horizon)\n",
    "    max_registration_date = observation_date - timedelta(analysis_horizon.stop - 1)\n",
    "\n",
    "    retention = sessions.query(\"first_session_date <= @max_registration_date\").pivot_table(\n",
    "        index=by, columns=\"lifetime\", values=\"user_id\", aggfunc=\"nunique\"\n",
    "    )\n",
    "\n",
    "    cohort_size = pd.to_numeric(retention[0], downcast=\"unsigned\")\n",
    "    retention = retention.loc[:, analysis_horizon].fillna(0).drop(0, axis=1, errors=\"ignore\")\n",
    "    retention = retention.div(cohort_size, axis=0)\n",
    "    retention.insert(0, \"cohort_size\", cohort_size)\n",
    "\n",
    "    return retention"
   ]
  },
  {
   "cell_type": "code",
   "execution_count": null,
   "id": "6ee6bb32",
   "metadata": {
    "ExecuteTime": {
     "end_time": "2022-07-27T21:15:21.486023Z",
     "start_time": "2022-07-27T21:15:21.483577Z"
    },
    "id": "6ee6bb32"
   },
   "outputs": [],
   "source": [
    "def plot_retention(analysis_horizon, by=None, transposed=False, **kwargs):\n",
    "    title = kwargs.get(\"title\", f\"Retention by {by}\" if by else \"Retention\")\n",
    "\n",
    "    retention = get_retention(analysis_horizon, by).T.drop(\"cohort_size\")\n",
    "    retention = retention.T if transposed else retention\n",
    "\n",
    "    fig = px.line(retention, labels={\"value\": \"retention\"}, title=title)\n",
    "    fig.update_layout(xaxis_linecolor=\"black\", yaxis_linecolor=\"black\")\n",
    "    fig.update_yaxes(rangemode=\"tozero\", tickformat=\"p\")\n",
    "\n",
    "    if len(fig.data) == 1:\n",
    "        fig.update_layout(showlegend=False)\n",
    "\n",
    "    return fig"
   ]
  },
  {
   "cell_type": "code",
   "execution_count": null,
   "id": "d7fe4e54",
   "metadata": {
    "ExecuteTime": {
     "end_time": "2022-07-27T21:15:21.489356Z",
     "start_time": "2022-07-27T21:15:21.486907Z"
    },
    "id": "d7fe4e54"
   },
   "outputs": [],
   "source": [
    "def plot_retention_by_lifetime(lifetime, by, period, window):\n",
    "    retention = (\n",
    "        get_retention(lifetime + 1, [by, f\"first_session_{period}\"])\n",
    "        .reset_index()\n",
    "        .pivot(index=f\"first_session_{period}\", columns=by, values=lifetime)\n",
    "        .rolling(window)\n",
    "        .mean()\n",
    "    )\n",
    "\n",
    "    fig = px.line(retention, labels={\"value\": \"retention\"}, title=f\"Retention by {by} on the {lifetime+1}th day\")\n",
    "    fig.update_layout(xaxis_linecolor=\"black\", yaxis_linecolor=\"black\")\n",
    "    fig.update_yaxes(rangemode=\"tozero\", tickformat=\"p\")\n",
    "\n",
    "    return fig"
   ]
  },
  {
   "cell_type": "markdown",
   "id": "6fb42619",
   "metadata": {
    "id": "6fb42619"
   },
   "source": [
    "## Общее удержание"
   ]
  },
  {
   "cell_type": "code",
   "execution_count": null,
   "id": "78240820",
   "metadata": {
    "ExecuteTime": {
     "end_time": "2022-07-27T21:15:21.596350Z",
     "start_time": "2022-07-27T21:15:21.490225Z"
    },
    "colab": {
     "base_uri": "https://localhost:8080/",
     "height": 574,
     "referenced_widgets": [
      "e5618751ca1e44149cc2e908a6cfa9ca",
      "3a0a882d05ac4316aeb31cc4250dfc4e",
      "d19a82bb246c4b718911a4e618099c58",
      "38c4a70115c3498baf376fc06bf5f3b6",
      "ca41b51994324b3eb750f4b7f0cfb5ab",
      "73dffd9442df4801beff09bcc46ebd28",
      "7cf468e23c9d4d66b8054899e0b0e993"
     ]
    },
    "id": "78240820",
    "outputId": "3bc9d768-c0b4-4883-9c50-61414567f007"
   },
   "outputs": [],
   "source": [
    "analysis_horizon_slider = widgets.IntRangeSlider(value=(1, 14), min=1, max=30, style=widget_style)\n",
    "interact(\n",
    "    plot_retention,\n",
    "    analysis_horizon=analysis_horizon_slider,\n",
    "    by=fixed(None),\n",
    "    transposed=fixed(False),\n",
    "    title=fixed(\"General retention\"),\n",
    ");"
   ]
  },
  {
   "cell_type": "markdown",
   "id": "0110cf4b",
   "metadata": {
    "id": "0110cf4b"
   },
   "source": [
    "Удержание за 2 недели снижается с 19% до 1%."
   ]
  },
  {
   "cell_type": "markdown",
   "id": "5170cc1d",
   "metadata": {
    "id": "5170cc1d"
   },
   "source": [
    "## Динамика удержания"
   ]
  },
  {
   "cell_type": "code",
   "execution_count": null,
   "id": "98b3dd9f",
   "metadata": {
    "ExecuteTime": {
     "end_time": "2022-07-27T21:15:21.599687Z",
     "start_time": "2022-07-27T21:15:21.597418Z"
    },
    "id": "98b3dd9f"
   },
   "outputs": [],
   "source": [
    "def plot_retention_history(analysis_horizon, period, window):\n",
    "    retention_history = (\n",
    "        get_retention(analysis_horizon, f\"first_session_{period}\").drop(\"cohort_size\", axis=1).rolling(window).mean()\n",
    "    )\n",
    "\n",
    "    fig = px.line(retention_history, labels={\"value\": \"retention\"}, title=\"Retention by date\")\n",
    "    fig.update_layout(xaxis_linecolor=\"black\", yaxis_linecolor=\"black\")\n",
    "    fig.update_yaxes(rangemode=\"tozero\", tickformat=\"p\")\n",
    "\n",
    "    return fig"
   ]
  },
  {
   "cell_type": "code",
   "execution_count": null,
   "id": "0560158b",
   "metadata": {
    "ExecuteTime": {
     "end_time": "2022-07-27T21:15:21.736224Z",
     "start_time": "2022-07-27T21:15:21.600732Z"
    },
    "colab": {
     "base_uri": "https://localhost:8080/",
     "height": 638,
     "referenced_widgets": [
      "f010503035cf418f9dccb28678e62b50",
      "48ca6ca2721d4a82832ba371908d59cc",
      "977112193cec44d9ae4f20d65f6bfdf6",
      "dc3a7972af6a4dba9972f78eeccfa58e",
      "ff83153bbc984e4d9779108d546309e4",
      "1ee6227e9d5f470daf41e09939aa65a7",
      "0d25cde1832441139530cdf4e1ccb78c",
      "0519f579242943ddaf100249edc71490",
      "f23e25e453614c26a4019e8cbdedd1f7",
      "54f46def07724efaa0e95c08681c4317",
      "460ca87e44ad41a88981fab067fc4ec7",
      "d87be69af4be471aa702db4fe0cb0a34",
      "f00ed7278aa44d29bba2ba6e6abd6cea"
     ]
    },
    "id": "0560158b",
    "outputId": "fdd85c31-32cb-4b24-d07e-3b4f2c9693af"
   },
   "outputs": [],
   "source": [
    "analysis_horizon_slider = widgets.IntRangeSlider(value=(1, 7), min=1, max=30, style=widget_style)\n",
    "interact(\n",
    "    plot_retention_history,\n",
    "    analysis_horizon=analysis_horizon_slider,\n",
    "    period=[\"date\", \"week\", \"month\"],\n",
    "    window=widgets.IntSlider(2, 1, 30),\n",
    ");"
   ]
  },
  {
   "cell_type": "markdown",
   "id": "78ebea5c",
   "metadata": {
    "id": "78ebea5c"
   },
   "source": [
    "Удержание не сильно зависит от даты регистрации и колеблется в одном коридоре."
   ]
  },
  {
   "cell_type": "markdown",
   "id": "0c480fcb",
   "metadata": {
    "id": "0c480fcb"
   },
   "source": [
    "## Удержание по региону"
   ]
  },
  {
   "cell_type": "code",
   "execution_count": null,
   "id": "2b6579d5",
   "metadata": {
    "ExecuteTime": {
     "end_time": "2022-07-27T21:15:21.929227Z",
     "start_time": "2022-07-27T21:15:21.738923Z"
    },
    "colab": {
     "base_uri": "https://localhost:8080/",
     "height": 574,
     "referenced_widgets": [
      "58ab851158d243ab89b46f898202bb46",
      "0a9c14ee08a64bf9a7c40135db1a78bb",
      "4e6201f8cc014c81bec0c52787b1ce5c",
      "04692cb5c66a43e180a6af594f72b7f1",
      "e1ec2634635d4758b452275a845b3f59",
      "4c73176ca6554545b813019e787cf0a7",
      "68a2f4155ee646288d0c5c7fdc141ce3"
     ]
    },
    "id": "2b6579d5",
    "outputId": "2e090d23-d349-41c2-b2cf-480307e4005b"
   },
   "outputs": [],
   "source": [
    "analysis_horizon_slider = widgets.IntRangeSlider(value=(1, 14), min=1, max=30, style=widget_style)\n",
    "interact(plot_retention, analysis_horizon=analysis_horizon_slider, by=fixed(\"region\"), transposed=fixed(False));"
   ]
  },
  {
   "cell_type": "markdown",
   "id": "2447ef1a",
   "metadata": {
    "id": "2447ef1a"
   },
   "source": [
    "Удержание не зависит от региона."
   ]
  },
  {
   "cell_type": "code",
   "execution_count": null,
   "id": "8f722a7e",
   "metadata": {
    "ExecuteTime": {
     "end_time": "2022-07-27T21:15:22.061976Z",
     "start_time": "2022-07-27T21:15:21.930580Z"
    },
    "colab": {
     "base_uri": "https://localhost:8080/",
     "height": 574,
     "referenced_widgets": [
      "ab2d19913a2c4015958b3dc5e9c93703",
      "7f1fbe51a2d2458eb5bf7b5fa56591a1",
      "92b10f21f09c47b3b527fb6e987324f4",
      "a98329afbbde490997431bc9f0695419",
      "d2295a7878bc4f068fcad4013e71b406",
      "1a347c1e1e484e1281449e8251dcb865",
      "de02f47133774472b6944953248415e6"
     ]
    },
    "id": "8f722a7e",
    "outputId": "6d376e12-5d36-4902-d4e8-76951ee4840c"
   },
   "outputs": [],
   "source": [
    "analysis_horizon_slider = widgets.IntRangeSlider(value=(1, 7), min=1, max=30, style=widget_style)\n",
    "interact(plot_retention, analysis_horizon=analysis_horizon_slider, by=fixed(\"region\"), transposed=fixed(True));"
   ]
  },
  {
   "cell_type": "code",
   "execution_count": null,
   "id": "bdbd20e1",
   "metadata": {
    "ExecuteTime": {
     "end_time": "2022-07-27T21:15:22.205690Z",
     "start_time": "2022-07-27T21:15:22.063916Z"
    },
    "colab": {
     "base_uri": "https://localhost:8080/",
     "height": 638,
     "referenced_widgets": [
      "c8bafd6df5a04bd0a3e24dbe46ed57bd",
      "f33c0bc11f7b41b58974dc599881962d",
      "430313a469634512a31fc7b9e09ca35d",
      "6bcba6b25265418097fe911b7752682b",
      "116a01c7a46d4ef1946033f7806d0900",
      "4d86760ad4aa47ada783f75b8a127fe5",
      "e45c8defe359421aadebfd351cecc7da",
      "5ade6e64acf94a40baad84fe0a27e47a",
      "58cd1614c1e647a4b4225cd91bfeb01b",
      "034a09150ac24959855b382d97ade5ba",
      "2503cd4226014314b7bfec6fcebcac03",
      "c738ffd579044008ba1b8d433d60b2a5",
      "b06d21ab49b341be99ab57d4c3f3f3b0"
     ]
    },
    "id": "bdbd20e1",
    "outputId": "9dd6f409-aa88-436e-ee91-61fc278563e5"
   },
   "outputs": [],
   "source": [
    "# не забывайте менять окно скользящего среднего при изменении периода\n",
    "interact(\n",
    "    plot_retention_by_lifetime,\n",
    "    lifetime=widgets.IntSlider(14, 1, 30),\n",
    "    by=fixed(\"region\"),\n",
    "    period=[\"date\", \"week\", \"month\"],\n",
    "    window=(1, 30),\n",
    ");"
   ]
  },
  {
   "cell_type": "markdown",
   "id": "d21e1398",
   "metadata": {
    "id": "d21e1398"
   },
   "source": [
    "Со временем удержание не сильно поменялось, увеличилась же разве ее дисперсия."
   ]
  },
  {
   "cell_type": "markdown",
   "id": "efb53da9",
   "metadata": {
    "id": "efb53da9"
   },
   "source": [
    "## Удержание по устройству"
   ]
  },
  {
   "cell_type": "code",
   "execution_count": null,
   "id": "eb3d1f2c",
   "metadata": {
    "ExecuteTime": {
     "end_time": "2022-07-27T21:15:22.327984Z",
     "start_time": "2022-07-27T21:15:22.207256Z"
    },
    "colab": {
     "base_uri": "https://localhost:8080/",
     "height": 574,
     "referenced_widgets": [
      "ae1a7a5d0f7d4d0d9574ae212d2b50b9",
      "0fcea5ed320f465286243b73fe1a5947",
      "2540c959357e4c69a37c18f7c59db625",
      "cd97f106a37f4380b5273976927aab07",
      "66619e9da561400ea068759e10b54a42",
      "e7c64b436fbc4af8a25131795ffad03b",
      "3bb3161001854e77bc24afdd984c742e"
     ]
    },
    "id": "eb3d1f2c",
    "outputId": "f1fdc06e-6898-458f-e69c-7fd63402c76b"
   },
   "outputs": [],
   "source": [
    "analysis_horizon_slider = widgets.IntRangeSlider(value=(1, 14), min=1, max=30, style=widget_style)\n",
    "interact(plot_retention, analysis_horizon=analysis_horizon_slider, by=fixed(\"device\"), transposed=fixed(False));"
   ]
  },
  {
   "cell_type": "markdown",
   "id": "2bb9fec6",
   "metadata": {
    "id": "2bb9fec6"
   },
   "source": [
    "Так же как и с регионом, удержание не зависит от устройства пользователя."
   ]
  },
  {
   "cell_type": "code",
   "execution_count": null,
   "id": "9eade102",
   "metadata": {
    "ExecuteTime": {
     "end_time": "2022-07-27T21:15:22.458619Z",
     "start_time": "2022-07-27T21:15:22.329408Z"
    },
    "colab": {
     "base_uri": "https://localhost:8080/",
     "height": 574,
     "referenced_widgets": [
      "7242d19c0b9e4d30bccd41c266f6f280",
      "ff402dff335147f3b4dcd464f7e3e65b",
      "1003776e0f334e5484b8a66ea45c2739",
      "3fe55da1f6df44f991d519ae4f65990f",
      "4dba028c9ea14d28b24db26e256c2b8f",
      "3de034ddb1d94154a6e9ce3bd0779424",
      "704e6eb8d9c147ca84339758151c59b9"
     ]
    },
    "id": "9eade102",
    "outputId": "67ba4464-91ed-4b4d-f84e-e84b6c7154e1"
   },
   "outputs": [],
   "source": [
    "analysis_horizon_slider = widgets.IntRangeSlider(value=(1, 7), min=1, max=30, style=widget_style)\n",
    "interact(plot_retention, analysis_horizon=analysis_horizon_slider, by=fixed(\"device\"), transposed=fixed(True));"
   ]
  },
  {
   "cell_type": "code",
   "execution_count": null,
   "id": "57246448",
   "metadata": {
    "ExecuteTime": {
     "end_time": "2022-07-27T21:15:22.594724Z",
     "start_time": "2022-07-27T21:15:22.459866Z"
    },
    "colab": {
     "base_uri": "https://localhost:8080/",
     "height": 638,
     "referenced_widgets": [
      "5dc87b4381fc425799230f8bfd375551",
      "fc0b7c96c7824799a380bb1cbf31a852",
      "5a0404f7c35446e186def021b3d1f8b8",
      "a6af5e9275ed4d5399bd240f31edf543",
      "868e7cb5546c4343ac0e3b4ebabd792e",
      "76d80827809341ee80c1b43ac031470d",
      "edc413f9ac2542e1ad783b309405341e",
      "7b3ae09a3f644c43b3c502960d5c4ded",
      "6777669e1116482fa0590815b15ac9b4",
      "6540da1626424800b4eca0b1c6d320de",
      "7b92d643fbec47208e98112395d5638f",
      "2ebb58c2bd4f468c8a8f96ca63528e11",
      "2ae32efc91774691b9706189c5d1efff"
     ]
    },
    "id": "57246448",
    "outputId": "1c966ac1-5284-4b8b-ca18-ffd68a48b1d7"
   },
   "outputs": [],
   "source": [
    "interact(\n",
    "    plot_retention_by_lifetime,\n",
    "    lifetime=widgets.IntSlider(14, 1, 30),\n",
    "    by=fixed(\"device\"),\n",
    "    period=[\"date\", \"week\", \"month\"],\n",
    "    window=(1, 30),\n",
    ");"
   ]
  },
  {
   "cell_type": "markdown",
   "id": "c6c5ae26",
   "metadata": {
    "id": "c6c5ae26"
   },
   "source": [
    "Удержание по устройствам не поменялось со временем."
   ]
  },
  {
   "cell_type": "markdown",
   "id": "03181c0f",
   "metadata": {
    "id": "03181c0f"
   },
   "source": [
    "## Удержание по каналу привлечения"
   ]
  },
  {
   "cell_type": "code",
   "execution_count": null,
   "id": "9a87f7c6",
   "metadata": {
    "ExecuteTime": {
     "end_time": "2022-07-27T21:15:22.711467Z",
     "start_time": "2022-07-27T21:15:22.596151Z"
    },
    "colab": {
     "base_uri": "https://localhost:8080/",
     "height": 574,
     "referenced_widgets": [
      "3f70f34643a44f3396a8b775958f6a54",
      "63a19aeefc6c475b9939d77119da0cc5",
      "53ab1e618f5d4286ab26dd0f30af8fdc",
      "8ca5e0d6cc7f411192008f36fe09b3ad",
      "1ecdbea8562a4beca20f9c76fa77f607",
      "cfb4280145b749629628ebb962a14d9d",
      "35a80a46f3e446d5b51064716d9ff32c"
     ]
    },
    "id": "9a87f7c6",
    "outputId": "3a2b142e-d84c-42d1-cebd-97e5014ad473"
   },
   "outputs": [],
   "source": [
    "analysis_horizon_slider = widgets.IntRangeSlider(value=(1, 14), min=1, max=30, style=widget_style)\n",
    "interact(plot_retention, analysis_horizon=analysis_horizon_slider, by=fixed(\"channel\"), transposed=fixed(False));"
   ]
  },
  {
   "cell_type": "markdown",
   "id": "eac21007",
   "metadata": {
    "id": "eac21007"
   },
   "source": [
    "А вот в зависимости от канала удержание меняется. Больше всего \"живут\" пользователи, пришедшие с каналов lambdaMediaAds, TipTop, RocketSuperAds и WahooNetBanner."
   ]
  },
  {
   "cell_type": "code",
   "execution_count": null,
   "id": "65fddbf4",
   "metadata": {
    "ExecuteTime": {
     "end_time": "2022-07-27T21:15:22.825453Z",
     "start_time": "2022-07-27T21:15:22.712575Z"
    },
    "colab": {
     "base_uri": "https://localhost:8080/",
     "height": 574,
     "referenced_widgets": [
      "6d5d83567c6843ab895254487a9a9518",
      "5b7c57efd5684900be2eecbe99a01609",
      "7e26c65b315f4a01a2e3fdb3cd6da74b",
      "da26cd00bc47408585005d6340e96d78",
      "f651f0c84cad4d12876e0518385e3994",
      "e1dbc8a43c124906a9e029356486ed4d",
      "6cb2ccb6062b451189ad504a00c8ee84"
     ]
    },
    "id": "65fddbf4",
    "outputId": "9d1ae518-628e-407a-f76c-30fea19f24e5",
    "scrolled": false
   },
   "outputs": [],
   "source": [
    "analysis_horizon_slider = widgets.IntRangeSlider(value=(1, 7), min=1, max=30, style=widget_style)\n",
    "interact(plot_retention, analysis_horizon=analysis_horizon_slider, by=fixed(\"channel\"), transposed=fixed(True));"
   ]
  },
  {
   "cell_type": "code",
   "execution_count": null,
   "id": "489cb9eb",
   "metadata": {
    "ExecuteTime": {
     "end_time": "2022-07-27T21:15:22.981049Z",
     "start_time": "2022-07-27T21:15:22.826480Z"
    },
    "colab": {
     "base_uri": "https://localhost:8080/",
     "height": 638,
     "referenced_widgets": [
      "907c4833b4e745b69d05e4c78efa6067",
      "42a7102968364496969f971d49e1a943",
      "574f2fc416be463cbaebd8cdacf79a16",
      "1e524b8708c441198a23a083ce2662e0",
      "34b966bbf3e945aebb511c956dea667e",
      "780c424ad7cc41f2a01a68833c96bd49",
      "e1e6f006dfc64aa1a027dac46232f786",
      "2909f37bf63e4b9e9314ffd5a5452e46",
      "aa2ba67616d24453a4fe5374e70f03aa",
      "31cf458493ed42abbb999a42c1f35b95",
      "741702f5c2d74d6a809c19c45f2589d6",
      "3f7c931d01c140468d1d053a48707643",
      "eb10caa41f9c4f44849143e7a3e91043"
     ]
    },
    "id": "489cb9eb",
    "outputId": "388997c1-d8b6-4c6b-eb20-e10158fc9856"
   },
   "outputs": [],
   "source": [
    "interact(\n",
    "    plot_retention_by_lifetime,\n",
    "    lifetime=widgets.IntSlider(14, 1, 30),\n",
    "    by=fixed(\"channel\"),\n",
    "    period=[\"date\", \"week\", \"month\"],\n",
    "    window=(1, 30),\n",
    ");"
   ]
  },
  {
   "cell_type": "markdown",
   "id": "bf19b01e",
   "metadata": {
    "id": "bf19b01e"
   },
   "source": [
    "Так же не зависит от времени регистрации."
   ]
  },
  {
   "cell_type": "markdown",
   "id": "ff5071b1",
   "metadata": {
    "id": "ff5071b1"
   },
   "source": [
    "## Удержание платящих и неплатящих пользователей"
   ]
  },
  {
   "cell_type": "code",
   "execution_count": null,
   "id": "2951b746",
   "metadata": {
    "ExecuteTime": {
     "end_time": "2022-07-27T21:15:23.071609Z",
     "start_time": "2022-07-27T21:15:22.981872Z"
    },
    "colab": {
     "base_uri": "https://localhost:8080/",
     "height": 574,
     "referenced_widgets": [
      "d30b0251cb0b46f88b8806d55134c104",
      "f0c98038eccd486185385f6e1c186183",
      "871145672edf4ce5a9a2e378341f2038",
      "686bc33860634a77b368126aee61b9e2",
      "a5b4b1f0056c434ab9b8e258e59e6397",
      "54f0a861950a422b81b876647c983aee",
      "6e295e64e89a423fa676fd59cad66a52"
     ]
    },
    "id": "2951b746",
    "outputId": "24678fe0-97a0-49fc-f329-4b0957649906"
   },
   "outputs": [],
   "source": [
    "analysis_horizon_slider = widgets.IntRangeSlider(value=(1, 14), min=1, max=60, style=widget_style)\n",
    "interact(plot_retention, analysis_horizon=analysis_horizon_slider, by=fixed(\"payer\"), transposed=fixed(False));"
   ]
  },
  {
   "cell_type": "markdown",
   "id": "28dc503e",
   "metadata": {
    "id": "28dc503e"
   },
   "source": [
    "Как и ожидалось, удержание платящих пользователей выше, чем у неплатящих."
   ]
  },
  {
   "cell_type": "code",
   "execution_count": null,
   "id": "cca68868",
   "metadata": {
    "ExecuteTime": {
     "end_time": "2022-07-27T21:15:23.198365Z",
     "start_time": "2022-07-27T21:15:23.072563Z"
    },
    "colab": {
     "base_uri": "https://localhost:8080/",
     "height": 638,
     "referenced_widgets": [
      "ecadd457e21f4431a59d7b2bf1af7646",
      "733a4f7afc4a4407ab22836196fad1e4",
      "1a1f0989e94a45e7aba7bc22a6fb503f",
      "675766a4d6ab4edba4096376c57e6d02",
      "bd151a303c8c4c00a81cf0f47543abe7",
      "148a384fac4d4eb78dd58a6785d7d469",
      "a410d2ba31404722be1563c1faba14b4",
      "7af1b3dd734149d0adfbeae4db4ade1a",
      "c0a360e3b23f4d78ad3079fe604df69c",
      "2dbd5aad0e244cfcb040dc06869c3193",
      "0b13cd34a5c14578bff82fe16c29d7ef",
      "f6d634352ba14c4ab9ed4126bd16df99",
      "f50f3429f7be42c79a1e6ce4d7861b64"
     ]
    },
    "id": "cca68868",
    "outputId": "78520c33-41bd-47b2-b9f3-db1b3648a9d1"
   },
   "outputs": [],
   "source": [
    "interact(\n",
    "    plot_retention_by_lifetime,\n",
    "    lifetime=widgets.IntSlider(14, 1, 30),\n",
    "    by=fixed(\"device\"),\n",
    "    period=[\"date\", \"week\", \"month\"],\n",
    "    window=(1, 30),\n",
    ");"
   ]
  },
  {
   "cell_type": "markdown",
   "id": "7a997fa9",
   "metadata": {
    "id": "7a997fa9"
   },
   "source": [
    "Судя по всему, удержание никак не зависит от даты регистрации."
   ]
  },
  {
   "cell_type": "markdown",
   "id": "183c6cd5",
   "metadata": {},
   "source": [
    "## Выводы по удержанию"
   ]
  },
  {
   "cell_type": "markdown",
   "id": "93576eb1",
   "metadata": {},
   "source": [
    "За первые две недели удержание снижается с 20% до 1% и не зависит от региона, устройства и даты регистрации. Выше всего удержание у каналов lambdaMediaAds, TipTop и RocketSuperAds. Ниже всего удержание у FaceBoom, AdNonSense и у органических пользователей."
   ]
  },
  {
   "cell_type": "markdown",
   "id": "03cd6c17",
   "metadata": {},
   "source": [
    "# DAU, WAU, MAU"
   ]
  },
  {
   "cell_type": "markdown",
   "id": "e236c37e",
   "metadata": {},
   "source": [
    "Как дополнение к удержанию, посчитаем количество уникальных пользователей в день/неделю/месяц."
   ]
  },
  {
   "cell_type": "code",
   "execution_count": null,
   "id": "f12b0341",
   "metadata": {
    "ExecuteTime": {
     "end_time": "2022-07-27T21:15:23.257000Z",
     "start_time": "2022-07-27T21:15:23.199455Z"
    }
   },
   "outputs": [],
   "source": [
    "users_by_day = sessions.groupby(\"session_date\")[\"user_id\"].nunique()\n",
    "dau = users_by_day.median()\n",
    "fig = px.line(users_by_day, labels={\"value\": \"user count\"}, title=\"Number of users per day\")\n",
    "fig.add_hline(y=dau, line_color=\"red\")\n",
    "fig.update_layout(showlegend=False, xaxis_linecolor=\"black\", yaxis_linecolor=\"black\")"
   ]
  },
  {
   "cell_type": "code",
   "execution_count": null,
   "id": "551899ff",
   "metadata": {
    "ExecuteTime": {
     "end_time": "2022-07-27T21:15:23.278485Z",
     "start_time": "2022-07-27T21:15:23.258084Z"
    }
   },
   "outputs": [],
   "source": [
    "fig = px.histogram(users_by_day, labels={\"value\": \"number of users\"}, title=\"Daily users count histogram\")\n",
    "fig.update_layout(showlegend=False)"
   ]
  },
  {
   "cell_type": "markdown",
   "id": "65cb31f6",
   "metadata": {},
   "source": [
    "Количество пользователей в день имеет нормальное распределение. Я взял не среднее, а медиану, чтобы не учитывать это \"хвосты\" в мае и октябре. Весьма странно, что в конце октября такой спад пользователей."
   ]
  },
  {
   "cell_type": "code",
   "execution_count": null,
   "id": "92977b29",
   "metadata": {
    "ExecuteTime": {
     "end_time": "2022-07-27T21:15:23.281423Z",
     "start_time": "2022-07-27T21:15:23.279360Z"
    }
   },
   "outputs": [],
   "source": [
    "print(\"DAU:\", round(dau))"
   ]
  },
  {
   "cell_type": "markdown",
   "id": "33a6af3a",
   "metadata": {},
   "source": [
    "В приложение ежедневно заходит ~1700 человек."
   ]
  },
  {
   "cell_type": "code",
   "execution_count": null,
   "id": "b16ed839",
   "metadata": {
    "ExecuteTime": {
     "end_time": "2022-07-27T21:15:23.335702Z",
     "start_time": "2022-07-27T21:15:23.282259Z"
    }
   },
   "outputs": [],
   "source": [
    "users_by_week = sessions.groupby(\"session_week\")[\"user_id\"].nunique()\n",
    "wau = users_by_week.median()\n",
    "fig = px.line(users_by_week, labels={\"value\": \"user count\"}, title=\"Number of users per week\")\n",
    "fig.add_hline(y=wau, line_color=\"red\")\n",
    "fig.update_layout(showlegend=False, xaxis_linecolor=\"black\", yaxis_linecolor=\"black\")"
   ]
  },
  {
   "cell_type": "code",
   "execution_count": null,
   "id": "611e3359",
   "metadata": {
    "ExecuteTime": {
     "end_time": "2022-07-27T21:15:23.338953Z",
     "start_time": "2022-07-27T21:15:23.336806Z"
    }
   },
   "outputs": [],
   "source": [
    "print(\"WAU\", round(wau))\n",
    "print(\"Sticky factor (weekly):\", round(dau / wau, 3))"
   ]
  },
  {
   "cell_type": "markdown",
   "id": "eebbb0e0",
   "metadata": {},
   "source": [
    "В приложение еженедельно заходит ~8400 человек."
   ]
  },
  {
   "cell_type": "code",
   "execution_count": null,
   "id": "aa60efde",
   "metadata": {
    "ExecuteTime": {
     "end_time": "2022-07-27T21:15:23.396131Z",
     "start_time": "2022-07-27T21:15:23.349702Z"
    }
   },
   "outputs": [],
   "source": [
    "users_by_month = sessions.groupby(\"session_month\")[\"user_id\"].nunique()\n",
    "mau = users_by_month.mean()\n",
    "fig = px.line(users_by_month, labels={\"value\": \"user count\"}, title=\"Number of users per month\")\n",
    "fig.add_hline(y=mau, line_color=\"red\")\n",
    "fig.update_layout(showlegend=False, xaxis_linecolor=\"black\", yaxis_linecolor=\"black\")"
   ]
  },
  {
   "cell_type": "code",
   "execution_count": null,
   "id": "2a40f6b8",
   "metadata": {
    "ExecuteTime": {
     "end_time": "2022-07-27T21:15:23.398992Z",
     "start_time": "2022-07-27T21:15:23.397011Z"
    }
   },
   "outputs": [],
   "source": [
    "print(\"MAU:\", round(mau))\n",
    "print(\"Sticky factor (monthly):\", round(dau / mau, 3))"
   ]
  },
  {
   "cell_type": "markdown",
   "id": "3c2e70a1",
   "metadata": {},
   "source": [
    "В приложение ежемесячно заходит ~29000 человек. А sticky factor равен ~0.06 - не так уж и много. [Cогласно википедии](https://ru.wikipedia.org/wiki/Sticky_Factor#Пример_расчета) для игр считается нормальным sticky factor равный 0.18."
   ]
  },
  {
   "cell_type": "markdown",
   "id": "133e0d06",
   "metadata": {
    "id": "133e0d06"
   },
   "source": [
    "# Конверсия"
   ]
  },
  {
   "cell_type": "markdown",
   "id": "11180829",
   "metadata": {
    "id": "11180829"
   },
   "source": [
    "Добавим к профилям пользователей информацию о времени первой покупки."
   ]
  },
  {
   "cell_type": "code",
   "execution_count": null,
   "id": "42078adf",
   "metadata": {
    "ExecuteTime": {
     "end_time": "2022-07-27T21:15:23.443765Z",
     "start_time": "2022-07-27T21:15:23.399794Z"
    },
    "id": "42078adf"
   },
   "outputs": [],
   "source": [
    "profiles = (\n",
    "    orders.sort_values(by=[\"user_id\", \"event_dt\"])\n",
    "    .groupby(\"user_id\")\n",
    "    .first()\n",
    "    .reset_index()\n",
    "    .drop(\"revenue\", axis=1)\n",
    "    .merge(profiles, on=\"user_id\", how=\"right\")\n",
    "    .rename({\"event_dt\": \"first_order_dt\", \"event_date\": \"first_order_date\"}, axis=1)\n",
    ")\n",
    "\n",
    "profiles[\"order_lifetime\"] = (profiles[\"first_order_dt\"] - profiles[\"first_session_start\"]).dt.days"
   ]
  },
  {
   "cell_type": "code",
   "execution_count": null,
   "id": "f78b8dbf",
   "metadata": {
    "ExecuteTime": {
     "end_time": "2022-07-27T21:15:23.447644Z",
     "start_time": "2022-07-27T21:15:23.444702Z"
    },
    "id": "f78b8dbf"
   },
   "outputs": [],
   "source": [
    "def get_conversion(analysis_horizon, by=None):\n",
    "    analysis_horizon = slice(analysis_horizon) if isinstance(analysis_horizon, int) else slice(*analysis_horizon)\n",
    "    max_registration_date = observation_date - timedelta(analysis_horizon.stop - 1)\n",
    "    filtered_profiles = profiles.query(\"first_session_date <= @max_registration_date\")\n",
    "\n",
    "    conversion = (\n",
    "        filtered_profiles.pivot_table(index=by, columns=\"order_lifetime\", values=\"user_id\", aggfunc=\"count\")\n",
    "        .fillna(0)\n",
    "        .cumsum(axis=1)\n",
    "    )\n",
    "\n",
    "    conversion.columns = conversion.columns.astype(int)\n",
    "\n",
    "    cohort_size = filtered_profiles.groupby(by)[\"user_id\"].count() if by else len(filtered_profiles)\n",
    "\n",
    "    conversion = conversion.div(cohort_size, axis=0).loc[:, analysis_horizon]\n",
    "    conversion.insert(0, \"cohort_size\", cohort_size)\n",
    "\n",
    "    return conversion"
   ]
  },
  {
   "cell_type": "code",
   "execution_count": null,
   "id": "82589da0",
   "metadata": {
    "ExecuteTime": {
     "end_time": "2022-07-27T21:15:23.451112Z",
     "start_time": "2022-07-27T21:15:23.448500Z"
    },
    "id": "82589da0"
   },
   "outputs": [],
   "source": [
    "def plot_conversion(analysis_horizon, by=None, transposed=False, **kwargs):\n",
    "    title = kwargs.get(\"title\", f\"Conversion by {by}\" if by else \"Conversion\")\n",
    "\n",
    "    conversion = get_conversion(analysis_horizon, by).T.drop(\"cohort_size\")\n",
    "    conversion = conversion.T if transposed else conversion\n",
    "\n",
    "    fig = px.line(conversion, labels={\"value\": \"conversion\", \"order_lifetime\": \"lifetime\"}, title=title)\n",
    "    fig.update_layout(xaxis_linecolor=\"black\", yaxis_linecolor=\"black\")\n",
    "    fig.update_yaxes(rangemode=\"tozero\", tickformat=\"p\")\n",
    "\n",
    "    if len(fig.data) == 1:\n",
    "        fig.update_layout(showlegend=False)\n",
    "\n",
    "    return fig"
   ]
  },
  {
   "cell_type": "code",
   "execution_count": null,
   "id": "37c30693",
   "metadata": {
    "ExecuteTime": {
     "end_time": "2022-07-27T21:15:23.454140Z",
     "start_time": "2022-07-27T21:15:23.451930Z"
    },
    "id": "37c30693"
   },
   "outputs": [],
   "source": [
    "def plot_conversion_by_lifetime(lifetime, by, period, window):\n",
    "    conversion = (\n",
    "        get_conversion(lifetime + 1, [by, f\"first_session_{period}\"])\n",
    "        .reset_index()\n",
    "        .pivot(index=f\"first_session_{period}\", columns=by, values=lifetime)\n",
    "        .rolling(window)\n",
    "        .mean()\n",
    "    )\n",
    "\n",
    "    fig = px.line(conversion, labels={\"value\": \"conversion\"}, title=f\"Conversion by {by} on {lifetime+1}th day\")\n",
    "    fig.update_layout(xaxis_linecolor=\"black\", yaxis_linecolor=\"black\")\n",
    "    fig.update_yaxes(rangemode=\"tozero\", tickformat=\"p\")\n",
    "\n",
    "    return fig"
   ]
  },
  {
   "cell_type": "markdown",
   "id": "64dad3a3",
   "metadata": {
    "id": "64dad3a3"
   },
   "source": [
    "## Общая конверсия"
   ]
  },
  {
   "cell_type": "code",
   "execution_count": null,
   "id": "0e3860dc",
   "metadata": {
    "ExecuteTime": {
     "end_time": "2022-07-27T21:15:23.496264Z",
     "start_time": "2022-07-27T21:15:23.454979Z"
    },
    "colab": {
     "base_uri": "https://localhost:8080/",
     "height": 574,
     "referenced_widgets": [
      "d0ca903ae1584aac889f9063949b39ae",
      "c27f0d9046ac40b0b6a0d3d2562f1acd",
      "6c753c7603b04d32ba37f1df698627f9",
      "82306308ea6c445fadc84914fce5be4b",
      "a35a2b29173548c8a8704a19e9572bbd",
      "f45c9b59cb7f46d0b483f020330d6c60",
      "8032f12298f347e3a927cd20e43e9826"
     ]
    },
    "id": "0e3860dc",
    "outputId": "f72af085-ead3-4f9e-838c-720b292a92cc",
    "scrolled": false
   },
   "outputs": [],
   "source": [
    "analysis_horizon_slider = widgets.IntRangeSlider(value=(0, 14), min=0, max=30, style=widget_style)\n",
    "interact(\n",
    "    plot_conversion,\n",
    "    analysis_horizon=analysis_horizon_slider,\n",
    "    by=fixed(None),\n",
    "    transposed=fixed(False),\n",
    "    title=fixed(\"General conversion\"),\n",
    ");"
   ]
  },
  {
   "cell_type": "markdown",
   "id": "8cee7c71",
   "metadata": {
    "id": "8cee7c71"
   },
   "source": [
    "Количество конвертировавшихся пользователей составляет всего 5-6%. Почти все конвертируются за первые 14 дней - на 30 день конверсия почти такая же как и на 14."
   ]
  },
  {
   "cell_type": "markdown",
   "id": "1c206afb",
   "metadata": {
    "id": "1c206afb"
   },
   "source": [
    "## Динамика конверсии"
   ]
  },
  {
   "cell_type": "code",
   "execution_count": null,
   "id": "27b13a6b",
   "metadata": {
    "ExecuteTime": {
     "end_time": "2022-07-27T21:15:23.499320Z",
     "start_time": "2022-07-27T21:15:23.497027Z"
    },
    "id": "27b13a6b"
   },
   "outputs": [],
   "source": [
    "def plot_conversion_history(analysis_horizon, period, window):\n",
    "    conversion = (\n",
    "        get_conversion(analysis_horizon, f\"first_session_{period}\").drop(\"cohort_size\", axis=1).rolling(window).mean()\n",
    "    )\n",
    "\n",
    "    fig = px.line(\n",
    "        conversion, labels={\"value\": \"conversion\", \"order_lifetime\": \"lifetime\"}, title=f\"Conversion by {period}\"\n",
    "    )\n",
    "    fig.update_layout(xaxis_linecolor=\"black\", yaxis_linecolor=\"black\")\n",
    "    fig.update_yaxes(rangemode=\"tozero\", tickformat=\"p\")\n",
    "\n",
    "    return fig"
   ]
  },
  {
   "cell_type": "code",
   "execution_count": null,
   "id": "30dd4841",
   "metadata": {
    "ExecuteTime": {
     "end_time": "2022-07-27T21:15:23.578730Z",
     "start_time": "2022-07-27T21:15:23.500122Z"
    },
    "colab": {
     "base_uri": "https://localhost:8080/",
     "height": 638,
     "referenced_widgets": [
      "97a8ad6ede6c4713900c40f1bd057d66",
      "c9b9a1b804624fcc832f922b7d85b4e2",
      "c341a6d9b4a84a1ba91f5353a6781ec2",
      "adc89115e0834488848d20905b1e06dc",
      "a8e4ed37e34e4ace96ad6aabd3ed0f75",
      "bebfbcef16bf4105a2ed2ce166ffd18c",
      "c8994abce72d4a1da4632451deecc853",
      "ad1af5d6109246bcb774c3208b6d6b22",
      "cd71130279e8421399fff672ac8b2b8f",
      "798dda5030f74e2c84d4a45fdecd8937",
      "03261e3d3959446c81d06930f52363c3",
      "7a71186cfbcf42ae84273fa9f56c213e",
      "daa14977407a4141a792dc3d2ce7c040"
     ]
    },
    "id": "30dd4841",
    "outputId": "fc8f089f-49c9-4143-d678-edd3c1d4aa29"
   },
   "outputs": [],
   "source": [
    "analysis_horizon_slider = widgets.IntRangeSlider(value=(0, 7), min=0, max=30, style=widget_style)\n",
    "interact(\n",
    "    plot_conversion_history,\n",
    "    analysis_horizon=analysis_horizon_slider,\n",
    "    period=[\"date\", \"week\", \"month\"],\n",
    "    window=widgets.IntSlider(6, 1, 30),\n",
    ");"
   ]
  },
  {
   "cell_type": "markdown",
   "id": "f7e7c7dd",
   "metadata": {
    "id": "f7e7c7dd"
   },
   "source": [
    "Конверсия не сильно менялась со временем."
   ]
  },
  {
   "cell_type": "markdown",
   "id": "98e8ffe2",
   "metadata": {
    "id": "98e8ffe2"
   },
   "source": [
    "## Конверсия по региону"
   ]
  },
  {
   "cell_type": "code",
   "execution_count": null,
   "id": "8337bbcc",
   "metadata": {
    "ExecuteTime": {
     "end_time": "2022-07-27T21:15:23.637350Z",
     "start_time": "2022-07-27T21:15:23.579472Z"
    },
    "colab": {
     "base_uri": "https://localhost:8080/",
     "height": 574,
     "referenced_widgets": [
      "69810a68e5df422db0ee3a92507e7171",
      "26b9e7776f874b3598e68383fe1a1014",
      "d78f304d4e344c35ae876670deec17b9",
      "88d26acfe9a34cb3a1aa55ad93be4ac2",
      "85c9f8d698e94fcabcdfe98a75c900f4",
      "b07e3dc0727f43fe9764beef8954b0d1",
      "91e7aa32d8094bf8b47878129ef13606"
     ]
    },
    "id": "8337bbcc",
    "outputId": "e25ef6b3-2c41-4655-bca9-b074d181a924"
   },
   "outputs": [],
   "source": [
    "analysis_horizon_slider = widgets.IntRangeSlider(value=(0, 14), min=0, max=30, style=widget_style)\n",
    "interact(plot_conversion, analysis_horizon=analysis_horizon_slider, by=fixed(\"region\"), transposed=fixed(False));"
   ]
  },
  {
   "cell_type": "markdown",
   "id": "be861b52",
   "metadata": {
    "id": "be861b52"
   },
   "source": [
    "В США коверсия почти в 2 раза выше, чем в остальных регионах, где конверсия примерно одинаковая."
   ]
  },
  {
   "cell_type": "code",
   "execution_count": null,
   "id": "bc249b5c",
   "metadata": {
    "ExecuteTime": {
     "end_time": "2022-07-27T21:15:23.701030Z",
     "start_time": "2022-07-27T21:15:23.638355Z"
    },
    "colab": {
     "base_uri": "https://localhost:8080/",
     "height": 574,
     "referenced_widgets": [
      "eee04feeca7a435a8619a9a7a7678a7e",
      "ff29b7a19ee941598b6e8f28850517d2",
      "88332107cb7e4cd0ad9629503b41f2b1",
      "2c9487c4a7a347579986e9724b63028c",
      "0f965c3e348a4bf791a98ca36c46c221",
      "de9d848abe14417fb893eb78833f176c",
      "5266f559b84341a59ec4861703c5b2da"
     ]
    },
    "id": "bc249b5c",
    "outputId": "e4a8f1cd-d0b7-4927-c909-3733e672e834"
   },
   "outputs": [],
   "source": [
    "analysis_horizon_slider = widgets.IntRangeSlider(value=(0, 7), min=0, max=30, style=widget_style)\n",
    "interact(plot_conversion, analysis_horizon=analysis_horizon_slider, by=fixed(\"region\"), transposed=fixed(True));"
   ]
  },
  {
   "cell_type": "code",
   "execution_count": null,
   "id": "a2ab25e3",
   "metadata": {
    "ExecuteTime": {
     "end_time": "2022-07-27T21:15:23.779513Z",
     "start_time": "2022-07-27T21:15:23.702081Z"
    },
    "colab": {
     "base_uri": "https://localhost:8080/",
     "height": 638,
     "referenced_widgets": [
      "ca5432123ede41238ebcb6926b1efaab",
      "618441081a004595a5c4b67757466e8b",
      "70d53a53ba644ecda5fa5ee4db3fb98d",
      "69d0feca64a34f359dee35f579eff1c2",
      "4cb43e4571654f01b5653ce52b16fc57",
      "18e65f74fbe6482e9a8cb172023725d7",
      "d5c75c3d04054ec6954004f247a8e639",
      "33f17a4ecb77445bb817a27e118a2dce",
      "3be739795d0048e587388e8cd7f2c6f7",
      "b9e04d00d0094f0789565b5ca10a064a",
      "544b927d69a24e6ba8a532cf952e54b5",
      "9e3033cfe25f487998538d93b2b537c8",
      "ff88d493dfe44c07b642b655ed6c11fd"
     ]
    },
    "id": "a2ab25e3",
    "outputId": "7f04533a-1033-4803-dee2-7808847bf837"
   },
   "outputs": [],
   "source": [
    "interact(\n",
    "    plot_conversion_by_lifetime,\n",
    "    lifetime=widgets.IntSlider(14, 0, 30),\n",
    "    by=fixed(\"region\"),\n",
    "    period=[\"date\", \"week\", \"month\"],\n",
    "    window=widgets.IntSlider(10, 1, 30),\n",
    ");"
   ]
  },
  {
   "cell_type": "markdown",
   "id": "cfda8134",
   "metadata": {
    "id": "cfda8134"
   },
   "source": [
    "Места разрыва означают, что в данной когорте не было покупателей вообще."
   ]
  },
  {
   "cell_type": "markdown",
   "id": "ce04d6fc",
   "metadata": {
    "id": "ce04d6fc"
   },
   "source": [
    "## Конверсия по устройству"
   ]
  },
  {
   "cell_type": "code",
   "execution_count": null,
   "id": "f4a0fb48",
   "metadata": {
    "ExecuteTime": {
     "end_time": "2022-07-27T21:15:23.837573Z",
     "start_time": "2022-07-27T21:15:23.780517Z"
    },
    "colab": {
     "base_uri": "https://localhost:8080/",
     "height": 574,
     "referenced_widgets": [
      "58aaeb37497c4dcdb538e1b30cbe0a3c",
      "7fd951f84ae04a9fa54cbf5309ae02b3",
      "41f69af6558a4aa980921b2c41f746fb",
      "b0afbc3b3738414a89b62b765eb01022",
      "2d0fc8e2ab8644298eae2078568e71f8",
      "bbb0e001c1c044e6908b25839e18a240",
      "5bcdb9ab485548e8994fa1e576053cb1"
     ]
    },
    "id": "f4a0fb48",
    "outputId": "7a45f53a-3622-45d5-df38-2c2a0955b4b5"
   },
   "outputs": [],
   "source": [
    "analysis_horizon_slider = widgets.IntRangeSlider(value=(0, 14), min=0, max=30, style=widget_style)\n",
    "interact(plot_conversion, analysis_horizon=analysis_horizon_slider, by=fixed(\"device\"), transposed=fixed(False));"
   ]
  },
  {
   "cell_type": "markdown",
   "id": "523d1578",
   "metadata": {
    "id": "523d1578"
   },
   "source": [
    "Лучше всего конвертируются пользователи макбуков, а хуже всего - пользователи PC."
   ]
  },
  {
   "cell_type": "code",
   "execution_count": null,
   "id": "ac182de6",
   "metadata": {
    "ExecuteTime": {
     "end_time": "2022-07-27T21:15:23.900068Z",
     "start_time": "2022-07-27T21:15:23.838451Z"
    },
    "colab": {
     "base_uri": "https://localhost:8080/",
     "height": 574,
     "referenced_widgets": [
      "e932dd69faa649dfa71d8117090a2e4b",
      "791e23fed67146edb3c056294f279aca",
      "32444638954d4b0490411641de79db72",
      "1cd7cdd633b14f268b3717588884faac",
      "97d9eed2299c413684f38e36d5db1f1d",
      "7b43b9c3c12d4ead97b7a4864898e385",
      "6e07566daacf4d7d9dd8caff051cd1be"
     ]
    },
    "id": "ac182de6",
    "outputId": "e72d7bab-9d7a-4b5f-f34a-a1de840f4ae4"
   },
   "outputs": [],
   "source": [
    "analysis_horizon_slider = widgets.IntRangeSlider(value=(0, 7), min=0, max=30, style=widget_style)\n",
    "interact(plot_conversion, analysis_horizon=analysis_horizon_slider, by=fixed(\"device\"), transposed=fixed(True));"
   ]
  },
  {
   "cell_type": "code",
   "execution_count": null,
   "id": "7c5cce03",
   "metadata": {
    "ExecuteTime": {
     "end_time": "2022-07-27T21:15:23.976387Z",
     "start_time": "2022-07-27T21:15:23.901133Z"
    },
    "colab": {
     "base_uri": "https://localhost:8080/",
     "height": 638,
     "referenced_widgets": [
      "0120b62fd431482f9806471d233cd6a8",
      "ed752802d9d24a4eae612001827bba5e",
      "8a54db15f5a64b468220628ab6121b01",
      "03d5dd0ee03f443a9ce2d94a069e6ac2",
      "a581194dd8ec4cca9e99ea19189d7760",
      "4cea7de297b84063bfd9d6fee2e1ec95",
      "be14c90546064434a923e1b7c84dc969",
      "5cc4c2c939384543971ebf2b9f67dad2",
      "718b959195fc41feb26630daca8679af",
      "d9cc41285bdb4fa280af0ec8684addef",
      "176bdd4966c942a99da9091011e47f47",
      "27aadf640d494c70a86abca6235da0a6",
      "d16e416c23cc42fcb335dbf6bcf3a345"
     ]
    },
    "id": "7c5cce03",
    "outputId": "1173b505-a897-4dea-9ebc-1ebe771628a1"
   },
   "outputs": [],
   "source": [
    "interact(\n",
    "    plot_conversion_by_lifetime,\n",
    "    lifetime=widgets.IntSlider(14, 0, 30),\n",
    "    by=fixed(\"device\"),\n",
    "    period=[\"date\", \"week\", \"month\"],\n",
    "    window=widgets.IntSlider(10, 1, 30),\n",
    ");"
   ]
  },
  {
   "cell_type": "markdown",
   "id": "5b3d4a46",
   "metadata": {
    "id": "5b3d4a46"
   },
   "source": [
    "## Конверсия по каналу привлечения "
   ]
  },
  {
   "cell_type": "code",
   "execution_count": null,
   "id": "33d58789",
   "metadata": {
    "ExecuteTime": {
     "end_time": "2022-07-27T21:15:24.050589Z",
     "start_time": "2022-07-27T21:15:23.977518Z"
    },
    "colab": {
     "base_uri": "https://localhost:8080/",
     "height": 574,
     "referenced_widgets": [
      "8e9a024f19d74ae099f3d5b6b6f00ec2",
      "e294f3a685b74258815873d27abce953",
      "ce230a0432314bb89657d60f1afe2673",
      "b8a52c8b99254366a8c4838edea6b00b",
      "9b876fba1e714865af65845e261dbb3b",
      "b6bdb73cac644ed3b9449717347f01bb",
      "03fbd1c27df6495d93fc67ce5dbf31d2"
     ]
    },
    "id": "33d58789",
    "outputId": "4fc98f26-c13b-4144-9918-df51bd361388"
   },
   "outputs": [],
   "source": [
    "analysis_horizon_slider = widgets.IntRangeSlider(value=(0, 14), min=0, max=30, style=widget_style)\n",
    "interact(plot_conversion, analysis_horizon=analysis_horizon_slider, by=fixed(\"channel\"), transposed=fixed(False));"
   ]
  },
  {
   "cell_type": "markdown",
   "id": "dbc06c91",
   "metadata": {
    "id": "dbc06c91"
   },
   "source": [
    "Самая большая конверсия у каналов FaceBoom (преимущественно США), AdNonSense, lambdaMediaAds и TipTop (преимущественно США). Органические пользователи конвертируются хуже всего."
   ]
  },
  {
   "cell_type": "code",
   "execution_count": null,
   "id": "94bb7b01",
   "metadata": {
    "ExecuteTime": {
     "end_time": "2022-07-27T21:15:24.116830Z",
     "start_time": "2022-07-27T21:15:24.051569Z"
    },
    "colab": {
     "base_uri": "https://localhost:8080/",
     "height": 574,
     "referenced_widgets": [
      "c24b94bc492c43f5b5a106dab0ff0fbb",
      "c63a78d967064cc084e253a275a90677",
      "a947e6c679d24fd3bdc22bf0d3d3020b",
      "71c6ac55bd8f4f2c9236711c7b305075",
      "35210a423c6442f38ca4b862a43f32fe",
      "32c6eecc47ce49dc99b234b1933b0470",
      "d3e0b362ecc54e1b8a187f3e2679ba9a"
     ]
    },
    "id": "94bb7b01",
    "outputId": "51ce21d8-3a18-43f0-ee74-8a90bb47a0c5"
   },
   "outputs": [],
   "source": [
    "analysis_horizon_slider = widgets.IntRangeSlider(value=(0, 7), min=0, max=30, style=widget_style)\n",
    "interact(plot_conversion, analysis_horizon=analysis_horizon_slider, by=fixed(\"channel\"), transposed=fixed(True));"
   ]
  },
  {
   "cell_type": "code",
   "execution_count": null,
   "id": "b3990a2d",
   "metadata": {
    "ExecuteTime": {
     "end_time": "2022-07-27T21:15:24.217772Z",
     "start_time": "2022-07-27T21:15:24.117791Z"
    }
   },
   "outputs": [],
   "source": [
    "interact(\n",
    "    plot_conversion_by_lifetime,\n",
    "    lifetime=widgets.IntSlider(14, 0, 30),\n",
    "    by=fixed(\"channel\"),\n",
    "    period=[\"date\", \"week\", \"month\"],\n",
    "    window=widgets.IntSlider(10, 1, 30),\n",
    ");"
   ]
  },
  {
   "cell_type": "markdown",
   "id": "b2540f4a",
   "metadata": {
    "ExecuteTime": {
     "end_time": "2022-06-20T15:07:34.970626Z",
     "start_time": "2022-06-20T15:07:34.966157Z"
    }
   },
   "source": [
    "## Выводы по конверсии"
   ]
  },
  {
   "cell_type": "markdown",
   "id": "c28086c7",
   "metadata": {},
   "source": [
    "Почти все покупатели конвертируются за первые 14 дней, их количество составляет примерно 5% от всех пользователей. Тенденции по времени регистрации не наблюдается. В США конверсия почти в 2 раза выше, чем в остальных регионах. Среди устройств лучше всего конвертируются пользователи мака, хуже всего - PC. Выше всего конверсия у каналов FaceBoom, AdNonSense и lambdaMediaAds. Ниже всего у LeapBob, OppleCreativeMedia и у органических пользователей."
   ]
  },
  {
   "cell_type": "markdown",
   "id": "47f14328",
   "metadata": {
    "id": "47f14328"
   },
   "source": [
    "# ARPU"
   ]
  },
  {
   "cell_type": "code",
   "execution_count": null,
   "id": "1b4a29bb",
   "metadata": {
    "ExecuteTime": {
     "end_time": "2022-07-27T21:15:24.245274Z",
     "start_time": "2022-07-27T21:15:24.218620Z"
    },
    "colab": {
     "base_uri": "https://localhost:8080/",
     "height": 823
    },
    "id": "1b4a29bb",
    "outputId": "d059161e-954b-487e-f47b-6b0326af5a0a"
   },
   "outputs": [],
   "source": [
    "columns_to_add = [\n",
    "    \"user_id\",\n",
    "    \"first_session_start\",\n",
    "    \"first_session_date\",\n",
    "    \"first_session_week\",\n",
    "    \"first_session_month\",\n",
    "    \"device\",\n",
    "    \"region\",\n",
    "    \"channel\",\n",
    "]\n",
    "orders = orders.merge(profiles[columns_to_add], on=\"user_id\", how=\"left\")\n",
    "orders[\"order_lifetime\"] = (orders[\"event_dt\"] - orders[\"first_session_start\"]).dt.days\n",
    "orders"
   ]
  },
  {
   "cell_type": "code",
   "execution_count": null,
   "id": "8223b936",
   "metadata": {
    "ExecuteTime": {
     "end_time": "2022-07-27T21:15:24.259191Z",
     "start_time": "2022-07-27T21:15:24.246114Z"
    },
    "colab": {
     "base_uri": "https://localhost:8080/"
    },
    "id": "8223b936",
    "outputId": "f6b433e3-4214-4a06-b8ed-07f54f5cabfc"
   },
   "outputs": [],
   "source": [
    "print(\"General ARPU:\", round(orders[\"revenue\"].sum() / len(profiles), 3))\n",
    "print(\"General ARPPU:\", round(orders[\"revenue\"].sum() / orders[\"user_id\"].nunique(), 3))\n",
    "print(\"General CAC:\", round(costs[\"costs\"].sum() / len(profiles), 3))\n",
    "print(\"General CAC without organic:\", round(costs[\"costs\"].sum() / len(profiles.query(\"cac > 0\")), 3))\n",
    "print(\"General ROI:\", round(orders[\"revenue\"].sum() / costs[\"costs\"].sum(), 3))\n",
    "print(\n",
    "    \"General ROI without organic:\",\n",
    "    round(orders.query(\"channel != 'organic'\")[\"revenue\"].sum() / costs[\"costs\"].sum(), 3),\n",
    ")"
   ]
  },
  {
   "cell_type": "markdown",
   "id": "f745c3da",
   "metadata": {
    "id": "f745c3da"
   },
   "source": [
    "Метрика \"CAC without organic\" показывает стоимость привлечения клиента без учета органических пользователей, так как они могут сильно смещать обычный CAC. Так же и \"ROI without organic\" учитывает только прибыль с рекламных клиентов, так как органические пользователи и так, и так приносили прибыль и без рекламы. Обычный ROI может быть положительным (больше 1) даже если клиенты с рекламы вообще ничего не покупали. Реклама может влиять и на органических пользователей, но будем считать, что это влияние мало."
   ]
  },
  {
   "cell_type": "code",
   "execution_count": null,
   "id": "746ca8f0",
   "metadata": {
    "ExecuteTime": {
     "end_time": "2022-07-27T21:15:24.262798Z",
     "start_time": "2022-07-27T21:15:24.260198Z"
    },
    "id": "746ca8f0"
   },
   "outputs": [],
   "source": [
    "def get_arpu(analysis_horizon, by=None, use_arppu=False):\n",
    "    analysis_horizon = slice(analysis_horizon) if isinstance(analysis_horizon, int) else slice(*analysis_horizon)\n",
    "    max_registration_date = observation_date - timedelta(analysis_horizon.stop - 1)\n",
    "\n",
    "    metric = (\n",
    "        orders.query(\"first_session_date <= @max_registration_date\")\n",
    "        .pivot_table(index=by, columns=\"order_lifetime\", values=\"revenue\", aggfunc=\"sum\")\n",
    "        .fillna(0)\n",
    "        .cumsum(axis=1)\n",
    "        .loc[:, analysis_horizon]\n",
    "    )\n",
    "\n",
    "    users = orders if use_arppu else profiles\n",
    "    cohort_size = users.query(\"first_session_date <= @max_registration_date\")\n",
    "    cohort_size = cohort_size.groupby(by)[\"user_id\"].nunique() if by else cohort_size[\"user_id\"].nunique()\n",
    "    metric = metric.div(cohort_size, axis=0)\n",
    "    metric.insert(0, \"cohort_size\", cohort_size)\n",
    "\n",
    "    return metric"
   ]
  },
  {
   "cell_type": "code",
   "execution_count": null,
   "id": "7895348b",
   "metadata": {
    "ExecuteTime": {
     "end_time": "2022-07-27T21:15:24.266352Z",
     "start_time": "2022-07-27T21:15:24.263775Z"
    },
    "id": "7895348b"
   },
   "outputs": [],
   "source": [
    "def plot_arpu(analysis_horizon, by=None, transposed=False, use_arppu=False, **kwargs):\n",
    "    metric_title = \"ARPPU\" if use_arppu else \"ARPU\"\n",
    "    title = kwargs.get(\"title\", f\"{metric_title} by {by}\" if by else metric_title)\n",
    "\n",
    "    metric = get_arpu(analysis_horizon, by, use_arppu=use_arppu).T.drop(\"cohort_size\")\n",
    "    metric = metric.T if transposed else metric\n",
    "\n",
    "    fig = px.line(metric, labels={\"value\": f\"{metric_title}\", \"order_lifetime\": \"lifetime\"}, title=title)\n",
    "    fig.update_layout(xaxis_linecolor=\"black\", yaxis_linecolor=\"black\", yaxis_rangemode=\"tozero\")\n",
    "\n",
    "    if len(fig.data) == 1:\n",
    "        fig.update_layout(showlegend=False)\n",
    "\n",
    "    return fig"
   ]
  },
  {
   "cell_type": "code",
   "execution_count": null,
   "id": "f5b5d58d",
   "metadata": {
    "ExecuteTime": {
     "end_time": "2022-07-27T21:15:24.269397Z",
     "start_time": "2022-07-27T21:15:24.267186Z"
    },
    "id": "f5b5d58d"
   },
   "outputs": [],
   "source": [
    "def plot_arpu_by_lifetime(lifetime, by, period, window, use_arppu=False):\n",
    "    metric_title = \"ARPPU\" if use_arppu else \"ARPU\"\n",
    "\n",
    "    metric = (\n",
    "        get_arpu(lifetime + 1, [by, f\"first_session_{period}\"], use_arppu=use_arppu)\n",
    "        .reset_index()\n",
    "        .pivot(index=f\"first_session_{period}\", columns=by, values=lifetime)\n",
    "        .rolling(window)\n",
    "        .mean()\n",
    "    )\n",
    "\n",
    "    fig = px.line(metric, labels={\"value\": f\"{metric_title}\"})\n",
    "    fig.update_layout(\n",
    "        title=f\"{metric_title} by {by} on the {lifetime+1}th day\",\n",
    "        yaxis_rangemode=\"tozero\",\n",
    "        xaxis_linecolor=\"black\",\n",
    "        yaxis_linecolor=\"black\",\n",
    "    )\n",
    "\n",
    "    return fig"
   ]
  },
  {
   "cell_type": "markdown",
   "id": "0fedd4d2",
   "metadata": {
    "id": "0fedd4d2"
   },
   "source": [
    "## Общий ARPU"
   ]
  },
  {
   "cell_type": "code",
   "execution_count": null,
   "id": "62e87e5d",
   "metadata": {
    "ExecuteTime": {
     "end_time": "2022-07-27T21:15:24.315978Z",
     "start_time": "2022-07-27T21:15:24.270239Z"
    },
    "colab": {
     "base_uri": "https://localhost:8080/",
     "height": 606,
     "referenced_widgets": [
      "a340b3b70362482c85034abe04b4375f",
      "a2039ee4237042b1b25922153b88fbcd",
      "64722d5b53dd45ceabc81f4d45c5a27a",
      "58dbb1146b2e4f5fbc5ce7746a4cf19c",
      "248c3a5c9761436b94b95642b04bea85",
      "3a7d667b062b435c88d71e58b61a9218",
      "d990edf8fb074770adc3b5a9865c877a",
      "bb7bbdb75bec4961b6e024fc18db689d",
      "7e05069c6d3641279757c195f144fb10",
      "7e0367c0084a41f5932ba34d2361ff4c"
     ]
    },
    "id": "62e87e5d",
    "outputId": "e8010279-0940-411d-a2c6-e67a4c7c3717",
    "scrolled": false
   },
   "outputs": [],
   "source": [
    "analysis_horizon_slider = widgets.IntRangeSlider(value=(0, 14), min=0, max=90, style=widget_style)\n",
    "interact(\n",
    "    plot_arpu,\n",
    "    analysis_horizon=analysis_horizon_slider,\n",
    "    by=fixed(None),\n",
    "    transposed=fixed(False),\n",
    "    use_arppu=[False, True],\n",
    ");"
   ]
  },
  {
   "cell_type": "markdown",
   "id": "fe4de4bf",
   "metadata": {},
   "source": [
    "В среднем на 14 день один пользователь приносит 0.7, а один покупатель - 12."
   ]
  },
  {
   "cell_type": "markdown",
   "id": "655c1e22",
   "metadata": {
    "id": "655c1e22"
   },
   "source": [
    "## Динамика ARPU"
   ]
  },
  {
   "cell_type": "code",
   "execution_count": null,
   "id": "3026b55b",
   "metadata": {
    "ExecuteTime": {
     "end_time": "2022-07-27T21:15:24.319377Z",
     "start_time": "2022-07-27T21:15:24.317011Z"
    },
    "id": "3026b55b"
   },
   "outputs": [],
   "source": [
    "def plot_arpu_history(analysis_horizon, period, window, use_arppu=False):\n",
    "    metric_title = \"ARPPU\" if use_arppu else \"ARPU\"\n",
    "\n",
    "    metric_history = (\n",
    "        get_arpu(analysis_horizon, f\"first_session_{period}\", use_arppu=use_arppu)\n",
    "        .drop(\"cohort_size\", axis=1)\n",
    "        .rolling(window)\n",
    "        .mean()\n",
    "    )\n",
    "\n",
    "    fig = px.line(metric_history, labels={\"value\": metric_title, \"order_lifetime\": \"lifetime\"})\n",
    "    fig.update_layout(\n",
    "        title=f\"{metric_title} by date\", yaxis_rangemode=\"tozero\", xaxis_linecolor=\"black\", yaxis_linecolor=\"black\"\n",
    "    )\n",
    "\n",
    "    return fig"
   ]
  },
  {
   "cell_type": "code",
   "execution_count": null,
   "id": "ecfe7771",
   "metadata": {
    "ExecuteTime": {
     "end_time": "2022-07-27T21:15:24.412085Z",
     "start_time": "2022-07-27T21:15:24.320415Z"
    },
    "colab": {
     "base_uri": "https://localhost:8080/",
     "height": 670,
     "referenced_widgets": [
      "ff1866c616d64df497d5e62edbd2eaf5",
      "bffb14a4dddb47fb885b1be9bb4b5481",
      "e7838083584145e0b63440cf537c4f36",
      "352609567c1a4013b65046c0285dcc0e",
      "f3f1710a65b744a98c9a6b1eb17fd2a2",
      "d5cced89df2c4e62a78d66c627baeb34",
      "f290756b17da4086a7e615a40859edd3",
      "8fc02426ce4d4ae986a348057ac591ba",
      "b9781eed756e44e8905a9702948cfb8c",
      "c1ce27a911ee41dda94ceb08e45c2067",
      "87ddd08bd74e44db826fda319cb0bb33",
      "c6f9a3bb15ad4df2b34e36d0b3d9b8ed",
      "bb62e74653494d548dd98c0c510ce793",
      "3bc2d6e1879e498591e7399e357419bf",
      "579bca9a6bf2475d9ce7f5b66106cfdb",
      "26f98df43e3c4f32bd5616a6009ab8f2"
     ]
    },
    "id": "ecfe7771",
    "outputId": "4eb6968d-e529-4691-c37c-8d9686415e89"
   },
   "outputs": [],
   "source": [
    "analysis_horizon_slider = widgets.IntRangeSlider(value=(0, 7), min=0, max=90, style=widget_style)\n",
    "interact(\n",
    "    plot_arpu_history,\n",
    "    analysis_horizon=analysis_horizon_slider,\n",
    "    period=[\"date\", \"week\", \"month\"],\n",
    "    window=widgets.IntSlider(5, 1, 30),\n",
    "    use_arppu=[False, True],\n",
    ");"
   ]
  },
  {
   "cell_type": "markdown",
   "id": "42927b86",
   "metadata": {
    "id": "42927b86"
   },
   "source": [
    "ARPU колеблется в одном коридоре с заметными спадами во второй половине каждого месяца."
   ]
  },
  {
   "cell_type": "markdown",
   "id": "8bfa8afc",
   "metadata": {
    "id": "8bfa8afc"
   },
   "source": [
    "## ARPU по региону"
   ]
  },
  {
   "cell_type": "code",
   "execution_count": null,
   "id": "2883ae5d",
   "metadata": {
    "ExecuteTime": {
     "end_time": "2022-07-27T21:15:24.475851Z",
     "start_time": "2022-07-27T21:15:24.412931Z"
    },
    "colab": {
     "base_uri": "https://localhost:8080/",
     "height": 606,
     "referenced_widgets": [
      "f0456d30afbd4c87a6f885c76656a4e5",
      "bcac9acde5c7451090cc7435291ac56f",
      "c4e4883b79d34e6d87559fbc8763138a",
      "5440a332c58f4668bb0e6d35f8b83782",
      "966e5bb1e76c4d51b98190856232b0a7",
      "9e5ee07fbc5045578e9eb4d2c7920295",
      "07193ebd0d524034a1a9ce3e3d7c2b0e",
      "c1a8620a275e4c6189033048bfeb76e3",
      "2902d15cc7f64ffea70006dce9b6a2d5",
      "e286dfd636cd4e5cbf8bee51426ba71c"
     ]
    },
    "id": "2883ae5d",
    "outputId": "7e1489b6-5f49-47d3-9a5c-9d6e9892094e"
   },
   "outputs": [],
   "source": [
    "analysis_horizon_slider = widgets.IntRangeSlider(value=(0, 14), min=0, max=90, style=widget_style)\n",
    "interact(\n",
    "    plot_arpu,\n",
    "    analysis_horizon=analysis_horizon_slider,\n",
    "    by=fixed(\"region\"),\n",
    "    transposed=fixed(False),\n",
    "    use_arppu=[False, True],\n",
    ");"
   ]
  },
  {
   "cell_type": "markdown",
   "id": "b0589713",
   "metadata": {
    "id": "b0589713"
   },
   "source": [
    "ARPU для США выше, чем для европейских стран, где ARPU примерно одинаков. А вот ARPPU наоборот ниже."
   ]
  },
  {
   "cell_type": "code",
   "execution_count": null,
   "id": "2b258c2f",
   "metadata": {
    "ExecuteTime": {
     "end_time": "2022-07-27T21:15:24.547600Z",
     "start_time": "2022-07-27T21:15:24.476952Z"
    },
    "colab": {
     "base_uri": "https://localhost:8080/",
     "height": 606,
     "referenced_widgets": [
      "4d7967bcba4a4eb494b3e799933b1b0c",
      "ad087d19a7ca4d3791acc0182d1c557b",
      "36f6ef369d6a47d69ba0ab10cffea961",
      "9924fc1300684ea2b04ec4c5ce2e0595",
      "9ccceb9b3bb94b8899fc9e257945683f",
      "6f01f002759549faada2cbcf30f5875a",
      "77662e9264fa4f4aba373495148e815e",
      "57c5a9d802e945adbfeacae99d9dd054",
      "f81e87c6592c420e93ced8829cf0b8f9",
      "ed761396d6914d5486c231af6e330247"
     ]
    },
    "id": "2b258c2f",
    "outputId": "f40bbc07-7a49-4f3a-e410-f0def0595731"
   },
   "outputs": [],
   "source": [
    "analysis_horizon_slider = widgets.IntRangeSlider(value=(0, 7), min=0, max=90, style=widget_style)\n",
    "interact(\n",
    "    plot_arpu,\n",
    "    analysis_horizon=analysis_horizon_slider,\n",
    "    by=fixed(\"region\"),\n",
    "    transposed=fixed(True),\n",
    "    use_arppu=[False, True],\n",
    ");"
   ]
  },
  {
   "cell_type": "code",
   "execution_count": null,
   "id": "2e5cf1d6",
   "metadata": {
    "ExecuteTime": {
     "end_time": "2022-07-27T21:15:24.641484Z",
     "start_time": "2022-07-27T21:15:24.548652Z"
    },
    "colab": {
     "base_uri": "https://localhost:8080/",
     "height": 670,
     "referenced_widgets": [
      "7068b8ef407c444aacd1795aec95eaa0",
      "db90e750b12c4985a2b17bddf1f81c8f",
      "353e650b68c340e2a891e9dfe499e9fb",
      "2442488c3c704cceb95ea8de7656a57e",
      "2fc40ad8d7bf4829a584826bdb0afd2f",
      "32e79af32fc94e6d836e5f2074940b35",
      "162f59ea002348ddb28363f5c3a83772",
      "e7a91d0d3b7f45bc9e2eb74781b8ad1e",
      "4f62bdb6e50e4cce8f4738c525c0556e",
      "386cb9f630464521a4156e2f7866f08c",
      "efc44e7b718644e5b6f29f022018b034",
      "b6dda13aea6a422f9de630976d60d6b1",
      "6d5d5f6e3fbb4c7eb28c29709bbad292",
      "2e10f7c5d61c4e678128c27f3724bc91",
      "63e7019600c54afd9ca62d8de6defe9a",
      "88f355cb599847e291dd30b6802c6091"
     ]
    },
    "id": "2e5cf1d6",
    "outputId": "c840c569-116a-4ef8-9b6d-e7810aac6921"
   },
   "outputs": [],
   "source": [
    "interact(\n",
    "    plot_arpu_by_lifetime,\n",
    "    lifetime=widgets.IntSlider(14, 0, 90),\n",
    "    by=fixed(\"region\"),\n",
    "    period=[\"date\", \"week\", \"month\"],\n",
    "    window=widgets.IntSlider(10, 1, 30),\n",
    "    use_arppu=[False, True],\n",
    ");"
   ]
  },
  {
   "cell_type": "markdown",
   "id": "c8abee6b",
   "metadata": {
    "id": "c8abee6b"
   },
   "source": [
    "## ARPU по устройству"
   ]
  },
  {
   "cell_type": "code",
   "execution_count": null,
   "id": "e5e5f54e",
   "metadata": {
    "ExecuteTime": {
     "end_time": "2022-07-27T21:15:24.705189Z",
     "start_time": "2022-07-27T21:15:24.642573Z"
    },
    "colab": {
     "base_uri": "https://localhost:8080/",
     "height": 606,
     "referenced_widgets": [
      "b08a351407fa4514a9e2f7b7752088d9",
      "662e7726877f43fbb23c8374dcd0ed02",
      "17447f80af56488c8592197086a6dea4",
      "fd2b522a63fe43f1bbc0736edc72ec14",
      "d22364f933014850a2a91e839e878db8",
      "9a1fc20f80f04be985a5c495d6e89aea",
      "f21de290b9c14665b99fbb1942f2c2e6",
      "ca2c0951adab49278cd2397d8bddd6ad",
      "3d2e13894cd246e4a2a5198e8a9d0975",
      "77623fba37c44c028903e6833973732d"
     ]
    },
    "id": "e5e5f54e",
    "outputId": "07bcd06b-123f-463a-b646-c65a5845a98b"
   },
   "outputs": [],
   "source": [
    "analysis_horizon_slider = widgets.IntRangeSlider(value=(0, 14), min=0, max=90, style=widget_style)\n",
    "interact(\n",
    "    plot_arpu,\n",
    "    analysis_horizon=analysis_horizon_slider,\n",
    "    by=fixed(\"device\"),\n",
    "    transposed=fixed(False),\n",
    "    use_arppu=[False, True],\n",
    ");"
   ]
  },
  {
   "cell_type": "markdown",
   "id": "e0939aed",
   "metadata": {
    "id": "e0939aed"
   },
   "source": [
    "Доход от пользователей персональных компьютеров ниже, чем от пользователей других устройств. Пользователи Mac - самые прибыльные. А вот покупатели самые прибыльные, наоборот у PC."
   ]
  },
  {
   "cell_type": "code",
   "execution_count": null,
   "id": "74b3e13f",
   "metadata": {
    "ExecuteTime": {
     "end_time": "2022-07-27T21:15:24.777091Z",
     "start_time": "2022-07-27T21:15:24.706147Z"
    },
    "colab": {
     "base_uri": "https://localhost:8080/",
     "height": 606,
     "referenced_widgets": [
      "bf35e63bcbdb47a69f6fd7e48dd42de5",
      "fbb8c949ebd84813be987ed9320f6c28",
      "b3766135f1f74e8084234c6840a2d583",
      "3321881be94c4a408bd027bd1a50a39d",
      "0e419a81879344248a387ac99be18226",
      "87eaece992824a2280df65b71a60363e",
      "08cdbd3a75d249f88827a386a725fc18",
      "fa4e10542f3d4474b45797a822308191",
      "a3d0569d50c642dc9bcfc51dbf328497",
      "1b0f78bfa18d48b38fad07a09b5137cf"
     ]
    },
    "id": "74b3e13f",
    "outputId": "c793239a-9626-4ffc-923a-2e040db4d013"
   },
   "outputs": [],
   "source": [
    "analysis_horizon_slider = widgets.IntRangeSlider(value=(0, 7), min=0, max=90, style=widget_style)\n",
    "interact(\n",
    "    plot_arpu,\n",
    "    analysis_horizon=analysis_horizon_slider,\n",
    "    by=fixed(\"device\"),\n",
    "    transposed=fixed(True),\n",
    "    use_arppu=[False, True],\n",
    ");"
   ]
  },
  {
   "cell_type": "code",
   "execution_count": null,
   "id": "7b5df458",
   "metadata": {
    "ExecuteTime": {
     "end_time": "2022-07-27T21:15:24.869772Z",
     "start_time": "2022-07-27T21:15:24.777991Z"
    },
    "colab": {
     "base_uri": "https://localhost:8080/",
     "height": 670,
     "referenced_widgets": [
      "04bfa0f6270841f9887f7df11b7385b5",
      "afedac61ec324a3894ed0b6cbc719394",
      "8866fb6caf184432ba041ae52a747748",
      "b6520134cecd4855a7e0b460c1151839",
      "ee8d04470b2e447497f27f2f3fc68414",
      "28c47c3652be48a9b8aefdcc41f6b16e",
      "9b2b8a4bdaac4f708f22b18c133a3f86",
      "7feee81d741849118afb7e5d591d037a",
      "83db7dc939c0405a81a49c16d1b35dda",
      "66ee71a551464a578a6e53889ca1cbad",
      "e4ac608defa142c6a404971aadbd4040",
      "4462aa3dad7e4f07ace2adf70cd6d0c3",
      "131bd0ac9de745a3aa09534db22c2259",
      "56d5a229f68d4d5cbaaebb4733e8484c",
      "2b1599cb9d1040e5a50d49cdbf0847d7",
      "1395f247c45e47d393d850c362d78d82"
     ]
    },
    "id": "7b5df458",
    "outputId": "a593abe3-4e4e-41f7-a1ff-3053b5bc6209"
   },
   "outputs": [],
   "source": [
    "interact(\n",
    "    plot_arpu_by_lifetime,\n",
    "    lifetime=widgets.IntSlider(14, 0, 90),\n",
    "    by=fixed(\"device\"),\n",
    "    period=[\"date\", \"week\", \"month\"],\n",
    "    window=widgets.IntSlider(10, 1, 30),\n",
    "    use_arppu=[False, True],\n",
    ");"
   ]
  },
  {
   "cell_type": "markdown",
   "id": "fde6a0ec",
   "metadata": {
    "id": "fde6a0ec"
   },
   "source": [
    "## ARPU по каналу привлечения"
   ]
  },
  {
   "cell_type": "code",
   "execution_count": null,
   "id": "7deb36c7",
   "metadata": {
    "ExecuteTime": {
     "end_time": "2022-07-27T21:15:24.947120Z",
     "start_time": "2022-07-27T21:15:24.870838Z"
    },
    "colab": {
     "base_uri": "https://localhost:8080/",
     "height": 606,
     "referenced_widgets": [
      "4262e685bfb3442693cdf80d9ac4e6db",
      "aa5efe1c4d054e37849dd54ed6eeb83f",
      "ab6f18492f60470f8826adfca4502807",
      "3ddf1d7abd9a4cf9aa5d93adcd807cd7",
      "3ad7381dffde4443b776f2e72bbd0e31",
      "c1be7125c268422ba30dfd1930bf71f8",
      "c731332da51f458aa42e88387f1e132d",
      "9fdf654b1c4e43bd8591c86148dbda97",
      "cc99d3cb88554ed89e677d65832b97c1",
      "6033e3ffd9e34c28983843ef7e2d5480"
     ]
    },
    "id": "7deb36c7",
    "outputId": "b9e93e9d-b35f-4b86-d57c-5789e07ae202"
   },
   "outputs": [],
   "source": [
    "analysis_horizon_slider = widgets.IntRangeSlider(value=(0, 14), min=0, max=90, style=widget_style)\n",
    "interact(\n",
    "    plot_arpu,\n",
    "    analysis_horizon=analysis_horizon_slider,\n",
    "    by=fixed(\"channel\"),\n",
    "    transposed=fixed(False),\n",
    "    use_arppu=[False, True],\n",
    ");"
   ]
  },
  {
   "cell_type": "markdown",
   "id": "aca46363",
   "metadata": {
    "id": "aca46363"
   },
   "source": [
    "Самый высокий ARPU у каналов lambdaMediaAds и TipTop. У каналов FaceBoom и AdNonSense тоже относительно высокий ARPU, а вот ARPPU у них очень низкий - это объясняет, почему у этих двух каналов APRU почти не растет после 8 дня. Вероятно, пользователи конвертируются в покупателей, делают 1-2 покупки, и все. На других же каналах покупатели делают больше покупок. Проверим это."
   ]
  },
  {
   "cell_type": "code",
   "execution_count": null,
   "id": "d3ff1e40",
   "metadata": {
    "ExecuteTime": {
     "end_time": "2022-07-27T21:15:24.973090Z",
     "start_time": "2022-07-27T21:15:24.947988Z"
    }
   },
   "outputs": [],
   "source": [
    "fig = px.bar(orders.groupby([\"channel\", \"user_id\"])[\"revenue\"].count().groupby(\"channel\").mean(), text_auto=\".2f\")\n",
    "fig.update_layout(\n",
    "    yaxis_title=\"orders per payer\",\n",
    "    yaxis_showticklabels=False,\n",
    "    xaxis_linecolor=\"black\",\n",
    "    title=\"Orders per payer by channel\",\n",
    "    showlegend=False,\n",
    ")"
   ]
  },
  {
   "cell_type": "markdown",
   "id": "9a89f4ee",
   "metadata": {},
   "source": [
    "И вправду, покупатели с каналов FaceBoom и AdNonSense делают всего 1.5 покупки, в то время как остальные по 6-7. Причем удержания у каналов примерно одинаковые. Посмотрим, не зависит ли это от устройства."
   ]
  },
  {
   "cell_type": "code",
   "execution_count": null,
   "id": "9f232cc7",
   "metadata": {
    "ExecuteTime": {
     "end_time": "2022-07-27T21:15:25.020542Z",
     "start_time": "2022-07-27T21:15:24.973953Z"
    }
   },
   "outputs": [],
   "source": [
    "fig = px.line(get_arpu(14, [\"channel\", \"device\"], use_arppu=True).loc[\"FaceBoom\"].T.drop(\"cohort_size\"))\n",
    "fig.update_layout(\n",
    "    xaxis_title=\"lifetime\",\n",
    "    yaxis_title=\"ARPPU\",\n",
    "    title=\"FaceBoom ARPPU by device\",\n",
    "    xaxis_linecolor=\"black\",\n",
    "    yaxis_linecolor=\"black\",\n",
    "    yaxis_rangemode=\"tozero\",\n",
    ")"
   ]
  },
  {
   "cell_type": "code",
   "execution_count": null,
   "id": "f847c305",
   "metadata": {
    "ExecuteTime": {
     "end_time": "2022-07-27T21:15:25.071081Z",
     "start_time": "2022-07-27T21:15:25.022966Z"
    }
   },
   "outputs": [],
   "source": [
    "fig = px.line(get_arpu(14, [\"channel\", \"device\"], use_arppu=True).loc[\"AdNonSense\"].T.drop(\"cohort_size\"))\n",
    "fig.update_layout(\n",
    "    xaxis_title=\"lifetime\",\n",
    "    yaxis_title=\"ARPPU\",\n",
    "    title=\"AdNonSense ARPPU by device\",\n",
    "    xaxis_linecolor=\"black\",\n",
    "    yaxis_linecolor=\"black\",\n",
    "    yaxis_rangemode=\"tozero\",\n",
    ")"
   ]
  },
  {
   "cell_type": "markdown",
   "id": "1836e8e1",
   "metadata": {},
   "source": [
    "Видим, что дело не в устройстве."
   ]
  },
  {
   "cell_type": "code",
   "execution_count": null,
   "id": "1ecee8c5",
   "metadata": {
    "ExecuteTime": {
     "end_time": "2022-07-27T21:15:25.146221Z",
     "start_time": "2022-07-27T21:15:25.071938Z"
    },
    "colab": {
     "base_uri": "https://localhost:8080/",
     "height": 606,
     "referenced_widgets": [
      "be104a7d3c7f49b8afcbd513ee9570b4",
      "27764d196f444419b6356114670e0858",
      "5ce0535cffc947d8bbd616b18c33b76b",
      "b6025f2fc9f046e5a9e6c2354dc77edb",
      "b5016aa51d5942ee94f9de6a2d0a070e",
      "37887ee37c5c42c6813f8fa128f762b6",
      "f32765cf1dc042589fced1037f3d650f",
      "642c8c1768564ef3995c903ac98dc1d2",
      "38e910035abd43fd80a42fa261b82ea3",
      "2b2e4485e8824eb0aaed5e46dc334285"
     ]
    },
    "id": "1ecee8c5",
    "outputId": "954b3e13-39a2-43a5-a38f-92c5d1817fad"
   },
   "outputs": [],
   "source": [
    "analysis_horizon_slider = widgets.IntRangeSlider(value=(0, 7), min=0, max=90, style=widget_style)\n",
    "interact(\n",
    "    plot_arpu,\n",
    "    analysis_horizon=analysis_horizon_slider,\n",
    "    by=fixed(\"channel\"),\n",
    "    transposed=fixed(True),\n",
    "    use_arppu=[False, True],\n",
    ");"
   ]
  },
  {
   "cell_type": "code",
   "execution_count": null,
   "id": "4b9bd6d5",
   "metadata": {
    "ExecuteTime": {
     "end_time": "2022-07-27T21:15:25.257907Z",
     "start_time": "2022-07-27T21:15:25.147123Z"
    },
    "colab": {
     "base_uri": "https://localhost:8080/",
     "height": 670,
     "referenced_widgets": [
      "b7f3e16ef763472ab58eedcd4d9d33c8",
      "2b2e6be61cda4c27a2fae60197cc2188",
      "43ec922449de4b54aea75a30e080bb64",
      "5184699074d2408aa1a3ec5097fbeb20",
      "3f73c0abc2c049bf9d354e3dfa75d6d3",
      "0bc28d61a87d49518e128d15ba6be881",
      "c6cc43f8867d425abaefd606ddfebb5e",
      "00ab5a08a78945fc85b4e19a89329351",
      "e837c191eb1d43b7af4120df35e3014e",
      "cef822fec6e04da690c3b5144b8222df",
      "0b53616c9b3b4e6eb995913d59d8a921",
      "916ae3d9a9eb45888b06a7d47838e279",
      "8e0f917afe9c46a1b15b45b455d50901",
      "ad4463d1ac8c4d6a90e8f96100396376",
      "43ebea5e1c534ba886bf4ea09dfc4656",
      "bc22359523c6414a9262f99c7f18afb1"
     ]
    },
    "id": "4b9bd6d5",
    "outputId": "693a4d6f-fc71-4714-d2ef-7e9d056cb0eb"
   },
   "outputs": [],
   "source": [
    "interact(\n",
    "    plot_arpu_by_lifetime,\n",
    "    lifetime=widgets.IntSlider(14, 0, 90),\n",
    "    by=fixed(\"channel\"),\n",
    "    period=[\"date\", \"week\", \"month\"],\n",
    "    window=widgets.IntSlider(10, 1, 30),\n",
    "    use_arppu=[False, True],\n",
    ");"
   ]
  },
  {
   "cell_type": "markdown",
   "id": "e124626a",
   "metadata": {},
   "source": [
    "## Выводы по ARPU"
   ]
  },
  {
   "cell_type": "markdown",
   "id": "c015ed54",
   "metadata": {},
   "source": [
    "Средний доход на потребителя мало зависит от даты регистрации. У пользователей персональных компьютеров ниже ARPU, но выше ARPPU - вероятно, они чаще совершают повторные покупки. По каналам высокие ARPU у lambdaMediaAds, TipTop, FaceBoom и AdNonSense. Однако у последних двух низкие ARPPU - их клиенты меньше склонны к повторным покупкам. От этого в США высокий ARPU, но низкий ARPPU."
   ]
  },
  {
   "cell_type": "markdown",
   "id": "099ef69d",
   "metadata": {
    "id": "099ef69d"
   },
   "source": [
    "# ROI"
   ]
  },
  {
   "cell_type": "code",
   "execution_count": null,
   "id": "ektDXOGw8c-N",
   "metadata": {
    "ExecuteTime": {
     "end_time": "2022-07-27T21:15:25.282388Z",
     "start_time": "2022-07-27T21:15:25.258732Z"
    },
    "colab": {
     "base_uri": "https://localhost:8080/",
     "height": 542
    },
    "id": "ektDXOGw8c-N",
    "outputId": "b80fe52a-3be3-4d0b-cbe4-4ed37c855650"
   },
   "outputs": [],
   "source": [
    "fig = px.bar(\n",
    "    x=[\"costs\", \"revenue\"],\n",
    "    y=[costs[\"costs\"].sum(), orders.query(\"channel != 'organic'\")[\"revenue\"].sum()],\n",
    "    labels={\"y\": \"monetary value\", \"x\": \"\"},\n",
    "    title=\"Total costs and revenue\",\n",
    "    text_auto=\".3s\",\n",
    ")\n",
    "fig.update_layout(xaxis_linecolor=\"black\", yaxis_showticklabels=False)"
   ]
  },
  {
   "cell_type": "markdown",
   "id": "kV9ssSFq8zei",
   "metadata": {
    "id": "kV9ssSFq8zei"
   },
   "source": [
    "Доход от привлеченных пользователей не сильно ниже, чем от всех пользователей, и превышает общие затраты на рекламу. Однако это доход за все время, а нам интересна окупаемость за 2 недели."
   ]
  },
  {
   "cell_type": "code",
   "execution_count": null,
   "id": "32f603f7",
   "metadata": {
    "ExecuteTime": {
     "end_time": "2022-07-27T21:15:25.286779Z",
     "start_time": "2022-07-27T21:15:25.283273Z"
    },
    "id": "32f603f7"
   },
   "outputs": [],
   "source": [
    "def get_roi(analysis_horizon, by=None, without_organic=True):\n",
    "    analysis_horizon = slice(analysis_horizon) if isinstance(analysis_horizon, int) else slice(*analysis_horizon)\n",
    "    max_registration_date = observation_date - timedelta(analysis_horizon.stop - 1)\n",
    "\n",
    "    orders_filtered = orders.query(\"channel != 'organic'\") if without_organic else orders\n",
    "\n",
    "    roi = (\n",
    "        orders_filtered.query(\"first_session_date <= @max_registration_date\")\n",
    "        .pivot_table(index=by, columns=\"order_lifetime\", values=\"revenue\", aggfunc=\"sum\")\n",
    "        .fillna(0)\n",
    "        .cumsum(axis=1)\n",
    "        .loc[:, analysis_horizon]\n",
    "        .drop(\"organic\", errors=\"ignore\")\n",
    "    )\n",
    "\n",
    "    profiles_filtered = profiles.query(\"first_session_date <= @max_registration_date\")\n",
    "    cac = profiles_filtered.groupby(by)[\"cac\"].sum() if by else profiles_filtered[\"cac\"].sum()\n",
    "\n",
    "    profiles_filtered = profiles_filtered.query(\"channel != 'organic'\") if without_organic else profiles_filtered\n",
    "    cohort_size = profiles_filtered.groupby(by)[\"user_id\"].count() if by else len(profiles_filtered)\n",
    "\n",
    "    for df in [roi, cac, cohort_size]:\n",
    "        if isinstance(df, (pd.Series, pd.DataFrame)):\n",
    "            df.drop(\"organic\", errors=\"ignore\", inplace=True)\n",
    "\n",
    "    roi = roi.div(cac, axis=0)\n",
    "    roi.insert(0, \"cohort_size\", cohort_size)\n",
    "\n",
    "    return roi"
   ]
  },
  {
   "cell_type": "code",
   "execution_count": null,
   "id": "a717488c",
   "metadata": {
    "ExecuteTime": {
     "end_time": "2022-07-27T21:15:25.290860Z",
     "start_time": "2022-07-27T21:15:25.287626Z"
    },
    "id": "a717488c"
   },
   "outputs": [],
   "source": [
    "def plot_roi(analysis_horizon, by=None, without_organic=True, transposed=False, **kwargs):\n",
    "    title = kwargs.get(\"title\", f\"ROI by {by}\" if by else \"ROI\")\n",
    "\n",
    "    roi = get_roi(analysis_horizon, by, without_organic).drop(\"cohort_size\", axis=1)\n",
    "    roi = roi.T if transposed else roi\n",
    "\n",
    "    fig = px.line(roi.T, labels={\"value\": \"ROI\", \"order_lifetime\": \"lifetime\"}, title=title)\n",
    "    fig.add_hline(y=1, line_color=\"red\")\n",
    "    fig.update_layout(xaxis_linecolor=\"black\", yaxis_linecolor=\"black\", yaxis_rangemode=\"tozero\")\n",
    "\n",
    "    if len(fig.data) == 1:\n",
    "        fig.update_layout(showlegend=False)\n",
    "\n",
    "    return fig"
   ]
  },
  {
   "cell_type": "code",
   "execution_count": null,
   "id": "89c5a2a5",
   "metadata": {
    "ExecuteTime": {
     "end_time": "2022-07-27T21:15:25.294249Z",
     "start_time": "2022-07-27T21:15:25.291862Z"
    },
    "id": "89c5a2a5"
   },
   "outputs": [],
   "source": [
    "def plot_roi_by_lifetime(lifetime, by, period, window, without_organic=True):\n",
    "    roi = (\n",
    "        get_roi(lifetime + 1, [by, f\"first_session_{period}\"], without_organic)\n",
    "        .reset_index()\n",
    "        .pivot(index=f\"first_session_{period}\", columns=by, values=lifetime)\n",
    "        .rolling(window)\n",
    "        .mean()\n",
    "    )\n",
    "\n",
    "    fig = px.line(roi, labels={\"value\": \"ROI\"}, title=f\"ROI by {by} on the {lifetime+1}th day\")\n",
    "    fig.add_hline(y=1, line_color=\"red\")\n",
    "    fig.update_layout(xaxis_linecolor=\"black\", yaxis_linecolor=\"black\", yaxis_rangemode=\"tozero\")\n",
    "\n",
    "    return fig"
   ]
  },
  {
   "cell_type": "markdown",
   "id": "712cd46e",
   "metadata": {
    "id": "712cd46e"
   },
   "source": [
    "## Общий ROI"
   ]
  },
  {
   "cell_type": "code",
   "execution_count": null,
   "id": "63848543",
   "metadata": {
    "ExecuteTime": {
     "end_time": "2022-07-27T21:15:25.349833Z",
     "start_time": "2022-07-27T21:15:25.295202Z"
    },
    "colab": {
     "base_uri": "https://localhost:8080/",
     "height": 606,
     "referenced_widgets": [
      "113d9e87037641f19b31bc69a039b58a",
      "0ca389c403ae4612ad759d2da86e59c8",
      "e01c3e36c5954e6f9f852e53671eb79e",
      "9a6dc86ff5484d7d9bcb34ae9fef77e4",
      "b2701e5c89eb43278a55cf4e48e34c7f",
      "781ae5e830b74b23b565bc6d8dae610f",
      "ede4ba8b099642e1bc433cd75b3bcfda",
      "529e2e2edc074d0fafd33fefb1300262",
      "92e4d7fb89f346529bd13205f6ba1e63",
      "66188e1bb37d46f88849dbfe3dd4b61c"
     ]
    },
    "id": "63848543",
    "outputId": "6fabe7ef-cf08-4791-e8fb-9b73996f360a",
    "scrolled": false
   },
   "outputs": [],
   "source": [
    "analysis_horizon_slider = widgets.IntRangeSlider(value=(0, 14), min=0, max=60, style=widget_style)\n",
    "without_organic_widget = widgets.Dropdown(options=[True, False], value=True, style=widget_style)\n",
    "interact(\n",
    "    plot_roi,\n",
    "    analysis_horizon=analysis_horizon_slider,\n",
    "    by=fixed(None),\n",
    "    transposed=fixed(False),\n",
    "    without_organic=without_organic_widget,\n",
    ");"
   ]
  },
  {
   "cell_type": "markdown",
   "id": "322b1914",
   "metadata": {
    "id": "322b1914"
   },
   "source": [
    "Без учета органических пользователей на 14 день спустя момента привлечения пользователей общий ROI составляет 83% - меньше 1, значит, в целом реклама не окупается в первые 14 дней. Надо посмотреть, как ситуация менялась со временем."
   ]
  },
  {
   "cell_type": "markdown",
   "id": "64152a89",
   "metadata": {
    "id": "64152a89"
   },
   "source": [
    "## Динамика ROI"
   ]
  },
  {
   "cell_type": "code",
   "execution_count": null,
   "id": "17fa69a7",
   "metadata": {
    "ExecuteTime": {
     "end_time": "2022-07-27T21:15:25.353189Z",
     "start_time": "2022-07-27T21:15:25.350762Z"
    },
    "id": "17fa69a7"
   },
   "outputs": [],
   "source": [
    "def plot_roi_history(analysis_horizon, period, window, without_organic=False):\n",
    "    roi = (\n",
    "        get_roi(analysis_horizon, f\"first_session_{period}\", without_organic)\n",
    "        .drop(\"cohort_size\", axis=1)\n",
    "        .rolling(window)\n",
    "        .mean()\n",
    "    )\n",
    "\n",
    "    fig = px.line(roi, labels={\"value\": \"ROI\", \"order_lifetime\": \"lifetime\"}, title=\"ROI by date\")\n",
    "    fig.add_hline(y=1, line_color=\"red\")\n",
    "    fig.update_layout(xaxis_linecolor=\"black\", yaxis_linecolor=\"black\", yaxis_rangemode=\"tozero\")\n",
    "\n",
    "    return fig"
   ]
  },
  {
   "cell_type": "code",
   "execution_count": null,
   "id": "e2b740cf",
   "metadata": {
    "ExecuteTime": {
     "end_time": "2022-07-27T21:15:25.430460Z",
     "start_time": "2022-07-27T21:15:25.354120Z"
    },
    "colab": {
     "base_uri": "https://localhost:8080/",
     "height": 670,
     "referenced_widgets": [
      "05289ee999b44b76a7e6bb7b9938a2d5",
      "539e6647a43249c5b122a36bbf05aca4",
      "826c3f30d3bd45a28bb6c0a9bb5d638b",
      "4aec8e5612bd4aa0ad8f131206e616b3",
      "bcb5acb86be64f28a508867b99be9071",
      "84f9e0a01c57405e84087089d7524edd",
      "9bb959d8a2294a41959640fd94a5454a",
      "86d5914ad99546e6a71cf04774b03d92",
      "a3fb77c6a7ec4d2e85f06210476e95e3",
      "aaf8c12b51cf4484b08389f6f900ad90",
      "f92afbee05c043a4adb21a7f36e6c602",
      "41884ce2a8aa41c1a6d8746705735122",
      "1fae6e51649b4020b46399e8cd241db2",
      "fa6792e7d5c3479ebd307b4de2cadcba",
      "db0d0a1fc8e24e5a99b91d8cecede4be",
      "09dc44667b6247a78ee981da72ad1695"
     ]
    },
    "id": "e2b740cf",
    "outputId": "3f49f313-9652-445b-9931-445936a3b98f"
   },
   "outputs": [],
   "source": [
    "analysis_horizon_slider = widgets.IntRangeSlider(value=(12, 14), min=0, max=60, style=widget_style)\n",
    "without_organic_widget = widgets.Dropdown(options=[True, False], value=True, style=widget_style)\n",
    "interact(\n",
    "    plot_roi_history,\n",
    "    analysis_horizon=analysis_horizon_slider,\n",
    "    period=[\"date\", \"week\", \"month\"],\n",
    "    window=widgets.IntSlider(5, 1, 30),\n",
    "    without_organic=without_organic_widget,\n",
    ");"
   ]
  },
  {
   "cell_type": "markdown",
   "id": "b7aa6c94",
   "metadata": {
    "id": "b7aa6c94"
   },
   "source": [
    "С течением времени можно наблюдать общее снижение ROI. После первой половины июня ROI упало ниже 1 и реклама перестала окупаться. Последний месяц ROI на 14 день падает и равен 0.67-0.70 для когорт последних 2 недель."
   ]
  },
  {
   "cell_type": "markdown",
   "id": "b3ef839c",
   "metadata": {
    "id": "b3ef839c"
   },
   "source": [
    "## ROI по региону"
   ]
  },
  {
   "cell_type": "code",
   "execution_count": null,
   "id": "99c424c6",
   "metadata": {
    "ExecuteTime": {
     "end_time": "2022-07-27T21:15:25.501564Z",
     "start_time": "2022-07-27T21:15:25.431571Z"
    },
    "colab": {
     "base_uri": "https://localhost:8080/",
     "height": 606,
     "referenced_widgets": [
      "46fa47be3e6e42f28afa30a59510998d",
      "62a4376fa3c94da199c4583563019658",
      "e0784e9827ed40379574df78df9f17db",
      "8ed622228bd94f84bfb2f5c1f7a82ec7",
      "bc77a50f0e8046a7bb2ca524d01eb1fb",
      "0fbe8e3ced6f4fb48c1408ca0b0f140a",
      "184e23d4d0fe44059d87b226a3ddbc5b",
      "ba254f5b98a7420facb85435676a8550",
      "169bc8d8d518449b887b5cfb0582d41f",
      "f57f923d01ff4468b9ed5611d55eddc4"
     ]
    },
    "id": "99c424c6",
    "outputId": "e2c7d329-6436-487c-8459-2f27b0fabc85"
   },
   "outputs": [],
   "source": [
    "analysis_horizon_slider = widgets.IntRangeSlider(value=(0, 14), min=0, max=60, style=widget_style)\n",
    "without_organic_widget = widgets.Dropdown(options=[True, False], value=True, style=widget_style)\n",
    "interact(\n",
    "    plot_roi,\n",
    "    analysis_horizon=analysis_horizon_slider,\n",
    "    by=fixed(\"region\"),\n",
    "    transposed=fixed(False),\n",
    "    without_organic=without_organic_widget,\n",
    ");"
   ]
  },
  {
   "cell_type": "markdown",
   "id": "fc3cbc8d",
   "metadata": {
    "id": "fc3cbc8d"
   },
   "source": [
    "Европейские страны сильно обходят США в прибыльности - они окупаются уже на 5 день, в то время как США только на 33."
   ]
  },
  {
   "cell_type": "code",
   "execution_count": null,
   "id": "0e007761",
   "metadata": {
    "ExecuteTime": {
     "end_time": "2022-07-27T21:15:25.579038Z",
     "start_time": "2022-07-27T21:15:25.502500Z"
    },
    "colab": {
     "base_uri": "https://localhost:8080/",
     "height": 606,
     "referenced_widgets": [
      "26aa7452f5b545989c7aa465764c9c42",
      "5a1b8fe916f040f3999ea9bb23633ea4",
      "63600aae5a14424286e2aa634c4fb0fb",
      "564ea49820994838a51ff8e1cd4d9df9",
      "74fcf47550454092b0b32396a014407d",
      "04fa7bd1bfc24b45be17728153fa0316",
      "4bb9b44c2cea40ffb3ec3f493813672d",
      "42d6f7205a4846f1a7aea303d98578e5",
      "1c75db8b1cf44c868929b6dd042a4406",
      "f86aea0ee54c48b1a17142346d854e7b"
     ]
    },
    "id": "0e007761",
    "outputId": "dc6fd59d-340d-4fbe-8219-c1aa6694f0fd"
   },
   "outputs": [],
   "source": [
    "analysis_horizon_slider = widgets.IntRangeSlider(value=(0, 14), min=0, max=60, style=widget_style)\n",
    "without_organic_widget = widgets.Dropdown(options=[False, True], value=False, style=widget_style)\n",
    "\n",
    "interact(\n",
    "    plot_roi,\n",
    "    analysis_horizon=analysis_horizon_slider,\n",
    "    by=fixed(\"region\"),\n",
    "    transposed=fixed(True),\n",
    "    without_organic=without_organic_widget,\n",
    ");"
   ]
  },
  {
   "cell_type": "code",
   "execution_count": null,
   "id": "30041c4a",
   "metadata": {
    "ExecuteTime": {
     "end_time": "2022-07-27T21:15:25.662424Z",
     "start_time": "2022-07-27T21:15:25.580016Z"
    },
    "colab": {
     "base_uri": "https://localhost:8080/",
     "height": 670,
     "referenced_widgets": [
      "9cab0dc821af4989b117cd2a7e9ddfda",
      "50ba195dab334d138765745f4accce50",
      "56886fe0a39d4627816f8e9c34c50aa1",
      "16ad3b6e65894a32be3b07c23e60cccc",
      "5e42749aeb374f20a34fdb5a1b4418a3",
      "0981545cbb0c471aa15cdc1872651845",
      "e9ad91e012634bfcbaaf51fbb54ade53",
      "90f333113bbf436f97821eed7aa460e3",
      "b97c4e5cd12d4f3aac5b8767e9923041",
      "4dedeaabaaf5443b8034fdfd318385b5",
      "72263c2a9c8c4d4cbb84d720842fc615",
      "c1bcbf7b1ed044aab4b47a73e8079ae6",
      "9b7b563537054ae6bdfd0800716eee07",
      "a1e1a3315dc14191ad5eb79454d4291d",
      "828401b04acc47a4afbe659431466f20",
      "4e1899cd19354949ad5acb2970aed7bc"
     ]
    },
    "id": "30041c4a",
    "outputId": "b34d7dd9-3b9f-47fc-ff05-157cbeffaaa3"
   },
   "outputs": [],
   "source": [
    "without_organic_widget = widgets.Dropdown(options=[False, True], value=False, style=widget_style)\n",
    "interact(\n",
    "    plot_roi_by_lifetime,\n",
    "    lifetime=widgets.IntSlider(14, 1, 30),\n",
    "    by=fixed(\"region\"),\n",
    "    period=[\"date\", \"week\", \"month\"],\n",
    "    window=widgets.IntSlider(10, 1, 30),\n",
    "    without_organic=without_organic_widget,\n",
    ");"
   ]
  },
  {
   "cell_type": "markdown",
   "id": "0d3e2bea",
   "metadata": {
    "id": "0d3e2bea"
   },
   "source": [
    "У США наблюдается тенденция к снижению ROI со временем - после июня реклама перестала окупаться. У остальных регионов не наблюдается зависимость ROI от времени."
   ]
  },
  {
   "cell_type": "markdown",
   "id": "50b033b9",
   "metadata": {
    "id": "50b033b9"
   },
   "source": [
    "## ROI по устройству"
   ]
  },
  {
   "cell_type": "code",
   "execution_count": null,
   "id": "685f270a",
   "metadata": {
    "ExecuteTime": {
     "end_time": "2022-07-27T21:15:25.731943Z",
     "start_time": "2022-07-27T21:15:25.663577Z"
    },
    "colab": {
     "base_uri": "https://localhost:8080/",
     "height": 606,
     "referenced_widgets": [
      "777aa7dcb2914651a5bd32834c77ff7a",
      "b8a11d13dfa64cd785ca042b0b1198bf",
      "f421bdd8933d403ea00d0427f504bf26",
      "87846e14f0ea457791ddfde4576d7b14",
      "7bec02f4f1be413b95ce11aed841716f",
      "83b160098c304761ab79adf2a1ec697b",
      "9f24afe48f82473d98ce3bcaf7e3e52c",
      "76bc424b1fca43088d1cf69037b37432",
      "907bbdee47404e8b8eacd84599a79e4b",
      "2145114293404ccd8b2ae7baed85b397"
     ]
    },
    "id": "685f270a",
    "outputId": "85e2a917-2c6e-4c45-8499-6e5414f8d86d"
   },
   "outputs": [],
   "source": [
    "analysis_horizon_slider = widgets.IntRangeSlider(value=(0, 14), min=0, max=60, style=widget_style)\n",
    "without_organic_widget = widgets.Dropdown(options=[True, False], value=True, style=widget_style)\n",
    "interact(\n",
    "    plot_roi,\n",
    "    analysis_horizon=analysis_horizon_slider,\n",
    "    by=fixed(\"device\"),\n",
    "    transposed=fixed(False),\n",
    "    without_organic=without_organic_widget,\n",
    ");"
   ]
  },
  {
   "cell_type": "markdown",
   "id": "4ddde629",
   "metadata": {
    "id": "4ddde629"
   },
   "source": [
    "Айфон и мак уступают андройду и PC по прибыльности, но все равно окупаются только пользователи PC. "
   ]
  },
  {
   "cell_type": "code",
   "execution_count": null,
   "id": "da3d7397",
   "metadata": {
    "ExecuteTime": {
     "end_time": "2022-07-27T21:15:25.818384Z",
     "start_time": "2022-07-27T21:15:25.733010Z"
    },
    "colab": {
     "base_uri": "https://localhost:8080/",
     "height": 606,
     "referenced_widgets": [
      "3ae8472a3ce54b80bddbe0043d48b545",
      "1b8b29d96f964338bc0419179bb69fab",
      "34155597aef9441596fa30197ccbe1fd",
      "29e8c4c5c9364798b5c97acb6a6b3081",
      "941728bfe79c41c0b0f182449a3de4c3",
      "f6a4d647b9a748ffa690da48c9c74b42",
      "eab40037967c47b49fbc85ef95fcd3bf",
      "9e06bb7eb06a467ab5499d590fd569e4",
      "c1cf347f0a694ec5bbfe6c1897d999de",
      "5cc707a34da74746803b6174fc908d31"
     ]
    },
    "id": "da3d7397",
    "outputId": "2dc9b683-13fd-4c86-92b4-27c55db8450f",
    "scrolled": false
   },
   "outputs": [],
   "source": [
    "analysis_horizon_slider = widgets.IntRangeSlider(value=(0, 14), min=0, max=60, style=widget_style)\n",
    "without_organic_widget = widgets.Dropdown(options=[True, False], value=True, style=widget_style)\n",
    "interact(\n",
    "    plot_roi,\n",
    "    analysis_horizon=analysis_horizon_slider,\n",
    "    by=fixed(\"device\"),\n",
    "    transposed=fixed(True),\n",
    "    without_organic=without_organic_widget,\n",
    ");"
   ]
  },
  {
   "cell_type": "code",
   "execution_count": null,
   "id": "18a950c1",
   "metadata": {
    "ExecuteTime": {
     "end_time": "2022-07-27T21:15:25.918452Z",
     "start_time": "2022-07-27T21:15:25.819207Z"
    },
    "colab": {
     "base_uri": "https://localhost:8080/",
     "height": 670,
     "referenced_widgets": [
      "441ef8ddd9584f0babd94abecd419832",
      "97a83ae4de844f62887608cba25a27f4",
      "e7e147f9fd494590acd781a3e2c1d658",
      "2edfc8e27a4a4a7e8ae5721a84c1dab9",
      "68c9428f4b8649ccb580b210e846403d",
      "2b4ba04a02e14899a9daaf2e2b9148a9",
      "cdfec5cea29c4211a015d96838160840",
      "10ca4a4a859a488985872cac5dc09f64",
      "a30fbc5e9a9a4206b1b84a31ab3567c8",
      "b3ee74b5443a477a932d2e42eca358fa",
      "42227b4a08004e2c8b177d5ea10ca5b1",
      "45a38ed7798a4c058ca4fc84866c8eb4",
      "82fb5a3846c44ee586135dd930f698ea",
      "15ee3abb7b4640bbb83974a58f72708f",
      "8a64bfaddbe446a5b2f293d9a9e789a4",
      "23764b2c53294664bfaf6cc87660318a"
     ]
    },
    "id": "18a950c1",
    "outputId": "5d229136-4763-40f5-9163-1ba4d2815234"
   },
   "outputs": [],
   "source": [
    "without_organic_widget = widgets.Dropdown(options=[True, False], value=True, style=widget_style)\n",
    "interact(\n",
    "    plot_roi_by_lifetime,\n",
    "    lifetime=widgets.IntSlider(14, 1, 30),\n",
    "    by=fixed(\"device\"),\n",
    "    period=[\"date\", \"week\", \"month\"],\n",
    "    window=widgets.IntSlider(10, 1, 30),\n",
    "    without_organic=without_organic_widget,\n",
    ");"
   ]
  },
  {
   "cell_type": "markdown",
   "id": "1b895ec0",
   "metadata": {
    "id": "1b895ec0"
   },
   "source": [
    "ROI уменьшается со временем по всем девайсам, но по макбукам и айфонам больше."
   ]
  },
  {
   "cell_type": "markdown",
   "id": "6c111644",
   "metadata": {
    "id": "6c111644"
   },
   "source": [
    "## ROI по каналу привлечения"
   ]
  },
  {
   "cell_type": "code",
   "execution_count": null,
   "id": "e1966511",
   "metadata": {
    "ExecuteTime": {
     "end_time": "2022-07-27T21:15:26.005878Z",
     "start_time": "2022-07-27T21:15:25.919969Z"
    },
    "colab": {
     "base_uri": "https://localhost:8080/",
     "height": 606,
     "referenced_widgets": [
      "c2ef1b357b9a4f08b298463958c521fc",
      "75c54df68f824e7ca0f8a95ab022b7ec",
      "242fc8625fe348f58d9c1705775934b7",
      "9f46c2466bb647d3b45b363d39024ab1",
      "bde562b2f11747a0adaf27e933828914",
      "cbab6b43578c42939f49539cc43dc03d",
      "2f5611053c564980b982c69ba5b0ed5b",
      "ae4c61a194864037bcf352122a4f7861",
      "0ef013cc4c0b43cf9d32c6705f1b7bfb",
      "86f3aad7127349f3a639fb1f5cc5a762"
     ]
    },
    "id": "e1966511",
    "outputId": "a481a1a0-9c85-4b31-cd42-17a4b43decee"
   },
   "outputs": [],
   "source": [
    "analysis_horizon_slider = widgets.IntRangeSlider(value=(0, 14), min=0, max=60, style=widget_style)\n",
    "without_organic_widget = widgets.Dropdown(options=[True, False], value=True, style=widget_style)\n",
    "interact(\n",
    "    plot_roi,\n",
    "    analysis_horizon=analysis_horizon_slider,\n",
    "    by=fixed(\"channel\"),\n",
    "    transposed=fixed(False),\n",
    "    without_organic=without_organic_widget,\n",
    ");"
   ]
  },
  {
   "cell_type": "markdown",
   "id": "497531e9",
   "metadata": {
    "id": "497531e9"
   },
   "source": [
    "Каналы TipTop, FaceBoom и AdNonSense не окупаются даже на 30 день. На 60 день у каналов FaceBoom и AdNonSense ROI все еще ниже 1, а у TipTop - 1.3, в то время как у других каналов от 3.5 до 5.5.\n",
    "\n",
    "Почему так просходит?\n",
    "\n",
    "У канала TipTop, несмотря на относительно высокий ARPU, очень высокий CPA, что делает этот канал крайне неприбыльным.\n",
    "\n",
    "У каналов FaceBoom и AdNonSense тоже относительно высокие ARPU, но все еще ниже, чем их CPA. Причем, у этих каналов низкие ARPPU, покупатели с этих каналов совершают 1-2 покупки, поэтому их ROI не растет со временем, в отличие от TipTop."
   ]
  },
  {
   "cell_type": "code",
   "execution_count": null,
   "id": "5ed74c7c",
   "metadata": {
    "ExecuteTime": {
     "end_time": "2022-07-27T21:15:26.102318Z",
     "start_time": "2022-07-27T21:15:26.007280Z"
    },
    "colab": {
     "base_uri": "https://localhost:8080/",
     "height": 606,
     "referenced_widgets": [
      "903bb8ec6b2943ef84a65d06ce5cf4c3",
      "8732201255c241f480dbd52c657e6881",
      "12913cf49afc47e89caa795590ac9a2f",
      "da710bb9d6a94f7c95e9ee365a213044",
      "83bf621fd3d749e0847ad9449801f91f",
      "0ed3f94289bd4f309b5d69a76dfac442",
      "4448410c33d54684b8ed5db013040e37",
      "851c7cb789e94a76bd56a0ef02b0e6bd",
      "6208daf701364a85b6235e7dbb07d936",
      "38a1a289e1314762b47865a1fff451bf"
     ]
    },
    "id": "5ed74c7c",
    "outputId": "ef09be85-5326-43c6-c1bd-1e2fdc82a511"
   },
   "outputs": [],
   "source": [
    "analysis_horizon_slider = widgets.IntRangeSlider(value=(0, 14), min=0, max=60, style=widget_style)\n",
    "without_organic_widget = widgets.Dropdown(options=[True, False], value=True, style=widget_style)\n",
    "interact(\n",
    "    plot_roi,\n",
    "    analysis_horizon=analysis_horizon_slider,\n",
    "    by=fixed(\"channel\"),\n",
    "    transposed=fixed(True),\n",
    "    without_organic=without_organic_widget,\n",
    ");"
   ]
  },
  {
   "cell_type": "markdown",
   "id": "babaf133",
   "metadata": {},
   "source": [
    "Лучше всего окупаются каналы YRabbit, MediaTornado, lambdaMediaAds, LeapBob и RocketSuperAds."
   ]
  },
  {
   "cell_type": "code",
   "execution_count": null,
   "id": "3462ece7",
   "metadata": {
    "ExecuteTime": {
     "end_time": "2022-07-27T21:15:26.227152Z",
     "start_time": "2022-07-27T21:15:26.103352Z"
    },
    "colab": {
     "base_uri": "https://localhost:8080/",
     "height": 670,
     "referenced_widgets": [
      "160cc2ae500a4909aed058f80b0c728d",
      "14ee3b244c6d45fba1dad8f433e97565",
      "74976dfc21ac4b18ad31b8a20047994e",
      "fd6fd317a177463eb603c821e7d3ecbc",
      "7cd3bca7adbf415ba72b49badbade22a",
      "695f861b5b8848c6b48104fc8fa8d2fd",
      "26f5b98982e04a98b74bb42a15b13273",
      "79c79c82fa2e4f0eafb3ccf87ea917aa",
      "6c00715c8d8a48259efbde0eac719a43",
      "2f5e91568bc4444293376e8ade91f5de",
      "cf6213399a174240aa141eb462fa5b2b",
      "17a6ba0c350e484489b45a0dae95122b",
      "9761e6418ec04f208374ffc7890e2ffc",
      "3c8256c956f044d886709e81e587d985",
      "cd4f385c01404a608a26413db0b93ac8",
      "460a00cb4b484503b061c20ec624d454"
     ]
    },
    "id": "3462ece7",
    "outputId": "0b2a3196-b6b2-4fad-cc9e-80f5ac389576",
    "scrolled": false
   },
   "outputs": [],
   "source": [
    "without_organic_widget = widgets.Dropdown(options=[True, False], value=True, style=widget_style)\n",
    "interact(\n",
    "    plot_roi_by_lifetime,\n",
    "    lifetime=widgets.IntSlider(14, 1, 30),\n",
    "    by=fixed(\"channel\"),\n",
    "    period=[\"date\", \"week\", \"month\"],\n",
    "    window=widgets.IntSlider(10, 1, 30),\n",
    "    without_organic=without_organic_widget,\n",
    ");"
   ]
  },
  {
   "cell_type": "markdown",
   "id": "95c72a0f",
   "metadata": {
    "id": "95c72a0f"
   },
   "source": [
    "ROI падает для канала TipTop и остается таким же для канала FaceBoom."
   ]
  },
  {
   "cell_type": "markdown",
   "id": "a2f0b577",
   "metadata": {},
   "source": [
    "## Выводы по ROI"
   ]
  },
  {
   "cell_type": "markdown",
   "id": "16bc6fb8",
   "metadata": {},
   "source": [
    "Начиная с июня реклама перестала окупаться в первые 2 недели. Это связано с каналами FaceBoom, TipTop и AdNonSense. Это единственные каналы, неокупающиеся за 14 дней. Это просходит по причине высокой стоимости рекламы у этих каналов - несмотря на высокие ARPU и конверсию, CPA их перевешивает. По этой причине, так как FaceBoom и TipTop - преимущественно каналы США, то ROI там сильно ниже, чем в остальных регионах, и именно ROI США со временем становится ниже. Также низкий ROI у пользователей маков и айфонов - они преимущественно пользователи из США. AdNonSense - европейский канал, но он занимает всего 8% пользователей, так что это не так сильно сказывается на ROI европейских стран."
   ]
  },
  {
   "cell_type": "markdown",
   "id": "c05d4e78",
   "metadata": {},
   "source": [
    "# Итог"
   ]
  },
  {
   "cell_type": "markdown",
   "id": "8eb0431a",
   "metadata": {},
   "source": [
    "Были даны данные о сессиях пользователей, их заказах и расходах на рекламу. Пропусков и дубликатов в них не было, так что предобрабатывать данные не пришлось.\n",
    "\n",
    "**Выводы:**\n",
    "\n",
    "*Общее*\n",
    "\n",
    "* Больше половины сессий происходит из США, а самым популярным устройством является айфон.\n",
    "\n",
    "* Чаще всего пользователи приходят сами, а из рекламных источников лидируют TipTop и FaceBoom.\n",
    "\n",
    "*Удержание*\n",
    "\n",
    "* Удержание за первые две недели снижается с 20% до 1% и не зависит от региона, устройства и даты регистрации. \n",
    "\n",
    "* Выше всего удержание у каналов lambdaMediaAds, TipTop и RocketSuperAds. Ниже всего удержание у FaceBoom, AdNonSense и у органических пользователей.\n",
    "\n",
    "*Конверсия*\n",
    "\n",
    "* Почти все покупатели конвертируются за первые 14 дней, их количество составляет примерно 5% от всех пользователей. Тенденции по времени регистрации не наблюдается.\n",
    "\n",
    "* В США конверсия почти в 2 раза выше, чем в остальных регионах.\n",
    "\n",
    "* Среди устройств лучше всего конвертируются пользователи мака, хуже всего - PC.\n",
    "\n",
    "* Выше всего конверсия у каналов FaceBoom, AdNonSense и lambdaMediaAds. Ниже всего у LeapBob, OppleCreativeMedia и у органических пользователей.\n",
    "\n",
    "*Стоимость рекламы*\n",
    "\n",
    "* Стоимость рекламы растет со временем, причем причиной этому, судя по всему, является CPA канала TipTop - в отличие от остальных каналов, они на протяжении всего года повышали стоимость своей рекламы.\n",
    "\n",
    "**Причины убыточности:**\n",
    "\n",
    "Приложение несет убытки из-за неокупаемость рекламы. Она идет с 3 каналов:\n",
    "\n",
    "&emsp; **TipTop** - канал, в основном распространенный в США. Пользователи, пришедшие с этого канала, приносят высокую выручку, но канал на протяжении всего года повышал стоимость своей рекламы, так что в итоге стоимость привлечения клиентов сильно превышает выручку, что делает канал не рентабельным (на октябрь APRU 1.5 против CAC 3.5).\n",
    "\n",
    "\n",
    "&emsp; **FaceBoom** - тоже канал, распространенный только в США. Покупатели, пришедшие с их рекламы, почему-то совершают максимум 1-2 покупки, в то время как у остальных каналов клиенты делают по 6-7 покупок. У них так же относительно немалая стоимость рекламы, поэтому она перевешивает выручку (на октябрь APRU 0.85 против CAC 1.11).\n",
    "\n",
    "Оба этих канала приносят ~80% всех клиентов США и 60% всех клиентов. Нужно либо искать новые каналы, либо договориться о снижении цены рекламы. У FaceBoom нужно выяснить, почему покупатели делают максимум 1-2 покупки - от устройства это не зависит.\n",
    "\n",
    "Без снижения цены рекламы сделать каналы прибыльными не получится, так как у канала TipTop и так одни из самых высоких конверсия и удержание. У FaceBoom точка роста - попытаться увеличить удержание; на текущий момент у них одно из самых низких удержаний (на 7 день 1.5% против 4% у канала TipTop).\n",
    "\n",
    "&emsp; **AdNonSense** - малопопулярный европейский канал. Так же как и у FaceBoom покупатели делают максимум 1-2 покупки. Среди европейских каналов у них самая высокая цена привлечения клиентов (CAC 1 против 0.5 у остальных каналов). Нужно разобраться, почему покупатели делают мало покупок, а также попытаться снизить цену на рекламу."
   ]
  }
 ],
 "metadata": {
  "ExecuteTimeLog": [
   {
    "duration": 1138,
    "start_time": "2022-06-21T08:47:22.949Z"
   },
   {
    "duration": 240,
    "start_time": "2022-06-21T08:47:24.090Z"
   },
   {
    "duration": 177,
    "start_time": "2022-06-21T08:47:24.331Z"
   },
   {
    "duration": 0,
    "start_time": "2022-06-21T08:47:24.516Z"
   },
   {
    "duration": 0,
    "start_time": "2022-06-21T08:47:24.517Z"
   },
   {
    "duration": 0,
    "start_time": "2022-06-21T08:47:24.519Z"
   },
   {
    "duration": 0,
    "start_time": "2022-06-21T08:47:24.520Z"
   },
   {
    "duration": 0,
    "start_time": "2022-06-21T08:47:24.522Z"
   },
   {
    "duration": 0,
    "start_time": "2022-06-21T08:47:24.526Z"
   },
   {
    "duration": 0,
    "start_time": "2022-06-21T08:47:24.529Z"
   },
   {
    "duration": 0,
    "start_time": "2022-06-21T08:47:24.530Z"
   },
   {
    "duration": 0,
    "start_time": "2022-06-21T08:47:24.532Z"
   },
   {
    "duration": 0,
    "start_time": "2022-06-21T08:47:24.533Z"
   },
   {
    "duration": 0,
    "start_time": "2022-06-21T08:47:24.535Z"
   },
   {
    "duration": 0,
    "start_time": "2022-06-21T08:47:24.536Z"
   },
   {
    "duration": 0,
    "start_time": "2022-06-21T08:47:24.538Z"
   },
   {
    "duration": 0,
    "start_time": "2022-06-21T08:47:24.539Z"
   },
   {
    "duration": 0,
    "start_time": "2022-06-21T08:47:24.541Z"
   },
   {
    "duration": 0,
    "start_time": "2022-06-21T08:47:24.542Z"
   },
   {
    "duration": 0,
    "start_time": "2022-06-21T08:47:24.545Z"
   },
   {
    "duration": 0,
    "start_time": "2022-06-21T08:47:24.546Z"
   },
   {
    "duration": 0,
    "start_time": "2022-06-21T08:47:24.547Z"
   },
   {
    "duration": 0,
    "start_time": "2022-06-21T08:47:24.548Z"
   },
   {
    "duration": 0,
    "start_time": "2022-06-21T08:47:24.550Z"
   },
   {
    "duration": 0,
    "start_time": "2022-06-21T08:47:24.551Z"
   },
   {
    "duration": 0,
    "start_time": "2022-06-21T08:47:24.553Z"
   },
   {
    "duration": 1,
    "start_time": "2022-06-21T08:47:24.555Z"
   },
   {
    "duration": 0,
    "start_time": "2022-06-21T08:47:24.557Z"
   },
   {
    "duration": 0,
    "start_time": "2022-06-21T08:47:24.558Z"
   },
   {
    "duration": 0,
    "start_time": "2022-06-21T08:47:24.559Z"
   },
   {
    "duration": 0,
    "start_time": "2022-06-21T08:47:24.561Z"
   },
   {
    "duration": 0,
    "start_time": "2022-06-21T08:47:24.565Z"
   },
   {
    "duration": 0,
    "start_time": "2022-06-21T08:47:24.628Z"
   },
   {
    "duration": 0,
    "start_time": "2022-06-21T08:47:24.630Z"
   },
   {
    "duration": 0,
    "start_time": "2022-06-21T08:47:24.632Z"
   },
   {
    "duration": 0,
    "start_time": "2022-06-21T08:47:24.634Z"
   },
   {
    "duration": 0,
    "start_time": "2022-06-21T08:47:24.635Z"
   },
   {
    "duration": 0,
    "start_time": "2022-06-21T08:47:24.637Z"
   },
   {
    "duration": 0,
    "start_time": "2022-06-21T08:47:24.638Z"
   },
   {
    "duration": 0,
    "start_time": "2022-06-21T08:47:24.639Z"
   },
   {
    "duration": 0,
    "start_time": "2022-06-21T08:47:24.640Z"
   },
   {
    "duration": 0,
    "start_time": "2022-06-21T08:47:24.642Z"
   },
   {
    "duration": 0,
    "start_time": "2022-06-21T08:47:24.643Z"
   },
   {
    "duration": 0,
    "start_time": "2022-06-21T08:47:24.644Z"
   },
   {
    "duration": 0,
    "start_time": "2022-06-21T08:47:24.646Z"
   },
   {
    "duration": 0,
    "start_time": "2022-06-21T08:47:24.648Z"
   },
   {
    "duration": 0,
    "start_time": "2022-06-21T08:47:24.649Z"
   },
   {
    "duration": 0,
    "start_time": "2022-06-21T08:47:24.651Z"
   },
   {
    "duration": 0,
    "start_time": "2022-06-21T08:47:24.653Z"
   },
   {
    "duration": 0,
    "start_time": "2022-06-21T08:47:24.654Z"
   },
   {
    "duration": 0,
    "start_time": "2022-06-21T08:47:24.656Z"
   },
   {
    "duration": 0,
    "start_time": "2022-06-21T08:47:24.658Z"
   },
   {
    "duration": 0,
    "start_time": "2022-06-21T08:47:24.659Z"
   },
   {
    "duration": 0,
    "start_time": "2022-06-21T08:47:24.661Z"
   },
   {
    "duration": 0,
    "start_time": "2022-06-21T08:47:24.662Z"
   },
   {
    "duration": 0,
    "start_time": "2022-06-21T08:47:24.664Z"
   },
   {
    "duration": 0,
    "start_time": "2022-06-21T08:47:24.727Z"
   },
   {
    "duration": 0,
    "start_time": "2022-06-21T08:47:24.729Z"
   },
   {
    "duration": 0,
    "start_time": "2022-06-21T08:47:24.730Z"
   },
   {
    "duration": 0,
    "start_time": "2022-06-21T08:47:24.732Z"
   },
   {
    "duration": 0,
    "start_time": "2022-06-21T08:47:24.733Z"
   },
   {
    "duration": 0,
    "start_time": "2022-06-21T08:47:24.734Z"
   },
   {
    "duration": 0,
    "start_time": "2022-06-21T08:47:24.736Z"
   },
   {
    "duration": 0,
    "start_time": "2022-06-21T08:47:24.737Z"
   },
   {
    "duration": 0,
    "start_time": "2022-06-21T08:47:24.739Z"
   },
   {
    "duration": 0,
    "start_time": "2022-06-21T08:47:24.740Z"
   },
   {
    "duration": 0,
    "start_time": "2022-06-21T08:47:24.742Z"
   },
   {
    "duration": 0,
    "start_time": "2022-06-21T08:47:24.743Z"
   },
   {
    "duration": 0,
    "start_time": "2022-06-21T08:47:24.745Z"
   },
   {
    "duration": 0,
    "start_time": "2022-06-21T08:47:24.746Z"
   },
   {
    "duration": 0,
    "start_time": "2022-06-21T08:47:24.748Z"
   },
   {
    "duration": 0,
    "start_time": "2022-06-21T08:47:24.749Z"
   },
   {
    "duration": 0,
    "start_time": "2022-06-21T08:47:24.751Z"
   },
   {
    "duration": 0,
    "start_time": "2022-06-21T08:47:24.752Z"
   },
   {
    "duration": 0,
    "start_time": "2022-06-21T08:47:24.754Z"
   },
   {
    "duration": 0,
    "start_time": "2022-06-21T08:47:24.755Z"
   },
   {
    "duration": 0,
    "start_time": "2022-06-21T08:47:24.757Z"
   },
   {
    "duration": 0,
    "start_time": "2022-06-21T08:47:24.758Z"
   },
   {
    "duration": 0,
    "start_time": "2022-06-21T08:47:24.759Z"
   },
   {
    "duration": 0,
    "start_time": "2022-06-21T08:47:24.761Z"
   },
   {
    "duration": 0,
    "start_time": "2022-06-21T08:47:24.762Z"
   },
   {
    "duration": 0,
    "start_time": "2022-06-21T08:47:24.826Z"
   },
   {
    "duration": 0,
    "start_time": "2022-06-21T08:47:24.827Z"
   },
   {
    "duration": 0,
    "start_time": "2022-06-21T08:47:24.829Z"
   },
   {
    "duration": 0,
    "start_time": "2022-06-21T08:47:24.830Z"
   },
   {
    "duration": 0,
    "start_time": "2022-06-21T08:47:24.831Z"
   },
   {
    "duration": 0,
    "start_time": "2022-06-21T08:47:24.832Z"
   },
   {
    "duration": 0,
    "start_time": "2022-06-21T08:47:24.834Z"
   },
   {
    "duration": 0,
    "start_time": "2022-06-21T08:47:24.835Z"
   },
   {
    "duration": 0,
    "start_time": "2022-06-21T08:47:24.836Z"
   },
   {
    "duration": 0,
    "start_time": "2022-06-21T08:47:24.837Z"
   },
   {
    "duration": 0,
    "start_time": "2022-06-21T08:47:24.838Z"
   },
   {
    "duration": 0,
    "start_time": "2022-06-21T08:47:24.839Z"
   },
   {
    "duration": 0,
    "start_time": "2022-06-21T08:47:24.840Z"
   },
   {
    "duration": 0,
    "start_time": "2022-06-21T08:47:24.841Z"
   },
   {
    "duration": 0,
    "start_time": "2022-06-21T08:47:24.842Z"
   },
   {
    "duration": 0,
    "start_time": "2022-06-21T08:47:24.843Z"
   },
   {
    "duration": 0,
    "start_time": "2022-06-21T08:47:24.845Z"
   },
   {
    "duration": 0,
    "start_time": "2022-06-21T08:47:24.846Z"
   },
   {
    "duration": 0,
    "start_time": "2022-06-21T08:47:24.847Z"
   },
   {
    "duration": 0,
    "start_time": "2022-06-21T08:47:24.848Z"
   },
   {
    "duration": 0,
    "start_time": "2022-06-21T08:47:24.849Z"
   },
   {
    "duration": 0,
    "start_time": "2022-06-21T08:47:24.850Z"
   },
   {
    "duration": 0,
    "start_time": "2022-06-21T08:47:24.852Z"
   },
   {
    "duration": 0,
    "start_time": "2022-06-21T08:47:24.853Z"
   },
   {
    "duration": 0,
    "start_time": "2022-06-21T08:47:24.853Z"
   },
   {
    "duration": 0,
    "start_time": "2022-06-21T08:47:24.854Z"
   },
   {
    "duration": 0,
    "start_time": "2022-06-21T08:47:24.855Z"
   },
   {
    "duration": 0,
    "start_time": "2022-06-21T08:47:24.856Z"
   },
   {
    "duration": 0,
    "start_time": "2022-06-21T08:47:24.858Z"
   },
   {
    "duration": 0,
    "start_time": "2022-06-21T08:47:24.859Z"
   },
   {
    "duration": 0,
    "start_time": "2022-06-21T08:47:24.860Z"
   },
   {
    "duration": 0,
    "start_time": "2022-06-21T08:47:24.927Z"
   },
   {
    "duration": 0,
    "start_time": "2022-06-21T08:47:24.928Z"
   },
   {
    "duration": 0,
    "start_time": "2022-06-21T08:47:24.930Z"
   },
   {
    "duration": 0,
    "start_time": "2022-06-21T08:47:24.931Z"
   },
   {
    "duration": 0,
    "start_time": "2022-06-21T08:47:24.933Z"
   },
   {
    "duration": 0,
    "start_time": "2022-06-21T08:47:24.934Z"
   },
   {
    "duration": 0,
    "start_time": "2022-06-21T08:47:24.936Z"
   },
   {
    "duration": 0,
    "start_time": "2022-06-21T08:47:24.937Z"
   },
   {
    "duration": 0,
    "start_time": "2022-06-21T08:47:24.939Z"
   },
   {
    "duration": 0,
    "start_time": "2022-06-21T08:47:24.940Z"
   },
   {
    "duration": 0,
    "start_time": "2022-06-21T08:47:24.942Z"
   },
   {
    "duration": 0,
    "start_time": "2022-06-21T08:47:24.943Z"
   },
   {
    "duration": 0,
    "start_time": "2022-06-21T08:47:24.945Z"
   },
   {
    "duration": 0,
    "start_time": "2022-06-21T08:47:24.946Z"
   },
   {
    "duration": 0,
    "start_time": "2022-06-21T08:47:24.947Z"
   },
   {
    "duration": 0,
    "start_time": "2022-06-21T08:47:24.948Z"
   },
   {
    "duration": 0,
    "start_time": "2022-06-21T08:47:24.950Z"
   },
   {
    "duration": 0,
    "start_time": "2022-06-21T08:47:24.951Z"
   },
   {
    "duration": 0,
    "start_time": "2022-06-21T08:47:24.952Z"
   },
   {
    "duration": 1131,
    "start_time": "2022-06-21T08:47:44.588Z"
   },
   {
    "duration": 1002,
    "start_time": "2022-06-21T08:47:51.858Z"
   },
   {
    "duration": 209,
    "start_time": "2022-06-21T08:47:52.862Z"
   },
   {
    "duration": 770,
    "start_time": "2022-06-21T08:47:53.073Z"
   },
   {
    "duration": 35,
    "start_time": "2022-06-21T08:47:53.845Z"
   },
   {
    "duration": 159,
    "start_time": "2022-06-21T08:47:53.882Z"
   },
   {
    "duration": 102,
    "start_time": "2022-06-21T08:47:54.043Z"
   },
   {
    "duration": 4,
    "start_time": "2022-06-21T08:47:54.146Z"
   },
   {
    "duration": 253,
    "start_time": "2022-06-21T08:47:54.152Z"
   },
   {
    "duration": 79,
    "start_time": "2022-06-21T08:47:54.407Z"
   },
   {
    "duration": 268,
    "start_time": "2022-06-21T08:47:54.488Z"
   },
   {
    "duration": 53,
    "start_time": "2022-06-21T08:47:54.758Z"
   },
   {
    "duration": 21,
    "start_time": "2022-06-21T08:47:54.812Z"
   },
   {
    "duration": 6,
    "start_time": "2022-06-21T08:47:54.834Z"
   },
   {
    "duration": 159,
    "start_time": "2022-06-21T08:47:54.843Z"
   },
   {
    "duration": 135,
    "start_time": "2022-06-21T08:47:55.006Z"
   },
   {
    "duration": 148,
    "start_time": "2022-06-21T08:47:55.145Z"
   },
   {
    "duration": 5,
    "start_time": "2022-06-21T08:47:55.298Z"
   },
   {
    "duration": 2368,
    "start_time": "2022-06-21T08:47:55.306Z"
   },
   {
    "duration": 2153,
    "start_time": "2022-06-21T08:47:57.677Z"
   },
   {
    "duration": 307,
    "start_time": "2022-06-21T08:47:59.832Z"
   },
   {
    "duration": 176,
    "start_time": "2022-06-21T08:48:00.141Z"
   },
   {
    "duration": 0,
    "start_time": "2022-06-21T08:48:00.328Z"
   },
   {
    "duration": 0,
    "start_time": "2022-06-21T08:48:00.330Z"
   },
   {
    "duration": 0,
    "start_time": "2022-06-21T08:48:00.331Z"
   },
   {
    "duration": 0,
    "start_time": "2022-06-21T08:48:00.333Z"
   },
   {
    "duration": 0,
    "start_time": "2022-06-21T08:48:00.334Z"
   },
   {
    "duration": 0,
    "start_time": "2022-06-21T08:48:00.336Z"
   },
   {
    "duration": 0,
    "start_time": "2022-06-21T08:48:00.337Z"
   },
   {
    "duration": 0,
    "start_time": "2022-06-21T08:48:00.338Z"
   },
   {
    "duration": 0,
    "start_time": "2022-06-21T08:48:00.340Z"
   },
   {
    "duration": 0,
    "start_time": "2022-06-21T08:48:00.341Z"
   },
   {
    "duration": 0,
    "start_time": "2022-06-21T08:48:00.343Z"
   },
   {
    "duration": 0,
    "start_time": "2022-06-21T08:48:00.344Z"
   },
   {
    "duration": 0,
    "start_time": "2022-06-21T08:48:00.346Z"
   },
   {
    "duration": 0,
    "start_time": "2022-06-21T08:48:00.347Z"
   },
   {
    "duration": 0,
    "start_time": "2022-06-21T08:48:00.348Z"
   },
   {
    "duration": 0,
    "start_time": "2022-06-21T08:48:00.349Z"
   },
   {
    "duration": 0,
    "start_time": "2022-06-21T08:48:00.350Z"
   },
   {
    "duration": 0,
    "start_time": "2022-06-21T08:48:00.351Z"
   },
   {
    "duration": 0,
    "start_time": "2022-06-21T08:48:00.353Z"
   },
   {
    "duration": 0,
    "start_time": "2022-06-21T08:48:00.354Z"
   },
   {
    "duration": 0,
    "start_time": "2022-06-21T08:48:00.355Z"
   },
   {
    "duration": 0,
    "start_time": "2022-06-21T08:48:00.356Z"
   },
   {
    "duration": 0,
    "start_time": "2022-06-21T08:48:00.357Z"
   },
   {
    "duration": 0,
    "start_time": "2022-06-21T08:48:00.358Z"
   },
   {
    "duration": 0,
    "start_time": "2022-06-21T08:48:00.359Z"
   },
   {
    "duration": 0,
    "start_time": "2022-06-21T08:48:00.360Z"
   },
   {
    "duration": 0,
    "start_time": "2022-06-21T08:48:00.361Z"
   },
   {
    "duration": 0,
    "start_time": "2022-06-21T08:48:00.362Z"
   },
   {
    "duration": 0,
    "start_time": "2022-06-21T08:48:00.363Z"
   },
   {
    "duration": 0,
    "start_time": "2022-06-21T08:48:00.426Z"
   },
   {
    "duration": 0,
    "start_time": "2022-06-21T08:48:00.427Z"
   },
   {
    "duration": 0,
    "start_time": "2022-06-21T08:48:00.428Z"
   },
   {
    "duration": 0,
    "start_time": "2022-06-21T08:48:00.429Z"
   },
   {
    "duration": 0,
    "start_time": "2022-06-21T08:48:00.431Z"
   },
   {
    "duration": 0,
    "start_time": "2022-06-21T08:48:00.432Z"
   },
   {
    "duration": 0,
    "start_time": "2022-06-21T08:48:00.433Z"
   },
   {
    "duration": 0,
    "start_time": "2022-06-21T08:48:00.434Z"
   },
   {
    "duration": 0,
    "start_time": "2022-06-21T08:48:00.435Z"
   },
   {
    "duration": 0,
    "start_time": "2022-06-21T08:48:00.436Z"
   },
   {
    "duration": 0,
    "start_time": "2022-06-21T08:48:00.437Z"
   },
   {
    "duration": 0,
    "start_time": "2022-06-21T08:48:00.438Z"
   },
   {
    "duration": 0,
    "start_time": "2022-06-21T08:48:00.439Z"
   },
   {
    "duration": 0,
    "start_time": "2022-06-21T08:48:00.440Z"
   },
   {
    "duration": 0,
    "start_time": "2022-06-21T08:48:00.441Z"
   },
   {
    "duration": 0,
    "start_time": "2022-06-21T08:48:00.442Z"
   },
   {
    "duration": 0,
    "start_time": "2022-06-21T08:48:00.444Z"
   },
   {
    "duration": 0,
    "start_time": "2022-06-21T08:48:00.445Z"
   },
   {
    "duration": 0,
    "start_time": "2022-06-21T08:48:00.446Z"
   },
   {
    "duration": 0,
    "start_time": "2022-06-21T08:48:00.447Z"
   },
   {
    "duration": 0,
    "start_time": "2022-06-21T08:48:00.449Z"
   },
   {
    "duration": 0,
    "start_time": "2022-06-21T08:48:00.450Z"
   },
   {
    "duration": 0,
    "start_time": "2022-06-21T08:48:00.451Z"
   },
   {
    "duration": 0,
    "start_time": "2022-06-21T08:48:00.452Z"
   },
   {
    "duration": 0,
    "start_time": "2022-06-21T08:48:00.454Z"
   },
   {
    "duration": 0,
    "start_time": "2022-06-21T08:48:00.455Z"
   },
   {
    "duration": 0,
    "start_time": "2022-06-21T08:48:00.457Z"
   },
   {
    "duration": 0,
    "start_time": "2022-06-21T08:48:00.458Z"
   },
   {
    "duration": 0,
    "start_time": "2022-06-21T08:48:00.459Z"
   },
   {
    "duration": 0,
    "start_time": "2022-06-21T08:48:00.461Z"
   },
   {
    "duration": 0,
    "start_time": "2022-06-21T08:48:00.462Z"
   },
   {
    "duration": 0,
    "start_time": "2022-06-21T08:48:00.527Z"
   },
   {
    "duration": 0,
    "start_time": "2022-06-21T08:48:00.528Z"
   },
   {
    "duration": 0,
    "start_time": "2022-06-21T08:48:00.530Z"
   },
   {
    "duration": 0,
    "start_time": "2022-06-21T08:48:00.531Z"
   },
   {
    "duration": 0,
    "start_time": "2022-06-21T08:48:00.532Z"
   },
   {
    "duration": 0,
    "start_time": "2022-06-21T08:48:00.534Z"
   },
   {
    "duration": 0,
    "start_time": "2022-06-21T08:48:00.535Z"
   },
   {
    "duration": 0,
    "start_time": "2022-06-21T08:48:00.536Z"
   },
   {
    "duration": 0,
    "start_time": "2022-06-21T08:48:00.538Z"
   },
   {
    "duration": 0,
    "start_time": "2022-06-21T08:48:00.539Z"
   },
   {
    "duration": 0,
    "start_time": "2022-06-21T08:48:00.540Z"
   },
   {
    "duration": 0,
    "start_time": "2022-06-21T08:48:00.542Z"
   },
   {
    "duration": 0,
    "start_time": "2022-06-21T08:48:00.543Z"
   },
   {
    "duration": 0,
    "start_time": "2022-06-21T08:48:00.544Z"
   },
   {
    "duration": 0,
    "start_time": "2022-06-21T08:48:00.545Z"
   },
   {
    "duration": 0,
    "start_time": "2022-06-21T08:48:00.547Z"
   },
   {
    "duration": 0,
    "start_time": "2022-06-21T08:48:00.548Z"
   },
   {
    "duration": 0,
    "start_time": "2022-06-21T08:48:00.550Z"
   },
   {
    "duration": 0,
    "start_time": "2022-06-21T08:48:00.551Z"
   },
   {
    "duration": 0,
    "start_time": "2022-06-21T08:48:00.552Z"
   },
   {
    "duration": 0,
    "start_time": "2022-06-21T08:48:00.553Z"
   },
   {
    "duration": 0,
    "start_time": "2022-06-21T08:48:00.554Z"
   },
   {
    "duration": 0,
    "start_time": "2022-06-21T08:48:00.555Z"
   },
   {
    "duration": 0,
    "start_time": "2022-06-21T08:48:00.556Z"
   },
   {
    "duration": 0,
    "start_time": "2022-06-21T08:48:00.557Z"
   },
   {
    "duration": 0,
    "start_time": "2022-06-21T08:48:00.558Z"
   },
   {
    "duration": 0,
    "start_time": "2022-06-21T08:48:00.559Z"
   },
   {
    "duration": 0,
    "start_time": "2022-06-21T08:48:00.561Z"
   },
   {
    "duration": 0,
    "start_time": "2022-06-21T08:48:00.562Z"
   },
   {
    "duration": 0,
    "start_time": "2022-06-21T08:48:00.563Z"
   },
   {
    "duration": 0,
    "start_time": "2022-06-21T08:48:00.563Z"
   },
   {
    "duration": 0,
    "start_time": "2022-06-21T08:48:00.564Z"
   },
   {
    "duration": 0,
    "start_time": "2022-06-21T08:48:00.628Z"
   },
   {
    "duration": 0,
    "start_time": "2022-06-21T08:48:00.629Z"
   },
   {
    "duration": 0,
    "start_time": "2022-06-21T08:48:00.630Z"
   },
   {
    "duration": 0,
    "start_time": "2022-06-21T08:48:00.630Z"
   },
   {
    "duration": 0,
    "start_time": "2022-06-21T08:48:00.631Z"
   },
   {
    "duration": 0,
    "start_time": "2022-06-21T08:48:00.632Z"
   },
   {
    "duration": 0,
    "start_time": "2022-06-21T08:48:00.633Z"
   },
   {
    "duration": 0,
    "start_time": "2022-06-21T08:48:00.634Z"
   },
   {
    "duration": 0,
    "start_time": "2022-06-21T08:48:00.635Z"
   },
   {
    "duration": 0,
    "start_time": "2022-06-21T08:48:00.637Z"
   },
   {
    "duration": 0,
    "start_time": "2022-06-21T08:48:00.637Z"
   },
   {
    "duration": 0,
    "start_time": "2022-06-21T08:48:00.638Z"
   },
   {
    "duration": 0,
    "start_time": "2022-06-21T08:48:00.639Z"
   },
   {
    "duration": 0,
    "start_time": "2022-06-21T08:48:00.640Z"
   },
   {
    "duration": 0,
    "start_time": "2022-06-21T08:48:00.641Z"
   },
   {
    "duration": 0,
    "start_time": "2022-06-21T08:48:00.642Z"
   },
   {
    "duration": 0,
    "start_time": "2022-06-21T08:48:00.643Z"
   },
   {
    "duration": 0,
    "start_time": "2022-06-21T08:48:00.644Z"
   },
   {
    "duration": 11226,
    "start_time": "2022-06-21T08:52:46.973Z"
   },
   {
    "duration": 2287,
    "start_time": "2022-06-21T08:53:06.896Z"
   },
   {
    "duration": 1572,
    "start_time": "2022-06-21T08:53:09.185Z"
   },
   {
    "duration": 336,
    "start_time": "2022-06-21T08:53:10.762Z"
   },
   {
    "duration": 768,
    "start_time": "2022-06-21T08:53:11.100Z"
   },
   {
    "duration": 34,
    "start_time": "2022-06-21T08:53:11.870Z"
   },
   {
    "duration": 146,
    "start_time": "2022-06-21T08:53:11.905Z"
   },
   {
    "duration": 100,
    "start_time": "2022-06-21T08:53:12.053Z"
   },
   {
    "duration": 4,
    "start_time": "2022-06-21T08:53:12.156Z"
   },
   {
    "duration": 242,
    "start_time": "2022-06-21T08:53:12.163Z"
   },
   {
    "duration": 69,
    "start_time": "2022-06-21T08:53:12.408Z"
   },
   {
    "duration": 234,
    "start_time": "2022-06-21T08:53:12.478Z"
   },
   {
    "duration": 60,
    "start_time": "2022-06-21T08:53:12.714Z"
   },
   {
    "duration": 9,
    "start_time": "2022-06-21T08:53:12.775Z"
   },
   {
    "duration": 6,
    "start_time": "2022-06-21T08:53:12.786Z"
   },
   {
    "duration": 164,
    "start_time": "2022-06-21T08:53:12.793Z"
   },
   {
    "duration": 128,
    "start_time": "2022-06-21T08:53:12.958Z"
   },
   {
    "duration": 140,
    "start_time": "2022-06-21T08:53:13.089Z"
   },
   {
    "duration": 5,
    "start_time": "2022-06-21T08:53:13.231Z"
   },
   {
    "duration": 2345,
    "start_time": "2022-06-21T08:53:13.237Z"
   },
   {
    "duration": 2220,
    "start_time": "2022-06-21T08:53:15.584Z"
   },
   {
    "duration": 323,
    "start_time": "2022-06-21T08:53:17.805Z"
   },
   {
    "duration": 50,
    "start_time": "2022-06-21T08:53:18.129Z"
   },
   {
    "duration": 4,
    "start_time": "2022-06-21T08:53:18.180Z"
   },
   {
    "duration": 144,
    "start_time": "2022-06-21T08:53:18.187Z"
   },
   {
    "duration": 51,
    "start_time": "2022-06-21T08:53:18.334Z"
   },
   {
    "duration": 4,
    "start_time": "2022-06-21T08:53:18.388Z"
   },
   {
    "duration": 182,
    "start_time": "2022-06-21T08:53:18.428Z"
   },
   {
    "duration": 54,
    "start_time": "2022-06-21T08:53:18.612Z"
   },
   {
    "duration": 323,
    "start_time": "2022-06-21T08:53:18.667Z"
   },
   {
    "duration": 84,
    "start_time": "2022-06-21T08:53:18.992Z"
   },
   {
    "duration": 5,
    "start_time": "2022-06-21T08:53:19.078Z"
   },
   {
    "duration": 403,
    "start_time": "2022-06-21T08:53:19.084Z"
   },
   {
    "duration": 7,
    "start_time": "2022-06-21T08:53:19.489Z"
   },
   {
    "duration": 1045,
    "start_time": "2022-06-21T08:53:19.497Z"
   },
   {
    "duration": 81,
    "start_time": "2022-06-21T08:53:20.545Z"
   },
   {
    "duration": 106,
    "start_time": "2022-06-21T08:53:20.628Z"
   },
   {
    "duration": 22,
    "start_time": "2022-06-21T08:53:20.735Z"
   },
   {
    "duration": 75,
    "start_time": "2022-06-21T08:53:20.759Z"
   },
   {
    "duration": 208,
    "start_time": "2022-06-21T08:53:20.835Z"
   },
   {
    "duration": 3,
    "start_time": "2022-06-21T08:53:21.045Z"
   },
   {
    "duration": 195,
    "start_time": "2022-06-21T08:53:21.050Z"
   },
   {
    "duration": 47,
    "start_time": "2022-06-21T08:53:21.247Z"
   },
   {
    "duration": 82,
    "start_time": "2022-06-21T08:53:21.295Z"
   },
   {
    "duration": 54,
    "start_time": "2022-06-21T08:53:21.379Z"
   },
   {
    "duration": 140,
    "start_time": "2022-06-21T08:53:21.435Z"
   },
   {
    "duration": 50,
    "start_time": "2022-06-21T08:53:21.577Z"
   },
   {
    "duration": 144,
    "start_time": "2022-06-21T08:53:21.629Z"
   },
   {
    "duration": 74,
    "start_time": "2022-06-21T08:53:21.775Z"
   },
   {
    "duration": 46,
    "start_time": "2022-06-21T08:53:21.851Z"
   },
   {
    "duration": 88,
    "start_time": "2022-06-21T08:53:21.899Z"
   },
   {
    "duration": 62,
    "start_time": "2022-06-21T08:53:21.989Z"
   },
   {
    "duration": 57,
    "start_time": "2022-06-21T08:53:22.052Z"
   },
   {
    "duration": 35,
    "start_time": "2022-06-21T08:53:22.111Z"
   },
   {
    "duration": 35,
    "start_time": "2022-06-21T08:53:22.147Z"
   },
   {
    "duration": 138,
    "start_time": "2022-06-21T08:53:22.183Z"
   },
   {
    "duration": 5,
    "start_time": "2022-06-21T08:53:22.326Z"
   },
   {
    "duration": 10,
    "start_time": "2022-06-21T08:53:22.332Z"
   },
   {
    "duration": 14,
    "start_time": "2022-06-21T08:53:22.343Z"
   },
   {
    "duration": 7,
    "start_time": "2022-06-21T08:53:22.358Z"
   },
   {
    "duration": 199,
    "start_time": "2022-06-21T08:53:22.366Z"
   },
   {
    "duration": 188,
    "start_time": "2022-06-21T08:53:22.566Z"
   },
   {
    "duration": 941,
    "start_time": "2022-06-21T08:53:22.756Z"
   },
   {
    "duration": 561,
    "start_time": "2022-06-21T08:53:23.699Z"
   },
   {
    "duration": 271,
    "start_time": "2022-06-21T08:53:24.262Z"
   },
   {
    "duration": 298,
    "start_time": "2022-06-21T08:53:24.534Z"
   },
   {
    "duration": 230,
    "start_time": "2022-06-21T08:53:24.833Z"
   },
   {
    "duration": 215,
    "start_time": "2022-06-21T08:53:25.064Z"
   },
   {
    "duration": 267,
    "start_time": "2022-06-21T08:53:25.281Z"
   },
   {
    "duration": 210,
    "start_time": "2022-06-21T08:53:25.549Z"
   },
   {
    "duration": 214,
    "start_time": "2022-06-21T08:53:25.760Z"
   },
   {
    "duration": 396,
    "start_time": "2022-06-21T08:53:25.982Z"
   },
   {
    "duration": 169,
    "start_time": "2022-06-21T08:53:26.449Z"
   },
   {
    "duration": 308,
    "start_time": "2022-06-21T08:53:26.620Z"
   },
   {
    "duration": 113,
    "start_time": "2022-06-21T08:53:26.929Z"
   },
   {
    "duration": 52,
    "start_time": "2022-06-21T08:53:27.044Z"
   },
   {
    "duration": 29,
    "start_time": "2022-06-21T08:53:27.097Z"
   },
   {
    "duration": 86,
    "start_time": "2022-06-21T08:53:27.128Z"
   },
   {
    "duration": 4,
    "start_time": "2022-06-21T08:53:27.226Z"
   },
   {
    "duration": 107,
    "start_time": "2022-06-21T08:53:27.232Z"
   },
   {
    "duration": 4,
    "start_time": "2022-06-21T08:53:27.341Z"
   },
   {
    "duration": 197,
    "start_time": "2022-06-21T08:53:27.347Z"
   },
   {
    "duration": 5,
    "start_time": "2022-06-21T08:53:27.545Z"
   },
   {
    "duration": 13,
    "start_time": "2022-06-21T08:53:27.551Z"
   },
   {
    "duration": 10,
    "start_time": "2022-06-21T08:53:27.565Z"
   },
   {
    "duration": 110,
    "start_time": "2022-06-21T08:53:27.576Z"
   },
   {
    "duration": 4,
    "start_time": "2022-06-21T08:53:27.687Z"
   },
   {
    "duration": 234,
    "start_time": "2022-06-21T08:53:27.692Z"
   },
   {
    "duration": 146,
    "start_time": "2022-06-21T08:53:27.928Z"
   },
   {
    "duration": 157,
    "start_time": "2022-06-21T08:53:28.076Z"
   },
   {
    "duration": 216,
    "start_time": "2022-06-21T08:53:28.235Z"
   },
   {
    "duration": 149,
    "start_time": "2022-06-21T08:53:28.453Z"
   },
   {
    "duration": 163,
    "start_time": "2022-06-21T08:53:28.604Z"
   },
   {
    "duration": 204,
    "start_time": "2022-06-21T08:53:28.768Z"
   },
   {
    "duration": 172,
    "start_time": "2022-06-21T08:53:28.973Z"
   },
   {
    "duration": 179,
    "start_time": "2022-06-21T08:53:29.147Z"
   },
   {
    "duration": 407,
    "start_time": "2022-06-21T08:53:29.328Z"
   },
   {
    "duration": 91,
    "start_time": "2022-06-21T08:53:29.737Z"
   },
   {
    "duration": 274,
    "start_time": "2022-06-21T08:53:29.830Z"
   },
   {
    "duration": 25,
    "start_time": "2022-06-21T08:53:30.106Z"
   },
   {
    "duration": 17,
    "start_time": "2022-06-21T08:53:30.133Z"
   },
   {
    "duration": 32,
    "start_time": "2022-06-21T08:53:30.151Z"
   },
   {
    "duration": 143,
    "start_time": "2022-06-21T08:53:30.185Z"
   },
   {
    "duration": 5,
    "start_time": "2022-06-21T08:53:30.330Z"
   },
   {
    "duration": 298,
    "start_time": "2022-06-21T08:53:30.337Z"
   },
   {
    "duration": 170,
    "start_time": "2022-06-21T08:53:30.636Z"
   },
   {
    "duration": 191,
    "start_time": "2022-06-21T08:53:30.808Z"
   },
   {
    "duration": 351,
    "start_time": "2022-06-21T08:53:31.001Z"
   },
   {
    "duration": 248,
    "start_time": "2022-06-21T08:53:31.354Z"
   },
   {
    "duration": 208,
    "start_time": "2022-06-21T08:53:31.604Z"
   },
   {
    "duration": 228,
    "start_time": "2022-06-21T08:53:31.825Z"
   },
   {
    "duration": 199,
    "start_time": "2022-06-21T08:53:32.054Z"
   },
   {
    "duration": 82,
    "start_time": "2022-06-21T08:53:32.255Z"
   },
   {
    "duration": 109,
    "start_time": "2022-06-21T08:53:32.339Z"
   },
   {
    "duration": 111,
    "start_time": "2022-06-21T08:53:32.450Z"
   },
   {
    "duration": 184,
    "start_time": "2022-06-21T08:53:32.563Z"
   },
   {
    "duration": 406,
    "start_time": "2022-06-21T08:53:32.748Z"
   },
   {
    "duration": 48,
    "start_time": "2022-06-21T08:53:33.156Z"
   },
   {
    "duration": 24,
    "start_time": "2022-06-21T08:53:33.205Z"
   },
   {
    "duration": 8,
    "start_time": "2022-06-21T08:53:33.231Z"
   },
   {
    "duration": 29,
    "start_time": "2022-06-21T08:53:33.241Z"
   },
   {
    "duration": 125,
    "start_time": "2022-06-21T08:53:33.272Z"
   },
   {
    "duration": 4,
    "start_time": "2022-06-21T08:53:33.399Z"
   },
   {
    "duration": 233,
    "start_time": "2022-06-21T08:53:33.405Z"
   },
   {
    "duration": 187,
    "start_time": "2022-06-21T08:53:33.640Z"
   },
   {
    "duration": 200,
    "start_time": "2022-06-21T08:53:33.829Z"
   },
   {
    "duration": 281,
    "start_time": "2022-06-21T08:53:34.030Z"
   },
   {
    "duration": 256,
    "start_time": "2022-06-21T08:53:34.313Z"
   },
   {
    "duration": 272,
    "start_time": "2022-06-21T08:53:34.571Z"
   },
   {
    "duration": 244,
    "start_time": "2022-06-21T08:53:34.844Z"
   },
   {
    "duration": 237,
    "start_time": "2022-06-21T08:53:35.090Z"
   },
   {
    "duration": 225,
    "start_time": "2022-06-21T08:53:35.329Z"
   },
   {
    "duration": 312,
    "start_time": "2022-06-21T08:53:35.555Z"
   },
   {
    "duration": 11437,
    "start_time": "2022-06-21T16:55:44.710Z"
   },
   {
    "duration": 956,
    "start_time": "2022-06-21T16:55:56.149Z"
   },
   {
    "duration": 213,
    "start_time": "2022-06-21T16:55:57.107Z"
   },
   {
    "duration": 1059,
    "start_time": "2022-06-21T16:55:57.322Z"
   },
   {
    "duration": 47,
    "start_time": "2022-06-21T16:55:58.383Z"
   },
   {
    "duration": 159,
    "start_time": "2022-06-21T16:55:58.431Z"
   },
   {
    "duration": 83,
    "start_time": "2022-06-21T16:55:58.591Z"
   },
   {
    "duration": 4,
    "start_time": "2022-06-21T16:55:58.675Z"
   },
   {
    "duration": 233,
    "start_time": "2022-06-21T16:55:58.680Z"
   },
   {
    "duration": 80,
    "start_time": "2022-06-21T16:55:58.917Z"
   },
   {
    "duration": 376,
    "start_time": "2022-06-21T16:55:58.999Z"
   },
   {
    "duration": 112,
    "start_time": "2022-06-21T16:55:59.377Z"
   },
   {
    "duration": 8,
    "start_time": "2022-06-21T16:55:59.490Z"
   },
   {
    "duration": 5,
    "start_time": "2022-06-21T16:55:59.500Z"
   },
   {
    "duration": 301,
    "start_time": "2022-06-21T16:55:59.507Z"
   },
   {
    "duration": 268,
    "start_time": "2022-06-21T16:55:59.810Z"
   },
   {
    "duration": 232,
    "start_time": "2022-06-21T16:56:00.079Z"
   },
   {
    "duration": 54,
    "start_time": "2022-06-21T16:56:00.313Z"
   },
   {
    "duration": 2460,
    "start_time": "2022-06-21T16:56:00.369Z"
   },
   {
    "duration": 2197,
    "start_time": "2022-06-21T16:56:02.830Z"
   },
   {
    "duration": 213,
    "start_time": "2022-06-21T16:56:05.029Z"
   },
   {
    "duration": 138,
    "start_time": "2022-06-21T16:56:05.268Z"
   },
   {
    "duration": 0,
    "start_time": "2022-06-21T16:56:05.410Z"
   },
   {
    "duration": 0,
    "start_time": "2022-06-21T16:56:05.411Z"
   },
   {
    "duration": 0,
    "start_time": "2022-06-21T16:56:05.412Z"
   },
   {
    "duration": 0,
    "start_time": "2022-06-21T16:56:05.413Z"
   },
   {
    "duration": 0,
    "start_time": "2022-06-21T16:56:05.414Z"
   },
   {
    "duration": 0,
    "start_time": "2022-06-21T16:56:05.415Z"
   },
   {
    "duration": 0,
    "start_time": "2022-06-21T16:56:05.416Z"
   },
   {
    "duration": 0,
    "start_time": "2022-06-21T16:56:05.417Z"
   },
   {
    "duration": 0,
    "start_time": "2022-06-21T16:56:05.418Z"
   },
   {
    "duration": 0,
    "start_time": "2022-06-21T16:56:05.419Z"
   },
   {
    "duration": 0,
    "start_time": "2022-06-21T16:56:05.420Z"
   },
   {
    "duration": 0,
    "start_time": "2022-06-21T16:56:05.421Z"
   },
   {
    "duration": 0,
    "start_time": "2022-06-21T16:56:05.422Z"
   },
   {
    "duration": 0,
    "start_time": "2022-06-21T16:56:05.423Z"
   },
   {
    "duration": 0,
    "start_time": "2022-06-21T16:56:05.424Z"
   },
   {
    "duration": 0,
    "start_time": "2022-06-21T16:56:05.425Z"
   },
   {
    "duration": 0,
    "start_time": "2022-06-21T16:56:05.426Z"
   },
   {
    "duration": 0,
    "start_time": "2022-06-21T16:56:05.427Z"
   },
   {
    "duration": 0,
    "start_time": "2022-06-21T16:56:05.428Z"
   },
   {
    "duration": 0,
    "start_time": "2022-06-21T16:56:05.429Z"
   },
   {
    "duration": 0,
    "start_time": "2022-06-21T16:56:05.430Z"
   },
   {
    "duration": 0,
    "start_time": "2022-06-21T16:56:05.431Z"
   },
   {
    "duration": 0,
    "start_time": "2022-06-21T16:56:05.467Z"
   },
   {
    "duration": 0,
    "start_time": "2022-06-21T16:56:05.468Z"
   },
   {
    "duration": 0,
    "start_time": "2022-06-21T16:56:05.469Z"
   },
   {
    "duration": 0,
    "start_time": "2022-06-21T16:56:05.470Z"
   },
   {
    "duration": 0,
    "start_time": "2022-06-21T16:56:05.471Z"
   },
   {
    "duration": 0,
    "start_time": "2022-06-21T16:56:05.472Z"
   },
   {
    "duration": 0,
    "start_time": "2022-06-21T16:56:05.473Z"
   },
   {
    "duration": 0,
    "start_time": "2022-06-21T16:56:05.474Z"
   },
   {
    "duration": 0,
    "start_time": "2022-06-21T16:56:05.475Z"
   },
   {
    "duration": 0,
    "start_time": "2022-06-21T16:56:05.476Z"
   },
   {
    "duration": 0,
    "start_time": "2022-06-21T16:56:05.477Z"
   },
   {
    "duration": 0,
    "start_time": "2022-06-21T16:56:05.479Z"
   },
   {
    "duration": 0,
    "start_time": "2022-06-21T16:56:05.479Z"
   },
   {
    "duration": 0,
    "start_time": "2022-06-21T16:56:05.481Z"
   },
   {
    "duration": 0,
    "start_time": "2022-06-21T16:56:05.482Z"
   },
   {
    "duration": 0,
    "start_time": "2022-06-21T16:56:05.483Z"
   },
   {
    "duration": 0,
    "start_time": "2022-06-21T16:56:05.484Z"
   },
   {
    "duration": 0,
    "start_time": "2022-06-21T16:56:05.485Z"
   },
   {
    "duration": 0,
    "start_time": "2022-06-21T16:56:05.486Z"
   },
   {
    "duration": 0,
    "start_time": "2022-06-21T16:56:05.487Z"
   },
   {
    "duration": 0,
    "start_time": "2022-06-21T16:56:05.489Z"
   },
   {
    "duration": 0,
    "start_time": "2022-06-21T16:56:05.490Z"
   },
   {
    "duration": 0,
    "start_time": "2022-06-21T16:56:05.491Z"
   },
   {
    "duration": 0,
    "start_time": "2022-06-21T16:56:05.491Z"
   },
   {
    "duration": 0,
    "start_time": "2022-06-21T16:56:05.492Z"
   },
   {
    "duration": 0,
    "start_time": "2022-06-21T16:56:05.493Z"
   },
   {
    "duration": 0,
    "start_time": "2022-06-21T16:56:05.495Z"
   },
   {
    "duration": 0,
    "start_time": "2022-06-21T16:56:05.495Z"
   },
   {
    "duration": 0,
    "start_time": "2022-06-21T16:56:05.497Z"
   },
   {
    "duration": 0,
    "start_time": "2022-06-21T16:56:05.498Z"
   },
   {
    "duration": 0,
    "start_time": "2022-06-21T16:56:05.498Z"
   },
   {
    "duration": 0,
    "start_time": "2022-06-21T16:56:05.499Z"
   },
   {
    "duration": 0,
    "start_time": "2022-06-21T16:56:05.500Z"
   },
   {
    "duration": 0,
    "start_time": "2022-06-21T16:56:05.501Z"
   },
   {
    "duration": 0,
    "start_time": "2022-06-21T16:56:05.502Z"
   },
   {
    "duration": 0,
    "start_time": "2022-06-21T16:56:05.503Z"
   },
   {
    "duration": 0,
    "start_time": "2022-06-21T16:56:05.504Z"
   },
   {
    "duration": 0,
    "start_time": "2022-06-21T16:56:05.504Z"
   },
   {
    "duration": 0,
    "start_time": "2022-06-21T16:56:05.505Z"
   },
   {
    "duration": 0,
    "start_time": "2022-06-21T16:56:05.506Z"
   },
   {
    "duration": 0,
    "start_time": "2022-06-21T16:56:05.507Z"
   },
   {
    "duration": 0,
    "start_time": "2022-06-21T16:56:05.567Z"
   },
   {
    "duration": 0,
    "start_time": "2022-06-21T16:56:05.569Z"
   },
   {
    "duration": 0,
    "start_time": "2022-06-21T16:56:05.570Z"
   },
   {
    "duration": 0,
    "start_time": "2022-06-21T16:56:05.571Z"
   },
   {
    "duration": 0,
    "start_time": "2022-06-21T16:56:05.572Z"
   },
   {
    "duration": 0,
    "start_time": "2022-06-21T16:56:05.573Z"
   },
   {
    "duration": 0,
    "start_time": "2022-06-21T16:56:05.574Z"
   },
   {
    "duration": 0,
    "start_time": "2022-06-21T16:56:05.575Z"
   },
   {
    "duration": 0,
    "start_time": "2022-06-21T16:56:05.577Z"
   },
   {
    "duration": 0,
    "start_time": "2022-06-21T16:56:05.578Z"
   },
   {
    "duration": 0,
    "start_time": "2022-06-21T16:56:05.579Z"
   },
   {
    "duration": 0,
    "start_time": "2022-06-21T16:56:05.581Z"
   },
   {
    "duration": 0,
    "start_time": "2022-06-21T16:56:05.582Z"
   },
   {
    "duration": 0,
    "start_time": "2022-06-21T16:56:05.583Z"
   },
   {
    "duration": 0,
    "start_time": "2022-06-21T16:56:05.584Z"
   },
   {
    "duration": 0,
    "start_time": "2022-06-21T16:56:05.585Z"
   },
   {
    "duration": 0,
    "start_time": "2022-06-21T16:56:05.586Z"
   },
   {
    "duration": 1,
    "start_time": "2022-06-21T16:56:05.586Z"
   },
   {
    "duration": 0,
    "start_time": "2022-06-21T16:56:05.587Z"
   },
   {
    "duration": 0,
    "start_time": "2022-06-21T16:56:05.588Z"
   },
   {
    "duration": 0,
    "start_time": "2022-06-21T16:56:05.590Z"
   },
   {
    "duration": 0,
    "start_time": "2022-06-21T16:56:05.591Z"
   },
   {
    "duration": 0,
    "start_time": "2022-06-21T16:56:05.591Z"
   },
   {
    "duration": 0,
    "start_time": "2022-06-21T16:56:05.593Z"
   },
   {
    "duration": 0,
    "start_time": "2022-06-21T16:56:05.593Z"
   },
   {
    "duration": 0,
    "start_time": "2022-06-21T16:56:05.594Z"
   },
   {
    "duration": 0,
    "start_time": "2022-06-21T16:56:05.595Z"
   },
   {
    "duration": 0,
    "start_time": "2022-06-21T16:56:05.597Z"
   },
   {
    "duration": 0,
    "start_time": "2022-06-21T16:56:05.598Z"
   },
   {
    "duration": 0,
    "start_time": "2022-06-21T16:56:05.599Z"
   },
   {
    "duration": 0,
    "start_time": "2022-06-21T16:56:05.600Z"
   },
   {
    "duration": 0,
    "start_time": "2022-06-21T16:56:05.600Z"
   },
   {
    "duration": 0,
    "start_time": "2022-06-21T16:56:05.602Z"
   },
   {
    "duration": 0,
    "start_time": "2022-06-21T16:56:05.602Z"
   },
   {
    "duration": 0,
    "start_time": "2022-06-21T16:56:05.604Z"
   },
   {
    "duration": 0,
    "start_time": "2022-06-21T16:56:05.667Z"
   },
   {
    "duration": 0,
    "start_time": "2022-06-21T16:56:05.668Z"
   },
   {
    "duration": 0,
    "start_time": "2022-06-21T16:56:05.669Z"
   },
   {
    "duration": 0,
    "start_time": "2022-06-21T16:56:05.670Z"
   },
   {
    "duration": 0,
    "start_time": "2022-06-21T16:56:05.671Z"
   },
   {
    "duration": 0,
    "start_time": "2022-06-21T16:56:05.672Z"
   },
   {
    "duration": 0,
    "start_time": "2022-06-21T16:56:05.673Z"
   },
   {
    "duration": 0,
    "start_time": "2022-06-21T16:56:05.674Z"
   },
   {
    "duration": 0,
    "start_time": "2022-06-21T16:56:05.675Z"
   },
   {
    "duration": 0,
    "start_time": "2022-06-21T16:56:05.676Z"
   },
   {
    "duration": 0,
    "start_time": "2022-06-21T16:56:05.677Z"
   },
   {
    "duration": 0,
    "start_time": "2022-06-21T16:56:05.678Z"
   },
   {
    "duration": 2217,
    "start_time": "2022-06-21T16:59:28.208Z"
   },
   {
    "duration": 879,
    "start_time": "2022-06-21T16:59:30.427Z"
   },
   {
    "duration": 210,
    "start_time": "2022-06-21T16:59:31.308Z"
   },
   {
    "duration": 706,
    "start_time": "2022-06-21T16:59:31.520Z"
   },
   {
    "duration": 32,
    "start_time": "2022-06-21T16:59:32.227Z"
   },
   {
    "duration": 123,
    "start_time": "2022-06-21T16:59:32.260Z"
   },
   {
    "duration": 85,
    "start_time": "2022-06-21T16:59:32.384Z"
   },
   {
    "duration": 3,
    "start_time": "2022-06-21T16:59:32.471Z"
   },
   {
    "duration": 208,
    "start_time": "2022-06-21T16:59:32.476Z"
   },
   {
    "duration": 47,
    "start_time": "2022-06-21T16:59:32.686Z"
   },
   {
    "duration": 216,
    "start_time": "2022-06-21T16:59:32.735Z"
   },
   {
    "duration": 63,
    "start_time": "2022-06-21T16:59:32.952Z"
   },
   {
    "duration": 9,
    "start_time": "2022-06-21T16:59:33.016Z"
   },
   {
    "duration": 5,
    "start_time": "2022-06-21T16:59:33.026Z"
   },
   {
    "duration": 142,
    "start_time": "2022-06-21T16:59:33.033Z"
   },
   {
    "duration": 118,
    "start_time": "2022-06-21T16:59:33.177Z"
   },
   {
    "duration": 126,
    "start_time": "2022-06-21T16:59:33.296Z"
   },
   {
    "duration": 3,
    "start_time": "2022-06-21T16:59:33.424Z"
   },
   {
    "duration": 2869,
    "start_time": "2022-06-21T16:59:33.429Z"
   },
   {
    "duration": 2016,
    "start_time": "2022-06-21T16:59:36.299Z"
   },
   {
    "duration": 265,
    "start_time": "2022-06-21T16:59:38.316Z"
   },
   {
    "duration": 49,
    "start_time": "2022-06-21T16:59:38.582Z"
   },
   {
    "duration": 4,
    "start_time": "2022-06-21T16:59:38.633Z"
   },
   {
    "duration": 138,
    "start_time": "2022-06-21T16:59:38.639Z"
   },
   {
    "duration": 52,
    "start_time": "2022-06-21T16:59:38.778Z"
   },
   {
    "duration": 5,
    "start_time": "2022-06-21T16:59:38.832Z"
   },
   {
    "duration": 231,
    "start_time": "2022-06-21T16:59:38.838Z"
   },
   {
    "duration": 51,
    "start_time": "2022-06-21T16:59:39.075Z"
   },
   {
    "duration": 310,
    "start_time": "2022-06-21T16:59:39.127Z"
   },
   {
    "duration": 80,
    "start_time": "2022-06-21T16:59:39.439Z"
   },
   {
    "duration": 5,
    "start_time": "2022-06-21T16:59:39.520Z"
   },
   {
    "duration": 316,
    "start_time": "2022-06-21T16:59:39.527Z"
   },
   {
    "duration": 6,
    "start_time": "2022-06-21T16:59:39.845Z"
   },
   {
    "duration": 935,
    "start_time": "2022-06-21T16:59:39.853Z"
   },
   {
    "duration": 22,
    "start_time": "2022-06-21T16:59:40.791Z"
   },
   {
    "duration": 160,
    "start_time": "2022-06-21T16:59:40.815Z"
   },
   {
    "duration": 24,
    "start_time": "2022-06-21T16:59:40.977Z"
   },
   {
    "duration": 19,
    "start_time": "2022-06-21T16:59:41.003Z"
   },
   {
    "duration": 157,
    "start_time": "2022-06-21T16:59:41.023Z"
   },
   {
    "duration": 3,
    "start_time": "2022-06-21T16:59:41.182Z"
   },
   {
    "duration": 180,
    "start_time": "2022-06-21T16:59:41.187Z"
   },
   {
    "duration": 53,
    "start_time": "2022-06-21T16:59:41.368Z"
   },
   {
    "duration": 77,
    "start_time": "2022-06-21T16:59:41.423Z"
   },
   {
    "duration": 36,
    "start_time": "2022-06-21T16:59:41.501Z"
   },
   {
    "duration": 141,
    "start_time": "2022-06-21T16:59:41.539Z"
   },
   {
    "duration": 33,
    "start_time": "2022-06-21T16:59:41.681Z"
   },
   {
    "duration": 128,
    "start_time": "2022-06-21T16:59:41.715Z"
   },
   {
    "duration": 63,
    "start_time": "2022-06-21T16:59:41.844Z"
   },
   {
    "duration": 45,
    "start_time": "2022-06-21T16:59:41.909Z"
   },
   {
    "duration": 57,
    "start_time": "2022-06-21T16:59:41.966Z"
   },
   {
    "duration": 61,
    "start_time": "2022-06-21T16:59:42.024Z"
   },
   {
    "duration": 56,
    "start_time": "2022-06-21T16:59:42.087Z"
   },
   {
    "duration": 39,
    "start_time": "2022-06-21T16:59:42.144Z"
   },
   {
    "duration": 32,
    "start_time": "2022-06-21T16:59:42.185Z"
   },
   {
    "duration": 126,
    "start_time": "2022-06-21T16:59:42.218Z"
   },
   {
    "duration": 5,
    "start_time": "2022-06-21T16:59:42.367Z"
   },
   {
    "duration": 5,
    "start_time": "2022-06-21T16:59:42.374Z"
   },
   {
    "duration": 6,
    "start_time": "2022-06-21T16:59:42.380Z"
   },
   {
    "duration": 8,
    "start_time": "2022-06-21T16:59:42.388Z"
   },
   {
    "duration": 242,
    "start_time": "2022-06-21T16:59:42.398Z"
   },
   {
    "duration": 4,
    "start_time": "2022-06-21T16:59:42.642Z"
   },
   {
    "duration": 233,
    "start_time": "2022-06-21T16:59:42.667Z"
   },
   {
    "duration": 183,
    "start_time": "2022-06-21T16:59:42.901Z"
   },
   {
    "duration": 192,
    "start_time": "2022-06-21T16:59:43.085Z"
   },
   {
    "duration": 244,
    "start_time": "2022-06-21T16:59:43.278Z"
   },
   {
    "duration": 184,
    "start_time": "2022-06-21T16:59:43.523Z"
   },
   {
    "duration": 200,
    "start_time": "2022-06-21T16:59:43.708Z"
   },
   {
    "duration": 257,
    "start_time": "2022-06-21T16:59:43.910Z"
   },
   {
    "duration": 208,
    "start_time": "2022-06-21T16:59:44.169Z"
   },
   {
    "duration": 208,
    "start_time": "2022-06-21T16:59:44.378Z"
   },
   {
    "duration": 336,
    "start_time": "2022-06-21T16:59:44.588Z"
   },
   {
    "duration": 181,
    "start_time": "2022-06-21T16:59:44.926Z"
   },
   {
    "duration": 254,
    "start_time": "2022-06-21T16:59:45.109Z"
   },
   {
    "duration": 88,
    "start_time": "2022-06-21T16:59:45.367Z"
   },
   {
    "duration": 44,
    "start_time": "2022-06-21T16:59:45.468Z"
   },
   {
    "duration": 3,
    "start_time": "2022-06-21T16:59:45.514Z"
   },
   {
    "duration": 103,
    "start_time": "2022-06-21T16:59:45.518Z"
   },
   {
    "duration": 4,
    "start_time": "2022-06-21T16:59:45.622Z"
   },
   {
    "duration": 103,
    "start_time": "2022-06-21T16:59:45.628Z"
   },
   {
    "duration": 4,
    "start_time": "2022-06-21T16:59:45.733Z"
   },
   {
    "duration": 81,
    "start_time": "2022-06-21T16:59:45.739Z"
   },
   {
    "duration": 5,
    "start_time": "2022-06-21T16:59:45.826Z"
   },
   {
    "duration": 5,
    "start_time": "2022-06-21T16:59:45.833Z"
   },
   {
    "duration": 7,
    "start_time": "2022-06-21T16:59:45.839Z"
   },
   {
    "duration": 101,
    "start_time": "2022-06-21T16:59:45.847Z"
   },
   {
    "duration": 4,
    "start_time": "2022-06-21T16:59:45.966Z"
   },
   {
    "duration": 200,
    "start_time": "2022-06-21T16:59:45.972Z"
   },
   {
    "duration": 139,
    "start_time": "2022-06-21T16:59:46.174Z"
   },
   {
    "duration": 145,
    "start_time": "2022-06-21T16:59:46.315Z"
   },
   {
    "duration": 184,
    "start_time": "2022-06-21T16:59:46.467Z"
   },
   {
    "duration": 145,
    "start_time": "2022-06-21T16:59:46.653Z"
   },
   {
    "duration": 144,
    "start_time": "2022-06-21T16:59:46.799Z"
   },
   {
    "duration": 194,
    "start_time": "2022-06-21T16:59:46.944Z"
   },
   {
    "duration": 174,
    "start_time": "2022-06-21T16:59:47.140Z"
   },
   {
    "duration": 153,
    "start_time": "2022-06-21T16:59:47.316Z"
   },
   {
    "duration": 258,
    "start_time": "2022-06-21T16:59:47.470Z"
   },
   {
    "duration": 71,
    "start_time": "2022-06-21T16:59:47.729Z"
   },
   {
    "duration": 25,
    "start_time": "2022-06-21T16:59:47.801Z"
   },
   {
    "duration": 5,
    "start_time": "2022-06-21T16:59:47.827Z"
   },
   {
    "duration": 6,
    "start_time": "2022-06-21T16:59:47.833Z"
   },
   {
    "duration": 26,
    "start_time": "2022-06-21T16:59:47.840Z"
   },
   {
    "duration": 203,
    "start_time": "2022-06-21T16:59:47.868Z"
   },
   {
    "duration": 4,
    "start_time": "2022-06-21T16:59:48.072Z"
   },
   {
    "duration": 232,
    "start_time": "2022-06-21T16:59:48.077Z"
   },
   {
    "duration": 158,
    "start_time": "2022-06-21T16:59:48.311Z"
   },
   {
    "duration": 177,
    "start_time": "2022-06-21T16:59:48.471Z"
   },
   {
    "duration": 230,
    "start_time": "2022-06-21T16:59:48.649Z"
   },
   {
    "duration": 191,
    "start_time": "2022-06-21T16:59:48.881Z"
   },
   {
    "duration": 170,
    "start_time": "2022-06-21T16:59:49.074Z"
   },
   {
    "duration": 233,
    "start_time": "2022-06-21T16:59:49.246Z"
   },
   {
    "duration": 191,
    "start_time": "2022-06-21T16:59:49.480Z"
   },
   {
    "duration": 54,
    "start_time": "2022-06-21T16:59:49.673Z"
   },
   {
    "duration": 107,
    "start_time": "2022-06-21T16:59:49.729Z"
   },
   {
    "duration": 102,
    "start_time": "2022-06-21T16:59:49.838Z"
   },
   {
    "duration": 171,
    "start_time": "2022-06-21T16:59:49.942Z"
   },
   {
    "duration": 289,
    "start_time": "2022-06-21T16:59:50.115Z"
   },
   {
    "duration": 66,
    "start_time": "2022-06-21T16:59:50.405Z"
   },
   {
    "duration": 6,
    "start_time": "2022-06-21T16:59:50.472Z"
   },
   {
    "duration": 8,
    "start_time": "2022-06-21T16:59:50.479Z"
   },
   {
    "duration": 8,
    "start_time": "2022-06-21T16:59:50.489Z"
   },
   {
    "duration": 148,
    "start_time": "2022-06-21T16:59:50.498Z"
   },
   {
    "duration": 4,
    "start_time": "2022-06-21T16:59:50.648Z"
   },
   {
    "duration": 186,
    "start_time": "2022-06-21T16:59:50.653Z"
   },
   {
    "duration": 179,
    "start_time": "2022-06-21T16:59:50.841Z"
   },
   {
    "duration": 196,
    "start_time": "2022-06-21T16:59:51.022Z"
   },
   {
    "duration": 218,
    "start_time": "2022-06-21T16:59:51.220Z"
   },
   {
    "duration": 176,
    "start_time": "2022-06-21T16:59:51.439Z"
   },
   {
    "duration": 205,
    "start_time": "2022-06-21T16:59:51.617Z"
   },
   {
    "duration": 211,
    "start_time": "2022-06-21T16:59:51.823Z"
   },
   {
    "duration": 187,
    "start_time": "2022-06-21T16:59:52.035Z"
   },
   {
    "duration": 196,
    "start_time": "2022-06-21T16:59:52.223Z"
   },
   {
    "duration": 277,
    "start_time": "2022-06-21T16:59:52.420Z"
   },
   {
    "duration": 2168,
    "start_time": "2022-06-21T17:02:11.766Z"
   },
   {
    "duration": 972,
    "start_time": "2022-06-21T17:02:13.937Z"
   },
   {
    "duration": 207,
    "start_time": "2022-06-21T17:02:14.911Z"
   },
   {
    "duration": 780,
    "start_time": "2022-06-21T17:02:15.120Z"
   },
   {
    "duration": 33,
    "start_time": "2022-06-21T17:02:15.901Z"
   },
   {
    "duration": 116,
    "start_time": "2022-06-21T17:02:15.936Z"
   },
   {
    "duration": 77,
    "start_time": "2022-06-21T17:02:16.053Z"
   },
   {
    "duration": 5,
    "start_time": "2022-06-21T17:02:16.131Z"
   },
   {
    "duration": 210,
    "start_time": "2022-06-21T17:02:16.168Z"
   },
   {
    "duration": 60,
    "start_time": "2022-06-21T17:02:16.380Z"
   },
   {
    "duration": 234,
    "start_time": "2022-06-21T17:02:16.441Z"
   },
   {
    "duration": 59,
    "start_time": "2022-06-21T17:02:16.678Z"
   },
   {
    "duration": 9,
    "start_time": "2022-06-21T17:02:16.738Z"
   },
   {
    "duration": 8,
    "start_time": "2022-06-21T17:02:16.767Z"
   },
   {
    "duration": 135,
    "start_time": "2022-06-21T17:02:16.777Z"
   },
   {
    "duration": 126,
    "start_time": "2022-06-21T17:02:16.914Z"
   },
   {
    "duration": 141,
    "start_time": "2022-06-21T17:02:17.042Z"
   },
   {
    "duration": 5,
    "start_time": "2022-06-21T17:02:17.185Z"
   },
   {
    "duration": 2202,
    "start_time": "2022-06-21T17:02:17.192Z"
   },
   {
    "duration": 2052,
    "start_time": "2022-06-21T17:02:19.396Z"
   },
   {
    "duration": 255,
    "start_time": "2022-06-21T17:02:21.450Z"
   },
   {
    "duration": 61,
    "start_time": "2022-06-21T17:02:21.706Z"
   },
   {
    "duration": 4,
    "start_time": "2022-06-21T17:02:21.769Z"
   },
   {
    "duration": 113,
    "start_time": "2022-06-21T17:02:21.774Z"
   },
   {
    "duration": 50,
    "start_time": "2022-06-21T17:02:21.889Z"
   },
   {
    "duration": 7,
    "start_time": "2022-06-21T17:02:21.941Z"
   },
   {
    "duration": 167,
    "start_time": "2022-06-21T17:02:21.969Z"
   },
   {
    "duration": 56,
    "start_time": "2022-06-21T17:02:22.140Z"
   },
   {
    "duration": 245,
    "start_time": "2022-06-21T17:02:22.198Z"
   },
   {
    "duration": 79,
    "start_time": "2022-06-21T17:02:22.445Z"
   },
   {
    "duration": 5,
    "start_time": "2022-06-21T17:02:22.525Z"
   },
   {
    "duration": 319,
    "start_time": "2022-06-21T17:02:22.531Z"
   },
   {
    "duration": 8,
    "start_time": "2022-06-21T17:02:22.852Z"
   },
   {
    "duration": 932,
    "start_time": "2022-06-21T17:02:22.867Z"
   },
   {
    "duration": 22,
    "start_time": "2022-06-21T17:02:23.801Z"
   },
   {
    "duration": 144,
    "start_time": "2022-06-21T17:02:23.826Z"
   },
   {
    "duration": 21,
    "start_time": "2022-06-21T17:02:23.972Z"
   },
   {
    "duration": 76,
    "start_time": "2022-06-21T17:02:23.995Z"
   },
   {
    "duration": 225,
    "start_time": "2022-06-21T17:02:24.073Z"
   },
   {
    "duration": 3,
    "start_time": "2022-06-21T17:02:24.300Z"
   },
   {
    "duration": 299,
    "start_time": "2022-06-21T17:02:24.305Z"
   },
   {
    "duration": 102,
    "start_time": "2022-06-21T17:02:24.606Z"
   },
   {
    "duration": 105,
    "start_time": "2022-06-21T17:02:24.709Z"
   },
   {
    "duration": 84,
    "start_time": "2022-06-21T17:02:24.815Z"
   },
   {
    "duration": 269,
    "start_time": "2022-06-21T17:02:24.901Z"
   },
   {
    "duration": 32,
    "start_time": "2022-06-21T17:02:25.172Z"
   },
   {
    "duration": 273,
    "start_time": "2022-06-21T17:02:25.206Z"
   },
   {
    "duration": 107,
    "start_time": "2022-06-21T17:02:25.481Z"
   },
   {
    "duration": 96,
    "start_time": "2022-06-21T17:02:25.590Z"
   },
   {
    "duration": 117,
    "start_time": "2022-06-21T17:02:25.687Z"
   },
   {
    "duration": 102,
    "start_time": "2022-06-21T17:02:25.805Z"
   },
   {
    "duration": 99,
    "start_time": "2022-06-21T17:02:25.910Z"
   },
   {
    "duration": 28,
    "start_time": "2022-06-21T17:02:26.011Z"
   },
   {
    "duration": 50,
    "start_time": "2022-06-21T17:02:26.041Z"
   },
   {
    "duration": 127,
    "start_time": "2022-06-21T17:02:26.093Z"
   },
   {
    "duration": 4,
    "start_time": "2022-06-21T17:02:26.222Z"
   },
   {
    "duration": 13,
    "start_time": "2022-06-21T17:02:26.227Z"
   },
   {
    "duration": 7,
    "start_time": "2022-06-21T17:02:26.241Z"
   },
   {
    "duration": 6,
    "start_time": "2022-06-21T17:02:26.250Z"
   },
   {
    "duration": 187,
    "start_time": "2022-06-21T17:02:26.258Z"
   },
   {
    "duration": 3,
    "start_time": "2022-06-21T17:02:26.447Z"
   },
   {
    "duration": 240,
    "start_time": "2022-06-21T17:02:26.452Z"
   },
   {
    "duration": 180,
    "start_time": "2022-06-21T17:02:26.694Z"
   },
   {
    "duration": 200,
    "start_time": "2022-06-21T17:02:26.876Z"
   },
   {
    "duration": 244,
    "start_time": "2022-06-21T17:02:27.078Z"
   },
   {
    "duration": 182,
    "start_time": "2022-06-21T17:02:27.324Z"
   },
   {
    "duration": 196,
    "start_time": "2022-06-21T17:02:27.507Z"
   },
   {
    "duration": 243,
    "start_time": "2022-06-21T17:02:27.705Z"
   },
   {
    "duration": 230,
    "start_time": "2022-06-21T17:02:27.950Z"
   },
   {
    "duration": 227,
    "start_time": "2022-06-21T17:02:28.182Z"
   },
   {
    "duration": 327,
    "start_time": "2022-06-21T17:02:28.411Z"
   },
   {
    "duration": 191,
    "start_time": "2022-06-21T17:02:28.739Z"
   },
   {
    "duration": 279,
    "start_time": "2022-06-21T17:02:28.932Z"
   },
   {
    "duration": 103,
    "start_time": "2022-06-21T17:02:29.213Z"
   },
   {
    "duration": 59,
    "start_time": "2022-06-21T17:02:29.317Z"
   },
   {
    "duration": 4,
    "start_time": "2022-06-21T17:02:29.377Z"
   },
   {
    "duration": 98,
    "start_time": "2022-06-21T17:02:29.383Z"
   },
   {
    "duration": 4,
    "start_time": "2022-06-21T17:02:29.483Z"
   },
   {
    "duration": 97,
    "start_time": "2022-06-21T17:02:29.488Z"
   },
   {
    "duration": 9,
    "start_time": "2022-06-21T17:02:29.587Z"
   },
   {
    "duration": 85,
    "start_time": "2022-06-21T17:02:29.598Z"
   },
   {
    "duration": 5,
    "start_time": "2022-06-21T17:02:29.689Z"
   },
   {
    "duration": 8,
    "start_time": "2022-06-21T17:02:29.696Z"
   },
   {
    "duration": 9,
    "start_time": "2022-06-21T17:02:29.705Z"
   },
   {
    "duration": 114,
    "start_time": "2022-06-21T17:02:29.715Z"
   },
   {
    "duration": 3,
    "start_time": "2022-06-21T17:02:29.831Z"
   },
   {
    "duration": 200,
    "start_time": "2022-06-21T17:02:29.836Z"
   },
   {
    "duration": 146,
    "start_time": "2022-06-21T17:02:30.038Z"
   },
   {
    "duration": 149,
    "start_time": "2022-06-21T17:02:30.185Z"
   },
   {
    "duration": 186,
    "start_time": "2022-06-21T17:02:30.336Z"
   },
   {
    "duration": 148,
    "start_time": "2022-06-21T17:02:30.523Z"
   },
   {
    "duration": 151,
    "start_time": "2022-06-21T17:02:30.672Z"
   },
   {
    "duration": 189,
    "start_time": "2022-06-21T17:02:30.824Z"
   },
   {
    "duration": 155,
    "start_time": "2022-06-21T17:02:31.014Z"
   },
   {
    "duration": 144,
    "start_time": "2022-06-21T17:02:31.170Z"
   },
   {
    "duration": 246,
    "start_time": "2022-06-21T17:02:31.316Z"
   },
   {
    "duration": 56,
    "start_time": "2022-06-21T17:02:31.564Z"
   },
   {
    "duration": 46,
    "start_time": "2022-06-21T17:02:31.621Z"
   },
   {
    "duration": 5,
    "start_time": "2022-06-21T17:02:31.669Z"
   },
   {
    "duration": 10,
    "start_time": "2022-06-21T17:02:31.675Z"
   },
   {
    "duration": 13,
    "start_time": "2022-06-21T17:02:31.686Z"
   },
   {
    "duration": 118,
    "start_time": "2022-06-21T17:02:31.700Z"
   },
   {
    "duration": 4,
    "start_time": "2022-06-21T17:02:31.820Z"
   },
   {
    "duration": 276,
    "start_time": "2022-06-21T17:02:31.825Z"
   },
   {
    "duration": 239,
    "start_time": "2022-06-21T17:02:32.102Z"
   },
   {
    "duration": 159,
    "start_time": "2022-06-21T17:02:32.343Z"
   },
   {
    "duration": 221,
    "start_time": "2022-06-21T17:02:32.504Z"
   },
   {
    "duration": 161,
    "start_time": "2022-06-21T17:02:32.727Z"
   },
   {
    "duration": 171,
    "start_time": "2022-06-21T17:02:32.890Z"
   },
   {
    "duration": 212,
    "start_time": "2022-06-21T17:02:33.062Z"
   },
   {
    "duration": 179,
    "start_time": "2022-06-21T17:02:33.275Z"
   },
   {
    "duration": 53,
    "start_time": "2022-06-21T17:02:33.468Z"
   },
   {
    "duration": 122,
    "start_time": "2022-06-21T17:02:33.522Z"
   },
   {
    "duration": 97,
    "start_time": "2022-06-21T17:02:33.645Z"
   },
   {
    "duration": 166,
    "start_time": "2022-06-21T17:02:33.744Z"
   },
   {
    "duration": 278,
    "start_time": "2022-06-21T17:02:33.912Z"
   },
   {
    "duration": 45,
    "start_time": "2022-06-21T17:02:34.191Z"
   },
   {
    "duration": 5,
    "start_time": "2022-06-21T17:02:34.238Z"
   },
   {
    "duration": 25,
    "start_time": "2022-06-21T17:02:34.244Z"
   },
   {
    "duration": 28,
    "start_time": "2022-06-21T17:02:34.270Z"
   },
   {
    "duration": 139,
    "start_time": "2022-06-21T17:02:34.300Z"
   },
   {
    "duration": 6,
    "start_time": "2022-06-21T17:02:34.440Z"
   },
   {
    "duration": 207,
    "start_time": "2022-06-21T17:02:34.448Z"
   },
   {
    "duration": 166,
    "start_time": "2022-06-21T17:02:34.657Z"
   },
   {
    "duration": 188,
    "start_time": "2022-06-21T17:02:34.824Z"
   },
   {
    "duration": 216,
    "start_time": "2022-06-21T17:02:35.014Z"
   },
   {
    "duration": 165,
    "start_time": "2022-06-21T17:02:35.231Z"
   },
   {
    "duration": 198,
    "start_time": "2022-06-21T17:02:35.397Z"
   },
   {
    "duration": 222,
    "start_time": "2022-06-21T17:02:35.597Z"
   },
   {
    "duration": 188,
    "start_time": "2022-06-21T17:02:35.820Z"
   },
   {
    "duration": 205,
    "start_time": "2022-06-21T17:02:36.009Z"
   },
   {
    "duration": 305,
    "start_time": "2022-06-21T17:02:36.216Z"
   },
   {
    "duration": 2089,
    "start_time": "2022-06-21T17:05:07.617Z"
   },
   {
    "duration": 958,
    "start_time": "2022-06-21T17:05:09.709Z"
   },
   {
    "duration": 220,
    "start_time": "2022-06-21T17:05:10.671Z"
   },
   {
    "duration": 985,
    "start_time": "2022-06-21T17:05:10.893Z"
   },
   {
    "duration": 32,
    "start_time": "2022-06-21T17:05:11.879Z"
   },
   {
    "duration": 117,
    "start_time": "2022-06-21T17:05:11.912Z"
   },
   {
    "duration": 69,
    "start_time": "2022-06-21T17:05:12.030Z"
   },
   {
    "duration": 4,
    "start_time": "2022-06-21T17:05:12.100Z"
   },
   {
    "duration": 209,
    "start_time": "2022-06-21T17:05:12.106Z"
   },
   {
    "duration": 53,
    "start_time": "2022-06-21T17:05:12.317Z"
   },
   {
    "duration": 241,
    "start_time": "2022-06-21T17:05:12.372Z"
   },
   {
    "duration": 114,
    "start_time": "2022-06-21T17:05:12.667Z"
   },
   {
    "duration": 10,
    "start_time": "2022-06-21T17:05:12.783Z"
   },
   {
    "duration": 6,
    "start_time": "2022-06-21T17:05:12.794Z"
   },
   {
    "duration": 293,
    "start_time": "2022-06-21T17:05:12.801Z"
   },
   {
    "duration": 178,
    "start_time": "2022-06-21T17:05:13.095Z"
   },
   {
    "duration": 135,
    "start_time": "2022-06-21T17:05:13.275Z"
   },
   {
    "duration": 4,
    "start_time": "2022-06-21T17:05:13.411Z"
   },
   {
    "duration": 3197,
    "start_time": "2022-06-21T17:05:13.417Z"
   },
   {
    "duration": 2050,
    "start_time": "2022-06-21T17:05:16.617Z"
   },
   {
    "duration": 274,
    "start_time": "2022-06-21T17:05:18.669Z"
   },
   {
    "duration": 88,
    "start_time": "2022-06-21T17:05:18.945Z"
   },
   {
    "duration": 5,
    "start_time": "2022-06-21T17:05:19.035Z"
   },
   {
    "duration": 142,
    "start_time": "2022-06-21T17:05:19.042Z"
   },
   {
    "duration": 55,
    "start_time": "2022-06-21T17:05:19.186Z"
   },
   {
    "duration": 24,
    "start_time": "2022-06-21T17:05:19.243Z"
   },
   {
    "duration": 174,
    "start_time": "2022-06-21T17:05:19.272Z"
   },
   {
    "duration": 54,
    "start_time": "2022-06-21T17:05:19.447Z"
   },
   {
    "duration": 244,
    "start_time": "2022-06-21T17:05:19.503Z"
   },
   {
    "duration": 82,
    "start_time": "2022-06-21T17:05:19.749Z"
   },
   {
    "duration": 7,
    "start_time": "2022-06-21T17:05:19.832Z"
   },
   {
    "duration": 338,
    "start_time": "2022-06-21T17:05:19.840Z"
   },
   {
    "duration": 7,
    "start_time": "2022-06-21T17:05:20.180Z"
   },
   {
    "duration": 925,
    "start_time": "2022-06-21T17:05:20.188Z"
   },
   {
    "duration": 17,
    "start_time": "2022-06-21T17:05:21.115Z"
   },
   {
    "duration": 107,
    "start_time": "2022-06-21T17:05:21.168Z"
   },
   {
    "duration": 24,
    "start_time": "2022-06-21T17:05:21.277Z"
   },
   {
    "duration": 19,
    "start_time": "2022-06-21T17:05:21.303Z"
   },
   {
    "duration": 174,
    "start_time": "2022-06-21T17:05:21.323Z"
   },
   {
    "duration": 3,
    "start_time": "2022-06-21T17:05:21.499Z"
   },
   {
    "duration": 171,
    "start_time": "2022-06-21T17:05:21.504Z"
   },
   {
    "duration": 44,
    "start_time": "2022-06-21T17:05:21.677Z"
   },
   {
    "duration": 88,
    "start_time": "2022-06-21T17:05:21.723Z"
   },
   {
    "duration": 38,
    "start_time": "2022-06-21T17:05:21.813Z"
   },
   {
    "duration": 138,
    "start_time": "2022-06-21T17:05:21.853Z"
   },
   {
    "duration": 32,
    "start_time": "2022-06-21T17:05:21.993Z"
   },
   {
    "duration": 151,
    "start_time": "2022-06-21T17:05:22.027Z"
   },
   {
    "duration": 55,
    "start_time": "2022-06-21T17:05:22.179Z"
   },
   {
    "duration": 62,
    "start_time": "2022-06-21T17:05:22.235Z"
   },
   {
    "duration": 54,
    "start_time": "2022-06-21T17:05:22.299Z"
   },
   {
    "duration": 43,
    "start_time": "2022-06-21T17:05:22.367Z"
   },
   {
    "duration": 76,
    "start_time": "2022-06-21T17:05:22.412Z"
   },
   {
    "duration": 26,
    "start_time": "2022-06-21T17:05:22.489Z"
   },
   {
    "duration": 33,
    "start_time": "2022-06-21T17:05:22.517Z"
   },
   {
    "duration": 130,
    "start_time": "2022-06-21T17:05:22.552Z"
   },
   {
    "duration": 4,
    "start_time": "2022-06-21T17:05:22.684Z"
   },
   {
    "duration": 7,
    "start_time": "2022-06-21T17:05:22.689Z"
   },
   {
    "duration": 6,
    "start_time": "2022-06-21T17:05:22.698Z"
   },
   {
    "duration": 9,
    "start_time": "2022-06-21T17:05:22.706Z"
   },
   {
    "duration": 196,
    "start_time": "2022-06-21T17:05:22.716Z"
   },
   {
    "duration": 4,
    "start_time": "2022-06-21T17:05:22.913Z"
   },
   {
    "duration": 298,
    "start_time": "2022-06-21T17:05:22.919Z"
   },
   {
    "duration": 204,
    "start_time": "2022-06-21T17:05:23.218Z"
   },
   {
    "duration": 228,
    "start_time": "2022-06-21T17:05:23.423Z"
   },
   {
    "duration": 249,
    "start_time": "2022-06-21T17:05:23.653Z"
   },
   {
    "duration": 189,
    "start_time": "2022-06-21T17:05:23.903Z"
   },
   {
    "duration": 207,
    "start_time": "2022-06-21T17:05:24.094Z"
   },
   {
    "duration": 265,
    "start_time": "2022-06-21T17:05:24.303Z"
   },
   {
    "duration": 261,
    "start_time": "2022-06-21T17:05:24.570Z"
   },
   {
    "duration": 212,
    "start_time": "2022-06-21T17:05:24.833Z"
   },
   {
    "duration": 325,
    "start_time": "2022-06-21T17:05:25.047Z"
   },
   {
    "duration": 163,
    "start_time": "2022-06-21T17:05:25.374Z"
   },
   {
    "duration": 261,
    "start_time": "2022-06-21T17:05:25.539Z"
   },
   {
    "duration": 97,
    "start_time": "2022-06-21T17:05:25.802Z"
   },
   {
    "duration": 47,
    "start_time": "2022-06-21T17:05:25.900Z"
   },
   {
    "duration": 4,
    "start_time": "2022-06-21T17:05:25.966Z"
   },
   {
    "duration": 86,
    "start_time": "2022-06-21T17:05:25.972Z"
   },
   {
    "duration": 4,
    "start_time": "2022-06-21T17:05:26.067Z"
   },
   {
    "duration": 96,
    "start_time": "2022-06-21T17:05:26.072Z"
   },
   {
    "duration": 4,
    "start_time": "2022-06-21T17:05:26.170Z"
   },
   {
    "duration": 90,
    "start_time": "2022-06-21T17:05:26.180Z"
   },
   {
    "duration": 5,
    "start_time": "2022-06-21T17:05:26.272Z"
   },
   {
    "duration": 6,
    "start_time": "2022-06-21T17:05:26.278Z"
   },
   {
    "duration": 11,
    "start_time": "2022-06-21T17:05:26.286Z"
   },
   {
    "duration": 115,
    "start_time": "2022-06-21T17:05:26.299Z"
   },
   {
    "duration": 4,
    "start_time": "2022-06-21T17:05:26.415Z"
   },
   {
    "duration": 209,
    "start_time": "2022-06-21T17:05:26.421Z"
   },
   {
    "duration": 158,
    "start_time": "2022-06-21T17:05:26.632Z"
   },
   {
    "duration": 164,
    "start_time": "2022-06-21T17:05:26.791Z"
   },
   {
    "duration": 187,
    "start_time": "2022-06-21T17:05:26.966Z"
   },
   {
    "duration": 147,
    "start_time": "2022-06-21T17:05:27.155Z"
   },
   {
    "duration": 149,
    "start_time": "2022-06-21T17:05:27.304Z"
   },
   {
    "duration": 196,
    "start_time": "2022-06-21T17:05:27.454Z"
   },
   {
    "duration": 158,
    "start_time": "2022-06-21T17:05:27.652Z"
   },
   {
    "duration": 166,
    "start_time": "2022-06-21T17:05:27.811Z"
   },
   {
    "duration": 251,
    "start_time": "2022-06-21T17:05:27.979Z"
   },
   {
    "duration": 71,
    "start_time": "2022-06-21T17:05:28.231Z"
   },
   {
    "duration": 27,
    "start_time": "2022-06-21T17:05:28.304Z"
   },
   {
    "duration": 5,
    "start_time": "2022-06-21T17:05:28.333Z"
   },
   {
    "duration": 32,
    "start_time": "2022-06-21T17:05:28.339Z"
   },
   {
    "duration": 7,
    "start_time": "2022-06-21T17:05:28.372Z"
   },
   {
    "duration": 234,
    "start_time": "2022-06-21T17:05:28.381Z"
   },
   {
    "duration": 4,
    "start_time": "2022-06-21T17:05:28.617Z"
   },
   {
    "duration": 234,
    "start_time": "2022-06-21T17:05:28.622Z"
   },
   {
    "duration": 189,
    "start_time": "2022-06-21T17:05:28.866Z"
   },
   {
    "duration": 200,
    "start_time": "2022-06-21T17:05:29.057Z"
   },
   {
    "duration": 234,
    "start_time": "2022-06-21T17:05:29.267Z"
   },
   {
    "duration": 157,
    "start_time": "2022-06-21T17:05:29.503Z"
   },
   {
    "duration": 165,
    "start_time": "2022-06-21T17:05:29.666Z"
   },
   {
    "duration": 215,
    "start_time": "2022-06-21T17:05:29.833Z"
   },
   {
    "duration": 210,
    "start_time": "2022-06-21T17:05:30.050Z"
   },
   {
    "duration": 59,
    "start_time": "2022-06-21T17:05:30.267Z"
   },
   {
    "duration": 122,
    "start_time": "2022-06-21T17:05:30.328Z"
   },
   {
    "duration": 103,
    "start_time": "2022-06-21T17:05:30.452Z"
   },
   {
    "duration": 174,
    "start_time": "2022-06-21T17:05:30.557Z"
   },
   {
    "duration": 294,
    "start_time": "2022-06-21T17:05:30.732Z"
   },
   {
    "duration": 65,
    "start_time": "2022-06-21T17:05:31.027Z"
   },
   {
    "duration": 6,
    "start_time": "2022-06-21T17:05:31.094Z"
   },
   {
    "duration": 10,
    "start_time": "2022-06-21T17:05:31.102Z"
   },
   {
    "duration": 14,
    "start_time": "2022-06-21T17:05:31.114Z"
   },
   {
    "duration": 144,
    "start_time": "2022-06-21T17:05:31.130Z"
   },
   {
    "duration": 4,
    "start_time": "2022-06-21T17:05:31.276Z"
   },
   {
    "duration": 241,
    "start_time": "2022-06-21T17:05:31.282Z"
   },
   {
    "duration": 233,
    "start_time": "2022-06-21T17:05:31.525Z"
   },
   {
    "duration": 202,
    "start_time": "2022-06-21T17:05:31.759Z"
   },
   {
    "duration": 245,
    "start_time": "2022-06-21T17:05:31.966Z"
   },
   {
    "duration": 167,
    "start_time": "2022-06-21T17:05:32.213Z"
   },
   {
    "duration": 211,
    "start_time": "2022-06-21T17:05:32.382Z"
   },
   {
    "duration": 233,
    "start_time": "2022-06-21T17:05:32.595Z"
   },
   {
    "duration": 196,
    "start_time": "2022-06-21T17:05:32.830Z"
   },
   {
    "duration": 202,
    "start_time": "2022-06-21T17:05:33.028Z"
   },
   {
    "duration": 296,
    "start_time": "2022-06-21T17:05:33.232Z"
   },
   {
    "duration": 2284,
    "start_time": "2022-06-21T17:12:43.239Z"
   },
   {
    "duration": 899,
    "start_time": "2022-06-21T17:12:45.526Z"
   },
   {
    "duration": 240,
    "start_time": "2022-06-21T17:12:46.427Z"
   },
   {
    "duration": 808,
    "start_time": "2022-06-21T17:12:46.669Z"
   },
   {
    "duration": 37,
    "start_time": "2022-06-21T17:12:47.479Z"
   },
   {
    "duration": 155,
    "start_time": "2022-06-21T17:12:47.518Z"
   },
   {
    "duration": 61,
    "start_time": "2022-06-21T17:12:47.674Z"
   },
   {
    "duration": 5,
    "start_time": "2022-06-21T17:12:47.768Z"
   },
   {
    "duration": 238,
    "start_time": "2022-06-21T17:12:47.775Z"
   },
   {
    "duration": 72,
    "start_time": "2022-06-21T17:12:48.015Z"
   },
   {
    "duration": 227,
    "start_time": "2022-06-21T17:12:48.088Z"
   },
   {
    "duration": 68,
    "start_time": "2022-06-21T17:12:48.317Z"
   },
   {
    "duration": 12,
    "start_time": "2022-06-21T17:12:48.387Z"
   },
   {
    "duration": 12,
    "start_time": "2022-06-21T17:12:48.401Z"
   },
   {
    "duration": 163,
    "start_time": "2022-06-21T17:12:48.414Z"
   },
   {
    "duration": 139,
    "start_time": "2022-06-21T17:12:48.579Z"
   },
   {
    "duration": 139,
    "start_time": "2022-06-21T17:12:48.720Z"
   },
   {
    "duration": 6,
    "start_time": "2022-06-21T17:12:48.861Z"
   },
   {
    "duration": 3319,
    "start_time": "2022-06-21T17:12:48.869Z"
   },
   {
    "duration": 2226,
    "start_time": "2022-06-21T17:12:52.189Z"
   },
   {
    "duration": 318,
    "start_time": "2022-06-21T17:12:54.417Z"
   },
   {
    "duration": 76,
    "start_time": "2022-06-21T17:12:54.737Z"
   },
   {
    "duration": 5,
    "start_time": "2022-06-21T17:12:54.814Z"
   },
   {
    "duration": 159,
    "start_time": "2022-06-21T17:12:54.822Z"
   },
   {
    "duration": 57,
    "start_time": "2022-06-21T17:12:54.982Z"
   },
   {
    "duration": 26,
    "start_time": "2022-06-21T17:12:55.041Z"
   },
   {
    "duration": 206,
    "start_time": "2022-06-21T17:12:55.069Z"
   },
   {
    "duration": 50,
    "start_time": "2022-06-21T17:12:55.280Z"
   },
   {
    "duration": 318,
    "start_time": "2022-06-21T17:12:55.332Z"
   },
   {
    "duration": 90,
    "start_time": "2022-06-21T17:12:55.652Z"
   },
   {
    "duration": 7,
    "start_time": "2022-06-21T17:12:55.744Z"
   },
   {
    "duration": 357,
    "start_time": "2022-06-21T17:12:55.766Z"
   },
   {
    "duration": 8,
    "start_time": "2022-06-21T17:12:56.124Z"
   },
   {
    "duration": 1562,
    "start_time": "2022-06-21T17:12:56.133Z"
   },
   {
    "duration": 77,
    "start_time": "2022-06-21T17:12:57.697Z"
   },
   {
    "duration": 126,
    "start_time": "2022-06-21T17:12:57.777Z"
   },
   {
    "duration": 74,
    "start_time": "2022-06-21T17:12:57.905Z"
   },
   {
    "duration": 21,
    "start_time": "2022-06-21T17:12:57.982Z"
   },
   {
    "duration": 291,
    "start_time": "2022-06-21T17:12:58.005Z"
   },
   {
    "duration": 4,
    "start_time": "2022-06-21T17:12:58.298Z"
   },
   {
    "duration": 381,
    "start_time": "2022-06-21T17:12:58.304Z"
   },
   {
    "duration": 99,
    "start_time": "2022-06-21T17:12:58.687Z"
   },
   {
    "duration": 115,
    "start_time": "2022-06-21T17:12:58.788Z"
   },
   {
    "duration": 79,
    "start_time": "2022-06-21T17:12:58.905Z"
   },
   {
    "duration": 156,
    "start_time": "2022-06-21T17:12:58.986Z"
   },
   {
    "duration": 44,
    "start_time": "2022-06-21T17:12:59.144Z"
   },
   {
    "duration": 142,
    "start_time": "2022-06-21T17:12:59.189Z"
   },
   {
    "duration": 71,
    "start_time": "2022-06-21T17:12:59.333Z"
   },
   {
    "duration": 61,
    "start_time": "2022-06-21T17:12:59.406Z"
   },
   {
    "duration": 59,
    "start_time": "2022-06-21T17:12:59.469Z"
   },
   {
    "duration": 73,
    "start_time": "2022-06-21T17:12:59.530Z"
   },
   {
    "duration": 78,
    "start_time": "2022-06-21T17:12:59.605Z"
   },
   {
    "duration": 27,
    "start_time": "2022-06-21T17:12:59.685Z"
   },
   {
    "duration": 54,
    "start_time": "2022-06-21T17:12:59.714Z"
   },
   {
    "duration": 118,
    "start_time": "2022-06-21T17:12:59.770Z"
   },
   {
    "duration": 4,
    "start_time": "2022-06-21T17:12:59.890Z"
   },
   {
    "duration": 5,
    "start_time": "2022-06-21T17:12:59.896Z"
   },
   {
    "duration": 5,
    "start_time": "2022-06-21T17:12:59.903Z"
   },
   {
    "duration": 9,
    "start_time": "2022-06-21T17:12:59.909Z"
   },
   {
    "duration": 193,
    "start_time": "2022-06-21T17:12:59.920Z"
   },
   {
    "duration": 4,
    "start_time": "2022-06-21T17:13:00.114Z"
   },
   {
    "duration": 279,
    "start_time": "2022-06-21T17:13:00.119Z"
   },
   {
    "duration": 213,
    "start_time": "2022-06-21T17:13:00.399Z"
   },
   {
    "duration": 225,
    "start_time": "2022-06-21T17:13:00.615Z"
   },
   {
    "duration": 291,
    "start_time": "2022-06-21T17:13:00.842Z"
   },
   {
    "duration": 214,
    "start_time": "2022-06-21T17:13:01.135Z"
   },
   {
    "duration": 217,
    "start_time": "2022-06-21T17:13:01.352Z"
   },
   {
    "duration": 270,
    "start_time": "2022-06-21T17:13:01.571Z"
   },
   {
    "duration": 224,
    "start_time": "2022-06-21T17:13:01.843Z"
   },
   {
    "duration": 215,
    "start_time": "2022-06-21T17:13:02.069Z"
   },
   {
    "duration": 322,
    "start_time": "2022-06-21T17:13:02.285Z"
   },
   {
    "duration": 172,
    "start_time": "2022-06-21T17:13:02.608Z"
   },
   {
    "duration": 260,
    "start_time": "2022-06-21T17:13:02.782Z"
   },
   {
    "duration": 106,
    "start_time": "2022-06-21T17:13:03.043Z"
   },
   {
    "duration": 53,
    "start_time": "2022-06-21T17:13:03.151Z"
   },
   {
    "duration": 3,
    "start_time": "2022-06-21T17:13:03.206Z"
   },
   {
    "duration": 105,
    "start_time": "2022-06-21T17:13:03.210Z"
   },
   {
    "duration": 4,
    "start_time": "2022-06-21T17:13:03.317Z"
   },
   {
    "duration": 94,
    "start_time": "2022-06-21T17:13:03.323Z"
   },
   {
    "duration": 4,
    "start_time": "2022-06-21T17:13:03.419Z"
   },
   {
    "duration": 96,
    "start_time": "2022-06-21T17:13:03.425Z"
   },
   {
    "duration": 5,
    "start_time": "2022-06-21T17:13:03.528Z"
   },
   {
    "duration": 14,
    "start_time": "2022-06-21T17:13:03.534Z"
   },
   {
    "duration": 8,
    "start_time": "2022-06-21T17:13:03.550Z"
   },
   {
    "duration": 125,
    "start_time": "2022-06-21T17:13:03.560Z"
   },
   {
    "duration": 4,
    "start_time": "2022-06-21T17:13:03.687Z"
   },
   {
    "duration": 199,
    "start_time": "2022-06-21T17:13:03.692Z"
   },
   {
    "duration": 152,
    "start_time": "2022-06-21T17:13:03.893Z"
   },
   {
    "duration": 149,
    "start_time": "2022-06-21T17:13:04.047Z"
   },
   {
    "duration": 210,
    "start_time": "2022-06-21T17:13:04.198Z"
   },
   {
    "duration": 147,
    "start_time": "2022-06-21T17:13:04.410Z"
   },
   {
    "duration": 156,
    "start_time": "2022-06-21T17:13:04.566Z"
   },
   {
    "duration": 185,
    "start_time": "2022-06-21T17:13:04.724Z"
   },
   {
    "duration": 165,
    "start_time": "2022-06-21T17:13:04.911Z"
   },
   {
    "duration": 161,
    "start_time": "2022-06-21T17:13:05.078Z"
   },
   {
    "duration": 261,
    "start_time": "2022-06-21T17:13:05.240Z"
   },
   {
    "duration": 75,
    "start_time": "2022-06-21T17:13:05.503Z"
   },
   {
    "duration": 26,
    "start_time": "2022-06-21T17:13:05.580Z"
   },
   {
    "duration": 5,
    "start_time": "2022-06-21T17:13:05.608Z"
   },
   {
    "duration": 16,
    "start_time": "2022-06-21T17:13:05.614Z"
   },
   {
    "duration": 7,
    "start_time": "2022-06-21T17:13:05.632Z"
   },
   {
    "duration": 162,
    "start_time": "2022-06-21T17:13:05.641Z"
   },
   {
    "duration": 4,
    "start_time": "2022-06-21T17:13:05.804Z"
   },
   {
    "duration": 252,
    "start_time": "2022-06-21T17:13:05.810Z"
   },
   {
    "duration": 283,
    "start_time": "2022-06-21T17:13:06.066Z"
   },
   {
    "duration": 188,
    "start_time": "2022-06-21T17:13:06.351Z"
   },
   {
    "duration": 242,
    "start_time": "2022-06-21T17:13:06.540Z"
   },
   {
    "duration": 171,
    "start_time": "2022-06-21T17:13:06.784Z"
   },
   {
    "duration": 187,
    "start_time": "2022-06-21T17:13:06.966Z"
   },
   {
    "duration": 267,
    "start_time": "2022-06-21T17:13:07.154Z"
   },
   {
    "duration": 209,
    "start_time": "2022-06-21T17:13:07.423Z"
   },
   {
    "duration": 71,
    "start_time": "2022-06-21T17:13:07.634Z"
   },
   {
    "duration": 107,
    "start_time": "2022-06-21T17:13:07.706Z"
   },
   {
    "duration": 110,
    "start_time": "2022-06-21T17:13:07.814Z"
   },
   {
    "duration": 204,
    "start_time": "2022-06-21T17:13:07.925Z"
   },
   {
    "duration": 292,
    "start_time": "2022-06-21T17:13:08.130Z"
   },
   {
    "duration": 77,
    "start_time": "2022-06-21T17:13:08.425Z"
   },
   {
    "duration": 6,
    "start_time": "2022-06-21T17:13:08.504Z"
   },
   {
    "duration": 8,
    "start_time": "2022-06-21T17:13:08.511Z"
   },
   {
    "duration": 7,
    "start_time": "2022-06-21T17:13:08.520Z"
   },
   {
    "duration": 151,
    "start_time": "2022-06-21T17:13:08.529Z"
   },
   {
    "duration": 4,
    "start_time": "2022-06-21T17:13:08.681Z"
   },
   {
    "duration": 227,
    "start_time": "2022-06-21T17:13:08.688Z"
   },
   {
    "duration": 221,
    "start_time": "2022-06-21T17:13:08.916Z"
   },
   {
    "duration": 195,
    "start_time": "2022-06-21T17:13:09.139Z"
   },
   {
    "duration": 219,
    "start_time": "2022-06-21T17:13:09.335Z"
   },
   {
    "duration": 190,
    "start_time": "2022-06-21T17:13:09.556Z"
   },
   {
    "duration": 243,
    "start_time": "2022-06-21T17:13:09.748Z"
   },
   {
    "duration": 239,
    "start_time": "2022-06-21T17:13:09.993Z"
   },
   {
    "duration": 184,
    "start_time": "2022-06-21T17:13:10.233Z"
   },
   {
    "duration": 205,
    "start_time": "2022-06-21T17:13:10.419Z"
   },
   {
    "duration": 285,
    "start_time": "2022-06-21T17:13:10.626Z"
   },
   {
    "duration": 2703,
    "start_time": "2022-06-21T17:13:58.503Z"
   },
   {
    "duration": 1300,
    "start_time": "2022-06-21T17:14:01.209Z"
   },
   {
    "duration": 216,
    "start_time": "2022-06-21T17:14:02.510Z"
   },
   {
    "duration": 784,
    "start_time": "2022-06-21T17:14:02.729Z"
   },
   {
    "duration": 36,
    "start_time": "2022-06-21T17:14:03.515Z"
   },
   {
    "duration": 159,
    "start_time": "2022-06-21T17:14:03.553Z"
   },
   {
    "duration": 98,
    "start_time": "2022-06-21T17:14:03.713Z"
   },
   {
    "duration": 4,
    "start_time": "2022-06-21T17:14:03.813Z"
   },
   {
    "duration": 244,
    "start_time": "2022-06-21T17:14:03.819Z"
   },
   {
    "duration": 54,
    "start_time": "2022-06-21T17:14:04.068Z"
   },
   {
    "duration": 248,
    "start_time": "2022-06-21T17:14:04.124Z"
   },
   {
    "duration": 58,
    "start_time": "2022-06-21T17:14:04.375Z"
   },
   {
    "duration": 10,
    "start_time": "2022-06-21T17:14:04.435Z"
   },
   {
    "duration": 27,
    "start_time": "2022-06-21T17:14:04.446Z"
   },
   {
    "duration": 143,
    "start_time": "2022-06-21T17:14:04.474Z"
   },
   {
    "duration": 128,
    "start_time": "2022-06-21T17:14:04.620Z"
   },
   {
    "duration": 131,
    "start_time": "2022-06-21T17:14:04.750Z"
   },
   {
    "duration": 4,
    "start_time": "2022-06-21T17:14:04.883Z"
   },
   {
    "duration": 2124,
    "start_time": "2022-06-21T17:14:04.888Z"
   },
   {
    "duration": 2171,
    "start_time": "2022-06-21T17:14:07.015Z"
   },
   {
    "duration": 279,
    "start_time": "2022-06-21T17:14:09.188Z"
   },
   {
    "duration": 53,
    "start_time": "2022-06-21T17:14:09.469Z"
   },
   {
    "duration": 4,
    "start_time": "2022-06-21T17:14:09.523Z"
   },
   {
    "duration": 117,
    "start_time": "2022-06-21T17:14:09.529Z"
   },
   {
    "duration": 69,
    "start_time": "2022-06-21T17:14:09.648Z"
   },
   {
    "duration": 4,
    "start_time": "2022-06-21T17:14:09.719Z"
   },
   {
    "duration": 189,
    "start_time": "2022-06-21T17:14:09.724Z"
   },
   {
    "duration": 62,
    "start_time": "2022-06-21T17:14:09.917Z"
   },
   {
    "duration": 266,
    "start_time": "2022-06-21T17:14:09.980Z"
   },
   {
    "duration": 79,
    "start_time": "2022-06-21T17:14:10.249Z"
   },
   {
    "duration": 5,
    "start_time": "2022-06-21T17:14:10.330Z"
   },
   {
    "duration": 342,
    "start_time": "2022-06-21T17:14:10.336Z"
   },
   {
    "duration": 7,
    "start_time": "2022-06-21T17:14:10.679Z"
   },
   {
    "duration": 1015,
    "start_time": "2022-06-21T17:14:10.688Z"
   },
   {
    "duration": 16,
    "start_time": "2022-06-21T17:14:11.705Z"
   },
   {
    "duration": 88,
    "start_time": "2022-06-21T17:14:11.723Z"
   },
   {
    "duration": 75,
    "start_time": "2022-06-21T17:14:11.812Z"
   },
   {
    "duration": 21,
    "start_time": "2022-06-21T17:14:11.888Z"
   },
   {
    "duration": 171,
    "start_time": "2022-06-21T17:14:11.911Z"
   },
   {
    "duration": 4,
    "start_time": "2022-06-21T17:14:12.084Z"
   },
   {
    "duration": 178,
    "start_time": "2022-06-21T17:14:12.089Z"
   },
   {
    "duration": 42,
    "start_time": "2022-06-21T17:14:12.269Z"
   },
   {
    "duration": 73,
    "start_time": "2022-06-21T17:14:12.313Z"
   },
   {
    "duration": 37,
    "start_time": "2022-06-21T17:14:12.387Z"
   },
   {
    "duration": 137,
    "start_time": "2022-06-21T17:14:12.425Z"
   },
   {
    "duration": 36,
    "start_time": "2022-06-21T17:14:12.563Z"
   },
   {
    "duration": 136,
    "start_time": "2022-06-21T17:14:12.600Z"
   },
   {
    "duration": 74,
    "start_time": "2022-06-21T17:14:12.737Z"
   },
   {
    "duration": 55,
    "start_time": "2022-06-21T17:14:12.813Z"
   },
   {
    "duration": 59,
    "start_time": "2022-06-21T17:14:12.869Z"
   },
   {
    "duration": 57,
    "start_time": "2022-06-21T17:14:12.930Z"
   },
   {
    "duration": 58,
    "start_time": "2022-06-21T17:14:12.989Z"
   },
   {
    "duration": 40,
    "start_time": "2022-06-21T17:14:13.048Z"
   },
   {
    "duration": 35,
    "start_time": "2022-06-21T17:14:13.089Z"
   },
   {
    "duration": 147,
    "start_time": "2022-06-21T17:14:13.126Z"
   },
   {
    "duration": 4,
    "start_time": "2022-06-21T17:14:13.274Z"
   },
   {
    "duration": 5,
    "start_time": "2022-06-21T17:14:13.279Z"
   },
   {
    "duration": 8,
    "start_time": "2022-06-21T17:14:13.285Z"
   },
   {
    "duration": 7,
    "start_time": "2022-06-21T17:14:13.295Z"
   },
   {
    "duration": 194,
    "start_time": "2022-06-21T17:14:13.304Z"
   },
   {
    "duration": 4,
    "start_time": "2022-06-21T17:14:13.500Z"
   },
   {
    "duration": 276,
    "start_time": "2022-06-21T17:14:13.505Z"
   },
   {
    "duration": 202,
    "start_time": "2022-06-21T17:14:13.783Z"
   },
   {
    "duration": 239,
    "start_time": "2022-06-21T17:14:13.986Z"
   },
   {
    "duration": 308,
    "start_time": "2022-06-21T17:14:14.227Z"
   },
   {
    "duration": 214,
    "start_time": "2022-06-21T17:14:14.537Z"
   },
   {
    "duration": 224,
    "start_time": "2022-06-21T17:14:14.752Z"
   },
   {
    "duration": 266,
    "start_time": "2022-06-21T17:14:14.978Z"
   },
   {
    "duration": 366,
    "start_time": "2022-06-21T17:14:15.245Z"
   },
   {
    "duration": 456,
    "start_time": "2022-06-21T17:14:15.613Z"
   },
   {
    "duration": 611,
    "start_time": "2022-06-21T17:14:16.071Z"
   },
   {
    "duration": 309,
    "start_time": "2022-06-21T17:14:16.683Z"
   },
   {
    "duration": 369,
    "start_time": "2022-06-21T17:14:16.993Z"
   },
   {
    "duration": 109,
    "start_time": "2022-06-21T17:14:17.363Z"
   },
   {
    "duration": 48,
    "start_time": "2022-06-21T17:14:17.474Z"
   },
   {
    "duration": 3,
    "start_time": "2022-06-21T17:14:17.523Z"
   },
   {
    "duration": 123,
    "start_time": "2022-06-21T17:14:17.527Z"
   },
   {
    "duration": 4,
    "start_time": "2022-06-21T17:14:17.652Z"
   },
   {
    "duration": 83,
    "start_time": "2022-06-21T17:14:17.668Z"
   },
   {
    "duration": 16,
    "start_time": "2022-06-21T17:14:17.753Z"
   },
   {
    "duration": 84,
    "start_time": "2022-06-21T17:14:17.771Z"
   },
   {
    "duration": 5,
    "start_time": "2022-06-21T17:14:17.867Z"
   },
   {
    "duration": 7,
    "start_time": "2022-06-21T17:14:17.874Z"
   },
   {
    "duration": 7,
    "start_time": "2022-06-21T17:14:17.882Z"
   },
   {
    "duration": 136,
    "start_time": "2022-06-21T17:14:17.891Z"
   },
   {
    "duration": 3,
    "start_time": "2022-06-21T17:14:18.029Z"
   },
   {
    "duration": 217,
    "start_time": "2022-06-21T17:14:18.034Z"
   },
   {
    "duration": 158,
    "start_time": "2022-06-21T17:14:18.252Z"
   },
   {
    "duration": 165,
    "start_time": "2022-06-21T17:14:18.412Z"
   },
   {
    "duration": 211,
    "start_time": "2022-06-21T17:14:18.578Z"
   },
   {
    "duration": 143,
    "start_time": "2022-06-21T17:14:18.790Z"
   },
   {
    "duration": 164,
    "start_time": "2022-06-21T17:14:18.935Z"
   },
   {
    "duration": 242,
    "start_time": "2022-06-21T17:14:19.101Z"
   },
   {
    "duration": 205,
    "start_time": "2022-06-21T17:14:19.346Z"
   },
   {
    "duration": 176,
    "start_time": "2022-06-21T17:14:19.553Z"
   },
   {
    "duration": 384,
    "start_time": "2022-06-21T17:14:19.731Z"
   },
   {
    "duration": 86,
    "start_time": "2022-06-21T17:14:20.117Z"
   },
   {
    "duration": 26,
    "start_time": "2022-06-21T17:14:20.205Z"
   },
   {
    "duration": 5,
    "start_time": "2022-06-21T17:14:20.233Z"
   },
   {
    "duration": 6,
    "start_time": "2022-06-21T17:14:20.240Z"
   },
   {
    "duration": 12,
    "start_time": "2022-06-21T17:14:20.267Z"
   },
   {
    "duration": 132,
    "start_time": "2022-06-21T17:14:20.281Z"
   },
   {
    "duration": 4,
    "start_time": "2022-06-21T17:14:20.414Z"
   },
   {
    "duration": 285,
    "start_time": "2022-06-21T17:14:20.419Z"
   },
   {
    "duration": 178,
    "start_time": "2022-06-21T17:14:20.706Z"
   },
   {
    "duration": 197,
    "start_time": "2022-06-21T17:14:20.886Z"
   },
   {
    "duration": 315,
    "start_time": "2022-06-21T17:14:21.085Z"
   },
   {
    "duration": 299,
    "start_time": "2022-06-21T17:14:21.402Z"
   },
   {
    "duration": 313,
    "start_time": "2022-06-21T17:14:21.702Z"
   },
   {
    "duration": 452,
    "start_time": "2022-06-21T17:14:22.017Z"
   },
   {
    "duration": 314,
    "start_time": "2022-06-21T17:14:22.470Z"
   },
   {
    "duration": 110,
    "start_time": "2022-06-21T17:14:22.785Z"
   },
   {
    "duration": 211,
    "start_time": "2022-06-21T17:14:22.897Z"
   },
   {
    "duration": 264,
    "start_time": "2022-06-21T17:14:23.110Z"
   },
   {
    "duration": 194,
    "start_time": "2022-06-21T17:14:23.375Z"
   },
   {
    "duration": 318,
    "start_time": "2022-06-21T17:14:23.571Z"
   },
   {
    "duration": 58,
    "start_time": "2022-06-21T17:14:23.891Z"
   },
   {
    "duration": 17,
    "start_time": "2022-06-21T17:14:23.951Z"
   },
   {
    "duration": 6,
    "start_time": "2022-06-21T17:14:23.970Z"
   },
   {
    "duration": 7,
    "start_time": "2022-06-21T17:14:23.978Z"
   },
   {
    "duration": 141,
    "start_time": "2022-06-21T17:14:23.987Z"
   },
   {
    "duration": 4,
    "start_time": "2022-06-21T17:14:24.129Z"
   },
   {
    "duration": 220,
    "start_time": "2022-06-21T17:14:24.135Z"
   },
   {
    "duration": 188,
    "start_time": "2022-06-21T17:14:24.357Z"
   },
   {
    "duration": 209,
    "start_time": "2022-06-21T17:14:24.547Z"
   },
   {
    "duration": 223,
    "start_time": "2022-06-21T17:14:24.767Z"
   },
   {
    "duration": 187,
    "start_time": "2022-06-21T17:14:24.992Z"
   },
   {
    "duration": 219,
    "start_time": "2022-06-21T17:14:25.181Z"
   },
   {
    "duration": 255,
    "start_time": "2022-06-21T17:14:25.402Z"
   },
   {
    "duration": 194,
    "start_time": "2022-06-21T17:14:25.659Z"
   },
   {
    "duration": 203,
    "start_time": "2022-06-21T17:14:25.854Z"
   },
   {
    "duration": 320,
    "start_time": "2022-06-21T17:14:26.059Z"
   },
   {
    "duration": 11523,
    "start_time": "2022-06-21T17:57:22.653Z"
   },
   {
    "duration": 1418,
    "start_time": "2022-06-21T17:57:34.180Z"
   },
   {
    "duration": 221,
    "start_time": "2022-06-21T17:57:35.603Z"
   },
   {
    "duration": 1149,
    "start_time": "2022-06-21T17:57:35.825Z"
   },
   {
    "duration": 43,
    "start_time": "2022-06-21T17:57:36.975Z"
   },
   {
    "duration": 151,
    "start_time": "2022-06-21T17:57:37.020Z"
   },
   {
    "duration": 97,
    "start_time": "2022-06-21T17:57:37.173Z"
   },
   {
    "duration": 5,
    "start_time": "2022-06-21T17:57:37.272Z"
   },
   {
    "duration": 258,
    "start_time": "2022-06-21T17:57:37.279Z"
   },
   {
    "duration": 62,
    "start_time": "2022-06-21T17:57:37.539Z"
   },
   {
    "duration": 239,
    "start_time": "2022-06-21T17:57:37.603Z"
   },
   {
    "duration": 66,
    "start_time": "2022-06-21T17:57:37.844Z"
   },
   {
    "duration": 10,
    "start_time": "2022-06-21T17:57:37.913Z"
   },
   {
    "duration": 30,
    "start_time": "2022-06-21T17:57:37.925Z"
   },
   {
    "duration": 156,
    "start_time": "2022-06-21T17:57:37.958Z"
   },
   {
    "duration": 149,
    "start_time": "2022-06-21T17:57:38.116Z"
   },
   {
    "duration": 139,
    "start_time": "2022-06-21T17:57:38.269Z"
   },
   {
    "duration": 5,
    "start_time": "2022-06-21T17:57:38.409Z"
   },
   {
    "duration": 2329,
    "start_time": "2022-06-21T17:57:38.416Z"
   },
   {
    "duration": 2121,
    "start_time": "2022-06-21T17:57:40.746Z"
   },
   {
    "duration": 250,
    "start_time": "2022-06-21T17:57:42.868Z"
   },
   {
    "duration": 151,
    "start_time": "2022-06-21T17:57:43.119Z"
   },
   {
    "duration": 0,
    "start_time": "2022-06-21T17:57:43.274Z"
   },
   {
    "duration": 0,
    "start_time": "2022-06-21T17:57:43.276Z"
   },
   {
    "duration": 0,
    "start_time": "2022-06-21T17:57:43.277Z"
   },
   {
    "duration": 0,
    "start_time": "2022-06-21T17:57:43.278Z"
   },
   {
    "duration": 0,
    "start_time": "2022-06-21T17:57:43.279Z"
   },
   {
    "duration": 0,
    "start_time": "2022-06-21T17:57:43.280Z"
   },
   {
    "duration": 0,
    "start_time": "2022-06-21T17:57:43.281Z"
   },
   {
    "duration": 0,
    "start_time": "2022-06-21T17:57:43.281Z"
   },
   {
    "duration": 0,
    "start_time": "2022-06-21T17:57:43.283Z"
   },
   {
    "duration": 0,
    "start_time": "2022-06-21T17:57:43.283Z"
   },
   {
    "duration": 0,
    "start_time": "2022-06-21T17:57:43.284Z"
   },
   {
    "duration": 0,
    "start_time": "2022-06-21T17:57:43.285Z"
   },
   {
    "duration": 0,
    "start_time": "2022-06-21T17:57:43.286Z"
   },
   {
    "duration": 0,
    "start_time": "2022-06-21T17:57:43.287Z"
   },
   {
    "duration": 0,
    "start_time": "2022-06-21T17:57:43.288Z"
   },
   {
    "duration": 0,
    "start_time": "2022-06-21T17:57:43.289Z"
   },
   {
    "duration": 0,
    "start_time": "2022-06-21T17:57:43.290Z"
   },
   {
    "duration": 0,
    "start_time": "2022-06-21T17:57:43.291Z"
   },
   {
    "duration": 0,
    "start_time": "2022-06-21T17:57:43.292Z"
   },
   {
    "duration": 0,
    "start_time": "2022-06-21T17:57:43.293Z"
   },
   {
    "duration": 0,
    "start_time": "2022-06-21T17:57:43.294Z"
   },
   {
    "duration": 0,
    "start_time": "2022-06-21T17:57:43.295Z"
   },
   {
    "duration": 0,
    "start_time": "2022-06-21T17:57:43.296Z"
   },
   {
    "duration": 0,
    "start_time": "2022-06-21T17:57:43.297Z"
   },
   {
    "duration": 0,
    "start_time": "2022-06-21T17:57:43.298Z"
   },
   {
    "duration": 0,
    "start_time": "2022-06-21T17:57:43.298Z"
   },
   {
    "duration": 0,
    "start_time": "2022-06-21T17:57:43.299Z"
   },
   {
    "duration": 0,
    "start_time": "2022-06-21T17:57:43.300Z"
   },
   {
    "duration": 0,
    "start_time": "2022-06-21T17:57:43.301Z"
   },
   {
    "duration": 0,
    "start_time": "2022-06-21T17:57:43.302Z"
   },
   {
    "duration": 0,
    "start_time": "2022-06-21T17:57:43.303Z"
   },
   {
    "duration": 0,
    "start_time": "2022-06-21T17:57:43.355Z"
   },
   {
    "duration": 0,
    "start_time": "2022-06-21T17:57:43.356Z"
   },
   {
    "duration": 0,
    "start_time": "2022-06-21T17:57:43.357Z"
   },
   {
    "duration": 0,
    "start_time": "2022-06-21T17:57:43.358Z"
   },
   {
    "duration": 0,
    "start_time": "2022-06-21T17:57:43.359Z"
   },
   {
    "duration": 0,
    "start_time": "2022-06-21T17:57:43.361Z"
   },
   {
    "duration": 0,
    "start_time": "2022-06-21T17:57:43.362Z"
   },
   {
    "duration": 0,
    "start_time": "2022-06-21T17:57:43.363Z"
   },
   {
    "duration": 0,
    "start_time": "2022-06-21T17:57:43.364Z"
   },
   {
    "duration": 0,
    "start_time": "2022-06-21T17:57:43.365Z"
   },
   {
    "duration": 0,
    "start_time": "2022-06-21T17:57:43.367Z"
   },
   {
    "duration": 0,
    "start_time": "2022-06-21T17:57:43.368Z"
   },
   {
    "duration": 0,
    "start_time": "2022-06-21T17:57:43.369Z"
   },
   {
    "duration": 0,
    "start_time": "2022-06-21T17:57:43.371Z"
   },
   {
    "duration": 0,
    "start_time": "2022-06-21T17:57:43.372Z"
   },
   {
    "duration": 0,
    "start_time": "2022-06-21T17:57:43.373Z"
   },
   {
    "duration": 0,
    "start_time": "2022-06-21T17:57:43.374Z"
   },
   {
    "duration": 0,
    "start_time": "2022-06-21T17:57:43.376Z"
   },
   {
    "duration": 0,
    "start_time": "2022-06-21T17:57:43.377Z"
   },
   {
    "duration": 0,
    "start_time": "2022-06-21T17:57:43.378Z"
   },
   {
    "duration": 0,
    "start_time": "2022-06-21T17:57:43.379Z"
   },
   {
    "duration": 0,
    "start_time": "2022-06-21T17:57:43.380Z"
   },
   {
    "duration": 0,
    "start_time": "2022-06-21T17:57:43.381Z"
   },
   {
    "duration": 0,
    "start_time": "2022-06-21T17:57:43.382Z"
   },
   {
    "duration": 0,
    "start_time": "2022-06-21T17:57:43.383Z"
   },
   {
    "duration": 0,
    "start_time": "2022-06-21T17:57:43.384Z"
   },
   {
    "duration": 0,
    "start_time": "2022-06-21T17:57:43.386Z"
   },
   {
    "duration": 0,
    "start_time": "2022-06-21T17:57:43.387Z"
   },
   {
    "duration": 0,
    "start_time": "2022-06-21T17:57:43.388Z"
   },
   {
    "duration": 0,
    "start_time": "2022-06-21T17:57:43.389Z"
   },
   {
    "duration": 0,
    "start_time": "2022-06-21T17:57:43.391Z"
   },
   {
    "duration": 0,
    "start_time": "2022-06-21T17:57:43.392Z"
   },
   {
    "duration": 0,
    "start_time": "2022-06-21T17:57:43.393Z"
   },
   {
    "duration": 0,
    "start_time": "2022-06-21T17:57:43.394Z"
   },
   {
    "duration": 0,
    "start_time": "2022-06-21T17:57:43.455Z"
   },
   {
    "duration": 0,
    "start_time": "2022-06-21T17:57:43.456Z"
   },
   {
    "duration": 0,
    "start_time": "2022-06-21T17:57:43.457Z"
   },
   {
    "duration": 0,
    "start_time": "2022-06-21T17:57:43.458Z"
   },
   {
    "duration": 0,
    "start_time": "2022-06-21T17:57:43.458Z"
   },
   {
    "duration": 0,
    "start_time": "2022-06-21T17:57:43.459Z"
   },
   {
    "duration": 0,
    "start_time": "2022-06-21T17:57:43.460Z"
   },
   {
    "duration": 0,
    "start_time": "2022-06-21T17:57:43.461Z"
   },
   {
    "duration": 0,
    "start_time": "2022-06-21T17:57:43.462Z"
   },
   {
    "duration": 0,
    "start_time": "2022-06-21T17:57:43.462Z"
   },
   {
    "duration": 0,
    "start_time": "2022-06-21T17:57:43.463Z"
   },
   {
    "duration": 0,
    "start_time": "2022-06-21T17:57:43.465Z"
   },
   {
    "duration": 0,
    "start_time": "2022-06-21T17:57:43.465Z"
   },
   {
    "duration": 0,
    "start_time": "2022-06-21T17:57:43.466Z"
   },
   {
    "duration": 0,
    "start_time": "2022-06-21T17:57:43.467Z"
   },
   {
    "duration": 0,
    "start_time": "2022-06-21T17:57:43.468Z"
   },
   {
    "duration": 0,
    "start_time": "2022-06-21T17:57:43.469Z"
   },
   {
    "duration": 0,
    "start_time": "2022-06-21T17:57:43.471Z"
   },
   {
    "duration": 0,
    "start_time": "2022-06-21T17:57:43.472Z"
   },
   {
    "duration": 0,
    "start_time": "2022-06-21T17:57:43.473Z"
   },
   {
    "duration": 0,
    "start_time": "2022-06-21T17:57:43.473Z"
   },
   {
    "duration": 0,
    "start_time": "2022-06-21T17:57:43.474Z"
   },
   {
    "duration": 0,
    "start_time": "2022-06-21T17:57:43.475Z"
   },
   {
    "duration": 0,
    "start_time": "2022-06-21T17:57:43.476Z"
   },
   {
    "duration": 0,
    "start_time": "2022-06-21T17:57:43.477Z"
   },
   {
    "duration": 0,
    "start_time": "2022-06-21T17:57:43.478Z"
   },
   {
    "duration": 0,
    "start_time": "2022-06-21T17:57:43.479Z"
   },
   {
    "duration": 0,
    "start_time": "2022-06-21T17:57:43.481Z"
   },
   {
    "duration": 0,
    "start_time": "2022-06-21T17:57:43.481Z"
   },
   {
    "duration": 0,
    "start_time": "2022-06-21T17:57:43.482Z"
   },
   {
    "duration": 0,
    "start_time": "2022-06-21T17:57:43.483Z"
   },
   {
    "duration": 0,
    "start_time": "2022-06-21T17:57:43.485Z"
   },
   {
    "duration": 0,
    "start_time": "2022-06-21T17:57:43.485Z"
   },
   {
    "duration": 0,
    "start_time": "2022-06-21T17:57:43.487Z"
   },
   {
    "duration": 0,
    "start_time": "2022-06-21T17:57:43.487Z"
   },
   {
    "duration": 0,
    "start_time": "2022-06-21T17:57:43.489Z"
   },
   {
    "duration": 0,
    "start_time": "2022-06-21T17:57:43.490Z"
   },
   {
    "duration": 0,
    "start_time": "2022-06-21T17:57:43.491Z"
   },
   {
    "duration": 0,
    "start_time": "2022-06-21T17:57:43.552Z"
   },
   {
    "duration": 0,
    "start_time": "2022-06-21T17:57:43.553Z"
   },
   {
    "duration": 1,
    "start_time": "2022-06-21T17:57:43.559Z"
   },
   {
    "duration": 0,
    "start_time": "2022-06-21T17:57:43.560Z"
   },
   {
    "duration": 0,
    "start_time": "2022-06-21T17:57:43.561Z"
   },
   {
    "duration": 0,
    "start_time": "2022-06-21T17:57:43.562Z"
   },
   {
    "duration": 0,
    "start_time": "2022-06-21T17:57:43.562Z"
   },
   {
    "duration": 2146,
    "start_time": "2022-06-21T17:58:34.093Z"
   },
   {
    "duration": 960,
    "start_time": "2022-06-21T17:58:36.241Z"
   },
   {
    "duration": 244,
    "start_time": "2022-06-21T17:58:37.203Z"
   },
   {
    "duration": 760,
    "start_time": "2022-06-21T17:58:37.449Z"
   },
   {
    "duration": 31,
    "start_time": "2022-06-21T17:58:38.210Z"
   },
   {
    "duration": 143,
    "start_time": "2022-06-21T17:58:38.242Z"
   },
   {
    "duration": 83,
    "start_time": "2022-06-21T17:58:38.387Z"
   },
   {
    "duration": 4,
    "start_time": "2022-06-21T17:58:38.471Z"
   },
   {
    "duration": 233,
    "start_time": "2022-06-21T17:58:38.477Z"
   },
   {
    "duration": 75,
    "start_time": "2022-06-21T17:58:38.713Z"
   },
   {
    "duration": 211,
    "start_time": "2022-06-21T17:58:38.789Z"
   },
   {
    "duration": 70,
    "start_time": "2022-06-21T17:58:39.002Z"
   },
   {
    "duration": 9,
    "start_time": "2022-06-21T17:58:39.081Z"
   },
   {
    "duration": 8,
    "start_time": "2022-06-21T17:58:39.091Z"
   },
   {
    "duration": 166,
    "start_time": "2022-06-21T17:58:39.101Z"
   },
   {
    "duration": 136,
    "start_time": "2022-06-21T17:58:39.272Z"
   },
   {
    "duration": 177,
    "start_time": "2022-06-21T17:58:39.410Z"
   },
   {
    "duration": 5,
    "start_time": "2022-06-21T17:58:39.589Z"
   },
   {
    "duration": 2270,
    "start_time": "2022-06-21T17:58:39.597Z"
   },
   {
    "duration": 2028,
    "start_time": "2022-06-21T17:58:41.869Z"
   },
   {
    "duration": 235,
    "start_time": "2022-06-21T17:58:43.898Z"
   },
   {
    "duration": 71,
    "start_time": "2022-06-21T17:58:44.134Z"
   },
   {
    "duration": 4,
    "start_time": "2022-06-21T17:58:44.206Z"
   },
   {
    "duration": 113,
    "start_time": "2022-06-21T17:58:44.211Z"
   },
   {
    "duration": 65,
    "start_time": "2022-06-21T17:58:44.325Z"
   },
   {
    "duration": 3,
    "start_time": "2022-06-21T17:58:44.391Z"
   },
   {
    "duration": 181,
    "start_time": "2022-06-21T17:58:44.395Z"
   },
   {
    "duration": 40,
    "start_time": "2022-06-21T17:58:44.580Z"
   },
   {
    "duration": 280,
    "start_time": "2022-06-21T17:58:44.621Z"
   },
   {
    "duration": 78,
    "start_time": "2022-06-21T17:58:44.903Z"
   },
   {
    "duration": 5,
    "start_time": "2022-06-21T17:58:44.982Z"
   },
   {
    "duration": 326,
    "start_time": "2022-06-21T17:58:44.988Z"
   },
   {
    "duration": 7,
    "start_time": "2022-06-21T17:58:45.316Z"
   },
   {
    "duration": 1012,
    "start_time": "2022-06-21T17:58:45.325Z"
   },
   {
    "duration": 25,
    "start_time": "2022-06-21T17:58:46.339Z"
   },
   {
    "duration": 104,
    "start_time": "2022-06-21T17:58:46.367Z"
   },
   {
    "duration": 22,
    "start_time": "2022-06-21T17:58:46.472Z"
   },
   {
    "duration": 24,
    "start_time": "2022-06-21T17:58:46.553Z"
   },
   {
    "duration": 128,
    "start_time": "2022-06-21T17:58:46.578Z"
   },
   {
    "duration": 3,
    "start_time": "2022-06-21T17:58:46.707Z"
   },
   {
    "duration": 164,
    "start_time": "2022-06-21T17:58:46.711Z"
   },
   {
    "duration": 36,
    "start_time": "2022-06-21T17:58:46.877Z"
   },
   {
    "duration": 76,
    "start_time": "2022-06-21T17:58:46.915Z"
   },
   {
    "duration": 34,
    "start_time": "2022-06-21T17:58:46.993Z"
   },
   {
    "duration": 132,
    "start_time": "2022-06-21T17:58:47.029Z"
   },
   {
    "duration": 32,
    "start_time": "2022-06-21T17:58:47.163Z"
   },
   {
    "duration": 128,
    "start_time": "2022-06-21T17:58:47.196Z"
   },
   {
    "duration": 72,
    "start_time": "2022-06-21T17:58:47.325Z"
   },
   {
    "duration": 42,
    "start_time": "2022-06-21T17:58:47.398Z"
   },
   {
    "duration": 69,
    "start_time": "2022-06-21T17:58:47.442Z"
   },
   {
    "duration": 58,
    "start_time": "2022-06-21T17:58:47.512Z"
   },
   {
    "duration": 54,
    "start_time": "2022-06-21T17:58:47.571Z"
   },
   {
    "duration": 42,
    "start_time": "2022-06-21T17:58:47.627Z"
   },
   {
    "duration": 32,
    "start_time": "2022-06-21T17:58:47.670Z"
   },
   {
    "duration": 128,
    "start_time": "2022-06-21T17:58:47.703Z"
   },
   {
    "duration": 4,
    "start_time": "2022-06-21T17:58:47.832Z"
   },
   {
    "duration": 19,
    "start_time": "2022-06-21T17:58:47.837Z"
   },
   {
    "duration": 5,
    "start_time": "2022-06-21T17:58:47.864Z"
   },
   {
    "duration": 13,
    "start_time": "2022-06-21T17:58:47.870Z"
   },
   {
    "duration": 185,
    "start_time": "2022-06-21T17:58:47.885Z"
   },
   {
    "duration": 3,
    "start_time": "2022-06-21T17:58:48.071Z"
   },
   {
    "duration": 246,
    "start_time": "2022-06-21T17:58:48.076Z"
   },
   {
    "duration": 194,
    "start_time": "2022-06-21T17:58:48.324Z"
   },
   {
    "duration": 203,
    "start_time": "2022-06-21T17:58:48.519Z"
   },
   {
    "duration": 299,
    "start_time": "2022-06-21T17:58:48.724Z"
   },
   {
    "duration": 202,
    "start_time": "2022-06-21T17:58:49.025Z"
   },
   {
    "duration": 190,
    "start_time": "2022-06-21T17:58:49.228Z"
   },
   {
    "duration": 247,
    "start_time": "2022-06-21T17:58:49.419Z"
   },
   {
    "duration": 209,
    "start_time": "2022-06-21T17:58:49.668Z"
   },
   {
    "duration": 233,
    "start_time": "2022-06-21T17:58:49.878Z"
   },
   {
    "duration": 328,
    "start_time": "2022-06-21T17:58:50.112Z"
   },
   {
    "duration": 189,
    "start_time": "2022-06-21T17:58:50.442Z"
   },
   {
    "duration": 254,
    "start_time": "2022-06-21T17:58:50.632Z"
   },
   {
    "duration": 111,
    "start_time": "2022-06-21T17:58:50.888Z"
   },
   {
    "duration": 70,
    "start_time": "2022-06-21T17:58:51.001Z"
   },
   {
    "duration": 3,
    "start_time": "2022-06-21T17:58:51.074Z"
   },
   {
    "duration": 106,
    "start_time": "2022-06-21T17:58:51.078Z"
   },
   {
    "duration": 4,
    "start_time": "2022-06-21T17:58:51.185Z"
   },
   {
    "duration": 112,
    "start_time": "2022-06-21T17:58:51.191Z"
   },
   {
    "duration": 4,
    "start_time": "2022-06-21T17:58:51.304Z"
   },
   {
    "duration": 90,
    "start_time": "2022-06-21T17:58:51.309Z"
   },
   {
    "duration": 5,
    "start_time": "2022-06-21T17:58:51.406Z"
   },
   {
    "duration": 9,
    "start_time": "2022-06-21T17:58:51.412Z"
   },
   {
    "duration": 6,
    "start_time": "2022-06-21T17:58:51.422Z"
   },
   {
    "duration": 130,
    "start_time": "2022-06-21T17:58:51.429Z"
   },
   {
    "duration": 6,
    "start_time": "2022-06-21T17:58:51.560Z"
   },
   {
    "duration": 223,
    "start_time": "2022-06-21T17:58:51.568Z"
   },
   {
    "duration": 137,
    "start_time": "2022-06-21T17:58:51.793Z"
   },
   {
    "duration": 152,
    "start_time": "2022-06-21T17:58:51.932Z"
   },
   {
    "duration": 188,
    "start_time": "2022-06-21T17:58:52.086Z"
   },
   {
    "duration": 127,
    "start_time": "2022-06-21T17:58:52.276Z"
   },
   {
    "duration": 148,
    "start_time": "2022-06-21T17:58:52.405Z"
   },
   {
    "duration": 222,
    "start_time": "2022-06-21T17:58:52.555Z"
   },
   {
    "duration": 185,
    "start_time": "2022-06-21T17:58:52.780Z"
   },
   {
    "duration": 160,
    "start_time": "2022-06-21T17:58:52.971Z"
   },
   {
    "duration": 366,
    "start_time": "2022-06-21T17:58:53.133Z"
   },
   {
    "duration": 97,
    "start_time": "2022-06-21T17:58:53.501Z"
   },
   {
    "duration": 38,
    "start_time": "2022-06-21T17:58:53.600Z"
   },
   {
    "duration": 7,
    "start_time": "2022-06-21T17:58:53.652Z"
   },
   {
    "duration": 13,
    "start_time": "2022-06-21T17:58:53.664Z"
   },
   {
    "duration": 16,
    "start_time": "2022-06-21T17:58:53.679Z"
   },
   {
    "duration": 119,
    "start_time": "2022-06-21T17:58:53.697Z"
   },
   {
    "duration": 4,
    "start_time": "2022-06-21T17:58:53.818Z"
   },
   {
    "duration": 268,
    "start_time": "2022-06-21T17:58:53.823Z"
   },
   {
    "duration": 154,
    "start_time": "2022-06-21T17:58:54.094Z"
   },
   {
    "duration": 164,
    "start_time": "2022-06-21T17:58:54.253Z"
   },
   {
    "duration": 242,
    "start_time": "2022-06-21T17:58:54.419Z"
   },
   {
    "duration": 166,
    "start_time": "2022-06-21T17:58:54.665Z"
   },
   {
    "duration": 197,
    "start_time": "2022-06-21T17:58:54.833Z"
   },
   {
    "duration": 254,
    "start_time": "2022-06-21T17:58:55.033Z"
   },
   {
    "duration": 201,
    "start_time": "2022-06-21T17:58:55.289Z"
   },
   {
    "duration": 68,
    "start_time": "2022-06-21T17:58:55.492Z"
   },
   {
    "duration": 112,
    "start_time": "2022-06-21T17:58:55.566Z"
   },
   {
    "duration": 117,
    "start_time": "2022-06-21T17:58:55.680Z"
   },
   {
    "duration": 195,
    "start_time": "2022-06-21T17:58:55.799Z"
   },
   {
    "duration": 346,
    "start_time": "2022-06-21T17:58:55.996Z"
   },
   {
    "duration": 68,
    "start_time": "2022-06-21T17:58:56.344Z"
   },
   {
    "duration": 6,
    "start_time": "2022-06-21T17:58:56.414Z"
   },
   {
    "duration": 6,
    "start_time": "2022-06-21T17:58:56.422Z"
   },
   {
    "duration": 11,
    "start_time": "2022-06-21T17:58:56.456Z"
   },
   {
    "duration": 131,
    "start_time": "2022-06-21T17:58:56.469Z"
   },
   {
    "duration": 4,
    "start_time": "2022-06-21T17:58:56.602Z"
   },
   {
    "duration": 217,
    "start_time": "2022-06-21T17:58:56.608Z"
   },
   {
    "duration": 204,
    "start_time": "2022-06-21T17:58:56.827Z"
   },
   {
    "duration": 241,
    "start_time": "2022-06-21T17:58:57.033Z"
   },
   {
    "duration": 227,
    "start_time": "2022-06-21T17:58:57.275Z"
   },
   {
    "duration": 187,
    "start_time": "2022-06-21T17:58:57.504Z"
   },
   {
    "duration": 210,
    "start_time": "2022-06-21T17:58:57.693Z"
   },
   {
    "duration": 282,
    "start_time": "2022-06-21T17:58:57.904Z"
   },
   {
    "duration": 234,
    "start_time": "2022-06-21T17:58:58.188Z"
   },
   {
    "duration": 229,
    "start_time": "2022-06-21T17:58:58.423Z"
   },
   {
    "duration": 293,
    "start_time": "2022-06-21T17:58:58.653Z"
   },
   {
    "duration": 83,
    "start_time": "2022-06-21T18:14:52.625Z"
   },
   {
    "duration": 169,
    "start_time": "2022-06-21T18:21:50.132Z"
   },
   {
    "duration": 13,
    "start_time": "2022-06-21T18:24:38.925Z"
   },
   {
    "duration": 23,
    "start_time": "2022-06-21T18:25:08.444Z"
   },
   {
    "duration": 127,
    "start_time": "2022-06-21T18:25:18.687Z"
   },
   {
    "duration": 121,
    "start_time": "2022-06-21T18:25:42.199Z"
   },
   {
    "duration": 125,
    "start_time": "2022-06-21T18:26:27.006Z"
   },
   {
    "duration": 132,
    "start_time": "2022-06-21T18:26:41.749Z"
   },
   {
    "duration": 4,
    "start_time": "2022-06-21T18:27:38.241Z"
   },
   {
    "duration": 143,
    "start_time": "2022-06-21T18:27:41.191Z"
   },
   {
    "duration": 146,
    "start_time": "2022-06-21T18:27:51.384Z"
   },
   {
    "duration": 168,
    "start_time": "2022-06-21T18:27:57.262Z"
   },
   {
    "duration": 138,
    "start_time": "2022-06-21T18:34:21.218Z"
   },
   {
    "duration": 10,
    "start_time": "2022-06-21T18:34:25.259Z"
   },
   {
    "duration": 5,
    "start_time": "2022-06-21T18:34:33.136Z"
   },
   {
    "duration": 15,
    "start_time": "2022-06-21T18:37:01.546Z"
   },
   {
    "duration": 11238,
    "start_time": "2022-06-22T07:52:08.150Z"
   },
   {
    "duration": 1093,
    "start_time": "2022-06-22T07:52:19.391Z"
   },
   {
    "duration": 265,
    "start_time": "2022-06-22T07:52:20.486Z"
   },
   {
    "duration": 2079,
    "start_time": "2022-06-22T07:52:20.753Z"
   },
   {
    "duration": 46,
    "start_time": "2022-06-22T07:52:22.835Z"
   },
   {
    "duration": 156,
    "start_time": "2022-06-22T07:52:22.883Z"
   },
   {
    "duration": 105,
    "start_time": "2022-06-22T07:52:23.040Z"
   },
   {
    "duration": 4,
    "start_time": "2022-06-22T07:52:23.147Z"
   },
   {
    "duration": 239,
    "start_time": "2022-06-22T07:52:23.153Z"
   },
   {
    "duration": 66,
    "start_time": "2022-06-22T07:52:23.394Z"
   },
   {
    "duration": 239,
    "start_time": "2022-06-22T07:52:23.462Z"
   },
   {
    "duration": 67,
    "start_time": "2022-06-22T07:52:23.703Z"
   },
   {
    "duration": 9,
    "start_time": "2022-06-22T07:52:23.771Z"
   },
   {
    "duration": 8,
    "start_time": "2022-06-22T07:52:23.783Z"
   },
   {
    "duration": 175,
    "start_time": "2022-06-22T07:52:23.795Z"
   },
   {
    "duration": 146,
    "start_time": "2022-06-22T07:52:23.975Z"
   },
   {
    "duration": 153,
    "start_time": "2022-06-22T07:52:24.126Z"
   },
   {
    "duration": 4,
    "start_time": "2022-06-22T07:52:24.282Z"
   },
   {
    "duration": 2442,
    "start_time": "2022-06-22T07:52:24.289Z"
   },
   {
    "duration": 2182,
    "start_time": "2022-06-22T07:52:26.733Z"
   },
   {
    "duration": 309,
    "start_time": "2022-06-22T07:52:28.926Z"
   },
   {
    "duration": 156,
    "start_time": "2022-06-22T07:52:29.237Z"
   },
   {
    "duration": 0,
    "start_time": "2022-06-22T07:52:29.397Z"
   },
   {
    "duration": 0,
    "start_time": "2022-06-22T07:52:29.398Z"
   },
   {
    "duration": 0,
    "start_time": "2022-06-22T07:52:29.399Z"
   },
   {
    "duration": 0,
    "start_time": "2022-06-22T07:52:29.400Z"
   },
   {
    "duration": 0,
    "start_time": "2022-06-22T07:52:29.401Z"
   },
   {
    "duration": 0,
    "start_time": "2022-06-22T07:52:29.402Z"
   },
   {
    "duration": 0,
    "start_time": "2022-06-22T07:52:29.403Z"
   },
   {
    "duration": 0,
    "start_time": "2022-06-22T07:52:29.425Z"
   },
   {
    "duration": 0,
    "start_time": "2022-06-22T07:52:29.426Z"
   },
   {
    "duration": 0,
    "start_time": "2022-06-22T07:52:29.428Z"
   },
   {
    "duration": 0,
    "start_time": "2022-06-22T07:52:29.429Z"
   },
   {
    "duration": 1,
    "start_time": "2022-06-22T07:52:29.429Z"
   },
   {
    "duration": 0,
    "start_time": "2022-06-22T07:52:29.431Z"
   },
   {
    "duration": 0,
    "start_time": "2022-06-22T07:52:29.432Z"
   },
   {
    "duration": 0,
    "start_time": "2022-06-22T07:52:29.433Z"
   },
   {
    "duration": 0,
    "start_time": "2022-06-22T07:52:29.434Z"
   },
   {
    "duration": 0,
    "start_time": "2022-06-22T07:52:29.435Z"
   },
   {
    "duration": 0,
    "start_time": "2022-06-22T07:52:29.436Z"
   },
   {
    "duration": 0,
    "start_time": "2022-06-22T07:52:29.437Z"
   },
   {
    "duration": 0,
    "start_time": "2022-06-22T07:52:29.439Z"
   },
   {
    "duration": 0,
    "start_time": "2022-06-22T07:52:29.439Z"
   },
   {
    "duration": 0,
    "start_time": "2022-06-22T07:52:29.441Z"
   },
   {
    "duration": 0,
    "start_time": "2022-06-22T07:52:29.442Z"
   },
   {
    "duration": 0,
    "start_time": "2022-06-22T07:52:29.445Z"
   },
   {
    "duration": 0,
    "start_time": "2022-06-22T07:52:29.446Z"
   },
   {
    "duration": 0,
    "start_time": "2022-06-22T07:52:29.447Z"
   },
   {
    "duration": 0,
    "start_time": "2022-06-22T07:52:29.448Z"
   },
   {
    "duration": 0,
    "start_time": "2022-06-22T07:52:29.449Z"
   },
   {
    "duration": 0,
    "start_time": "2022-06-22T07:52:29.450Z"
   },
   {
    "duration": 0,
    "start_time": "2022-06-22T07:52:29.451Z"
   },
   {
    "duration": 0,
    "start_time": "2022-06-22T07:52:29.452Z"
   },
   {
    "duration": 0,
    "start_time": "2022-06-22T07:52:29.453Z"
   },
   {
    "duration": 0,
    "start_time": "2022-06-22T07:52:29.454Z"
   },
   {
    "duration": 0,
    "start_time": "2022-06-22T07:52:29.455Z"
   },
   {
    "duration": 0,
    "start_time": "2022-06-22T07:52:29.457Z"
   },
   {
    "duration": 0,
    "start_time": "2022-06-22T07:52:29.458Z"
   },
   {
    "duration": 0,
    "start_time": "2022-06-22T07:52:29.459Z"
   },
   {
    "duration": 0,
    "start_time": "2022-06-22T07:52:29.460Z"
   },
   {
    "duration": 0,
    "start_time": "2022-06-22T07:52:29.461Z"
   },
   {
    "duration": 0,
    "start_time": "2022-06-22T07:52:29.462Z"
   },
   {
    "duration": 0,
    "start_time": "2022-06-22T07:52:29.526Z"
   },
   {
    "duration": 0,
    "start_time": "2022-06-22T07:52:29.527Z"
   },
   {
    "duration": 0,
    "start_time": "2022-06-22T07:52:29.528Z"
   },
   {
    "duration": 0,
    "start_time": "2022-06-22T07:52:29.529Z"
   },
   {
    "duration": 0,
    "start_time": "2022-06-22T07:52:29.530Z"
   },
   {
    "duration": 0,
    "start_time": "2022-06-22T07:52:29.531Z"
   },
   {
    "duration": 0,
    "start_time": "2022-06-22T07:52:29.532Z"
   },
   {
    "duration": 0,
    "start_time": "2022-06-22T07:52:29.533Z"
   },
   {
    "duration": 0,
    "start_time": "2022-06-22T07:52:29.534Z"
   },
   {
    "duration": 0,
    "start_time": "2022-06-22T07:52:29.535Z"
   },
   {
    "duration": 0,
    "start_time": "2022-06-22T07:52:29.537Z"
   },
   {
    "duration": 0,
    "start_time": "2022-06-22T07:52:29.538Z"
   },
   {
    "duration": 0,
    "start_time": "2022-06-22T07:52:29.539Z"
   },
   {
    "duration": 0,
    "start_time": "2022-06-22T07:52:29.540Z"
   },
   {
    "duration": 0,
    "start_time": "2022-06-22T07:52:29.541Z"
   },
   {
    "duration": 0,
    "start_time": "2022-06-22T07:52:29.542Z"
   },
   {
    "duration": 0,
    "start_time": "2022-06-22T07:52:29.543Z"
   },
   {
    "duration": 0,
    "start_time": "2022-06-22T07:52:29.544Z"
   },
   {
    "duration": 0,
    "start_time": "2022-06-22T07:52:29.545Z"
   },
   {
    "duration": 0,
    "start_time": "2022-06-22T07:52:29.546Z"
   },
   {
    "duration": 0,
    "start_time": "2022-06-22T07:52:29.547Z"
   },
   {
    "duration": 0,
    "start_time": "2022-06-22T07:52:29.548Z"
   },
   {
    "duration": 0,
    "start_time": "2022-06-22T07:52:29.549Z"
   },
   {
    "duration": 0,
    "start_time": "2022-06-22T07:52:29.550Z"
   },
   {
    "duration": 0,
    "start_time": "2022-06-22T07:52:29.551Z"
   },
   {
    "duration": 0,
    "start_time": "2022-06-22T07:52:29.552Z"
   },
   {
    "duration": 0,
    "start_time": "2022-06-22T07:52:29.553Z"
   },
   {
    "duration": 0,
    "start_time": "2022-06-22T07:52:29.554Z"
   },
   {
    "duration": 0,
    "start_time": "2022-06-22T07:52:29.555Z"
   },
   {
    "duration": 0,
    "start_time": "2022-06-22T07:52:29.556Z"
   },
   {
    "duration": 0,
    "start_time": "2022-06-22T07:52:29.557Z"
   },
   {
    "duration": 0,
    "start_time": "2022-06-22T07:52:29.558Z"
   },
   {
    "duration": 0,
    "start_time": "2022-06-22T07:52:29.559Z"
   },
   {
    "duration": 0,
    "start_time": "2022-06-22T07:52:29.560Z"
   },
   {
    "duration": 0,
    "start_time": "2022-06-22T07:52:29.561Z"
   },
   {
    "duration": 0,
    "start_time": "2022-06-22T07:52:29.625Z"
   },
   {
    "duration": 0,
    "start_time": "2022-06-22T07:52:29.626Z"
   },
   {
    "duration": 1,
    "start_time": "2022-06-22T07:52:29.627Z"
   },
   {
    "duration": 0,
    "start_time": "2022-06-22T07:52:29.628Z"
   },
   {
    "duration": 0,
    "start_time": "2022-06-22T07:52:29.629Z"
   },
   {
    "duration": 0,
    "start_time": "2022-06-22T07:52:29.630Z"
   },
   {
    "duration": 0,
    "start_time": "2022-06-22T07:52:29.631Z"
   },
   {
    "duration": 0,
    "start_time": "2022-06-22T07:52:29.632Z"
   },
   {
    "duration": 0,
    "start_time": "2022-06-22T07:52:29.633Z"
   },
   {
    "duration": 0,
    "start_time": "2022-06-22T07:52:29.634Z"
   },
   {
    "duration": 0,
    "start_time": "2022-06-22T07:52:29.634Z"
   },
   {
    "duration": 0,
    "start_time": "2022-06-22T07:52:29.635Z"
   },
   {
    "duration": 0,
    "start_time": "2022-06-22T07:52:29.636Z"
   },
   {
    "duration": 0,
    "start_time": "2022-06-22T07:52:29.637Z"
   },
   {
    "duration": 0,
    "start_time": "2022-06-22T07:52:29.638Z"
   },
   {
    "duration": 0,
    "start_time": "2022-06-22T07:52:29.639Z"
   },
   {
    "duration": 0,
    "start_time": "2022-06-22T07:52:29.640Z"
   },
   {
    "duration": 0,
    "start_time": "2022-06-22T07:52:29.641Z"
   },
   {
    "duration": 0,
    "start_time": "2022-06-22T07:52:29.641Z"
   },
   {
    "duration": 0,
    "start_time": "2022-06-22T07:52:29.642Z"
   },
   {
    "duration": 0,
    "start_time": "2022-06-22T07:52:29.643Z"
   },
   {
    "duration": 0,
    "start_time": "2022-06-22T07:52:29.644Z"
   },
   {
    "duration": 0,
    "start_time": "2022-06-22T07:52:29.645Z"
   },
   {
    "duration": 0,
    "start_time": "2022-06-22T07:52:29.646Z"
   },
   {
    "duration": 0,
    "start_time": "2022-06-22T07:52:29.647Z"
   },
   {
    "duration": 0,
    "start_time": "2022-06-22T07:52:29.648Z"
   },
   {
    "duration": 0,
    "start_time": "2022-06-22T07:52:29.649Z"
   },
   {
    "duration": 0,
    "start_time": "2022-06-22T07:52:29.650Z"
   },
   {
    "duration": 0,
    "start_time": "2022-06-22T07:52:29.651Z"
   },
   {
    "duration": 0,
    "start_time": "2022-06-22T07:52:29.651Z"
   },
   {
    "duration": 0,
    "start_time": "2022-06-22T07:52:29.652Z"
   },
   {
    "duration": 0,
    "start_time": "2022-06-22T07:52:29.653Z"
   },
   {
    "duration": 0,
    "start_time": "2022-06-22T07:52:29.654Z"
   },
   {
    "duration": 0,
    "start_time": "2022-06-22T07:52:29.655Z"
   },
   {
    "duration": 0,
    "start_time": "2022-06-22T07:52:29.656Z"
   },
   {
    "duration": 0,
    "start_time": "2022-06-22T07:52:29.657Z"
   },
   {
    "duration": 0,
    "start_time": "2022-06-22T07:52:29.658Z"
   },
   {
    "duration": 2376,
    "start_time": "2022-06-22T07:52:47.059Z"
   },
   {
    "duration": 944,
    "start_time": "2022-06-22T07:52:49.437Z"
   },
   {
    "duration": 247,
    "start_time": "2022-06-22T07:52:50.383Z"
   },
   {
    "duration": 779,
    "start_time": "2022-06-22T07:52:50.631Z"
   },
   {
    "duration": 44,
    "start_time": "2022-06-22T07:52:51.412Z"
   },
   {
    "duration": 182,
    "start_time": "2022-06-22T07:52:51.457Z"
   },
   {
    "duration": 92,
    "start_time": "2022-06-22T07:52:51.640Z"
   },
   {
    "duration": 5,
    "start_time": "2022-06-22T07:52:51.734Z"
   },
   {
    "duration": 238,
    "start_time": "2022-06-22T07:52:51.740Z"
   },
   {
    "duration": 70,
    "start_time": "2022-06-22T07:52:51.980Z"
   },
   {
    "duration": 264,
    "start_time": "2022-06-22T07:52:52.051Z"
   },
   {
    "duration": 61,
    "start_time": "2022-06-22T07:52:52.317Z"
   },
   {
    "duration": 9,
    "start_time": "2022-06-22T07:52:52.379Z"
   },
   {
    "duration": 35,
    "start_time": "2022-06-22T07:52:52.391Z"
   },
   {
    "duration": 326,
    "start_time": "2022-06-22T07:52:52.432Z"
   },
   {
    "duration": 151,
    "start_time": "2022-06-22T07:52:52.763Z"
   },
   {
    "duration": 153,
    "start_time": "2022-06-22T07:52:52.927Z"
   },
   {
    "duration": 5,
    "start_time": "2022-06-22T07:52:53.084Z"
   },
   {
    "duration": 2350,
    "start_time": "2022-06-22T07:52:53.093Z"
   },
   {
    "duration": 2436,
    "start_time": "2022-06-22T07:52:55.444Z"
   },
   {
    "duration": 295,
    "start_time": "2022-06-22T07:52:57.882Z"
   },
   {
    "duration": 58,
    "start_time": "2022-06-22T07:52:58.226Z"
   },
   {
    "duration": 5,
    "start_time": "2022-06-22T07:52:58.286Z"
   },
   {
    "duration": 124,
    "start_time": "2022-06-22T07:52:58.326Z"
   },
   {
    "duration": 87,
    "start_time": "2022-06-22T07:52:58.452Z"
   },
   {
    "duration": 6,
    "start_time": "2022-06-22T07:52:58.541Z"
   },
   {
    "duration": 295,
    "start_time": "2022-06-22T07:52:58.549Z"
   },
   {
    "duration": 202,
    "start_time": "2022-06-22T07:52:58.846Z"
   },
   {
    "duration": 46,
    "start_time": "2022-06-22T07:52:59.050Z"
   },
   {
    "duration": 268,
    "start_time": "2022-06-22T07:52:59.126Z"
   },
   {
    "duration": 95,
    "start_time": "2022-06-22T07:52:59.396Z"
   },
   {
    "duration": 5,
    "start_time": "2022-06-22T07:52:59.493Z"
   },
   {
    "duration": 356,
    "start_time": "2022-06-22T07:52:59.499Z"
   },
   {
    "duration": 8,
    "start_time": "2022-06-22T07:52:59.857Z"
   },
   {
    "duration": 1041,
    "start_time": "2022-06-22T07:52:59.867Z"
   },
   {
    "duration": 18,
    "start_time": "2022-06-22T07:53:00.929Z"
   },
   {
    "duration": 127,
    "start_time": "2022-06-22T07:53:01.044Z"
   },
   {
    "duration": 72,
    "start_time": "2022-06-22T07:53:01.173Z"
   },
   {
    "duration": 22,
    "start_time": "2022-06-22T07:53:01.247Z"
   },
   {
    "duration": 198,
    "start_time": "2022-06-22T07:53:01.271Z"
   },
   {
    "duration": 4,
    "start_time": "2022-06-22T07:53:01.471Z"
   },
   {
    "duration": 213,
    "start_time": "2022-06-22T07:53:01.476Z"
   },
   {
    "duration": 64,
    "start_time": "2022-06-22T07:53:01.691Z"
   },
   {
    "duration": 81,
    "start_time": "2022-06-22T07:53:01.757Z"
   },
   {
    "duration": 20,
    "start_time": "2022-06-22T07:53:01.840Z"
   },
   {
    "duration": 63,
    "start_time": "2022-06-22T07:53:01.863Z"
   },
   {
    "duration": 164,
    "start_time": "2022-06-22T07:53:01.928Z"
   },
   {
    "duration": 53,
    "start_time": "2022-06-22T07:53:02.094Z"
   },
   {
    "duration": 143,
    "start_time": "2022-06-22T07:53:02.150Z"
   },
   {
    "duration": 79,
    "start_time": "2022-06-22T07:53:02.296Z"
   },
   {
    "duration": 64,
    "start_time": "2022-06-22T07:53:02.377Z"
   },
   {
    "duration": 60,
    "start_time": "2022-06-22T07:53:02.443Z"
   },
   {
    "duration": 64,
    "start_time": "2022-06-22T07:53:02.505Z"
   },
   {
    "duration": 85,
    "start_time": "2022-06-22T07:53:02.571Z"
   },
   {
    "duration": 28,
    "start_time": "2022-06-22T07:53:02.657Z"
   },
   {
    "duration": 65,
    "start_time": "2022-06-22T07:53:02.687Z"
   },
   {
    "duration": 155,
    "start_time": "2022-06-22T07:53:02.754Z"
   },
   {
    "duration": 5,
    "start_time": "2022-06-22T07:53:02.911Z"
   },
   {
    "duration": 14,
    "start_time": "2022-06-22T07:53:02.918Z"
   },
   {
    "duration": 11,
    "start_time": "2022-06-22T07:53:02.934Z"
   },
   {
    "duration": 10,
    "start_time": "2022-06-22T07:53:02.947Z"
   },
   {
    "duration": 234,
    "start_time": "2022-06-22T07:53:02.959Z"
   },
   {
    "duration": 5,
    "start_time": "2022-06-22T07:53:03.196Z"
   },
   {
    "duration": 290,
    "start_time": "2022-06-22T07:53:03.225Z"
   },
   {
    "duration": 281,
    "start_time": "2022-06-22T07:53:03.517Z"
   },
   {
    "duration": 280,
    "start_time": "2022-06-22T07:53:03.826Z"
   },
   {
    "duration": 312,
    "start_time": "2022-06-22T07:53:04.108Z"
   },
   {
    "duration": 227,
    "start_time": "2022-06-22T07:53:04.426Z"
   },
   {
    "duration": 254,
    "start_time": "2022-06-22T07:53:04.655Z"
   },
   {
    "duration": 314,
    "start_time": "2022-06-22T07:53:04.911Z"
   },
   {
    "duration": 250,
    "start_time": "2022-06-22T07:53:05.227Z"
   },
   {
    "duration": 392,
    "start_time": "2022-06-22T07:53:05.479Z"
   },
   {
    "duration": 341,
    "start_time": "2022-06-22T07:53:05.873Z"
   },
   {
    "duration": 198,
    "start_time": "2022-06-22T07:53:06.216Z"
   },
   {
    "duration": 353,
    "start_time": "2022-06-22T07:53:06.416Z"
   },
   {
    "duration": 113,
    "start_time": "2022-06-22T07:53:06.772Z"
   },
   {
    "duration": 68,
    "start_time": "2022-06-22T07:53:06.887Z"
   },
   {
    "duration": 3,
    "start_time": "2022-06-22T07:53:06.957Z"
   },
   {
    "duration": 110,
    "start_time": "2022-06-22T07:53:06.962Z"
   },
   {
    "duration": 6,
    "start_time": "2022-06-22T07:53:07.073Z"
   },
   {
    "duration": 115,
    "start_time": "2022-06-22T07:53:07.081Z"
   },
   {
    "duration": 4,
    "start_time": "2022-06-22T07:53:07.198Z"
   },
   {
    "duration": 123,
    "start_time": "2022-06-22T07:53:07.204Z"
   },
   {
    "duration": 6,
    "start_time": "2022-06-22T07:53:07.329Z"
   },
   {
    "duration": 10,
    "start_time": "2022-06-22T07:53:07.337Z"
   },
   {
    "duration": 11,
    "start_time": "2022-06-22T07:53:07.349Z"
   },
   {
    "duration": 144,
    "start_time": "2022-06-22T07:53:07.362Z"
   },
   {
    "duration": 5,
    "start_time": "2022-06-22T07:53:07.525Z"
   },
   {
    "duration": 318,
    "start_time": "2022-06-22T07:53:07.532Z"
   },
   {
    "duration": 202,
    "start_time": "2022-06-22T07:53:07.852Z"
   },
   {
    "duration": 189,
    "start_time": "2022-06-22T07:53:08.056Z"
   },
   {
    "duration": 237,
    "start_time": "2022-06-22T07:53:08.246Z"
   },
   {
    "duration": 146,
    "start_time": "2022-06-22T07:53:08.485Z"
   },
   {
    "duration": 172,
    "start_time": "2022-06-22T07:53:08.632Z"
   },
   {
    "duration": 212,
    "start_time": "2022-06-22T07:53:08.805Z"
   },
   {
    "duration": 164,
    "start_time": "2022-06-22T07:53:09.025Z"
   },
   {
    "duration": 162,
    "start_time": "2022-06-22T07:53:09.191Z"
   },
   {
    "duration": 261,
    "start_time": "2022-06-22T07:53:09.354Z"
   },
   {
    "duration": 61,
    "start_time": "2022-06-22T07:53:09.617Z"
   },
   {
    "duration": 45,
    "start_time": "2022-06-22T07:53:09.680Z"
   },
   {
    "duration": 5,
    "start_time": "2022-06-22T07:53:09.727Z"
   },
   {
    "duration": 6,
    "start_time": "2022-06-22T07:53:09.734Z"
   },
   {
    "duration": 7,
    "start_time": "2022-06-22T07:53:09.742Z"
   },
   {
    "duration": 239,
    "start_time": "2022-06-22T07:53:09.751Z"
   },
   {
    "duration": 4,
    "start_time": "2022-06-22T07:53:09.992Z"
   },
   {
    "duration": 258,
    "start_time": "2022-06-22T07:53:10.004Z"
   },
   {
    "duration": 185,
    "start_time": "2022-06-22T07:53:10.379Z"
   },
   {
    "duration": 202,
    "start_time": "2022-06-22T07:53:10.573Z"
   },
   {
    "duration": 265,
    "start_time": "2022-06-22T07:53:10.782Z"
   },
   {
    "duration": 180,
    "start_time": "2022-06-22T07:53:11.057Z"
   },
   {
    "duration": 213,
    "start_time": "2022-06-22T07:53:11.248Z"
   },
   {
    "duration": 340,
    "start_time": "2022-06-22T07:53:11.463Z"
   },
   {
    "duration": 162,
    "start_time": "2022-06-22T07:53:11.805Z"
   },
   {
    "duration": 61,
    "start_time": "2022-06-22T07:53:11.969Z"
   },
   {
    "duration": 103,
    "start_time": "2022-06-22T07:53:12.031Z"
   },
   {
    "duration": 119,
    "start_time": "2022-06-22T07:53:12.136Z"
   },
   {
    "duration": 308,
    "start_time": "2022-06-22T07:53:12.257Z"
   },
   {
    "duration": 375,
    "start_time": "2022-06-22T07:53:12.567Z"
   },
   {
    "duration": 99,
    "start_time": "2022-06-22T07:53:12.944Z"
   },
   {
    "duration": 7,
    "start_time": "2022-06-22T07:53:13.045Z"
   },
   {
    "duration": 9,
    "start_time": "2022-06-22T07:53:13.054Z"
   },
   {
    "duration": 13,
    "start_time": "2022-06-22T07:53:13.066Z"
   },
   {
    "duration": 193,
    "start_time": "2022-06-22T07:53:13.081Z"
   },
   {
    "duration": 6,
    "start_time": "2022-06-22T07:53:13.275Z"
   },
   {
    "duration": 258,
    "start_time": "2022-06-22T07:53:13.284Z"
   },
   {
    "duration": 232,
    "start_time": "2022-06-22T07:53:13.544Z"
   },
   {
    "duration": 241,
    "start_time": "2022-06-22T07:53:13.778Z"
   },
   {
    "duration": 270,
    "start_time": "2022-06-22T07:53:14.021Z"
   },
   {
    "duration": 194,
    "start_time": "2022-06-22T07:53:14.293Z"
   },
   {
    "duration": 250,
    "start_time": "2022-06-22T07:53:14.488Z"
   },
   {
    "duration": 270,
    "start_time": "2022-06-22T07:53:14.740Z"
   },
   {
    "duration": 235,
    "start_time": "2022-06-22T07:53:15.012Z"
   },
   {
    "duration": 257,
    "start_time": "2022-06-22T07:53:15.250Z"
   },
   {
    "duration": 373,
    "start_time": "2022-06-22T07:53:15.509Z"
   },
   {
    "duration": 898,
    "start_time": "2022-06-22T08:02:11.974Z"
   },
   {
    "duration": 232,
    "start_time": "2022-06-22T08:02:14.494Z"
   },
   {
    "duration": 903,
    "start_time": "2022-06-22T08:02:16.185Z"
   },
   {
    "duration": 44,
    "start_time": "2022-06-22T08:02:17.090Z"
   },
   {
    "duration": 935,
    "start_time": "2022-06-22T08:25:43.137Z"
   },
   {
    "duration": 194,
    "start_time": "2022-06-22T08:25:45.558Z"
   },
   {
    "duration": 721,
    "start_time": "2022-06-22T08:25:48.773Z"
   },
   {
    "duration": 30,
    "start_time": "2022-06-22T08:25:49.495Z"
   },
   {
    "duration": 706,
    "start_time": "2022-06-22T08:27:25.455Z"
   },
   {
    "duration": 28,
    "start_time": "2022-06-22T08:27:26.163Z"
   },
   {
    "duration": 2074,
    "start_time": "2022-06-22T08:45:47.596Z"
   },
   {
    "duration": 900,
    "start_time": "2022-06-22T08:45:49.672Z"
   },
   {
    "duration": 220,
    "start_time": "2022-06-22T08:45:50.573Z"
   },
   {
    "duration": 708,
    "start_time": "2022-06-22T08:45:50.795Z"
   },
   {
    "duration": 31,
    "start_time": "2022-06-22T08:45:51.504Z"
   },
   {
    "duration": 151,
    "start_time": "2022-06-22T08:45:51.537Z"
   },
   {
    "duration": 65,
    "start_time": "2022-06-22T08:45:51.689Z"
   },
   {
    "duration": 5,
    "start_time": "2022-06-22T08:45:51.755Z"
   },
   {
    "duration": 214,
    "start_time": "2022-06-22T08:45:51.761Z"
   },
   {
    "duration": 63,
    "start_time": "2022-06-22T08:45:51.977Z"
   },
   {
    "duration": 189,
    "start_time": "2022-06-22T08:45:52.041Z"
   },
   {
    "duration": 44,
    "start_time": "2022-06-22T08:45:52.231Z"
   },
   {
    "duration": 8,
    "start_time": "2022-06-22T08:45:52.276Z"
   },
   {
    "duration": 6,
    "start_time": "2022-06-22T08:45:52.285Z"
   },
   {
    "duration": 149,
    "start_time": "2022-06-22T08:45:52.292Z"
   },
   {
    "duration": 118,
    "start_time": "2022-06-22T08:45:52.442Z"
   },
   {
    "duration": 123,
    "start_time": "2022-06-22T08:45:52.561Z"
   },
   {
    "duration": 4,
    "start_time": "2022-06-22T08:45:52.686Z"
   },
   {
    "duration": 2061,
    "start_time": "2022-06-22T08:45:52.692Z"
   },
   {
    "duration": 1959,
    "start_time": "2022-06-22T08:45:54.755Z"
   },
   {
    "duration": 242,
    "start_time": "2022-06-22T08:45:56.716Z"
   },
   {
    "duration": 46,
    "start_time": "2022-06-22T08:45:56.960Z"
   },
   {
    "duration": 4,
    "start_time": "2022-06-22T08:45:57.025Z"
   },
   {
    "duration": 105,
    "start_time": "2022-06-22T08:45:57.030Z"
   },
   {
    "duration": 102,
    "start_time": "2022-06-22T08:45:57.136Z"
   },
   {
    "duration": 3,
    "start_time": "2022-06-22T08:45:57.240Z"
   },
   {
    "duration": 160,
    "start_time": "2022-06-22T08:45:57.245Z"
   },
   {
    "duration": 170,
    "start_time": "2022-06-22T08:45:57.409Z"
   },
   {
    "duration": 56,
    "start_time": "2022-06-22T08:45:57.580Z"
   },
   {
    "duration": 251,
    "start_time": "2022-06-22T08:45:57.638Z"
   },
   {
    "duration": 81,
    "start_time": "2022-06-22T08:45:57.891Z"
   },
   {
    "duration": 5,
    "start_time": "2022-06-22T08:45:57.973Z"
   },
   {
    "duration": 298,
    "start_time": "2022-06-22T08:45:57.980Z"
   },
   {
    "duration": 6,
    "start_time": "2022-06-22T08:45:58.280Z"
   },
   {
    "duration": 1538,
    "start_time": "2022-06-22T08:45:58.288Z"
   },
   {
    "duration": 16,
    "start_time": "2022-06-22T08:45:59.828Z"
   },
   {
    "duration": 110,
    "start_time": "2022-06-22T08:45:59.845Z"
   },
   {
    "duration": 71,
    "start_time": "2022-06-22T08:45:59.956Z"
   },
   {
    "duration": 20,
    "start_time": "2022-06-22T08:46:00.029Z"
   },
   {
    "duration": 275,
    "start_time": "2022-06-22T08:46:00.051Z"
   },
   {
    "duration": 3,
    "start_time": "2022-06-22T08:46:00.328Z"
   },
   {
    "duration": 312,
    "start_time": "2022-06-22T08:46:00.333Z"
   },
   {
    "duration": 92,
    "start_time": "2022-06-22T08:46:00.647Z"
   },
   {
    "duration": 53,
    "start_time": "2022-06-22T08:46:00.740Z"
   },
   {
    "duration": 37,
    "start_time": "2022-06-22T08:46:00.795Z"
   },
   {
    "duration": 33,
    "start_time": "2022-06-22T08:46:00.834Z"
   },
   {
    "duration": 145,
    "start_time": "2022-06-22T08:46:00.868Z"
   },
   {
    "duration": 36,
    "start_time": "2022-06-22T08:46:01.015Z"
   },
   {
    "duration": 119,
    "start_time": "2022-06-22T08:46:01.053Z"
   },
   {
    "duration": 63,
    "start_time": "2022-06-22T08:46:01.174Z"
   },
   {
    "duration": 42,
    "start_time": "2022-06-22T08:46:01.239Z"
   },
   {
    "duration": 72,
    "start_time": "2022-06-22T08:46:01.282Z"
   },
   {
    "duration": 43,
    "start_time": "2022-06-22T08:46:01.356Z"
   },
   {
    "duration": 73,
    "start_time": "2022-06-22T08:46:01.401Z"
   },
   {
    "duration": 28,
    "start_time": "2022-06-22T08:46:01.476Z"
   },
   {
    "duration": 45,
    "start_time": "2022-06-22T08:46:01.506Z"
   },
   {
    "duration": 131,
    "start_time": "2022-06-22T08:46:01.553Z"
   },
   {
    "duration": 3,
    "start_time": "2022-06-22T08:46:01.686Z"
   },
   {
    "duration": 13,
    "start_time": "2022-06-22T08:46:01.691Z"
   },
   {
    "duration": 14,
    "start_time": "2022-06-22T08:46:01.706Z"
   },
   {
    "duration": 13,
    "start_time": "2022-06-22T08:46:01.725Z"
   },
   {
    "duration": 176,
    "start_time": "2022-06-22T08:46:01.740Z"
   },
   {
    "duration": 7,
    "start_time": "2022-06-22T08:46:01.917Z"
   },
   {
    "duration": 263,
    "start_time": "2022-06-22T08:46:01.926Z"
   },
   {
    "duration": 190,
    "start_time": "2022-06-22T08:46:02.191Z"
   },
   {
    "duration": 208,
    "start_time": "2022-06-22T08:46:02.383Z"
   },
   {
    "duration": 251,
    "start_time": "2022-06-22T08:46:02.593Z"
   },
   {
    "duration": 182,
    "start_time": "2022-06-22T08:46:02.846Z"
   },
   {
    "duration": 198,
    "start_time": "2022-06-22T08:46:03.030Z"
   },
   {
    "duration": 259,
    "start_time": "2022-06-22T08:46:03.231Z"
   },
   {
    "duration": 234,
    "start_time": "2022-06-22T08:46:03.492Z"
   },
   {
    "duration": 201,
    "start_time": "2022-06-22T08:46:03.729Z"
   },
   {
    "duration": 408,
    "start_time": "2022-06-22T08:46:03.931Z"
   },
   {
    "duration": 166,
    "start_time": "2022-06-22T08:46:04.341Z"
   },
   {
    "duration": 237,
    "start_time": "2022-06-22T08:46:04.508Z"
   },
   {
    "duration": 95,
    "start_time": "2022-06-22T08:46:04.747Z"
   },
   {
    "duration": 42,
    "start_time": "2022-06-22T08:46:04.844Z"
   },
   {
    "duration": 3,
    "start_time": "2022-06-22T08:46:04.888Z"
   },
   {
    "duration": 96,
    "start_time": "2022-06-22T08:46:04.892Z"
   },
   {
    "duration": 3,
    "start_time": "2022-06-22T08:46:04.990Z"
   },
   {
    "duration": 90,
    "start_time": "2022-06-22T08:46:04.994Z"
   },
   {
    "duration": 4,
    "start_time": "2022-06-22T08:46:05.090Z"
   },
   {
    "duration": 77,
    "start_time": "2022-06-22T08:46:05.095Z"
   },
   {
    "duration": 4,
    "start_time": "2022-06-22T08:46:05.174Z"
   },
   {
    "duration": 8,
    "start_time": "2022-06-22T08:46:05.179Z"
   },
   {
    "duration": 7,
    "start_time": "2022-06-22T08:46:05.189Z"
   },
   {
    "duration": 95,
    "start_time": "2022-06-22T08:46:05.197Z"
   },
   {
    "duration": 4,
    "start_time": "2022-06-22T08:46:05.294Z"
   },
   {
    "duration": 216,
    "start_time": "2022-06-22T08:46:05.300Z"
   },
   {
    "duration": 148,
    "start_time": "2022-06-22T08:46:05.517Z"
   },
   {
    "duration": 148,
    "start_time": "2022-06-22T08:46:05.666Z"
   },
   {
    "duration": 173,
    "start_time": "2022-06-22T08:46:05.825Z"
   },
   {
    "duration": 129,
    "start_time": "2022-06-22T08:46:06.000Z"
   },
   {
    "duration": 142,
    "start_time": "2022-06-22T08:46:06.130Z"
   },
   {
    "duration": 178,
    "start_time": "2022-06-22T08:46:06.273Z"
   },
   {
    "duration": 167,
    "start_time": "2022-06-22T08:46:06.453Z"
   },
   {
    "duration": 179,
    "start_time": "2022-06-22T08:46:06.626Z"
   },
   {
    "duration": 327,
    "start_time": "2022-06-22T08:46:06.806Z"
   },
   {
    "duration": 53,
    "start_time": "2022-06-22T08:46:07.135Z"
   },
   {
    "duration": 44,
    "start_time": "2022-06-22T08:46:07.189Z"
   },
   {
    "duration": 4,
    "start_time": "2022-06-22T08:46:07.234Z"
   },
   {
    "duration": 9,
    "start_time": "2022-06-22T08:46:07.240Z"
   },
   {
    "duration": 8,
    "start_time": "2022-06-22T08:46:07.250Z"
   },
   {
    "duration": 130,
    "start_time": "2022-06-22T08:46:07.260Z"
   },
   {
    "duration": 4,
    "start_time": "2022-06-22T08:46:07.392Z"
   },
   {
    "duration": 222,
    "start_time": "2022-06-22T08:46:07.398Z"
   },
   {
    "duration": 164,
    "start_time": "2022-06-22T08:46:07.624Z"
   },
   {
    "duration": 174,
    "start_time": "2022-06-22T08:46:07.790Z"
   },
   {
    "duration": 215,
    "start_time": "2022-06-22T08:46:07.966Z"
   },
   {
    "duration": 155,
    "start_time": "2022-06-22T08:46:08.183Z"
   },
   {
    "duration": 156,
    "start_time": "2022-06-22T08:46:08.340Z"
   },
   {
    "duration": 202,
    "start_time": "2022-06-22T08:46:08.498Z"
   },
   {
    "duration": 184,
    "start_time": "2022-06-22T08:46:08.701Z"
   },
   {
    "duration": 65,
    "start_time": "2022-06-22T08:46:08.887Z"
   },
   {
    "duration": 99,
    "start_time": "2022-06-22T08:46:08.954Z"
   },
   {
    "duration": 105,
    "start_time": "2022-06-22T08:46:09.055Z"
   },
   {
    "duration": 169,
    "start_time": "2022-06-22T08:46:09.161Z"
   },
   {
    "duration": 267,
    "start_time": "2022-06-22T08:46:09.332Z"
   },
   {
    "duration": 51,
    "start_time": "2022-06-22T08:46:09.601Z"
   },
   {
    "duration": 6,
    "start_time": "2022-06-22T08:46:09.653Z"
   },
   {
    "duration": 5,
    "start_time": "2022-06-22T08:46:09.660Z"
   },
   {
    "duration": 7,
    "start_time": "2022-06-22T08:46:09.667Z"
   },
   {
    "duration": 131,
    "start_time": "2022-06-22T08:46:09.675Z"
   },
   {
    "duration": 17,
    "start_time": "2022-06-22T08:46:09.808Z"
   },
   {
    "duration": 175,
    "start_time": "2022-06-22T08:46:09.827Z"
   },
   {
    "duration": 163,
    "start_time": "2022-06-22T08:46:10.003Z"
   },
   {
    "duration": 194,
    "start_time": "2022-06-22T08:46:10.168Z"
   },
   {
    "duration": 233,
    "start_time": "2022-06-22T08:46:10.363Z"
   },
   {
    "duration": 180,
    "start_time": "2022-06-22T08:46:10.597Z"
   },
   {
    "duration": 222,
    "start_time": "2022-06-22T08:46:10.779Z"
   },
   {
    "duration": 229,
    "start_time": "2022-06-22T08:46:11.002Z"
   },
   {
    "duration": 199,
    "start_time": "2022-06-22T08:46:11.233Z"
   },
   {
    "duration": 199,
    "start_time": "2022-06-22T08:46:11.434Z"
   },
   {
    "duration": 294,
    "start_time": "2022-06-22T08:46:11.635Z"
   },
   {
    "duration": 2336,
    "start_time": "2022-06-22T09:13:04.898Z"
   },
   {
    "duration": 934,
    "start_time": "2022-06-22T09:13:07.237Z"
   },
   {
    "duration": 210,
    "start_time": "2022-06-22T09:13:08.173Z"
   },
   {
    "duration": 737,
    "start_time": "2022-06-22T09:13:08.385Z"
   },
   {
    "duration": 33,
    "start_time": "2022-06-22T09:13:09.124Z"
   },
   {
    "duration": 166,
    "start_time": "2022-06-22T09:13:09.159Z"
   },
   {
    "duration": 57,
    "start_time": "2022-06-22T09:13:09.327Z"
   },
   {
    "duration": 4,
    "start_time": "2022-06-22T09:13:09.386Z"
   },
   {
    "duration": 247,
    "start_time": "2022-06-22T09:13:09.391Z"
   },
   {
    "duration": 47,
    "start_time": "2022-06-22T09:13:09.640Z"
   },
   {
    "duration": 237,
    "start_time": "2022-06-22T09:13:09.688Z"
   },
   {
    "duration": 50,
    "start_time": "2022-06-22T09:13:09.926Z"
   },
   {
    "duration": 9,
    "start_time": "2022-06-22T09:13:09.978Z"
   },
   {
    "duration": 6,
    "start_time": "2022-06-22T09:13:09.991Z"
   },
   {
    "duration": 167,
    "start_time": "2022-06-22T09:13:09.998Z"
   },
   {
    "duration": 123,
    "start_time": "2022-06-22T09:13:10.167Z"
   },
   {
    "duration": 145,
    "start_time": "2022-06-22T09:13:10.292Z"
   },
   {
    "duration": 5,
    "start_time": "2022-06-22T09:13:10.439Z"
   },
   {
    "duration": 2290,
    "start_time": "2022-06-22T09:13:10.446Z"
   },
   {
    "duration": 2080,
    "start_time": "2022-06-22T09:13:12.738Z"
   },
   {
    "duration": 274,
    "start_time": "2022-06-22T09:13:14.826Z"
   },
   {
    "duration": 69,
    "start_time": "2022-06-22T09:13:15.102Z"
   },
   {
    "duration": 6,
    "start_time": "2022-06-22T09:13:15.173Z"
   },
   {
    "duration": 108,
    "start_time": "2022-06-22T09:13:15.181Z"
   },
   {
    "duration": 68,
    "start_time": "2022-06-22T09:13:15.291Z"
   },
   {
    "duration": 4,
    "start_time": "2022-06-22T09:13:15.360Z"
   },
   {
    "duration": 173,
    "start_time": "2022-06-22T09:13:15.366Z"
   },
   {
    "duration": 167,
    "start_time": "2022-06-22T09:13:15.541Z"
   },
   {
    "duration": 54,
    "start_time": "2022-06-22T09:13:15.710Z"
   },
   {
    "duration": 255,
    "start_time": "2022-06-22T09:13:15.766Z"
   },
   {
    "duration": 72,
    "start_time": "2022-06-22T09:13:16.026Z"
   },
   {
    "duration": 4,
    "start_time": "2022-06-22T09:13:16.100Z"
   },
   {
    "duration": 334,
    "start_time": "2022-06-22T09:13:16.106Z"
   },
   {
    "duration": 8,
    "start_time": "2022-06-22T09:13:16.442Z"
   },
   {
    "duration": 1036,
    "start_time": "2022-06-22T09:13:16.451Z"
   },
   {
    "duration": 36,
    "start_time": "2022-06-22T09:13:17.489Z"
   },
   {
    "duration": 107,
    "start_time": "2022-06-22T09:13:17.527Z"
   },
   {
    "duration": 23,
    "start_time": "2022-06-22T09:13:17.636Z"
   },
   {
    "duration": 76,
    "start_time": "2022-06-22T09:13:17.660Z"
   },
   {
    "duration": 133,
    "start_time": "2022-06-22T09:13:17.738Z"
   },
   {
    "duration": 4,
    "start_time": "2022-06-22T09:13:17.876Z"
   },
   {
    "duration": 174,
    "start_time": "2022-06-22T09:13:17.881Z"
   },
   {
    "duration": 41,
    "start_time": "2022-06-22T09:13:18.057Z"
   },
   {
    "duration": 77,
    "start_time": "2022-06-22T09:13:18.100Z"
   },
   {
    "duration": 18,
    "start_time": "2022-06-22T09:13:18.179Z"
   },
   {
    "duration": 50,
    "start_time": "2022-06-22T09:13:18.199Z"
   },
   {
    "duration": 127,
    "start_time": "2022-06-22T09:13:18.251Z"
   },
   {
    "duration": 53,
    "start_time": "2022-06-22T09:13:18.380Z"
   },
   {
    "duration": 309,
    "start_time": "2022-06-22T09:13:18.435Z"
   },
   {
    "duration": 119,
    "start_time": "2022-06-22T09:13:18.747Z"
   },
   {
    "duration": 109,
    "start_time": "2022-06-22T09:13:18.868Z"
   },
   {
    "duration": 116,
    "start_time": "2022-06-22T09:13:19.025Z"
   },
   {
    "duration": 115,
    "start_time": "2022-06-22T09:13:19.143Z"
   },
   {
    "duration": 97,
    "start_time": "2022-06-22T09:13:19.260Z"
   },
   {
    "duration": 28,
    "start_time": "2022-06-22T09:13:19.358Z"
   },
   {
    "duration": 49,
    "start_time": "2022-06-22T09:13:19.388Z"
   },
   {
    "duration": 167,
    "start_time": "2022-06-22T09:13:19.439Z"
   },
   {
    "duration": 4,
    "start_time": "2022-06-22T09:13:19.608Z"
   },
   {
    "duration": 11,
    "start_time": "2022-06-22T09:13:19.615Z"
   },
   {
    "duration": 10,
    "start_time": "2022-06-22T09:13:19.629Z"
   },
   {
    "duration": 15,
    "start_time": "2022-06-22T09:13:19.641Z"
   },
   {
    "duration": 197,
    "start_time": "2022-06-22T09:13:19.658Z"
   },
   {
    "duration": 4,
    "start_time": "2022-06-22T09:13:19.856Z"
   },
   {
    "duration": 484,
    "start_time": "2022-06-22T09:13:19.861Z"
   },
   {
    "duration": 311,
    "start_time": "2022-06-22T09:13:20.347Z"
   },
   {
    "duration": 413,
    "start_time": "2022-06-22T09:13:20.660Z"
   },
   {
    "duration": 407,
    "start_time": "2022-06-22T09:13:21.126Z"
   },
   {
    "duration": 194,
    "start_time": "2022-06-22T09:13:21.535Z"
   },
   {
    "duration": 196,
    "start_time": "2022-06-22T09:13:21.731Z"
   },
   {
    "duration": 419,
    "start_time": "2022-06-22T09:13:21.928Z"
   },
   {
    "duration": 429,
    "start_time": "2022-06-22T09:13:22.349Z"
   },
   {
    "duration": 259,
    "start_time": "2022-06-22T09:13:22.780Z"
   },
   {
    "duration": 326,
    "start_time": "2022-06-22T09:13:23.041Z"
   },
   {
    "duration": 186,
    "start_time": "2022-06-22T09:13:23.369Z"
   },
   {
    "duration": 332,
    "start_time": "2022-06-22T09:13:23.557Z"
   },
   {
    "duration": 126,
    "start_time": "2022-06-22T09:13:23.890Z"
   },
   {
    "duration": 74,
    "start_time": "2022-06-22T09:13:24.017Z"
   },
   {
    "duration": 4,
    "start_time": "2022-06-22T09:13:24.093Z"
   },
   {
    "duration": 104,
    "start_time": "2022-06-22T09:13:24.099Z"
   },
   {
    "duration": 4,
    "start_time": "2022-06-22T09:13:24.205Z"
   },
   {
    "duration": 96,
    "start_time": "2022-06-22T09:13:24.211Z"
   },
   {
    "duration": 18,
    "start_time": "2022-06-22T09:13:24.309Z"
   },
   {
    "duration": 81,
    "start_time": "2022-06-22T09:13:24.328Z"
   },
   {
    "duration": 4,
    "start_time": "2022-06-22T09:13:24.411Z"
   },
   {
    "duration": 4,
    "start_time": "2022-06-22T09:13:24.426Z"
   },
   {
    "duration": 5,
    "start_time": "2022-06-22T09:13:24.432Z"
   },
   {
    "duration": 124,
    "start_time": "2022-06-22T09:13:24.439Z"
   },
   {
    "duration": 4,
    "start_time": "2022-06-22T09:13:24.565Z"
   },
   {
    "duration": 239,
    "start_time": "2022-06-22T09:13:24.570Z"
   },
   {
    "duration": 140,
    "start_time": "2022-06-22T09:13:24.810Z"
   },
   {
    "duration": 152,
    "start_time": "2022-06-22T09:13:24.951Z"
   },
   {
    "duration": 197,
    "start_time": "2022-06-22T09:13:25.105Z"
   },
   {
    "duration": 144,
    "start_time": "2022-06-22T09:13:25.304Z"
   },
   {
    "duration": 153,
    "start_time": "2022-06-22T09:13:25.449Z"
   },
   {
    "duration": 207,
    "start_time": "2022-06-22T09:13:25.604Z"
   },
   {
    "duration": 181,
    "start_time": "2022-06-22T09:13:25.813Z"
   },
   {
    "duration": 163,
    "start_time": "2022-06-22T09:13:25.996Z"
   },
   {
    "duration": 370,
    "start_time": "2022-06-22T09:13:26.161Z"
   },
   {
    "duration": 75,
    "start_time": "2022-06-22T09:13:26.533Z"
   },
   {
    "duration": 31,
    "start_time": "2022-06-22T09:13:26.626Z"
   },
   {
    "duration": 8,
    "start_time": "2022-06-22T09:13:26.659Z"
   },
   {
    "duration": 17,
    "start_time": "2022-06-22T09:13:26.669Z"
   },
   {
    "duration": 17,
    "start_time": "2022-06-22T09:13:26.688Z"
   },
   {
    "duration": 145,
    "start_time": "2022-06-22T09:13:26.707Z"
   },
   {
    "duration": 3,
    "start_time": "2022-06-22T09:13:26.854Z"
   },
   {
    "duration": 234,
    "start_time": "2022-06-22T09:13:26.858Z"
   },
   {
    "duration": 179,
    "start_time": "2022-06-22T09:13:27.094Z"
   },
   {
    "duration": 176,
    "start_time": "2022-06-22T09:13:27.274Z"
   },
   {
    "duration": 243,
    "start_time": "2022-06-22T09:13:27.451Z"
   },
   {
    "duration": 175,
    "start_time": "2022-06-22T09:13:27.696Z"
   },
   {
    "duration": 167,
    "start_time": "2022-06-22T09:13:27.873Z"
   },
   {
    "duration": 215,
    "start_time": "2022-06-22T09:13:28.041Z"
   },
   {
    "duration": 214,
    "start_time": "2022-06-22T09:13:28.258Z"
   },
   {
    "duration": 71,
    "start_time": "2022-06-22T09:13:28.474Z"
   },
   {
    "duration": 107,
    "start_time": "2022-06-22T09:13:28.547Z"
   },
   {
    "duration": 124,
    "start_time": "2022-06-22T09:13:28.655Z"
   },
   {
    "duration": 194,
    "start_time": "2022-06-22T09:13:28.781Z"
   },
   {
    "duration": 300,
    "start_time": "2022-06-22T09:13:28.977Z"
   },
   {
    "duration": 66,
    "start_time": "2022-06-22T09:13:29.280Z"
   },
   {
    "duration": 6,
    "start_time": "2022-06-22T09:13:29.347Z"
   },
   {
    "duration": 10,
    "start_time": "2022-06-22T09:13:29.354Z"
   },
   {
    "duration": 8,
    "start_time": "2022-06-22T09:13:29.371Z"
   },
   {
    "duration": 147,
    "start_time": "2022-06-22T09:13:29.380Z"
   },
   {
    "duration": 5,
    "start_time": "2022-06-22T09:13:29.528Z"
   },
   {
    "duration": 209,
    "start_time": "2022-06-22T09:13:29.534Z"
   },
   {
    "duration": 205,
    "start_time": "2022-06-22T09:13:29.745Z"
   },
   {
    "duration": 203,
    "start_time": "2022-06-22T09:13:29.952Z"
   },
   {
    "duration": 230,
    "start_time": "2022-06-22T09:13:30.156Z"
   },
   {
    "duration": 168,
    "start_time": "2022-06-22T09:13:30.388Z"
   },
   {
    "duration": 203,
    "start_time": "2022-06-22T09:13:30.558Z"
   },
   {
    "duration": 244,
    "start_time": "2022-06-22T09:13:30.763Z"
   },
   {
    "duration": 195,
    "start_time": "2022-06-22T09:13:31.009Z"
   },
   {
    "duration": 220,
    "start_time": "2022-06-22T09:13:31.205Z"
   },
   {
    "duration": 280,
    "start_time": "2022-06-22T09:13:31.427Z"
   },
   {
    "duration": 11589,
    "start_time": "2022-06-22T10:54:41.533Z"
   },
   {
    "duration": 1150,
    "start_time": "2022-06-22T10:54:53.125Z"
   },
   {
    "duration": 292,
    "start_time": "2022-06-22T10:54:54.277Z"
   },
   {
    "duration": 1123,
    "start_time": "2022-06-22T10:54:54.572Z"
   },
   {
    "duration": 32,
    "start_time": "2022-06-22T10:54:55.697Z"
   },
   {
    "duration": 145,
    "start_time": "2022-06-22T10:54:55.730Z"
   },
   {
    "duration": 99,
    "start_time": "2022-06-22T10:54:55.876Z"
   },
   {
    "duration": 5,
    "start_time": "2022-06-22T10:54:55.977Z"
   },
   {
    "duration": 235,
    "start_time": "2022-06-22T10:54:55.984Z"
   },
   {
    "duration": 59,
    "start_time": "2022-06-22T10:54:56.221Z"
   },
   {
    "duration": 227,
    "start_time": "2022-06-22T10:54:56.282Z"
   },
   {
    "duration": 57,
    "start_time": "2022-06-22T10:54:56.511Z"
   },
   {
    "duration": 8,
    "start_time": "2022-06-22T10:54:56.570Z"
   },
   {
    "duration": 12,
    "start_time": "2022-06-22T10:54:56.580Z"
   },
   {
    "duration": 149,
    "start_time": "2022-06-22T10:54:56.593Z"
   },
   {
    "duration": 127,
    "start_time": "2022-06-22T10:54:56.744Z"
   },
   {
    "duration": 137,
    "start_time": "2022-06-22T10:54:56.873Z"
   },
   {
    "duration": 4,
    "start_time": "2022-06-22T10:54:57.012Z"
   },
   {
    "duration": 2443,
    "start_time": "2022-06-22T10:54:57.025Z"
   },
   {
    "duration": 2453,
    "start_time": "2022-06-22T10:54:59.470Z"
   },
   {
    "duration": 252,
    "start_time": "2022-06-22T10:55:01.926Z"
   },
   {
    "duration": 156,
    "start_time": "2022-06-22T10:55:02.179Z"
   },
   {
    "duration": 0,
    "start_time": "2022-06-22T10:55:02.340Z"
   },
   {
    "duration": 0,
    "start_time": "2022-06-22T10:55:02.341Z"
   },
   {
    "duration": 0,
    "start_time": "2022-06-22T10:55:02.342Z"
   },
   {
    "duration": 0,
    "start_time": "2022-06-22T10:55:02.343Z"
   },
   {
    "duration": 0,
    "start_time": "2022-06-22T10:55:02.344Z"
   },
   {
    "duration": 0,
    "start_time": "2022-06-22T10:55:02.345Z"
   },
   {
    "duration": 0,
    "start_time": "2022-06-22T10:55:02.346Z"
   },
   {
    "duration": 0,
    "start_time": "2022-06-22T10:55:02.348Z"
   },
   {
    "duration": 0,
    "start_time": "2022-06-22T10:55:02.349Z"
   },
   {
    "duration": 0,
    "start_time": "2022-06-22T10:55:02.350Z"
   },
   {
    "duration": 0,
    "start_time": "2022-06-22T10:55:02.351Z"
   },
   {
    "duration": 0,
    "start_time": "2022-06-22T10:55:02.352Z"
   },
   {
    "duration": 0,
    "start_time": "2022-06-22T10:55:02.353Z"
   },
   {
    "duration": 0,
    "start_time": "2022-06-22T10:55:02.354Z"
   },
   {
    "duration": 0,
    "start_time": "2022-06-22T10:55:02.355Z"
   },
   {
    "duration": 0,
    "start_time": "2022-06-22T10:55:02.356Z"
   },
   {
    "duration": 0,
    "start_time": "2022-06-22T10:55:02.357Z"
   },
   {
    "duration": 0,
    "start_time": "2022-06-22T10:55:02.358Z"
   },
   {
    "duration": 0,
    "start_time": "2022-06-22T10:55:02.360Z"
   },
   {
    "duration": 0,
    "start_time": "2022-06-22T10:55:02.361Z"
   },
   {
    "duration": 0,
    "start_time": "2022-06-22T10:55:02.363Z"
   },
   {
    "duration": 0,
    "start_time": "2022-06-22T10:55:02.364Z"
   },
   {
    "duration": 0,
    "start_time": "2022-06-22T10:55:02.366Z"
   },
   {
    "duration": 0,
    "start_time": "2022-06-22T10:55:02.367Z"
   },
   {
    "duration": 0,
    "start_time": "2022-06-22T10:55:02.370Z"
   },
   {
    "duration": 0,
    "start_time": "2022-06-22T10:55:02.372Z"
   },
   {
    "duration": 0,
    "start_time": "2022-06-22T10:55:02.373Z"
   },
   {
    "duration": 0,
    "start_time": "2022-06-22T10:55:02.374Z"
   },
   {
    "duration": 0,
    "start_time": "2022-06-22T10:55:02.374Z"
   },
   {
    "duration": 0,
    "start_time": "2022-06-22T10:55:02.426Z"
   },
   {
    "duration": 0,
    "start_time": "2022-06-22T10:55:02.428Z"
   },
   {
    "duration": 0,
    "start_time": "2022-06-22T10:55:02.430Z"
   },
   {
    "duration": 0,
    "start_time": "2022-06-22T10:55:02.431Z"
   },
   {
    "duration": 0,
    "start_time": "2022-06-22T10:55:02.432Z"
   },
   {
    "duration": 0,
    "start_time": "2022-06-22T10:55:02.435Z"
   },
   {
    "duration": 0,
    "start_time": "2022-06-22T10:55:02.436Z"
   },
   {
    "duration": 0,
    "start_time": "2022-06-22T10:55:02.438Z"
   },
   {
    "duration": 0,
    "start_time": "2022-06-22T10:55:02.439Z"
   },
   {
    "duration": 0,
    "start_time": "2022-06-22T10:55:02.440Z"
   },
   {
    "duration": 0,
    "start_time": "2022-06-22T10:55:02.442Z"
   },
   {
    "duration": 0,
    "start_time": "2022-06-22T10:55:02.443Z"
   },
   {
    "duration": 0,
    "start_time": "2022-06-22T10:55:02.445Z"
   },
   {
    "duration": 0,
    "start_time": "2022-06-22T10:55:02.446Z"
   },
   {
    "duration": 0,
    "start_time": "2022-06-22T10:55:02.448Z"
   },
   {
    "duration": 0,
    "start_time": "2022-06-22T10:55:02.449Z"
   },
   {
    "duration": 0,
    "start_time": "2022-06-22T10:55:02.451Z"
   },
   {
    "duration": 0,
    "start_time": "2022-06-22T10:55:02.452Z"
   },
   {
    "duration": 0,
    "start_time": "2022-06-22T10:55:02.455Z"
   },
   {
    "duration": 0,
    "start_time": "2022-06-22T10:55:02.457Z"
   },
   {
    "duration": 0,
    "start_time": "2022-06-22T10:55:02.458Z"
   },
   {
    "duration": 0,
    "start_time": "2022-06-22T10:55:02.460Z"
   },
   {
    "duration": 0,
    "start_time": "2022-06-22T10:55:02.461Z"
   },
   {
    "duration": 0,
    "start_time": "2022-06-22T10:55:02.462Z"
   },
   {
    "duration": 0,
    "start_time": "2022-06-22T10:55:02.463Z"
   },
   {
    "duration": 0,
    "start_time": "2022-06-22T10:55:02.464Z"
   },
   {
    "duration": 0,
    "start_time": "2022-06-22T10:55:02.526Z"
   },
   {
    "duration": 0,
    "start_time": "2022-06-22T10:55:02.527Z"
   },
   {
    "duration": 0,
    "start_time": "2022-06-22T10:55:02.529Z"
   },
   {
    "duration": 0,
    "start_time": "2022-06-22T10:55:02.530Z"
   },
   {
    "duration": 0,
    "start_time": "2022-06-22T10:55:02.530Z"
   },
   {
    "duration": 0,
    "start_time": "2022-06-22T10:55:02.534Z"
   },
   {
    "duration": 0,
    "start_time": "2022-06-22T10:55:02.535Z"
   },
   {
    "duration": 0,
    "start_time": "2022-06-22T10:55:02.536Z"
   },
   {
    "duration": 0,
    "start_time": "2022-06-22T10:55:02.537Z"
   },
   {
    "duration": 0,
    "start_time": "2022-06-22T10:55:02.538Z"
   },
   {
    "duration": 0,
    "start_time": "2022-06-22T10:55:02.539Z"
   },
   {
    "duration": 0,
    "start_time": "2022-06-22T10:55:02.540Z"
   },
   {
    "duration": 0,
    "start_time": "2022-06-22T10:55:02.541Z"
   },
   {
    "duration": 0,
    "start_time": "2022-06-22T10:55:02.542Z"
   },
   {
    "duration": 0,
    "start_time": "2022-06-22T10:55:02.543Z"
   },
   {
    "duration": 0,
    "start_time": "2022-06-22T10:55:02.544Z"
   },
   {
    "duration": 0,
    "start_time": "2022-06-22T10:55:02.546Z"
   },
   {
    "duration": 0,
    "start_time": "2022-06-22T10:55:02.546Z"
   },
   {
    "duration": 0,
    "start_time": "2022-06-22T10:55:02.547Z"
   },
   {
    "duration": 0,
    "start_time": "2022-06-22T10:55:02.548Z"
   },
   {
    "duration": 0,
    "start_time": "2022-06-22T10:55:02.549Z"
   },
   {
    "duration": 0,
    "start_time": "2022-06-22T10:55:02.550Z"
   },
   {
    "duration": 0,
    "start_time": "2022-06-22T10:55:02.551Z"
   },
   {
    "duration": 0,
    "start_time": "2022-06-22T10:55:02.552Z"
   },
   {
    "duration": 0,
    "start_time": "2022-06-22T10:55:02.553Z"
   },
   {
    "duration": 0,
    "start_time": "2022-06-22T10:55:02.554Z"
   },
   {
    "duration": 0,
    "start_time": "2022-06-22T10:55:02.555Z"
   },
   {
    "duration": 0,
    "start_time": "2022-06-22T10:55:02.556Z"
   },
   {
    "duration": 0,
    "start_time": "2022-06-22T10:55:02.557Z"
   },
   {
    "duration": 0,
    "start_time": "2022-06-22T10:55:02.558Z"
   },
   {
    "duration": 0,
    "start_time": "2022-06-22T10:55:02.559Z"
   },
   {
    "duration": 0,
    "start_time": "2022-06-22T10:55:02.560Z"
   },
   {
    "duration": 0,
    "start_time": "2022-06-22T10:55:02.561Z"
   },
   {
    "duration": 0,
    "start_time": "2022-06-22T10:55:02.562Z"
   },
   {
    "duration": 0,
    "start_time": "2022-06-22T10:55:02.563Z"
   },
   {
    "duration": 0,
    "start_time": "2022-06-22T10:55:02.627Z"
   },
   {
    "duration": 0,
    "start_time": "2022-06-22T10:55:02.627Z"
   },
   {
    "duration": 1,
    "start_time": "2022-06-22T10:55:02.628Z"
   },
   {
    "duration": 0,
    "start_time": "2022-06-22T10:55:02.629Z"
   },
   {
    "duration": 0,
    "start_time": "2022-06-22T10:55:02.631Z"
   },
   {
    "duration": 0,
    "start_time": "2022-06-22T10:55:02.631Z"
   },
   {
    "duration": 0,
    "start_time": "2022-06-22T10:55:02.632Z"
   },
   {
    "duration": 0,
    "start_time": "2022-06-22T10:55:02.634Z"
   },
   {
    "duration": 0,
    "start_time": "2022-06-22T10:55:02.635Z"
   },
   {
    "duration": 0,
    "start_time": "2022-06-22T10:55:02.636Z"
   },
   {
    "duration": 0,
    "start_time": "2022-06-22T10:55:02.637Z"
   },
   {
    "duration": 0,
    "start_time": "2022-06-22T10:55:02.638Z"
   },
   {
    "duration": 0,
    "start_time": "2022-06-22T10:55:02.639Z"
   },
   {
    "duration": 0,
    "start_time": "2022-06-22T10:55:02.640Z"
   },
   {
    "duration": 0,
    "start_time": "2022-06-22T10:55:02.641Z"
   },
   {
    "duration": 0,
    "start_time": "2022-06-22T10:55:02.642Z"
   },
   {
    "duration": 0,
    "start_time": "2022-06-22T10:55:02.643Z"
   },
   {
    "duration": 0,
    "start_time": "2022-06-22T10:55:02.644Z"
   },
   {
    "duration": 0,
    "start_time": "2022-06-22T10:55:02.645Z"
   },
   {
    "duration": 0,
    "start_time": "2022-06-22T10:55:02.647Z"
   },
   {
    "duration": 0,
    "start_time": "2022-06-22T10:55:02.648Z"
   },
   {
    "duration": 0,
    "start_time": "2022-06-22T10:55:02.649Z"
   },
   {
    "duration": 2272,
    "start_time": "2022-06-22T10:56:02.169Z"
   },
   {
    "duration": 943,
    "start_time": "2022-06-22T10:56:04.445Z"
   },
   {
    "duration": 236,
    "start_time": "2022-06-22T10:56:05.390Z"
   },
   {
    "duration": 789,
    "start_time": "2022-06-22T10:56:05.627Z"
   },
   {
    "duration": 33,
    "start_time": "2022-06-22T10:56:06.419Z"
   },
   {
    "duration": 174,
    "start_time": "2022-06-22T10:56:06.453Z"
   },
   {
    "duration": 71,
    "start_time": "2022-06-22T10:56:06.629Z"
   },
   {
    "duration": 6,
    "start_time": "2022-06-22T10:56:06.735Z"
   },
   {
    "duration": 253,
    "start_time": "2022-06-22T10:56:06.743Z"
   },
   {
    "duration": 72,
    "start_time": "2022-06-22T10:56:06.997Z"
   },
   {
    "duration": 260,
    "start_time": "2022-06-22T10:56:07.071Z"
   },
   {
    "duration": 56,
    "start_time": "2022-06-22T10:56:07.333Z"
   },
   {
    "duration": 11,
    "start_time": "2022-06-22T10:56:07.391Z"
   },
   {
    "duration": 11,
    "start_time": "2022-06-22T10:56:07.427Z"
   },
   {
    "duration": 162,
    "start_time": "2022-06-22T10:56:07.440Z"
   },
   {
    "duration": 139,
    "start_time": "2022-06-22T10:56:07.606Z"
   },
   {
    "duration": 148,
    "start_time": "2022-06-22T10:56:07.747Z"
   },
   {
    "duration": 4,
    "start_time": "2022-06-22T10:56:07.897Z"
   },
   {
    "duration": 2319,
    "start_time": "2022-06-22T10:56:07.903Z"
   },
   {
    "duration": 2059,
    "start_time": "2022-06-22T10:56:10.225Z"
   },
   {
    "duration": 251,
    "start_time": "2022-06-22T10:56:12.290Z"
   },
   {
    "duration": 51,
    "start_time": "2022-06-22T10:56:12.543Z"
   },
   {
    "duration": 5,
    "start_time": "2022-06-22T10:56:12.596Z"
   },
   {
    "duration": 128,
    "start_time": "2022-06-22T10:56:12.603Z"
   },
   {
    "duration": 51,
    "start_time": "2022-06-22T10:56:12.732Z"
   },
   {
    "duration": 4,
    "start_time": "2022-06-22T10:56:12.785Z"
   },
   {
    "duration": 199,
    "start_time": "2022-06-22T10:56:12.791Z"
   },
   {
    "duration": 276,
    "start_time": "2022-06-22T10:56:12.992Z"
   },
   {
    "duration": 71,
    "start_time": "2022-06-22T10:56:13.270Z"
   },
   {
    "duration": 249,
    "start_time": "2022-06-22T10:56:13.343Z"
   },
   {
    "duration": 80,
    "start_time": "2022-06-22T10:56:13.594Z"
   },
   {
    "duration": 5,
    "start_time": "2022-06-22T10:56:13.675Z"
   },
   {
    "duration": 339,
    "start_time": "2022-06-22T10:56:13.682Z"
   },
   {
    "duration": 8,
    "start_time": "2022-06-22T10:56:14.023Z"
   },
   {
    "duration": 1060,
    "start_time": "2022-06-22T10:56:14.033Z"
   },
   {
    "duration": 43,
    "start_time": "2022-06-22T10:56:15.095Z"
   },
   {
    "duration": 103,
    "start_time": "2022-06-22T10:56:15.140Z"
   },
   {
    "duration": 23,
    "start_time": "2022-06-22T10:56:15.245Z"
   },
   {
    "duration": 21,
    "start_time": "2022-06-22T10:56:15.325Z"
   },
   {
    "duration": 159,
    "start_time": "2022-06-22T10:56:15.347Z"
   },
   {
    "duration": 15,
    "start_time": "2022-06-22T10:56:15.511Z"
   },
   {
    "duration": 163,
    "start_time": "2022-06-22T10:56:15.528Z"
   },
   {
    "duration": 54,
    "start_time": "2022-06-22T10:56:15.693Z"
   },
   {
    "duration": 60,
    "start_time": "2022-06-22T10:56:15.749Z"
   },
   {
    "duration": 32,
    "start_time": "2022-06-22T10:56:15.811Z"
   },
   {
    "duration": 34,
    "start_time": "2022-06-22T10:56:15.845Z"
   },
   {
    "duration": 145,
    "start_time": "2022-06-22T10:56:15.881Z"
   },
   {
    "duration": 34,
    "start_time": "2022-06-22T10:56:16.028Z"
   },
   {
    "duration": 131,
    "start_time": "2022-06-22T10:56:16.063Z"
   },
   {
    "duration": 73,
    "start_time": "2022-06-22T10:56:16.196Z"
   },
   {
    "duration": 60,
    "start_time": "2022-06-22T10:56:16.271Z"
   },
   {
    "duration": 59,
    "start_time": "2022-06-22T10:56:16.333Z"
   },
   {
    "duration": 67,
    "start_time": "2022-06-22T10:56:16.394Z"
   },
   {
    "duration": 108,
    "start_time": "2022-06-22T10:56:16.464Z"
   },
   {
    "duration": 28,
    "start_time": "2022-06-22T10:56:16.573Z"
   },
   {
    "duration": 49,
    "start_time": "2022-06-22T10:56:16.603Z"
   },
   {
    "duration": 116,
    "start_time": "2022-06-22T10:56:16.654Z"
   },
   {
    "duration": 4,
    "start_time": "2022-06-22T10:56:16.772Z"
   },
   {
    "duration": 8,
    "start_time": "2022-06-22T10:56:16.778Z"
   },
   {
    "duration": 8,
    "start_time": "2022-06-22T10:56:16.788Z"
   },
   {
    "duration": 13,
    "start_time": "2022-06-22T10:56:16.797Z"
   },
   {
    "duration": 197,
    "start_time": "2022-06-22T10:56:16.811Z"
   },
   {
    "duration": 17,
    "start_time": "2022-06-22T10:56:17.010Z"
   },
   {
    "duration": 272,
    "start_time": "2022-06-22T10:56:17.029Z"
   },
   {
    "duration": 206,
    "start_time": "2022-06-22T10:56:17.302Z"
   },
   {
    "duration": 209,
    "start_time": "2022-06-22T10:56:17.509Z"
   },
   {
    "duration": 253,
    "start_time": "2022-06-22T10:56:17.719Z"
   },
   {
    "duration": 203,
    "start_time": "2022-06-22T10:56:17.973Z"
   },
   {
    "duration": 208,
    "start_time": "2022-06-22T10:56:18.178Z"
   },
   {
    "duration": 303,
    "start_time": "2022-06-22T10:56:18.388Z"
   },
   {
    "duration": 240,
    "start_time": "2022-06-22T10:56:18.693Z"
   },
   {
    "duration": 220,
    "start_time": "2022-06-22T10:56:18.935Z"
   },
   {
    "duration": 457,
    "start_time": "2022-06-22T10:56:19.157Z"
   },
   {
    "duration": 196,
    "start_time": "2022-06-22T10:56:19.616Z"
   },
   {
    "duration": 299,
    "start_time": "2022-06-22T10:56:19.814Z"
   },
   {
    "duration": 120,
    "start_time": "2022-06-22T10:56:20.114Z"
   },
   {
    "duration": 59,
    "start_time": "2022-06-22T10:56:20.235Z"
   },
   {
    "duration": 5,
    "start_time": "2022-06-22T10:56:20.295Z"
   },
   {
    "duration": 88,
    "start_time": "2022-06-22T10:56:20.327Z"
   },
   {
    "duration": 12,
    "start_time": "2022-06-22T10:56:20.416Z"
   },
   {
    "duration": 97,
    "start_time": "2022-06-22T10:56:20.430Z"
   },
   {
    "duration": 4,
    "start_time": "2022-06-22T10:56:20.529Z"
   },
   {
    "duration": 99,
    "start_time": "2022-06-22T10:56:20.535Z"
   },
   {
    "duration": 5,
    "start_time": "2022-06-22T10:56:20.635Z"
   },
   {
    "duration": 6,
    "start_time": "2022-06-22T10:56:20.643Z"
   },
   {
    "duration": 6,
    "start_time": "2022-06-22T10:56:20.651Z"
   },
   {
    "duration": 138,
    "start_time": "2022-06-22T10:56:20.659Z"
   },
   {
    "duration": 5,
    "start_time": "2022-06-22T10:56:20.800Z"
   },
   {
    "duration": 223,
    "start_time": "2022-06-22T10:56:20.826Z"
   },
   {
    "duration": 148,
    "start_time": "2022-06-22T10:56:21.051Z"
   },
   {
    "duration": 160,
    "start_time": "2022-06-22T10:56:21.201Z"
   },
   {
    "duration": 206,
    "start_time": "2022-06-22T10:56:21.363Z"
   },
   {
    "duration": 155,
    "start_time": "2022-06-22T10:56:21.571Z"
   },
   {
    "duration": 151,
    "start_time": "2022-06-22T10:56:21.728Z"
   },
   {
    "duration": 190,
    "start_time": "2022-06-22T10:56:21.880Z"
   },
   {
    "duration": 205,
    "start_time": "2022-06-22T10:56:22.073Z"
   },
   {
    "duration": 156,
    "start_time": "2022-06-22T10:56:22.280Z"
   },
   {
    "duration": 369,
    "start_time": "2022-06-22T10:56:22.438Z"
   },
   {
    "duration": 70,
    "start_time": "2022-06-22T10:56:22.809Z"
   },
   {
    "duration": 49,
    "start_time": "2022-06-22T10:56:22.881Z"
   },
   {
    "duration": 5,
    "start_time": "2022-06-22T10:56:22.932Z"
   },
   {
    "duration": 7,
    "start_time": "2022-06-22T10:56:22.938Z"
   },
   {
    "duration": 12,
    "start_time": "2022-06-22T10:56:22.947Z"
   },
   {
    "duration": 178,
    "start_time": "2022-06-22T10:56:22.961Z"
   },
   {
    "duration": 5,
    "start_time": "2022-06-22T10:56:23.141Z"
   },
   {
    "duration": 296,
    "start_time": "2022-06-22T10:56:23.148Z"
   },
   {
    "duration": 166,
    "start_time": "2022-06-22T10:56:23.446Z"
   },
   {
    "duration": 305,
    "start_time": "2022-06-22T10:56:23.626Z"
   },
   {
    "duration": 243,
    "start_time": "2022-06-22T10:56:23.932Z"
   },
   {
    "duration": 197,
    "start_time": "2022-06-22T10:56:24.177Z"
   },
   {
    "duration": 254,
    "start_time": "2022-06-22T10:56:24.378Z"
   },
   {
    "duration": 261,
    "start_time": "2022-06-22T10:56:24.634Z"
   },
   {
    "duration": 195,
    "start_time": "2022-06-22T10:56:24.898Z"
   },
   {
    "duration": 116,
    "start_time": "2022-06-22T10:56:25.095Z"
   },
   {
    "duration": 113,
    "start_time": "2022-06-22T10:56:25.213Z"
   },
   {
    "duration": 114,
    "start_time": "2022-06-22T10:56:25.328Z"
   },
   {
    "duration": 191,
    "start_time": "2022-06-22T10:56:25.444Z"
   },
   {
    "duration": 331,
    "start_time": "2022-06-22T10:56:25.637Z"
   },
   {
    "duration": 109,
    "start_time": "2022-06-22T10:56:25.971Z"
   },
   {
    "duration": 6,
    "start_time": "2022-06-22T10:56:26.081Z"
   },
   {
    "duration": 8,
    "start_time": "2022-06-22T10:56:26.089Z"
   },
   {
    "duration": 4,
    "start_time": "2022-06-22T10:56:26.106Z"
   },
   {
    "duration": 185,
    "start_time": "2022-06-22T10:56:26.125Z"
   },
   {
    "duration": 15,
    "start_time": "2022-06-22T10:56:26.312Z"
   },
   {
    "duration": 206,
    "start_time": "2022-06-22T10:56:26.329Z"
   },
   {
    "duration": 179,
    "start_time": "2022-06-22T10:56:26.537Z"
   },
   {
    "duration": 200,
    "start_time": "2022-06-22T10:56:26.726Z"
   },
   {
    "duration": 229,
    "start_time": "2022-06-22T10:56:26.928Z"
   },
   {
    "duration": 201,
    "start_time": "2022-06-22T10:56:27.160Z"
   },
   {
    "duration": 231,
    "start_time": "2022-06-22T10:56:27.363Z"
   },
   {
    "duration": 262,
    "start_time": "2022-06-22T10:56:27.597Z"
   },
   {
    "duration": 213,
    "start_time": "2022-06-22T10:56:27.861Z"
   },
   {
    "duration": 238,
    "start_time": "2022-06-22T10:56:28.076Z"
   },
   {
    "duration": 310,
    "start_time": "2022-06-22T10:56:28.316Z"
   },
   {
    "duration": 142,
    "start_time": "2022-06-22T11:10:18.027Z"
   },
   {
    "duration": 13464,
    "start_time": "2022-06-22T12:25:57.949Z"
   },
   {
    "duration": 979,
    "start_time": "2022-06-22T12:26:11.416Z"
   },
   {
    "duration": 228,
    "start_time": "2022-06-22T12:26:12.397Z"
   },
   {
    "duration": 758,
    "start_time": "2022-06-22T12:26:12.628Z"
   },
   {
    "duration": 33,
    "start_time": "2022-06-22T12:26:13.387Z"
   },
   {
    "duration": 210,
    "start_time": "2022-06-22T12:26:13.421Z"
   },
   {
    "duration": 71,
    "start_time": "2022-06-22T12:26:13.633Z"
   },
   {
    "duration": 5,
    "start_time": "2022-06-22T12:26:13.705Z"
   },
   {
    "duration": 260,
    "start_time": "2022-06-22T12:26:13.711Z"
   },
   {
    "duration": 102,
    "start_time": "2022-06-22T12:26:13.973Z"
   },
   {
    "duration": 220,
    "start_time": "2022-06-22T12:26:14.077Z"
   },
   {
    "duration": 52,
    "start_time": "2022-06-22T12:26:14.299Z"
   },
   {
    "duration": 29,
    "start_time": "2022-06-22T12:26:14.353Z"
   },
   {
    "duration": 14,
    "start_time": "2022-06-22T12:26:14.383Z"
   },
   {
    "duration": 147,
    "start_time": "2022-06-22T12:26:14.399Z"
   },
   {
    "duration": 155,
    "start_time": "2022-06-22T12:26:14.548Z"
   },
   {
    "duration": 143,
    "start_time": "2022-06-22T12:26:14.705Z"
   },
   {
    "duration": 5,
    "start_time": "2022-06-22T12:26:14.849Z"
   },
   {
    "duration": 2346,
    "start_time": "2022-06-22T12:26:14.855Z"
   },
   {
    "duration": 2603,
    "start_time": "2022-06-22T12:26:17.203Z"
   },
   {
    "duration": 329,
    "start_time": "2022-06-22T12:26:19.808Z"
   },
   {
    "duration": 157,
    "start_time": "2022-06-22T12:26:20.139Z"
   },
   {
    "duration": 0,
    "start_time": "2022-06-22T12:26:20.301Z"
   },
   {
    "duration": 0,
    "start_time": "2022-06-22T12:26:20.303Z"
   },
   {
    "duration": 0,
    "start_time": "2022-06-22T12:26:20.304Z"
   },
   {
    "duration": 0,
    "start_time": "2022-06-22T12:26:20.305Z"
   },
   {
    "duration": 0,
    "start_time": "2022-06-22T12:26:20.306Z"
   },
   {
    "duration": 0,
    "start_time": "2022-06-22T12:26:20.307Z"
   },
   {
    "duration": 0,
    "start_time": "2022-06-22T12:26:20.308Z"
   },
   {
    "duration": 0,
    "start_time": "2022-06-22T12:26:20.309Z"
   },
   {
    "duration": 0,
    "start_time": "2022-06-22T12:26:20.310Z"
   },
   {
    "duration": 0,
    "start_time": "2022-06-22T12:26:20.311Z"
   },
   {
    "duration": 0,
    "start_time": "2022-06-22T12:26:20.313Z"
   },
   {
    "duration": 0,
    "start_time": "2022-06-22T12:26:20.314Z"
   },
   {
    "duration": 0,
    "start_time": "2022-06-22T12:26:20.315Z"
   },
   {
    "duration": 0,
    "start_time": "2022-06-22T12:26:20.317Z"
   },
   {
    "duration": 0,
    "start_time": "2022-06-22T12:26:20.319Z"
   },
   {
    "duration": 0,
    "start_time": "2022-06-22T12:26:20.320Z"
   },
   {
    "duration": 0,
    "start_time": "2022-06-22T12:26:20.322Z"
   },
   {
    "duration": 0,
    "start_time": "2022-06-22T12:26:20.323Z"
   },
   {
    "duration": 0,
    "start_time": "2022-06-22T12:26:20.324Z"
   },
   {
    "duration": 0,
    "start_time": "2022-06-22T12:26:20.326Z"
   },
   {
    "duration": 0,
    "start_time": "2022-06-22T12:26:20.327Z"
   },
   {
    "duration": 0,
    "start_time": "2022-06-22T12:26:20.369Z"
   },
   {
    "duration": 0,
    "start_time": "2022-06-22T12:26:20.370Z"
   },
   {
    "duration": 0,
    "start_time": "2022-06-22T12:26:20.370Z"
   },
   {
    "duration": 0,
    "start_time": "2022-06-22T12:26:20.374Z"
   },
   {
    "duration": 0,
    "start_time": "2022-06-22T12:26:20.375Z"
   },
   {
    "duration": 0,
    "start_time": "2022-06-22T12:26:20.376Z"
   },
   {
    "duration": 0,
    "start_time": "2022-06-22T12:26:20.377Z"
   },
   {
    "duration": 0,
    "start_time": "2022-06-22T12:26:20.378Z"
   },
   {
    "duration": 0,
    "start_time": "2022-06-22T12:26:20.379Z"
   },
   {
    "duration": 0,
    "start_time": "2022-06-22T12:26:20.379Z"
   },
   {
    "duration": 0,
    "start_time": "2022-06-22T12:26:20.380Z"
   },
   {
    "duration": 0,
    "start_time": "2022-06-22T12:26:20.381Z"
   },
   {
    "duration": 0,
    "start_time": "2022-06-22T12:26:20.382Z"
   },
   {
    "duration": 0,
    "start_time": "2022-06-22T12:26:20.383Z"
   },
   {
    "duration": 0,
    "start_time": "2022-06-22T12:26:20.383Z"
   },
   {
    "duration": 0,
    "start_time": "2022-06-22T12:26:20.384Z"
   },
   {
    "duration": 0,
    "start_time": "2022-06-22T12:26:20.386Z"
   },
   {
    "duration": 0,
    "start_time": "2022-06-22T12:26:20.387Z"
   },
   {
    "duration": 0,
    "start_time": "2022-06-22T12:26:20.388Z"
   },
   {
    "duration": 0,
    "start_time": "2022-06-22T12:26:20.390Z"
   },
   {
    "duration": 0,
    "start_time": "2022-06-22T12:26:20.391Z"
   },
   {
    "duration": 0,
    "start_time": "2022-06-22T12:26:20.393Z"
   },
   {
    "duration": 0,
    "start_time": "2022-06-22T12:26:20.394Z"
   },
   {
    "duration": 0,
    "start_time": "2022-06-22T12:26:20.395Z"
   },
   {
    "duration": 0,
    "start_time": "2022-06-22T12:26:20.397Z"
   },
   {
    "duration": 1,
    "start_time": "2022-06-22T12:26:20.397Z"
   },
   {
    "duration": 0,
    "start_time": "2022-06-22T12:26:20.399Z"
   },
   {
    "duration": 0,
    "start_time": "2022-06-22T12:26:20.400Z"
   },
   {
    "duration": 0,
    "start_time": "2022-06-22T12:26:20.401Z"
   },
   {
    "duration": 0,
    "start_time": "2022-06-22T12:26:20.402Z"
   },
   {
    "duration": 0,
    "start_time": "2022-06-22T12:26:20.404Z"
   },
   {
    "duration": 0,
    "start_time": "2022-06-22T12:26:20.405Z"
   },
   {
    "duration": 0,
    "start_time": "2022-06-22T12:26:20.406Z"
   },
   {
    "duration": 0,
    "start_time": "2022-06-22T12:26:20.407Z"
   },
   {
    "duration": 0,
    "start_time": "2022-06-22T12:26:20.408Z"
   },
   {
    "duration": 0,
    "start_time": "2022-06-22T12:26:20.409Z"
   },
   {
    "duration": 0,
    "start_time": "2022-06-22T12:26:20.410Z"
   },
   {
    "duration": 1,
    "start_time": "2022-06-22T12:26:20.411Z"
   },
   {
    "duration": 0,
    "start_time": "2022-06-22T12:26:20.471Z"
   },
   {
    "duration": 0,
    "start_time": "2022-06-22T12:26:20.472Z"
   },
   {
    "duration": 0,
    "start_time": "2022-06-22T12:26:20.472Z"
   },
   {
    "duration": 0,
    "start_time": "2022-06-22T12:26:20.473Z"
   },
   {
    "duration": 0,
    "start_time": "2022-06-22T12:26:20.474Z"
   },
   {
    "duration": 0,
    "start_time": "2022-06-22T12:26:20.478Z"
   },
   {
    "duration": 0,
    "start_time": "2022-06-22T12:26:20.479Z"
   },
   {
    "duration": 0,
    "start_time": "2022-06-22T12:26:20.479Z"
   },
   {
    "duration": 0,
    "start_time": "2022-06-22T12:26:20.480Z"
   },
   {
    "duration": 0,
    "start_time": "2022-06-22T12:26:20.482Z"
   },
   {
    "duration": 0,
    "start_time": "2022-06-22T12:26:20.483Z"
   },
   {
    "duration": 0,
    "start_time": "2022-06-22T12:26:20.484Z"
   },
   {
    "duration": 0,
    "start_time": "2022-06-22T12:26:20.485Z"
   },
   {
    "duration": 0,
    "start_time": "2022-06-22T12:26:20.486Z"
   },
   {
    "duration": 0,
    "start_time": "2022-06-22T12:26:20.487Z"
   },
   {
    "duration": 0,
    "start_time": "2022-06-22T12:26:20.488Z"
   },
   {
    "duration": 0,
    "start_time": "2022-06-22T12:26:20.491Z"
   },
   {
    "duration": 0,
    "start_time": "2022-06-22T12:26:20.493Z"
   },
   {
    "duration": 1,
    "start_time": "2022-06-22T12:26:20.494Z"
   },
   {
    "duration": 0,
    "start_time": "2022-06-22T12:26:20.496Z"
   },
   {
    "duration": 0,
    "start_time": "2022-06-22T12:26:20.498Z"
   },
   {
    "duration": 0,
    "start_time": "2022-06-22T12:26:20.500Z"
   },
   {
    "duration": 0,
    "start_time": "2022-06-22T12:26:20.501Z"
   },
   {
    "duration": 0,
    "start_time": "2022-06-22T12:26:20.502Z"
   },
   {
    "duration": 0,
    "start_time": "2022-06-22T12:26:20.503Z"
   },
   {
    "duration": 0,
    "start_time": "2022-06-22T12:26:20.504Z"
   },
   {
    "duration": 0,
    "start_time": "2022-06-22T12:26:20.506Z"
   },
   {
    "duration": 0,
    "start_time": "2022-06-22T12:26:20.507Z"
   },
   {
    "duration": 0,
    "start_time": "2022-06-22T12:26:20.508Z"
   },
   {
    "duration": 1,
    "start_time": "2022-06-22T12:26:20.509Z"
   },
   {
    "duration": 0,
    "start_time": "2022-06-22T12:26:20.511Z"
   },
   {
    "duration": 0,
    "start_time": "2022-06-22T12:26:20.512Z"
   },
   {
    "duration": 0,
    "start_time": "2022-06-22T12:26:20.568Z"
   },
   {
    "duration": 0,
    "start_time": "2022-06-22T12:26:20.569Z"
   },
   {
    "duration": 0,
    "start_time": "2022-06-22T12:26:20.570Z"
   },
   {
    "duration": 0,
    "start_time": "2022-06-22T12:26:20.571Z"
   },
   {
    "duration": 0,
    "start_time": "2022-06-22T12:26:20.572Z"
   },
   {
    "duration": 0,
    "start_time": "2022-06-22T12:26:20.573Z"
   },
   {
    "duration": 0,
    "start_time": "2022-06-22T12:26:20.577Z"
   },
   {
    "duration": 0,
    "start_time": "2022-06-22T12:26:20.578Z"
   },
   {
    "duration": 0,
    "start_time": "2022-06-22T12:26:20.580Z"
   },
   {
    "duration": 0,
    "start_time": "2022-06-22T12:26:20.581Z"
   },
   {
    "duration": 0,
    "start_time": "2022-06-22T12:26:20.583Z"
   },
   {
    "duration": 0,
    "start_time": "2022-06-22T12:26:20.584Z"
   },
   {
    "duration": 0,
    "start_time": "2022-06-22T12:26:20.584Z"
   },
   {
    "duration": 0,
    "start_time": "2022-06-22T12:26:20.585Z"
   },
   {
    "duration": 0,
    "start_time": "2022-06-22T12:26:20.587Z"
   },
   {
    "duration": 0,
    "start_time": "2022-06-22T12:26:20.587Z"
   },
   {
    "duration": 0,
    "start_time": "2022-06-22T12:26:20.588Z"
   },
   {
    "duration": 0,
    "start_time": "2022-06-22T12:26:20.589Z"
   },
   {
    "duration": 0,
    "start_time": "2022-06-22T12:26:20.589Z"
   },
   {
    "duration": 0,
    "start_time": "2022-06-22T12:26:20.590Z"
   },
   {
    "duration": 0,
    "start_time": "2022-06-22T12:26:20.591Z"
   },
   {
    "duration": 2278,
    "start_time": "2022-06-22T12:26:31.084Z"
   },
   {
    "duration": 1038,
    "start_time": "2022-06-22T12:26:33.364Z"
   },
   {
    "duration": 300,
    "start_time": "2022-06-22T12:26:34.404Z"
   },
   {
    "duration": 789,
    "start_time": "2022-06-22T12:26:34.706Z"
   },
   {
    "duration": 38,
    "start_time": "2022-06-22T12:26:35.497Z"
   },
   {
    "duration": 182,
    "start_time": "2022-06-22T12:26:35.536Z"
   },
   {
    "duration": 97,
    "start_time": "2022-06-22T12:26:35.721Z"
   },
   {
    "duration": 5,
    "start_time": "2022-06-22T12:26:35.820Z"
   },
   {
    "duration": 271,
    "start_time": "2022-06-22T12:26:35.827Z"
   },
   {
    "duration": 89,
    "start_time": "2022-06-22T12:26:36.101Z"
   },
   {
    "duration": 227,
    "start_time": "2022-06-22T12:26:36.192Z"
   },
   {
    "duration": 75,
    "start_time": "2022-06-22T12:26:36.420Z"
   },
   {
    "duration": 9,
    "start_time": "2022-06-22T12:26:36.497Z"
   },
   {
    "duration": 15,
    "start_time": "2022-06-22T12:26:36.508Z"
   },
   {
    "duration": 171,
    "start_time": "2022-06-22T12:26:36.525Z"
   },
   {
    "duration": 293,
    "start_time": "2022-06-22T12:26:36.697Z"
   },
   {
    "duration": 308,
    "start_time": "2022-06-22T12:26:36.992Z"
   },
   {
    "duration": 6,
    "start_time": "2022-06-22T12:26:37.302Z"
   },
   {
    "duration": 3616,
    "start_time": "2022-06-22T12:26:37.310Z"
   },
   {
    "duration": 2395,
    "start_time": "2022-06-22T12:26:40.927Z"
   },
   {
    "duration": 280,
    "start_time": "2022-06-22T12:26:43.324Z"
   },
   {
    "duration": 69,
    "start_time": "2022-06-22T12:26:43.606Z"
   },
   {
    "duration": 7,
    "start_time": "2022-06-22T12:26:43.677Z"
   },
   {
    "duration": 125,
    "start_time": "2022-06-22T12:26:43.685Z"
   },
   {
    "duration": 85,
    "start_time": "2022-06-22T12:26:43.812Z"
   },
   {
    "duration": 5,
    "start_time": "2022-06-22T12:26:43.898Z"
   },
   {
    "duration": 186,
    "start_time": "2022-06-22T12:26:43.905Z"
   },
   {
    "duration": 188,
    "start_time": "2022-06-22T12:26:44.095Z"
   },
   {
    "duration": 44,
    "start_time": "2022-06-22T12:26:44.285Z"
   },
   {
    "duration": 310,
    "start_time": "2022-06-22T12:26:44.330Z"
   },
   {
    "duration": 102,
    "start_time": "2022-06-22T12:26:44.642Z"
   },
   {
    "duration": 23,
    "start_time": "2022-06-22T12:26:44.746Z"
   },
   {
    "duration": 337,
    "start_time": "2022-06-22T12:26:44.772Z"
   },
   {
    "duration": 8,
    "start_time": "2022-06-22T12:26:45.111Z"
   },
   {
    "duration": 1072,
    "start_time": "2022-06-22T12:26:45.120Z"
   },
   {
    "duration": 17,
    "start_time": "2022-06-22T12:26:46.194Z"
   },
   {
    "duration": 182,
    "start_time": "2022-06-22T12:26:46.213Z"
   },
   {
    "duration": 24,
    "start_time": "2022-06-22T12:26:46.397Z"
   },
   {
    "duration": 70,
    "start_time": "2022-06-22T12:26:46.423Z"
   },
   {
    "duration": 132,
    "start_time": "2022-06-22T12:26:46.494Z"
   },
   {
    "duration": 5,
    "start_time": "2022-06-22T12:26:46.628Z"
   },
   {
    "duration": 194,
    "start_time": "2022-06-22T12:26:46.635Z"
   },
   {
    "duration": 64,
    "start_time": "2022-06-22T12:26:46.831Z"
   },
   {
    "duration": 56,
    "start_time": "2022-06-22T12:26:46.896Z"
   },
   {
    "duration": 34,
    "start_time": "2022-06-22T12:26:46.954Z"
   },
   {
    "duration": 34,
    "start_time": "2022-06-22T12:26:46.990Z"
   },
   {
    "duration": 158,
    "start_time": "2022-06-22T12:26:47.026Z"
   },
   {
    "duration": 33,
    "start_time": "2022-06-22T12:26:47.186Z"
   },
   {
    "duration": 137,
    "start_time": "2022-06-22T12:26:47.221Z"
   },
   {
    "duration": 63,
    "start_time": "2022-06-22T12:26:47.360Z"
   },
   {
    "duration": 65,
    "start_time": "2022-06-22T12:26:47.424Z"
   },
   {
    "duration": 58,
    "start_time": "2022-06-22T12:26:47.490Z"
   },
   {
    "duration": 66,
    "start_time": "2022-06-22T12:26:47.549Z"
   },
   {
    "duration": 82,
    "start_time": "2022-06-22T12:26:47.617Z"
   },
   {
    "duration": 25,
    "start_time": "2022-06-22T12:26:47.701Z"
   },
   {
    "duration": 57,
    "start_time": "2022-06-22T12:26:47.728Z"
   },
   {
    "duration": 115,
    "start_time": "2022-06-22T12:26:47.789Z"
   },
   {
    "duration": 3,
    "start_time": "2022-06-22T12:26:47.906Z"
   },
   {
    "duration": 6,
    "start_time": "2022-06-22T12:26:47.911Z"
   },
   {
    "duration": 8,
    "start_time": "2022-06-22T12:26:47.918Z"
   },
   {
    "duration": 9,
    "start_time": "2022-06-22T12:26:47.927Z"
   },
   {
    "duration": 191,
    "start_time": "2022-06-22T12:26:47.938Z"
   },
   {
    "duration": 5,
    "start_time": "2022-06-22T12:26:48.131Z"
   },
   {
    "duration": 382,
    "start_time": "2022-06-22T12:26:48.137Z"
   },
   {
    "duration": 207,
    "start_time": "2022-06-22T12:26:48.567Z"
   },
   {
    "duration": 241,
    "start_time": "2022-06-22T12:26:48.785Z"
   },
   {
    "duration": 305,
    "start_time": "2022-06-22T12:26:49.027Z"
   },
   {
    "duration": 208,
    "start_time": "2022-06-22T12:26:49.334Z"
   },
   {
    "duration": 237,
    "start_time": "2022-06-22T12:26:49.543Z"
   },
   {
    "duration": 263,
    "start_time": "2022-06-22T12:26:49.782Z"
   },
   {
    "duration": 235,
    "start_time": "2022-06-22T12:26:50.047Z"
   },
   {
    "duration": 217,
    "start_time": "2022-06-22T12:26:50.284Z"
   },
   {
    "duration": 351,
    "start_time": "2022-06-22T12:26:50.503Z"
   },
   {
    "duration": 178,
    "start_time": "2022-06-22T12:26:50.856Z"
   },
   {
    "duration": 273,
    "start_time": "2022-06-22T12:26:51.036Z"
   },
   {
    "duration": 110,
    "start_time": "2022-06-22T12:26:51.311Z"
   },
   {
    "duration": 74,
    "start_time": "2022-06-22T12:26:51.423Z"
   },
   {
    "duration": 4,
    "start_time": "2022-06-22T12:26:51.499Z"
   },
   {
    "duration": 117,
    "start_time": "2022-06-22T12:26:51.505Z"
   },
   {
    "duration": 5,
    "start_time": "2022-06-22T12:26:51.624Z"
   },
   {
    "duration": 102,
    "start_time": "2022-06-22T12:26:51.630Z"
   },
   {
    "duration": 4,
    "start_time": "2022-06-22T12:26:51.739Z"
   },
   {
    "duration": 98,
    "start_time": "2022-06-22T12:26:51.745Z"
   },
   {
    "duration": 6,
    "start_time": "2022-06-22T12:26:51.844Z"
   },
   {
    "duration": 8,
    "start_time": "2022-06-22T12:26:51.852Z"
   },
   {
    "duration": 24,
    "start_time": "2022-06-22T12:26:51.861Z"
   },
   {
    "duration": 110,
    "start_time": "2022-06-22T12:26:51.887Z"
   },
   {
    "duration": 5,
    "start_time": "2022-06-22T12:26:51.998Z"
   },
   {
    "duration": 227,
    "start_time": "2022-06-22T12:26:52.004Z"
   },
   {
    "duration": 158,
    "start_time": "2022-06-22T12:26:52.233Z"
   },
   {
    "duration": 167,
    "start_time": "2022-06-22T12:26:52.393Z"
   },
   {
    "duration": 192,
    "start_time": "2022-06-22T12:26:52.562Z"
   },
   {
    "duration": 169,
    "start_time": "2022-06-22T12:26:52.756Z"
   },
   {
    "duration": 157,
    "start_time": "2022-06-22T12:26:52.927Z"
   },
   {
    "duration": 222,
    "start_time": "2022-06-22T12:26:53.086Z"
   },
   {
    "duration": 176,
    "start_time": "2022-06-22T12:26:53.310Z"
   },
   {
    "duration": 153,
    "start_time": "2022-06-22T12:26:53.488Z"
   },
   {
    "duration": 376,
    "start_time": "2022-06-22T12:26:53.642Z"
   },
   {
    "duration": 85,
    "start_time": "2022-06-22T12:26:54.020Z"
   },
   {
    "duration": 26,
    "start_time": "2022-06-22T12:26:54.107Z"
   },
   {
    "duration": 4,
    "start_time": "2022-06-22T12:26:54.135Z"
   },
   {
    "duration": 5,
    "start_time": "2022-06-22T12:26:54.141Z"
   },
   {
    "duration": 33,
    "start_time": "2022-06-22T12:26:54.147Z"
   },
   {
    "duration": 130,
    "start_time": "2022-06-22T12:26:54.181Z"
   },
   {
    "duration": 5,
    "start_time": "2022-06-22T12:26:54.312Z"
   },
   {
    "duration": 264,
    "start_time": "2022-06-22T12:26:54.318Z"
   },
   {
    "duration": 189,
    "start_time": "2022-06-22T12:26:54.583Z"
   },
   {
    "duration": 212,
    "start_time": "2022-06-22T12:26:54.774Z"
   },
   {
    "duration": 245,
    "start_time": "2022-06-22T12:26:54.988Z"
   },
   {
    "duration": 170,
    "start_time": "2022-06-22T12:26:55.234Z"
   },
   {
    "duration": 192,
    "start_time": "2022-06-22T12:26:55.406Z"
   },
   {
    "duration": 242,
    "start_time": "2022-06-22T12:26:55.600Z"
   },
   {
    "duration": 206,
    "start_time": "2022-06-22T12:26:55.843Z"
   },
   {
    "duration": 77,
    "start_time": "2022-06-22T12:26:56.050Z"
   },
   {
    "duration": 121,
    "start_time": "2022-06-22T12:26:56.129Z"
   },
   {
    "duration": 107,
    "start_time": "2022-06-22T12:26:56.252Z"
   },
   {
    "duration": 186,
    "start_time": "2022-06-22T12:26:56.361Z"
   },
   {
    "duration": 312,
    "start_time": "2022-06-22T12:26:56.549Z"
   },
   {
    "duration": 56,
    "start_time": "2022-06-22T12:26:56.862Z"
   },
   {
    "duration": 23,
    "start_time": "2022-06-22T12:26:56.919Z"
   },
   {
    "duration": 32,
    "start_time": "2022-06-22T12:26:56.944Z"
   },
   {
    "duration": 36,
    "start_time": "2022-06-22T12:26:56.984Z"
   },
   {
    "duration": 180,
    "start_time": "2022-06-22T12:26:57.022Z"
   },
   {
    "duration": 4,
    "start_time": "2022-06-22T12:26:57.204Z"
   },
   {
    "duration": 224,
    "start_time": "2022-06-22T12:26:57.209Z"
   },
   {
    "duration": 184,
    "start_time": "2022-06-22T12:26:57.434Z"
   },
   {
    "duration": 184,
    "start_time": "2022-06-22T12:26:57.621Z"
   },
   {
    "duration": 239,
    "start_time": "2022-06-22T12:26:57.807Z"
   },
   {
    "duration": 187,
    "start_time": "2022-06-22T12:26:58.048Z"
   },
   {
    "duration": 226,
    "start_time": "2022-06-22T12:26:58.237Z"
   },
   {
    "duration": 252,
    "start_time": "2022-06-22T12:26:58.464Z"
   },
   {
    "duration": 225,
    "start_time": "2022-06-22T12:26:58.717Z"
   },
   {
    "duration": 289,
    "start_time": "2022-06-22T12:26:58.945Z"
   },
   {
    "duration": 332,
    "start_time": "2022-06-22T12:26:59.236Z"
   },
   {
    "duration": 2600,
    "start_time": "2022-06-22T12:32:22.279Z"
   },
   {
    "duration": 1029,
    "start_time": "2022-06-22T12:32:24.881Z"
   },
   {
    "duration": 239,
    "start_time": "2022-06-22T12:32:25.912Z"
   },
   {
    "duration": 808,
    "start_time": "2022-06-22T12:32:26.153Z"
   },
   {
    "duration": 47,
    "start_time": "2022-06-22T12:32:26.962Z"
   },
   {
    "duration": 170,
    "start_time": "2022-06-22T12:32:27.011Z"
   },
   {
    "duration": 63,
    "start_time": "2022-06-22T12:32:27.182Z"
   },
   {
    "duration": 35,
    "start_time": "2022-06-22T12:32:27.246Z"
   },
   {
    "duration": 236,
    "start_time": "2022-06-22T12:32:27.283Z"
   },
   {
    "duration": 78,
    "start_time": "2022-06-22T12:32:27.521Z"
   },
   {
    "duration": 232,
    "start_time": "2022-06-22T12:32:27.601Z"
   },
   {
    "duration": 68,
    "start_time": "2022-06-22T12:32:27.835Z"
   },
   {
    "duration": 10,
    "start_time": "2022-06-22T12:32:27.905Z"
   },
   {
    "duration": 17,
    "start_time": "2022-06-22T12:32:27.917Z"
   },
   {
    "duration": 165,
    "start_time": "2022-06-22T12:32:27.936Z"
   },
   {
    "duration": 139,
    "start_time": "2022-06-22T12:32:28.102Z"
   },
   {
    "duration": 153,
    "start_time": "2022-06-22T12:32:28.242Z"
   },
   {
    "duration": 5,
    "start_time": "2022-06-22T12:32:28.397Z"
   },
   {
    "duration": 2502,
    "start_time": "2022-06-22T12:32:28.403Z"
   },
   {
    "duration": 2432,
    "start_time": "2022-06-22T12:32:30.908Z"
   },
   {
    "duration": 295,
    "start_time": "2022-06-22T12:32:33.342Z"
   },
   {
    "duration": 68,
    "start_time": "2022-06-22T12:32:33.639Z"
   },
   {
    "duration": 4,
    "start_time": "2022-06-22T12:32:33.709Z"
   },
   {
    "duration": 121,
    "start_time": "2022-06-22T12:32:33.714Z"
   },
   {
    "duration": 77,
    "start_time": "2022-06-22T12:32:33.837Z"
   },
   {
    "duration": 4,
    "start_time": "2022-06-22T12:32:33.916Z"
   },
   {
    "duration": 197,
    "start_time": "2022-06-22T12:32:33.922Z"
   },
   {
    "duration": 208,
    "start_time": "2022-06-22T12:32:34.123Z"
   },
   {
    "duration": 77,
    "start_time": "2022-06-22T12:32:34.333Z"
   },
   {
    "duration": 300,
    "start_time": "2022-06-22T12:32:34.413Z"
   },
   {
    "duration": 97,
    "start_time": "2022-06-22T12:32:34.715Z"
   },
   {
    "duration": 6,
    "start_time": "2022-06-22T12:32:34.813Z"
   },
   {
    "duration": 344,
    "start_time": "2022-06-22T12:32:34.821Z"
   },
   {
    "duration": 13,
    "start_time": "2022-06-22T12:32:35.167Z"
   },
   {
    "duration": 1898,
    "start_time": "2022-06-22T12:32:35.182Z"
   },
   {
    "duration": 22,
    "start_time": "2022-06-22T12:32:37.081Z"
   },
   {
    "duration": 162,
    "start_time": "2022-06-22T12:32:37.104Z"
   },
   {
    "duration": 35,
    "start_time": "2022-06-22T12:32:37.268Z"
   },
   {
    "duration": 79,
    "start_time": "2022-06-22T12:32:37.306Z"
   },
   {
    "duration": 392,
    "start_time": "2022-06-22T12:32:37.388Z"
   },
   {
    "duration": 6,
    "start_time": "2022-06-22T12:32:37.783Z"
   },
   {
    "duration": 334,
    "start_time": "2022-06-22T12:32:37.790Z"
   },
   {
    "duration": 83,
    "start_time": "2022-06-22T12:32:38.126Z"
   },
   {
    "duration": 102,
    "start_time": "2022-06-22T12:32:38.210Z"
   },
   {
    "duration": 18,
    "start_time": "2022-06-22T12:32:38.314Z"
   },
   {
    "duration": 59,
    "start_time": "2022-06-22T12:32:38.334Z"
   },
   {
    "duration": 152,
    "start_time": "2022-06-22T12:32:38.398Z"
   },
   {
    "duration": 46,
    "start_time": "2022-06-22T12:32:38.552Z"
   },
   {
    "duration": 191,
    "start_time": "2022-06-22T12:32:38.600Z"
   },
   {
    "duration": 86,
    "start_time": "2022-06-22T12:32:38.793Z"
   },
   {
    "duration": 57,
    "start_time": "2022-06-22T12:32:38.884Z"
   },
   {
    "duration": 94,
    "start_time": "2022-06-22T12:32:38.943Z"
   },
   {
    "duration": 73,
    "start_time": "2022-06-22T12:32:39.038Z"
   },
   {
    "duration": 95,
    "start_time": "2022-06-22T12:32:39.113Z"
   },
   {
    "duration": 29,
    "start_time": "2022-06-22T12:32:39.211Z"
   },
   {
    "duration": 67,
    "start_time": "2022-06-22T12:32:39.242Z"
   },
   {
    "duration": 202,
    "start_time": "2022-06-22T12:32:39.311Z"
   },
   {
    "duration": 4,
    "start_time": "2022-06-22T12:32:39.515Z"
   },
   {
    "duration": 7,
    "start_time": "2022-06-22T12:32:39.521Z"
   },
   {
    "duration": 8,
    "start_time": "2022-06-22T12:32:39.530Z"
   },
   {
    "duration": 6,
    "start_time": "2022-06-22T12:32:39.540Z"
   },
   {
    "duration": 229,
    "start_time": "2022-06-22T12:32:39.547Z"
   },
   {
    "duration": 5,
    "start_time": "2022-06-22T12:32:39.781Z"
   },
   {
    "duration": 265,
    "start_time": "2022-06-22T12:32:39.788Z"
   },
   {
    "duration": 230,
    "start_time": "2022-06-22T12:32:40.054Z"
   },
   {
    "duration": 215,
    "start_time": "2022-06-22T12:32:40.286Z"
   },
   {
    "duration": 270,
    "start_time": "2022-06-22T12:32:40.503Z"
   },
   {
    "duration": 210,
    "start_time": "2022-06-22T12:32:40.777Z"
   },
   {
    "duration": 223,
    "start_time": "2022-06-22T12:32:40.988Z"
   },
   {
    "duration": 277,
    "start_time": "2022-06-22T12:32:41.212Z"
   },
   {
    "duration": 233,
    "start_time": "2022-06-22T12:32:41.491Z"
   },
   {
    "duration": 232,
    "start_time": "2022-06-22T12:32:41.725Z"
   },
   {
    "duration": 361,
    "start_time": "2022-06-22T12:32:41.959Z"
   },
   {
    "duration": 179,
    "start_time": "2022-06-22T12:32:42.321Z"
   },
   {
    "duration": 282,
    "start_time": "2022-06-22T12:32:42.501Z"
   },
   {
    "duration": 111,
    "start_time": "2022-06-22T12:32:42.784Z"
   },
   {
    "duration": 48,
    "start_time": "2022-06-22T12:32:42.896Z"
   },
   {
    "duration": 28,
    "start_time": "2022-06-22T12:32:42.946Z"
   },
   {
    "duration": 109,
    "start_time": "2022-06-22T12:32:42.976Z"
   },
   {
    "duration": 4,
    "start_time": "2022-06-22T12:32:43.087Z"
   },
   {
    "duration": 99,
    "start_time": "2022-06-22T12:32:43.093Z"
   },
   {
    "duration": 4,
    "start_time": "2022-06-22T12:32:43.199Z"
   },
   {
    "duration": 105,
    "start_time": "2022-06-22T12:32:43.205Z"
   },
   {
    "duration": 5,
    "start_time": "2022-06-22T12:32:43.312Z"
   },
   {
    "duration": 13,
    "start_time": "2022-06-22T12:32:43.319Z"
   },
   {
    "duration": 6,
    "start_time": "2022-06-22T12:32:43.333Z"
   },
   {
    "duration": 145,
    "start_time": "2022-06-22T12:32:43.341Z"
   },
   {
    "duration": 4,
    "start_time": "2022-06-22T12:32:43.488Z"
   },
   {
    "duration": 221,
    "start_time": "2022-06-22T12:32:43.493Z"
   },
   {
    "duration": 160,
    "start_time": "2022-06-22T12:32:43.716Z"
   },
   {
    "duration": 179,
    "start_time": "2022-06-22T12:32:43.879Z"
   },
   {
    "duration": 233,
    "start_time": "2022-06-22T12:32:44.060Z"
   },
   {
    "duration": 158,
    "start_time": "2022-06-22T12:32:44.295Z"
   },
   {
    "duration": 178,
    "start_time": "2022-06-22T12:32:44.454Z"
   },
   {
    "duration": 221,
    "start_time": "2022-06-22T12:32:44.633Z"
   },
   {
    "duration": 203,
    "start_time": "2022-06-22T12:32:44.856Z"
   },
   {
    "duration": 181,
    "start_time": "2022-06-22T12:32:45.068Z"
   },
   {
    "duration": 301,
    "start_time": "2022-06-22T12:32:45.251Z"
   },
   {
    "duration": 86,
    "start_time": "2022-06-22T12:32:45.554Z"
   },
   {
    "duration": 37,
    "start_time": "2022-06-22T12:32:45.642Z"
   },
   {
    "duration": 5,
    "start_time": "2022-06-22T12:32:45.681Z"
   },
   {
    "duration": 6,
    "start_time": "2022-06-22T12:32:45.688Z"
   },
   {
    "duration": 7,
    "start_time": "2022-06-22T12:32:45.696Z"
   },
   {
    "duration": 251,
    "start_time": "2022-06-22T12:32:45.704Z"
   },
   {
    "duration": 11,
    "start_time": "2022-06-22T12:32:45.966Z"
   },
   {
    "duration": 262,
    "start_time": "2022-06-22T12:32:45.982Z"
   },
   {
    "duration": 187,
    "start_time": "2022-06-22T12:32:46.246Z"
   },
   {
    "duration": 199,
    "start_time": "2022-06-22T12:32:46.435Z"
   },
   {
    "duration": 267,
    "start_time": "2022-06-22T12:32:46.636Z"
   },
   {
    "duration": 180,
    "start_time": "2022-06-22T12:32:46.905Z"
   },
   {
    "duration": 200,
    "start_time": "2022-06-22T12:32:47.087Z"
   },
   {
    "duration": 248,
    "start_time": "2022-06-22T12:32:47.289Z"
   },
   {
    "duration": 210,
    "start_time": "2022-06-22T12:32:47.539Z"
   },
   {
    "duration": 75,
    "start_time": "2022-06-22T12:32:47.750Z"
   },
   {
    "duration": 120,
    "start_time": "2022-06-22T12:32:47.826Z"
   },
   {
    "duration": 123,
    "start_time": "2022-06-22T12:32:47.949Z"
   },
   {
    "duration": 210,
    "start_time": "2022-06-22T12:32:48.074Z"
   },
   {
    "duration": 332,
    "start_time": "2022-06-22T12:32:48.286Z"
   },
   {
    "duration": 76,
    "start_time": "2022-06-22T12:32:48.619Z"
   },
   {
    "duration": 6,
    "start_time": "2022-06-22T12:32:48.697Z"
   },
   {
    "duration": 7,
    "start_time": "2022-06-22T12:32:48.704Z"
   },
   {
    "duration": 8,
    "start_time": "2022-06-22T12:32:48.713Z"
   },
   {
    "duration": 175,
    "start_time": "2022-06-22T12:32:48.723Z"
   },
   {
    "duration": 6,
    "start_time": "2022-06-22T12:32:48.900Z"
   },
   {
    "duration": 287,
    "start_time": "2022-06-22T12:32:48.908Z"
   },
   {
    "duration": 195,
    "start_time": "2022-06-22T12:32:49.198Z"
   },
   {
    "duration": 223,
    "start_time": "2022-06-22T12:32:49.395Z"
   },
   {
    "duration": 260,
    "start_time": "2022-06-22T12:32:49.620Z"
   },
   {
    "duration": 177,
    "start_time": "2022-06-22T12:32:49.883Z"
   },
   {
    "duration": 230,
    "start_time": "2022-06-22T12:32:50.073Z"
   },
   {
    "duration": 273,
    "start_time": "2022-06-22T12:32:50.305Z"
   },
   {
    "duration": 233,
    "start_time": "2022-06-22T12:32:50.582Z"
   },
   {
    "duration": 230,
    "start_time": "2022-06-22T12:32:50.818Z"
   },
   {
    "duration": 347,
    "start_time": "2022-06-22T12:32:51.050Z"
   }
  ],
  "colab": {
   "name": "Yandex.Metrics",
   "provenance": [],
   "toc_visible": true
  },
  "hide_input": false,
  "kernelspec": {
   "display_name": "Python 3 (ipykernel)",
   "language": "python",
   "name": "python3"
  },
  "language_info": {
   "codemirror_mode": {
    "name": "ipython",
    "version": 3
   },
   "file_extension": ".py",
   "mimetype": "text/x-python",
   "name": "python",
   "nbconvert_exporter": "python",
   "pygments_lexer": "ipython3",
   "version": "3.10.5"
  },
  "notify_time": "30",
  "toc": {
   "base_numbering": 1,
   "nav_menu": {},
   "number_sections": false,
   "sideBar": true,
   "skip_h1_title": false,
   "title_cell": "Table of Contents",
   "title_sidebar": "Table of contents",
   "toc_cell": false,
   "toc_position": {
    "height": "calc(100% - 180px)",
    "left": "10px",
    "top": "150px",
    "width": "288px"
   },
   "toc_section_display": true,
   "toc_window_display": false
  }
 },
 "nbformat": 4,
 "nbformat_minor": 5
}
