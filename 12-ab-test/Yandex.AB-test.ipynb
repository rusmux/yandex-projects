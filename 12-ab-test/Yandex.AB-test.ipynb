{
 "cells": [
  {
   "cell_type": "markdown",
   "id": "0896c259",
   "metadata": {
    "ExecuteTime": {
     "end_time": "2022-10-08T23:41:57.723526Z",
     "start_time": "2022-10-08T23:41:57.720295Z"
    }
   },
   "source": [
    "# A/B тестирование рекомендательной системы"
   ]
  },
  {
   "cell_type": "markdown",
   "id": "cdb52564",
   "metadata": {},
   "source": [
    "Целью данного исследования является провести анализ результатов A/B-теста:\n",
    "\n",
    "* Оценить корректность проведения теста\n",
    "\n",
    "\n",
    "* Проанализировать результаты теста\n",
    "\n",
    "\n",
    "**Описание теста:**\n",
    "\n",
    "\n",
    "* Название теста: `recommender_system_test`;\n",
    "\n",
    "\n",
    "* Группы: А — контрольная, B — новая платёжная воронка;\n",
    "\n",
    "\n",
    "* Дата запуска: 2020-12-07;\n",
    "\n",
    "\n",
    "* Дата остановки набора новых пользователей: 2020-12-21;\n",
    "\n",
    "\n",
    "* Дата остановки: 2021-01-04;\n",
    "\n",
    "\n",
    "* Аудитория: 15% новых пользователей из региона EU;\n",
    "\n",
    "\n",
    "* Назначение теста: тестирование изменений, связанных с внедрением улучшенной рекомендательной системы;\n",
    "\n",
    "\n",
    "* Ожидаемое количество участников теста: 6000;\n",
    "\n",
    "\n",
    "* Ожидаемый эффект: за 14 дней с момента регистрации пользователи покажут улучшение каждой метрики не менее, чем на 10%:\n",
    "\n",
    "    * конверсии в просмотр карточек товаров — событие `product_page`;\n",
    "    \n",
    "    * просмотры корзины — `product_cart`;\n",
    "    \n",
    "    * покупки — `purchase`;\n",
    "\n",
    "\n",
    "**Структура данных:**\n",
    "\n",
    "\n",
    "Календарь маркетинговых событий хранится в файле `ab_project_marketing_events.csv`:\n",
    "\n",
    "* `name` – название маркетингового события;\n",
    "\n",
    "\n",
    "* `regions` – регионы, в которых будет проводиться рекламная кампания;\n",
    "\n",
    "\n",
    "* `start_dt` – дата начала кампании;\n",
    "\n",
    "\n",
    "* `finish_dt` – дата завершения кампании;\n",
    "\n",
    "Данные с пользователями, зарегистрировавшимися с 7 по 21 декабря 2020 года, находятся в файле `final_ab_new_users.csv`:\n",
    "\n",
    "* `user_id` – уникальный идентификатор пользователя;\n",
    "\n",
    "\n",
    "* `first_date` – дата регистрации;\n",
    "\n",
    "\n",
    "* `region` – регион пользователя;\n",
    "\n",
    "\n",
    "* `device` – устройство, с которого проходила регистрация;\n",
    "\n",
    "Данные о действиях, совершенными новыми пользователями с 7 декабря 2020 по 4 января 2021 года, хранятся в файле `final_ab_events`:\n",
    "\n",
    "* `user_id` – уникальный идентификатор пользователя;\n",
    "\n",
    "\n",
    "* `event_dt` – дата и время покупки;\n",
    "\n",
    "\n",
    "* `event_name` – тип действия;\n",
    "\n",
    "\n",
    "* `details` – дополнительные сведения о действиях. Например, для события покупки `purchase` в этом поле хранится стоимость покупки в долларах.\n",
    "\n",
    "Информация об участниках теста записана в файле `final_ab_participants`:\n",
    "\n",
    "* `user_id` – уникальный идентификатор пользователя;\n",
    "\n",
    "\n",
    "* `group` – группа пользователя;\n",
    "\n",
    "\n",
    "* `ab_test` – название теста;\n",
    "\n",
    "\n",
    "**План:**\n",
    "\n",
    "<div class=\"toc\">\n",
    "    <ul class=\"toc-item\">\n",
    "        <li><span><a href=\"#Setup\" data-toc-modified-id=\"Setup-2\">Setup</a></span></li>\n",
    "        <li>\n",
    "            <span><a href=\"#Предобработка-данных\" data-toc-modified-id=\"Предобработка-данных-3\">Предобработка данных</a></span>\n",
    "            <ul class=\"toc-item\">\n",
    "                <li><span><a href=\"#Обработка-пропусков\" data-toc-modified-id=\"Обработка-пропусков-3.1\">Обработка пропусков</a></span></li>\n",
    "                <li><span><a href=\"#Преобразование-типов-данных\" data-toc-modified-id=\"Преобразование-типов-данных-3.2\">Преобразование типов данных</a></span></li>\n",
    "                <li><span><a href=\"#Обработка-дубликатов\" data-toc-modified-id=\"Обработка-дубликатов-3.3\">Обработка дубликатов</a></span></li>\n",
    "                <li><span><a href=\"#Предобработка-пользователей\" data-toc-modified-id=\"Предобработка-пользователей-3.4\">Предобработка пользователей</a></span></li>\n",
    "                <li><span><a href=\"#Итоги-предобработки\" data-toc-modified-id=\"Итоги-предобработки-3.5\">Итоги предобработки</a></span></li>\n",
    "            </ul>\n",
    "        </li>\n",
    "        <li>\n",
    "            <span><a href=\"#Исследовательский-анализ-данных\" data-toc-modified-id=\"Исследовательский-анализ-данных-4\">Исследовательский анализ данных</a></span>\n",
    "            <ul class=\"toc-item\">\n",
    "                <li><span><a href=\"#Воронка-событий\" data-toc-modified-id=\"Воронка-событий-4.1\">Воронка событий</a></span></li>\n",
    "                <li><span><a href=\"#Количество-событий-на-одного-пользователя\" data-toc-modified-id=\"Количество-событий-на-одного-пользователя-4.2\">Количество событий на одного пользователя</a></span></li>\n",
    "                <li><span><a href=\"#Выручка-на-покупателя\" data-toc-modified-id=\"Выручка-на-покупателя-4.3\">Выручка на покупателя</a></span></li>\n",
    "                <li><span><a href=\"#Итоги-по-анализу-данных\" data-toc-modified-id=\"Итоги-по-анализу-данных-4.4\">Итоги по анализу данных</a></span></li>\n",
    "            </ul>\n",
    "        </li>\n",
    "        <li>\n",
    "            <span><a href=\"#Проверка-гипотез\" data-toc-modified-id=\"Проверка-гипотез-5\">Проверка гипотез</a></span>\n",
    "            <ul class=\"toc-item\">\n",
    "                <li><span><a href=\"#Конверсия-пользователей-в-покупатели\" data-toc-modified-id=\"Конверсия-пользователей-в-покупатели-5.1\">Конверсия пользователей в покупатели</a></span></li>\n",
    "                <li><span><a href=\"#Выручка-на-пользователя\" data-toc-modified-id=\"Выручка-на-пользователя-5.2\">Выручка на пользователя</a></span></li>\n",
    "            </ul>\n",
    "        </li>\n",
    "        <li><span><a href=\"#Итог\" data-toc-modified-id=\"Итог-6\">Итог</a></span></li>\n",
    "    </ul>\n",
    "</div>"
   ]
  },
  {
   "cell_type": "markdown",
   "id": "0ee0a72b",
   "metadata": {
    "ExecuteTime": {
     "end_time": "2022-10-08T23:30:28.912582Z",
     "start_time": "2022-10-08T23:30:28.910009Z"
    }
   },
   "source": [
    "# Setup"
   ]
  },
  {
   "cell_type": "code",
   "execution_count": null,
   "id": "99a5f168",
   "metadata": {
    "ExecuteTime": {
     "end_time": "2022-10-18T09:02:44.701872Z",
     "start_time": "2022-10-18T09:02:44.677932Z"
    }
   },
   "outputs": [],
   "source": [
    "%%bash\n",
    "if ! test -f \"custom_plotly_templates.py\"; then\n",
    "    wget https://gist.githubusercontent.com/rusmux/a74e5060a470f45e0f2d52b2484a1ecf/raw/8e1b62dacd5aadcd41cca9658c5a7716d4bdc0d5/custom_plotly_templates.py &> /dev/null\n",
    "    echo \"Successfully downloaded custom plotly templates.\"\n",
    "fi"
   ]
  },
  {
   "cell_type": "code",
   "execution_count": null,
   "id": "7bd8ebb2",
   "metadata": {
    "ExecuteTime": {
     "end_time": "2022-10-18T09:02:45.265323Z",
     "start_time": "2022-10-18T09:02:44.704056Z"
    }
   },
   "outputs": [],
   "source": [
    "import custom_plotly_templates\n",
    "import ipywidgets as widgets\n",
    "import pandas as pd\n",
    "import plotly.express as px\n",
    "import plotly.graph_objects as go\n",
    "import plotly.io as pio\n",
    "from custom_plotly_templates import custom_show_config\n",
    "from ipywidgets import fixed, interact\n",
    "from plotly.subplots import make_subplots\n",
    "from scipy import stats"
   ]
  },
  {
   "cell_type": "code",
   "execution_count": null,
   "id": "ff0c579c",
   "metadata": {
    "ExecuteTime": {
     "end_time": "2022-10-18T09:02:45.646859Z",
     "start_time": "2022-10-18T09:02:45.266486Z"
    }
   },
   "outputs": [],
   "source": [
    "pd.set_option(\"display.float_format\", \"{:.2f}\".format)\n",
    "pio.templates.default = \"plotly_white+custom_white\"\n",
    "pio.renderers[\"notebook\"].config.update(custom_show_config)"
   ]
  },
  {
   "cell_type": "markdown",
   "id": "695bdab9",
   "metadata": {},
   "source": [
    "# Предобработка данных"
   ]
  },
  {
   "cell_type": "code",
   "execution_count": null,
   "id": "17d1a536",
   "metadata": {
    "ExecuteTime": {
     "end_time": "2022-10-18T09:02:48.887280Z",
     "start_time": "2022-10-18T09:02:45.649181Z"
    }
   },
   "outputs": [],
   "source": [
    "marketing_events = pd.read_csv(\n",
    "    \"https://code.s3.yandex.net/datasets/ab_project_marketing_events.csv\", parse_dates=[\"start_dt\", \"finish_dt\"]\n",
    ")\n",
    "new_users = pd.read_csv(\"https://code.s3.yandex.net/datasets/final_ab_new_users.csv\", parse_dates=[\"first_date\"])\n",
    "events = pd.read_csv(\n",
    "    \"https://code.s3.yandex.net/datasets/final_ab_events.csv\", parse_dates=[\"event_dt\"], infer_datetime_format=True\n",
    ")\n",
    "participants = pd.read_csv(\"https://code.s3.yandex.net/datasets/final_ab_participants.csv\")\n",
    "\n",
    "df_names = [\"marketing_events\", \"new_users\", \"events\", \"participants\"]"
   ]
  },
  {
   "cell_type": "code",
   "execution_count": null,
   "id": "adbf1938",
   "metadata": {
    "ExecuteTime": {
     "end_time": "2022-10-18T09:02:48.980340Z",
     "start_time": "2022-10-18T09:02:48.890010Z"
    }
   },
   "outputs": [],
   "source": [
    "interact(lambda df: globals()[df], df=df_names);"
   ]
  },
  {
   "cell_type": "markdown",
   "id": "5fcb003b",
   "metadata": {},
   "source": [
    "Среди маркетинговых событий на наше тестирование потенциально мог повлиять Новый год."
   ]
  },
  {
   "cell_type": "code",
   "execution_count": null,
   "id": "b6ff9e8f",
   "metadata": {
    "ExecuteTime": {
     "end_time": "2022-10-18T09:02:48.999004Z",
     "start_time": "2022-10-18T09:02:48.981771Z"
    }
   },
   "outputs": [],
   "source": [
    "interact(lambda df: globals()[df].info(memory_usage=\"deep\"), df=df_names);"
   ]
  },
  {
   "cell_type": "markdown",
   "id": "568cc2d0",
   "metadata": {},
   "source": [
    "В таблице `events` в столбце `details` отсутствует больше 85% значений. Во всех остальных таблицах явных пропусков нет."
   ]
  },
  {
   "cell_type": "code",
   "execution_count": null,
   "id": "42c75ad0",
   "metadata": {
    "ExecuteTime": {
     "end_time": "2022-10-18T09:02:49.019689Z",
     "start_time": "2022-10-18T09:02:49.000687Z"
    }
   },
   "outputs": [],
   "source": [
    "interact(lambda df: globals()[df].describe(datetime_is_numeric=True), df=df_names);"
   ]
  },
  {
   "cell_type": "markdown",
   "id": "aad08891",
   "metadata": {
    "ExecuteTime": {
     "end_time": "2022-10-10T16:24:16.310179Z",
     "start_time": "2022-10-10T16:24:16.302403Z"
    }
   },
   "source": [
    "Новые пользователи приходили с 7 по 23 декабря, а вот участников набирали действительно только по 21 декабря. Странно, что последний пользователь пришел к нам только 23 декабря. Можно предположить, что наш сайт не очень популярен, но за 16 дней у нас зарегистрировалось почти 62 тысячи новых пользователей по всему миру – больше, чем 3,5 тысячи новых пользователей в день. Больше похоже на то, что это либо ошибка в сборе данных, либо у нас неполные данные.\n",
    "\n",
    "Последнее событие датируется 30 декабря 2020 года, что тоже весьма странно, так как тест завершился только 4 января 2021 года. Возможно, после Нового года, в первых числах января, людям было не до этого, но это тоже подозрительно – за 16 дней у нас ~440 тысяч событий, то есть по ~27 тысяч событий в день. В любом случае с момента регистрации последнего пользователя прошло меньше 14 дней.\n",
    "\n",
    "Неполные данные могут поставить под сомнения корректность теста, так как с полными данными статистическая значимость теста может поменяться.\n",
    "\n",
    "В таблице с участниками `participants` видно, что у нас участники с двух тестов."
   ]
  },
  {
   "cell_type": "markdown",
   "id": "444e1b5c",
   "metadata": {},
   "source": [
    "## Обработка пропусков"
   ]
  },
  {
   "cell_type": "markdown",
   "id": "4ff90e11",
   "metadata": {},
   "source": [
    "Снова посмотрим на явные пропущенные значения."
   ]
  },
  {
   "cell_type": "code",
   "execution_count": null,
   "id": "60cd8ffb",
   "metadata": {
    "ExecuteTime": {
     "end_time": "2022-10-18T09:02:49.037952Z",
     "start_time": "2022-10-18T09:02:49.020891Z"
    }
   },
   "outputs": [],
   "source": [
    "interact(lambda df: globals()[df].isna().mean(), df=df_names);"
   ]
  },
  {
   "cell_type": "markdown",
   "id": "cf5767ca",
   "metadata": {},
   "source": [
    "Только в таблице `events` в столбце `details` есть пропущенные значения. Они означают, что дополнительной информации о событии нет, так что отбрасывать или заполнять их не будем. Посмотрим, для каких событий указан параметр `details`."
   ]
  },
  {
   "cell_type": "code",
   "execution_count": null,
   "id": "a04d6ac5",
   "metadata": {
    "ExecuteTime": {
     "end_time": "2022-10-18T09:02:49.091344Z",
     "start_time": "2022-10-18T09:02:49.039170Z"
    }
   },
   "outputs": [],
   "source": [
    "events.groupby(\"event_name\")[\"details\"].apply(lambda group: group.isna().mean())"
   ]
  },
  {
   "cell_type": "markdown",
   "id": "41c3f373",
   "metadata": {
    "ExecuteTime": {
     "end_time": "2022-10-12T16:47:55.846048Z",
     "start_time": "2022-10-12T16:47:55.837405Z"
    }
   },
   "source": [
    "Поле `details` отсутствует для всех событий, кроме покупок, значит, в столбце `details` указана только стоимость покупок."
   ]
  },
  {
   "cell_type": "markdown",
   "id": "b689efe5",
   "metadata": {},
   "source": [
    "Посмотрим на неявные пропуски."
   ]
  },
  {
   "cell_type": "code",
   "execution_count": null,
   "id": "9b481704",
   "metadata": {
    "ExecuteTime": {
     "end_time": "2022-10-18T09:02:49.099803Z",
     "start_time": "2022-10-18T09:02:49.094715Z"
    }
   },
   "outputs": [],
   "source": [
    "new_users[\"region\"].unique()"
   ]
  },
  {
   "cell_type": "markdown",
   "id": "289b534c",
   "metadata": {
    "ExecuteTime": {
     "end_time": "2022-10-10T21:21:49.099566Z",
     "start_time": "2022-10-10T21:21:49.090881Z"
    }
   },
   "source": [
    "Всего 4 региона – Евросоюз, Северная Америка, Азиатско-Тихоокеанский регион и СНГ. Неявных пропусков нет."
   ]
  },
  {
   "cell_type": "code",
   "execution_count": null,
   "id": "cfc9ff83",
   "metadata": {
    "ExecuteTime": {
     "end_time": "2022-10-18T09:02:49.106476Z",
     "start_time": "2022-10-18T09:02:49.100889Z"
    }
   },
   "outputs": [],
   "source": [
    "new_users[\"device\"].unique()"
   ]
  },
  {
   "cell_type": "markdown",
   "id": "6f2aa620",
   "metadata": {},
   "source": [
    "Устройств тоже 4 и неявных пропусков нет."
   ]
  },
  {
   "cell_type": "code",
   "execution_count": null,
   "id": "78d04002",
   "metadata": {
    "ExecuteTime": {
     "end_time": "2022-10-18T09:02:49.127790Z",
     "start_time": "2022-10-18T09:02:49.107942Z"
    }
   },
   "outputs": [],
   "source": [
    "events[\"event_name\"].unique()"
   ]
  },
  {
   "cell_type": "markdown",
   "id": "41c5b4ea",
   "metadata": {
    "ExecuteTime": {
     "end_time": "2022-10-10T21:22:35.884053Z",
     "start_time": "2022-10-10T21:22:35.876923Z"
    }
   },
   "source": [
    "Событий тоже 4, неявных пропусков нет."
   ]
  },
  {
   "cell_type": "code",
   "execution_count": null,
   "id": "c6442857",
   "metadata": {
    "ExecuteTime": {
     "end_time": "2022-10-18T09:02:49.134228Z",
     "start_time": "2022-10-18T09:02:49.129708Z"
    }
   },
   "outputs": [],
   "source": [
    "participants[\"group\"].unique()"
   ]
  },
  {
   "cell_type": "markdown",
   "id": "7bfabae7",
   "metadata": {},
   "source": [
    "Тестовых групп 2."
   ]
  },
  {
   "cell_type": "code",
   "execution_count": null,
   "id": "aca0bf02",
   "metadata": {
    "ExecuteTime": {
     "end_time": "2022-10-18T09:02:49.139558Z",
     "start_time": "2022-10-18T09:02:49.135548Z"
    }
   },
   "outputs": [],
   "source": [
    "participants[\"ab_test\"].unique()"
   ]
  },
  {
   "cell_type": "markdown",
   "id": "c8f25855",
   "metadata": {
    "ExecuteTime": {
     "end_time": "2022-10-09T10:03:32.244017Z",
     "start_time": "2022-10-09T10:03:32.237808Z"
    }
   },
   "source": [
    "В строковых столбцах нет неявных пропусков. Посмотрим, есть ли неявные пропуски в идентификаторе пользователей."
   ]
  },
  {
   "cell_type": "code",
   "execution_count": null,
   "id": "c5527b23",
   "metadata": {
    "ExecuteTime": {
     "end_time": "2022-10-18T09:02:49.637187Z",
     "start_time": "2022-10-18T09:02:49.140883Z"
    }
   },
   "outputs": [],
   "source": [
    "for df in [new_users, events, participants]:\n",
    "    print(df[\"user_id\"].str.contains(\"^[^[1-9]]*$\").sum() + df[\"user_id\"].str.contains(\"^[^[A-z]]*$\").sum())"
   ]
  },
  {
   "cell_type": "markdown",
   "id": "9a5c5af6",
   "metadata": {},
   "source": [
    "Во всех 3 таблицах нет идентификаторов, в которых только цифры или только буквы, значит, неявных пропусков нет."
   ]
  },
  {
   "cell_type": "markdown",
   "id": "dc07f3a9",
   "metadata": {},
   "source": [
    "## Преобразование типов данных"
   ]
  },
  {
   "cell_type": "markdown",
   "id": "994d873a",
   "metadata": {},
   "source": [
    "В столбцах с регионом и устройством пользователя всего по 4 различных значения. Имеет смысл преобразовать столбцы с малым количеством уникальных значений к категориальному типу данных."
   ]
  },
  {
   "cell_type": "code",
   "execution_count": null,
   "id": "5e694941",
   "metadata": {
    "ExecuteTime": {
     "end_time": "2022-10-18T09:02:49.691622Z",
     "start_time": "2022-10-18T09:02:49.638515Z"
    }
   },
   "outputs": [],
   "source": [
    "new_users[\"region\"] = new_users[\"region\"].astype(\"category\")\n",
    "new_users[\"device\"] = new_users[\"device\"].astype(\"category\")\n",
    "events[\"event_name\"] = events[\"event_name\"].astype(\"category\")\n",
    "participants[\"group\"] = participants[\"group\"].astype(\"category\")\n",
    "participants[\"ab_test\"] = participants[\"ab_test\"].astype(\"category\")"
   ]
  },
  {
   "cell_type": "markdown",
   "id": "e2e11d0e",
   "metadata": {
    "ExecuteTime": {
     "end_time": "2022-10-09T10:15:44.738413Z",
     "start_time": "2022-10-09T10:15:44.730652Z"
    }
   },
   "source": [
    "Посмотрим, сколько уникальных пользователей в таблице `events`."
   ]
  },
  {
   "cell_type": "code",
   "execution_count": null,
   "id": "293c5a9b",
   "metadata": {
    "ExecuteTime": {
     "end_time": "2022-10-18T09:02:49.725873Z",
     "start_time": "2022-10-18T09:02:49.692870Z"
    }
   },
   "outputs": [],
   "source": [
    "events[\"user_id\"].nunique() / len(events)"
   ]
  },
  {
   "cell_type": "markdown",
   "id": "0aec8e77",
   "metadata": {
    "ExecuteTime": {
     "end_time": "2022-10-09T10:16:42.038432Z",
     "start_time": "2022-10-09T10:16:42.033560Z"
    }
   },
   "source": [
    "Уникальных пользователей всего 13% от общего количества записей, так что приведем идентификатор к категориальному типу."
   ]
  },
  {
   "cell_type": "code",
   "execution_count": null,
   "id": "7197db37",
   "metadata": {
    "ExecuteTime": {
     "end_time": "2022-10-18T09:02:49.836242Z",
     "start_time": "2022-10-18T09:02:49.727127Z"
    }
   },
   "outputs": [],
   "source": [
    "events[\"user_id\"] = events[\"user_id\"].astype(\"category\")"
   ]
  },
  {
   "cell_type": "markdown",
   "id": "8177a7f2",
   "metadata": {
    "ExecuteTime": {
     "end_time": "2022-10-09T10:19:42.899820Z",
     "start_time": "2022-10-09T10:19:42.894484Z"
    }
   },
   "source": [
    "Посмотрим, сколько уникальных пользователей в таблице `participants`, так как один пользователь может присутствовать в нескольких тестах."
   ]
  },
  {
   "cell_type": "code",
   "execution_count": null,
   "id": "e564da24",
   "metadata": {
    "ExecuteTime": {
     "end_time": "2022-10-18T09:02:49.843186Z",
     "start_time": "2022-10-18T09:02:49.837495Z"
    }
   },
   "outputs": [],
   "source": [
    "participants[\"user_id\"].nunique() / len(participants)"
   ]
  },
  {
   "cell_type": "markdown",
   "id": "b32d99a0",
   "metadata": {
    "ExecuteTime": {
     "end_time": "2022-10-09T10:21:47.285241Z",
     "start_time": "2022-10-09T10:21:47.278724Z"
    }
   },
   "source": [
    "Уникальных пользователей больше 90% от общего числа записей, так что приводить к категориальному типу не имеет смысла."
   ]
  },
  {
   "cell_type": "markdown",
   "id": "94cb1b85",
   "metadata": {},
   "source": [
    "## Обработка дубликатов"
   ]
  },
  {
   "cell_type": "code",
   "execution_count": null,
   "id": "2ecd2ea4",
   "metadata": {
    "ExecuteTime": {
     "end_time": "2022-10-18T09:02:49.857236Z",
     "start_time": "2022-10-18T09:02:49.844418Z"
    }
   },
   "outputs": [],
   "source": [
    "new_users.duplicated([\"user_id\"]).sum()"
   ]
  },
  {
   "cell_type": "code",
   "execution_count": null,
   "id": "95e0cce6",
   "metadata": {
    "ExecuteTime": {
     "end_time": "2022-10-18T09:02:49.865957Z",
     "start_time": "2022-10-18T09:02:49.858406Z"
    }
   },
   "outputs": [],
   "source": [
    "participants.duplicated([\"user_id\", \"ab_test\"]).sum()"
   ]
  },
  {
   "cell_type": "markdown",
   "id": "a528672a",
   "metadata": {
    "ExecuteTime": {
     "end_time": "2022-10-09T11:25:52.557957Z",
     "start_time": "2022-10-09T11:25:52.547642Z"
    }
   },
   "source": [
    "Среди новых пользователей дубликатов нет. В каждом A/B-тесте все пользователи уникальны. Посмотрим на события."
   ]
  },
  {
   "cell_type": "code",
   "execution_count": null,
   "id": "0dd05c8f",
   "metadata": {
    "ExecuteTime": {
     "end_time": "2022-10-18T09:02:49.900842Z",
     "start_time": "2022-10-18T09:02:49.867345Z"
    }
   },
   "outputs": [],
   "source": [
    "events.duplicated([\"user_id\", \"event_dt\", \"event_name\"]).sum()"
   ]
  },
  {
   "cell_type": "markdown",
   "id": "adf738e4",
   "metadata": {
    "ExecuteTime": {
     "end_time": "2022-10-09T11:42:59.952277Z",
     "start_time": "2022-10-09T11:42:59.947640Z"
    }
   },
   "source": [
    "Одинаковых событий в одно и то же время у пользователей нет. Посмотрим, есть ли вообще события, происходящие в одно время."
   ]
  },
  {
   "cell_type": "code",
   "execution_count": null,
   "id": "29c126b4",
   "metadata": {
    "ExecuteTime": {
     "end_time": "2022-10-18T09:02:49.935052Z",
     "start_time": "2022-10-18T09:02:49.902146Z"
    }
   },
   "outputs": [],
   "source": [
    "events.duplicated([\"user_id\", \"event_dt\"]).sum() / len(events)"
   ]
  },
  {
   "cell_type": "markdown",
   "id": "217f0f74",
   "metadata": {
    "ExecuteTime": {
     "end_time": "2022-10-09T11:27:16.236626Z",
     "start_time": "2022-10-09T11:27:16.231413Z"
    }
   },
   "source": [
    "Почему-то 34% событий произошли в одно время. Посмотрим на них поближе."
   ]
  },
  {
   "cell_type": "code",
   "execution_count": null,
   "id": "365a03f3",
   "metadata": {
    "ExecuteTime": {
     "end_time": "2022-10-18T09:02:50.056359Z",
     "start_time": "2022-10-18T09:02:49.936447Z"
    }
   },
   "outputs": [],
   "source": [
    "events[events.duplicated([\"user_id\", \"event_dt\"], keep=False)].sort_values(\n",
    "    by=[\"user_id\", \"event_dt\", \"event_name\"]\n",
    ").head(3)"
   ]
  },
  {
   "cell_type": "markdown",
   "id": "44783ecd",
   "metadata": {},
   "source": [
    "Пользователь за одну секунду зашел в свой аккаунт, перешел на страницу продукта, а потом купил. И все это за одну секунду. Весьма странно. Вероятно, это ошибка в сборе данных, и всем события одной сессии присваивается время последнего действия. Это не очень хорошо, потому что нельзя установить точную последовательность действий пользователя."
   ]
  },
  {
   "cell_type": "markdown",
   "id": "c5a0ee83",
   "metadata": {},
   "source": [
    "Неявных дубликатов нет, как было видно выше в разделе [обработки пропусков](#Обработка-пропусков)."
   ]
  },
  {
   "cell_type": "markdown",
   "id": "35007ed3",
   "metadata": {
    "ExecuteTime": {
     "end_time": "2022-10-09T12:26:50.694588Z",
     "start_time": "2022-10-09T12:26:50.691968Z"
    }
   },
   "source": [
    "## Предобработка пользователей"
   ]
  },
  {
   "cell_type": "markdown",
   "id": "b999e944",
   "metadata": {
    "ExecuteTime": {
     "end_time": "2022-10-09T12:23:03.556279Z",
     "start_time": "2022-10-09T12:23:03.547196Z"
    }
   },
   "source": [
    "Посмотрим, сколько уникальных участников тестов, и сколько новых пользователей вообще."
   ]
  },
  {
   "cell_type": "code",
   "execution_count": null,
   "id": "0e38692f",
   "metadata": {
    "ExecuteTime": {
     "end_time": "2022-10-18T09:02:50.070717Z",
     "start_time": "2022-10-18T09:02:50.057693Z"
    }
   },
   "outputs": [],
   "source": [
    "print(\"Уникальных участников тестов:\", participants[\"user_id\"].nunique())\n",
    "print(\"Уникальных пользователей:\", new_users[\"user_id\"].nunique())"
   ]
  },
  {
   "cell_type": "markdown",
   "id": "0dbada26",
   "metadata": {
    "ExecuteTime": {
     "end_time": "2022-10-09T12:24:14.366296Z",
     "start_time": "2022-10-09T12:24:14.361744Z"
    }
   },
   "source": [
    "Примерно каждый 4 стал участником какого-либо теста. Проверим, есть ли пользователи, которые присутствуют в обоих тестах."
   ]
  },
  {
   "cell_type": "code",
   "execution_count": null,
   "id": "a2d8b74e",
   "metadata": {
    "ExecuteTime": {
     "end_time": "2022-10-18T09:02:50.076760Z",
     "start_time": "2022-10-18T09:02:50.071987Z"
    }
   },
   "outputs": [],
   "source": [
    "users_duplicated = participants[participants.duplicated([\"user_id\"])][\"user_id\"]\n",
    "len(users_duplicated)"
   ]
  },
  {
   "cell_type": "markdown",
   "id": "94d2458d",
   "metadata": {},
   "source": [
    "Такие пользователи есть. Их надо исключить из анализа, так как нельзя сказать, какое именно изменение повлияло на их поведение. Но исключать можно не всех пользователей, а лишь тех, кто попал в тестовую группу другого эксперимента, потому что участники контрольной группы не подвергались никаким изменениям. "
   ]
  },
  {
   "cell_type": "code",
   "execution_count": null,
   "id": "c8093cb4",
   "metadata": {
    "ExecuteTime": {
     "end_time": "2022-10-18T09:02:50.085146Z",
     "start_time": "2022-10-18T09:02:50.077985Z"
    }
   },
   "outputs": [],
   "source": [
    "participants.query(\"ab_test == 'interface_eu_test' and user_id in @users_duplicated\")[\"group\"].value_counts()"
   ]
  },
  {
   "cell_type": "markdown",
   "id": "4f7984b2",
   "metadata": {},
   "source": [
    "Больше половины продублированных пользователей попали в контрольную группу, и их можно не удалять."
   ]
  },
  {
   "cell_type": "code",
   "execution_count": null,
   "id": "00397bd2",
   "metadata": {
    "ExecuteTime": {
     "end_time": "2022-10-18T09:02:50.098046Z",
     "start_time": "2022-10-18T09:02:50.091441Z"
    }
   },
   "outputs": [],
   "source": [
    "users_duplicated = participants.query(\n",
    "    \"user_id in @users_duplicated and ab_test == 'interface_eu_test' and group == 'B'\"\n",
    ")[\"user_id\"]"
   ]
  },
  {
   "cell_type": "code",
   "execution_count": null,
   "id": "4f46d58b",
   "metadata": {
    "ExecuteTime": {
     "end_time": "2022-10-18T09:02:50.106028Z",
     "start_time": "2022-10-18T09:02:50.099261Z"
    }
   },
   "outputs": [],
   "source": [
    "participants = participants.query(\"ab_test == 'recommender_system_test'\")\n",
    "total_participants = len(participants)\n",
    "participants = participants[~participants[\"user_id\"].isin(users_duplicated)].drop(\"ab_test\", axis=1)\n",
    "\n",
    "print(f\"Относительная потеря пользователей: {len(users_duplicated) / total_participants:2.2%}\")"
   ]
  },
  {
   "cell_type": "markdown",
   "id": "f3f5cc81",
   "metadata": {
    "ExecuteTime": {
     "end_time": "2022-10-10T10:58:14.699390Z",
     "start_time": "2022-10-10T10:58:14.691853Z"
    }
   },
   "source": [
    "Добавим в таблицу с участниками теста данные о пользователях."
   ]
  },
  {
   "cell_type": "code",
   "execution_count": null,
   "id": "242013c3",
   "metadata": {
    "ExecuteTime": {
     "end_time": "2022-10-18T09:02:50.119710Z",
     "start_time": "2022-10-18T09:02:50.107226Z"
    }
   },
   "outputs": [],
   "source": [
    "participants = participants.merge(new_users, on=\"user_id\")"
   ]
  },
  {
   "cell_type": "markdown",
   "id": "98a38324",
   "metadata": {},
   "source": [
    "В [проверке на дубликаты](#Обработка-дубликатов) мы выяснили, что в каждом тесте каждый пользователь уникален, так что каждому пользователю присвоена только одна группа теста. Проверим регион участников тестирования – они должны составлять 15% новых пользователей с региона EU."
   ]
  },
  {
   "cell_type": "code",
   "execution_count": null,
   "id": "f33474a5",
   "metadata": {
    "ExecuteTime": {
     "end_time": "2022-10-18T09:02:50.124745Z",
     "start_time": "2022-10-18T09:02:50.120795Z"
    }
   },
   "outputs": [],
   "source": [
    "participants[\"region\"].value_counts(normalize=True)"
   ]
  },
  {
   "cell_type": "markdown",
   "id": "1202a613",
   "metadata": {
    "ExecuteTime": {
     "end_time": "2022-10-10T17:11:09.802159Z",
     "start_time": "2022-10-10T17:11:09.792730Z"
    }
   },
   "source": [
    "Среди участников присутствуют пользователи и с других регинов. Нам нужны только пользователи из стран Евросоюза, так что отбросим других пользователей."
   ]
  },
  {
   "cell_type": "code",
   "execution_count": null,
   "id": "ccfead32",
   "metadata": {
    "ExecuteTime": {
     "end_time": "2022-10-18T09:02:50.132045Z",
     "start_time": "2022-10-18T09:02:50.125901Z"
    }
   },
   "outputs": [],
   "source": [
    "users_other_regions = participants.query(\"region != 'EU'\")[\"user_id\"]\n",
    "participants = participants[~participants[\"user_id\"].isin(users_other_regions)].drop(\"region\", axis=1)\n",
    "\n",
    "print(f\"Относительная потеря пользователей: {len(users_other_regions) / total_participants:2.2%}\")"
   ]
  },
  {
   "cell_type": "markdown",
   "id": "80932699",
   "metadata": {
    "ExecuteTime": {
     "end_time": "2022-10-10T22:38:31.259007Z",
     "start_time": "2022-10-10T22:38:31.251081Z"
    }
   },
   "source": [
    "Посмотрим на количество участников теста после предобработки данных."
   ]
  },
  {
   "cell_type": "code",
   "execution_count": null,
   "id": "57748297",
   "metadata": {
    "ExecuteTime": {
     "end_time": "2022-10-18T09:02:50.140778Z",
     "start_time": "2022-10-18T09:02:50.133261Z"
    }
   },
   "outputs": [],
   "source": [
    "eu_users_fraction = len(participants) / len(new_users.query(\"first_date <= '2020-12-21' and region == 'EU'\"))\n",
    "print(\"Абсолютное количество участников теста:\", len(participants))\n",
    "print(f\"Доля от новых пользователей стран Евросоюза: {eu_users_fraction:.2%}\")"
   ]
  },
  {
   "cell_type": "markdown",
   "id": "bcb920e8",
   "metadata": {},
   "source": [
    "Количество участников на ~400 меньше предполагаемых 6 тысяч, и они составляют 13% новых пользователей стран Евросоюза. Это немного меньше, чем предполагаемые 15%, но все же может негативно повлиять на статистическую значимость результатов теста."
   ]
  },
  {
   "cell_type": "markdown",
   "id": "57557dc2",
   "metadata": {},
   "source": [
    "Посмотрим на распределение пользователей по группам теста после предобработки."
   ]
  },
  {
   "cell_type": "code",
   "execution_count": null,
   "id": "f1a0e576",
   "metadata": {
    "ExecuteTime": {
     "end_time": "2022-10-18T09:02:50.146369Z",
     "start_time": "2022-10-18T09:02:50.142220Z"
    }
   },
   "outputs": [],
   "source": [
    "participants[\"group\"].value_counts()"
   ]
  },
  {
   "cell_type": "markdown",
   "id": "20affa67",
   "metadata": {},
   "source": [
    "В контрольной группе на 34% больше участников, чем в тестовой. Тоже может негативно сказаться на статистической значимости результатов теста."
   ]
  },
  {
   "cell_type": "markdown",
   "id": "05d3a9d5",
   "metadata": {},
   "source": [
    "Для удобства объединим данные о пользователях и событиях в одну таблицу."
   ]
  },
  {
   "cell_type": "code",
   "execution_count": null,
   "id": "66d71764",
   "metadata": {
    "ExecuteTime": {
     "end_time": "2022-10-18T09:02:50.220555Z",
     "start_time": "2022-10-18T09:02:50.147486Z"
    }
   },
   "outputs": [],
   "source": [
    "events = events.merge(participants, on=\"user_id\")\n",
    "events.head()"
   ]
  },
  {
   "cell_type": "markdown",
   "id": "7390f589",
   "metadata": {
    "ExecuteTime": {
     "end_time": "2022-10-10T23:36:10.126080Z",
     "start_time": "2022-10-10T23:36:10.115270Z"
    }
   },
   "source": [
    "Посмотрим, все ли пользователи совершали события."
   ]
  },
  {
   "cell_type": "code",
   "execution_count": null,
   "id": "951e1fe0",
   "metadata": {
    "ExecuteTime": {
     "end_time": "2022-10-18T09:02:50.226625Z",
     "start_time": "2022-10-18T09:02:50.221875Z"
    }
   },
   "outputs": [],
   "source": [
    "events[\"user_id\"].nunique()"
   ]
  },
  {
   "cell_type": "markdown",
   "id": "344a80c7",
   "metadata": {
    "ExecuteTime": {
     "end_time": "2022-10-10T23:38:00.574754Z",
     "start_time": "2022-10-10T23:38:00.570660Z"
    }
   },
   "source": [
    "Количество участников теста, которые совершали события, почти в 2 раза меньше, чем общее число участников. Посмотрим на распределение участников по группам среди пользователей, которые совершали события."
   ]
  },
  {
   "cell_type": "code",
   "execution_count": null,
   "id": "60d1f62f",
   "metadata": {
    "ExecuteTime": {
     "end_time": "2022-10-18T09:02:50.236696Z",
     "start_time": "2022-10-18T09:02:50.227737Z"
    }
   },
   "outputs": [],
   "source": [
    "events[[\"user_id\", \"group\"]].drop_duplicates()[\"group\"].value_counts()"
   ]
  },
  {
   "cell_type": "markdown",
   "id": "198cc9b0",
   "metadata": {},
   "source": [
    "А вот здесь уже очень большая разница в количестве пользователей – в 3 раза. Причем в группах разное соотношение между общим количеством пользователей и тех, кто совершал действия."
   ]
  },
  {
   "cell_type": "code",
   "execution_count": null,
   "id": "1347d369",
   "metadata": {
    "ExecuteTime": {
     "end_time": "2022-10-18T09:02:50.247182Z",
     "start_time": "2022-10-18T09:02:50.237984Z"
    }
   },
   "outputs": [],
   "source": [
    "events[[\"user_id\", \"group\"]].drop_duplicates()[\"group\"].value_counts() / participants[\"group\"].value_counts()"
   ]
  },
  {
   "cell_type": "markdown",
   "id": "216db07b",
   "metadata": {},
   "source": [
    "Из группы A действия совершили 71% участников, а вот из группы B только 32%, что странно. Однако это вряд ли влияние новой рекомендательной системы, так как она должна влиять только на пользователей, которые совершают действия. Вполне возможно, что у нас неполные данные о действиях пользователей, либо в сборе данных есть какая-то ошибка."
   ]
  },
  {
   "cell_type": "markdown",
   "id": "5c282f6c",
   "metadata": {},
   "source": [
    "Так как мы ожидаем изменение метрик за 14 дней с момента регистрации, то отбросим все события после 14 дней с момента регистрации пользователя. Но надо учитывать, что для пользователей, которые пришли после 16 декабря 14 дней еще не прошло, и они могут понижать настоящую конверсию. Посмотрим, сколько таких пользователей."
   ]
  },
  {
   "cell_type": "code",
   "execution_count": null,
   "id": "3456e954",
   "metadata": {
    "ExecuteTime": {
     "end_time": "2022-10-18T09:02:50.257586Z",
     "start_time": "2022-10-18T09:02:50.248388Z"
    }
   },
   "outputs": [],
   "source": [
    "events.query(\"first_date > '2020-12-16'\")[[\"user_id\", \"group\"]].drop_duplicates().groupby(\"group\").count()"
   ]
  },
  {
   "cell_type": "markdown",
   "id": "5b3b686a",
   "metadata": {},
   "source": [
    "Больше 30% пользователей группы B и больше 50% группы А зарегистрировались после 16 декабря 2020 года. Если их отбросить, то от предполагаемых 6000 участников останется ~1700, то есть меньше 30%. Тогда, даже если между группами есть статистически значимая разница, статистический тест этого не покажет. Если их оставить, то рассматривать промежуток в 14 дней будет некорректно – конверсии могут не соответствовать реальным.\n",
    "\n",
    "Оптимальным решением будет посмотреть, за какой промежуток времени в среднем пользователи конвертируются в покупателей. Если этот период меньше, чем 9 дней, тогда можно уменьшить рассматриваемый промежуток времени с 14 до 9 дней."
   ]
  },
  {
   "cell_type": "markdown",
   "id": "a61b8e0c",
   "metadata": {},
   "source": [
    "## Итоги предобработки"
   ]
  },
  {
   "cell_type": "markdown",
   "id": "8d7810c5",
   "metadata": {},
   "source": [
    "Последний зарегистрированный пользователь был 23 декабря, а последнее событие 30 декабря 2020 года, при том что в среднем в день регистрируется 3.5 тысячи новых пользователей и совершается 27 тысяч событий. Это может говорить о том, что данные неполные.\n",
    "\n",
    "Неполные данные могут поставить под сомнения корректность теста, так как с полными данными статистическая значимость теста может поменяться.\n",
    "\n",
    "Пропуски есть только в таблице `events` в столбце `details`, но они обозначают, что дополнительной информации о событии нет, так что они оставлены без изменений. \n",
    "\n",
    "Дубликатов в данных нет, однако 34% событий произошли одновременно – вероятно, ошибка в логировании.\n",
    "\n",
    "Столбцы с группой, устройством и регионом пользователя были приведены к категориальному типу данных, что уменьшило потребление памяти.\n",
    "\n",
    "Было отброшено 12% участников, так как они одновременно присутствовали в другом тесте. Еще 5% участников были не из стран Евросоюза. Среди оставшихся участников только половина совершала действия, причем 75% из них - пользователи группы А. Таким образом между группами присутствует большой дисбаланс в количестве участников, совершавших действия.\n",
    "\n",
    "Кроме того, больше 30% пользователей группы B и больше 50% группы А зарегистрировались после 16 декабря 2020 года, и с момента их регистрации прошло меньше 14 дней. Если их отбросить, то от предполагаемых 6000 участников останется ~1700, то есть меньше 30%. Тогда, даже если между группами есть статистически значимая разница, статистический тест этого не покажет. Если их оставить, то рассматривать промежуток в 14 дней будет некорректно – конверсии могут не соответствовать реальным.\n",
    "\n",
    "Оптимальным решением будет посмотреть, за какой промежуток времени в среднем пользователи конвертируются в покупателей. Если этот период меньше, чем 9 дней, тогда можно уменьшить рассматриваемый промежуток времени с 14 до 9 дней."
   ]
  },
  {
   "cell_type": "markdown",
   "id": "a8ee3ea6",
   "metadata": {},
   "source": [
    "# Исследовательский анализ данных"
   ]
  },
  {
   "cell_type": "code",
   "execution_count": null,
   "id": "7664b531",
   "metadata": {
    "ExecuteTime": {
     "end_time": "2022-10-18T09:02:50.262603Z",
     "start_time": "2022-10-18T09:02:50.258900Z"
    }
   },
   "outputs": [],
   "source": [
    "def get_date_distribution(data, date_column, color_column, title, show_marginal=False):\n",
    "    fig = px.histogram(\n",
    "        data,\n",
    "        x=date_column,\n",
    "        color=color_column,\n",
    "        histnorm=\"probability\",\n",
    "        barmode=\"overlay\",\n",
    "        marginal=\"box\" if show_marginal else None,\n",
    "    )\n",
    "\n",
    "    fig.update_layout(\n",
    "        title=title,\n",
    "        xaxis_title=None,\n",
    "        yaxis_title=None,\n",
    "        xaxis_tickformat=\"%b %d<br>%a\",\n",
    "        yaxis_tickformat=\"p\",\n",
    "        xaxis_showgrid=True,\n",
    "    )\n",
    "\n",
    "    legend_title = \"Устройство:\" if color_column == \"device\" else \"Группа теста:\"\n",
    "\n",
    "    fig.update_layout(\n",
    "        legend=dict(\n",
    "            title=legend_title,\n",
    "            orientation=\"h\",\n",
    "            xanchor=\"right\",\n",
    "            x=1,\n",
    "            yanchor=\"bottom\",\n",
    "            y=1,\n",
    "        )\n",
    "    )\n",
    "\n",
    "    return fig"
   ]
  },
  {
   "cell_type": "code",
   "execution_count": null,
   "id": "1ad48df0",
   "metadata": {
    "ExecuteTime": {
     "end_time": "2022-10-18T09:02:50.595063Z",
     "start_time": "2022-10-18T09:02:50.263908Z"
    }
   },
   "outputs": [],
   "source": [
    "color_column_widget = widgets.Dropdown(\n",
    "    options=[(\"Группа теста\", \"group\"), (\"Устройство\", \"device\")], description=\"Цвет\"\n",
    ")\n",
    "\n",
    "interact(\n",
    "    get_date_distribution,\n",
    "    data=fixed(participants),\n",
    "    date_column=fixed(\"first_date\"),\n",
    "    color_column=color_column_widget,\n",
    "    title=fixed(\"Распределение даты регистрации пользователей\"),\n",
    "    show_marginal=fixed(False),\n",
    ");"
   ]
  },
  {
   "cell_type": "markdown",
   "id": "f0d5bd73",
   "metadata": {
    "ExecuteTime": {
     "end_time": "2022-10-10T22:50:01.763808Z",
     "start_time": "2022-10-10T22:50:01.758066Z"
    }
   },
   "source": [
    "Регистрация имеет какую-то цикличную активность, и не зависит от устройства или группы пользователя. Больше всего пользователей регистрируется ближе к понедельнику и меньше всего в середине недели."
   ]
  },
  {
   "cell_type": "code",
   "execution_count": null,
   "id": "2593ee27",
   "metadata": {
    "ExecuteTime": {
     "end_time": "2022-10-18T09:02:50.598934Z",
     "start_time": "2022-10-18T09:02:50.596255Z"
    }
   },
   "outputs": [],
   "source": [
    "def get_device_distribution():\n",
    "    fig = px.histogram(events, y=\"device\", histnorm=\"probability\", text_auto=\".2p\")\n",
    "\n",
    "    fig.update_layout(\n",
    "        title=\"Распределение устройств пользователей\",\n",
    "        xaxis_title=None,\n",
    "        yaxis_title=None,\n",
    "        yaxis_categoryorder=\"total ascending\",\n",
    "        yaxis_linecolor=\"black\",\n",
    "        xaxis_showgrid=False,\n",
    "        xaxis_showticklabels=False,\n",
    "    )\n",
    "\n",
    "    return fig"
   ]
  },
  {
   "cell_type": "code",
   "execution_count": null,
   "id": "6cc1b7f1",
   "metadata": {
    "ExecuteTime": {
     "end_time": "2022-10-18T09:02:50.771936Z",
     "start_time": "2022-10-18T09:02:50.600044Z"
    }
   },
   "outputs": [],
   "source": [
    "get_device_distribution()"
   ]
  },
  {
   "cell_type": "markdown",
   "id": "8d0a0cfe",
   "metadata": {},
   "source": [
    "Строго говоря, параметр `device` соответствует устройству, с которого происходила регистрация пользователя. Вполне возможно, что пользователь потом все свои сессий совершал с других устройств. Но будем предполагать, что в большинстве случаев пользователь совершает действия с того же устройства, с которого проходил регистрацию.\n",
    "\n",
    "Практически половина пользователей заходят к нам с мобильных устройств Android. С компьютера заходят 25% пользователей, а с айфона 21%. С макбуков заходит меньше 10% пользователей."
   ]
  },
  {
   "cell_type": "code",
   "execution_count": null,
   "id": "ba3d3747",
   "metadata": {
    "ExecuteTime": {
     "end_time": "2022-10-18T09:02:51.477330Z",
     "start_time": "2022-10-18T09:02:50.773122Z"
    },
    "scrolled": false
   },
   "outputs": [],
   "source": [
    "interact(\n",
    "    get_date_distribution,\n",
    "    data=fixed(events),\n",
    "    date_column=fixed(\"event_dt\"),\n",
    "    color_column=color_column_widget,\n",
    "    title=fixed(\"Активность пользователей\"),\n",
    "    show_marginal=fixed(True),\n",
    ");"
   ]
  },
  {
   "cell_type": "markdown",
   "id": "d7987bdc",
   "metadata": {},
   "source": [
    "Активность пользователей тоже неравномерна и сосредоточена вокруг 14-21 декабря. Возможно, в это время люди выбирали подарки к Новому году на нашем сайте. Однако эта активность выглядит весьма странно – резкий скачок активности почти в 3 раза 14 декабря и резкое снижение после 21 декабря. Также странно выглядит резкий обрыв активности после 29 декабря. Ближе к 30 декабря активность идет на убыль – вероятно, люди готовятся к Новому году.\n",
    "\n",
    "Между устройствами сильной разницы нет, а вот распределение группы B отличается от распределения группы А. Пользователи группы B были активны и до 15 декабря, а у пользователей группы A там минимальная активность. Однако после 15 декабря у пользователей группы А выше активность. Возможно, у нас неполные данные для группы А, либо тут какая-то аномалия."
   ]
  },
  {
   "cell_type": "markdown",
   "id": "379ee456",
   "metadata": {
    "ExecuteTime": {
     "end_time": "2022-10-12T14:56:06.422508Z",
     "start_time": "2022-10-12T14:56:06.413367Z"
    }
   },
   "source": [
    "Посмотрим, сколько часов в среднем проходит до первой покупки."
   ]
  },
  {
   "cell_type": "code",
   "execution_count": null,
   "id": "21acb960",
   "metadata": {
    "ExecuteTime": {
     "end_time": "2022-10-18T09:02:51.483793Z",
     "start_time": "2022-10-18T09:02:51.478836Z"
    }
   },
   "outputs": [],
   "source": [
    "def get_first_purchase_hour_distribution():\n",
    "    first_purchase = events.query(\"event_name == 'purchase'\").groupby(\"user_id\")[\"event_dt\"].min()\n",
    "    first_date = events.query(\"event_name == 'purchase'\").groupby(\"user_id\")[\"first_date\"].first()\n",
    "    first_purchase_hour = (first_purchase - first_date).dt.total_seconds() / 3600\n",
    "\n",
    "    fig = px.histogram(first_purchase_hour, histnorm=\"probability\")\n",
    "\n",
    "    fig.update_layout(\n",
    "        title=\"Распределение количества часов до первой покупки\",\n",
    "        xaxis_title=None,\n",
    "        yaxis_title=None,\n",
    "        xaxis_showgrid=True,\n",
    "        yaxis_tickformat=\"p\",\n",
    "        showlegend=False,\n",
    "    )\n",
    "\n",
    "    return fig"
   ]
  },
  {
   "cell_type": "code",
   "execution_count": null,
   "id": "866fab2d",
   "metadata": {
    "ExecuteTime": {
     "end_time": "2022-10-18T09:02:51.629652Z",
     "start_time": "2022-10-18T09:02:51.485782Z"
    }
   },
   "outputs": [],
   "source": [
    "get_first_purchase_hour_distribution()"
   ]
  },
  {
   "cell_type": "markdown",
   "id": "16ff93e9",
   "metadata": {},
   "source": [
    "В среднем, если пользователи совершают покупку, то в первые 20 часов. Максимальный срок совершения покупки – 7 дней, что все равно меньше, чем 9 дней. Таким образом, можно сократить рассматриваемый промежуток с 14 дней до 9 дней. Если же оставлять 14 дней, то смысла что-либо проверять мало, потому что в группе B будет всего 530 пользователей, вместо предполагаемых 3000 тысяч."
   ]
  },
  {
   "cell_type": "code",
   "execution_count": null,
   "id": "02753641",
   "metadata": {
    "ExecuteTime": {
     "end_time": "2022-10-18T09:02:51.642364Z",
     "start_time": "2022-10-18T09:02:51.630893Z"
    }
   },
   "outputs": [],
   "source": [
    "events[\"lifetime\"] = (events[\"event_dt\"] - events[\"first_date\"]).dt.days\n",
    "events = events.loc[events[\"lifetime\"] < 9]\n",
    "events[[\"user_id\", \"group\"]].drop_duplicates().groupby(\"group\")[\"user_id\"].count()"
   ]
  },
  {
   "cell_type": "markdown",
   "id": "06604540",
   "metadata": {
    "ExecuteTime": {
     "end_time": "2022-10-12T15:17:47.430279Z",
     "start_time": "2022-10-12T15:17:47.423315Z"
    }
   },
   "source": [
    "Количество участников осталось тем же (вдруг кто-то совершил первое событие только через 9 дней после регистрации)."
   ]
  },
  {
   "cell_type": "markdown",
   "id": "0a65fd04",
   "metadata": {},
   "source": [
    "## Воронка событий"
   ]
  },
  {
   "cell_type": "markdown",
   "id": "4b758167",
   "metadata": {
    "ExecuteTime": {
     "end_time": "2022-10-12T15:18:03.011693Z",
     "start_time": "2022-10-12T15:18:03.000708Z"
    }
   },
   "source": [
    "Создадим профили пользователей."
   ]
  },
  {
   "cell_type": "code",
   "execution_count": null,
   "id": "f1cd495f",
   "metadata": {
    "ExecuteTime": {
     "end_time": "2022-10-18T09:02:51.675618Z",
     "start_time": "2022-10-18T09:02:51.643709Z"
    }
   },
   "outputs": [],
   "source": [
    "event_names = [\"login\", \"product_page\", \"product_cart\", \"purchase\"]\n",
    "profiles = events.pivot_table(index=\"user_id\", columns=\"event_name\", values=\"event_dt\", aggfunc=\"count\")\n",
    "profiles[\"revenue\"] = events.groupby(\"user_id\")[\"details\"].sum().values\n",
    "profiles = profiles.merge(participants, on=\"user_id\")\n",
    "profiles = profiles[[\"user_id\", \"group\", \"device\", \"first_date\", *event_names, \"revenue\"]]\n",
    "profiles.head()"
   ]
  },
  {
   "cell_type": "code",
   "execution_count": null,
   "id": "19ca4be1",
   "metadata": {
    "ExecuteTime": {
     "end_time": "2022-10-18T09:02:51.687389Z",
     "start_time": "2022-10-18T09:02:51.676964Z"
    }
   },
   "outputs": [],
   "source": [
    "funnel_data = profiles.groupby(\"group\").apply(lambda group: group.astype(bool).sum())\n",
    "funnel_data = funnel_data[event_names]\n",
    "funnel_data"
   ]
  },
  {
   "cell_type": "code",
   "execution_count": null,
   "id": "0bd87b0e",
   "metadata": {
    "ExecuteTime": {
     "end_time": "2022-10-18T09:02:51.694269Z",
     "start_time": "2022-10-18T09:02:51.688787Z"
    }
   },
   "outputs": [],
   "source": [
    "def get_group_funnels(percent_mode=\"previous\", interactive=False):\n",
    "\n",
    "    fig = make_subplots(1, 2, subplot_titles=[\"A\", \"B\"], shared_yaxes=True)\n",
    "\n",
    "    event_names = funnel_data.columns.str.replace(\"_\", \" \").str.capitalize()\n",
    "\n",
    "    funnel_a = px.funnel(x=funnel_data.loc[\"A\"], y=event_names)\n",
    "    funnel_b = px.funnel(x=funnel_data.loc[\"B\"], y=event_names, color_discrete_sequence=[\"#EF553B\"])\n",
    "\n",
    "    fig.add_trace(funnel_a.data[0], row=1, col=1)\n",
    "    fig.add_trace(funnel_b.data[0], row=1, col=2)\n",
    "\n",
    "    fig.update_layout(title=\"Воронки тестовых групп\", title_x=0.5)\n",
    "\n",
    "    fig.update_traces(textfont_color=\"white\")\n",
    "\n",
    "    def update_percent_mode(percent_mode=percent_mode):\n",
    "        if percent_mode == \"previous\":\n",
    "            fig.update_traces(texttemplate=\"%{percentPrevious}\")\n",
    "        else:\n",
    "            fig.update_traces(texttemplate=\"%{percentInitial}\")\n",
    "\n",
    "    update_percent_mode()\n",
    "\n",
    "    if interactive:\n",
    "\n",
    "        fig = go.FigureWidget(fig)\n",
    "\n",
    "        percent_widget = widgets.Dropdown(\n",
    "            options=[(\"от предыдущего\", \"previous\"), (\"от общего\", \"total\")], description=\"Процент\"\n",
    "        )\n",
    "\n",
    "        interact(update_percent_mode, percent_mode=percent_widget)\n",
    "\n",
    "    return fig"
   ]
  },
  {
   "cell_type": "code",
   "execution_count": null,
   "id": "c0ce27be",
   "metadata": {
    "ExecuteTime": {
     "end_time": "2022-10-18T09:02:51.908121Z",
     "start_time": "2022-10-18T09:02:51.695677Z"
    }
   },
   "outputs": [],
   "source": [
    "get_group_funnels(interactive=True)"
   ]
  },
  {
   "cell_type": "markdown",
   "id": "71fbe4ec",
   "metadata": {},
   "source": [
    "У группы B ниже доля тех, кто переходил на страницу продукта, но немного выше доля тех, кто потом перешел в корзину. Причем процент покупателей от тех, кто зашел в корзину, больше 100% – значит, покупку можно совершить и не заходя в корзину. Увеличение конверсии на 10% не наблюдается ни на одном из этапов воронки. Общая доля покупателей в группе B на 3% ниже, чем в группе А. \n",
    "\n",
    "Новый год мог повлиять на склонность пользователей к покупкам, но эта склонность присутствовала бы в обеих группах и новая система рекомендаций должна была бы только помочь людям быстрее купить подарки/вещи. Но мы наблюдаем только спад конверсии пользователей в покупателей."
   ]
  },
  {
   "cell_type": "markdown",
   "id": "dd74804e",
   "metadata": {
    "ExecuteTime": {
     "end_time": "2022-10-12T16:08:18.745483Z",
     "start_time": "2022-10-12T16:08:18.736487Z"
    }
   },
   "source": [
    "## Количество событий на одного пользователя"
   ]
  },
  {
   "cell_type": "code",
   "execution_count": null,
   "id": "a7a9bbc9",
   "metadata": {
    "ExecuteTime": {
     "end_time": "2022-10-18T09:02:51.913065Z",
     "start_time": "2022-10-18T09:02:51.909462Z"
    }
   },
   "outputs": [],
   "source": [
    "def get_events_per_user_distribution(event):\n",
    "    fig = px.histogram(profiles, x=event, color=\"group\", histnorm=\"probability\", barmode=\"overlay\", marginal=\"box\")\n",
    "\n",
    "    fig.update_layout(\n",
    "        title=f'Распределение события <span style=\"color:#636EFA\">{event}</span> по группам',\n",
    "        xaxis_title=None,\n",
    "        yaxis_title=None,\n",
    "        xaxis_showgrid=True,\n",
    "        yaxis_tickformat=\"p\",\n",
    "    )\n",
    "\n",
    "    fig.update_layout(\n",
    "        legend=dict(\n",
    "            title=\"Группа теста:\",\n",
    "            orientation=\"h\",\n",
    "            xanchor=\"right\",\n",
    "            x=1,\n",
    "            yanchor=\"bottom\",\n",
    "            y=1,\n",
    "        )\n",
    "    )\n",
    "\n",
    "    return fig"
   ]
  },
  {
   "cell_type": "code",
   "execution_count": null,
   "id": "2035ef7d",
   "metadata": {
    "ExecuteTime": {
     "end_time": "2022-10-18T09:02:52.022106Z",
     "start_time": "2022-10-18T09:02:51.914371Z"
    }
   },
   "outputs": [],
   "source": [
    "event_widget = widgets.Dropdown(options=[\"login\", \"product_page\", \"product_cart\", \"purchase\"], description=\"Событие\")\n",
    "interact(get_events_per_user_distribution, event=event_widget);"
   ]
  },
  {
   "cell_type": "markdown",
   "id": "286344f5",
   "metadata": {},
   "source": [
    "Распределения количества событий на пользователя весьма похожи, но у группы B оно чуть смещено влево, то есть пользователи группы B делают чуть меньше событий, чем пользователи группы A."
   ]
  },
  {
   "cell_type": "markdown",
   "id": "60042021",
   "metadata": {},
   "source": [
    "## Выручка на покупателя"
   ]
  },
  {
   "cell_type": "code",
   "execution_count": null,
   "id": "bc150853",
   "metadata": {
    "ExecuteTime": {
     "end_time": "2022-10-18T09:02:52.027845Z",
     "start_time": "2022-10-18T09:02:52.023551Z"
    }
   },
   "outputs": [],
   "source": [
    "def get_revenue_distribution(color_column):\n",
    "\n",
    "    fig = px.histogram(\n",
    "        profiles.query(\"revenue > 0\"),\n",
    "        x=\"revenue\",\n",
    "        color=color_column,\n",
    "        histnorm=\"probability\",\n",
    "        barmode=\"overlay\",\n",
    "        marginal=\"box\",\n",
    "    )\n",
    "\n",
    "    fig.update_layout(\n",
    "        title=\"Распределение выручки на покупателя\",\n",
    "        xaxis_title=None,\n",
    "        yaxis_title=None,\n",
    "        xaxis_rangeslider_visible=True,\n",
    "        xaxis_showgrid=True,\n",
    "        xaxis_tickprefix=\"$\",\n",
    "        yaxis_tickformat=\"p\",\n",
    "    )\n",
    "\n",
    "    legend_title = \"Группа:\" if color_column == \"group\" else \"Устройство:\"\n",
    "\n",
    "    fig.update_layout(\n",
    "        legend=dict(\n",
    "            title=legend_title,\n",
    "            orientation=\"h\",\n",
    "            xanchor=\"right\",\n",
    "            x=1,\n",
    "            yanchor=\"bottom\",\n",
    "            y=1,\n",
    "        )\n",
    "    )\n",
    "\n",
    "    return fig"
   ]
  },
  {
   "cell_type": "code",
   "execution_count": null,
   "id": "4844de0a",
   "metadata": {
    "ExecuteTime": {
     "end_time": "2022-10-18T09:02:52.134284Z",
     "start_time": "2022-10-18T09:02:52.029232Z"
    }
   },
   "outputs": [],
   "source": [
    "interact(get_revenue_distribution, color_column=color_column_widget);"
   ]
  },
  {
   "cell_type": "markdown",
   "id": "97fdb452",
   "metadata": {},
   "source": [
    "Пользователи разных групп и разных устройств имеют примерно одинаковые распределения выручек. Однако распределение группы B немного левее, чем распределение группы А. Медиана для группы B равна 15\\\\$, а группы A - 20\\\\$."
   ]
  },
  {
   "cell_type": "markdown",
   "id": "124ca2ef",
   "metadata": {},
   "source": [
    "## Итоги по анализу данных"
   ]
  },
  {
   "cell_type": "markdown",
   "id": "9078cf41",
   "metadata": {},
   "source": [
    "**Общее:**\n",
    "\n",
    "Регистрация имеет цикличную активность и не зависит от устройства или группы пользователя. Больше всего пользователей регистрируется ближе к понедельнику и меньше всего в середине недели.\n",
    "\n",
    "Практически половина пользователей заходят к нам с мобильных устройств Android. С компьютера заходят 25% пользователей, а с айфона 21%. С макбуков заходит меньше 10% пользователей.\n",
    "\n",
    "Активность пользователей тоже неравномерна и сосредоточена вокруг 14-21 декабря. Возможно, в это время люди выбирали подарки к Новому году на нашем сайте. Однако эта активность выглядит весьма странно – резкий скачок активности почти в 3 раза 14 декабря и резкое снижение после 21 декабря. Также странно выглядит резкий обрыв активности после 29 декабря. Ближе к 30 декабря активность идет на убыль – вероятно, люди готовятся к Новому году.\n",
    "\n",
    "Между устройствами сильной разницы нет, а вот распределение группы B отличается от распределения группы А. Пользователи группы B были активны и до 15 декабря, а у пользователей группы A там минимальная активность. Однако после 15 декабря у пользователей группы А выше активность. Возможно, у нас неполные данные для группы А, либо тут какая-то аномалия.\n",
    "\n",
    "**Воронка событий:**\n",
    "\n",
    "У группы B ниже доля тех, кто переходил на страницу продукта, но немного выше доля тех, кто потом перешел в корзину. Причем процент покупателей от тех, кто зашел в корзину, больше 100% – значит, покупку можно совершить и не заходя в корзину. Увеличение конверсии на 10% не наблюдается ни на одном из этапов воронки. Общая доля покупателей в группе B на 3% ниже, чем в группе А. \n",
    "\n",
    "Новый год мог повлиять на склонность пользователей к покупкам, но эта склонность присутствовала бы в обеих группах и новая система рекомендаций должна была бы только помочь людям быстрее купить подарки/вещи. Но мы наблюдаем только спад конверсии пользователей в покупателей.\n",
    "\n",
    "**Количество событий и выручка на пользователя:**\n",
    "\n",
    "Распределения количества событий на пользователя весьма похожи, но у группы B оно чуть смещено влево, то есть пользователи группы B делают чуть меньше событий, чем пользователи группы A.\n",
    "\n",
    "Пользователи разных групп и разных устройств имеют примерно одинаковые распределения выручек. Однако распределение группы B немного левее, чем распределение группы А. Медиана для группы B равна 15\\\\$, а группы A - 20\\\\$."
   ]
  },
  {
   "cell_type": "markdown",
   "id": "efd786ff",
   "metadata": {},
   "source": [
    "# Проверка гипотез"
   ]
  },
  {
   "cell_type": "markdown",
   "id": "de67f8db",
   "metadata": {},
   "source": [
    "## Конверсия на различных этапах воронки"
   ]
  },
  {
   "cell_type": "markdown",
   "id": "72cc5c6a",
   "metadata": {
    "ExecuteTime": {
     "end_time": "2022-10-12T09:04:20.708884Z",
     "start_time": "2022-10-12T09:04:20.699161Z"
    }
   },
   "source": [
    "Проверим, есть ли между группами статистически значимая разница в конверсии пользователей на различных этапах воронки."
   ]
  },
  {
   "cell_type": "markdown",
   "id": "2c40c63a",
   "metadata": {},
   "source": [
    "**Нулевая гипотеза:** конверсия пользователей на этапе воронки `S` между группами A и B одинакова.\n",
    "\n",
    "**Альтернативная гипотеза:** конверсия пользователей на этапе воронки `S` между группами A и B различна.\n",
    "\n",
    "Где `S` - это последовательно `product_page`, `product_cart`, `purchase`. Таким образом, будет проверено 3 гипотезы.\n",
    "\n",
    "Конверсии будем проверять относительные - то есть от не от общего количества пользователей, а от количества пользователей прошлого этапа воронки. Так мы сможем более точно определить, где именно поменялась конверсия пользователей. Но для покупок конверсию будем проверять общую, потому что, как видно выше, покупку можно совершить, не переходя в корзину.\n",
    "\n",
    "Для проверки гипотез будем использовать t-тест с уровнем статистической значимости 0.01."
   ]
  },
  {
   "cell_type": "code",
   "execution_count": null,
   "id": "06e5f0f1",
   "metadata": {
    "ExecuteTime": {
     "end_time": "2022-10-18T09:02:52.139499Z",
     "start_time": "2022-10-18T09:02:52.135599Z"
    }
   },
   "outputs": [],
   "source": [
    "profiles_bool = profiles.copy(deep=True)\n",
    "profiles_bool[event_names] = profiles_bool[event_names].astype(bool)"
   ]
  },
  {
   "cell_type": "code",
   "execution_count": null,
   "id": "81540e61",
   "metadata": {
    "ExecuteTime": {
     "end_time": "2022-10-18T09:02:52.157022Z",
     "start_time": "2022-10-18T09:02:52.140693Z"
    }
   },
   "outputs": [],
   "source": [
    "for event_id in range(5, 7):\n",
    "    event_a = profiles_bool[profiles_bool.iloc[:, event_id - 1] == True].query(\"group == 'A'\").iloc[:, event_id]\n",
    "    event_b = profiles_bool[profiles_bool.iloc[:, event_id - 1] == True].query(\"group == 'B'\").iloc[:, event_id]\n",
    "\n",
    "    pvalue = stats.ttest_ind(event_a, event_b).pvalue\n",
    "\n",
    "    print(event_names[event_id - 4], f\"{pvalue:.2g}\")\n",
    "\n",
    "purchase_a = profiles_bool.query(\"group == 'A'\")[\"purchase\"]\n",
    "purchase_b = profiles_bool.query(\"group == 'B'\")[\"purchase\"]\n",
    "\n",
    "purchase_pvalue = stats.ttest_ind(purchase_a, purchase_b).pvalue\n",
    "\n",
    "print(f\"purchase {purchase_pvalue:.2g}\")"
   ]
  },
  {
   "cell_type": "markdown",
   "id": "015ea524",
   "metadata": {},
   "source": [
    "Для перехода на страницу продукта p-значение достаточно мало, чтобы отвергнуть нулевую гипотезу и сказать, что конверсия перехода на страницу продукта между группами действительно отличается. Только не в пользу тестовой группы, так как у контрольной группы конверсия 65%, а у тестовой – 56%.\n",
    "\n",
    "Для других этапов воронки p-значения слишком высокие, чтобы отвергать нулевые гипотезы. Это может быть прямым следствием того, что у нас слишком мало участников в группе B, и меньше предполагаемого количества в группе A.\n",
    "\n",
    "В итоге получается, что новая система рекомендаций статистически значимо хуже в конверсии пользователей."
   ]
  },
  {
   "cell_type": "markdown",
   "id": "cf5dc336",
   "metadata": {
    "ExecuteTime": {
     "end_time": "2022-10-12T15:49:58.191087Z",
     "start_time": "2022-10-12T15:49:58.182710Z"
    }
   },
   "source": [
    "## Выручка на пользователя"
   ]
  },
  {
   "cell_type": "markdown",
   "id": "e906ce2d",
   "metadata": {},
   "source": [
    "Проверим, есть ли между группами статистически значимая разница в выручке на покупателя."
   ]
  },
  {
   "cell_type": "markdown",
   "id": "614f9987",
   "metadata": {},
   "source": [
    "**Нулевая гипотеза:** выручка на покупателя для групп A и B одинакова.\n",
    "\n",
    "**Альтернативная гипотеза:** выручка на покупателя для групп A и B различна."
   ]
  },
  {
   "cell_type": "code",
   "execution_count": null,
   "id": "1fe12f04",
   "metadata": {
    "ExecuteTime": {
     "end_time": "2022-10-18T09:02:52.165209Z",
     "start_time": "2022-10-18T09:02:52.158284Z"
    }
   },
   "outputs": [],
   "source": [
    "revenue_a = profiles.query(\"revenue > 0 and group == 'A'\")[\"revenue\"]\n",
    "revenue_b = profiles.query(\"revenue > 0 and group == 'B'\")[\"revenue\"]"
   ]
  },
  {
   "cell_type": "code",
   "execution_count": null,
   "id": "cc31ddee",
   "metadata": {
    "ExecuteTime": {
     "end_time": "2022-10-18T09:02:52.169353Z",
     "start_time": "2022-10-18T09:02:52.166369Z"
    }
   },
   "outputs": [],
   "source": [
    "stats.ttest_ind(revenue_a, revenue_b)"
   ]
  },
  {
   "cell_type": "markdown",
   "id": "0715a184",
   "metadata": {},
   "source": [
    "P-значение снова слишком высоко, чтобы отвергнуть нулевую гипотезу и сказать, что средняя выручка с покупателя для групп A и B различна."
   ]
  },
  {
   "cell_type": "markdown",
   "id": "7cf9cac9",
   "metadata": {},
   "source": [
    "# Итог"
   ]
  },
  {
   "cell_type": "markdown",
   "id": "2d1e0967",
   "metadata": {},
   "source": [
    "**Описание данных:**\n",
    "\n",
    "Вероятнее всего, данные неполные и в сборе данных присутствует ошибка. На это есть следующие причины:\n",
    "\n",
    "* Последний зарегистрированный пользователь был 23 декабря, а последнее событие 30 декабря 2020 года, при том что в среднем в день регистрируется 3.5 тысячи новых пользователей и совершается 27 тысяч событий. Это может говорить о том, что данные неполные.\n",
    "\n",
    "\n",
    "* Больше трети событий произошли одновременно – вероятно, ошибка в логировании.\n",
    "\n",
    "\n",
    "* Среди пользователей, которые совершали действия, пользователей группы A в 3 раза больше, чем пользователей группы B. Причем это вряд ли влияние новой системы рекомендаций, так как она должна влиять только на пользователей, которые совершают действия.\n",
    "\n",
    "\n",
    "* Пользователи группы B были активны до 15 декабря, а у пользователей группы A там минимальная активность.\n",
    "\n",
    "Неполные данные могут поставить под сомнения корректность теста, так как с полными данными статистическая значимость теста может поменяться.\n",
    "\n",
    "\n",
    "**Предобработка данных:**\n",
    "\n",
    "Пропуски есть только в таблице `events` в столбце `details`, но они обозначают, что дополнительной информации о событии нет, так что они оставлены без изменений.\n",
    "\n",
    "Кроме одновременных событий, дубликатов в данных нет.\n",
    "\n",
    "Было отброшено 12% участников, так как они одновременно присутствовали в другом тесте. Еще 5% участников были не из стран Евросоюза. Среди оставшихся участников только половина совершала действия, причем 75% из них - пользователи группы А. Таким образом между группами присутствует большой дисбаланс в количестве участников, совершавших действия.\n",
    "\n",
    "Кроме того, больше 30% пользователей группы B и больше 50% группы А зарегистрировались после 16 декабря 2020 года, и с момента их регистрации прошло меньше 14 дней. Если их отбросить, то от предполагаемых 6000 участников останется ~1700, то есть меньше 30%. Тогда, даже если между группами есть статистически значимая разница, статистический тест этого не покажет. Если их оставить, то рассматривать промежуток в 14 дней будет некорректно – конверсии могут не соответствовать реальным.\n",
    "\n",
    "Оптимальным решением будет посмотреть, за какой промежуток времени в среднем пользователи конвертируются в покупателей. Если этот период меньше, чем 9 дней, тогда можно уменьшить рассматриваемый промежуток времени с 14 до 9 дней.\n",
    "\n",
    "\n",
    "**Исследовательский анализ данных:**\n",
    "\n",
    "Регистрация имеет цикличную активность и не зависит от устройства или группы пользователя. Больше всего пользователей регистрируется ближе к понедельнику и меньше всего в середине недели.\n",
    "\n",
    "Практически половина пользователей заходят к нам с мобильных устройств Android. С компьютера заходят 25% пользователей, а с айфона 21%. С макбуков заходит меньше 10% пользователей.\n",
    "\n",
    "Активность пользователей тоже неравномерна и сосредоточена вокруг 14-21 декабря. Возможно, в это время люди выбирали подарки к Новому году на нашем сайте. Однако эта активность выглядит весьма странно – резкий скачок активности почти в 3 раза 14 декабря и резкое снижение после 21 декабря. Также странно выглядит резкий обрыв активности после 29 декабря. Ближе к 30 декабря активность идет на убыль – вероятно, люди готовятся к Новому году.\n",
    "\n",
    "Между устройствами сильной разницы нет, а вот распределение группы B отличается от распределения группы А. Пользователи группы B были активны и до 15 декабря, а у пользователей группы A там минимальная активность. Однако после 15 декабря у пользователей группы А выше активность. Возможно, у нас неполные данные для группы А, либо тут какая-то аномалия.\n",
    "\n",
    "В среднем, если пользователи совершают покупку, то в первые 20 часов. Максимальный срок совершения покупки – 7 дней, что все равно меньше, чем 9 дней. Таким образом, можно сократить рассматриваемый промежуток с 14 дней до 9 дней. Если же оставлять 14 дней, то смысла что-либо проверять нет, потому что в группе B будет всего 450 пользователей, вместо предполагаемых 3000 тысяч.\n",
    "\n",
    "У группы B значительно ниже доля тех, кто переходил на страницу продукта, но немного выше доля тех, кто потом перешел в корзину. Причем процент покупателей от тех, кто зашел в корзину, больше 100% – значит, покупку можно совершить и не заходя в корзину. Увеличение конверсии на 10% не наблюдается ни на одном из этапов воронки. Общая доля покупателей в группе B на 3% ниже, чем в группе А. \n",
    "\n",
    "Новый год мог повлиять на склонность пользователей к покупкам, но эта склонность присутствовала бы в обеих группах и новая система рекомендаций должна была бы только помочь людям быстрее купить подарки/вещи. Но мы наблюдаем только спад конверсии пользователей в покупателей.\n",
    "\n",
    "Распределения количества событий на пользователя весьма похожи, но у группы B оно чуть смещено влево, то есть пользователи группы B делают чуть меньше событий, чем пользователи группы A.\n",
    "\n",
    "Пользователи разных групп и разных устройств имеют примерно одинаковые распределения выручек. Однако распределение группы B немного левее, чем распределение группы А. Медиана для группы B равна 15\\\\$, а группы A - 20\\\\$.\n",
    "\n",
    "\n",
    "**Проверка гипотез:**\n",
    "\n",
    "Было проверено 3 гипотезы, есть ли между группами статистически значимая разница в конверсии пользователей на разных этапах воронки. Для проверки использовался t-тест с уровнем статистической значимости 0.01. \n",
    "\n",
    "Для перехода на страницу продукта p-значение достаточно мало, чтобы отвергнуть нулевую гипотезу и сказать, что конверсия перехода на страницу продукта между группами действительно отличается. Только не в пользу тестовой группы, так как у контрольной группы конверсия 65%, а у тестовой – 56%.\n",
    "\n",
    "Для других этапов воронки p-значения слишком высокие, чтобы отвергать нулевые гипотезы. Это может быть прямым следствием того, что у нас слишком мало участников в группе B, и меньше предполагаемого количества в группе A.\n",
    "\n",
    "В итоге получается, что новая система рекомендаций статистически значимо хуже в конверсии пользователей.\n",
    "\n",
    "Также была проверена гипотеза, что средняя выручка с покупателя для групп A и B отличается. P-значение снова было слишком высоким, чтобы отвергнуть нулевую гипотезу.\n",
    "\n",
    "\n",
    "**Итоги по тестированию:**\n",
    "\n",
    "Для анализа теста были предоставлены данные низкого качества, а в организации теста присутствуют проблемы, описанные выше. Однако смысла проводить тест повторно, скорее всего, нет, так как тестовая группа не показала увеличения конверсии на 10% ни на одном из этапов воронки, а конверсия пользователей в просмотр товаров даже статистически хуже для тестовой группы. Также не изменилось количество событий на пользователя. Медианная выручка с покупателя у группы B на 5$ меньше, чем у группы А, но статистически значимой разницы обнаружено не было. Вероятнее всего, новая система рекомендаций действительно только понизила конверсию и среднюю выручку с покупателя, так что нет смысла продолжать ее тестировать."
   ]
  }
 ],
 "metadata": {
  "ExecuteTimeLog": [
   {
    "duration": 33,
    "start_time": "2022-10-12T17:19:23.695Z"
   },
   {
    "duration": 977,
    "start_time": "2022-10-12T17:19:23.730Z"
   },
   {
    "duration": 259,
    "start_time": "2022-10-12T17:19:24.709Z"
   },
   {
    "duration": 194,
    "start_time": "2022-10-12T17:19:24.970Z"
   },
   {
    "duration": 0,
    "start_time": "2022-10-12T17:19:25.167Z"
   },
   {
    "duration": 0,
    "start_time": "2022-10-12T17:19:25.168Z"
   },
   {
    "duration": 0,
    "start_time": "2022-10-12T17:19:25.169Z"
   },
   {
    "duration": 0,
    "start_time": "2022-10-12T17:19:25.170Z"
   },
   {
    "duration": 0,
    "start_time": "2022-10-12T17:19:25.171Z"
   },
   {
    "duration": 0,
    "start_time": "2022-10-12T17:19:25.173Z"
   },
   {
    "duration": 0,
    "start_time": "2022-10-12T17:19:25.174Z"
   },
   {
    "duration": 0,
    "start_time": "2022-10-12T17:19:25.175Z"
   },
   {
    "duration": 0,
    "start_time": "2022-10-12T17:19:25.176Z"
   },
   {
    "duration": 0,
    "start_time": "2022-10-12T17:19:25.177Z"
   },
   {
    "duration": 0,
    "start_time": "2022-10-12T17:19:25.178Z"
   },
   {
    "duration": 0,
    "start_time": "2022-10-12T17:19:25.179Z"
   },
   {
    "duration": 1,
    "start_time": "2022-10-12T17:19:25.180Z"
   },
   {
    "duration": 0,
    "start_time": "2022-10-12T17:19:25.181Z"
   },
   {
    "duration": 0,
    "start_time": "2022-10-12T17:19:25.183Z"
   },
   {
    "duration": 0,
    "start_time": "2022-10-12T17:19:25.184Z"
   },
   {
    "duration": 0,
    "start_time": "2022-10-12T17:19:25.185Z"
   },
   {
    "duration": 0,
    "start_time": "2022-10-12T17:19:25.186Z"
   },
   {
    "duration": 0,
    "start_time": "2022-10-12T17:19:25.187Z"
   },
   {
    "duration": 0,
    "start_time": "2022-10-12T17:19:25.222Z"
   },
   {
    "duration": 0,
    "start_time": "2022-10-12T17:19:25.222Z"
   },
   {
    "duration": 0,
    "start_time": "2022-10-12T17:19:25.223Z"
   },
   {
    "duration": 0,
    "start_time": "2022-10-12T17:19:25.224Z"
   },
   {
    "duration": 0,
    "start_time": "2022-10-12T17:19:25.225Z"
   },
   {
    "duration": 0,
    "start_time": "2022-10-12T17:19:25.226Z"
   },
   {
    "duration": 0,
    "start_time": "2022-10-12T17:19:25.227Z"
   },
   {
    "duration": 0,
    "start_time": "2022-10-12T17:19:25.228Z"
   },
   {
    "duration": 0,
    "start_time": "2022-10-12T17:19:25.229Z"
   },
   {
    "duration": 0,
    "start_time": "2022-10-12T17:19:25.229Z"
   },
   {
    "duration": 0,
    "start_time": "2022-10-12T17:19:25.230Z"
   },
   {
    "duration": 0,
    "start_time": "2022-10-12T17:19:25.231Z"
   },
   {
    "duration": 0,
    "start_time": "2022-10-12T17:19:25.232Z"
   },
   {
    "duration": 0,
    "start_time": "2022-10-12T17:19:25.233Z"
   },
   {
    "duration": 0,
    "start_time": "2022-10-12T17:19:25.234Z"
   },
   {
    "duration": 0,
    "start_time": "2022-10-12T17:19:25.235Z"
   },
   {
    "duration": 0,
    "start_time": "2022-10-12T17:19:25.236Z"
   },
   {
    "duration": 0,
    "start_time": "2022-10-12T17:19:25.237Z"
   },
   {
    "duration": 0,
    "start_time": "2022-10-12T17:19:25.238Z"
   },
   {
    "duration": 0,
    "start_time": "2022-10-12T17:19:25.239Z"
   },
   {
    "duration": 0,
    "start_time": "2022-10-12T17:19:25.240Z"
   },
   {
    "duration": 0,
    "start_time": "2022-10-12T17:19:25.240Z"
   },
   {
    "duration": 0,
    "start_time": "2022-10-12T17:19:25.241Z"
   },
   {
    "duration": 0,
    "start_time": "2022-10-12T17:19:25.242Z"
   },
   {
    "duration": 0,
    "start_time": "2022-10-12T17:19:25.243Z"
   },
   {
    "duration": 0,
    "start_time": "2022-10-12T17:19:25.244Z"
   },
   {
    "duration": 0,
    "start_time": "2022-10-12T17:19:25.245Z"
   },
   {
    "duration": 0,
    "start_time": "2022-10-12T17:19:25.245Z"
   },
   {
    "duration": 0,
    "start_time": "2022-10-12T17:19:25.246Z"
   },
   {
    "duration": 0,
    "start_time": "2022-10-12T17:19:25.247Z"
   },
   {
    "duration": 0,
    "start_time": "2022-10-12T17:19:25.248Z"
   },
   {
    "duration": 0,
    "start_time": "2022-10-12T17:19:25.249Z"
   },
   {
    "duration": 0,
    "start_time": "2022-10-12T17:19:25.250Z"
   },
   {
    "duration": 0,
    "start_time": "2022-10-12T17:19:25.251Z"
   },
   {
    "duration": 125,
    "start_time": "2022-10-12T17:21:52.939Z"
   },
   {
    "duration": 1948,
    "start_time": "2022-10-12T17:22:07.407Z"
   },
   {
    "duration": 35,
    "start_time": "2022-10-12T17:22:14.220Z"
   },
   {
    "duration": 899,
    "start_time": "2022-10-12T17:22:14.257Z"
   },
   {
    "duration": 255,
    "start_time": "2022-10-12T17:22:15.158Z"
   },
   {
    "duration": 593,
    "start_time": "2022-10-12T17:22:15.415Z"
   },
   {
    "duration": 37,
    "start_time": "2022-10-12T17:22:16.010Z"
   },
   {
    "duration": 76,
    "start_time": "2022-10-12T17:22:16.049Z"
   },
   {
    "duration": 36,
    "start_time": "2022-10-12T17:22:16.127Z"
   },
   {
    "duration": 62,
    "start_time": "2022-10-12T17:22:16.165Z"
   },
   {
    "duration": 63,
    "start_time": "2022-10-12T17:22:16.229Z"
   },
   {
    "duration": 6,
    "start_time": "2022-10-12T17:22:16.294Z"
   },
   {
    "duration": 34,
    "start_time": "2022-10-12T17:22:16.301Z"
   },
   {
    "duration": 40,
    "start_time": "2022-10-12T17:22:16.336Z"
   },
   {
    "duration": 9,
    "start_time": "2022-10-12T17:22:16.378Z"
   },
   {
    "duration": 24,
    "start_time": "2022-10-12T17:22:16.389Z"
   },
   {
    "duration": 544,
    "start_time": "2022-10-12T17:22:16.414Z"
   },
   {
    "duration": 50,
    "start_time": "2022-10-12T17:22:16.959Z"
   },
   {
    "duration": 88,
    "start_time": "2022-10-12T17:22:17.011Z"
   },
   {
    "duration": 157,
    "start_time": "2022-10-12T17:22:17.101Z"
   },
   {
    "duration": 8,
    "start_time": "2022-10-12T17:22:17.260Z"
   },
   {
    "duration": 41,
    "start_time": "2022-10-12T17:22:17.270Z"
   },
   {
    "duration": 22,
    "start_time": "2022-10-12T17:22:17.312Z"
   },
   {
    "duration": 124,
    "start_time": "2022-10-12T17:22:17.335Z"
   },
   {
    "duration": 64,
    "start_time": "2022-10-12T17:22:17.461Z"
   },
   {
    "duration": 180,
    "start_time": "2022-10-12T17:22:17.526Z"
   },
   {
    "duration": 27,
    "start_time": "2022-10-12T17:22:17.708Z"
   },
   {
    "duration": 8,
    "start_time": "2022-10-12T17:22:17.736Z"
   },
   {
    "duration": 24,
    "start_time": "2022-10-12T17:22:17.746Z"
   },
   {
    "duration": 30,
    "start_time": "2022-10-12T17:22:17.773Z"
   },
   {
    "duration": 23,
    "start_time": "2022-10-12T17:22:17.805Z"
   },
   {
    "duration": 29,
    "start_time": "2022-10-12T17:22:17.829Z"
   },
   {
    "duration": 37,
    "start_time": "2022-10-12T17:22:17.860Z"
   },
   {
    "duration": 9,
    "start_time": "2022-10-12T17:22:17.899Z"
   },
   {
    "duration": 140,
    "start_time": "2022-10-12T17:22:17.909Z"
   },
   {
    "duration": 8,
    "start_time": "2022-10-12T17:22:18.051Z"
   },
   {
    "duration": 34,
    "start_time": "2022-10-12T17:22:18.061Z"
   },
   {
    "duration": 20,
    "start_time": "2022-10-12T17:22:18.097Z"
   },
   {
    "duration": 33,
    "start_time": "2022-10-12T17:22:18.119Z"
   },
   {
    "duration": 19,
    "start_time": "2022-10-12T17:22:18.154Z"
   },
   {
    "duration": 350,
    "start_time": "2022-10-12T17:22:18.174Z"
   },
   {
    "duration": 4,
    "start_time": "2022-10-12T17:22:18.526Z"
   },
   {
    "duration": 204,
    "start_time": "2022-10-12T17:22:18.532Z"
   },
   {
    "duration": 0,
    "start_time": "2022-10-12T17:22:18.738Z"
   },
   {
    "duration": 0,
    "start_time": "2022-10-12T17:22:18.739Z"
   },
   {
    "duration": 0,
    "start_time": "2022-10-12T17:22:18.740Z"
   },
   {
    "duration": 0,
    "start_time": "2022-10-12T17:22:18.741Z"
   },
   {
    "duration": 0,
    "start_time": "2022-10-12T17:22:18.742Z"
   },
   {
    "duration": 0,
    "start_time": "2022-10-12T17:22:18.743Z"
   },
   {
    "duration": 0,
    "start_time": "2022-10-12T17:22:18.744Z"
   },
   {
    "duration": 0,
    "start_time": "2022-10-12T17:22:18.744Z"
   },
   {
    "duration": 0,
    "start_time": "2022-10-12T17:22:18.745Z"
   },
   {
    "duration": 0,
    "start_time": "2022-10-12T17:22:18.747Z"
   },
   {
    "duration": 0,
    "start_time": "2022-10-12T17:22:18.748Z"
   },
   {
    "duration": 0,
    "start_time": "2022-10-12T17:22:18.749Z"
   },
   {
    "duration": 0,
    "start_time": "2022-10-12T17:22:18.750Z"
   },
   {
    "duration": 0,
    "start_time": "2022-10-12T17:22:18.751Z"
   },
   {
    "duration": 0,
    "start_time": "2022-10-12T17:22:18.752Z"
   },
   {
    "duration": 0,
    "start_time": "2022-10-12T17:22:18.753Z"
   },
   {
    "duration": 18079,
    "start_time": "2022-10-12T17:23:24.452Z"
   },
   {
    "duration": 2178,
    "start_time": "2022-10-12T17:23:51.692Z"
   },
   {
    "duration": 43,
    "start_time": "2022-10-12T17:23:53.872Z"
   },
   {
    "duration": 945,
    "start_time": "2022-10-12T17:23:53.916Z"
   },
   {
    "duration": 267,
    "start_time": "2022-10-12T17:23:54.863Z"
   },
   {
    "duration": 621,
    "start_time": "2022-10-12T17:23:55.132Z"
   },
   {
    "duration": 33,
    "start_time": "2022-10-12T17:23:55.755Z"
   },
   {
    "duration": 47,
    "start_time": "2022-10-12T17:23:55.790Z"
   },
   {
    "duration": 28,
    "start_time": "2022-10-12T17:23:55.839Z"
   },
   {
    "duration": 64,
    "start_time": "2022-10-12T17:23:55.868Z"
   },
   {
    "duration": 51,
    "start_time": "2022-10-12T17:23:55.935Z"
   },
   {
    "duration": 39,
    "start_time": "2022-10-12T17:23:55.988Z"
   },
   {
    "duration": 27,
    "start_time": "2022-10-12T17:23:56.029Z"
   },
   {
    "duration": 29,
    "start_time": "2022-10-12T17:23:56.058Z"
   },
   {
    "duration": 6,
    "start_time": "2022-10-12T17:23:56.088Z"
   },
   {
    "duration": 19,
    "start_time": "2022-10-12T17:23:56.096Z"
   },
   {
    "duration": 553,
    "start_time": "2022-10-12T17:23:56.117Z"
   },
   {
    "duration": 51,
    "start_time": "2022-10-12T17:23:56.671Z"
   },
   {
    "duration": 72,
    "start_time": "2022-10-12T17:23:56.723Z"
   },
   {
    "duration": 146,
    "start_time": "2022-10-12T17:23:56.797Z"
   },
   {
    "duration": 8,
    "start_time": "2022-10-12T17:23:56.945Z"
   },
   {
    "duration": 28,
    "start_time": "2022-10-12T17:23:56.954Z"
   },
   {
    "duration": 7,
    "start_time": "2022-10-12T17:23:56.983Z"
   },
   {
    "duration": 120,
    "start_time": "2022-10-12T17:23:56.992Z"
   },
   {
    "duration": 65,
    "start_time": "2022-10-12T17:23:57.113Z"
   },
   {
    "duration": 180,
    "start_time": "2022-10-12T17:23:57.180Z"
   },
   {
    "duration": 22,
    "start_time": "2022-10-12T17:23:57.362Z"
   },
   {
    "duration": 8,
    "start_time": "2022-10-12T17:23:57.386Z"
   },
   {
    "duration": 30,
    "start_time": "2022-10-12T17:23:57.398Z"
   },
   {
    "duration": 24,
    "start_time": "2022-10-12T17:23:57.429Z"
   },
   {
    "duration": 8,
    "start_time": "2022-10-12T17:23:57.456Z"
   },
   {
    "duration": 11,
    "start_time": "2022-10-12T17:23:57.466Z"
   },
   {
    "duration": 8,
    "start_time": "2022-10-12T17:23:57.479Z"
   },
   {
    "duration": 4,
    "start_time": "2022-10-12T17:23:57.489Z"
   },
   {
    "duration": 108,
    "start_time": "2022-10-12T17:23:57.521Z"
   },
   {
    "duration": 5,
    "start_time": "2022-10-12T17:23:57.631Z"
   },
   {
    "duration": 14,
    "start_time": "2022-10-12T17:23:57.638Z"
   },
   {
    "duration": 13,
    "start_time": "2022-10-12T17:23:57.654Z"
   },
   {
    "duration": 12,
    "start_time": "2022-10-12T17:23:57.668Z"
   },
   {
    "duration": 4,
    "start_time": "2022-10-12T17:23:57.681Z"
   },
   {
    "duration": 338,
    "start_time": "2022-10-12T17:23:57.686Z"
   },
   {
    "duration": 4,
    "start_time": "2022-10-12T17:23:58.026Z"
   },
   {
    "duration": 169,
    "start_time": "2022-10-12T17:23:58.031Z"
   },
   {
    "duration": 821,
    "start_time": "2022-10-12T17:23:58.201Z"
   },
   {
    "duration": 4,
    "start_time": "2022-10-12T17:23:59.023Z"
   },
   {
    "duration": 143,
    "start_time": "2022-10-12T17:23:59.028Z"
   },
   {
    "duration": 14,
    "start_time": "2022-10-12T17:23:59.172Z"
   },
   {
    "duration": 1940,
    "start_time": "2022-10-12T17:23:59.187Z"
   },
   {
    "duration": 1,
    "start_time": "2022-10-12T17:24:01.128Z"
   },
   {
    "duration": 0,
    "start_time": "2022-10-12T17:24:01.130Z"
   },
   {
    "duration": 0,
    "start_time": "2022-10-12T17:24:01.131Z"
   },
   {
    "duration": 0,
    "start_time": "2022-10-12T17:24:01.132Z"
   },
   {
    "duration": 0,
    "start_time": "2022-10-12T17:24:01.133Z"
   },
   {
    "duration": 0,
    "start_time": "2022-10-12T17:24:01.134Z"
   },
   {
    "duration": 0,
    "start_time": "2022-10-12T17:24:01.135Z"
   },
   {
    "duration": 0,
    "start_time": "2022-10-12T17:24:01.136Z"
   },
   {
    "duration": 0,
    "start_time": "2022-10-12T17:24:01.137Z"
   },
   {
    "duration": 0,
    "start_time": "2022-10-12T17:24:01.138Z"
   },
   {
    "duration": 0,
    "start_time": "2022-10-12T17:24:01.139Z"
   },
   {
    "duration": 8010,
    "start_time": "2022-10-12T17:24:42.946Z"
   },
   {
    "duration": 2473,
    "start_time": "2022-10-12T17:25:28.967Z"
   },
   {
    "duration": 28,
    "start_time": "2022-10-12T17:25:31.442Z"
   },
   {
    "duration": 1076,
    "start_time": "2022-10-12T17:25:31.472Z"
   },
   {
    "duration": 238,
    "start_time": "2022-10-12T17:25:32.550Z"
   },
   {
    "duration": 623,
    "start_time": "2022-10-12T17:25:32.790Z"
   },
   {
    "duration": 28,
    "start_time": "2022-10-12T17:25:33.415Z"
   },
   {
    "duration": 22,
    "start_time": "2022-10-12T17:25:33.444Z"
   },
   {
    "duration": 69,
    "start_time": "2022-10-12T17:25:33.467Z"
   },
   {
    "duration": 20,
    "start_time": "2022-10-12T17:25:33.537Z"
   },
   {
    "duration": 84,
    "start_time": "2022-10-12T17:25:33.559Z"
   },
   {
    "duration": 5,
    "start_time": "2022-10-12T17:25:33.645Z"
   },
   {
    "duration": 22,
    "start_time": "2022-10-12T17:25:33.651Z"
   },
   {
    "duration": 22,
    "start_time": "2022-10-12T17:25:33.675Z"
   },
   {
    "duration": 4,
    "start_time": "2022-10-12T17:25:33.699Z"
   },
   {
    "duration": 18,
    "start_time": "2022-10-12T17:25:33.704Z"
   },
   {
    "duration": 504,
    "start_time": "2022-10-12T17:25:33.723Z"
   },
   {
    "duration": 58,
    "start_time": "2022-10-12T17:25:34.229Z"
   },
   {
    "duration": 75,
    "start_time": "2022-10-12T17:25:34.288Z"
   },
   {
    "duration": 159,
    "start_time": "2022-10-12T17:25:34.364Z"
   },
   {
    "duration": 6,
    "start_time": "2022-10-12T17:25:34.525Z"
   },
   {
    "duration": 17,
    "start_time": "2022-10-12T17:25:34.532Z"
   },
   {
    "duration": 20,
    "start_time": "2022-10-12T17:25:34.551Z"
   },
   {
    "duration": 59,
    "start_time": "2022-10-12T17:25:34.572Z"
   },
   {
    "duration": 53,
    "start_time": "2022-10-12T17:25:34.632Z"
   },
   {
    "duration": 182,
    "start_time": "2022-10-12T17:25:34.686Z"
   },
   {
    "duration": 14,
    "start_time": "2022-10-12T17:25:34.869Z"
   },
   {
    "duration": 8,
    "start_time": "2022-10-12T17:25:34.884Z"
   },
   {
    "duration": 11,
    "start_time": "2022-10-12T17:25:34.896Z"
   },
   {
    "duration": 18,
    "start_time": "2022-10-12T17:25:34.921Z"
   },
   {
    "duration": 6,
    "start_time": "2022-10-12T17:25:34.941Z"
   },
   {
    "duration": 15,
    "start_time": "2022-10-12T17:25:34.949Z"
   },
   {
    "duration": 11,
    "start_time": "2022-10-12T17:25:34.965Z"
   },
   {
    "duration": 13,
    "start_time": "2022-10-12T17:25:34.977Z"
   },
   {
    "duration": 136,
    "start_time": "2022-10-12T17:25:34.991Z"
   },
   {
    "duration": 5,
    "start_time": "2022-10-12T17:25:35.128Z"
   },
   {
    "duration": 29,
    "start_time": "2022-10-12T17:25:35.135Z"
   },
   {
    "duration": 21,
    "start_time": "2022-10-12T17:25:35.165Z"
   },
   {
    "duration": 39,
    "start_time": "2022-10-12T17:25:35.188Z"
   },
   {
    "duration": 15,
    "start_time": "2022-10-12T17:25:35.229Z"
   },
   {
    "duration": 305,
    "start_time": "2022-10-12T17:25:35.246Z"
   },
   {
    "duration": 3,
    "start_time": "2022-10-12T17:25:35.552Z"
   },
   {
    "duration": 188,
    "start_time": "2022-10-12T17:25:35.557Z"
   },
   {
    "duration": 827,
    "start_time": "2022-10-12T17:25:35.747Z"
   },
   {
    "duration": 4,
    "start_time": "2022-10-12T17:25:36.575Z"
   },
   {
    "duration": 116,
    "start_time": "2022-10-12T17:25:36.580Z"
   },
   {
    "duration": 35,
    "start_time": "2022-10-12T17:25:36.698Z"
   },
   {
    "duration": 39,
    "start_time": "2022-10-12T17:25:36.734Z"
   },
   {
    "duration": 11,
    "start_time": "2022-10-12T17:25:36.775Z"
   },
   {
    "duration": 7,
    "start_time": "2022-10-12T17:25:36.788Z"
   },
   {
    "duration": 230,
    "start_time": "2022-10-12T17:25:36.797Z"
   },
   {
    "duration": 3,
    "start_time": "2022-10-12T17:25:37.028Z"
   },
   {
    "duration": 205,
    "start_time": "2022-10-12T17:25:37.033Z"
   },
   {
    "duration": 4,
    "start_time": "2022-10-12T17:25:37.239Z"
   },
   {
    "duration": 136,
    "start_time": "2022-10-12T17:25:37.245Z"
   },
   {
    "duration": 11,
    "start_time": "2022-10-12T17:25:37.382Z"
   },
   {
    "duration": 41,
    "start_time": "2022-10-12T17:25:37.395Z"
   },
   {
    "duration": 35,
    "start_time": "2022-10-12T17:25:37.437Z"
   },
   {
    "duration": 31,
    "start_time": "2022-10-12T17:25:37.473Z"
   },
   {
    "duration": 145,
    "start_time": "2022-10-12T17:27:07.632Z"
   },
   {
    "duration": 46,
    "start_time": "2022-10-12T17:27:13.395Z"
   },
   {
    "duration": 2612,
    "start_time": "2022-10-12T17:27:18.961Z"
   },
   {
    "duration": 24,
    "start_time": "2022-10-12T17:27:21.575Z"
   },
   {
    "duration": 85,
    "start_time": "2022-10-12T17:27:21.601Z"
   },
   {
    "duration": 1070,
    "start_time": "2022-10-12T17:27:21.688Z"
   },
   {
    "duration": 250,
    "start_time": "2022-10-12T17:27:22.760Z"
   },
   {
    "duration": 635,
    "start_time": "2022-10-12T17:27:23.012Z"
   },
   {
    "duration": 24,
    "start_time": "2022-10-12T17:27:23.649Z"
   },
   {
    "duration": 47,
    "start_time": "2022-10-12T17:27:23.674Z"
   },
   {
    "duration": 24,
    "start_time": "2022-10-12T17:27:23.723Z"
   },
   {
    "duration": 23,
    "start_time": "2022-10-12T17:27:23.749Z"
   },
   {
    "duration": 81,
    "start_time": "2022-10-12T17:27:23.773Z"
   },
   {
    "duration": 5,
    "start_time": "2022-10-12T17:27:23.856Z"
   },
   {
    "duration": 6,
    "start_time": "2022-10-12T17:27:23.863Z"
   },
   {
    "duration": 40,
    "start_time": "2022-10-12T17:27:23.870Z"
   },
   {
    "duration": 10,
    "start_time": "2022-10-12T17:27:23.912Z"
   },
   {
    "duration": 7,
    "start_time": "2022-10-12T17:27:23.924Z"
   },
   {
    "duration": 508,
    "start_time": "2022-10-12T17:27:23.932Z"
   },
   {
    "duration": 56,
    "start_time": "2022-10-12T17:27:24.442Z"
   },
   {
    "duration": 64,
    "start_time": "2022-10-12T17:27:24.499Z"
   },
   {
    "duration": 161,
    "start_time": "2022-10-12T17:27:24.564Z"
   },
   {
    "duration": 6,
    "start_time": "2022-10-12T17:27:24.727Z"
   },
   {
    "duration": 32,
    "start_time": "2022-10-12T17:27:24.734Z"
   },
   {
    "duration": 25,
    "start_time": "2022-10-12T17:27:24.767Z"
   },
   {
    "duration": 76,
    "start_time": "2022-10-12T17:27:24.793Z"
   },
   {
    "duration": 63,
    "start_time": "2022-10-12T17:27:24.870Z"
   },
   {
    "duration": 193,
    "start_time": "2022-10-12T17:27:24.934Z"
   },
   {
    "duration": 16,
    "start_time": "2022-10-12T17:27:25.129Z"
   },
   {
    "duration": 6,
    "start_time": "2022-10-12T17:27:25.148Z"
   },
   {
    "duration": 39,
    "start_time": "2022-10-12T17:27:25.155Z"
   },
   {
    "duration": 22,
    "start_time": "2022-10-12T17:27:25.195Z"
   },
   {
    "duration": 19,
    "start_time": "2022-10-12T17:27:25.219Z"
   },
   {
    "duration": 37,
    "start_time": "2022-10-12T17:27:25.239Z"
   },
   {
    "duration": 27,
    "start_time": "2022-10-12T17:27:25.278Z"
   },
   {
    "duration": 19,
    "start_time": "2022-10-12T17:27:25.306Z"
   },
   {
    "duration": 138,
    "start_time": "2022-10-12T17:27:25.327Z"
   },
   {
    "duration": 5,
    "start_time": "2022-10-12T17:27:25.466Z"
   },
   {
    "duration": 34,
    "start_time": "2022-10-12T17:27:25.472Z"
   },
   {
    "duration": 40,
    "start_time": "2022-10-12T17:27:25.507Z"
   },
   {
    "duration": 34,
    "start_time": "2022-10-12T17:27:25.548Z"
   },
   {
    "duration": 4,
    "start_time": "2022-10-12T17:27:25.583Z"
   },
   {
    "duration": 333,
    "start_time": "2022-10-12T17:27:25.589Z"
   },
   {
    "duration": 3,
    "start_time": "2022-10-12T17:27:25.924Z"
   },
   {
    "duration": 190,
    "start_time": "2022-10-12T17:27:25.928Z"
   },
   {
    "duration": 823,
    "start_time": "2022-10-12T17:27:26.121Z"
   },
   {
    "duration": 4,
    "start_time": "2022-10-12T17:27:26.946Z"
   },
   {
    "duration": 126,
    "start_time": "2022-10-12T17:27:26.956Z"
   },
   {
    "duration": 14,
    "start_time": "2022-10-12T17:27:27.083Z"
   },
   {
    "duration": 45,
    "start_time": "2022-10-12T17:27:27.098Z"
   },
   {
    "duration": 12,
    "start_time": "2022-10-12T17:27:27.144Z"
   },
   {
    "duration": 12,
    "start_time": "2022-10-12T17:27:27.157Z"
   },
   {
    "duration": 228,
    "start_time": "2022-10-12T17:27:27.171Z"
   },
   {
    "duration": 4,
    "start_time": "2022-10-12T17:27:27.423Z"
   },
   {
    "duration": 205,
    "start_time": "2022-10-12T17:27:27.428Z"
   },
   {
    "duration": 4,
    "start_time": "2022-10-12T17:27:27.635Z"
   },
   {
    "duration": 140,
    "start_time": "2022-10-12T17:27:27.640Z"
   },
   {
    "duration": 13,
    "start_time": "2022-10-12T17:27:27.782Z"
   },
   {
    "duration": 23,
    "start_time": "2022-10-12T17:27:27.797Z"
   },
   {
    "duration": 16,
    "start_time": "2022-10-12T17:27:27.822Z"
   },
   {
    "duration": 47,
    "start_time": "2022-10-12T17:27:27.839Z"
   },
   {
    "duration": 2,
    "start_time": "2022-10-12T17:27:48.152Z"
   },
   {
    "duration": 48950,
    "start_time": "2022-10-13T08:55:48.116Z"
   },
   {
    "duration": 11,
    "start_time": "2022-10-13T08:56:37.069Z"
   },
   {
    "duration": 79,
    "start_time": "2022-10-13T08:56:37.082Z"
   },
   {
    "duration": 1203,
    "start_time": "2022-10-13T08:56:37.163Z"
   },
   {
    "duration": 511,
    "start_time": "2022-10-13T08:56:38.367Z"
   },
   {
    "duration": 2025,
    "start_time": "2022-10-13T08:56:38.879Z"
   },
   {
    "duration": 30,
    "start_time": "2022-10-13T08:56:40.906Z"
   },
   {
    "duration": 30,
    "start_time": "2022-10-13T08:56:40.937Z"
   },
   {
    "duration": 52,
    "start_time": "2022-10-13T08:56:40.968Z"
   },
   {
    "duration": 21,
    "start_time": "2022-10-13T08:56:41.023Z"
   },
   {
    "duration": 66,
    "start_time": "2022-10-13T08:56:41.094Z"
   },
   {
    "duration": 6,
    "start_time": "2022-10-13T08:56:41.161Z"
   },
   {
    "duration": 27,
    "start_time": "2022-10-13T08:56:41.169Z"
   },
   {
    "duration": 21,
    "start_time": "2022-10-13T08:56:41.198Z"
   },
   {
    "duration": 5,
    "start_time": "2022-10-13T08:56:41.220Z"
   },
   {
    "duration": 7,
    "start_time": "2022-10-13T08:56:41.227Z"
   },
   {
    "duration": 555,
    "start_time": "2022-10-13T08:56:41.235Z"
   },
   {
    "duration": 58,
    "start_time": "2022-10-13T08:56:41.795Z"
   },
   {
    "duration": 79,
    "start_time": "2022-10-13T08:56:41.855Z"
   },
   {
    "duration": 173,
    "start_time": "2022-10-13T08:56:41.936Z"
   },
   {
    "duration": 7,
    "start_time": "2022-10-13T08:56:42.111Z"
   },
   {
    "duration": 10,
    "start_time": "2022-10-13T08:56:42.120Z"
   },
   {
    "duration": 29,
    "start_time": "2022-10-13T08:56:42.132Z"
   },
   {
    "duration": 77,
    "start_time": "2022-10-13T08:56:42.166Z"
   },
   {
    "duration": 63,
    "start_time": "2022-10-13T08:56:42.245Z"
   },
   {
    "duration": 204,
    "start_time": "2022-10-13T08:56:42.310Z"
   },
   {
    "duration": 17,
    "start_time": "2022-10-13T08:56:42.515Z"
   },
   {
    "duration": 7,
    "start_time": "2022-10-13T08:56:42.536Z"
   },
   {
    "duration": 14,
    "start_time": "2022-10-13T08:56:42.545Z"
   },
   {
    "duration": 50,
    "start_time": "2022-10-13T08:56:42.561Z"
   },
   {
    "duration": 8,
    "start_time": "2022-10-13T08:56:42.613Z"
   },
   {
    "duration": 17,
    "start_time": "2022-10-13T08:56:42.623Z"
   },
   {
    "duration": 11,
    "start_time": "2022-10-13T08:56:42.642Z"
   },
   {
    "duration": 6,
    "start_time": "2022-10-13T08:56:42.654Z"
   },
   {
    "duration": 156,
    "start_time": "2022-10-13T08:56:42.662Z"
   },
   {
    "duration": 6,
    "start_time": "2022-10-13T08:56:42.820Z"
   },
   {
    "duration": 18,
    "start_time": "2022-10-13T08:56:42.828Z"
   },
   {
    "duration": 25,
    "start_time": "2022-10-13T08:56:42.848Z"
   },
   {
    "duration": 26,
    "start_time": "2022-10-13T08:56:42.876Z"
   },
   {
    "duration": 7,
    "start_time": "2022-10-13T08:56:42.903Z"
   },
   {
    "duration": 315,
    "start_time": "2022-10-13T08:56:42.911Z"
   },
   {
    "duration": 3,
    "start_time": "2022-10-13T08:56:43.228Z"
   },
   {
    "duration": 184,
    "start_time": "2022-10-13T08:56:43.232Z"
   },
   {
    "duration": 822,
    "start_time": "2022-10-13T08:56:43.417Z"
   },
   {
    "duration": 5,
    "start_time": "2022-10-13T08:56:44.241Z"
   },
   {
    "duration": 120,
    "start_time": "2022-10-13T08:56:44.247Z"
   },
   {
    "duration": 38,
    "start_time": "2022-10-13T08:56:44.369Z"
   },
   {
    "duration": 38,
    "start_time": "2022-10-13T08:56:44.408Z"
   },
   {
    "duration": 13,
    "start_time": "2022-10-13T08:56:44.448Z"
   },
   {
    "duration": 34,
    "start_time": "2022-10-13T08:56:44.462Z"
   },
   {
    "duration": 227,
    "start_time": "2022-10-13T08:56:44.497Z"
   },
   {
    "duration": 5,
    "start_time": "2022-10-13T08:56:44.725Z"
   },
   {
    "duration": 242,
    "start_time": "2022-10-13T08:56:44.731Z"
   },
   {
    "duration": 5,
    "start_time": "2022-10-13T08:56:44.974Z"
   },
   {
    "duration": 145,
    "start_time": "2022-10-13T08:56:44.980Z"
   },
   {
    "duration": 11,
    "start_time": "2022-10-13T08:56:45.127Z"
   },
   {
    "duration": 29,
    "start_time": "2022-10-13T08:56:45.139Z"
   },
   {
    "duration": 10,
    "start_time": "2022-10-13T08:56:45.170Z"
   },
   {
    "duration": 5,
    "start_time": "2022-10-13T08:56:45.195Z"
   },
   {
    "duration": 2824,
    "start_time": "2022-10-13T08:58:00.800Z"
   },
   {
    "duration": 12,
    "start_time": "2022-10-13T08:58:03.627Z"
   },
   {
    "duration": 50,
    "start_time": "2022-10-13T08:58:03.640Z"
   },
   {
    "duration": 1174,
    "start_time": "2022-10-13T08:58:03.692Z"
   },
   {
    "duration": 501,
    "start_time": "2022-10-13T08:58:04.870Z"
   },
   {
    "duration": 708,
    "start_time": "2022-10-13T08:58:05.375Z"
   },
   {
    "duration": 31,
    "start_time": "2022-10-13T08:58:06.085Z"
   },
   {
    "duration": 30,
    "start_time": "2022-10-13T08:58:06.118Z"
   },
   {
    "duration": 79,
    "start_time": "2022-10-13T08:58:06.150Z"
   },
   {
    "duration": 70,
    "start_time": "2022-10-13T08:58:06.231Z"
   },
   {
    "duration": 67,
    "start_time": "2022-10-13T08:58:06.303Z"
   },
   {
    "duration": 7,
    "start_time": "2022-10-13T08:58:06.396Z"
   },
   {
    "duration": 12,
    "start_time": "2022-10-13T08:58:06.405Z"
   },
   {
    "duration": 28,
    "start_time": "2022-10-13T08:58:06.421Z"
   },
   {
    "duration": 5,
    "start_time": "2022-10-13T08:58:06.450Z"
   },
   {
    "duration": 6,
    "start_time": "2022-10-13T08:58:06.457Z"
   },
   {
    "duration": 658,
    "start_time": "2022-10-13T08:58:06.495Z"
   },
   {
    "duration": 82,
    "start_time": "2022-10-13T08:58:07.155Z"
   },
   {
    "duration": 86,
    "start_time": "2022-10-13T08:58:07.239Z"
   },
   {
    "duration": 201,
    "start_time": "2022-10-13T08:58:07.327Z"
   },
   {
    "duration": 7,
    "start_time": "2022-10-13T08:58:07.530Z"
   },
   {
    "duration": 14,
    "start_time": "2022-10-13T08:58:07.538Z"
   },
   {
    "duration": 10,
    "start_time": "2022-10-13T08:58:07.554Z"
   },
   {
    "duration": 137,
    "start_time": "2022-10-13T08:58:07.567Z"
   },
   {
    "duration": 61,
    "start_time": "2022-10-13T08:58:07.705Z"
   },
   {
    "duration": 251,
    "start_time": "2022-10-13T08:58:07.768Z"
   },
   {
    "duration": 23,
    "start_time": "2022-10-13T08:58:08.021Z"
   },
   {
    "duration": 40,
    "start_time": "2022-10-13T08:58:08.048Z"
   },
   {
    "duration": 73,
    "start_time": "2022-10-13T08:58:08.089Z"
   },
   {
    "duration": 66,
    "start_time": "2022-10-13T08:58:08.164Z"
   },
   {
    "duration": 50,
    "start_time": "2022-10-13T08:58:08.231Z"
   },
   {
    "duration": 44,
    "start_time": "2022-10-13T08:58:08.283Z"
   },
   {
    "duration": 70,
    "start_time": "2022-10-13T08:58:08.330Z"
   },
   {
    "duration": 38,
    "start_time": "2022-10-13T08:58:08.401Z"
   },
   {
    "duration": 145,
    "start_time": "2022-10-13T08:58:08.441Z"
   },
   {
    "duration": 9,
    "start_time": "2022-10-13T08:58:08.587Z"
   },
   {
    "duration": 55,
    "start_time": "2022-10-13T08:58:08.597Z"
   },
   {
    "duration": 52,
    "start_time": "2022-10-13T08:58:08.654Z"
   },
   {
    "duration": 67,
    "start_time": "2022-10-13T08:58:08.708Z"
   },
   {
    "duration": 36,
    "start_time": "2022-10-13T08:58:08.777Z"
   },
   {
    "duration": 385,
    "start_time": "2022-10-13T08:58:08.817Z"
   },
   {
    "duration": 4,
    "start_time": "2022-10-13T08:58:09.204Z"
   },
   {
    "duration": 191,
    "start_time": "2022-10-13T08:58:09.209Z"
   },
   {
    "duration": 840,
    "start_time": "2022-10-13T08:58:09.402Z"
   },
   {
    "duration": 5,
    "start_time": "2022-10-13T08:58:10.244Z"
   },
   {
    "duration": 159,
    "start_time": "2022-10-13T08:58:10.251Z"
   },
   {
    "duration": 15,
    "start_time": "2022-10-13T08:58:10.412Z"
   },
   {
    "duration": 69,
    "start_time": "2022-10-13T08:58:10.428Z"
   },
   {
    "duration": 13,
    "start_time": "2022-10-13T08:58:10.499Z"
   },
   {
    "duration": 47,
    "start_time": "2022-10-13T08:58:10.514Z"
   },
   {
    "duration": 342,
    "start_time": "2022-10-13T08:58:10.563Z"
   },
   {
    "duration": 4,
    "start_time": "2022-10-13T08:58:10.907Z"
   },
   {
    "duration": 299,
    "start_time": "2022-10-13T08:58:10.913Z"
   },
   {
    "duration": 6,
    "start_time": "2022-10-13T08:58:11.214Z"
   },
   {
    "duration": 296,
    "start_time": "2022-10-13T08:58:11.223Z"
   },
   {
    "duration": 15,
    "start_time": "2022-10-13T08:58:11.522Z"
   },
   {
    "duration": 60,
    "start_time": "2022-10-13T08:58:11.540Z"
   },
   {
    "duration": 61,
    "start_time": "2022-10-13T08:58:11.602Z"
   },
   {
    "duration": 57,
    "start_time": "2022-10-13T08:58:11.664Z"
   }
  ],
  "hide_input": false,
  "kernelspec": {
   "display_name": "Python 3 (ipykernel)",
   "language": "python",
   "name": "python3"
  },
  "language_info": {
   "codemirror_mode": {
    "name": "ipython",
    "version": 3
   },
   "file_extension": ".py",
   "mimetype": "text/x-python",
   "name": "python",
   "nbconvert_exporter": "python",
   "pygments_lexer": "ipython3",
   "version": "3.9.13"
  },
  "toc": {
   "base_numbering": 1,
   "nav_menu": {},
   "number_sections": false,
   "sideBar": true,
   "skip_h1_title": false,
   "title_cell": "Table of Contents",
   "title_sidebar": "Contents",
   "toc_cell": false,
   "toc_position": {
    "height": "calc(100% - 180px)",
    "left": "10px",
    "top": "150px",
    "width": "337px"
   },
   "toc_section_display": true,
   "toc_window_display": false
  },
  "varInspector": {
   "cols": {
    "lenName": "40",
    "lenType": 16,
    "lenVar": "16"
   },
   "kernels_config": {
    "python": {
     "delete_cmd_postfix": "",
     "delete_cmd_prefix": "del ",
     "library": "var_list.py",
     "varRefreshCmd": "print(var_dic_list())"
    },
    "r": {
     "delete_cmd_postfix": ") ",
     "delete_cmd_prefix": "rm(",
     "library": "var_list.r",
     "varRefreshCmd": "cat(var_dic_list()) "
    }
   },
   "types_to_exclude": [
    "module",
    "function",
    "builtin_function_or_method",
    "instance",
    "_Feature"
   ],
   "window_display": false
  }
 },
 "nbformat": 4,
 "nbformat_minor": 5
}
