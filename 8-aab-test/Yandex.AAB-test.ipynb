{
 "cells": [
  {
   "cell_type": "markdown",
   "id": "c21da5cf",
   "metadata": {},
   "source": [
    "# Анализ результатов A/A/B-тестирования\n",
    "\n",
    "Данное исследование представляет собой анализ результатов эксперимента, целью которого было проверить, не скажется ли смена шрифтов в приложении негативно на активности пользователей. Эксперимент проводился на базе A/A/B-тестирования.\n",
    "\n",
    "**Структура данных:**\n",
    "\n",
    "Данные о результатах A/A/B эксперимента хранятся в файле `logs_exp.csv`:\n",
    "\n",
    "* `EventName` – название события\n",
    "\n",
    "\n",
    "* `DeviceIDHash` – уникальный идентификатор пользователя\n",
    "\n",
    "\n",
    "* `EventTimestamp` – Unix-время\n",
    "\n",
    "\n",
    "* `ExpId` – номер эксперимента: 246 и 247 - контрольные группы, 248 - экспериментальная\n",
    "\n",
    "\n",
    "**План:**\n",
    "\n",
    "<div class=\"toc\">\n",
    "   <ul class=\"toc-item\">\n",
    "      <li><span><a href=\"#Setup\" data-toc-modified-id=\"Setup-2\">Setup</a></span></li>\n",
    "      <li>\n",
    "         <span><a href=\"#Предобработка-данных\" data-toc-modified-id=\"Предобработка-данных-3\">Предобработка данных</a></span>\n",
    "         <ul class=\"toc-item\">\n",
    "            <li><span><a href=\"#Преобразование-типов-столбцов\" data-toc-modified-id=\"Преобразование-типов-столбцов-3.1\">Преобразование типов столбцов</a></span></li>\n",
    "            <li><span><a href=\"#Удаление-дубликатов\" data-toc-modified-id=\"Удаление-дубликатов-3.2\">Удаление дубликатов</a></span></li>\n",
    "            <li><span><a href=\"#Удаление-неполных-данных\" data-toc-modified-id=\"Удаление-неполных-данных-3.3\">Удаление неполных данных</a></span></li>\n",
    "         </ul>\n",
    "      </li>\n",
    "      <li>\n",
    "         <span><a href=\"#Анализ-результатов-эксперимента\" data-toc-modified-id=\"Анализ-результатов-эксперимента-4\">Анализ результатов эксперимента</a></span>\n",
    "         <ul class=\"toc-item\">\n",
    "            <li><span><a href=\"#Воронки-событий\" data-toc-modified-id=\"Воронки-событий-4.1\">Воронки событий</a></span></li>\n",
    "            <li><span><a href=\"#Количество-событий-на-пользователя\" data-toc-modified-id=\"Количество-событий-на-пользователя-4.2\">Количество событий на пользователя</a></span></li>\n",
    "         </ul>\n",
    "      </li>\n",
    "      <li><span><a href=\"#Итоги\" data-toc-modified-id=\"Итоги-5\">Итоги</a></span></li>\n",
    "   </ul>\n",
    "</div>"
   ]
  },
  {
   "cell_type": "markdown",
   "id": "33202b9b",
   "metadata": {},
   "source": [
    "# Setup"
   ]
  },
  {
   "cell_type": "markdown",
   "id": "4d23b0e9",
   "metadata": {},
   "source": [
    "Для того чтобы писать меньше кода, я импортирую [свои собственные шаблоны](https://gist.github.com/rusmux/a74e5060a470f45e0f2d52b2484a1ecf) для plotly."
   ]
  },
  {
   "cell_type": "code",
   "execution_count": null,
   "id": "7e8b7943",
   "metadata": {
    "ExecuteTime": {
     "end_time": "2022-10-17T22:58:42.648837Z",
     "start_time": "2022-10-17T22:58:42.628713Z"
    }
   },
   "outputs": [],
   "source": [
    "%%bash\n",
    "if ! test -f \"custom_plotly_templates.py\"; then\n",
    "    wget https://gist.github.com/rusmux/a74e5060a470f45e0f2d52b2484a1ecf/raw/369401538ba9f7909b4342288044adfedcbfe1aa/custom_plotly_templates.py &> /dev/null\n",
    "    echo \"Successfully downloaded custom plotly templates.\"\n",
    "fi"
   ]
  },
  {
   "cell_type": "code",
   "execution_count": null,
   "id": "6d8c375a",
   "metadata": {
    "ExecuteTime": {
     "end_time": "2022-10-17T22:58:43.166299Z",
     "start_time": "2022-10-17T22:58:42.651071Z"
    }
   },
   "outputs": [],
   "source": [
    "import re\n",
    "\n",
    "import ipywidgets as widgets\n",
    "\n",
    "import pandas as pd\n",
    "\n",
    "import plotly.express as px\n",
    "import plotly.graph_objects as go\n",
    "import plotly.io as pio\n",
    "from plotly.subplots import make_subplots\n",
    "\n",
    "from scipy import stats\n",
    "\n",
    "import custom_plotly_templates\n",
    "from custom_plotly_templates import show_config"
   ]
  },
  {
   "cell_type": "code",
   "execution_count": null,
   "id": "d98830c2",
   "metadata": {
    "ExecuteTime": {
     "end_time": "2022-10-17T22:58:43.170412Z",
     "start_time": "2022-10-17T22:58:43.167478Z"
    }
   },
   "outputs": [],
   "source": [
    "pd.set_option(\"display.float_format\", \"{:.2f}\".format)"
   ]
  },
  {
   "cell_type": "code",
   "execution_count": null,
   "id": "95357aee",
   "metadata": {
    "ExecuteTime": {
     "end_time": "2022-10-17T22:58:43.459878Z",
     "start_time": "2022-10-17T22:58:43.172999Z"
    }
   },
   "outputs": [],
   "source": [
    "pio.templates.default = \"plotly_white+custom_white\"\n",
    "pio.renderers[\"notebook\"].config.update(show_config)"
   ]
  },
  {
   "cell_type": "markdown",
   "id": "493811f0",
   "metadata": {},
   "source": [
    "# Предобработка данных"
   ]
  },
  {
   "cell_type": "code",
   "execution_count": null,
   "id": "2bc90398",
   "metadata": {
    "ExecuteTime": {
     "end_time": "2022-10-17T22:58:43.560477Z",
     "start_time": "2022-10-17T22:58:43.461216Z"
    }
   },
   "outputs": [],
   "source": [
    "data = pd.read_csv(\"logs_exp.csv\", sep=\"\\t\")\n",
    "data"
   ]
  },
  {
   "cell_type": "markdown",
   "id": "f2fa9d5c",
   "metadata": {},
   "source": [
    "Сначала приведем названия столбцов к snake стилю."
   ]
  },
  {
   "cell_type": "code",
   "execution_count": null,
   "id": "18741026",
   "metadata": {
    "ExecuteTime": {
     "end_time": "2022-10-17T22:58:43.564548Z",
     "start_time": "2022-10-17T22:58:43.561814Z"
    }
   },
   "outputs": [],
   "source": [
    "from_pascal_to_snake = lambda name: \"_\".join(re.findall(\"[A-Z][^A-Z]*\", name)).lower()\n",
    "columns = list(map(from_pascal_to_snake, data.columns))\n",
    "columns[1] = \"device_id_hash\"  # device_i_d_hash\n",
    "data.columns = columns"
   ]
  },
  {
   "cell_type": "code",
   "execution_count": null,
   "id": "88d2a546",
   "metadata": {
    "ExecuteTime": {
     "end_time": "2022-10-17T22:58:43.617110Z",
     "start_time": "2022-10-17T22:58:43.565807Z"
    }
   },
   "outputs": [],
   "source": [
    "data.info(memory_usage=\"deep\")"
   ]
  },
  {
   "cell_type": "markdown",
   "id": "2cc0c962",
   "metadata": {},
   "source": [
    "Явных пропусков нет. Проверим на неявные."
   ]
  },
  {
   "cell_type": "code",
   "execution_count": null,
   "id": "fc096b8a",
   "metadata": {
    "ExecuteTime": {
     "end_time": "2022-10-17T22:58:43.692255Z",
     "start_time": "2022-10-17T22:58:43.618388Z"
    }
   },
   "outputs": [],
   "source": [
    "data.isin([0, \"\", \" \", \"None\"]).sum()"
   ]
  },
  {
   "cell_type": "markdown",
   "id": "d71d2cae",
   "metadata": {
    "ExecuteTime": {
     "end_time": "2022-08-09T09:46:32.531969Z",
     "start_time": "2022-08-09T09:46:32.524239Z"
    }
   },
   "source": [
    "Неявных пропусков тоже нет. Преобразуем типы столбцов."
   ]
  },
  {
   "cell_type": "markdown",
   "id": "182b6f60",
   "metadata": {
    "ExecuteTime": {
     "end_time": "2022-08-09T10:34:37.718946Z",
     "start_time": "2022-08-09T10:34:37.716306Z"
    }
   },
   "source": [
    "## Преобразование типов столбцов"
   ]
  },
  {
   "cell_type": "code",
   "execution_count": null,
   "id": "f726978a",
   "metadata": {
    "ExecuteTime": {
     "end_time": "2022-10-17T22:58:43.698812Z",
     "start_time": "2022-10-17T22:58:43.693613Z"
    }
   },
   "outputs": [],
   "source": [
    "data[\"device_id_hash\"].nunique()"
   ]
  },
  {
   "cell_type": "markdown",
   "id": "9144bc62",
   "metadata": {},
   "source": [
    "Количество уникальных пользователей 7551 — значительно меньше общего числа записей, так что имеет смысл конвертировать столбец в тип `category`."
   ]
  },
  {
   "cell_type": "code",
   "execution_count": null,
   "id": "50ea5b8b",
   "metadata": {
    "ExecuteTime": {
     "end_time": "2022-10-17T22:58:43.709954Z",
     "start_time": "2022-10-17T22:58:43.702573Z"
    }
   },
   "outputs": [],
   "source": [
    "data[\"device_id_hash\"] = pd.Categorical(data[\"device_id_hash\"])"
   ]
  },
  {
   "cell_type": "code",
   "execution_count": null,
   "id": "c933702d",
   "metadata": {
    "ExecuteTime": {
     "end_time": "2022-10-17T22:58:43.727217Z",
     "start_time": "2022-10-17T22:58:43.711074Z"
    }
   },
   "outputs": [],
   "source": [
    "data[\"event_name\"].unique().tolist()"
   ]
  },
  {
   "cell_type": "markdown",
   "id": "264b0c55",
   "metadata": {
    "ExecuteTime": {
     "end_time": "2022-08-09T10:30:10.858001Z",
     "start_time": "2022-08-09T10:30:10.852726Z"
    }
   },
   "source": [
    "Различных событий всего 5, так что тоже сконвертируем в тип `category` и приведем к snake стилю."
   ]
  },
  {
   "cell_type": "code",
   "execution_count": null,
   "id": "c303ce6f",
   "metadata": {
    "ExecuteTime": {
     "end_time": "2022-10-17T22:58:44.051904Z",
     "start_time": "2022-10-17T22:58:43.728446Z"
    }
   },
   "outputs": [],
   "source": [
    "data[\"event_name\"] = pd.Categorical(data[\"event_name\"].apply(from_pascal_to_snake))"
   ]
  },
  {
   "cell_type": "code",
   "execution_count": null,
   "id": "9b32d6ef",
   "metadata": {
    "ExecuteTime": {
     "end_time": "2022-10-17T22:58:44.056818Z",
     "start_time": "2022-10-17T22:58:44.053141Z"
    }
   },
   "outputs": [],
   "source": [
    "data[\"exp_id\"].unique().tolist()"
   ]
  },
  {
   "cell_type": "markdown",
   "id": "308b282b",
   "metadata": {
    "ExecuteTime": {
     "end_time": "2022-08-09T10:31:26.938684Z",
     "start_time": "2022-08-09T10:31:26.934093Z"
    }
   },
   "source": [
    "Присвоим экспериментам 246 и 247 группы A1 и A2 соответственно, а эксперименту 248 группу B. Сохраним идентификаторы экспериментов и соответствующие им группы в отдельной таблице."
   ]
  },
  {
   "cell_type": "code",
   "execution_count": null,
   "id": "76669833",
   "metadata": {
    "ExecuteTime": {
     "end_time": "2022-10-17T22:58:44.062452Z",
     "start_time": "2022-10-17T22:58:44.057909Z"
    }
   },
   "outputs": [],
   "source": [
    "group_exp_ids = pd.DataFrame({\"group\": [\"A1\", \"A2\", \"B\"]}, index=pd.Index([246, 247, 248], name=\"exp_id\"))\n",
    "group_exp_ids"
   ]
  },
  {
   "cell_type": "code",
   "execution_count": null,
   "id": "26c44b1d",
   "metadata": {
    "ExecuteTime": {
     "end_time": "2022-10-17T22:58:44.101369Z",
     "start_time": "2022-10-17T22:58:44.063759Z"
    }
   },
   "outputs": [],
   "source": [
    "data = data.merge(group_exp_ids, right_index=True, left_on=\"exp_id\").drop(\"exp_id\", axis=1)\n",
    "data[\"group\"] = data[\"group\"].astype(\"category\")"
   ]
  },
  {
   "cell_type": "markdown",
   "id": "ce88bcdd",
   "metadata": {},
   "source": [
    "Переведем столбец `event_timestamp` из секунд в формат даты и времени."
   ]
  },
  {
   "cell_type": "code",
   "execution_count": null,
   "id": "58a5664a",
   "metadata": {
    "ExecuteTime": {
     "end_time": "2022-10-17T22:58:44.109018Z",
     "start_time": "2022-10-17T22:58:44.102574Z"
    }
   },
   "outputs": [],
   "source": [
    "data[\"event_dt\"] = pd.to_datetime(data[\"event_timestamp\"], unit=\"s\")\n",
    "data.drop(\"event_timestamp\", axis=1, inplace=True)"
   ]
  },
  {
   "cell_type": "code",
   "execution_count": null,
   "id": "7ab13527",
   "metadata": {
    "ExecuteTime": {
     "end_time": "2022-10-17T22:58:44.168137Z",
     "start_time": "2022-10-17T22:58:44.110272Z"
    }
   },
   "outputs": [],
   "source": [
    "data.sample(5)"
   ]
  },
  {
   "cell_type": "code",
   "execution_count": null,
   "id": "fc99055f",
   "metadata": {
    "ExecuteTime": {
     "end_time": "2022-10-17T22:58:44.176688Z",
     "start_time": "2022-10-17T22:58:44.169514Z"
    }
   },
   "outputs": [],
   "source": [
    "data.info(memory_usage=\"deep\")"
   ]
  },
  {
   "cell_type": "markdown",
   "id": "8f96526a",
   "metadata": {
    "ExecuteTime": {
     "end_time": "2022-08-09T10:41:18.765873Z",
     "start_time": "2022-08-09T10:41:18.761171Z"
    }
   },
   "source": [
    "В результате преобразований количество потребляемой памяти снизилось в ~4.5 раза."
   ]
  },
  {
   "cell_type": "markdown",
   "id": "52a19346",
   "metadata": {},
   "source": [
    "## Удаление дубликатов"
   ]
  },
  {
   "cell_type": "markdown",
   "id": "b6c4e538",
   "metadata": {
    "ExecuteTime": {
     "end_time": "2022-08-09T10:36:41.966920Z",
     "start_time": "2022-08-09T10:36:41.963004Z"
    }
   },
   "source": [
    "Проверим данные на наличие дубликатов."
   ]
  },
  {
   "cell_type": "code",
   "execution_count": null,
   "id": "69d27ceb",
   "metadata": {
    "ExecuteTime": {
     "end_time": "2022-10-17T22:58:44.223431Z",
     "start_time": "2022-10-17T22:58:44.178166Z"
    }
   },
   "outputs": [],
   "source": [
    "print(\"Количество дубликатов:\", data.duplicated().sum())\n",
    "data[data.duplicated(keep=False)]"
   ]
  },
  {
   "cell_type": "markdown",
   "id": "af2c5a9e",
   "metadata": {},
   "source": [
    "В данных присутствует 413 полных дубликатов. Вероятно, это ошибка логирования. Удалим их."
   ]
  },
  {
   "cell_type": "code",
   "execution_count": null,
   "id": "0b150875",
   "metadata": {
    "ExecuteTime": {
     "end_time": "2022-10-17T22:58:44.248169Z",
     "start_time": "2022-10-17T22:58:44.225113Z"
    }
   },
   "outputs": [],
   "source": [
    "data.drop_duplicates(inplace=True)"
   ]
  },
  {
   "cell_type": "markdown",
   "id": "b4cbea81",
   "metadata": {},
   "source": [
    "Посмотрим на неявные дубликаты, но прежде проверим, что каждому пользователю соответствует только одна группа. Создадим словарь с id пользователя и его группой."
   ]
  },
  {
   "cell_type": "code",
   "execution_count": null,
   "id": "b589403a",
   "metadata": {
    "ExecuteTime": {
     "end_time": "2022-10-17T22:58:44.260760Z",
     "start_time": "2022-10-17T22:58:44.249277Z"
    }
   },
   "outputs": [],
   "source": [
    "user_groups = data[[\"device_id_hash\", \"group\"]].drop_duplicates().set_index(\"device_id_hash\")\n",
    "assert len(user_groups) == data[\"device_id_hash\"].nunique()"
   ]
  },
  {
   "cell_type": "markdown",
   "id": "9e3373f1",
   "metadata": {},
   "source": [
    "Да, каждому пользователю соответствует только одна группа."
   ]
  },
  {
   "cell_type": "code",
   "execution_count": null,
   "id": "0d15da32",
   "metadata": {
    "ExecuteTime": {
     "end_time": "2022-10-17T22:58:44.285562Z",
     "start_time": "2022-10-17T22:58:44.262056Z"
    }
   },
   "outputs": [],
   "source": [
    "data[data.duplicated(subset=[\"device_id_hash\", \"event_dt\"], keep=False)]"
   ]
  },
  {
   "cell_type": "markdown",
   "id": "4341ff50",
   "metadata": {
    "ExecuteTime": {
     "end_time": "2022-08-09T09:46:51.318451Z",
     "start_time": "2022-08-09T09:46:51.302415Z"
    }
   },
   "source": [
    "Неявных дубликатов гораздо больше – порядка 40 тысяч. Однако вполне возможно, что в одну секунду пользователь находился в корзине, а после оплаты его перенаправили на страницу с сообщением об успешной оплате. Так что не будем ничего удалять."
   ]
  },
  {
   "cell_type": "markdown",
   "id": "47bbae35",
   "metadata": {},
   "source": [
    "## Удаление неполных данных"
   ]
  },
  {
   "cell_type": "code",
   "execution_count": null,
   "id": "7e6ec772",
   "metadata": {
    "ExecuteTime": {
     "end_time": "2022-10-17T22:58:44.289678Z",
     "start_time": "2022-10-17T22:58:44.286826Z"
    }
   },
   "outputs": [],
   "source": [
    "event_names = [\n",
    "    \"main_screen_appear\",\n",
    "    \"offers_screen_appear\",\n",
    "    \"cart_screen_appear\",\n",
    "    \"payment_screen_successful\",\n",
    "    \"tutorial\",\n",
    "]\n",
    "\n",
    "event_names_ru = [\n",
    "    \"Главная страница\",\n",
    "    \"Предложение продукта\",\n",
    "    \"Переход в корзину\",\n",
    "    \"Успешная оплата\",\n",
    "    \"Обучение\",\n",
    "]\n",
    "\n",
    "event_names_map = dict(zip(event_names, event_names_ru))"
   ]
  },
  {
   "cell_type": "code",
   "execution_count": null,
   "id": "41d2494a",
   "metadata": {
    "ExecuteTime": {
     "end_time": "2022-10-17T22:58:44.297901Z",
     "start_time": "2022-10-17T22:58:44.290820Z"
    }
   },
   "outputs": [],
   "source": [
    "def get_event_dts_distribution(event=\"all\", group=\"all\", interactive=False):\n",
    "    def get_fig_data(event=\"all\", group=\"all\"):\n",
    "        fig_data = data\n",
    "        if event != \"all\":\n",
    "            fig_data = fig_data.query(\"event_name == @event\")\n",
    "        if group != \"all\":\n",
    "            if group == \"A общая\":\n",
    "                fig_data = fig_data.query(\"group in ['A1', 'A2']\")\n",
    "            else:\n",
    "                fig_data = fig_data.query(\"group == @group\")\n",
    "        return fig_data\n",
    "\n",
    "    fig_data = get_fig_data(event, group)\n",
    "    fig = px.histogram(fig_data, x=\"event_dt\", nbins=400)\n",
    "\n",
    "    fig.update_layout(\n",
    "        title=\"Количество событий в зависимости от даты\",\n",
    "        xaxis_title=None,\n",
    "        yaxis_title=None,\n",
    "        xaxis_showgrid=True,\n",
    "        yaxis_showgrid=True,\n",
    "        xaxis_linecolor=\"black\",\n",
    "        yaxis_linecolor=\"black\",\n",
    "        xaxis_rangeslider_visible=True,\n",
    "        xaxis_range=(data[\"event_dt\"].min(), data[\"event_dt\"].max()),\n",
    "        yaxis_range=(0, 3000),\n",
    "        height=550,\n",
    "        margin=dict(t=70),\n",
    "    )\n",
    "\n",
    "    if interactive:\n",
    "\n",
    "        fig = go.FigureWidget(fig)\n",
    "\n",
    "        def update(event, group):\n",
    "            fig_data = get_fig_data(event, group)\n",
    "\n",
    "            with fig.batch_update():\n",
    "                fig.data[0].x = fig_data[\"event_dt\"]\n",
    "\n",
    "        event_options = [(\"Все\", \"all\"), *list(zip(event_names_ru, event_names))]\n",
    "        event_widget = widgets.Dropdown(options=event_options, value=event, description=\" событие\")\n",
    "        group_widget = widgets.Dropdown(\n",
    "            options=[(\"Все\", \"all\"), (\"A1\",) * 2, (\"A2\",) * 2, (\"A общая\",) * 2, (\"B\",) * 2],\n",
    "            value=group,\n",
    "            description=\"группа\",\n",
    "        )\n",
    "        widgets.interactive_output(update, dict(event=event_widget, group=group_widget))\n",
    "\n",
    "        ui = widgets.HBox([event_widget, group_widget], layout=widgets.Layout(margin=\"10px 0px 0px 0px\"))\n",
    "        display(ui)\n",
    "\n",
    "    return fig"
   ]
  },
  {
   "cell_type": "code",
   "execution_count": null,
   "id": "1971075e",
   "metadata": {
    "ExecuteTime": {
     "end_time": "2022-10-17T22:58:51.109831Z",
     "start_time": "2022-10-17T22:58:44.299422Z"
    },
    "scrolled": false
   },
   "outputs": [],
   "source": [
    "get_event_dts_distribution(interactive=True)"
   ]
  },
  {
   "cell_type": "code",
   "execution_count": null,
   "id": "74d09e0c",
   "metadata": {
    "ExecuteTime": {
     "end_time": "2022-10-17T22:58:51.116555Z",
     "start_time": "2022-10-17T22:58:51.111652Z"
    }
   },
   "outputs": [],
   "source": [
    "print(\"From:\", data[\"event_dt\"].min().strftime(\"%X, %b %d, %Y\"))\n",
    "print(\"To:  \", data[\"event_dt\"].max().strftime(\"%X, %b %d, %Y\"))"
   ]
  },
  {
   "cell_type": "markdown",
   "id": "6085a4d3",
   "metadata": {},
   "source": [
    "Данные с конца июля по начало августа 2019 года, но высокая пользовательская активность началась только с августа, вероятно, там просто неполные данные. Возможно, эксперимент начали в конце июля, и неделю уделили на проверку, что логирование работает правильно. После окончания проверки, уже начали логировать полностью, но некоторые июльские события пришли с задержкой и оказались в рабочем логировании. В любом случае удалим их. События идут волнами, циклично, потому что ночью мало кто заходит на сайт. Распределения не отличаются для различных событий и групп."
   ]
  },
  {
   "cell_type": "code",
   "execution_count": null,
   "id": "1d15915a",
   "metadata": {
    "ExecuteTime": {
     "end_time": "2022-10-17T22:58:51.130664Z",
     "start_time": "2022-10-17T22:58:51.117819Z"
    }
   },
   "outputs": [],
   "source": [
    "len_before = len(data)\n",
    "data = data.query(\"event_dt >= '2019-08-01 00:00:00'\")\n",
    "print(\"Минимальные дата и время:\", data[\"event_dt\"].min().strftime(\"%X, %b %d, %Y\"))"
   ]
  },
  {
   "cell_type": "code",
   "execution_count": null,
   "id": "3b5d9d6e",
   "metadata": {
    "ExecuteTime": {
     "end_time": "2022-10-17T22:58:51.142546Z",
     "start_time": "2022-10-17T22:58:51.139355Z"
    }
   },
   "outputs": [],
   "source": [
    "print(f\"Потеря данных: {1 - len(data) / len_before:.2%}\")"
   ]
  },
  {
   "cell_type": "code",
   "execution_count": null,
   "id": "d7cae6de",
   "metadata": {
    "ExecuteTime": {
     "end_time": "2022-10-17T22:58:51.149188Z",
     "start_time": "2022-10-17T22:58:51.144073Z"
    }
   },
   "outputs": [],
   "source": [
    "data[\"device_id_hash\"].nunique()"
   ]
  },
  {
   "cell_type": "markdown",
   "id": "a395b3aa",
   "metadata": {
    "ExecuteTime": {
     "end_time": "2022-08-14T11:43:38.042729Z",
     "start_time": "2022-08-14T11:43:38.033972Z"
    }
   },
   "source": [
    "После удаления неполных данных, количество пользователей сократилось на 17. Однако эти пользователи все равно входят в группы, так что не будем их удалять, хоть у них и нет событий в августе."
   ]
  },
  {
   "cell_type": "code",
   "execution_count": null,
   "id": "e7dee700",
   "metadata": {
    "ExecuteTime": {
     "end_time": "2022-10-17T22:58:51.153877Z",
     "start_time": "2022-10-17T22:58:51.150353Z"
    }
   },
   "outputs": [],
   "source": [
    "print(f\"Потеря пользователей: {17/7551:.2%}\")"
   ]
  },
  {
   "cell_type": "markdown",
   "id": "8fe116d7",
   "metadata": {},
   "source": [
    "## Результаты предобработки"
   ]
  },
  {
   "cell_type": "markdown",
   "id": "9b3843a9",
   "metadata": {},
   "source": [
    "Был дан протокол A/A/B-эксперимента за промежуток времени с 25 июля по 7 августа 2019 года. Для удобства работы и уменьшения потребления памяти, столбцы были преобразованы в другие типы данных. Были удалены дублирующие друг друга записи, а также отброшены неполные данные за июль. Потеря данных составила 1.16%, а потеря пользователей — 0.23%."
   ]
  },
  {
   "cell_type": "markdown",
   "id": "b3ec13f5",
   "metadata": {},
   "source": [
    "# Анализ результатов эксперимента"
   ]
  },
  {
   "cell_type": "code",
   "execution_count": null,
   "id": "fd535ddc",
   "metadata": {
    "ExecuteTime": {
     "end_time": "2022-10-17T22:58:51.166232Z",
     "start_time": "2022-10-17T22:58:51.155569Z"
    }
   },
   "outputs": [],
   "source": [
    "data"
   ]
  },
  {
   "cell_type": "code",
   "execution_count": null,
   "id": "7c4a25a1",
   "metadata": {
    "ExecuteTime": {
     "end_time": "2022-10-17T22:58:51.176898Z",
     "start_time": "2022-10-17T22:58:51.167598Z"
    }
   },
   "outputs": [],
   "source": [
    "data.info()"
   ]
  },
  {
   "cell_type": "code",
   "execution_count": null,
   "id": "6145d3c8",
   "metadata": {
    "ExecuteTime": {
     "end_time": "2022-10-17T22:58:51.182549Z",
     "start_time": "2022-10-17T22:58:51.179355Z"
    }
   },
   "outputs": [],
   "source": [
    "def get_event_names_distribution():\n",
    "    fig = px.histogram(\n",
    "        y=data[\"event_name\"].map(event_names_map).str.capitalize(), text_auto=\".2p\", histnorm=\"probability\"\n",
    "    )\n",
    "\n",
    "    fig.update_layout(\n",
    "        title=\"Распределение событий в данных\",\n",
    "        title_x=0.5,\n",
    "        title_y=0.94,\n",
    "        margin_t=80,\n",
    "        xaxis_title=None,\n",
    "        yaxis_title=None,\n",
    "        xaxis_showticklabels=False,\n",
    "        yaxis_linecolor=\"black\",\n",
    "        yaxis_categoryorder=\"total ascending\",\n",
    "    )\n",
    "\n",
    "    return fig"
   ]
  },
  {
   "cell_type": "code",
   "execution_count": null,
   "id": "46416ac1",
   "metadata": {
    "ExecuteTime": {
     "end_time": "2022-10-17T22:58:52.779820Z",
     "start_time": "2022-10-17T22:58:51.184405Z"
    }
   },
   "outputs": [],
   "source": [
    "get_event_names_distribution()"
   ]
  },
  {
   "cell_type": "markdown",
   "id": "7e8f8fe9",
   "metadata": {
    "ExecuteTime": {
     "end_time": "2022-08-11T09:35:03.971547Z",
     "start_time": "2022-08-11T09:35:03.963988Z"
    }
   },
   "source": [
    "Событий всего 5 и половиной событий является посещение главной страницы. Обучение составляет меньше процента."
   ]
  },
  {
   "cell_type": "code",
   "execution_count": null,
   "id": "badcd8a7",
   "metadata": {
    "ExecuteTime": {
     "end_time": "2022-10-17T22:58:52.785461Z",
     "start_time": "2022-10-17T22:58:52.781484Z"
    }
   },
   "outputs": [],
   "source": [
    "def get_users_distribution():\n",
    "    fig = px.histogram(\n",
    "        user_groups,\n",
    "        x=\"group\",\n",
    "        text_auto=\".2p\",\n",
    "        histnorm=\"probability\",\n",
    "        category_orders={\"group\": [\"A1\", \"A2\", \"B\"]},\n",
    "    )\n",
    "\n",
    "    fig.update_layout(\n",
    "        title=\"Распределение пользователей по группам\",\n",
    "        title_x=0.5,\n",
    "        title_y=0.94,\n",
    "        margin_t=80,\n",
    "        xaxis_title=None,\n",
    "        yaxis_title=None,\n",
    "        xaxis_linecolor=\"black\",\n",
    "        yaxis_showticklabels=False,\n",
    "        width=600,\n",
    "        height=425,\n",
    "    )\n",
    "\n",
    "    return fig"
   ]
  },
  {
   "cell_type": "code",
   "execution_count": null,
   "id": "da57b4d1",
   "metadata": {
    "ExecuteTime": {
     "end_time": "2022-10-17T22:58:52.899958Z",
     "start_time": "2022-10-17T22:58:52.787995Z"
    }
   },
   "outputs": [],
   "source": [
    "get_users_distribution()"
   ]
  },
  {
   "cell_type": "markdown",
   "id": "e48be297",
   "metadata": {
    "ExecuteTime": {
     "end_time": "2022-08-11T09:35:43.033812Z",
     "start_time": "2022-08-11T09:35:43.027946Z"
    }
   },
   "source": [
    "Группы распределены практически одинаково. Создадим таблицу с количеством событий для каждого пользователя."
   ]
  },
  {
   "cell_type": "markdown",
   "id": "8120a8d4",
   "metadata": {},
   "source": [
    "## Воронки событий"
   ]
  },
  {
   "cell_type": "code",
   "execution_count": null,
   "id": "80b98b6e",
   "metadata": {
    "ExecuteTime": {
     "end_time": "2022-10-17T22:58:53.495130Z",
     "start_time": "2022-10-17T22:58:52.902911Z"
    }
   },
   "outputs": [],
   "source": [
    "user_events = (\n",
    "    data.pivot_table(index=\"device_id_hash\", columns=\"event_name\", values=\"event_dt\", aggfunc=len)\n",
    "    .join(user_groups, how=\"right\")\n",
    "    .fillna(0, axis=1)[event_names + [\"group\"]]\n",
    "    .apply(pd.to_numeric, downcast=\"unsigned\", errors=\"ignore\")\n",
    ")\n",
    "\n",
    "user_events"
   ]
  },
  {
   "cell_type": "code",
   "execution_count": null,
   "id": "40d2c901",
   "metadata": {
    "ExecuteTime": {
     "end_time": "2022-10-17T22:58:53.504743Z",
     "start_time": "2022-10-17T22:58:53.497102Z"
    }
   },
   "outputs": [],
   "source": [
    "data"
   ]
  },
  {
   "cell_type": "code",
   "execution_count": null,
   "id": "e17f8f31",
   "metadata": {
    "ExecuteTime": {
     "end_time": "2022-10-17T22:58:53.514207Z",
     "start_time": "2022-10-17T22:58:53.505983Z"
    }
   },
   "outputs": [],
   "source": [
    "user_events.drop(\"group\", axis=1).astype(bool).agg([\"mean\", \"sum\"]).T"
   ]
  },
  {
   "cell_type": "markdown",
   "id": "5b8743ba",
   "metadata": {
    "ExecuteTime": {
     "end_time": "2022-08-10T20:39:42.458670Z",
     "start_time": "2022-08-10T20:39:42.447299Z"
    }
   },
   "source": [
    "Не все пользователи увидели главный экран, а обучение прошли всего 840 человек — 11% всех пользователей. Главный экран могли пропустить пользователи, которые сохранили страницу с предложениями в закладки. Посмотрим на них. "
   ]
  },
  {
   "cell_type": "code",
   "execution_count": null,
   "id": "c65231f3",
   "metadata": {
    "ExecuteTime": {
     "end_time": "2022-10-17T22:58:53.524858Z",
     "start_time": "2022-10-17T22:58:53.515426Z"
    }
   },
   "outputs": [],
   "source": [
    "user_events.query(\"main_screen_appear == 0\").drop(\"group\", axis=1).astype(bool).agg([\"mean\", \"sum\"]).T"
   ]
  },
  {
   "cell_type": "markdown",
   "id": "2167fce3",
   "metadata": {},
   "source": [
    "Действительно, 74% таких пользователей совершили покупки. Так что, вероятно, они просто сохранили страницу с предложениями в закладки. Таких пользователей мало, так что не будем учитывать их при построении воронки событий. Посмотрим на тех, кто прошел туториал."
   ]
  },
  {
   "cell_type": "code",
   "execution_count": null,
   "id": "8e313b34",
   "metadata": {
    "ExecuteTime": {
     "end_time": "2022-10-17T22:58:53.537552Z",
     "start_time": "2022-10-17T22:58:53.526274Z"
    }
   },
   "outputs": [],
   "source": [
    "user_events.query(\"tutorial > 0\").drop(\"group\", axis=1).astype(bool).agg([\"mean\", \"sum\"]).T"
   ]
  },
  {
   "cell_type": "markdown",
   "id": "31db5902",
   "metadata": {},
   "source": [
    "У тех, кто прошел обучение чуть выше конверсия на каждом шаге воронки от появления главного экрана до сообщения об успешной оплаты. Однако самих людей, кто прошел это обучение относительно мало. Если предполагается, что только что пришедший пользователь должен пройти обучение, то это либо проблема с технической стороны, либо данные пользователи уже все прошли это обучение. Во всяком случае, не будем включать это событие в воронку событий."
   ]
  },
  {
   "cell_type": "code",
   "execution_count": null,
   "id": "7413044e",
   "metadata": {
    "ExecuteTime": {
     "end_time": "2022-10-17T22:58:53.560900Z",
     "start_time": "2022-10-17T22:58:53.539192Z"
    }
   },
   "outputs": [],
   "source": [
    "user_events_bool = user_events.astype(bool)\n",
    "user_events_bool[\"group\"] = user_events[\"group\"]\n",
    "\n",
    "event_funnel = (\n",
    "    user_events_bool.query(\"main_screen_appear == True\")\n",
    "    .melt(id_vars=\"group\", var_name=\"event\")\n",
    "    .pivot_table(index=\"event\", columns=\"group\", values=\"value\", aggfunc=\"sum\")\n",
    "    .loc[event_names[:-1]]\n",
    ")\n",
    "\n",
    "event_funnel"
   ]
  },
  {
   "cell_type": "code",
   "execution_count": null,
   "id": "72455cf8",
   "metadata": {
    "ExecuteTime": {
     "end_time": "2022-10-17T22:58:53.572703Z",
     "start_time": "2022-10-17T22:58:53.562440Z"
    }
   },
   "outputs": [],
   "source": [
    "def get_group_funnels(\n",
    "    event_funnel, *, value_mode=\"percent initial\", merge_A_groups=False, interactive=False, **kwargs\n",
    "):\n",
    "\n",
    "    title = kwargs.get(\"title\", \"Воронка событий по группам\")\n",
    "\n",
    "    def get_group_funnels_(\n",
    "        event_funnel,\n",
    "        *,\n",
    "        value_mode=\"percent initial\",\n",
    "        merge_A_groups=False,\n",
    "        interactive=False,\n",
    "        value_mode_widget=None,\n",
    "        **kwargs,\n",
    "    ):\n",
    "        title = kwargs.get(\"title\", \"Воронка событий по группам\")\n",
    "\n",
    "        event_funnel_ru = event_funnel.copy()\n",
    "        event_funnel_ru.index = event_funnel_ru.index.map(event_names_map).str.capitalize()\n",
    "\n",
    "        if merge_A_groups:\n",
    "            event_funnel_ru.insert(2, \"A\", event_funnel_ru[\"A1\"] + event_funnel_ru[\"A2\"])\n",
    "            event_funnel_ru.drop([\"A1\", \"A2\"], axis=1, inplace=True)\n",
    "\n",
    "        funnels = px.funnel(event_funnel_ru).data\n",
    "\n",
    "        fig = make_subplots(\n",
    "            1, len(funnels), shared_yaxes=True, column_titles=event_funnel_ru.columns.tolist()\n",
    "        )\n",
    "\n",
    "        for i, funnel in enumerate(funnels, start=1):\n",
    "            fig.add_trace(funnel, 1, i)\n",
    "\n",
    "        fig.update_layout(\n",
    "            title=title, title_x=0.55, title_y=0.96, yaxis_ticklen=10, showlegend=False, height=525\n",
    "        )\n",
    "\n",
    "        fig.update_traces(textinfo=value_mode, insidetextfont_color=\"white\")\n",
    "\n",
    "        if interactive:\n",
    "\n",
    "            fig = go.FigureWidget(fig)\n",
    "\n",
    "            def update(value_mode=\"percent initial\"):\n",
    "                with fig.batch_update():\n",
    "                    fig.update_traces(textinfo=f\"{value_mode}\")\n",
    "\n",
    "            widgets.interactive_output(update, dict(value_mode=value_mode_widget))\n",
    "\n",
    "            display(fig)\n",
    "\n",
    "        else:\n",
    "            return fig\n",
    "\n",
    "    if interactive:\n",
    "\n",
    "        value_modes = [\n",
    "            (\"Процент абсолютный\", \"percent initial\"),\n",
    "            (\"Процент относительный\", \"percent previous\"),\n",
    "            (\"Абсолютное значение\", \"value\"),\n",
    "        ]\n",
    "        value_mode_widget = widgets.Dropdown(\n",
    "            options=value_modes,\n",
    "            value=value_mode,\n",
    "            description=\"тип значения\",\n",
    "            style=dict(description_width=\"initial\"),\n",
    "        )\n",
    "\n",
    "        merge_A_groups_widget = widgets.Checkbox(\n",
    "            value=merge_A_groups,\n",
    "            description=\"объединить группы A\",\n",
    "            indent=False,\n",
    "            layout=widgets.Layout(margin=\"3px 0px 0px 20px\"),\n",
    "        )\n",
    "\n",
    "        output = widgets.interactive_output(\n",
    "            get_group_funnels_,\n",
    "            dict(\n",
    "                event_funnel=widgets.fixed(event_funnel),\n",
    "                value_mode=widgets.fixed(value_mode),\n",
    "                merge_A_groups=merge_A_groups_widget,\n",
    "                interactive=widgets.fixed(interactive),\n",
    "                value_mode_widget=widgets.fixed(value_mode_widget),\n",
    "                title=widgets.fixed(title),\n",
    "            ),\n",
    "        )\n",
    "\n",
    "        ui = widgets.HBox(\n",
    "            [value_mode_widget, merge_A_groups_widget], layout=widgets.Layout(margin=\"10px 0px 0px 20px\")\n",
    "        )\n",
    "        display(ui, output)\n",
    "\n",
    "    else:\n",
    "        fig = get_group_funnels_(event_funnel, value_mode, merge_A_groups, interactive, title=title)\n",
    "        return fig"
   ]
  },
  {
   "cell_type": "code",
   "execution_count": null,
   "id": "aaeffee1",
   "metadata": {
    "ExecuteTime": {
     "end_time": "2022-10-17T22:58:53.750296Z",
     "start_time": "2022-10-17T22:58:53.574064Z"
    }
   },
   "outputs": [],
   "source": [
    "get_group_funnels(event_funnel, interactive=True)"
   ]
  },
  {
   "cell_type": "markdown",
   "id": "99cdf4e5",
   "metadata": {
    "ExecuteTime": {
     "end_time": "2022-08-11T09:47:54.642956Z",
     "start_time": "2022-08-11T09:47:54.638677Z"
    }
   },
   "source": [
    "Воронки очень похожи между собой, и группа B не лучше/хуже контрольных групп.\n",
    "\n",
    "До успешной оплаты доходит в среднем 47% процентов всех пользователей. Самая низкая конверсия на стадии перехода с главной страницы на страницу с предложениями продукта — 62%. А если уже пользователь перешел на эту страницу, то на оставшихся этапах воронки конверсия перехода выше 80%.\n",
    "\n",
    "Проверим, есть ли статистически значимая разница между группами. Нулевой гипотезой будет, что конверсия пользователей в покупателей для групп не отличается, а альтернативной — что конверсии различны. За критический уровень p-значения примем 0.05."
   ]
  },
  {
   "cell_type": "code",
   "execution_count": null,
   "id": "3d9d29f4",
   "metadata": {
    "ExecuteTime": {
     "end_time": "2022-10-17T22:58:53.756787Z",
     "start_time": "2022-10-17T22:58:53.751425Z"
    }
   },
   "outputs": [],
   "source": [
    "def get_group_pvalues(user_events, event=None, interactive=False):\n",
    "    def get_group_pvalues_(user_events, event):\n",
    "        event_A1 = user_events.query(\"group == 'A1'\")[event]\n",
    "        event_A2 = user_events.query(\"group == 'A2'\")[event]\n",
    "        event_A = pd.concat([event_A1, event_A2])\n",
    "        event_B = user_events.query(\"group == 'B'\")[event]\n",
    "\n",
    "        print(\"P-values:\\n\")\n",
    "        print(\"A1 vs A2:\", round(stats.ttest_ind(event_A1, event_A2, equal_var=True).pvalue, 3))\n",
    "        print(\"A1 vs  B:\", round(stats.ttest_ind(event_A1, event_B).pvalue, 3))\n",
    "        print(\"A2 vs  B:\", round(stats.ttest_ind(event_A2, event_B).pvalue, 3))\n",
    "        print(\"A  vs  B:\", round(stats.ttest_ind(event_A, event_B).pvalue, 3))\n",
    "\n",
    "    if interactive:\n",
    "        if not event:\n",
    "            event = \"payment_screen_successful\"\n",
    "        event_options = list(zip(event_names_ru, event_names))\n",
    "        event_widget = widgets.Dropdown(\n",
    "            options=event_options,\n",
    "            value=event,\n",
    "            description=\"событие\",\n",
    "            layout=widgets.Layout(margin=\"10px 0px 20px 0px\"),\n",
    "        )\n",
    "        widgets.interact(get_group_pvalues_, user_events=widgets.fixed(user_events), event=event_widget)\n",
    "    else:\n",
    "        if not event:\n",
    "            raise ValueError(\"If 'interactive' is False, parameter 'event' should be provided\")\n",
    "        get_group_pvalues_(user_events, event)"
   ]
  },
  {
   "cell_type": "code",
   "execution_count": null,
   "id": "aa2317c6",
   "metadata": {
    "ExecuteTime": {
     "end_time": "2022-10-17T22:58:53.776509Z",
     "start_time": "2022-10-17T22:58:53.758334Z"
    }
   },
   "outputs": [],
   "source": [
    "from statsmodels.stats.weightstats import ztest\n",
    "\n",
    "event = \"payment_screen_successful\"\n",
    "event_A1 = user_events_bool.query(\"group == 'A1'\")[event]\n",
    "event_A2 = user_events_bool.query(\"group == 'A2'\")[event]\n",
    "event_A = pd.concat([event_A1, event_A2])\n",
    "event_B = user_events_bool.query(\"group == 'B'\")[event]\n",
    "\n",
    "print(\"P-values:\\n\")\n",
    "print(\"A1 vs A2:\", round(ztest(event_A1, event_A2)[1], 3))\n",
    "print(\"A1 vs  B:\", round(ztest(event_A1, event_B)[1], 3))\n",
    "print(\"A2 vs  B:\", round(ztest(event_A2, event_B)[1], 3))\n",
    "print(\"A  vs  B:\", round(ztest(event_A, event_B)[1], 3))"
   ]
  },
  {
   "cell_type": "code",
   "execution_count": null,
   "id": "5344f344",
   "metadata": {
    "ExecuteTime": {
     "end_time": "2022-10-17T22:58:53.799360Z",
     "start_time": "2022-10-17T22:58:53.777894Z"
    }
   },
   "outputs": [],
   "source": [
    "get_group_pvalues(user_events_bool, interactive=True)"
   ]
  },
  {
   "cell_type": "markdown",
   "id": "bb0936a7",
   "metadata": {
    "ExecuteTime": {
     "end_time": "2022-08-14T17:03:19.912289Z",
     "start_time": "2022-08-14T17:03:19.902385Z"
    }
   },
   "source": [
    "Между никакими группами нет статистически значимых различий. Посмотрим на воронку тех, кто проходил обучение."
   ]
  },
  {
   "cell_type": "code",
   "execution_count": null,
   "id": "97ccfc02",
   "metadata": {
    "ExecuteTime": {
     "end_time": "2022-10-17T22:58:53.813755Z",
     "start_time": "2022-10-17T22:58:53.800845Z"
    }
   },
   "outputs": [],
   "source": [
    "user_events_bool_tutorial = user_events.query(\"tutorial > 0\").astype(bool)\n",
    "user_events_bool_tutorial[\"group\"] = user_events[\"group\"]\n",
    "\n",
    "event_funnel_tutorial = (\n",
    "    user_events_bool_tutorial.melt(id_vars=\"group\", var_name=\"event\")\n",
    "    .pivot_table(index=\"event\", columns=\"group\", values=\"value\", aggfunc=\"sum\")\n",
    "    .loc[event_names[:-1]]\n",
    ")"
   ]
  },
  {
   "cell_type": "code",
   "execution_count": null,
   "id": "f13a4a4d",
   "metadata": {
    "ExecuteTime": {
     "end_time": "2022-10-17T22:58:53.967074Z",
     "start_time": "2022-10-17T22:58:53.814956Z"
    }
   },
   "outputs": [],
   "source": [
    "get_group_funnels(\n",
    "    event_funnel_tutorial, interactive=True, title=\"Воронка событий для тех, кто прошел обучение\"\n",
    ")"
   ]
  },
  {
   "cell_type": "markdown",
   "id": "15339710",
   "metadata": {
    "ExecuteTime": {
     "end_time": "2022-08-11T14:39:34.821184Z",
     "start_time": "2022-08-11T14:39:34.814373Z"
    }
   },
   "source": [
    "Тут конверсии у группы B чуть выше, чем у контрольных групп. Проверим, есть ли статистическая значимость у этой разницы."
   ]
  },
  {
   "cell_type": "code",
   "execution_count": null,
   "id": "aecd6d27",
   "metadata": {
    "ExecuteTime": {
     "end_time": "2022-10-17T22:58:53.990155Z",
     "start_time": "2022-10-17T22:58:53.968604Z"
    }
   },
   "outputs": [],
   "source": [
    "get_group_pvalues(user_events_bool_tutorial, interactive=True)"
   ]
  },
  {
   "cell_type": "markdown",
   "id": "16a7f425",
   "metadata": {},
   "source": [
    "С группой А2 вероятность такой разницы меньше 5%, но с группой А1 она уже составляет почти 30%. В целом с контрольными группами вероятность выше порога в 5%, так что нельзя сказать, что между группами есть статистически значимая разница."
   ]
  },
  {
   "cell_type": "code",
   "execution_count": null,
   "id": "4484f99a",
   "metadata": {
    "ExecuteTime": {
     "end_time": "2022-10-17T22:58:54.005779Z",
     "start_time": "2022-10-17T22:58:53.991731Z"
    }
   },
   "outputs": [],
   "source": [
    "user_events_bool_no_main_screen = user_events.query(\"main_screen_appear == 0\").astype(bool)\n",
    "user_events_bool_no_main_screen[\"group\"] = user_events[\"group\"]\n",
    "\n",
    "event_funnel_no_main_screen = (\n",
    "    user_events_bool_no_main_screen.melt(id_vars=\"group\", var_name=\"event\")\n",
    "    .pivot_table(index=\"event\", columns=\"group\", values=\"value\", aggfunc=\"sum\")\n",
    "    .loc[event_names[1:-1]]\n",
    ")"
   ]
  },
  {
   "cell_type": "code",
   "execution_count": null,
   "id": "984b243f",
   "metadata": {
    "ExecuteTime": {
     "end_time": "2022-10-17T22:58:54.169053Z",
     "start_time": "2022-10-17T22:58:54.007610Z"
    }
   },
   "outputs": [],
   "source": [
    "get_group_funnels(\n",
    "    event_funnel_no_main_screen,\n",
    "    interactive=True,\n",
    "    title=\"Воронка событий для тех, кто не посещал главную страницу\",\n",
    ")"
   ]
  },
  {
   "cell_type": "markdown",
   "id": "4af93ab8",
   "metadata": {},
   "source": [
    "Тут тоже есть небольшое различие между группами, но в выборках слишком мало человек, чтобы сказать, что между ними есть статистически значимая разница."
   ]
  },
  {
   "cell_type": "code",
   "execution_count": null,
   "id": "3a339b7f",
   "metadata": {
    "ExecuteTime": {
     "end_time": "2022-10-17T22:58:54.194317Z",
     "start_time": "2022-10-17T22:58:54.170813Z"
    }
   },
   "outputs": [],
   "source": [
    "get_group_pvalues(user_events_bool_no_main_screen, interactive=True)"
   ]
  },
  {
   "cell_type": "markdown",
   "id": "44a5d8a7",
   "metadata": {
    "ExecuteTime": {
     "end_time": "2022-08-11T19:10:58.227430Z",
     "start_time": "2022-08-11T19:10:58.218990Z"
    }
   },
   "source": [
    "Как и ожидалось. Посмотрим на распределение количества событий на пользователя. Ведь может быть так, что количество конвертировавшихся пользователей одинаково, но в группе B они совершают больше покупок."
   ]
  },
  {
   "cell_type": "markdown",
   "id": "986efeaf",
   "metadata": {},
   "source": [
    "## Количество событий на пользователя"
   ]
  },
  {
   "cell_type": "code",
   "execution_count": null,
   "id": "07babde4",
   "metadata": {
    "ExecuteTime": {
     "end_time": "2022-10-17T22:58:54.208073Z",
     "start_time": "2022-10-17T22:58:54.196078Z"
    }
   },
   "outputs": [],
   "source": [
    "def get_user_events_distribution(*, event=\"all\", group=\"all\", nonzero=False, interactive=False):\n",
    "\n",
    "    if not interactive and not event:\n",
    "        raise ValueError(\"If 'interactive' is False, parameter 'event' should be provided\")\n",
    "    if interactive and not event:\n",
    "        event = \"main_screen_appear\"\n",
    "\n",
    "    def get_fig_data(event=\"all\", group=\"all\", nonzero=False):\n",
    "        fig_data = user_events\n",
    "        if group != \"all\":\n",
    "            if group == \"A общая\":\n",
    "                fig_data = fig_data.query(\"group in ['A1', 'A2']\")\n",
    "            else:\n",
    "                fig_data = fig_data.query(\"group == @group\")\n",
    "        if event == \"all\":\n",
    "            fig_data = fig_data.sum(axis=1, numeric_only=True)\n",
    "        else:\n",
    "            fig_data = fig_data[event]\n",
    "        if nonzero:\n",
    "            fig_data = fig_data[fig_data > 0]\n",
    "        return fig_data\n",
    "\n",
    "    def get_title(event=\"all\"):\n",
    "        if event == \"all\":\n",
    "            return f\"Распределение количества событий на одного пользователя\"\n",
    "        return (\n",
    "            f'Распределение количества событий \"{event_names_map[event].capitalize()}\" на одного пользователя'\n",
    "        )\n",
    "\n",
    "    fig_data = get_fig_data(event, group).astype(int)  # plotly can't handle uint16\n",
    "    fig = px.histogram(x=fig_data, title=get_title(event), marginal=\"box\", histnorm=\"probability\")\n",
    "\n",
    "    fig.update_layout(\n",
    "        xaxis_title=None,\n",
    "        yaxis_title=None,\n",
    "        xaxis_linecolor=\"black\",\n",
    "        yaxis_linecolor=\"black\",\n",
    "        xaxis_showgrid=True,\n",
    "        yaxis_showgrid=True,\n",
    "        xaxis_rangeslider_visible=True,\n",
    "        xaxis_rangemode=\"nonnegative\",\n",
    "        yaxis_tickformat=\".2p\",\n",
    "        height=550,\n",
    "    )\n",
    "\n",
    "    fig.data[0].update(xbins_size=1)\n",
    "\n",
    "    if interactive:\n",
    "\n",
    "        fig = go.FigureWidget(fig)\n",
    "\n",
    "        def update(event=\"all\", group=\"all\", xbins_size=1, nonzero=False):\n",
    "            fig_data = get_fig_data(event, group, nonzero).astype(int)\n",
    "            with fig.batch_update():\n",
    "                fig.data[0].x = fig_data\n",
    "                fig.data[0].update(xbins_size=xbins_size)\n",
    "                fig.data[1].x = fig_data\n",
    "                fig.layout.title.text = get_title(event)\n",
    "\n",
    "        event_options = [(\"Все\", \"all\"), *list(zip(event_names_ru, event_names))]\n",
    "        event_widget = widgets.Dropdown(options=event_options, value=event, description=\"событие\")\n",
    "        group_widget = widgets.Dropdown(\n",
    "            options=[(\"Все\", \"all\"), (\"A1\",) * 2, (\"A2\",) * 2, (\"A общая\",) * 2, (\"B\",) * 2],\n",
    "            value=group,\n",
    "            description=\"группа\",\n",
    "        )\n",
    "        xbins_size_widget = widgets.IntSlider(\n",
    "            1,\n",
    "            1,\n",
    "            10,\n",
    "            description=\"размер корзины\",\n",
    "            style=dict(description_width=\"initial\"),\n",
    "            layout=widgets.Layout(margin=\"2px 0px 0px 40px\"),\n",
    "        )\n",
    "\n",
    "        nonzero_widget = widgets.Checkbox(\n",
    "            value=nonzero, description=\"больше нуля\", layout=widgets.Layout(margin=\"10px 0px 0px 0px\")\n",
    "        )\n",
    "\n",
    "        widgets.interactive_output(\n",
    "            update,\n",
    "            dict(\n",
    "                event=event_widget, group=group_widget, xbins_size=xbins_size_widget, nonzero=nonzero_widget\n",
    "            ),\n",
    "        )\n",
    "\n",
    "        horizontal_box = widgets.HBox([event_widget, group_widget, xbins_size_widget])\n",
    "        ui = widgets.VBox([horizontal_box, nonzero_widget], layout=widgets.Layout(margin=\"10px 0px 0px 0px\"))\n",
    "\n",
    "        display(ui)\n",
    "\n",
    "    return fig"
   ]
  },
  {
   "cell_type": "code",
   "execution_count": null,
   "id": "699668de",
   "metadata": {
    "ExecuteTime": {
     "end_time": "2022-10-17T22:58:54.431098Z",
     "start_time": "2022-10-17T22:58:54.210056Z"
    }
   },
   "outputs": [],
   "source": [
    "get_user_events_distribution(event=\"payment_screen_successful\", interactive=True)"
   ]
  },
  {
   "cell_type": "markdown",
   "id": "d2f9bc25",
   "metadata": {},
   "source": [
    "В целом, все распределения похожи на распределение Пуассона, а разницы между группами незаметно. Медианное количество событий на пользователя равно 20, но есть пользователи, у которых было более 1000 событий за эти 14 дней. По медиане один покупатель делает 4 покупки."
   ]
  },
  {
   "cell_type": "code",
   "execution_count": null,
   "id": "b8efbfea",
   "metadata": {
    "ExecuteTime": {
     "end_time": "2022-10-17T22:58:54.440323Z",
     "start_time": "2022-10-17T22:58:54.432497Z"
    }
   },
   "outputs": [],
   "source": [
    "user_events.query(\"payment_screen_successful > 500\")"
   ]
  },
  {
   "cell_type": "markdown",
   "id": "787cbb99",
   "metadata": {},
   "source": [
    "Некоторые пользователи с начала августа успели совершить более 500 покупок, причем они относительно мало заходили на главную страницу. Возможно, это какие-нибудь боты. Посмотрим поближе."
   ]
  },
  {
   "cell_type": "code",
   "execution_count": null,
   "id": "559fad1e",
   "metadata": {
    "ExecuteTime": {
     "end_time": "2022-10-17T22:58:54.447502Z",
     "start_time": "2022-10-17T22:58:54.441895Z"
    }
   },
   "outputs": [],
   "source": [
    "def get_user_timeline(device_id_hash):\n",
    "\n",
    "    fig_data = data.query(f\"device_id_hash == {device_id_hash}\").copy()\n",
    "    fig_data[\"event_name\"] = fig_data[\"event_name\"].astype(str).map(event_names_map).str.capitalize()\n",
    "\n",
    "    fig = px.scatter(\n",
    "        fig_data,\n",
    "        x=\"event_dt\",\n",
    "        y=\"event_name\",\n",
    "        color=\"event_name\",\n",
    "        title=f'Временная линия пользователя<br><sup style=\"color:grey;text-align:center;\">{device_id_hash}</sup>',\n",
    "    )\n",
    "\n",
    "    fig.update_layout(\n",
    "        xaxis_title=None,\n",
    "        yaxis_title=None,\n",
    "        xaxis_linecolor=\"black\",\n",
    "        yaxis_linecolor=\"black\",\n",
    "        xaxis_rangeslider_visible=True,\n",
    "        yaxis_showgrid=True,\n",
    "        xaxis_range=(\n",
    "            fig_data[\"event_dt\"].min() - pd.Timedelta(5000, unit=\"sec\"),\n",
    "            fig_data[\"event_dt\"].max() + pd.Timedelta(5000, unit=\"sec\"),\n",
    "        ),\n",
    "        showlegend=False,\n",
    "        height=450,\n",
    "        margin=dict(t=100),\n",
    "        title_y=0.93,\n",
    "    )\n",
    "\n",
    "    return fig"
   ]
  },
  {
   "cell_type": "code",
   "execution_count": null,
   "id": "2e894a57",
   "metadata": {
    "ExecuteTime": {
     "end_time": "2022-10-17T22:58:54.602805Z",
     "start_time": "2022-10-17T22:58:54.449145Z"
    }
   },
   "outputs": [],
   "source": [
    "get_user_timeline(\"6304868067479728361\")"
   ]
  },
  {
   "cell_type": "markdown",
   "id": "eb7cd5e7",
   "metadata": {},
   "source": [
    "Данный пользователь с 12 до 3 часов ночи, не переставая, совершал покупки, и за 7 дней в сумме совершил 1085 покупок. Очень интересно. Сразу возникает вопрос, а не поддерживает ли магазин покупку сразу множество товаров/услуг? Особенно, если кто-то пытается купить твой товар 1085 раз. Может, это, конечно, какой-нибудь магазин одежды, который в это время выпустил уникальную линейку одежды, а кто-то занимался ритейлом и скупал ее. Продолжим изучать группы."
   ]
  },
  {
   "cell_type": "code",
   "execution_count": null,
   "id": "be45d954",
   "metadata": {
    "ExecuteTime": {
     "end_time": "2022-10-17T22:58:54.619143Z",
     "start_time": "2022-10-17T22:58:54.604416Z"
    }
   },
   "outputs": [],
   "source": [
    "def get_user_events_distribution_by_groups(\n",
    "    event=\"all\", *, merge_A_groups=False, nonzero=False, interactive=False\n",
    "):\n",
    "\n",
    "    if not interactive and not event:\n",
    "        raise ValueError(\"If 'interactive' is False, parameter 'event' should be provided\")\n",
    "    if interactive and not event:\n",
    "        event = \"main_screen_appear\"\n",
    "\n",
    "    def get_user_events_distribution_by_groups_(\n",
    "        event=\"all\",\n",
    "        *,\n",
    "        merge_A_groups=False,\n",
    "        nonzero=False,\n",
    "        interactive=False,\n",
    "        event_widget=None,\n",
    "        nonzero_widget=None,\n",
    "    ):\n",
    "\n",
    "        fig_data = user_events.copy().astype(int, errors=\"ignore\")\n",
    "        fig_data[\"all\"] = fig_data.sum(axis=1, numeric_only=True)\n",
    "\n",
    "        if merge_A_groups:\n",
    "            fig_data[\"group\"] = fig_data[\"group\"].astype(str).replace(\"A1|A2\", \"A\", regex=True)\n",
    "\n",
    "        def get_fig_data(event, nonzero=False):\n",
    "            fig_data_ = fig_data[[event, \"group\"]]\n",
    "            if nonzero:\n",
    "                fig_data_ = fig_data_[fig_data_[event] > 0]\n",
    "            return fig_data_\n",
    "\n",
    "        def get_title(event=\"all\"):\n",
    "            if event == \"all\":\n",
    "                return f\"Распределение количества событий на одного пользователя\"\n",
    "            return f'Распределение количества событий \"{event_names_map[event].capitalize()}\" на одного пользователя'\n",
    "\n",
    "        fig = px.histogram(\n",
    "            get_fig_data(event, nonzero),\n",
    "            color=\"group\",\n",
    "            histnorm=\"probability\",\n",
    "            barmode=\"overlay\",\n",
    "            title=get_title(event),\n",
    "        )\n",
    "\n",
    "        fig.update_layout(\n",
    "            xaxis_title=None,\n",
    "            yaxis_title=None,\n",
    "            xaxis_showgrid=True,\n",
    "            yaxis_showgrid=True,\n",
    "            xaxis_linecolor=\"black\",\n",
    "            yaxis_linecolor=\"black\",\n",
    "            xaxis_rangeslider_visible=True,\n",
    "            xaxis_range=(0, 100),\n",
    "            yaxis_tickformat=\".2p\",\n",
    "            legend_title=\"Группа<br>\",\n",
    "            legend_tracegroupgap=10,\n",
    "            height=550,\n",
    "            margin=dict(t=70),\n",
    "            title_y=0.97,\n",
    "        )\n",
    "\n",
    "        fig.update_traces(xbins_size=1)\n",
    "\n",
    "        if interactive:\n",
    "\n",
    "            fig = go.FigureWidget(fig)\n",
    "\n",
    "            def get_trace_data(event, group, nonzero=False):\n",
    "                trace_data = fig_data.query(\"group == @group\")[event]\n",
    "                if nonzero:\n",
    "                    trace_data = trace_data[trace_data > 0]\n",
    "                return trace_data\n",
    "\n",
    "            def update(event, nonzero=False):\n",
    "                with fig.batch_update():\n",
    "                    fig.for_each_trace(\n",
    "                        lambda trace: trace.update(x=get_trace_data(event, trace.legendgroup, nonzero))\n",
    "                    )\n",
    "                    fig.layout.title.text = get_title(event)\n",
    "\n",
    "            widgets.interactive_output(update, dict(event=event_widget, nonzero=nonzero_widget))\n",
    "            display(fig)\n",
    "\n",
    "        else:\n",
    "            return fig\n",
    "\n",
    "    if interactive:\n",
    "\n",
    "        event_options = [(\"Все\", \"all\"), *list(zip(event_names_ru, event_names))]\n",
    "        event_widget = widgets.Dropdown(options=event_options, value=event, description=\" событие\")\n",
    "\n",
    "        merge_A_groups_widget = widgets.Checkbox(\n",
    "            value=merge_A_groups,\n",
    "            description=\"объединить группы A\",\n",
    "            indent=False,\n",
    "            layout=widgets.Layout(margin=\"3px 0px 0px 20px\"),\n",
    "        )\n",
    "\n",
    "        nonzero_widget = widgets.Checkbox(\n",
    "            value=nonzero, description=\"больше нуля\", layout=widgets.Layout(margin=\"10px 0px 0px 0px\")\n",
    "        )\n",
    "\n",
    "        output = widgets.interactive_output(\n",
    "            get_user_events_distribution_by_groups_,\n",
    "            controls=dict(\n",
    "                event=widgets.fixed(event),\n",
    "                merge_A_groups=merge_A_groups_widget,\n",
    "                nonzero=widgets.fixed(nonzero),\n",
    "                interactive=widgets.fixed(interactive),\n",
    "                event_widget=widgets.fixed(event_widget),\n",
    "                nonzero_widget=widgets.fixed(nonzero_widget),\n",
    "            ),\n",
    "        )\n",
    "\n",
    "        horizontal_box = widgets.HBox([event_widget, merge_A_groups_widget])\n",
    "        ui = widgets.VBox([horizontal_box, nonzero_widget], layout=widgets.Layout(margin=\"10px 0px 0px 0px\"))\n",
    "        display(ui, output)\n",
    "\n",
    "    else:\n",
    "        fig = get_user_events_distribution_by_groups_(\n",
    "            event=event, merge_A_groups=merge_A_groups, nonzero=nonzero\n",
    "        )\n",
    "        return fig"
   ]
  },
  {
   "cell_type": "code",
   "execution_count": null,
   "id": "27b3cc0e",
   "metadata": {
    "ExecuteTime": {
     "end_time": "2022-10-17T22:58:54.791804Z",
     "start_time": "2022-10-17T22:58:54.620990Z"
    }
   },
   "outputs": [],
   "source": [
    "get_user_events_distribution_by_groups(\n",
    "    event=\"payment_screen_successful\", merge_A_groups=True, interactive=True\n",
    ")"
   ]
  },
  {
   "cell_type": "code",
   "execution_count": null,
   "id": "cad20c35",
   "metadata": {
    "ExecuteTime": {
     "end_time": "2022-10-17T22:58:54.825435Z",
     "start_time": "2022-10-17T22:58:54.793662Z"
    }
   },
   "outputs": [],
   "source": [
    "get_group_pvalues(user_events, interactive=True)"
   ]
  },
  {
   "cell_type": "markdown",
   "id": "86a233c2",
   "metadata": {
    "ExecuteTime": {
     "end_time": "2022-08-12T17:33:13.185071Z",
     "start_time": "2022-08-12T17:33:13.175059Z"
    }
   },
   "source": [
    "Распределения идентичные, и пользователи группы B совершают такое же количество покупок, как и пользователи контрольных групп. Возможно, пользователи экспериментальной группы в среднем делают первую покупку раньше. Проверим это, посмотрим на распределение часов с момента первого события до того, когда была сделана покупка."
   ]
  },
  {
   "cell_type": "code",
   "execution_count": null,
   "id": "c2be7033",
   "metadata": {
    "ExecuteTime": {
     "end_time": "2022-10-17T22:58:56.509907Z",
     "start_time": "2022-10-17T22:58:54.827790Z"
    }
   },
   "outputs": [],
   "source": [
    "data[\"lifetime\"] = data.groupby(\"device_id_hash\")[\"event_dt\"].transform(lambda group: group - group.min())\n",
    "data[\"lifetime_hours\"] = data[\"lifetime\"] / pd.Timedelta(hours=1)"
   ]
  },
  {
   "cell_type": "code",
   "execution_count": null,
   "id": "76c1bb69",
   "metadata": {
    "ExecuteTime": {
     "end_time": "2022-10-17T22:58:56.516766Z",
     "start_time": "2022-10-17T22:58:56.511047Z"
    }
   },
   "outputs": [],
   "source": [
    "def get_payment_lifetimes_distribution_by_groups(*, merge_A_groups=False, interactive=False):\n",
    "    def get_payment_lifetimes_distribution_by_groups_(merge_A_groups=False):\n",
    "\n",
    "        fig_data = data.query(\"event_name == 'payment_screen_successful'\").copy()\n",
    "        if merge_A_groups:\n",
    "            fig_data[\"group\"] = fig_data[\"group\"].astype(str).replace(\"A1|A2\", \"A\", regex=True)\n",
    "\n",
    "        fig = px.histogram(\n",
    "            fig_data,\n",
    "            x=\"lifetime_hours\",\n",
    "            color=\"group\",\n",
    "            histnorm=\"probability\",\n",
    "            barmode=\"overlay\",\n",
    "            title=\"Распределение среднего количества часов до покупки\",\n",
    "            category_orders={\"group\": [\"A\", \"B\"] if merge_A_groups else [\"A1\", \"A2\", \"B\"]},\n",
    "        )\n",
    "\n",
    "        fig.update_layout(\n",
    "            xaxis_title=None,\n",
    "            yaxis_title=None,\n",
    "            xaxis_showgrid=True,\n",
    "            yaxis_showgrid=True,\n",
    "            xaxis_linecolor=\"black\",\n",
    "            yaxis_linecolor=\"black\",\n",
    "            legend_title=\"Группа<br>\",\n",
    "            legend_tracegroupgap=10,\n",
    "            yaxis_tickformat=\".2p\",\n",
    "            title_y=0.96,\n",
    "            margin=dict(t=70),\n",
    "        )\n",
    "\n",
    "        return fig\n",
    "\n",
    "    if interactive:\n",
    "\n",
    "        merge_A_groups_widget = widgets.Checkbox(\n",
    "            value=merge_A_groups,\n",
    "            description=\"объединить группы A\",\n",
    "            indent=False,\n",
    "            layout=widgets.Layout(margin=\"10px 0px 0px 60px\"),\n",
    "        )\n",
    "        widgets.interact(get_payment_lifetimes_distribution_by_groups_, merge_A_groups=merge_A_groups_widget)\n",
    "\n",
    "    else:\n",
    "        fig = get_payment_lifetimes_distribution_by_groups_(merge_A_groups)\n",
    "        return fig"
   ]
  },
  {
   "cell_type": "code",
   "execution_count": null,
   "id": "58061348",
   "metadata": {
    "ExecuteTime": {
     "end_time": "2022-10-17T22:58:56.766453Z",
     "start_time": "2022-10-17T22:58:56.518359Z"
    }
   },
   "outputs": [],
   "source": [
    "get_payment_lifetimes_distribution_by_groups(interactive=True)"
   ]
  },
  {
   "cell_type": "markdown",
   "id": "77cf4ca0",
   "metadata": {},
   "source": [
    "В целом распределения похожи — нет существенной разницы во времени совершения покупок."
   ]
  },
  {
   "cell_type": "markdown",
   "id": "916b6988",
   "metadata": {},
   "source": [
    "# Итоги"
   ]
  },
  {
   "cell_type": "markdown",
   "id": "b39d74c2",
   "metadata": {
    "ExecuteTime": {
     "end_time": "2022-08-14T21:15:13.826588Z",
     "start_time": "2022-08-14T21:15:13.814014Z"
    }
   },
   "source": [
    "Был дан протокол A/A/B-эксперимента за промежуток времени с 25 июля по 7 августа 2019 года. Для удобства работы и уменьшения потребления памяти, столбцы были преобразованы в другие типы данных. Были удалены дублирующие друг друга записи, а также отброшены неполные данные за июль. Потеря данных составила 1.16%, а потеря пользователей — 0.23%.\n",
    "\n",
    "При проверке гипотез критическим p-значением было выбрано 0.05. Было проведено 18 тестов, что дает вероятность ~60% `(1-0.95^18)` неправильного отвержения нулевой гипотезы. Однако ни одна нулевая гипотеза не была отвергнута.\n",
    "\n",
    "Между группами **не было найдено статистически значимой разницы** в воронке событий. \n",
    "\n",
    "В целом по группам:\n",
    "\n",
    "* До успешной оплаты доходит в среднем 47% процентов всех пользователей.\n",
    "\n",
    "\n",
    "* Самая низкая конверсия на стадии перехода с главной страницы на страницу с предложениями продукта — 62%.\n",
    "\n",
    "\n",
    "* Если уже пользователь перешел на эту страницу, то на оставшихся этапах воронки конверсия перехода выше 80%.\n",
    "\n",
    "Группы также **не отличаются** в количестве событий на пользователя — группы совершают одинаковое количество покупок.\n",
    "\n",
    "В целом по группам:\n",
    "\n",
    "* Половина пользователей имеет больше 20 событий.\n",
    "\n",
    "\n",
    "* Половина покупателей совершает более 4 покупок.\n",
    "\n",
    "В итоге можно сказать, что смена шрифтов в приложении никак не повлияла на поведение пользователей."
   ]
  }
 ],
 "metadata": {
  "ExecuteTimeLog": [
   {
    "duration": 426,
    "start_time": "2022-08-14T23:54:58.969Z"
   },
   {
    "duration": 962,
    "start_time": "2022-08-14T23:54:59.397Z"
   },
   {
    "duration": 941,
    "start_time": "2022-08-14T23:55:00.361Z"
   },
   {
    "duration": 0,
    "start_time": "2022-08-14T23:55:01.316Z"
   },
   {
    "duration": 0,
    "start_time": "2022-08-14T23:55:01.317Z"
   },
   {
    "duration": 0,
    "start_time": "2022-08-14T23:55:01.318Z"
   },
   {
    "duration": 0,
    "start_time": "2022-08-14T23:55:01.319Z"
   },
   {
    "duration": 0,
    "start_time": "2022-08-14T23:55:01.320Z"
   },
   {
    "duration": 0,
    "start_time": "2022-08-14T23:55:01.321Z"
   },
   {
    "duration": 0,
    "start_time": "2022-08-14T23:55:01.322Z"
   },
   {
    "duration": 0,
    "start_time": "2022-08-14T23:55:01.323Z"
   },
   {
    "duration": 0,
    "start_time": "2022-08-14T23:55:01.323Z"
   },
   {
    "duration": 0,
    "start_time": "2022-08-14T23:55:01.325Z"
   },
   {
    "duration": 0,
    "start_time": "2022-08-14T23:55:01.326Z"
   },
   {
    "duration": 0,
    "start_time": "2022-08-14T23:55:01.327Z"
   },
   {
    "duration": 0,
    "start_time": "2022-08-14T23:55:01.328Z"
   },
   {
    "duration": 0,
    "start_time": "2022-08-14T23:55:01.329Z"
   },
   {
    "duration": 0,
    "start_time": "2022-08-14T23:55:01.330Z"
   },
   {
    "duration": 0,
    "start_time": "2022-08-14T23:55:01.331Z"
   },
   {
    "duration": 0,
    "start_time": "2022-08-14T23:55:01.332Z"
   },
   {
    "duration": 0,
    "start_time": "2022-08-14T23:55:01.333Z"
   },
   {
    "duration": 0,
    "start_time": "2022-08-14T23:55:01.334Z"
   },
   {
    "duration": 0,
    "start_time": "2022-08-14T23:55:01.334Z"
   },
   {
    "duration": 0,
    "start_time": "2022-08-14T23:55:01.335Z"
   },
   {
    "duration": 0,
    "start_time": "2022-08-14T23:55:01.337Z"
   },
   {
    "duration": 0,
    "start_time": "2022-08-14T23:55:01.338Z"
   },
   {
    "duration": 0,
    "start_time": "2022-08-14T23:55:01.339Z"
   },
   {
    "duration": 0,
    "start_time": "2022-08-14T23:55:01.340Z"
   },
   {
    "duration": 0,
    "start_time": "2022-08-14T23:55:01.341Z"
   },
   {
    "duration": 0,
    "start_time": "2022-08-14T23:55:01.343Z"
   },
   {
    "duration": 0,
    "start_time": "2022-08-14T23:55:01.344Z"
   },
   {
    "duration": 0,
    "start_time": "2022-08-14T23:55:01.345Z"
   },
   {
    "duration": 0,
    "start_time": "2022-08-14T23:55:01.347Z"
   },
   {
    "duration": 0,
    "start_time": "2022-08-14T23:55:01.348Z"
   },
   {
    "duration": 0,
    "start_time": "2022-08-14T23:55:01.349Z"
   },
   {
    "duration": 0,
    "start_time": "2022-08-14T23:55:01.350Z"
   },
   {
    "duration": 0,
    "start_time": "2022-08-14T23:55:01.351Z"
   },
   {
    "duration": 0,
    "start_time": "2022-08-14T23:55:01.352Z"
   },
   {
    "duration": 0,
    "start_time": "2022-08-14T23:55:01.353Z"
   },
   {
    "duration": 0,
    "start_time": "2022-08-14T23:55:01.402Z"
   },
   {
    "duration": 0,
    "start_time": "2022-08-14T23:55:01.402Z"
   },
   {
    "duration": 0,
    "start_time": "2022-08-14T23:55:01.403Z"
   },
   {
    "duration": 0,
    "start_time": "2022-08-14T23:55:01.404Z"
   },
   {
    "duration": 0,
    "start_time": "2022-08-14T23:55:01.405Z"
   },
   {
    "duration": 0,
    "start_time": "2022-08-14T23:55:01.405Z"
   },
   {
    "duration": 0,
    "start_time": "2022-08-14T23:55:01.406Z"
   },
   {
    "duration": 0,
    "start_time": "2022-08-14T23:55:01.407Z"
   },
   {
    "duration": 0,
    "start_time": "2022-08-14T23:55:01.407Z"
   },
   {
    "duration": 0,
    "start_time": "2022-08-14T23:55:01.408Z"
   },
   {
    "duration": 0,
    "start_time": "2022-08-14T23:55:01.409Z"
   },
   {
    "duration": 0,
    "start_time": "2022-08-14T23:55:01.409Z"
   },
   {
    "duration": 0,
    "start_time": "2022-08-14T23:55:01.412Z"
   },
   {
    "duration": 0,
    "start_time": "2022-08-14T23:55:01.413Z"
   },
   {
    "duration": 0,
    "start_time": "2022-08-14T23:55:01.414Z"
   },
   {
    "duration": 0,
    "start_time": "2022-08-14T23:55:01.415Z"
   },
   {
    "duration": 0,
    "start_time": "2022-08-14T23:55:01.422Z"
   },
   {
    "duration": 0,
    "start_time": "2022-08-14T23:55:01.424Z"
   },
   {
    "duration": 1,
    "start_time": "2022-08-14T23:55:01.424Z"
   },
   {
    "duration": 0,
    "start_time": "2022-08-14T23:55:01.426Z"
   },
   {
    "duration": 0,
    "start_time": "2022-08-14T23:55:01.427Z"
   },
   {
    "duration": 0,
    "start_time": "2022-08-14T23:55:01.428Z"
   },
   {
    "duration": 0,
    "start_time": "2022-08-14T23:55:01.429Z"
   },
   {
    "duration": 426,
    "start_time": "2022-08-14T23:55:16.900Z"
   },
   {
    "duration": 13,
    "start_time": "2022-08-14T23:55:27.022Z"
   },
   {
    "duration": 10,
    "start_time": "2022-08-14T23:55:40.883Z"
   },
   {
    "duration": 9,
    "start_time": "2022-08-14T23:55:44.512Z"
   },
   {
    "duration": 412,
    "start_time": "2022-08-14T23:57:08.785Z"
   },
   {
    "duration": 52,
    "start_time": "2022-08-14T23:57:09.927Z"
   },
   {
    "duration": 13,
    "start_time": "2022-08-14T23:57:12.647Z"
   },
   {
    "duration": 419,
    "start_time": "2022-08-14T23:57:16.175Z"
   },
   {
    "duration": 393,
    "start_time": "2022-08-14T23:57:19.117Z"
   },
   {
    "duration": 44,
    "start_time": "2022-08-14T23:57:25.452Z"
   },
   {
    "duration": 383,
    "start_time": "2022-08-14T23:57:28.645Z"
   },
   {
    "duration": 990,
    "start_time": "2022-08-14T23:57:38.886Z"
   },
   {
    "duration": 405,
    "start_time": "2022-08-14T23:57:43.121Z"
   },
   {
    "duration": 38,
    "start_time": "2022-08-14T23:57:57.448Z"
   },
   {
    "duration": 1390,
    "start_time": "2022-08-14T23:58:12.361Z"
   },
   {
    "duration": 385,
    "start_time": "2022-08-15T00:04:52.617Z"
   },
   {
    "duration": 431,
    "start_time": "2022-08-15T00:05:03.514Z"
   },
   {
    "duration": 813,
    "start_time": "2022-08-15T00:05:08.406Z"
   },
   {
    "duration": 753,
    "start_time": "2022-08-15T00:05:14.584Z"
   },
   {
    "duration": 805,
    "start_time": "2022-08-15T00:05:24.590Z"
   },
   {
    "duration": 1172,
    "start_time": "2022-08-15T00:05:29.846Z"
   },
   {
    "duration": 956,
    "start_time": "2022-08-15T00:05:32.172Z"
   },
   {
    "duration": 88,
    "start_time": "2022-08-15T00:05:35.174Z"
   },
   {
    "duration": 50,
    "start_time": "2022-08-15T00:06:40.489Z"
   },
   {
    "duration": 1166,
    "start_time": "2022-08-15T00:06:41.415Z"
   },
   {
    "duration": 35,
    "start_time": "2022-08-15T00:06:52.387Z"
   },
   {
    "duration": 967,
    "start_time": "2022-08-15T00:06:52.425Z"
   },
   {
    "duration": 2,
    "start_time": "2022-08-15T00:06:53.394Z"
   },
   {
    "duration": 322,
    "start_time": "2022-08-15T00:06:53.397Z"
   },
   {
    "duration": 157,
    "start_time": "2022-08-15T00:06:53.722Z"
   },
   {
    "duration": 0,
    "start_time": "2022-08-15T00:06:53.883Z"
   },
   {
    "duration": 0,
    "start_time": "2022-08-15T00:06:53.884Z"
   },
   {
    "duration": 0,
    "start_time": "2022-08-15T00:06:53.885Z"
   },
   {
    "duration": 0,
    "start_time": "2022-08-15T00:06:53.886Z"
   },
   {
    "duration": 0,
    "start_time": "2022-08-15T00:06:53.887Z"
   },
   {
    "duration": 0,
    "start_time": "2022-08-15T00:06:53.888Z"
   },
   {
    "duration": 0,
    "start_time": "2022-08-15T00:06:53.889Z"
   },
   {
    "duration": 0,
    "start_time": "2022-08-15T00:06:53.900Z"
   },
   {
    "duration": 0,
    "start_time": "2022-08-15T00:06:53.901Z"
   },
   {
    "duration": 0,
    "start_time": "2022-08-15T00:06:53.902Z"
   },
   {
    "duration": 0,
    "start_time": "2022-08-15T00:06:53.903Z"
   },
   {
    "duration": 0,
    "start_time": "2022-08-15T00:06:53.903Z"
   },
   {
    "duration": 0,
    "start_time": "2022-08-15T00:06:53.904Z"
   },
   {
    "duration": 0,
    "start_time": "2022-08-15T00:06:53.906Z"
   },
   {
    "duration": 1,
    "start_time": "2022-08-15T00:06:53.907Z"
   },
   {
    "duration": 0,
    "start_time": "2022-08-15T00:06:53.909Z"
   },
   {
    "duration": 0,
    "start_time": "2022-08-15T00:06:53.910Z"
   },
   {
    "duration": 0,
    "start_time": "2022-08-15T00:06:53.911Z"
   },
   {
    "duration": 0,
    "start_time": "2022-08-15T00:06:53.914Z"
   },
   {
    "duration": 0,
    "start_time": "2022-08-15T00:06:53.915Z"
   },
   {
    "duration": 0,
    "start_time": "2022-08-15T00:06:53.917Z"
   },
   {
    "duration": 0,
    "start_time": "2022-08-15T00:06:53.918Z"
   },
   {
    "duration": 0,
    "start_time": "2022-08-15T00:06:53.922Z"
   },
   {
    "duration": 0,
    "start_time": "2022-08-15T00:06:53.923Z"
   },
   {
    "duration": 0,
    "start_time": "2022-08-15T00:06:53.924Z"
   },
   {
    "duration": 0,
    "start_time": "2022-08-15T00:06:53.925Z"
   },
   {
    "duration": 0,
    "start_time": "2022-08-15T00:06:53.926Z"
   },
   {
    "duration": 0,
    "start_time": "2022-08-15T00:06:53.927Z"
   },
   {
    "duration": 0,
    "start_time": "2022-08-15T00:06:53.929Z"
   },
   {
    "duration": 0,
    "start_time": "2022-08-15T00:06:53.930Z"
   },
   {
    "duration": 0,
    "start_time": "2022-08-15T00:06:53.931Z"
   },
   {
    "duration": 0,
    "start_time": "2022-08-15T00:06:53.933Z"
   },
   {
    "duration": 0,
    "start_time": "2022-08-15T00:06:53.934Z"
   },
   {
    "duration": 0,
    "start_time": "2022-08-15T00:06:53.936Z"
   },
   {
    "duration": 0,
    "start_time": "2022-08-15T00:06:53.938Z"
   },
   {
    "duration": 0,
    "start_time": "2022-08-15T00:06:53.940Z"
   },
   {
    "duration": 0,
    "start_time": "2022-08-15T00:06:53.941Z"
   },
   {
    "duration": 0,
    "start_time": "2022-08-15T00:06:53.942Z"
   },
   {
    "duration": 0,
    "start_time": "2022-08-15T00:06:53.943Z"
   },
   {
    "duration": 0,
    "start_time": "2022-08-15T00:06:53.944Z"
   },
   {
    "duration": 0,
    "start_time": "2022-08-15T00:06:53.945Z"
   },
   {
    "duration": 0,
    "start_time": "2022-08-15T00:06:53.946Z"
   },
   {
    "duration": 0,
    "start_time": "2022-08-15T00:06:54.002Z"
   },
   {
    "duration": 0,
    "start_time": "2022-08-15T00:06:54.002Z"
   },
   {
    "duration": 0,
    "start_time": "2022-08-15T00:06:54.005Z"
   },
   {
    "duration": 0,
    "start_time": "2022-08-15T00:06:54.006Z"
   },
   {
    "duration": 0,
    "start_time": "2022-08-15T00:06:54.007Z"
   },
   {
    "duration": 0,
    "start_time": "2022-08-15T00:06:54.008Z"
   },
   {
    "duration": 0,
    "start_time": "2022-08-15T00:06:54.009Z"
   },
   {
    "duration": 0,
    "start_time": "2022-08-15T00:06:54.010Z"
   },
   {
    "duration": 0,
    "start_time": "2022-08-15T00:06:54.015Z"
   },
   {
    "duration": 0,
    "start_time": "2022-08-15T00:06:54.015Z"
   },
   {
    "duration": 0,
    "start_time": "2022-08-15T00:06:54.017Z"
   },
   {
    "duration": 0,
    "start_time": "2022-08-15T00:06:54.021Z"
   },
   {
    "duration": 0,
    "start_time": "2022-08-15T00:06:54.022Z"
   },
   {
    "duration": 0,
    "start_time": "2022-08-15T00:06:54.024Z"
   },
   {
    "duration": 49,
    "start_time": "2022-08-15T00:07:02.690Z"
   },
   {
    "duration": 554,
    "start_time": "2022-08-15T00:07:04.521Z"
   },
   {
    "duration": 57,
    "start_time": "2022-08-15T00:07:09.841Z"
   },
   {
    "duration": 968,
    "start_time": "2022-08-15T00:07:09.907Z"
   },
   {
    "duration": 3,
    "start_time": "2022-08-15T00:07:10.876Z"
   },
   {
    "duration": 271,
    "start_time": "2022-08-15T00:07:10.881Z"
   },
   {
    "duration": 167,
    "start_time": "2022-08-15T00:07:11.154Z"
   },
   {
    "duration": 3,
    "start_time": "2022-08-15T00:07:11.323Z"
   },
   {
    "duration": 40,
    "start_time": "2022-08-15T00:07:11.328Z"
   },
   {
    "duration": 134,
    "start_time": "2022-08-15T00:07:11.370Z"
   },
   {
    "duration": 14,
    "start_time": "2022-08-15T00:07:11.505Z"
   },
   {
    "duration": 29,
    "start_time": "2022-08-15T00:07:11.521Z"
   },
   {
    "duration": 30,
    "start_time": "2022-08-15T00:07:11.552Z"
   },
   {
    "duration": 423,
    "start_time": "2022-08-15T00:07:11.584Z"
   },
   {
    "duration": 12,
    "start_time": "2022-08-15T00:07:12.010Z"
   },
   {
    "duration": 9,
    "start_time": "2022-08-15T00:07:12.026Z"
   },
   {
    "duration": 54,
    "start_time": "2022-08-15T00:07:12.036Z"
   },
   {
    "duration": 10,
    "start_time": "2022-08-15T00:07:12.092Z"
   },
   {
    "duration": 27,
    "start_time": "2022-08-15T00:07:12.113Z"
   },
   {
    "duration": 22,
    "start_time": "2022-08-15T00:07:12.142Z"
   },
   {
    "duration": 108,
    "start_time": "2022-08-15T00:07:12.165Z"
   },
   {
    "duration": 65,
    "start_time": "2022-08-15T00:07:12.275Z"
   },
   {
    "duration": 20,
    "start_time": "2022-08-15T00:07:12.341Z"
   },
   {
    "duration": 57,
    "start_time": "2022-08-15T00:07:12.363Z"
   },
   {
    "duration": 3,
    "start_time": "2022-08-15T00:07:12.422Z"
   },
   {
    "duration": 18,
    "start_time": "2022-08-15T00:07:12.426Z"
   },
   {
    "duration": 6657,
    "start_time": "2022-08-15T00:07:12.445Z"
   },
   {
    "duration": 9,
    "start_time": "2022-08-15T00:07:19.110Z"
   },
   {
    "duration": 18,
    "start_time": "2022-08-15T00:07:19.121Z"
   },
   {
    "duration": 3,
    "start_time": "2022-08-15T00:07:19.141Z"
   },
   {
    "duration": 12,
    "start_time": "2022-08-15T00:07:19.146Z"
   },
   {
    "duration": 15,
    "start_time": "2022-08-15T00:07:19.159Z"
   },
   {
    "duration": 34,
    "start_time": "2022-08-15T00:07:19.175Z"
   },
   {
    "duration": 11,
    "start_time": "2022-08-15T00:07:19.210Z"
   },
   {
    "duration": 154,
    "start_time": "2022-08-15T00:07:19.222Z"
   },
   {
    "duration": 0,
    "start_time": "2022-08-15T00:07:19.379Z"
   },
   {
    "duration": 0,
    "start_time": "2022-08-15T00:07:19.380Z"
   },
   {
    "duration": 0,
    "start_time": "2022-08-15T00:07:19.381Z"
   },
   {
    "duration": 0,
    "start_time": "2022-08-15T00:07:19.382Z"
   },
   {
    "duration": 0,
    "start_time": "2022-08-15T00:07:19.383Z"
   },
   {
    "duration": 0,
    "start_time": "2022-08-15T00:07:19.384Z"
   },
   {
    "duration": 0,
    "start_time": "2022-08-15T00:07:19.385Z"
   },
   {
    "duration": 0,
    "start_time": "2022-08-15T00:07:19.400Z"
   },
   {
    "duration": 0,
    "start_time": "2022-08-15T00:07:19.404Z"
   },
   {
    "duration": 0,
    "start_time": "2022-08-15T00:07:19.405Z"
   },
   {
    "duration": 0,
    "start_time": "2022-08-15T00:07:19.406Z"
   },
   {
    "duration": 0,
    "start_time": "2022-08-15T00:07:19.407Z"
   },
   {
    "duration": 0,
    "start_time": "2022-08-15T00:07:19.408Z"
   },
   {
    "duration": 0,
    "start_time": "2022-08-15T00:07:19.408Z"
   },
   {
    "duration": 0,
    "start_time": "2022-08-15T00:07:19.409Z"
   },
   {
    "duration": 0,
    "start_time": "2022-08-15T00:07:19.410Z"
   },
   {
    "duration": 0,
    "start_time": "2022-08-15T00:07:19.411Z"
   },
   {
    "duration": 0,
    "start_time": "2022-08-15T00:07:19.412Z"
   },
   {
    "duration": 0,
    "start_time": "2022-08-15T00:07:19.413Z"
   },
   {
    "duration": 0,
    "start_time": "2022-08-15T00:07:19.414Z"
   },
   {
    "duration": 0,
    "start_time": "2022-08-15T00:07:19.415Z"
   },
   {
    "duration": 0,
    "start_time": "2022-08-15T00:07:19.416Z"
   },
   {
    "duration": 0,
    "start_time": "2022-08-15T00:07:19.416Z"
   },
   {
    "duration": 0,
    "start_time": "2022-08-15T00:07:19.419Z"
   },
   {
    "duration": 0,
    "start_time": "2022-08-15T00:07:19.420Z"
   },
   {
    "duration": 0,
    "start_time": "2022-08-15T00:07:19.421Z"
   },
   {
    "duration": 0,
    "start_time": "2022-08-15T00:07:19.422Z"
   },
   {
    "duration": 0,
    "start_time": "2022-08-15T00:07:19.423Z"
   },
   {
    "duration": 11327,
    "start_time": "2022-08-15T00:07:57.321Z"
   },
   {
    "duration": 2064,
    "start_time": "2022-08-15T00:08:14.694Z"
   },
   {
    "duration": 26,
    "start_time": "2022-08-15T00:08:16.760Z"
   },
   {
    "duration": 985,
    "start_time": "2022-08-15T00:08:16.788Z"
   },
   {
    "duration": 3,
    "start_time": "2022-08-15T00:08:17.775Z"
   },
   {
    "duration": 283,
    "start_time": "2022-08-15T00:08:17.781Z"
   },
   {
    "duration": 174,
    "start_time": "2022-08-15T00:08:18.066Z"
   },
   {
    "duration": 3,
    "start_time": "2022-08-15T00:08:18.242Z"
   },
   {
    "duration": 38,
    "start_time": "2022-08-15T00:08:18.246Z"
   },
   {
    "duration": 126,
    "start_time": "2022-08-15T00:08:18.286Z"
   },
   {
    "duration": 10,
    "start_time": "2022-08-15T00:08:18.413Z"
   },
   {
    "duration": 8,
    "start_time": "2022-08-15T00:08:18.425Z"
   },
   {
    "duration": 18,
    "start_time": "2022-08-15T00:08:18.435Z"
   },
   {
    "duration": 380,
    "start_time": "2022-08-15T00:08:18.454Z"
   },
   {
    "duration": 5,
    "start_time": "2022-08-15T00:08:18.836Z"
   },
   {
    "duration": 8,
    "start_time": "2022-08-15T00:08:18.842Z"
   },
   {
    "duration": 56,
    "start_time": "2022-08-15T00:08:18.852Z"
   },
   {
    "duration": 10,
    "start_time": "2022-08-15T00:08:18.909Z"
   },
   {
    "duration": 21,
    "start_time": "2022-08-15T00:08:18.920Z"
   },
   {
    "duration": 10,
    "start_time": "2022-08-15T00:08:18.942Z"
   },
   {
    "duration": 123,
    "start_time": "2022-08-15T00:08:18.954Z"
   },
   {
    "duration": 58,
    "start_time": "2022-08-15T00:08:19.078Z"
   },
   {
    "duration": 20,
    "start_time": "2022-08-15T00:08:19.137Z"
   },
   {
    "duration": 67,
    "start_time": "2022-08-15T00:08:19.158Z"
   },
   {
    "duration": 3,
    "start_time": "2022-08-15T00:08:19.226Z"
   },
   {
    "duration": 9,
    "start_time": "2022-08-15T00:08:19.230Z"
   },
   {
    "duration": 6073,
    "start_time": "2022-08-15T00:08:19.241Z"
   },
   {
    "duration": 6,
    "start_time": "2022-08-15T00:08:25.317Z"
   },
   {
    "duration": 43,
    "start_time": "2022-08-15T00:08:25.325Z"
   },
   {
    "duration": 4,
    "start_time": "2022-08-15T00:08:25.370Z"
   },
   {
    "duration": 18,
    "start_time": "2022-08-15T00:08:25.375Z"
   },
   {
    "duration": 22,
    "start_time": "2022-08-15T00:08:25.394Z"
   },
   {
    "duration": 14,
    "start_time": "2022-08-15T00:08:25.421Z"
   },
   {
    "duration": 4,
    "start_time": "2022-08-15T00:08:25.437Z"
   },
   {
    "duration": 1658,
    "start_time": "2022-08-15T00:08:25.442Z"
   },
   {
    "duration": 8,
    "start_time": "2022-08-15T00:08:27.110Z"
   },
   {
    "duration": 400,
    "start_time": "2022-08-15T00:08:27.120Z"
   },
   {
    "duration": 1585,
    "start_time": "2022-08-15T00:08:27.522Z"
   },
   {
    "duration": 0,
    "start_time": "2022-08-15T00:08:29.115Z"
   },
   {
    "duration": 0,
    "start_time": "2022-08-15T00:08:29.116Z"
   },
   {
    "duration": 0,
    "start_time": "2022-08-15T00:08:29.117Z"
   },
   {
    "duration": 0,
    "start_time": "2022-08-15T00:08:29.119Z"
   },
   {
    "duration": 0,
    "start_time": "2022-08-15T00:08:29.120Z"
   },
   {
    "duration": 0,
    "start_time": "2022-08-15T00:08:29.121Z"
   },
   {
    "duration": 0,
    "start_time": "2022-08-15T00:08:29.122Z"
   },
   {
    "duration": 0,
    "start_time": "2022-08-15T00:08:29.123Z"
   },
   {
    "duration": 0,
    "start_time": "2022-08-15T00:08:29.124Z"
   },
   {
    "duration": 0,
    "start_time": "2022-08-15T00:08:29.125Z"
   },
   {
    "duration": 0,
    "start_time": "2022-08-15T00:08:29.127Z"
   },
   {
    "duration": 0,
    "start_time": "2022-08-15T00:08:29.128Z"
   },
   {
    "duration": 0,
    "start_time": "2022-08-15T00:08:29.130Z"
   },
   {
    "duration": 0,
    "start_time": "2022-08-15T00:08:29.132Z"
   },
   {
    "duration": 0,
    "start_time": "2022-08-15T00:08:29.133Z"
   },
   {
    "duration": 0,
    "start_time": "2022-08-15T00:08:29.134Z"
   },
   {
    "duration": 0,
    "start_time": "2022-08-15T00:08:29.135Z"
   },
   {
    "duration": 0,
    "start_time": "2022-08-15T00:08:29.137Z"
   },
   {
    "duration": 0,
    "start_time": "2022-08-15T00:08:29.138Z"
   },
   {
    "duration": 0,
    "start_time": "2022-08-15T00:08:29.139Z"
   },
   {
    "duration": 0,
    "start_time": "2022-08-15T00:08:29.140Z"
   },
   {
    "duration": 0,
    "start_time": "2022-08-15T00:08:29.142Z"
   },
   {
    "duration": 0,
    "start_time": "2022-08-15T00:08:29.143Z"
   },
   {
    "duration": 0,
    "start_time": "2022-08-15T00:08:29.144Z"
   },
   {
    "duration": 0,
    "start_time": "2022-08-15T00:08:29.203Z"
   },
   {
    "duration": 7078,
    "start_time": "2022-08-15T00:09:53.789Z"
   },
   {
    "duration": 2343,
    "start_time": "2022-08-15T00:10:06.531Z"
   },
   {
    "duration": 39,
    "start_time": "2022-08-15T00:10:08.876Z"
   },
   {
    "duration": 1127,
    "start_time": "2022-08-15T00:10:08.917Z"
   },
   {
    "duration": 3,
    "start_time": "2022-08-15T00:10:10.046Z"
   },
   {
    "duration": 302,
    "start_time": "2022-08-15T00:10:10.050Z"
   },
   {
    "duration": 187,
    "start_time": "2022-08-15T00:10:10.354Z"
   },
   {
    "duration": 4,
    "start_time": "2022-08-15T00:10:10.543Z"
   },
   {
    "duration": 84,
    "start_time": "2022-08-15T00:10:10.549Z"
   },
   {
    "duration": 115,
    "start_time": "2022-08-15T00:10:10.634Z"
   },
   {
    "duration": 7,
    "start_time": "2022-08-15T00:10:10.751Z"
   },
   {
    "duration": 31,
    "start_time": "2022-08-15T00:10:10.759Z"
   },
   {
    "duration": 43,
    "start_time": "2022-08-15T00:10:10.792Z"
   },
   {
    "duration": 377,
    "start_time": "2022-08-15T00:10:10.836Z"
   },
   {
    "duration": 6,
    "start_time": "2022-08-15T00:10:11.216Z"
   },
   {
    "duration": 17,
    "start_time": "2022-08-15T00:10:11.224Z"
   },
   {
    "duration": 55,
    "start_time": "2022-08-15T00:10:11.242Z"
   },
   {
    "duration": 11,
    "start_time": "2022-08-15T00:10:11.304Z"
   },
   {
    "duration": 28,
    "start_time": "2022-08-15T00:10:11.317Z"
   },
   {
    "duration": 22,
    "start_time": "2022-08-15T00:10:11.347Z"
   },
   {
    "duration": 107,
    "start_time": "2022-08-15T00:10:11.370Z"
   },
   {
    "duration": 73,
    "start_time": "2022-08-15T00:10:11.479Z"
   },
   {
    "duration": 21,
    "start_time": "2022-08-15T00:10:11.554Z"
   },
   {
    "duration": 61,
    "start_time": "2022-08-15T00:10:11.577Z"
   },
   {
    "duration": 5,
    "start_time": "2022-08-15T00:10:11.640Z"
   },
   {
    "duration": 17,
    "start_time": "2022-08-15T00:10:11.646Z"
   },
   {
    "duration": 5861,
    "start_time": "2022-08-15T00:10:11.665Z"
   },
   {
    "duration": 6,
    "start_time": "2022-08-15T00:10:17.527Z"
   },
   {
    "duration": 19,
    "start_time": "2022-08-15T00:10:17.534Z"
   },
   {
    "duration": 3,
    "start_time": "2022-08-15T00:10:17.555Z"
   },
   {
    "duration": 16,
    "start_time": "2022-08-15T00:10:17.560Z"
   },
   {
    "duration": 25,
    "start_time": "2022-08-15T00:10:17.577Z"
   },
   {
    "duration": 23,
    "start_time": "2022-08-15T00:10:17.603Z"
   },
   {
    "duration": 3,
    "start_time": "2022-08-15T00:10:17.628Z"
   },
   {
    "duration": 1485,
    "start_time": "2022-08-15T00:10:17.632Z"
   },
   {
    "duration": 4,
    "start_time": "2022-08-15T00:10:19.119Z"
   },
   {
    "duration": 298,
    "start_time": "2022-08-15T00:10:19.124Z"
   },
   {
    "duration": 1701,
    "start_time": "2022-08-15T00:10:19.423Z"
   },
   {
    "duration": 11,
    "start_time": "2022-08-15T00:10:21.125Z"
   },
   {
    "duration": 76,
    "start_time": "2022-08-15T00:10:21.138Z"
   },
   {
    "duration": 18,
    "start_time": "2022-08-15T00:10:21.216Z"
   },
   {
    "duration": 84,
    "start_time": "2022-08-15T00:10:21.239Z"
   },
   {
    "duration": 18,
    "start_time": "2022-08-15T00:10:21.325Z"
   },
   {
    "duration": 383,
    "start_time": "2022-08-15T00:10:21.345Z"
   },
   {
    "duration": 5,
    "start_time": "2022-08-15T00:10:21.730Z"
   },
   {
    "duration": 51,
    "start_time": "2022-08-15T00:10:21.736Z"
   },
   {
    "duration": 38,
    "start_time": "2022-08-15T00:10:21.788Z"
   },
   {
    "duration": 199,
    "start_time": "2022-08-15T00:10:21.828Z"
   },
   {
    "duration": 25,
    "start_time": "2022-08-15T00:10:22.028Z"
   },
   {
    "duration": 46,
    "start_time": "2022-08-15T00:10:22.055Z"
   },
   {
    "duration": 228,
    "start_time": "2022-08-15T00:10:22.103Z"
   },
   {
    "duration": 27,
    "start_time": "2022-08-15T00:10:22.333Z"
   },
   {
    "duration": 40,
    "start_time": "2022-08-15T00:10:22.361Z"
   },
   {
    "duration": 303,
    "start_time": "2022-08-15T00:10:22.414Z"
   },
   {
    "duration": 11,
    "start_time": "2022-08-15T00:10:22.720Z"
   },
   {
    "duration": 26,
    "start_time": "2022-08-15T00:10:22.732Z"
   },
   {
    "duration": 184,
    "start_time": "2022-08-15T00:10:22.760Z"
   },
   {
    "duration": 11,
    "start_time": "2022-08-15T00:10:22.946Z"
   },
   {
    "duration": 206,
    "start_time": "2022-08-15T00:10:22.959Z"
   },
   {
    "duration": 56,
    "start_time": "2022-08-15T00:10:23.167Z"
   },
   {
    "duration": 2611,
    "start_time": "2022-08-15T00:10:23.226Z"
   },
   {
    "duration": 5,
    "start_time": "2022-08-15T00:10:25.839Z"
   },
   {
    "duration": 243,
    "start_time": "2022-08-15T00:10:25.845Z"
   },
   {
    "duration": 43,
    "start_time": "2022-08-15T00:14:18.690Z"
   },
   {
    "duration": 12,
    "start_time": "2022-08-15T00:27:58.677Z"
   },
   {
    "duration": 2341,
    "start_time": "2022-08-15T00:44:12.619Z"
   },
   {
    "duration": 12,
    "start_time": "2022-08-15T00:44:18.954Z"
   },
   {
    "duration": 2700,
    "start_time": "2022-08-15T00:44:30.083Z"
   },
   {
    "duration": 38,
    "start_time": "2022-08-15T00:44:32.785Z"
   },
   {
    "duration": 1157,
    "start_time": "2022-08-15T00:44:32.826Z"
   },
   {
    "duration": 42,
    "start_time": "2022-08-15T00:44:33.985Z"
   },
   {
    "duration": 3,
    "start_time": "2022-08-15T00:44:34.029Z"
   },
   {
    "duration": 305,
    "start_time": "2022-08-15T00:44:34.034Z"
   },
   {
    "duration": 177,
    "start_time": "2022-08-15T00:44:34.340Z"
   },
   {
    "duration": 4,
    "start_time": "2022-08-15T00:44:34.519Z"
   },
   {
    "duration": 68,
    "start_time": "2022-08-15T00:44:34.525Z"
   },
   {
    "duration": 126,
    "start_time": "2022-08-15T00:44:34.596Z"
   },
   {
    "duration": 8,
    "start_time": "2022-08-15T00:44:34.724Z"
   },
   {
    "duration": 13,
    "start_time": "2022-08-15T00:44:34.734Z"
   },
   {
    "duration": 17,
    "start_time": "2022-08-15T00:44:34.748Z"
   },
   {
    "duration": 416,
    "start_time": "2022-08-15T00:44:34.766Z"
   },
   {
    "duration": 5,
    "start_time": "2022-08-15T00:44:35.183Z"
   },
   {
    "duration": 32,
    "start_time": "2022-08-15T00:44:35.190Z"
   },
   {
    "duration": 44,
    "start_time": "2022-08-15T00:44:35.224Z"
   },
   {
    "duration": 8,
    "start_time": "2022-08-15T00:44:35.269Z"
   },
   {
    "duration": 13,
    "start_time": "2022-08-15T00:44:35.279Z"
   },
   {
    "duration": 28,
    "start_time": "2022-08-15T00:44:35.293Z"
   },
   {
    "duration": 104,
    "start_time": "2022-08-15T00:44:35.323Z"
   },
   {
    "duration": 50,
    "start_time": "2022-08-15T00:44:35.429Z"
   },
   {
    "duration": 36,
    "start_time": "2022-08-15T00:44:35.481Z"
   },
   {
    "duration": 41,
    "start_time": "2022-08-15T00:44:35.519Z"
   },
   {
    "duration": 4,
    "start_time": "2022-08-15T00:44:35.562Z"
   },
   {
    "duration": 12,
    "start_time": "2022-08-15T00:44:35.567Z"
   },
   {
    "duration": 6460,
    "start_time": "2022-08-15T00:44:35.581Z"
   },
   {
    "duration": 6,
    "start_time": "2022-08-15T00:44:42.044Z"
   },
   {
    "duration": 18,
    "start_time": "2022-08-15T00:44:42.051Z"
   },
   {
    "duration": 3,
    "start_time": "2022-08-15T00:44:42.071Z"
   },
   {
    "duration": 32,
    "start_time": "2022-08-15T00:44:42.075Z"
   },
   {
    "duration": 20,
    "start_time": "2022-08-15T00:44:42.111Z"
   },
   {
    "duration": 13,
    "start_time": "2022-08-15T00:44:42.133Z"
   },
   {
    "duration": 4,
    "start_time": "2022-08-15T00:44:42.147Z"
   },
   {
    "duration": 1668,
    "start_time": "2022-08-15T00:44:42.152Z"
   },
   {
    "duration": 4,
    "start_time": "2022-08-15T00:44:43.822Z"
   },
   {
    "duration": 301,
    "start_time": "2022-08-15T00:44:43.827Z"
   },
   {
    "duration": 2090,
    "start_time": "2022-08-15T00:44:44.130Z"
   },
   {
    "duration": 13,
    "start_time": "2022-08-15T00:44:46.222Z"
   },
   {
    "duration": 82,
    "start_time": "2022-08-15T00:44:46.236Z"
   },
   {
    "duration": 21,
    "start_time": "2022-08-15T00:44:46.320Z"
   },
   {
    "duration": 77,
    "start_time": "2022-08-15T00:44:46.343Z"
   },
   {
    "duration": 11,
    "start_time": "2022-08-15T00:44:46.422Z"
   },
   {
    "duration": 418,
    "start_time": "2022-08-15T00:44:46.435Z"
   },
   {
    "duration": 6,
    "start_time": "2022-08-15T00:44:46.855Z"
   },
   {
    "duration": 71,
    "start_time": "2022-08-15T00:44:46.863Z"
   },
   {
    "duration": 18,
    "start_time": "2022-08-15T00:44:46.936Z"
   },
   {
    "duration": 256,
    "start_time": "2022-08-15T00:44:46.956Z"
   },
   {
    "duration": 29,
    "start_time": "2022-08-15T00:44:47.217Z"
   },
   {
    "duration": 15,
    "start_time": "2022-08-15T00:44:47.247Z"
   },
   {
    "duration": 255,
    "start_time": "2022-08-15T00:44:47.264Z"
   },
   {
    "duration": 27,
    "start_time": "2022-08-15T00:44:47.520Z"
   },
   {
    "duration": 10,
    "start_time": "2022-08-15T00:44:47.549Z"
   },
   {
    "duration": 299,
    "start_time": "2022-08-15T00:44:47.561Z"
   },
   {
    "duration": 38,
    "start_time": "2022-08-15T00:44:47.861Z"
   },
   {
    "duration": 10,
    "start_time": "2022-08-15T00:44:47.900Z"
   },
   {
    "duration": 172,
    "start_time": "2022-08-15T00:44:47.912Z"
   },
   {
    "duration": 20,
    "start_time": "2022-08-15T00:44:48.085Z"
   },
   {
    "duration": 207,
    "start_time": "2022-08-15T00:44:48.111Z"
   },
   {
    "duration": 27,
    "start_time": "2022-08-15T00:44:48.320Z"
   },
   {
    "duration": 2680,
    "start_time": "2022-08-15T00:44:48.348Z"
   },
   {
    "duration": 6,
    "start_time": "2022-08-15T00:44:51.031Z"
   },
   {
    "duration": 271,
    "start_time": "2022-08-15T00:44:51.039Z"
   },
   {
    "duration": 6,
    "start_time": "2022-08-15T00:46:47.613Z"
   },
   {
    "duration": 30,
    "start_time": "2022-08-15T00:46:47.943Z"
   },
   {
    "duration": 8,
    "start_time": "2022-08-15T00:46:57.231Z"
   },
   {
    "duration": 28,
    "start_time": "2022-08-15T00:46:57.815Z"
   },
   {
    "duration": 5,
    "start_time": "2022-08-15T00:47:14.168Z"
   },
   {
    "duration": 34,
    "start_time": "2022-08-15T00:47:15.287Z"
   },
   {
    "duration": 6,
    "start_time": "2022-08-15T00:48:16.931Z"
   },
   {
    "duration": 41,
    "start_time": "2022-08-15T00:48:17.097Z"
   },
   {
    "duration": 6,
    "start_time": "2022-08-15T00:48:25.274Z"
   },
   {
    "duration": 31,
    "start_time": "2022-08-15T00:48:25.440Z"
   },
   {
    "duration": 8,
    "start_time": "2022-08-15T00:48:44.815Z"
   },
   {
    "duration": 31,
    "start_time": "2022-08-15T00:48:45.037Z"
   },
   {
    "duration": 6,
    "start_time": "2022-08-15T00:48:53.646Z"
   },
   {
    "duration": 31,
    "start_time": "2022-08-15T00:48:53.864Z"
   },
   {
    "duration": 6,
    "start_time": "2022-08-15T00:49:15.143Z"
   },
   {
    "duration": 30,
    "start_time": "2022-08-15T00:49:15.438Z"
   },
   {
    "duration": 6,
    "start_time": "2022-08-15T00:49:26.727Z"
   },
   {
    "duration": 33,
    "start_time": "2022-08-15T00:49:26.974Z"
   },
   {
    "duration": 2472,
    "start_time": "2022-08-15T00:49:36.487Z"
   },
   {
    "duration": 61,
    "start_time": "2022-08-15T00:49:38.962Z"
   },
   {
    "duration": 1115,
    "start_time": "2022-08-15T00:49:39.025Z"
   },
   {
    "duration": 27,
    "start_time": "2022-08-15T00:49:40.142Z"
   },
   {
    "duration": 3,
    "start_time": "2022-08-15T00:49:40.170Z"
   },
   {
    "duration": 283,
    "start_time": "2022-08-15T00:49:40.175Z"
   },
   {
    "duration": 170,
    "start_time": "2022-08-15T00:49:40.460Z"
   },
   {
    "duration": 3,
    "start_time": "2022-08-15T00:49:40.632Z"
   },
   {
    "duration": 56,
    "start_time": "2022-08-15T00:49:40.637Z"
   },
   {
    "duration": 133,
    "start_time": "2022-08-15T00:49:40.699Z"
   },
   {
    "duration": 6,
    "start_time": "2022-08-15T00:49:40.833Z"
   },
   {
    "duration": 25,
    "start_time": "2022-08-15T00:49:40.841Z"
   },
   {
    "duration": 46,
    "start_time": "2022-08-15T00:49:40.868Z"
   },
   {
    "duration": 372,
    "start_time": "2022-08-15T00:49:40.915Z"
   },
   {
    "duration": 15,
    "start_time": "2022-08-15T00:49:41.289Z"
   },
   {
    "duration": 31,
    "start_time": "2022-08-15T00:49:41.306Z"
   },
   {
    "duration": 74,
    "start_time": "2022-08-15T00:49:41.339Z"
   },
   {
    "duration": 9,
    "start_time": "2022-08-15T00:49:41.415Z"
   },
   {
    "duration": 19,
    "start_time": "2022-08-15T00:49:41.426Z"
   },
   {
    "duration": 12,
    "start_time": "2022-08-15T00:49:41.447Z"
   },
   {
    "duration": 129,
    "start_time": "2022-08-15T00:49:41.461Z"
   },
   {
    "duration": 65,
    "start_time": "2022-08-15T00:49:41.592Z"
   },
   {
    "duration": 20,
    "start_time": "2022-08-15T00:49:41.659Z"
   },
   {
    "duration": 58,
    "start_time": "2022-08-15T00:49:41.680Z"
   },
   {
    "duration": 3,
    "start_time": "2022-08-15T00:49:41.740Z"
   },
   {
    "duration": 7,
    "start_time": "2022-08-15T00:49:41.744Z"
   },
   {
    "duration": 5903,
    "start_time": "2022-08-15T00:49:41.753Z"
   },
   {
    "duration": 6,
    "start_time": "2022-08-15T00:49:47.659Z"
   },
   {
    "duration": 16,
    "start_time": "2022-08-15T00:49:47.667Z"
   },
   {
    "duration": 5,
    "start_time": "2022-08-15T00:49:47.710Z"
   },
   {
    "duration": 10,
    "start_time": "2022-08-15T00:49:47.717Z"
   },
   {
    "duration": 12,
    "start_time": "2022-08-15T00:49:47.728Z"
   },
   {
    "duration": 12,
    "start_time": "2022-08-15T00:49:47.742Z"
   },
   {
    "duration": 3,
    "start_time": "2022-08-15T00:49:47.756Z"
   },
   {
    "duration": 1608,
    "start_time": "2022-08-15T00:49:47.761Z"
   },
   {
    "duration": 6,
    "start_time": "2022-08-15T00:49:49.371Z"
   },
   {
    "duration": 235,
    "start_time": "2022-08-15T00:49:49.403Z"
   },
   {
    "duration": 1901,
    "start_time": "2022-08-15T00:49:49.639Z"
   },
   {
    "duration": 69,
    "start_time": "2022-08-15T00:49:51.542Z"
   },
   {
    "duration": 20,
    "start_time": "2022-08-15T00:49:51.615Z"
   },
   {
    "duration": 66,
    "start_time": "2022-08-15T00:49:51.637Z"
   },
   {
    "duration": 43,
    "start_time": "2022-08-15T00:49:51.705Z"
   },
   {
    "duration": 54,
    "start_time": "2022-08-15T00:49:51.750Z"
   },
   {
    "duration": 417,
    "start_time": "2022-08-15T00:49:51.805Z"
   },
   {
    "duration": 7,
    "start_time": "2022-08-15T00:49:52.224Z"
   },
   {
    "duration": 75,
    "start_time": "2022-08-15T00:49:52.232Z"
   },
   {
    "duration": 19,
    "start_time": "2022-08-15T00:49:52.311Z"
   },
   {
    "duration": 203,
    "start_time": "2022-08-15T00:49:52.332Z"
   },
   {
    "duration": 66,
    "start_time": "2022-08-15T00:49:52.537Z"
   },
   {
    "duration": 20,
    "start_time": "2022-08-15T00:49:52.613Z"
   },
   {
    "duration": 208,
    "start_time": "2022-08-15T00:49:52.634Z"
   },
   {
    "duration": 66,
    "start_time": "2022-08-15T00:49:52.843Z"
   },
   {
    "duration": 13,
    "start_time": "2022-08-15T00:49:52.911Z"
   },
   {
    "duration": 307,
    "start_time": "2022-08-15T00:49:52.925Z"
   },
   {
    "duration": 10,
    "start_time": "2022-08-15T00:49:53.234Z"
   },
   {
    "duration": 21,
    "start_time": "2022-08-15T00:49:53.246Z"
   },
   {
    "duration": 191,
    "start_time": "2022-08-15T00:49:53.268Z"
   },
   {
    "duration": 48,
    "start_time": "2022-08-15T00:49:53.461Z"
   },
   {
    "duration": 210,
    "start_time": "2022-08-15T00:49:53.510Z"
   },
   {
    "duration": 26,
    "start_time": "2022-08-15T00:49:53.722Z"
   },
   {
    "duration": 2714,
    "start_time": "2022-08-15T00:49:53.749Z"
   },
   {
    "duration": 5,
    "start_time": "2022-08-15T00:49:56.465Z"
   },
   {
    "duration": 262,
    "start_time": "2022-08-15T00:49:56.472Z"
   },
   {
    "duration": 2640,
    "start_time": "2022-08-15T00:52:59.745Z"
   },
   {
    "duration": 42,
    "start_time": "2022-08-15T00:53:02.388Z"
   },
   {
    "duration": 1165,
    "start_time": "2022-08-15T00:53:02.432Z"
   },
   {
    "duration": 39,
    "start_time": "2022-08-15T00:53:03.598Z"
   },
   {
    "duration": 3,
    "start_time": "2022-08-15T00:53:03.638Z"
   },
   {
    "duration": 286,
    "start_time": "2022-08-15T00:53:03.642Z"
   },
   {
    "duration": 189,
    "start_time": "2022-08-15T00:53:03.930Z"
   },
   {
    "duration": 3,
    "start_time": "2022-08-15T00:53:04.121Z"
   },
   {
    "duration": 55,
    "start_time": "2022-08-15T00:53:04.126Z"
   },
   {
    "duration": 133,
    "start_time": "2022-08-15T00:53:04.183Z"
   },
   {
    "duration": 10,
    "start_time": "2022-08-15T00:53:04.319Z"
   },
   {
    "duration": 15,
    "start_time": "2022-08-15T00:53:04.333Z"
   },
   {
    "duration": 17,
    "start_time": "2022-08-15T00:53:04.349Z"
   },
   {
    "duration": 453,
    "start_time": "2022-08-15T00:53:04.369Z"
   },
   {
    "duration": 6,
    "start_time": "2022-08-15T00:53:04.824Z"
   },
   {
    "duration": 19,
    "start_time": "2022-08-15T00:53:04.832Z"
   },
   {
    "duration": 68,
    "start_time": "2022-08-15T00:53:04.852Z"
   },
   {
    "duration": 10,
    "start_time": "2022-08-15T00:53:04.922Z"
   },
   {
    "duration": 16,
    "start_time": "2022-08-15T00:53:04.934Z"
   },
   {
    "duration": 13,
    "start_time": "2022-08-15T00:53:04.952Z"
   },
   {
    "duration": 134,
    "start_time": "2022-08-15T00:53:04.967Z"
   },
   {
    "duration": 49,
    "start_time": "2022-08-15T00:53:05.102Z"
   },
   {
    "duration": 18,
    "start_time": "2022-08-15T00:53:05.153Z"
   },
   {
    "duration": 65,
    "start_time": "2022-08-15T00:53:05.173Z"
   },
   {
    "duration": 3,
    "start_time": "2022-08-15T00:53:05.239Z"
   },
   {
    "duration": 12,
    "start_time": "2022-08-15T00:53:05.244Z"
   },
   {
    "duration": 5957,
    "start_time": "2022-08-15T00:53:05.258Z"
   },
   {
    "duration": 5,
    "start_time": "2022-08-15T00:53:11.217Z"
   },
   {
    "duration": 16,
    "start_time": "2022-08-15T00:53:11.223Z"
   },
   {
    "duration": 3,
    "start_time": "2022-08-15T00:53:11.240Z"
   },
   {
    "duration": 8,
    "start_time": "2022-08-15T00:53:11.244Z"
   },
   {
    "duration": 13,
    "start_time": "2022-08-15T00:53:11.253Z"
   },
   {
    "duration": 18,
    "start_time": "2022-08-15T00:53:11.267Z"
   },
   {
    "duration": 16,
    "start_time": "2022-08-15T00:53:11.287Z"
   },
   {
    "duration": 1627,
    "start_time": "2022-08-15T00:53:11.308Z"
   },
   {
    "duration": 5,
    "start_time": "2022-08-15T00:53:12.938Z"
   },
   {
    "duration": 285,
    "start_time": "2022-08-15T00:53:12.945Z"
   },
   {
    "duration": 1780,
    "start_time": "2022-08-15T00:53:13.231Z"
   },
   {
    "duration": 16,
    "start_time": "2022-08-15T00:53:15.016Z"
   },
   {
    "duration": 69,
    "start_time": "2022-08-15T00:53:15.034Z"
   },
   {
    "duration": 18,
    "start_time": "2022-08-15T00:53:15.108Z"
   },
   {
    "duration": 83,
    "start_time": "2022-08-15T00:53:15.127Z"
   },
   {
    "duration": 16,
    "start_time": "2022-08-15T00:53:15.212Z"
   },
   {
    "duration": 421,
    "start_time": "2022-08-15T00:53:15.230Z"
   },
   {
    "duration": 61,
    "start_time": "2022-08-15T00:53:15.653Z"
   },
   {
    "duration": 36,
    "start_time": "2022-08-15T00:53:15.716Z"
   },
   {
    "duration": 19,
    "start_time": "2022-08-15T00:53:15.753Z"
   },
   {
    "duration": 231,
    "start_time": "2022-08-15T00:53:15.774Z"
   },
   {
    "duration": 31,
    "start_time": "2022-08-15T00:53:16.006Z"
   },
   {
    "duration": 14,
    "start_time": "2022-08-15T00:53:16.038Z"
   },
   {
    "duration": 247,
    "start_time": "2022-08-15T00:53:16.054Z"
   },
   {
    "duration": 30,
    "start_time": "2022-08-15T00:53:16.302Z"
   },
   {
    "duration": 11,
    "start_time": "2022-08-15T00:53:16.333Z"
   },
   {
    "duration": 290,
    "start_time": "2022-08-15T00:53:16.346Z"
   },
   {
    "duration": 9,
    "start_time": "2022-08-15T00:53:16.638Z"
   },
   {
    "duration": 23,
    "start_time": "2022-08-15T00:53:16.648Z"
   },
   {
    "duration": 187,
    "start_time": "2022-08-15T00:53:16.672Z"
   },
   {
    "duration": 12,
    "start_time": "2022-08-15T00:53:16.860Z"
   },
   {
    "duration": 230,
    "start_time": "2022-08-15T00:53:16.873Z"
   },
   {
    "duration": 36,
    "start_time": "2022-08-15T00:53:17.104Z"
   },
   {
    "duration": 2616,
    "start_time": "2022-08-15T00:53:17.141Z"
   },
   {
    "duration": 8,
    "start_time": "2022-08-15T00:53:19.758Z"
   },
   {
    "duration": 265,
    "start_time": "2022-08-15T00:53:19.768Z"
   },
   {
    "duration": 17245,
    "start_time": "2022-08-16T09:32:35.554Z"
   },
   {
    "duration": 51,
    "start_time": "2022-08-16T09:32:52.801Z"
   },
   {
    "duration": 1050,
    "start_time": "2022-08-16T09:32:52.853Z"
   },
   {
    "duration": 56,
    "start_time": "2022-08-16T09:32:53.906Z"
   },
   {
    "duration": 3,
    "start_time": "2022-08-16T09:32:53.964Z"
   },
   {
    "duration": 353,
    "start_time": "2022-08-16T09:32:53.968Z"
   },
   {
    "duration": 584,
    "start_time": "2022-08-16T09:32:54.323Z"
   },
   {
    "duration": 5,
    "start_time": "2022-08-16T09:32:54.909Z"
   },
   {
    "duration": 49,
    "start_time": "2022-08-16T09:32:54.915Z"
   },
   {
    "duration": 115,
    "start_time": "2022-08-16T09:32:54.967Z"
   },
   {
    "duration": 20,
    "start_time": "2022-08-16T09:32:55.084Z"
   },
   {
    "duration": 13,
    "start_time": "2022-08-16T09:32:55.106Z"
   },
   {
    "duration": 28,
    "start_time": "2022-08-16T09:32:55.121Z"
   },
   {
    "duration": 447,
    "start_time": "2022-08-16T09:32:55.151Z"
   },
   {
    "duration": 6,
    "start_time": "2022-08-16T09:32:55.600Z"
   },
   {
    "duration": 13,
    "start_time": "2022-08-16T09:32:55.608Z"
   },
   {
    "duration": 41,
    "start_time": "2022-08-16T09:32:55.623Z"
   },
   {
    "duration": 8,
    "start_time": "2022-08-16T09:32:55.666Z"
   },
   {
    "duration": 41,
    "start_time": "2022-08-16T09:32:55.676Z"
   },
   {
    "duration": 15,
    "start_time": "2022-08-16T09:32:55.719Z"
   },
   {
    "duration": 137,
    "start_time": "2022-08-16T09:32:55.735Z"
   },
   {
    "duration": 71,
    "start_time": "2022-08-16T09:32:55.874Z"
   },
   {
    "duration": 23,
    "start_time": "2022-08-16T09:32:55.947Z"
   },
   {
    "duration": 75,
    "start_time": "2022-08-16T09:32:55.972Z"
   },
   {
    "duration": 3,
    "start_time": "2022-08-16T09:32:56.049Z"
   },
   {
    "duration": 14,
    "start_time": "2022-08-16T09:32:56.054Z"
   },
   {
    "duration": 7478,
    "start_time": "2022-08-16T09:32:56.069Z"
   },
   {
    "duration": 6,
    "start_time": "2022-08-16T09:33:03.551Z"
   },
   {
    "duration": 18,
    "start_time": "2022-08-16T09:33:03.558Z"
   },
   {
    "duration": 4,
    "start_time": "2022-08-16T09:33:03.578Z"
   },
   {
    "duration": 24,
    "start_time": "2022-08-16T09:33:03.583Z"
   },
   {
    "duration": 20,
    "start_time": "2022-08-16T09:33:03.609Z"
   },
   {
    "duration": 16,
    "start_time": "2022-08-16T09:33:03.631Z"
   },
   {
    "duration": 4,
    "start_time": "2022-08-16T09:33:03.648Z"
   },
   {
    "duration": 191,
    "start_time": "2022-08-16T09:33:03.653Z"
   },
   {
    "duration": 0,
    "start_time": "2022-08-16T09:33:03.846Z"
   },
   {
    "duration": 0,
    "start_time": "2022-08-16T09:33:03.847Z"
   },
   {
    "duration": 0,
    "start_time": "2022-08-16T09:33:03.849Z"
   },
   {
    "duration": 0,
    "start_time": "2022-08-16T09:33:03.850Z"
   },
   {
    "duration": 0,
    "start_time": "2022-08-16T09:33:03.851Z"
   },
   {
    "duration": 0,
    "start_time": "2022-08-16T09:33:03.852Z"
   },
   {
    "duration": 0,
    "start_time": "2022-08-16T09:33:03.853Z"
   },
   {
    "duration": 0,
    "start_time": "2022-08-16T09:33:03.854Z"
   },
   {
    "duration": 0,
    "start_time": "2022-08-16T09:33:03.856Z"
   },
   {
    "duration": 0,
    "start_time": "2022-08-16T09:33:03.857Z"
   },
   {
    "duration": 0,
    "start_time": "2022-08-16T09:33:03.858Z"
   },
   {
    "duration": 0,
    "start_time": "2022-08-16T09:33:03.860Z"
   },
   {
    "duration": 0,
    "start_time": "2022-08-16T09:33:03.861Z"
   },
   {
    "duration": 0,
    "start_time": "2022-08-16T09:33:03.862Z"
   },
   {
    "duration": 0,
    "start_time": "2022-08-16T09:33:03.863Z"
   },
   {
    "duration": 0,
    "start_time": "2022-08-16T09:33:03.865Z"
   },
   {
    "duration": 0,
    "start_time": "2022-08-16T09:33:03.866Z"
   },
   {
    "duration": 0,
    "start_time": "2022-08-16T09:33:03.903Z"
   },
   {
    "duration": 0,
    "start_time": "2022-08-16T09:33:03.904Z"
   },
   {
    "duration": 0,
    "start_time": "2022-08-16T09:33:03.908Z"
   },
   {
    "duration": 0,
    "start_time": "2022-08-16T09:33:03.910Z"
   },
   {
    "duration": 0,
    "start_time": "2022-08-16T09:33:03.911Z"
   },
   {
    "duration": 0,
    "start_time": "2022-08-16T09:33:03.913Z"
   },
   {
    "duration": 0,
    "start_time": "2022-08-16T09:33:03.916Z"
   },
   {
    "duration": 0,
    "start_time": "2022-08-16T09:33:03.917Z"
   },
   {
    "duration": 0,
    "start_time": "2022-08-16T09:33:03.919Z"
   },
   {
    "duration": 0,
    "start_time": "2022-08-16T09:33:03.921Z"
   },
   {
    "duration": 0,
    "start_time": "2022-08-16T09:33:03.922Z"
   },
   {
    "duration": 575,
    "start_time": "2022-08-16T09:43:23.154Z"
   },
   {
    "duration": 16,
    "start_time": "2022-08-16T09:43:32.296Z"
   },
   {
    "duration": 11,
    "start_time": "2022-08-16T09:43:34.320Z"
   },
   {
    "duration": 8,
    "start_time": "2022-08-16T09:43:39.281Z"
   },
   {
    "duration": 14,
    "start_time": "2022-08-16T09:43:42.021Z"
   },
   {
    "duration": 13,
    "start_time": "2022-08-16T09:44:27.907Z"
   },
   {
    "duration": 10,
    "start_time": "2022-08-16T09:44:29.390Z"
   },
   {
    "duration": 11,
    "start_time": "2022-08-16T09:44:32.047Z"
   },
   {
    "duration": 7,
    "start_time": "2022-08-16T09:44:33.419Z"
   },
   {
    "duration": 24,
    "start_time": "2022-08-16T09:44:35.601Z"
   },
   {
    "duration": 13,
    "start_time": "2022-08-16T09:44:36.621Z"
   },
   {
    "duration": 14,
    "start_time": "2022-08-16T09:44:38.113Z"
   },
   {
    "duration": 14,
    "start_time": "2022-08-16T09:48:01.405Z"
   },
   {
    "duration": 74,
    "start_time": "2022-08-16T11:23:23.056Z"
   },
   {
    "duration": 11,
    "start_time": "2022-08-16T11:28:29.939Z"
   },
   {
    "duration": 3,
    "start_time": "2022-08-16T11:28:34.771Z"
   },
   {
    "duration": 4,
    "start_time": "2022-08-16T11:45:02.652Z"
   },
   {
    "duration": 106,
    "start_time": "2022-08-16T11:45:41.797Z"
   },
   {
    "duration": 3,
    "start_time": "2022-08-16T11:45:45.372Z"
   },
   {
    "duration": 3,
    "start_time": "2022-08-16T11:45:52.066Z"
   },
   {
    "duration": 49,
    "start_time": "2022-08-16T11:46:56.764Z"
   },
   {
    "duration": 2,
    "start_time": "2022-08-16T12:21:47.176Z"
   },
   {
    "duration": 17128,
    "start_time": "2022-08-16T13:05:32.605Z"
   },
   {
    "duration": 44,
    "start_time": "2022-08-16T13:06:00.778Z"
   },
   {
    "duration": 1154,
    "start_time": "2022-08-16T13:06:07.738Z"
   },
   {
    "duration": 2633,
    "start_time": "2022-08-16T13:06:17.181Z"
   },
   {
    "duration": 27,
    "start_time": "2022-08-16T13:06:19.817Z"
   },
   {
    "duration": 1443,
    "start_time": "2022-08-16T13:06:19.846Z"
   },
   {
    "duration": 35,
    "start_time": "2022-08-16T13:06:21.291Z"
   },
   {
    "duration": 16,
    "start_time": "2022-08-16T13:06:21.328Z"
   },
   {
    "duration": 274,
    "start_time": "2022-08-16T13:06:21.346Z"
   },
   {
    "duration": 510,
    "start_time": "2022-08-16T13:06:21.622Z"
   },
   {
    "duration": 4,
    "start_time": "2022-08-16T13:06:22.133Z"
   },
   {
    "duration": 56,
    "start_time": "2022-08-16T13:06:22.139Z"
   },
   {
    "duration": 111,
    "start_time": "2022-08-16T13:06:22.198Z"
   },
   {
    "duration": 7,
    "start_time": "2022-08-16T13:06:22.310Z"
   },
   {
    "duration": 12,
    "start_time": "2022-08-16T13:06:22.318Z"
   },
   {
    "duration": 18,
    "start_time": "2022-08-16T13:06:22.332Z"
   },
   {
    "duration": 433,
    "start_time": "2022-08-16T13:06:22.351Z"
   },
   {
    "duration": 5,
    "start_time": "2022-08-16T13:06:22.786Z"
   },
   {
    "duration": 7,
    "start_time": "2022-08-16T13:06:22.798Z"
   },
   {
    "duration": 45,
    "start_time": "2022-08-16T13:06:22.807Z"
   },
   {
    "duration": 7,
    "start_time": "2022-08-16T13:06:22.854Z"
   },
   {
    "duration": 12,
    "start_time": "2022-08-16T13:06:22.863Z"
   },
   {
    "duration": 28,
    "start_time": "2022-08-16T13:06:22.877Z"
   },
   {
    "duration": 79,
    "start_time": "2022-08-16T13:06:22.907Z"
   },
   {
    "duration": 41,
    "start_time": "2022-08-16T13:06:22.997Z"
   },
   {
    "duration": 17,
    "start_time": "2022-08-16T13:06:23.039Z"
   },
   {
    "duration": 50,
    "start_time": "2022-08-16T13:06:23.058Z"
   },
   {
    "duration": 3,
    "start_time": "2022-08-16T13:06:23.109Z"
   },
   {
    "duration": 7,
    "start_time": "2022-08-16T13:06:23.114Z"
   },
   {
    "duration": 6636,
    "start_time": "2022-08-16T13:06:23.122Z"
   },
   {
    "duration": 6,
    "start_time": "2022-08-16T13:06:29.762Z"
   },
   {
    "duration": 31,
    "start_time": "2022-08-16T13:06:29.769Z"
   },
   {
    "duration": 4,
    "start_time": "2022-08-16T13:06:29.802Z"
   },
   {
    "duration": 7,
    "start_time": "2022-08-16T13:06:29.808Z"
   },
   {
    "duration": 4,
    "start_time": "2022-08-16T13:06:29.817Z"
   },
   {
    "duration": 14,
    "start_time": "2022-08-16T13:06:29.823Z"
   },
   {
    "duration": 15,
    "start_time": "2022-08-16T13:06:29.839Z"
   },
   {
    "duration": 3,
    "start_time": "2022-08-16T13:06:29.857Z"
   },
   {
    "duration": 1603,
    "start_time": "2022-08-16T13:06:29.862Z"
   },
   {
    "duration": 4,
    "start_time": "2022-08-16T13:06:31.467Z"
   },
   {
    "duration": 226,
    "start_time": "2022-08-16T13:06:31.498Z"
   },
   {
    "duration": 1686,
    "start_time": "2022-08-16T13:06:31.726Z"
   },
   {
    "duration": 12,
    "start_time": "2022-08-16T13:06:33.414Z"
   },
   {
    "duration": 13,
    "start_time": "2022-08-16T13:06:33.427Z"
   },
   {
    "duration": 14,
    "start_time": "2022-08-16T13:06:33.499Z"
   },
   {
    "duration": 27,
    "start_time": "2022-08-16T13:06:33.515Z"
   },
   {
    "duration": 59,
    "start_time": "2022-08-16T13:06:33.544Z"
   },
   {
    "duration": 397,
    "start_time": "2022-08-16T13:06:33.605Z"
   },
   {
    "duration": 10,
    "start_time": "2022-08-16T13:06:34.004Z"
   },
   {
    "duration": 47,
    "start_time": "2022-08-16T13:06:34.016Z"
   },
   {
    "duration": 49,
    "start_time": "2022-08-16T13:06:34.065Z"
   },
   {
    "duration": 219,
    "start_time": "2022-08-16T13:06:34.116Z"
   },
   {
    "duration": 65,
    "start_time": "2022-08-16T13:06:34.336Z"
   },
   {
    "duration": 20,
    "start_time": "2022-08-16T13:06:34.403Z"
   },
   {
    "duration": 281,
    "start_time": "2022-08-16T13:06:34.427Z"
   },
   {
    "duration": 39,
    "start_time": "2022-08-16T13:06:34.710Z"
   },
   {
    "duration": 12,
    "start_time": "2022-08-16T13:06:34.751Z"
   },
   {
    "duration": 316,
    "start_time": "2022-08-16T13:06:34.799Z"
   },
   {
    "duration": 10,
    "start_time": "2022-08-16T13:06:35.117Z"
   },
   {
    "duration": 8,
    "start_time": "2022-08-16T13:06:35.129Z"
   },
   {
    "duration": 215,
    "start_time": "2022-08-16T13:06:35.138Z"
   },
   {
    "duration": 44,
    "start_time": "2022-08-16T13:06:35.355Z"
   },
   {
    "duration": 226,
    "start_time": "2022-08-16T13:06:35.401Z"
   },
   {
    "duration": 28,
    "start_time": "2022-08-16T13:06:35.629Z"
   },
   {
    "duration": 2234,
    "start_time": "2022-08-16T13:06:35.659Z"
   },
   {
    "duration": 5,
    "start_time": "2022-08-16T13:06:37.895Z"
   },
   {
    "duration": 252,
    "start_time": "2022-08-16T13:06:37.902Z"
   },
   {
    "duration": 2688,
    "start_time": "2022-08-16T14:44:41.056Z"
   },
   {
    "duration": 34,
    "start_time": "2022-08-16T14:44:43.746Z"
   },
   {
    "duration": 1303,
    "start_time": "2022-08-16T14:44:43.782Z"
   },
   {
    "duration": 41,
    "start_time": "2022-08-16T14:44:45.087Z"
   },
   {
    "duration": 3,
    "start_time": "2022-08-16T14:44:45.131Z"
   },
   {
    "duration": 298,
    "start_time": "2022-08-16T14:44:45.136Z"
   },
   {
    "duration": 164,
    "start_time": "2022-08-16T14:44:45.436Z"
   },
   {
    "duration": 3,
    "start_time": "2022-08-16T14:44:45.602Z"
   },
   {
    "duration": 59,
    "start_time": "2022-08-16T14:44:45.606Z"
   },
   {
    "duration": 119,
    "start_time": "2022-08-16T14:44:45.669Z"
   },
   {
    "duration": 15,
    "start_time": "2022-08-16T14:44:45.789Z"
   },
   {
    "duration": 12,
    "start_time": "2022-08-16T14:44:45.805Z"
   },
   {
    "duration": 18,
    "start_time": "2022-08-16T14:44:45.818Z"
   },
   {
    "duration": 428,
    "start_time": "2022-08-16T14:44:45.838Z"
   },
   {
    "duration": 5,
    "start_time": "2022-08-16T14:44:46.268Z"
   },
   {
    "duration": 8,
    "start_time": "2022-08-16T14:44:46.274Z"
   },
   {
    "duration": 54,
    "start_time": "2022-08-16T14:44:46.284Z"
   },
   {
    "duration": 8,
    "start_time": "2022-08-16T14:44:46.339Z"
   },
   {
    "duration": 14,
    "start_time": "2022-08-16T14:44:46.349Z"
   },
   {
    "duration": 9,
    "start_time": "2022-08-16T14:44:46.364Z"
   },
   {
    "duration": 80,
    "start_time": "2022-08-16T14:44:46.398Z"
   },
   {
    "duration": 56,
    "start_time": "2022-08-16T14:44:46.481Z"
   },
   {
    "duration": 21,
    "start_time": "2022-08-16T14:44:46.538Z"
   },
   {
    "duration": 61,
    "start_time": "2022-08-16T14:44:46.560Z"
   },
   {
    "duration": 4,
    "start_time": "2022-08-16T14:44:46.623Z"
   },
   {
    "duration": 13,
    "start_time": "2022-08-16T14:44:46.629Z"
   },
   {
    "duration": 16576,
    "start_time": "2022-08-16T19:49:15.674Z"
   },
   {
    "duration": 31,
    "start_time": "2022-08-16T19:49:32.253Z"
   },
   {
    "duration": 2578,
    "start_time": "2022-08-16T19:49:37.001Z"
   },
   {
    "duration": 39,
    "start_time": "2022-08-16T19:49:39.581Z"
   },
   {
    "duration": 1548,
    "start_time": "2022-08-16T19:49:39.622Z"
   },
   {
    "duration": 42,
    "start_time": "2022-08-16T19:49:41.172Z"
   },
   {
    "duration": 2,
    "start_time": "2022-08-16T19:49:41.216Z"
   },
   {
    "duration": 278,
    "start_time": "2022-08-16T19:49:41.220Z"
   },
   {
    "duration": 729,
    "start_time": "2022-08-16T19:49:41.500Z"
   },
   {
    "duration": 3,
    "start_time": "2022-08-16T19:49:42.231Z"
   },
   {
    "duration": 68,
    "start_time": "2022-08-16T19:49:42.236Z"
   },
   {
    "duration": 103,
    "start_time": "2022-08-16T19:49:42.307Z"
   },
   {
    "duration": 7,
    "start_time": "2022-08-16T19:49:42.412Z"
   },
   {
    "duration": 12,
    "start_time": "2022-08-16T19:49:42.421Z"
   },
   {
    "duration": 36,
    "start_time": "2022-08-16T19:49:42.434Z"
   },
   {
    "duration": 368,
    "start_time": "2022-08-16T19:49:42.472Z"
   },
   {
    "duration": 4,
    "start_time": "2022-08-16T19:49:42.842Z"
   },
   {
    "duration": 20,
    "start_time": "2022-08-16T19:49:42.848Z"
   },
   {
    "duration": 43,
    "start_time": "2022-08-16T19:49:42.869Z"
   },
   {
    "duration": 8,
    "start_time": "2022-08-16T19:49:42.914Z"
   },
   {
    "duration": 15,
    "start_time": "2022-08-16T19:49:42.924Z"
   },
   {
    "duration": 27,
    "start_time": "2022-08-16T19:49:42.941Z"
   },
   {
    "duration": 99,
    "start_time": "2022-08-16T19:49:42.969Z"
   },
   {
    "duration": 47,
    "start_time": "2022-08-16T19:49:43.070Z"
   },
   {
    "duration": 20,
    "start_time": "2022-08-16T19:49:43.119Z"
   },
   {
    "duration": 58,
    "start_time": "2022-08-16T19:49:43.141Z"
   },
   {
    "duration": 3,
    "start_time": "2022-08-16T19:49:43.201Z"
   },
   {
    "duration": 11,
    "start_time": "2022-08-16T19:49:43.205Z"
   },
   {
    "duration": 5927,
    "start_time": "2022-08-16T19:49:43.218Z"
   },
   {
    "duration": 5,
    "start_time": "2022-08-16T19:49:49.150Z"
   },
   {
    "duration": 27,
    "start_time": "2022-08-16T19:49:49.157Z"
   },
   {
    "duration": 4,
    "start_time": "2022-08-16T19:49:49.186Z"
   },
   {
    "duration": 8,
    "start_time": "2022-08-16T19:49:49.191Z"
   },
   {
    "duration": 3,
    "start_time": "2022-08-16T19:49:49.201Z"
   },
   {
    "duration": 23,
    "start_time": "2022-08-16T19:49:49.205Z"
   },
   {
    "duration": 12,
    "start_time": "2022-08-16T19:49:49.229Z"
   },
   {
    "duration": 25,
    "start_time": "2022-08-16T19:49:49.243Z"
   },
   {
    "duration": 1522,
    "start_time": "2022-08-16T19:49:49.270Z"
   },
   {
    "duration": 6,
    "start_time": "2022-08-16T19:49:50.795Z"
   },
   {
    "duration": 278,
    "start_time": "2022-08-16T19:49:50.803Z"
   },
   {
    "duration": 1623,
    "start_time": "2022-08-16T19:49:51.083Z"
   },
   {
    "duration": 61,
    "start_time": "2022-08-16T19:49:52.708Z"
   },
   {
    "duration": 14,
    "start_time": "2022-08-16T19:49:52.770Z"
   },
   {
    "duration": 24,
    "start_time": "2022-08-16T19:49:52.786Z"
   },
   {
    "duration": 75,
    "start_time": "2022-08-16T19:49:52.812Z"
   },
   {
    "duration": 10,
    "start_time": "2022-08-16T19:49:52.889Z"
   },
   {
    "duration": 413,
    "start_time": "2022-08-16T19:49:52.901Z"
   },
   {
    "duration": 7,
    "start_time": "2022-08-16T19:49:53.316Z"
   },
   {
    "duration": 71,
    "start_time": "2022-08-16T19:49:53.325Z"
   },
   {
    "duration": 0,
    "start_time": "2022-08-16T19:49:53.398Z"
   },
   {
    "duration": 0,
    "start_time": "2022-08-16T19:49:53.399Z"
   },
   {
    "duration": 0,
    "start_time": "2022-08-16T19:49:53.400Z"
   },
   {
    "duration": 0,
    "start_time": "2022-08-16T19:49:53.401Z"
   },
   {
    "duration": 0,
    "start_time": "2022-08-16T19:49:53.403Z"
   },
   {
    "duration": 0,
    "start_time": "2022-08-16T19:49:53.404Z"
   },
   {
    "duration": 0,
    "start_time": "2022-08-16T19:49:53.405Z"
   },
   {
    "duration": 0,
    "start_time": "2022-08-16T19:49:53.407Z"
   },
   {
    "duration": 0,
    "start_time": "2022-08-16T19:49:53.409Z"
   },
   {
    "duration": 0,
    "start_time": "2022-08-16T19:49:53.410Z"
   },
   {
    "duration": 0,
    "start_time": "2022-08-16T19:49:53.412Z"
   },
   {
    "duration": 0,
    "start_time": "2022-08-16T19:49:53.413Z"
   },
   {
    "duration": 0,
    "start_time": "2022-08-16T19:49:53.414Z"
   },
   {
    "duration": 0,
    "start_time": "2022-08-16T19:49:53.415Z"
   },
   {
    "duration": 0,
    "start_time": "2022-08-16T19:49:53.416Z"
   },
   {
    "duration": 1,
    "start_time": "2022-08-16T19:49:53.417Z"
   },
   {
    "duration": 1,
    "start_time": "2022-08-16T19:49:53.418Z"
   },
   {
    "duration": 0,
    "start_time": "2022-08-16T19:49:53.419Z"
   },
   {
    "duration": 72,
    "start_time": "2022-08-16T20:03:38.186Z"
   },
   {
    "duration": 78,
    "start_time": "2022-08-16T20:11:40.746Z"
   },
   {
    "duration": 8,
    "start_time": "2022-08-16T20:11:45.918Z"
   },
   {
    "duration": 1439,
    "start_time": "2022-08-16T20:12:34.472Z"
   },
   {
    "duration": 11,
    "start_time": "2022-08-16T20:12:44.239Z"
   },
   {
    "duration": 29,
    "start_time": "2022-08-16T20:13:04.005Z"
   },
   {
    "duration": 8,
    "start_time": "2022-08-16T20:13:22.513Z"
   },
   {
    "duration": 5,
    "start_time": "2022-08-16T20:13:48.609Z"
   },
   {
    "duration": 5,
    "start_time": "2022-08-16T20:14:00.277Z"
   },
   {
    "duration": 8,
    "start_time": "2022-08-16T20:19:47.836Z"
   },
   {
    "duration": 33,
    "start_time": "2022-08-16T20:19:58.640Z"
   },
   {
    "duration": 9,
    "start_time": "2022-08-16T20:20:30.211Z"
   },
   {
    "duration": 3,
    "start_time": "2022-08-16T20:20:31.414Z"
   },
   {
    "duration": 10,
    "start_time": "2022-08-16T20:20:32.511Z"
   },
   {
    "duration": 5,
    "start_time": "2022-08-16T20:20:32.681Z"
   },
   {
    "duration": 34,
    "start_time": "2022-08-16T20:20:33.101Z"
   },
   {
    "duration": 7,
    "start_time": "2022-08-16T20:20:48.852Z"
   },
   {
    "duration": 3,
    "start_time": "2022-08-16T20:20:49.819Z"
   },
   {
    "duration": 10,
    "start_time": "2022-08-16T20:20:50.159Z"
   },
   {
    "duration": 5,
    "start_time": "2022-08-16T20:20:50.609Z"
   },
   {
    "duration": 38,
    "start_time": "2022-08-16T20:20:50.981Z"
   },
   {
    "duration": 8,
    "start_time": "2022-08-16T20:21:15.526Z"
   },
   {
    "duration": 4,
    "start_time": "2022-08-16T20:21:16.472Z"
   },
   {
    "duration": 10,
    "start_time": "2022-08-16T20:21:16.898Z"
   },
   {
    "duration": 5,
    "start_time": "2022-08-16T20:21:17.287Z"
   },
   {
    "duration": 37,
    "start_time": "2022-08-16T20:21:17.602Z"
   },
   {
    "duration": 15,
    "start_time": "2022-08-16T20:21:48.618Z"
   },
   {
    "duration": 11,
    "start_time": "2022-08-16T20:21:54.551Z"
   },
   {
    "duration": 9,
    "start_time": "2022-08-16T20:21:57.247Z"
   },
   {
    "duration": 7,
    "start_time": "2022-08-16T20:22:15.368Z"
   },
   {
    "duration": 3,
    "start_time": "2022-08-16T20:22:16.229Z"
   },
   {
    "duration": 11,
    "start_time": "2022-08-16T20:22:16.557Z"
   },
   {
    "duration": 5,
    "start_time": "2022-08-16T20:22:16.958Z"
   },
   {
    "duration": 42,
    "start_time": "2022-08-16T20:22:17.760Z"
   },
   {
    "duration": 7,
    "start_time": "2022-08-16T20:23:33.034Z"
   },
   {
    "duration": 3,
    "start_time": "2022-08-16T20:23:34.120Z"
   },
   {
    "duration": 10,
    "start_time": "2022-08-16T20:23:42.820Z"
   },
   {
    "duration": 30,
    "start_time": "2022-08-16T20:23:46.181Z"
   },
   {
    "duration": 11,
    "start_time": "2022-08-16T20:23:58.789Z"
   },
   {
    "duration": 15,
    "start_time": "2022-08-16T20:25:39.218Z"
   },
   {
    "duration": 15,
    "start_time": "2022-08-16T20:26:03.467Z"
   },
   {
    "duration": 2965,
    "start_time": "2022-08-16T20:27:32.247Z"
   },
   {
    "duration": 42,
    "start_time": "2022-08-16T20:27:35.215Z"
   },
   {
    "duration": 1341,
    "start_time": "2022-08-16T20:27:35.259Z"
   },
   {
    "duration": 48,
    "start_time": "2022-08-16T20:27:36.603Z"
   },
   {
    "duration": 4,
    "start_time": "2022-08-16T20:27:36.654Z"
   },
   {
    "duration": 352,
    "start_time": "2022-08-16T20:27:36.660Z"
   },
   {
    "duration": 218,
    "start_time": "2022-08-16T20:27:37.014Z"
   },
   {
    "duration": 6,
    "start_time": "2022-08-16T20:27:37.234Z"
   },
   {
    "duration": 91,
    "start_time": "2022-08-16T20:27:37.242Z"
   },
   {
    "duration": 133,
    "start_time": "2022-08-16T20:27:37.336Z"
   },
   {
    "duration": 9,
    "start_time": "2022-08-16T20:27:37.470Z"
   },
   {
    "duration": 14,
    "start_time": "2022-08-16T20:27:37.481Z"
   },
   {
    "duration": 20,
    "start_time": "2022-08-16T20:27:37.497Z"
   },
   {
    "duration": 482,
    "start_time": "2022-08-16T20:27:37.519Z"
   },
   {
    "duration": 7,
    "start_time": "2022-08-16T20:27:38.004Z"
   },
   {
    "duration": 12,
    "start_time": "2022-08-16T20:27:38.013Z"
   },
   {
    "duration": 64,
    "start_time": "2022-08-16T20:27:38.027Z"
   },
   {
    "duration": 11,
    "start_time": "2022-08-16T20:27:38.094Z"
   },
   {
    "duration": 16,
    "start_time": "2022-08-16T20:27:38.107Z"
   },
   {
    "duration": 12,
    "start_time": "2022-08-16T20:27:38.126Z"
   },
   {
    "duration": 118,
    "start_time": "2022-08-16T20:27:38.167Z"
   },
   {
    "duration": 57,
    "start_time": "2022-08-16T20:27:38.287Z"
   },
   {
    "duration": 40,
    "start_time": "2022-08-16T20:27:38.346Z"
   },
   {
    "duration": 49,
    "start_time": "2022-08-16T20:27:38.388Z"
   },
   {
    "duration": 4,
    "start_time": "2022-08-16T20:27:38.439Z"
   },
   {
    "duration": 13,
    "start_time": "2022-08-16T20:27:38.469Z"
   },
   {
    "duration": 6445,
    "start_time": "2022-08-16T20:27:38.484Z"
   },
   {
    "duration": 6,
    "start_time": "2022-08-16T20:27:44.933Z"
   },
   {
    "duration": 35,
    "start_time": "2022-08-16T20:27:44.941Z"
   },
   {
    "duration": 37,
    "start_time": "2022-08-16T20:27:44.978Z"
   },
   {
    "duration": 62,
    "start_time": "2022-08-16T20:27:45.017Z"
   },
   {
    "duration": 7,
    "start_time": "2022-08-16T20:27:45.081Z"
   },
   {
    "duration": 19,
    "start_time": "2022-08-16T20:27:45.090Z"
   },
   {
    "duration": 21,
    "start_time": "2022-08-16T20:27:45.111Z"
   },
   {
    "duration": 10,
    "start_time": "2022-08-16T20:27:45.134Z"
   },
   {
    "duration": 1724,
    "start_time": "2022-08-16T20:27:45.146Z"
   },
   {
    "duration": 6,
    "start_time": "2022-08-16T20:27:46.874Z"
   },
   {
    "duration": 387,
    "start_time": "2022-08-16T20:27:46.883Z"
   },
   {
    "duration": 1728,
    "start_time": "2022-08-16T20:27:47.272Z"
   },
   {
    "duration": 66,
    "start_time": "2022-08-16T20:27:49.002Z"
   },
   {
    "duration": 18,
    "start_time": "2022-08-16T20:27:49.070Z"
   },
   {
    "duration": 16,
    "start_time": "2022-08-16T20:27:49.090Z"
   },
   {
    "duration": 81,
    "start_time": "2022-08-16T20:27:49.108Z"
   },
   {
    "duration": 10,
    "start_time": "2022-08-16T20:27:49.191Z"
   },
   {
    "duration": 280,
    "start_time": "2022-08-16T20:27:49.203Z"
   },
   {
    "duration": 7,
    "start_time": "2022-08-16T20:27:49.484Z"
   },
   {
    "duration": 29,
    "start_time": "2022-08-16T20:27:49.494Z"
   },
   {
    "duration": 68,
    "start_time": "2022-08-16T20:27:49.525Z"
   },
   {
    "duration": 18,
    "start_time": "2022-08-16T20:27:49.595Z"
   },
   {
    "duration": 258,
    "start_time": "2022-08-16T20:27:49.616Z"
   },
   {
    "duration": 35,
    "start_time": "2022-08-16T20:27:49.876Z"
   },
   {
    "duration": 64,
    "start_time": "2022-08-16T20:27:49.913Z"
   },
   {
    "duration": 228,
    "start_time": "2022-08-16T20:27:49.979Z"
   },
   {
    "duration": 65,
    "start_time": "2022-08-16T20:27:50.209Z"
   },
   {
    "duration": 13,
    "start_time": "2022-08-16T20:27:50.276Z"
   },
   {
    "duration": 314,
    "start_time": "2022-08-16T20:27:50.291Z"
   },
   {
    "duration": 10,
    "start_time": "2022-08-16T20:27:50.607Z"
   },
   {
    "duration": 49,
    "start_time": "2022-08-16T20:27:50.619Z"
   },
   {
    "duration": 190,
    "start_time": "2022-08-16T20:27:50.670Z"
   },
   {
    "duration": 14,
    "start_time": "2022-08-16T20:27:50.868Z"
   },
   {
    "duration": 238,
    "start_time": "2022-08-16T20:27:50.884Z"
   },
   {
    "duration": 60,
    "start_time": "2022-08-16T20:27:51.123Z"
   },
   {
    "duration": 2929,
    "start_time": "2022-08-16T20:27:51.185Z"
   },
   {
    "duration": 6,
    "start_time": "2022-08-16T20:27:54.116Z"
   },
   {
    "duration": 269,
    "start_time": "2022-08-16T20:27:54.124Z"
   },
   {
    "duration": 14888,
    "start_time": "2022-08-17T15:06:05.491Z"
   },
   {
    "duration": 1196,
    "start_time": "2022-08-17T15:06:20.381Z"
   },
   {
    "duration": 978,
    "start_time": "2022-08-17T15:06:21.578Z"
   },
   {
    "duration": 0,
    "start_time": "2022-08-17T15:06:22.560Z"
   },
   {
    "duration": 0,
    "start_time": "2022-08-17T15:06:22.562Z"
   },
   {
    "duration": 0,
    "start_time": "2022-08-17T15:06:22.563Z"
   },
   {
    "duration": 0,
    "start_time": "2022-08-17T15:06:22.564Z"
   },
   {
    "duration": 0,
    "start_time": "2022-08-17T15:06:22.566Z"
   },
   {
    "duration": 0,
    "start_time": "2022-08-17T15:06:22.567Z"
   },
   {
    "duration": 0,
    "start_time": "2022-08-17T15:06:22.568Z"
   },
   {
    "duration": 0,
    "start_time": "2022-08-17T15:06:22.569Z"
   },
   {
    "duration": 0,
    "start_time": "2022-08-17T15:06:22.570Z"
   },
   {
    "duration": 0,
    "start_time": "2022-08-17T15:06:22.571Z"
   },
   {
    "duration": 0,
    "start_time": "2022-08-17T15:06:22.573Z"
   },
   {
    "duration": 0,
    "start_time": "2022-08-17T15:06:22.574Z"
   },
   {
    "duration": 0,
    "start_time": "2022-08-17T15:06:22.574Z"
   },
   {
    "duration": 0,
    "start_time": "2022-08-17T15:06:22.575Z"
   },
   {
    "duration": 0,
    "start_time": "2022-08-17T15:06:22.576Z"
   },
   {
    "duration": 0,
    "start_time": "2022-08-17T15:06:22.577Z"
   },
   {
    "duration": 0,
    "start_time": "2022-08-17T15:06:22.579Z"
   },
   {
    "duration": 0,
    "start_time": "2022-08-17T15:06:22.611Z"
   },
   {
    "duration": 0,
    "start_time": "2022-08-17T15:06:22.612Z"
   },
   {
    "duration": 0,
    "start_time": "2022-08-17T15:06:22.614Z"
   },
   {
    "duration": 0,
    "start_time": "2022-08-17T15:06:22.615Z"
   },
   {
    "duration": 0,
    "start_time": "2022-08-17T15:06:22.616Z"
   },
   {
    "duration": 0,
    "start_time": "2022-08-17T15:06:22.618Z"
   },
   {
    "duration": 0,
    "start_time": "2022-08-17T15:06:22.619Z"
   },
   {
    "duration": 0,
    "start_time": "2022-08-17T15:06:22.621Z"
   },
   {
    "duration": 0,
    "start_time": "2022-08-17T15:06:22.622Z"
   },
   {
    "duration": 0,
    "start_time": "2022-08-17T15:06:22.624Z"
   },
   {
    "duration": 0,
    "start_time": "2022-08-17T15:06:22.625Z"
   },
   {
    "duration": 0,
    "start_time": "2022-08-17T15:06:22.626Z"
   },
   {
    "duration": 0,
    "start_time": "2022-08-17T15:06:22.627Z"
   },
   {
    "duration": 0,
    "start_time": "2022-08-17T15:06:22.629Z"
   },
   {
    "duration": 0,
    "start_time": "2022-08-17T15:06:22.630Z"
   },
   {
    "duration": 0,
    "start_time": "2022-08-17T15:06:22.631Z"
   },
   {
    "duration": 0,
    "start_time": "2022-08-17T15:06:22.632Z"
   },
   {
    "duration": 0,
    "start_time": "2022-08-17T15:06:22.634Z"
   },
   {
    "duration": 0,
    "start_time": "2022-08-17T15:06:22.635Z"
   },
   {
    "duration": 0,
    "start_time": "2022-08-17T15:06:22.636Z"
   },
   {
    "duration": 0,
    "start_time": "2022-08-17T15:06:22.638Z"
   },
   {
    "duration": 0,
    "start_time": "2022-08-17T15:06:22.639Z"
   },
   {
    "duration": 0,
    "start_time": "2022-08-17T15:06:22.640Z"
   },
   {
    "duration": 0,
    "start_time": "2022-08-17T15:06:22.642Z"
   },
   {
    "duration": 0,
    "start_time": "2022-08-17T15:06:22.643Z"
   },
   {
    "duration": 0,
    "start_time": "2022-08-17T15:06:22.644Z"
   },
   {
    "duration": 0,
    "start_time": "2022-08-17T15:06:22.645Z"
   },
   {
    "duration": 0,
    "start_time": "2022-08-17T15:06:22.647Z"
   },
   {
    "duration": 0,
    "start_time": "2022-08-17T15:06:22.648Z"
   },
   {
    "duration": 0,
    "start_time": "2022-08-17T15:06:22.650Z"
   },
   {
    "duration": 0,
    "start_time": "2022-08-17T15:06:22.651Z"
   },
   {
    "duration": 0,
    "start_time": "2022-08-17T15:06:22.651Z"
   },
   {
    "duration": 0,
    "start_time": "2022-08-17T15:06:22.652Z"
   },
   {
    "duration": 0,
    "start_time": "2022-08-17T15:06:22.653Z"
   },
   {
    "duration": 0,
    "start_time": "2022-08-17T15:06:22.711Z"
   },
   {
    "duration": 0,
    "start_time": "2022-08-17T15:06:22.712Z"
   },
   {
    "duration": 0,
    "start_time": "2022-08-17T15:06:22.715Z"
   },
   {
    "duration": 0,
    "start_time": "2022-08-17T15:06:22.716Z"
   },
   {
    "duration": 0,
    "start_time": "2022-08-17T15:06:22.716Z"
   },
   {
    "duration": 0,
    "start_time": "2022-08-17T15:06:22.717Z"
   },
   {
    "duration": 0,
    "start_time": "2022-08-17T15:06:22.718Z"
   },
   {
    "duration": 0,
    "start_time": "2022-08-17T15:06:22.718Z"
   },
   {
    "duration": 0,
    "start_time": "2022-08-17T15:06:22.719Z"
   },
   {
    "duration": 0,
    "start_time": "2022-08-17T15:06:22.719Z"
   },
   {
    "duration": 0,
    "start_time": "2022-08-17T15:06:22.720Z"
   },
   {
    "duration": 2606,
    "start_time": "2022-08-17T15:24:23.086Z"
   },
   {
    "duration": 42,
    "start_time": "2022-08-17T15:24:25.695Z"
   },
   {
    "duration": 1046,
    "start_time": "2022-08-17T15:24:25.739Z"
   },
   {
    "duration": 41,
    "start_time": "2022-08-17T15:24:26.787Z"
   },
   {
    "duration": 3,
    "start_time": "2022-08-17T15:24:26.830Z"
   },
   {
    "duration": 296,
    "start_time": "2022-08-17T15:24:26.834Z"
   },
   {
    "duration": 156,
    "start_time": "2022-08-17T15:24:27.132Z"
   },
   {
    "duration": 3,
    "start_time": "2022-08-17T15:24:27.291Z"
   },
   {
    "duration": 61,
    "start_time": "2022-08-17T15:24:27.296Z"
   },
   {
    "duration": 126,
    "start_time": "2022-08-17T15:24:27.359Z"
   },
   {
    "duration": 48,
    "start_time": "2022-08-17T15:24:27.487Z"
   },
   {
    "duration": 22,
    "start_time": "2022-08-17T15:24:27.536Z"
   },
   {
    "duration": 25,
    "start_time": "2022-08-17T15:24:27.559Z"
   },
   {
    "duration": 403,
    "start_time": "2022-08-17T15:24:27.585Z"
   },
   {
    "duration": 5,
    "start_time": "2022-08-17T15:24:27.990Z"
   },
   {
    "duration": 19,
    "start_time": "2022-08-17T15:24:27.997Z"
   },
   {
    "duration": 58,
    "start_time": "2022-08-17T15:24:28.018Z"
   },
   {
    "duration": 7,
    "start_time": "2022-08-17T15:24:28.078Z"
   },
   {
    "duration": 25,
    "start_time": "2022-08-17T15:24:28.087Z"
   },
   {
    "duration": 12,
    "start_time": "2022-08-17T15:24:28.113Z"
   },
   {
    "duration": 101,
    "start_time": "2022-08-17T15:24:28.127Z"
   },
   {
    "duration": 46,
    "start_time": "2022-08-17T15:24:28.229Z"
   },
   {
    "duration": 37,
    "start_time": "2022-08-17T15:24:28.277Z"
   },
   {
    "duration": 35,
    "start_time": "2022-08-17T15:24:28.315Z"
   },
   {
    "duration": 3,
    "start_time": "2022-08-17T15:24:28.352Z"
   },
   {
    "duration": 9,
    "start_time": "2022-08-17T15:24:28.356Z"
   },
   {
    "duration": 6287,
    "start_time": "2022-08-17T15:24:28.366Z"
   },
   {
    "duration": 5,
    "start_time": "2022-08-17T15:24:34.657Z"
   },
   {
    "duration": 16,
    "start_time": "2022-08-17T15:24:34.663Z"
   },
   {
    "duration": 3,
    "start_time": "2022-08-17T15:24:34.681Z"
   },
   {
    "duration": 7,
    "start_time": "2022-08-17T15:24:34.710Z"
   },
   {
    "duration": 4,
    "start_time": "2022-08-17T15:24:34.718Z"
   },
   {
    "duration": 16,
    "start_time": "2022-08-17T15:24:34.724Z"
   },
   {
    "duration": 13,
    "start_time": "2022-08-17T15:24:34.742Z"
   },
   {
    "duration": 4,
    "start_time": "2022-08-17T15:24:34.756Z"
   },
   {
    "duration": 1547,
    "start_time": "2022-08-17T15:24:34.762Z"
   },
   {
    "duration": 4,
    "start_time": "2022-08-17T15:24:36.310Z"
   },
   {
    "duration": 231,
    "start_time": "2022-08-17T15:24:36.315Z"
   },
   {
    "duration": 1566,
    "start_time": "2022-08-17T15:24:36.547Z"
   },
   {
    "duration": 13,
    "start_time": "2022-08-17T15:24:38.114Z"
   },
   {
    "duration": 20,
    "start_time": "2022-08-17T15:24:38.128Z"
   },
   {
    "duration": 70,
    "start_time": "2022-08-17T15:24:38.150Z"
   },
   {
    "duration": 32,
    "start_time": "2022-08-17T15:24:38.222Z"
   },
   {
    "duration": 66,
    "start_time": "2022-08-17T15:24:38.256Z"
   },
   {
    "duration": 490,
    "start_time": "2022-08-17T15:24:38.324Z"
   },
   {
    "duration": 6,
    "start_time": "2022-08-17T15:24:38.815Z"
   },
   {
    "duration": 27,
    "start_time": "2022-08-17T15:24:38.823Z"
   },
   {
    "duration": 82,
    "start_time": "2022-08-17T15:24:38.852Z"
   },
   {
    "duration": 16,
    "start_time": "2022-08-17T15:24:38.935Z"
   },
   {
    "duration": 232,
    "start_time": "2022-08-17T15:24:38.953Z"
   },
   {
    "duration": 26,
    "start_time": "2022-08-17T15:24:39.211Z"
   },
   {
    "duration": 14,
    "start_time": "2022-08-17T15:24:39.238Z"
   },
   {
    "duration": 273,
    "start_time": "2022-08-17T15:24:39.253Z"
   },
   {
    "duration": 32,
    "start_time": "2022-08-17T15:24:39.528Z"
   },
   {
    "duration": 133,
    "start_time": "2022-08-17T15:24:39.562Z"
   },
   {
    "duration": 227,
    "start_time": "2022-08-17T15:24:39.697Z"
   },
   {
    "duration": 9,
    "start_time": "2022-08-17T15:24:39.925Z"
   },
   {
    "duration": 7,
    "start_time": "2022-08-17T15:24:39.936Z"
   },
   {
    "duration": 206,
    "start_time": "2022-08-17T15:24:39.944Z"
   },
   {
    "duration": 18,
    "start_time": "2022-08-17T15:24:40.152Z"
   },
   {
    "duration": 264,
    "start_time": "2022-08-17T15:24:40.172Z"
   },
   {
    "duration": 31,
    "start_time": "2022-08-17T15:24:40.438Z"
   },
   {
    "duration": 2188,
    "start_time": "2022-08-17T15:24:40.511Z"
   },
   {
    "duration": 6,
    "start_time": "2022-08-17T15:24:42.701Z"
   },
   {
    "duration": 309,
    "start_time": "2022-08-17T15:24:42.709Z"
   },
   {
    "duration": 2684,
    "start_time": "2022-08-17T15:29:28.501Z"
   },
   {
    "duration": 30,
    "start_time": "2022-08-17T15:29:31.187Z"
   },
   {
    "duration": 1133,
    "start_time": "2022-08-17T15:29:31.219Z"
   },
   {
    "duration": 72,
    "start_time": "2022-08-17T15:29:32.355Z"
   },
   {
    "duration": 2,
    "start_time": "2022-08-17T15:29:32.429Z"
   },
   {
    "duration": 323,
    "start_time": "2022-08-17T15:29:32.433Z"
   },
   {
    "duration": 172,
    "start_time": "2022-08-17T15:29:32.759Z"
   },
   {
    "duration": 4,
    "start_time": "2022-08-17T15:29:32.933Z"
   },
   {
    "duration": 58,
    "start_time": "2022-08-17T15:29:32.938Z"
   },
   {
    "duration": 112,
    "start_time": "2022-08-17T15:29:32.999Z"
   },
   {
    "duration": 8,
    "start_time": "2022-08-17T15:29:33.113Z"
   },
   {
    "duration": 21,
    "start_time": "2022-08-17T15:29:33.122Z"
   },
   {
    "duration": 20,
    "start_time": "2022-08-17T15:29:33.145Z"
   },
   {
    "duration": 416,
    "start_time": "2022-08-17T15:29:33.167Z"
   },
   {
    "duration": 5,
    "start_time": "2022-08-17T15:29:33.584Z"
   },
   {
    "duration": 10,
    "start_time": "2022-08-17T15:29:33.590Z"
   },
   {
    "duration": 46,
    "start_time": "2022-08-17T15:29:33.601Z"
   },
   {
    "duration": 8,
    "start_time": "2022-08-17T15:29:33.648Z"
   },
   {
    "duration": 11,
    "start_time": "2022-08-17T15:29:33.658Z"
   },
   {
    "duration": 7,
    "start_time": "2022-08-17T15:29:33.671Z"
   },
   {
    "duration": 101,
    "start_time": "2022-08-17T15:29:33.680Z"
   },
   {
    "duration": 54,
    "start_time": "2022-08-17T15:29:33.783Z"
   },
   {
    "duration": 17,
    "start_time": "2022-08-17T15:29:33.839Z"
   },
   {
    "duration": 33,
    "start_time": "2022-08-17T15:29:33.857Z"
   },
   {
    "duration": 3,
    "start_time": "2022-08-17T15:29:33.891Z"
   },
   {
    "duration": 11,
    "start_time": "2022-08-17T15:29:33.911Z"
   },
   {
    "duration": 6222,
    "start_time": "2022-08-17T15:29:33.923Z"
   },
   {
    "duration": 5,
    "start_time": "2022-08-17T15:29:40.149Z"
   },
   {
    "duration": 28,
    "start_time": "2022-08-17T15:29:40.155Z"
   },
   {
    "duration": 20,
    "start_time": "2022-08-17T15:29:40.185Z"
   },
   {
    "duration": 11,
    "start_time": "2022-08-17T15:29:40.207Z"
   },
   {
    "duration": 17,
    "start_time": "2022-08-17T15:29:40.220Z"
   },
   {
    "duration": 42,
    "start_time": "2022-08-17T15:29:40.239Z"
   },
   {
    "duration": 19,
    "start_time": "2022-08-17T15:29:40.283Z"
   },
   {
    "duration": 15,
    "start_time": "2022-08-17T15:29:40.303Z"
   },
   {
    "duration": 1534,
    "start_time": "2022-08-17T15:29:40.320Z"
   },
   {
    "duration": 4,
    "start_time": "2022-08-17T15:29:41.856Z"
   },
   {
    "duration": 286,
    "start_time": "2022-08-17T15:29:41.862Z"
   },
   {
    "duration": 1690,
    "start_time": "2022-08-17T15:29:42.149Z"
   },
   {
    "duration": 14,
    "start_time": "2022-08-17T15:29:43.841Z"
   },
   {
    "duration": 17,
    "start_time": "2022-08-17T15:29:43.912Z"
   },
   {
    "duration": 14,
    "start_time": "2022-08-17T15:29:43.931Z"
   },
   {
    "duration": 80,
    "start_time": "2022-08-17T15:29:43.946Z"
   },
   {
    "duration": 10,
    "start_time": "2022-08-17T15:29:44.028Z"
   },
   {
    "duration": 386,
    "start_time": "2022-08-17T15:29:44.039Z"
   },
   {
    "duration": 5,
    "start_time": "2022-08-17T15:29:44.427Z"
   },
   {
    "duration": 28,
    "start_time": "2022-08-17T15:29:44.434Z"
   },
   {
    "duration": 49,
    "start_time": "2022-08-17T15:29:44.464Z"
   },
   {
    "duration": 14,
    "start_time": "2022-08-17T15:29:44.515Z"
   },
   {
    "duration": 211,
    "start_time": "2022-08-17T15:29:44.531Z"
   },
   {
    "duration": 26,
    "start_time": "2022-08-17T15:29:44.744Z"
   },
   {
    "duration": 51,
    "start_time": "2022-08-17T15:29:44.771Z"
   },
   {
    "duration": 219,
    "start_time": "2022-08-17T15:29:44.824Z"
   },
   {
    "duration": 69,
    "start_time": "2022-08-17T15:29:45.045Z"
   },
   {
    "duration": 68,
    "start_time": "2022-08-17T15:29:45.116Z"
   },
   {
    "duration": 184,
    "start_time": "2022-08-17T15:29:45.186Z"
   },
   {
    "duration": 39,
    "start_time": "2022-08-17T15:29:45.372Z"
   },
   {
    "duration": 7,
    "start_time": "2022-08-17T15:29:45.412Z"
   },
   {
    "duration": 175,
    "start_time": "2022-08-17T15:29:45.420Z"
   },
   {
    "duration": 21,
    "start_time": "2022-08-17T15:29:45.597Z"
   },
   {
    "duration": 204,
    "start_time": "2022-08-17T15:29:45.619Z"
   },
   {
    "duration": 28,
    "start_time": "2022-08-17T15:29:45.824Z"
   },
   {
    "duration": 2158,
    "start_time": "2022-08-17T15:29:45.854Z"
   },
   {
    "duration": 6,
    "start_time": "2022-08-17T15:29:48.013Z"
   },
   {
    "duration": 272,
    "start_time": "2022-08-17T15:29:48.020Z"
   },
   {
    "duration": 2531,
    "start_time": "2022-08-17T15:30:24.656Z"
   },
   {
    "duration": 24,
    "start_time": "2022-08-17T15:30:27.190Z"
   },
   {
    "duration": 1114,
    "start_time": "2022-08-17T15:30:27.216Z"
   },
   {
    "duration": 46,
    "start_time": "2022-08-17T15:30:28.332Z"
   },
   {
    "duration": 3,
    "start_time": "2022-08-17T15:30:28.379Z"
   },
   {
    "duration": 285,
    "start_time": "2022-08-17T15:30:28.384Z"
   },
   {
    "duration": 171,
    "start_time": "2022-08-17T15:30:28.671Z"
   },
   {
    "duration": 4,
    "start_time": "2022-08-17T15:30:28.844Z"
   },
   {
    "duration": 62,
    "start_time": "2022-08-17T15:30:28.849Z"
   },
   {
    "duration": 104,
    "start_time": "2022-08-17T15:30:28.914Z"
   },
   {
    "duration": 6,
    "start_time": "2022-08-17T15:30:29.020Z"
   },
   {
    "duration": 16,
    "start_time": "2022-08-17T15:30:29.028Z"
   },
   {
    "duration": 18,
    "start_time": "2022-08-17T15:30:29.045Z"
   },
   {
    "duration": 419,
    "start_time": "2022-08-17T15:30:29.065Z"
   },
   {
    "duration": 5,
    "start_time": "2022-08-17T15:30:29.486Z"
   },
   {
    "duration": 9,
    "start_time": "2022-08-17T15:30:29.492Z"
   },
   {
    "duration": 42,
    "start_time": "2022-08-17T15:30:29.511Z"
   },
   {
    "duration": 7,
    "start_time": "2022-08-17T15:30:29.555Z"
   },
   {
    "duration": 12,
    "start_time": "2022-08-17T15:30:29.564Z"
   },
   {
    "duration": 32,
    "start_time": "2022-08-17T15:30:29.578Z"
   },
   {
    "duration": 80,
    "start_time": "2022-08-17T15:30:29.612Z"
   },
   {
    "duration": 51,
    "start_time": "2022-08-17T15:30:29.693Z"
   },
   {
    "duration": 17,
    "start_time": "2022-08-17T15:30:29.746Z"
   },
   {
    "duration": 48,
    "start_time": "2022-08-17T15:30:29.764Z"
   },
   {
    "duration": 3,
    "start_time": "2022-08-17T15:30:29.813Z"
   },
   {
    "duration": 8,
    "start_time": "2022-08-17T15:30:29.817Z"
   },
   {
    "duration": 6375,
    "start_time": "2022-08-17T15:30:29.827Z"
   },
   {
    "duration": 5,
    "start_time": "2022-08-17T15:30:36.211Z"
   },
   {
    "duration": 16,
    "start_time": "2022-08-17T15:30:36.218Z"
   },
   {
    "duration": 3,
    "start_time": "2022-08-17T15:30:36.236Z"
   },
   {
    "duration": 8,
    "start_time": "2022-08-17T15:30:36.241Z"
   },
   {
    "duration": 5,
    "start_time": "2022-08-17T15:30:36.251Z"
   },
   {
    "duration": 12,
    "start_time": "2022-08-17T15:30:36.258Z"
   },
   {
    "duration": 44,
    "start_time": "2022-08-17T15:30:36.272Z"
   },
   {
    "duration": 4,
    "start_time": "2022-08-17T15:30:36.318Z"
   },
   {
    "duration": 1537,
    "start_time": "2022-08-17T15:30:36.324Z"
   },
   {
    "duration": 4,
    "start_time": "2022-08-17T15:30:37.863Z"
   },
   {
    "duration": 253,
    "start_time": "2022-08-17T15:30:37.869Z"
   },
   {
    "duration": 1796,
    "start_time": "2022-08-17T15:30:38.124Z"
   },
   {
    "duration": 15,
    "start_time": "2022-08-17T15:30:39.921Z"
   },
   {
    "duration": 76,
    "start_time": "2022-08-17T15:30:39.937Z"
   },
   {
    "duration": 16,
    "start_time": "2022-08-17T15:30:40.014Z"
   },
   {
    "duration": 23,
    "start_time": "2022-08-17T15:30:40.031Z"
   },
   {
    "duration": 9,
    "start_time": "2022-08-17T15:30:40.112Z"
   },
   {
    "duration": 430,
    "start_time": "2022-08-17T15:30:40.123Z"
   },
   {
    "duration": 8,
    "start_time": "2022-08-17T15:30:40.554Z"
   },
   {
    "duration": 49,
    "start_time": "2022-08-17T15:30:40.563Z"
   },
   {
    "duration": 35,
    "start_time": "2022-08-17T15:30:40.614Z"
   },
   {
    "duration": 15,
    "start_time": "2022-08-17T15:30:40.650Z"
   },
   {
    "duration": 223,
    "start_time": "2022-08-17T15:30:40.666Z"
   },
   {
    "duration": 43,
    "start_time": "2022-08-17T15:30:40.891Z"
   },
   {
    "duration": 14,
    "start_time": "2022-08-17T15:30:40.935Z"
   },
   {
    "duration": 229,
    "start_time": "2022-08-17T15:30:40.950Z"
   },
   {
    "duration": 54,
    "start_time": "2022-08-17T15:30:41.181Z"
   },
   {
    "duration": 107,
    "start_time": "2022-08-17T15:30:41.237Z"
   },
   {
    "duration": 215,
    "start_time": "2022-08-17T15:30:41.346Z"
   },
   {
    "duration": 51,
    "start_time": "2022-08-17T15:30:41.562Z"
   },
   {
    "duration": 4,
    "start_time": "2022-08-17T15:30:41.615Z"
   },
   {
    "duration": 172,
    "start_time": "2022-08-17T15:30:41.621Z"
   },
   {
    "duration": 17,
    "start_time": "2022-08-17T15:30:41.794Z"
   },
   {
    "duration": 215,
    "start_time": "2022-08-17T15:30:41.813Z"
   },
   {
    "duration": 28,
    "start_time": "2022-08-17T15:30:42.030Z"
   },
   {
    "duration": 2242,
    "start_time": "2022-08-17T15:30:42.059Z"
   },
   {
    "duration": 8,
    "start_time": "2022-08-17T15:30:44.302Z"
   },
   {
    "duration": 268,
    "start_time": "2022-08-17T15:30:44.312Z"
   },
   {
    "duration": 14,
    "start_time": "2022-08-17T15:46:18.441Z"
   },
   {
    "duration": 13,
    "start_time": "2022-08-17T15:46:58.184Z"
   },
   {
    "duration": 14,
    "start_time": "2022-08-17T15:48:18.478Z"
   },
   {
    "duration": 800,
    "start_time": "2022-08-17T15:48:23.686Z"
   }
  ],
  "hide_input": false,
  "kernelspec": {
   "display_name": "Python 3 (ipykernel)",
   "language": "python",
   "name": "python3"
  },
  "language_info": {
   "codemirror_mode": {
    "name": "ipython",
    "version": 3
   },
   "file_extension": ".py",
   "mimetype": "text/x-python",
   "name": "python",
   "nbconvert_exporter": "python",
   "pygments_lexer": "ipython3",
   "version": "3.9.13"
  },
  "toc": {
   "base_numbering": 1,
   "nav_menu": {},
   "number_sections": false,
   "sideBar": true,
   "skip_h1_title": false,
   "title_cell": "Table of Contents",
   "title_sidebar": "Contents",
   "toc_cell": false,
   "toc_position": {
    "height": "calc(100% - 180px)",
    "left": "10px",
    "top": "150px",
    "width": "270.390625px"
   },
   "toc_section_display": true,
   "toc_window_display": false
  },
  "varInspector": {
   "cols": {
    "lenName": "40",
    "lenType": 16,
    "lenVar": "16"
   },
   "kernels_config": {
    "python": {
     "delete_cmd_postfix": "",
     "delete_cmd_prefix": "del ",
     "library": "var_list.py",
     "varRefreshCmd": "print(var_dic_list())"
    },
    "r": {
     "delete_cmd_postfix": ") ",
     "delete_cmd_prefix": "rm(",
     "library": "var_list.r",
     "varRefreshCmd": "cat(var_dic_list()) "
    }
   },
   "types_to_exclude": [
    "module",
    "function",
    "builtin_function_or_method",
    "instance",
    "_Feature"
   ],
   "window_display": false
  }
 },
 "nbformat": 4,
 "nbformat_minor": 5
}
